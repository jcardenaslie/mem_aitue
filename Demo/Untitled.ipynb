{
 "cells": [
  {
   "cell_type": "code",
   "execution_count": 1,
   "metadata": {
    "collapsed": true
   },
   "outputs": [],
   "source": [
    "import os\n",
    "import unittest\n",
    "from appium import webdriver\n",
    "from time import sleep\n",
    " "
   ]
  },
  {
   "cell_type": "code",
   "execution_count": 55,
   "metadata": {
    "collapsed": true
   },
   "outputs": [],
   "source": [
    "log = []\n",
    "size = -99"
   ]
  },
  {
   "cell_type": "code",
   "execution_count": 90,
   "metadata": {},
   "outputs": [
    {
     "name": "stderr",
     "output_type": "stream",
     "text": [
      "test_single_player_mode (__main__.ChessAndroidTests) ... ERROR\n",
      "\n",
      "======================================================================\n",
      "ERROR: test_single_player_mode (__main__.ChessAndroidTests)\n",
      "----------------------------------------------------------------------\n",
      "Traceback (most recent call last):\n",
      "  File \"<ipython-input-90-a5387cbed8fa>\", line 24, in test_single_player_mode\n",
      "    rankings = self.driver.find_element_by_android_uiautomator('new UiSelector().text(\"Certificados\")')\n",
      "  File \"C:\\Users\\joaquin\\Anaconda3\\lib\\site-packages\\appium\\webdriver\\webdriver.py\", line 156, in find_element_by_android_uiautomator\n",
      "    return self.find_element(by=By.ANDROID_UIAUTOMATOR, value=uia_string)\n",
      "  File \"C:\\Users\\joaquin\\Anaconda3\\lib\\site-packages\\selenium\\webdriver\\remote\\webdriver.py\", line 957, in find_element\n",
      "    'value': value})['value']\n",
      "  File \"C:\\Users\\joaquin\\Anaconda3\\lib\\site-packages\\selenium\\webdriver\\remote\\webdriver.py\", line 314, in execute\n",
      "    self.error_handler.check_response(response)\n",
      "  File \"C:\\Users\\joaquin\\Anaconda3\\lib\\site-packages\\appium\\webdriver\\errorhandler.py\", line 29, in check_response\n",
      "    raise wde\n",
      "  File \"C:\\Users\\joaquin\\Anaconda3\\lib\\site-packages\\appium\\webdriver\\errorhandler.py\", line 24, in check_response\n",
      "    super(MobileErrorHandler, self).check_response(response)\n",
      "  File \"C:\\Users\\joaquin\\Anaconda3\\lib\\site-packages\\selenium\\webdriver\\remote\\errorhandler.py\", line 242, in check_response\n",
      "    raise exception_class(message, screen, stacktrace)\n",
      "selenium.common.exceptions.NoSuchElementException: Message: An element could not be located on the page using the given search parameters.\n",
      "\n",
      "\n",
      "----------------------------------------------------------------------\n",
      "Ran 1 test in 11.566s\n",
      "\n",
      "FAILED (errors=1)\n"
     ]
    }
   ],
   "source": [
    "\n",
    "class ChessAndroidTests(unittest.TestCase):\n",
    "    \"Class to run tests against the Chess Free app\"\n",
    "    def setUp(self):\n",
    "        \"Setup for the test\"\n",
    "        desired_caps = {}\n",
    "        desired_caps['platformName'] = 'Android'\n",
    "#         desired_caps['autoWebview'] = True\n",
    "        desired_caps['platformVersion'] = '8.0'\n",
    "        desired_caps['deviceName'] = 'Nexus_5X_API_26'\n",
    "        # Returns abs path relative to this file and not cwd\n",
    "#         desired_caps['app'] = 'C:/Users/joaquin/Desktop/mem_aitue/Demo/CD_v1.0.5.apk'\n",
    "#         desired_caps['app'] = os.path.abspath(os.path.join(os.path.dirname(__file__),'apps/Chess Free.apk'))\n",
    "        desired_caps['appPackage'] = 'civildigitalapp.srcei.cl'\n",
    "        desired_caps['appActivity'] = '.MainActivity'\n",
    "        self.driver = webdriver.Remote('http://localhost:4723/wd/hub', desired_caps)\n",
    " \n",
    "    def tearDown(self):\n",
    "        \"Tear down the test\"\n",
    "        self.driver.quit()\n",
    "\n",
    "    def test_single_player_mode(self):\n",
    "        \n",
    "        rankings = self.driver.find_element_by_android_uiautomator('new UiSelector().text(\"Certificados\")')\n",
    "        rankings.click()\n",
    "        \n",
    "#---START OF SCRIPT\n",
    "if __name__ == '__main__':\n",
    "    suite = unittest.TestLoader().loadTestsFromTestCase(ChessAndroidTests)\n",
    "    unittest.TextTestRunner(verbosity=2).run(suite)"
   ]
  },
  {
   "cell_type": "code",
   "execution_count": 57,
   "metadata": {},
   "outputs": [
    {
     "data": {
      "text/plain": [
       "-99"
      ]
     },
     "execution_count": 57,
     "metadata": {},
     "output_type": "execute_result"
    }
   ],
   "source": [
    "size"
   ]
  },
  {
   "cell_type": "code",
   "execution_count": 61,
   "metadata": {},
   "outputs": [
    {
     "name": "stderr",
     "output_type": "stream",
     "text": [
      "test_atp_wta (__main__.Android_ATP_WTA)\n",
      "Testing the ATP WTA app ... FAIL\n",
      "\n",
      "======================================================================\n",
      "FAIL: test_atp_wta (__main__.Android_ATP_WTA)\n",
      "Testing the ATP WTA app\n",
      "----------------------------------------------------------------------\n",
      "Traceback (most recent call last):\n",
      "  File \"<ipython-input-61-31265932f1b1>\", line 43, in test_atp_wta\n",
      "    self.assertEqual('Novak Djokovic', elmnt.get_attribute('text'))\n",
      "AssertionError: 'Novak Djokovic' != 'Rafael Nadal'\n",
      "- Novak Djokovic\n",
      "+ Rafael Nadal\n",
      "\n",
      "\n",
      "----------------------------------------------------------------------\n",
      "Ran 1 test in 18.401s\n",
      "\n",
      "FAILED (failures=1)\n"
     ]
    }
   ],
   "source": [
    "import unittest, time, os\n",
    "from appium import webdriver\n",
    "from time import sleep\n",
    " \n",
    "class Android_ATP_WTA(unittest.TestCase):\n",
    "    \"Class to run tests against the ATP WTA app\"\n",
    "    def setUp(self):\n",
    "        \"Setup for the test\"\n",
    "        desired_caps = {}\n",
    "        desired_caps['platformName'] = 'Android'\n",
    "        desired_caps['platformVersion'] = '8.0'\n",
    "        desired_caps['deviceName'] = 'Nexus_5X_API_26'\n",
    "        # Since the app is already installed launching it using package and activity name\n",
    "        desired_caps['appPackage'] = 'atpwta.live'\n",
    "        desired_caps['appActivity'] = '.activity.Main'\n",
    "        # Adding appWait Activity since the activity name changes as the focus shifts to the ATP WTA app's first page\n",
    "        desired_caps['appWaitActivity'] = '.activity.root.TournamentList'\n",
    "        self.driver = webdriver.Remote('http://localhost:4723/wd/hub', desired_caps)\n",
    " \n",
    "    def tearDown(self):\n",
    "        \"Tear down the test\"\n",
    "        self.driver.quit()\n",
    " \n",
    "    def test_atp_wta(self):\n",
    "        \"Testing the ATP WTA app \"\n",
    "        self.driver.implicitly_wait(30)\n",
    "        time.sleep(5)\n",
    " \n",
    "        # click on Navigation Bar MainMenu by finding element by xpath\n",
    "        menubar = self.driver.find_element_by_xpath(\"//android.widget.Spinner[@resource-id='atpwta.live:id/NavBarMainMenuSpinner']\")\n",
    "        menubar.click()\n",
    " \n",
    "        # From list of options available click on Rankings by finding element using uiautomator\n",
    "        rankings = self.driver.find_element_by_android_uiautomator('new UiSelector().text(\"Rankings\")')\n",
    "        rankings.click()\n",
    " \n",
    "        # click on ATP Singles by finding element using id\n",
    "        singles = self.driver.find_element_by_id('atpwta.live:id/RankingsListItem')\n",
    "        singles.click()\n",
    " \n",
    "        # Assert that Novak Djokovic is the top listed player\n",
    "        elmnt = self.driver.find_element_by_id('atpwta.live:id/Player1TV')\n",
    "        self.assertEqual('Novak Djokovic', elmnt.get_attribute('text'))\n",
    "        print(elmnt.get_attribute('text'))\n",
    " \n",
    "        elmnt = self.driver.find_element_by_xpath(\"//android.widget.LinearLayout[@index=0]\")\n",
    "        elmnt.click()\n",
    " \n",
    "        # Print the contents of Table listed for the top ranked player\n",
    "        table = self.driver.find_element_by_android_uiautomator(\"new UiSelector().className(android.widget.TableLayout)\")\n",
    "        rows = table.find_elements_by_class_name('android.widget.TableRow')\n",
    "        for i in range(0, len(rows)):\n",
    "            cols = rows[i].find_elements_by_class_name('android.widget.TextView')\n",
    "            for j in range(0, len(cols)):\n",
    "                print(cols[j].get_attribute('text')+\" -- \"),\n",
    "            print(\"\")\n",
    " \n",
    " \n",
    "#---START OF SCRIPT\n",
    "if __name__ == '__main__':\n",
    "    suite = unittest.TestLoader().loadTestsFromTestCase(Android_ATP_WTA)\n",
    "    unittest.TextTestRunner(verbosity=2).run(suite)"
   ]
  },
  {
   "cell_type": "code",
   "execution_count": 77,
   "metadata": {},
   "outputs": [
    {
     "name": "stderr",
     "output_type": "stream",
     "text": [
      "test_single_player_mode (__main__.ChessAndroidTests)\n",
      "Test the Chess app launches correctly and click on Play button ... ok\n",
      "\n",
      "----------------------------------------------------------------------\n",
      "Ran 1 test in 19.298s\n",
      "\n",
      "OK\n"
     ]
    }
   ],
   "source": [
    " \n",
    "import os\n",
    "import unittest\n",
    "from appium import webdriver\n",
    "from time import sleep\n",
    " \n",
    "class ChessAndroidTests(unittest.TestCase):\n",
    "    \"Class to run tests against the Chess Free app\"\n",
    "    def setUp(self):\n",
    "        \"Setup for the test\"\n",
    "        desired_caps = {}\n",
    "        desired_caps['platformName'] = 'Android'\n",
    "        desired_caps['platformVersion'] = '8.0'\n",
    "        desired_caps['deviceName'] = 'Pixel'\n",
    "        # Returns abs path relative to this file and not cwd\n",
    "        desired_caps['app'] = 'C:/Users/joaquin/Desktop/mem_aitue/Demo/ChessFree.apk'\n",
    "        desired_caps['appPackage'] = 'uk.co.aifactory.chessfree'\n",
    "        desired_caps['appActivity'] = '.ChessFreeActivity'\n",
    "        self.driver = webdriver.Remote('http://localhost:4723/wd/hub', desired_caps)\n",
    " \n",
    "    def tearDown(self):\n",
    "        \"Tear down the test\"\n",
    "        self.driver.quit()\n",
    " \n",
    "    def test_single_player_mode(self):\n",
    "        \"Test the Chess app launches correctly and click on Play button\"\n",
    "        \n",
    "        element = self.driver.find_element_by_id(\"uk.co.aifactory.chessfree:id/YesButton\")\n",
    "        element.click()\n",
    "        \n",
    "        element = self.driver.find_element_by_id(\"uk.co.aifactory.chessfree:id/ButtonPlay\")\n",
    "        element.click()\n",
    "        sleep(5)\n",
    " \n",
    "#---START OF SCRIPT\n",
    "if __name__ == '__main__':\n",
    "    suite = unittest.TestLoader().loadTestsFromTestCase(ChessAndroidTests)\n",
    "    unittest.TextTestRunner(verbosity=2).run(suite)\n"
   ]
  },
  {
   "cell_type": "code",
   "execution_count": 37,
   "metadata": {},
   "outputs": [
    {
     "data": {
      "text/plain": [
       "[]"
      ]
     },
     "execution_count": 37,
     "metadata": {},
     "output_type": "execute_result"
    }
   ],
   "source": [
    "log"
   ]
  }
 ],
 "metadata": {
  "kernelspec": {
   "display_name": "Python 3",
   "language": "python",
   "name": "python3"
  },
  "language_info": {
   "codemirror_mode": {
    "name": "ipython",
    "version": 3
   },
   "file_extension": ".py",
   "mimetype": "text/x-python",
   "name": "python",
   "nbconvert_exporter": "python",
   "pygments_lexer": "ipython3",
   "version": "3.6.3"
  }
 },
 "nbformat": 4,
 "nbformat_minor": 2
}
