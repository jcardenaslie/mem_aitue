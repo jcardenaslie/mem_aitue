{
 "cells": [
  {
   "cell_type": "code",
   "execution_count": 1,
   "metadata": {},
   "outputs": [],
   "source": [
    "import pandas as pd"
   ]
  },
  {
   "cell_type": "code",
   "execution_count": 2,
   "metadata": {},
   "outputs": [],
   "source": [
    "data_directory = \"C:/Users/jquin/Desktop/Memoria de Titulo/Aitue/Datos/\""
   ]
  },
  {
   "cell_type": "markdown",
   "metadata": {},
   "source": [
    "# 1.Select Data"
   ]
  },
  {
   "cell_type": "code",
   "execution_count": 3,
   "metadata": {},
   "outputs": [],
   "source": [
    "cot_all = pd.read_excel(data_directory+\"cotizaciones_all.xlsx\")\n",
    "neg_all = pd.read_excel(data_directory+\"negocios_all.xlsx\")"
   ]
  },
  {
   "cell_type": "code",
   "execution_count": 4,
   "metadata": {},
   "outputs": [
    {
     "data": {
      "text/plain": [
       "Index(['ID', 'Fecha Cotizacion', 'Medio', 'Tipo de Medio', 'Proyecto', 'Etapa',\n",
       "       'Productos', 'Presencial', 'Remoto', 'Jefe Comercial',\n",
       "       'Ejecutivo Comercial', 'Total Productos', 'Descuentos',\n",
       "       'Valor Final Venta', 'RUT', 'Nombre', 'Apellido 1', 'Apellido 2',\n",
       "       'Nombre Completo', 'Telefono', 'Celular', 'Direccion', 'Region',\n",
       "       'Provincia', 'Comuna', 'Correo Electronico', 'Sexo', 'Estado Civil',\n",
       "       'Rango Edad', 'Fecha Nacimiento', 'Profesion'],\n",
       "      dtype='object')"
      ]
     },
     "execution_count": 4,
     "metadata": {},
     "output_type": "execute_result"
    }
   ],
   "source": [
    "cot_all.columns"
   ]
  },
  {
   "cell_type": "code",
   "execution_count": 5,
   "metadata": {},
   "outputs": [],
   "source": [
    "s_columns = ['ID', 'Fecha Cotizacion', 'Medio', 'Tipo de Medio', 'Proyecto', 'Etapa','Productos', 'Presencial',\n",
    "             'Remoto', 'Total Productos','Descuentos','Valor Final Venta', 'RUT', 'Nombre', 'Apellido 1', 'Apellido 2',\n",
    "             'Nombre Completo', 'Telefono', 'Celular', 'Direccion', 'Region','Provincia', 'Comuna', \n",
    "             'Correo Electronico', 'Sexo', 'Estado Civil','Rango Edad', 'Fecha Nacimiento', 'Profesion']\n",
    "cot_all = cot_all[s_columns]"
   ]
  },
  {
   "cell_type": "markdown",
   "metadata": {},
   "source": [
    "# 2.Clean Data"
   ]
  },
  {
   "cell_type": "code",
   "execution_count": 6,
   "metadata": {},
   "outputs": [],
   "source": [
    "# variables a impiar y chequear\n",
    "\n",
    "# Limpiar variable fecha de nacimiento de alguna manera\n",
    "# Limpiar variable Sexo usando rutificador\n",
    "# Limpar variables Direccion usando en lo posible el rutificador y otras fuentes"
   ]
  },
  {
   "cell_type": "markdown",
   "metadata": {},
   "source": [
    "# 3.Construct Data"
   ]
  },
  {
   "cell_type": "markdown",
   "metadata": {},
   "source": [
    "## 3.1 Nuevos Atributos"
   ]
  },
  {
   "cell_type": "markdown",
   "metadata": {},
   "source": [
    "### 3.1.1.Edad\n",
    "Variable construida a partir de la fecha de nacimiento"
   ]
  },
  {
   "cell_type": "code",
   "execution_count": 7,
   "metadata": {},
   "outputs": [
    {
     "data": {
      "text/plain": [
       "16238"
      ]
     },
     "execution_count": 7,
     "metadata": {},
     "output_type": "execute_result"
    }
   ],
   "source": [
    "# Construir variable 'Edad' a partir de fecha de Nacimiento\n",
    "import datetime\n",
    "now = datetime.datetime.now().year\n",
    "\n",
    "fechas_nacimiento = pd.to_datetime(cot_all['Fecha Nacimiento']).apply(lambda x: x.date()).tolist()\n",
    "def anio_nac(x):\n",
    "    try:\n",
    "        year = int(x.year)\n",
    "        dif = now - year\n",
    "        if dif >= 18:\n",
    "            return dif\n",
    "        else:\n",
    "            return 0\n",
    "    except (ValueError,AttributeError):\n",
    "        return 0\n",
    "        \n",
    "    return r\n",
    "anio_nacimiento = [anio_nac(x) for x in fechas_nacimiento]\n",
    "anio_nacimiento\n",
    "len(anio_nacimiento)"
   ]
  },
  {
   "cell_type": "markdown",
   "metadata": {},
   "source": [
    "### 3.1.2.Descuento\n",
    "Variable que indica si el cliente recibio descuento"
   ]
  },
  {
   "cell_type": "code",
   "execution_count": 8,
   "metadata": {},
   "outputs": [],
   "source": [
    "# Construir 'descuento': binario : [True, False]\n",
    "recibio_descuento = cot_all['Descuentos'].tolist()\n",
    "\n",
    "def is_desc(x):\n",
    "    try:\n",
    "        desc = int(x)\n",
    "        if desc > 0:\n",
    "            return True\n",
    "        else:\n",
    "            return False\n",
    "    except ValueError:\n",
    "        return False\n",
    "\n",
    "descuento = [is_desc(x) for x in recibio_descuento]\n",
    "# descuento"
   ]
  },
  {
   "cell_type": "markdown",
   "metadata": {},
   "source": [
    "### 3.1.3.Cantidad de Productos"
   ]
  },
  {
   "cell_type": "code",
   "execution_count": 17,
   "metadata": {},
   "outputs": [],
   "source": [
    "# Construir 'productos': categorico : ['depto','casa','estacionamiento','bodega','Estudio']\n",
    "productos = cot_all['Productos'].tolist()\n",
    "depto = []; estacionamiento=[]; bodega = []; estudio = [];nan = 0\n",
    "def check_products(x,word,numeric=False):\n",
    "    w=0\n",
    "    try:\n",
    "        p =str(x)\n",
    "        arr_p = x.split(',')\n",
    "        for e in arr_p:\n",
    "            if word in e:\n",
    "                w+=1\n",
    "#                 print(word + \" :\",e)\n",
    "                break\n",
    "            elif numeric and ('B' not in e or 'Est' not in e):\n",
    "                try:\n",
    "                    int(e)\n",
    "#                     print(word + \" :\",e)\n",
    "                    w+=1\n",
    "                except ValueError:\n",
    "                    pass\n",
    "        return w\n",
    "    except (ValueError,AttributeError):\n",
    "        try:\n",
    "            int(x)\n",
    "            if numeric:\n",
    "                return 1\n",
    "            else:\n",
    "                return 0\n",
    "        except ValueError:\n",
    "            return 0\n",
    "\n",
    "cot_all['#vivienda'] = [check_products(x,'T',numeric=True) for x in productos]\n",
    "cot_all['#bodega'] = [check_products(x,'Bod') for x in productos]\n",
    "cot_all['#estacionamiento'] = [check_products(x,'Est') for x in productos]\n",
    "cot_all['#estudio'] = [check_products(x,'Estudio') for x in productos]\n",
    "cot_all['#lan'] = [check_products(x,'lan') for x in productos]"
   ]
  },
  {
   "cell_type": "code",
   "execution_count": 21,
   "metadata": {},
   "outputs": [
    {
     "name": "stdout",
     "output_type": "stream",
     "text": [
      "  Productos  #vivienda  #bodega  #estacionamiento  #estudio  #lan\n",
      "0    TA-103          1        0                 0         0     0\n",
      "1    TA-103          1        0                 0         0     0\n",
      "2    TA-102          1        0                 0         0     0\n",
      "3    TA-104          1        0                 0         0     0\n",
      "4    TA-103          1        0                 0         0     0\n",
      "        Productos  #vivienda  #bodega  #estacionamiento  #estudio  #lan\n",
      "2678          306          1        0                 0         0     0\n",
      "2679         1111          1        0                 0         0     0\n",
      "2680  906,Lan-906          1        0                 0         0     0\n",
      "2681          912          1        0                 0         0     0\n",
      "2682  309,Est-002          1        0                 1         0     0\n"
     ]
    }
   ],
   "source": [
    "print(cot_all[['Productos','#vivienda','#bodega','#estacionamiento','#estudio','#lan']].head())\n",
    "print(cot_all[['Productos','#vivienda','#bodega','#estacionamiento','#estudio','#lan']].tail())"
   ]
  },
  {
   "cell_type": "markdown",
   "metadata": {},
   "source": [
    "### 3.1.4.Latitud y Longitud"
   ]
  },
  {
   "cell_type": "code",
   "execution_count": null,
   "metadata": {},
   "outputs": [],
   "source": [
    "# Constuir 'latitud' a partir de 'Direccion'\n",
    "# Constuir 'longitud' a partir de 'Direccion'"
   ]
  },
  {
   "cell_type": "markdown",
   "metadata": {},
   "source": [
    "### 3.1.5.Email\n",
    "Esta variable indica si el cliente facilito el correo en alguna cotizacion"
   ]
  },
  {
   "cell_type": "code",
   "execution_count": null,
   "metadata": {},
   "outputs": [],
   "source": [
    "# Construir 'email_provided': binario : [True, False]\n",
    "\n",
    "correos_e = cot_all['Correo Electronico']\n",
    "correos = []\n",
    "\n",
    "for e in correos_e:\n",
    "    e = str(e)\n",
    "    if '@' in e or '.com' in e or '.cl' in e:\n",
    "        correos.append(True)\n",
    "    else:\n",
    "        correos.append(False)\n",
    "    \n",
    "cot_all['correo'] = correos"
   ]
  },
  {
   "cell_type": "markdown",
   "metadata": {},
   "source": [
    "### 3.1.6.Region\n",
    "Esta variable indica si el cliente facilito el correo en alguna cotizacion"
   ]
  },
  {
   "cell_type": "code",
   "execution_count": null,
   "metadata": {},
   "outputs": [],
   "source": [
    "# Construir 'region': categorico : ['Bio-Bio','Santiago','Otro']\n",
    "\n",
    "reg = cot_all['Region']\n",
    "regiones = []\n",
    "\n",
    "for r in reg:\n",
    "    if 'Bío-Bío' in r:\n",
    "        regiones.append('Bio-Bio')\n",
    "    elif 'Santiago' in r:\n",
    "        regiones.append('Santiago')\n",
    "    else:\n",
    "        regiones.append('Otro')\n",
    "        \n",
    "cot_all['region'] = regiones\n",
    "cot_all['region'].astype('category').head()"
   ]
  },
  {
   "cell_type": "markdown",
   "metadata": {},
   "source": [
    "### 3.1.7.Provincia\n",
    "Esta variable indica si el cliente facilito el correo en alguna cotizacion"
   ]
  },
  {
   "cell_type": "code",
   "execution_count": null,
   "metadata": {},
   "outputs": [],
   "source": [
    "# Construir 'provincia': categorico : ['Concepcion','Bio-Bio','Santiago','Otro']\n",
    "reg = cot_all['Provincia']\n",
    "regiones = []\n",
    "\n",
    "for r in reg:\n",
    "    if 'Concepción' in r:\n",
    "        regiones.append('Concepcion')\n",
    "    elif 'Santiago' in r:\n",
    "        regiones.append('Santiago')\n",
    "    else:\n",
    "        regiones.append('Otro')\n",
    "        \n",
    "cot_all['provincia'] = regiones\n",
    "cot_all['provincia'].astype('category').head()"
   ]
  },
  {
   "cell_type": "markdown",
   "metadata": {},
   "source": [
    "### 3.1.8.Comuna\n",
    "Esta variable indica si el cliente facilito el correo en alguna cotizacion"
   ]
  },
  {
   "cell_type": "code",
   "execution_count": null,
   "metadata": {},
   "outputs": [],
   "source": [
    "# Construir 'comuna': categorico : ['Concepcion','San Pedro','Talcahuano','Hualpen','Chiguayante','Santiago','Otro']\n",
    "reg = cot_all['Comuna']\n",
    "regiones = []\n",
    "\n",
    "for r in reg:\n",
    "    if 'Concepción' in r:\n",
    "        regiones.append('Concepcion')\n",
    "    elif 'Santiago' in r:\n",
    "        regiones.append('Santiago')\n",
    "    elif 'San Pedro de la Paz' in r:\n",
    "        regiones.append('San Pedro')\n",
    "    elif 'Talcahuano' in r:\n",
    "        regiones.append('Talcahuano')\n",
    "    elif 'Chiguayante' in r:\n",
    "        regiones.append('Chiguayante')\n",
    "    else:\n",
    "        regiones.append('Otro')\n",
    "        \n",
    "cot_all['comuna'] = regiones\n",
    "cot_all['comuna'].astype('category').head()"
   ]
  },
  {
   "cell_type": "markdown",
   "metadata": {},
   "source": [
    "### 3.1.9.Cantidad de Cotizaciones\n",
    "Esta variable indica el numero de veces que el cliente ha hecho cotizaciones"
   ]
  },
  {
   "cell_type": "code",
   "execution_count": null,
   "metadata": {},
   "outputs": [],
   "source": [
    "# Construir '#cotizaciones' a partir del nro de filas donde participa el mismo rut\n",
    "filas_ruts = []\n",
    "\n",
    "for group, frame in  cot_all.groupby('RUT'):\n",
    "    rut_count = frame['ID'].count()\n",
    "    filas_ruts.append(rut_count)\n",
    "    print(frame['Region'].tolist())"
   ]
  },
  {
   "cell_type": "markdown",
   "metadata": {},
   "source": [
    "### 3.1.10.Tiempo entre Cotizaciones\n",
    "Esta variable indica el numero de veces que el cliente ha hecho cotizaciones"
   ]
  },
  {
   "cell_type": "code",
   "execution_count": null,
   "metadata": {},
   "outputs": [],
   "source": [
    "# Construir 'promedio_de_tiempo' entre cotizacones donde participa el mismo rut"
   ]
  },
  {
   "cell_type": "markdown",
   "metadata": {},
   "source": [
    "### 3.1.11.Negocio\n",
    "Indica si el cliente siguio el proceso de cotizacion y lo transformo en un proceso de negocio"
   ]
  },
  {
   "cell_type": "code",
   "execution_count": null,
   "metadata": {},
   "outputs": [],
   "source": []
  },
  {
   "cell_type": "code",
   "execution_count": null,
   "metadata": {},
   "outputs": [],
   "source": [
    "# Construir '#Negocio' si el rut participo en la tabla Negocios. \n",
    "# ruts de los clientes en negocio\n",
    "neg_ruts = neg_all['RUT'].unique().tolist()\n",
    "\n",
    "cot_neg = cot_all.copy()\n",
    "cot_neg['Negocio'] = cot_all['RUT'].isin(neg_ruts)\n",
    "\n",
    "print(neg_all.shape[0])\n",
    "print(\"Nro Filas en cot que tienen ruts en neg :\",cot_neg.loc[cot_neg['Negocio']==True].shape[0])"
   ]
  },
  {
   "cell_type": "markdown",
   "metadata": {},
   "source": [
    "# 4.Integrate Data"
   ]
  },
  {
   "cell_type": "code",
   "execution_count": null,
   "metadata": {},
   "outputs": [],
   "source": [
    "# Transformar todo en un data set"
   ]
  },
  {
   "cell_type": "markdown",
   "metadata": {},
   "source": [
    "# 5.Format Data"
   ]
  }
 ],
 "metadata": {
  "kernelspec": {
   "display_name": "Python 3",
   "language": "python",
   "name": "python3"
  },
  "language_info": {
   "codemirror_mode": {
    "name": "ipython",
    "version": 3
   },
   "file_extension": ".py",
   "mimetype": "text/x-python",
   "name": "python",
   "nbconvert_exporter": "python",
   "pygments_lexer": "ipython3",
   "version": "3.6.4"
  }
 },
 "nbformat": 4,
 "nbformat_minor": 2
}
