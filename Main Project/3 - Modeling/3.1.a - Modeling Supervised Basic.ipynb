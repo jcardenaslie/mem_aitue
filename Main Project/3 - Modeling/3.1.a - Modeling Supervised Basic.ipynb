{
 "cells": [
  {
   "cell_type": "markdown",
   "metadata": {},
   "source": [
    "# 0 Utils"
   ]
  },
  {
   "cell_type": "code",
   "execution_count": 1,
   "metadata": {},
   "outputs": [],
   "source": [
    "import os\n",
    "import numpy as np\n",
    "import seaborn as sb\n",
    "%matplotlib inline\n",
    "sb.set()\n",
    "import matplotlib.pyplot as plt\n",
    "import pandas as pd\n",
    "import shap\n"
   ]
  },
  {
   "cell_type": "code",
   "execution_count": 2,
   "metadata": {},
   "outputs": [],
   "source": [
    "N_JOBS = -1\n",
    "RANDOM_STATE = 42"
   ]
  },
  {
   "cell_type": "markdown",
   "metadata": {},
   "source": [
    "## Experiment Setting "
   ]
  },
  {
   "cell_type": "code",
   "execution_count": 3,
   "metadata": {},
   "outputs": [],
   "source": [
    "import time\n",
    "start_time = time.time()\n"
   ]
  },
  {
   "cell_type": "code",
   "execution_count": 4,
   "metadata": {},
   "outputs": [
    {
     "name": "stdout",
     "output_type": "stream",
     "text": [
      "28\n",
      "29\n",
      "28\n",
      "31\n"
     ]
    }
   ],
   "source": [
    "predictors_set = dict()\n",
    "\n",
    "no_is =['actividad', 'loc_comuna', 'loc_provincia', 'loc_region', 'is_descuento', 'is_presencial',\n",
    "       'mean_cot_bod', 'mean_cot_depto', 'mean_cot_esta', 'mean_cot_estu', 'is_remoto',\n",
    "       'nro_cot_bod', 'nro_cot_depto', 'valid_rut',\n",
    "       'nro_cot_esta', 'nro_cot_estu', 'nro_proyectos','is_recontacto',\n",
    "       'sexo', 'tipo_cliente', 'medio_inicial',  \n",
    "        'Altos del Valle', \n",
    "        'Edificio Urban 1470',\n",
    "       'San Andres Del Valle', \n",
    "        'Edificio Mil610', \n",
    "        'Edificio Junge'\n",
    "       ]\n",
    "\n",
    "predictors_set ['no_is'] = no_is\n",
    "\n",
    "base = ['is_apellido1', 'is_appelido2', 'is_celular',\n",
    "       'is_direccion', 'is_fnac', 'is_nombre', 'is_nombrecompleto',\n",
    "       'is_nrofam', 'is_profesion', 'is_telefono',\n",
    "       'loc_comuna', 'loc_provincia', 'loc_region',\n",
    "       'mean_cot_bod', 'mean_cot_depto', 'mean_cot_esta', 'mean_cot_estu',\n",
    "       'nro_cot_bod', 'nro_cot_depto',\n",
    "       'nro_cot_esta', 'nro_cot_estu', 'nro_proyectos',\n",
    "       'sexo', 'tipo_cliente', \n",
    "        'Altos del Valle', \n",
    "#         'Edificio Urban 1470',\n",
    "       'San Andres Del Valle', \n",
    "        'Edificio Mil610', \n",
    "        'Edificio Junge']\n",
    "\n",
    "print(len(base))\n",
    "predictors_set ['base'] = base\n",
    "\n",
    "base_profesion = base[0:]\n",
    "base_profesion.append('profesion')\n",
    "print(len(base_profesion))\n",
    "predictors_set ['base_profesion'] = base_profesion\n",
    "\n",
    "base_minusisprofesion = base_profesion[0:]\n",
    "base_minusisprofesion.remove('is_profesion')\n",
    "print(len(base_minusisprofesion))\n",
    "predictors_set ['base_minusisprofesion'] = base_minusisprofesion\n",
    "\n",
    "base_medini_isrec = base_profesion[0:]\n",
    "base_medini_isrec.append('medio_inicial')\n",
    "base_medini_isrec.append('is_recontacto')\n",
    "print(len(base_medini_isrec))\n",
    "predictors_set ['base_medini_isrec'] = base_medini_isrec\n"
   ]
  },
  {
   "cell_type": "code",
   "execution_count": 5,
   "metadata": {},
   "outputs": [],
   "source": [
    "# dataset, base nro 2\n",
    "dataset_nro = 7\n",
    "experiment_nro = 1\n",
    "# 'All Proyects', 'Altos del Valle', 'Edificio Urban 1470','San Andres Del Valle', 'Edificio Mil610', 'Edificio Junge'\n",
    "proyecto_select = 'All Proyects'\n",
    "\n",
    "# base, base_profesion, base_minusisprofesion, base_medini_isrec\n",
    "use_predictors = 'no_is'\n",
    "# experimento 2 y 4 va con True\n",
    "no_nulls = False\n",
    "sesgo = False"
   ]
  },
  {
   "cell_type": "markdown",
   "metadata": {},
   "source": [
    "# 1 Load Dataset"
   ]
  },
  {
   "cell_type": "code",
   "execution_count": 6,
   "metadata": {},
   "outputs": [
    {
     "name": "stdout",
     "output_type": "stream",
     "text": [
      "(6183, 42)\n",
      "Index(['Unnamed: 0', 'actividad', 'compra', 'is_apellido1', 'is_apellido2',\n",
      "       'is_celular', 'is_descuento', 'is_direccion', 'is_fnac', 'is_nombre',\n",
      "       'is_nombrecompleto', 'is_nrofam', 'is_presencial', 'is_profesion',\n",
      "       'is_recontacto', 'is_remoto', 'is_telefono', 'loc_comuna',\n",
      "       'loc_provincia', 'loc_region', 'max_rango_edad', 'mean_cot_bod',\n",
      "       'mean_cot_depto', 'mean_cot_esta', 'mean_cot_estu', 'medio_inicial',\n",
      "       'negocio', 'nro_cot_bod', 'nro_cot_depto', 'nro_cot_esta',\n",
      "       'nro_cot_estu', 'nro_proyectos', 'profesion', 'rut', 'sexo',\n",
      "       'tipo_cliente', 'valid_rut', 'Altos del Valle', 'Edificio Urban 1470',\n",
      "       'San Andres Del Valle', 'Edificio Mil610', 'Edificio Junge'],\n",
      "      dtype='object')\n"
     ]
    }
   ],
   "source": [
    "# nombre experimento\n",
    "exp_name = \"{} {} exp\".format(proyecto_select, use_predictors)\n",
    "# eleccion dataset\n",
    "dataset = 'personas_cotizacion{}.csv'.format(dataset_nro)\n",
    "\n",
    "# DS_NAME = dataset.split('.')[0]\n",
    "DS_NAME = exp_name\n",
    "\n",
    "folder = '..\\\\results\\\\model_results\\\\{}'.format(DS_NAME)\n",
    "\n",
    "if not os.path.exists(folder):\n",
    "    os.mkdir(folder)\n",
    "\n",
    "\n",
    "personas = pd.read_csv('..\\\\..\\\\Datos\\\\experiments\\\\{}'.format(dataset), encoding = \"ISO-8859-1\")\n",
    "\n",
    "readme = dict()\n",
    "readme['experiment_name'] = DS_NAME\n",
    "readme['experiment_dataset'] = dataset\n",
    "\n",
    "print(personas.shape)\n",
    "readme['personas_shape'] = personas.shape\n",
    "# personas.head(2)\n",
    "\n",
    "print(personas.columns)\n",
    "readme['personas_columns'] = personas.columns.tolist()"
   ]
  },
  {
   "cell_type": "code",
   "execution_count": 7,
   "metadata": {},
   "outputs": [
    {
     "name": "stdout",
     "output_type": "stream",
     "text": [
      "<class 'pandas.core.frame.DataFrame'>\n",
      "RangeIndex: 6183 entries, 0 to 6182\n",
      "Data columns (total 42 columns):\n",
      "Unnamed: 0              6183 non-null int64\n",
      "actividad               6183 non-null object\n",
      "compra                  6183 non-null bool\n",
      "is_apellido1            6183 non-null bool\n",
      "is_apellido2            6183 non-null bool\n",
      "is_celular              6183 non-null bool\n",
      "is_descuento            6183 non-null bool\n",
      "is_direccion            6183 non-null bool\n",
      "is_fnac                 6183 non-null bool\n",
      "is_nombre               6183 non-null bool\n",
      "is_nombrecompleto       6183 non-null bool\n",
      "is_nrofam               6183 non-null bool\n",
      "is_presencial           6183 non-null bool\n",
      "is_profesion            6183 non-null bool\n",
      "is_recontacto           6183 non-null bool\n",
      "is_remoto               6183 non-null bool\n",
      "is_telefono             6183 non-null bool\n",
      "loc_comuna              6183 non-null object\n",
      "loc_provincia           6183 non-null object\n",
      "loc_region              6183 non-null object\n",
      "max_rango_edad          6183 non-null float64\n",
      "mean_cot_bod            6183 non-null float64\n",
      "mean_cot_depto          6183 non-null float64\n",
      "mean_cot_esta           6183 non-null float64\n",
      "mean_cot_estu           6183 non-null float64\n",
      "medio_inicial           6183 non-null object\n",
      "negocio                 6183 non-null bool\n",
      "nro_cot_bod             6183 non-null float64\n",
      "nro_cot_depto           6183 non-null float64\n",
      "nro_cot_esta            6183 non-null float64\n",
      "nro_cot_estu            6183 non-null float64\n",
      "nro_proyectos           6183 non-null float64\n",
      "profesion               6183 non-null object\n",
      "rut                     6183 non-null object\n",
      "sexo                    6183 non-null object\n",
      "tipo_cliente            6183 non-null object\n",
      "valid_rut               6183 non-null bool\n",
      "Altos del Valle         6183 non-null float64\n",
      "Edificio Urban 1470     6183 non-null float64\n",
      "San Andres Del Valle    6183 non-null float64\n",
      "Edificio Mil610         6183 non-null float64\n",
      "Edificio Junge          6183 non-null float64\n",
      "dtypes: bool(17), float64(15), int64(1), object(9)\n",
      "memory usage: 1.3+ MB\n"
     ]
    }
   ],
   "source": [
    "personas.info()"
   ]
  },
  {
   "cell_type": "code",
   "execution_count": 8,
   "metadata": {},
   "outputs": [],
   "source": [
    "personas['loc_comuna'] = personas['loc_comuna'].astype('category')\n",
    "personas['loc_provincia'] = personas['loc_provincia'].astype('category')\n",
    "personas['loc_region'] = personas['loc_region'].astype('category')\n",
    "personas['tipo_cliente'] = personas['tipo_cliente'].astype('category')\n",
    "personas['sexo'] = personas['sexo'].astype('category')\n",
    "personas.profesion.fillna('sin informacion', inplace=True)\n",
    "personas['profesion'] = personas['profesion'].astype('category')\n",
    "personas['medio_inicial'] = personas['medio_inicial'].astype('category')"
   ]
  },
  {
   "cell_type": "code",
   "execution_count": 9,
   "metadata": {},
   "outputs": [
    {
     "name": "stdout",
     "output_type": "stream",
     "text": [
      "<class 'pandas.core.frame.DataFrame'>\n",
      "RangeIndex: 6183 entries, 0 to 6182\n",
      "Data columns (total 42 columns):\n",
      "Unnamed: 0              6183 non-null int64\n",
      "actividad               6183 non-null object\n",
      "compra                  6183 non-null bool\n",
      "is_apellido1            6183 non-null bool\n",
      "is_apellido2            6183 non-null bool\n",
      "is_celular              6183 non-null bool\n",
      "is_descuento            6183 non-null bool\n",
      "is_direccion            6183 non-null bool\n",
      "is_fnac                 6183 non-null bool\n",
      "is_nombre               6183 non-null bool\n",
      "is_nombrecompleto       6183 non-null bool\n",
      "is_nrofam               6183 non-null bool\n",
      "is_presencial           6183 non-null bool\n",
      "is_profesion            6183 non-null bool\n",
      "is_recontacto           6183 non-null bool\n",
      "is_remoto               6183 non-null bool\n",
      "is_telefono             6183 non-null bool\n",
      "loc_comuna              6183 non-null category\n",
      "loc_provincia           6183 non-null category\n",
      "loc_region              6183 non-null category\n",
      "max_rango_edad          6183 non-null float64\n",
      "mean_cot_bod            6183 non-null float64\n",
      "mean_cot_depto          6183 non-null float64\n",
      "mean_cot_esta           6183 non-null float64\n",
      "mean_cot_estu           6183 non-null float64\n",
      "medio_inicial           6183 non-null category\n",
      "negocio                 6183 non-null bool\n",
      "nro_cot_bod             6183 non-null float64\n",
      "nro_cot_depto           6183 non-null float64\n",
      "nro_cot_esta            6183 non-null float64\n",
      "nro_cot_estu            6183 non-null float64\n",
      "nro_proyectos           6183 non-null float64\n",
      "profesion               6183 non-null category\n",
      "rut                     6183 non-null object\n",
      "sexo                    6183 non-null category\n",
      "tipo_cliente            6183 non-null category\n",
      "valid_rut               6183 non-null bool\n",
      "Altos del Valle         6183 non-null float64\n",
      "Edificio Urban 1470     6183 non-null float64\n",
      "San Andres Del Valle    6183 non-null float64\n",
      "Edificio Mil610         6183 non-null float64\n",
      "Edificio Junge          6183 non-null float64\n",
      "dtypes: bool(17), category(7), float64(15), int64(1), object(2)\n",
      "memory usage: 1.0+ MB\n"
     ]
    }
   ],
   "source": [
    "personas.info()"
   ]
  },
  {
   "cell_type": "code",
   "execution_count": 10,
   "metadata": {},
   "outputs": [],
   "source": [
    "# personas['negocio'] = ['negocio' if x == True else 'no negocio' for x in personas.negocio]\n",
    "# personas.negocio.unique()"
   ]
  },
  {
   "cell_type": "code",
   "execution_count": 11,
   "metadata": {},
   "outputs": [],
   "source": [
    "# tab_info=pd.DataFrame(personas.dtypes).T.rename(index={0:'column type'})\n",
    "# tab_info=tab_info.append(pd.DataFrame(personas.isnull().sum()).T.rename(index={0:'null values (nb)'}))\n",
    "# tab_info=tab_info.append(pd.DataFrame(personas.isnull().sum()/personas.shape[0]*100).T.rename(index={0:'null values (%)'}))\n",
    "# display(tab_info)"
   ]
  },
  {
   "cell_type": "code",
   "execution_count": 12,
   "metadata": {},
   "outputs": [
    {
     "data": {
      "text/plain": [
       "array([[<matplotlib.axes._subplots.AxesSubplot object at 0x0000024CFD404A90>,\n",
       "        <matplotlib.axes._subplots.AxesSubplot object at 0x0000024CFD5B9748>,\n",
       "        <matplotlib.axes._subplots.AxesSubplot object at 0x0000024CFD5F3D68>,\n",
       "        <matplotlib.axes._subplots.AxesSubplot object at 0x0000024CFD5C5828>,\n",
       "        <matplotlib.axes._subplots.AxesSubplot object at 0x0000024CFD6587B8>,\n",
       "        <matplotlib.axes._subplots.AxesSubplot object at 0x0000024CFD6587F0>],\n",
       "       [<matplotlib.axes._subplots.AxesSubplot object at 0x0000024CFD6D13C8>,\n",
       "        <matplotlib.axes._subplots.AxesSubplot object at 0x0000024CFD741F28>,\n",
       "        <matplotlib.axes._subplots.AxesSubplot object at 0x0000024CFD76FAC8>,\n",
       "        <matplotlib.axes._subplots.AxesSubplot object at 0x0000024CFD7B40B8>,\n",
       "        <matplotlib.axes._subplots.AxesSubplot object at 0x0000024CFD7E86D8>,\n",
       "        <matplotlib.axes._subplots.AxesSubplot object at 0x0000024CFD825278>],\n",
       "       [<matplotlib.axes._subplots.AxesSubplot object at 0x0000024CFD82FCC0>,\n",
       "        <matplotlib.axes._subplots.AxesSubplot object at 0x0000024CFD88D4A8>,\n",
       "        <matplotlib.axes._subplots.AxesSubplot object at 0x0000024CFD8C0AC8>,\n",
       "        <matplotlib.axes._subplots.AxesSubplot object at 0x0000024CFD8FD668>,\n",
       "        <matplotlib.axes._subplots.AxesSubplot object at 0x0000024CFD930C88>,\n",
       "        <matplotlib.axes._subplots.AxesSubplot object at 0x0000024CFD962748>],\n",
       "       [<matplotlib.axes._subplots.AxesSubplot object at 0x0000024CFD995C88>,\n",
       "        <matplotlib.axes._subplots.AxesSubplot object at 0x0000024CFD9B4828>,\n",
       "        <matplotlib.axes._subplots.AxesSubplot object at 0x0000024CFDA0D908>,\n",
       "        <matplotlib.axes._subplots.AxesSubplot object at 0x0000024CFD9A86D8>,\n",
       "        <matplotlib.axes._subplots.AxesSubplot object at 0x0000024CFDA7A128>,\n",
       "        <matplotlib.axes._subplots.AxesSubplot object at 0x0000024CFDAADC18>],\n",
       "       [<matplotlib.axes._subplots.AxesSubplot object at 0x0000024CFDAEC7B8>,\n",
       "        <matplotlib.axes._subplots.AxesSubplot object at 0x0000024CFDB10C18>,\n",
       "        <matplotlib.axes._subplots.AxesSubplot object at 0x0000024CFDB534A8>,\n",
       "        <matplotlib.axes._subplots.AxesSubplot object at 0x0000024CFDB84E48>,\n",
       "        <matplotlib.axes._subplots.AxesSubplot object at 0x0000024CFDBC34A8>,\n",
       "        <matplotlib.axes._subplots.AxesSubplot object at 0x0000024CFDBFBF28>],\n",
       "       [<matplotlib.axes._subplots.AxesSubplot object at 0x0000024CFDC2C828>,\n",
       "        <matplotlib.axes._subplots.AxesSubplot object at 0x0000024CFDC5EDD8>,\n",
       "        <matplotlib.axes._subplots.AxesSubplot object at 0x0000024CFDC86048>,\n",
       "        <matplotlib.axes._subplots.AxesSubplot object at 0x0000024CFDCD5A58>,\n",
       "        <matplotlib.axes._subplots.AxesSubplot object at 0x0000024CFDC70BE0>,\n",
       "        <matplotlib.axes._subplots.AxesSubplot object at 0x0000024CFDD43198>]],\n",
       "      dtype=object)"
      ]
     },
     "execution_count": 12,
     "metadata": {},
     "output_type": "execute_result"
    },
    {
     "data": {
      "image/png": "[encoded data removed]",
      "text/plain": [
       "<matplotlib.figure.Figure at 0x24cfd4936d8>"
      ]
     },
     "metadata": {},
     "output_type": "display_data"
    }
   ],
   "source": [
    "personas.hist(figsize=(18,16))"
   ]
  },
  {
   "cell_type": "code",
   "execution_count": 13,
   "metadata": {},
   "outputs": [],
   "source": [
    "# Ajustes especificos experimento\n",
    "# Para E5D5, E6D5 #########################################\n",
    "if proyecto_select != 'All Proyects':\n",
    "    mask = (personas[proyecto_select] > 0)\n",
    "    personas = personas[mask]\n",
    "    print(personas[mask].shape)\n",
    "    personas[mask]\n",
    "###########################################################\n",
    "\n",
    "predictors = predictors_set[use_predictors]\n",
    "\n",
    "# print(personas[personas['profesion']=='sin informacion'].shape)\n",
    "# print(personas.profesion.nunique())\n",
    "# print(personas.is_profesion.unique())\n",
    "\n",
    "# En que experimento use esto? E8D6 y E28D6\n",
    "# Se usa en los experimentos de data set limpio para evaluar con las personas que si entregaron la profesion\n",
    "# personas.replace(['sin informacion'], np.nan, inplace=True)\n",
    "# personas.dropna(inplace=True)\n",
    "if no_nulls:\n",
    "    personas.replace(['sin informacion'], np.nan, inplace=True)\n",
    "    personas.dropna(inplace=True)"
   ]
  },
  {
   "cell_type": "code",
   "execution_count": 14,
   "metadata": {},
   "outputs": [
    {
     "name": "stdout",
     "output_type": "stream",
     "text": [
      "(6183,)\n",
      "(6183, 26)\n",
      "(6183, 26)\n"
     ]
    }
   ],
   "source": [
    "# Ready Data Set\n",
    "p_negocio = personas.negocio # Target\n",
    "# personas = personas.drop(drop_columns, axis=1) # Predictors\n",
    "personas = personas[predictors]\n",
    "\n",
    "print(p_negocio.shape)\n",
    "print(personas.shape)\n",
    "readme['personas_after_drop_columns'] = personas.columns\n",
    "\n",
    "print(personas.shape)\n",
    "readme['personas_predictors_shape'] = personas.shape\n",
    "readme['personas_predictors'] = personas.columns\n",
    "\n",
    "\n",
    "personas = pd.get_dummies(personas)\n",
    "readme['personas_dummies_shape'] = personas.shape\n",
    "\n",
    "# personas.describe()"
   ]
  },
  {
   "cell_type": "markdown",
   "metadata": {},
   "source": [
    "## Correlacion "
   ]
  },
  {
   "cell_type": "code",
   "execution_count": 15,
   "metadata": {},
   "outputs": [],
   "source": [
    "# from scipy.stats.stats import pearsonr, spearmanr, kendalltau\n",
    "# corr_p = personas.corr(method='pearson')\n",
    "\n",
    "# import seaborn as sns\n",
    "# f = plt.figure(figsize=(40,20))\n",
    "# g = sns.heatmap(corr_p, annot=True).get_figure()\n",
    "# g.savefig('..\\\\img\\\\time_series_corr.png')"
   ]
  },
  {
   "cell_type": "code",
   "execution_count": 16,
   "metadata": {},
   "outputs": [],
   "source": [
    "# from sklearn.feature_selection import VarianceThreshold\n",
    "# vt = VarianceThreshold()\n",
    "# personas_vt = vt.fit_transform(personas)"
   ]
  },
  {
   "cell_type": "code",
   "execution_count": 17,
   "metadata": {},
   "outputs": [],
   "source": [
    "# print(personas_vt.shape)\n",
    "# print(vt.variances_)"
   ]
  },
  {
   "cell_type": "markdown",
   "metadata": {},
   "source": [
    "# 3 Supervised Learning: Classification"
   ]
  },
  {
   "cell_type": "markdown",
   "metadata": {},
   "source": [
    "## 3.1 Libraries"
   ]
  },
  {
   "cell_type": "code",
   "execution_count": 18,
   "metadata": {},
   "outputs": [],
   "source": [
    "from sklearn.model_selection import train_test_split\n",
    "from sklearn.neighbors import KNeighborsClassifier\n",
    "from sklearn.metrics import classification_report, confusion_matrix, roc_curve\n",
    "from sklearn.model_selection import GridSearchCV\n",
    "from sklearn.linear_model import LogisticRegression\n",
    "from scipy.stats import randint\n",
    "from sklearn.tree import DecisionTreeClassifier\n",
    "from sklearn.model_selection import RandomizedSearchCV\n",
    "from sklearn.ensemble import RandomForestClassifier\n",
    "from sklearn.metrics import roc_auc_score\n",
    "from sklearn import metrics\n",
    "from sklearn.preprocessing import MinMaxScaler"
   ]
  },
  {
   "cell_type": "markdown",
   "metadata": {},
   "source": [
    "## 3.2 Check the Dataset"
   ]
  },
  {
   "cell_type": "code",
   "execution_count": 19,
   "metadata": {
    "scrolled": true
   },
   "outputs": [
    {
     "name": "stdout",
     "output_type": "stream",
     "text": [
      "Tamaño Total:  (6183, 58)\n",
      "Personas que hicieron Negocio:  (1100,)\n",
      "Personas que no Hicieorn Negocio:  (5083,)\n"
     ]
    }
   ],
   "source": [
    "print(\"Tamaño Total: \", personas.shape)\n",
    "print(\"Personas que hicieron Negocio: \", p_negocio[p_negocio == True].shape)\n",
    "print(\"Personas que no Hicieorn Negocio: \", p_negocio[p_negocio == False].shape)\n",
    "readme['personas_negocio'] = p_negocio[p_negocio == True].shape\n",
    "readme['personas_nonegocio'] = p_negocio[p_negocio == False].shape"
   ]
  },
  {
   "cell_type": "code",
   "execution_count": 20,
   "metadata": {},
   "outputs": [],
   "source": [
    "# from sklearn.feature_selection import SelectKBest\n",
    "# from sklearn.feature_selection import chi2\n",
    "\n",
    "# transformer = SelectKBest(score_func=chi2,k=10)\n",
    "# Xt_chi2 = transformer.fit_transform(X,y)\n",
    "# print(Xt_chi2.shape)\n",
    "# print(transformer.scores_)"
   ]
  },
  {
   "cell_type": "markdown",
   "metadata": {},
   "source": [
    "## 3.3 Train & Test"
   ]
  },
  {
   "cell_type": "code",
   "execution_count": 21,
   "metadata": {},
   "outputs": [
    {
     "name": "stdout",
     "output_type": "stream",
     "text": [
      "(4328, 58) (1855, 58) (4328,) (1855,)\n"
     ]
    }
   ],
   "source": [
    "X = personas\n",
    "y = p_negocio\n",
    "\n",
    "X_train, X_test, y_train, y_test = train_test_split(X, y, test_size=0.3, random_state=RANDOM_STATE)\n",
    "print(X_train.shape, X_test.shape, y_train.shape, y_test.shape)\n",
    "readme['x_train_shape'] = X_train.shape\n",
    "readme['y_train_shape'] = y_train.shape\n",
    "readme['x_test_shape'] = X_test.shape\n",
    "readme['y_test_shape'] = y_test.shape"
   ]
  },
  {
   "cell_type": "markdown",
   "metadata": {
    "collapsed": true
   },
   "source": [
    "## 3.4 Help Functions"
   ]
  },
  {
   "cell_type": "code",
   "execution_count": 22,
   "metadata": {},
   "outputs": [],
   "source": [
    "readme['model'] = dict()"
   ]
  },
  {
   "cell_type": "code",
   "execution_count": 23,
   "metadata": {},
   "outputs": [],
   "source": [
    "roc_curves_to_plot= dict()"
   ]
  },
  {
   "cell_type": "code",
   "execution_count": 24,
   "metadata": {},
   "outputs": [],
   "source": [
    "roc_curves_to_plot[DS_NAME]= dict()"
   ]
  },
  {
   "cell_type": "code",
   "execution_count": 47,
   "metadata": {},
   "outputs": [],
   "source": [
    "import json\n",
    "def save_readme():    \n",
    "    exDict = {'readme': readme}\n",
    "    with open('..\\\\results\\\\model_results\\\\{}\\\\readme_{}.txt'.format(DS_NAME, DS_NAME), 'w') as file:\n",
    "        file.write(str(exDict))\n",
    "\n",
    "def plot_all_auc_values():\n",
    "        \n",
    "    d = dict()\n",
    "    for key in roc_curves_to_plot[DS_NAME]:\n",
    "        d[key] = roc_curves_to_plot[DS_NAME][key]['auc']\n",
    "    \n",
    "    s = [(k, d[k]) for k in sorted(d, key=d.get, reverse=True)]\n",
    "    \n",
    "    x_model = [x[0] for x in s]\n",
    "    x_value = [x[1] for x in s]\n",
    "    \n",
    "    x = np.arange(len(roc_curves_to_plot[DS_NAME].keys()))\n",
    "    \n",
    "    plt.title('{} AUC Models'.format(DS_NAME))\n",
    "    plt.xlabel('Models')\n",
    "    plt.ylabel('AUC')\n",
    "    plt.bar(x, x_value)\n",
    "    plt.xticks(x, x_model)\n",
    "    plt.savefig('..\\\\results\\\\model_results\\\\{}\\\\auc_models.png'.format(DS_NAME,DS_NAME), dpi=300)\n",
    "    plt.show()\n",
    "\n",
    "def plot_all_roc_curves():\n",
    "    \n",
    "    f = plt.figure(figsize=(12,8))\n",
    "    plt.plot([0, 1], [0, 1], 'k--')\n",
    "    \n",
    "    for key in roc_curves_to_plot[DS_NAME]:\n",
    "        plt.plot(roc_curves_to_plot[DS_NAME][key]['fpr'], roc_curves_to_plot[DS_NAME][key]['tpr']) #fpr and tpr\n",
    "    \n",
    "    legends = ['random choice']\n",
    "    legends.extend(roc_curves_to_plot[DS_NAME].keys())\n",
    "    plt.legend(legends)\n",
    "    \n",
    "    plt.xlabel('False Positive Rate')\n",
    "    plt.ylabel('True Positive Rate')\n",
    "    plt.title('{} Models ROC Curve'.format(DS_NAME))\n",
    "    plt.savefig('..\\\\results\\\\model_results\\\\{}\\\\roc_curve_all.png'.format(DS_NAME, MODEL), dpi=300)\n",
    "    plt.show()\n",
    "\n",
    "# Import necessary modules\n",
    "def roc_curve_plot(model, X_test, y_test):\n",
    "    \n",
    "    # Compute predicted probabilities: y_pred_prob\n",
    "    y_pred_prob = model.predict_proba(X_test)[:,1]\n",
    "\n",
    "    # Generate ROC curve values: fpr, tpr, thresholds\n",
    "    fpr, tpr, treshold = roc_curve(y_test, y_pred_prob)\n",
    "    \n",
    "    roc_curves_to_plot[DS_NAME][MODEL] = dict()\n",
    "    roc_curves_to_plot[DS_NAME][MODEL]['fpr'] = fpr\n",
    "    roc_curves_to_plot[DS_NAME][MODEL]['tpr'] = tpr\n",
    "    roc_curves_to_plot[DS_NAME][MODEL]['auc'] = roc_auc_score(y_test, y_pred_prob)\n",
    "    \n",
    "    # Plot ROC curve\n",
    "    plt.plot([0, 1], [0, 1], 'k--')\n",
    "    plt.plot(fpr, tpr)\n",
    "    plt.xlabel('False Positive Rate')\n",
    "    plt.ylabel('True Positive Rate')\n",
    "    plt.title('{} {} ROC Curve'.format(DS_NAME, MODEL))\n",
    "    plt.savefig('..\\\\results\\\\model_results\\\\{}\\\\{}_roc_curve.png'.format(DS_NAME, MODEL), dpi=300)\n",
    "    plt.show()\n",
    "\n",
    "def plot_confusion_matrix(model, X, y, y_pred):\n",
    "    conf_ma = confusion_matrix(y, y_pred)\n",
    "    clas_report = classification_report(y, y_pred)\n",
    "    \n",
    "    print(\"Confusion Matrix: \\n\", conf_ma)\n",
    "    readme['model'][MODEL]['conf_matrix'] = conf_ma\n",
    "    \n",
    "    print(\"Clasification Reports:\\n\",clas_report)\n",
    "    readme['model'][MODEL]['cla_report'] = clas_report\n",
    "    \n",
    "    plt.figure(figsize=(5,5))\n",
    "    \n",
    "    sb.heatmap(conf_ma, annot=True, fmt=\".0f\", linewidths=.5, square=True, cmap='Blues');\n",
    "    plt.ylabel('Actual label');\n",
    "    plt.xlabel('Predicted label');\n",
    "    title_plt = \"{} {} Conf. Matrix\".format(DS_NAME, MODEL)\n",
    "    plt.title(title_plt, size=10);\n",
    "    plt.savefig('..\\\\results\\\\model_results\\\\{}\\\\{}_confusion_matrix.png'.format(DS_NAME, MODEL), dpi=300)\n",
    "    plt.show()\n",
    "\n",
    "def plot_importance_graph(model):\n",
    "    features = personas.columns\n",
    "    \n",
    "    feature_importance = model.best_estimator_.feature_importances_ \n",
    "    fig = plt.figure(figsize=(20, 18))\n",
    "    ax = fig.add_subplot(111)\n",
    "\n",
    "    df_f = pd.DataFrame(feature_importance, columns=[\"importance\"])\n",
    "    df_f[\"labels\"] = features\n",
    "    df_f.sort_values(\"importance\", inplace=True, ascending=False)\n",
    "    display(df_f.head(5))\n",
    "\n",
    "    index = np.arange(len(feature_importance[:20]))\n",
    "    bar_width = 0.5\n",
    "    rects = plt.barh(index[:20] , df_f[\"importance\"][:20], bar_width, alpha=0.4, color='b', label='Main')\n",
    "    plt.yticks(index, df_f[\"labels\"])\n",
    "    plt.title(\"{} {} Feature Importance\".format(DS_NAME, MODEL))\n",
    "    plt.savefig('..\\\\results\\\\model_results\\\\{}\\\\{}_importance.png'.format(DS_NAME, MODEL), dpi=300)\n",
    "    plt.show()\n",
    "\n",
    "def grid_results(grid, plot_roc_curve=True):\n",
    "#     X_train, X_test, y_train, y_test = train_test_split(X, y, test_size=0.3, random_state=RANDOM_STATE)\n",
    "\n",
    "    best_model = grid.best_estimator_\n",
    "    best_score = grid.best_score\n",
    "    \n",
    "    readme['model'][MODEL]['name'] = MODEL\n",
    "    readme['model'][MODEL]['best_estimator'] = best_model\n",
    "    readme['model'][MODEL]['best_score'] = best_score\n",
    "    \n",
    "    print(\"Best score is {}\".format(grid.best_score_))\n",
    "    \n",
    "    y_pred = best_model.predict(X_test)\n",
    "    \n",
    "    # Confusion Matrix\n",
    "    plot_confusion_matrix(best_model, X_test, y_test, y_pred)\n",
    "    \n",
    "    #Update Exec Time\n",
    "    readme['time_exec'] = time.time() - start_time\n",
    "    \n",
    "    #Update README\n",
    "    save_readme()\n",
    "    \n",
    "    #ROC Curve\n",
    "    if plot_roc_curve:\n",
    "        roc_curve_plot(best_model, X_test, y_test)"
   ]
  },
  {
   "cell_type": "markdown",
   "metadata": {},
   "source": [
    "## 3.5 Models"
   ]
  },
  {
   "cell_type": "code",
   "execution_count": 39,
   "metadata": {},
   "outputs": [],
   "source": [
    "to_profit_curve = dict()"
   ]
  },
  {
   "cell_type": "code",
   "execution_count": 45,
   "metadata": {},
   "outputs": [
    {
     "name": "stdout",
     "output_type": "stream",
     "text": [
      "Accuracy: 0.798921832884097\n",
      "Confusion Matrix: \n",
      " [[1216  281]\n",
      " [  92  266]]\n",
      "Clasification Reports:\n",
      "              precision    recall  f1-score   support\n",
      "\n",
      "      False       0.93      0.81      0.87      1497\n",
      "       True       0.49      0.74      0.59       358\n",
      "\n",
      "avg / total       0.84      0.80      0.81      1855\n",
      "\n"
     ]
    },
    {
     "data": {
      "image/png": "[encoded data removed]",
      "text/plain": [
       "<matplotlib.figure.Figure at 0x24c81de3470>"
      ]
     },
     "metadata": {},
     "output_type": "display_data"
    },
    {
     "data": {
      "image/png": "[encoded data removed]",
      "text/plain": [
       "<matplotlib.figure.Figure at 0x24c816b4748>"
      ]
     },
     "metadata": {},
     "output_type": "display_data"
    },
    {
     "data": {
      "image/png": "[encoded data removed]",
      "text/plain": [
       "<matplotlib.figure.Figure at 0x24c80678128>"
      ]
     },
     "metadata": {},
     "output_type": "display_data"
    }
   ],
   "source": [
    "MODEL = 'PRT_BLR'\n",
    "readme['model'][MODEL] = dict()\n",
    "\n",
    "to_profit_curve[MODEL] = dict()\n",
    "\n",
    "from sklearn.feature_selection import SelectFromModel\n",
    "from sklearn.ensemble import RandomForestClassifier\n",
    "\n",
    "rf = RandomForestClassifier(bootstrap=True, class_weight='balanced',\n",
    "            criterion='entropy', max_depth=12, max_features=13,\n",
    "            max_leaf_nodes=None, min_impurity_decrease=0.0,\n",
    "            min_impurity_split=None, min_samples_leaf=1,\n",
    "            min_samples_split=2, min_weight_fraction_leaf=0.0,\n",
    "            n_estimators=10, n_jobs=1, oob_score=False, random_state=RANDOM_STATE,\n",
    "            verbose=0, warm_start=False)\n",
    "\n",
    "select = SelectFromModel(rf, threshold='median')\n",
    "\n",
    "select.fit(X_train, y_train)\n",
    "X_train_s = select.transform(X_train)\n",
    "\n",
    "mask = select.get_support()\n",
    "plt.matshow(mask.reshape(1,-1), cmap='gray_r')\n",
    "plt.xlabel('Index of Features')\n",
    "\n",
    "X_test_s = select.transform(X_test)\n",
    "\n",
    "log_clf = LogisticRegression(C=0.4393970560760795, class_weight='balanced', dual=False,\n",
    "          fit_intercept=True, intercept_scaling=1, max_iter=100,\n",
    "          multi_class='ovr', n_jobs=1, penalty='l2', random_state=RANDOM_STATE,\n",
    "          solver='liblinear', tol=0.0001, verbose=0, warm_start=False)\n",
    "\n",
    "to_profit_curve[MODEL]['model'] = log\n",
    "log_clf.fit(X_train_s, y_train)\n",
    "\n",
    "score = log_clf.score(X_test_s, y_test)\n",
    "print('Accuracy:', score)\n",
    "\n",
    "plot_confusion_matrix(log_clf, X_test_s, y_test, log.predict(X_test_s))\n",
    "roc_curve_plot(log_clf, X_test_s, y_test)"
   ]
  },
  {
   "cell_type": "code",
   "execution_count": 28,
   "metadata": {},
   "outputs": [
    {
     "name": "stdout",
     "output_type": "stream",
     "text": [
      "1855\n",
      "1855\n",
      "358\n",
      "1497\n"
     ]
    }
   ],
   "source": [
    "test_c = X_test.copy()\n",
    "print(test_c.shape[0])\n",
    "print(log.predict(X_test_s).shape[0])\n",
    "test_c['pred'] = log.predict(X_test_s)\n",
    "test_c['negocio'] = p_negocio\n",
    "total_neg = test_c[test_c['negocio']==True].shape[0]\n",
    "total_noneg = test_c[test_c['negocio']==False].shape[0]\n",
    "print(total_neg)\n",
    "print(total_noneg)"
   ]
  },
  {
   "cell_type": "code",
   "execution_count": 29,
   "metadata": {},
   "outputs": [
    {
     "name": "stdout",
     "output_type": "stream",
     "text": [
      "1.1173184357541899\n",
      "12.011173184357542\n",
      "18.71508379888268\n",
      "13.128491620111731\n",
      "13.40782122905028\n",
      "8.659217877094973\n",
      "8.379888268156424\n",
      "5.58659217877095\n",
      "6.145251396648044\n",
      "3.35195530726257\n",
      "1.9553072625698324\n",
      "1.9553072625698324\n",
      "0.8379888268156425\n",
      "0.8379888268156425\n",
      "1.3966480446927374\n",
      "0.27932960893854747\n",
      "0.5586592178770949\n",
      "0.27932960893854747\n",
      "0.5586592178770949\n",
      "0.0\n",
      "0.27932960893854747\n",
      "0.27932960893854747\n",
      "0.27932960893854747\n"
     ]
    }
   ],
   "source": [
    "un = test_c.nro_cot_depto.unique().tolist()\n",
    "un_sorted = sorted(un)\n",
    "percentage_pob = []\n",
    "total_pob = []\n",
    "for u in un_sorted:\n",
    "    # total de personas que cotizaron u veces\n",
    "    c = test_c[(test_c['nro_cot_depto'] == u)]['negocio'].sum()\n",
    "    #total de personas que hicieron negocio\n",
    "    d = test_c[(test_c['negocio']== True) & (test_c['nro_cot_depto']== u)]['negocio'].sum()\n",
    "    total_pob.append(c)\n",
    "    print(d/total_neg*100)\n",
    "    percentage_pob.append(d/total_neg*100)"
   ]
  },
  {
   "cell_type": "code",
   "execution_count": 30,
   "metadata": {},
   "outputs": [
    {
     "data": {
      "image/png": "[encoded data removed]",
      "text/plain": [
       "<matplotlib.figure.Figure at 0x24cfe2665c0>"
      ]
     },
     "metadata": {},
     "output_type": "display_data"
    }
   ],
   "source": [
    "import numpy as np\n",
    "import matplotlib.pyplot as plt\n",
    "\n",
    "# Create some mock data\n",
    "# t = np.arange(0.01, 10.0, 0.01)\n",
    "# data1 = np.exp(t)\n",
    "# data2 = np.sin(2 * np.pi * t)\n",
    "\n",
    "fig, ax1 = plt.subplots(figsize=(12,8))\n",
    "\n",
    "color = 'tab:blue'\n",
    "ax1.set_xlabel('Numero de cotizaciones')\n",
    "ax1.set_ylabel('cantidad personas en test')\n",
    "# ax1.plot(t, data1, color=color)\n",
    "ax1.bar(un_sorted[1:], total_pob[1:], align='center', alpha=0.5, color=color)\n",
    "# ax1.tick_params(axis='y')\n",
    "\n",
    "ax2 = ax1.twinx()  # instantiate a second axes that shares the same x-axis\n",
    "\n",
    "color = 'tab:red'\n",
    "ax2.set_ylabel('% de Negocio')  # we already handled the x-label with ax1\n",
    "ax2.plot(un_sorted[1:], percentage_pob[1:], color=color)\n",
    "# ax2.tick_params(axis='y', labelcolor=color)\n",
    "\n",
    "fig.tight_layout()  # otherwise the right y-label is slightly clipped\n",
    "plt.show()"
   ]
  },
  {
   "cell_type": "code",
   "execution_count": 31,
   "metadata": {},
   "outputs": [],
   "source": [
    "# f, ax1 = plt.subplot()\n",
    "# ax1.bar(un_sorted[1:], total_pob[1:], align='center', alpha=0.5)\n",
    "# ax2.plot(un_sorted[1:], percentage_pob[1:])\n",
    "# plt.show()"
   ]
  },
  {
   "cell_type": "code",
   "execution_count": 32,
   "metadata": {},
   "outputs": [
    {
     "data": {
      "text/plain": [
       "array([[924, 573],\n",
       "       [ 39, 319]], dtype=int64)"
      ]
     },
     "execution_count": 32,
     "metadata": {},
     "output_type": "execute_result"
    }
   ],
   "source": [
    "log.fit(X_train_s, y_train)\n",
    "# y_pred = log.predict(X_test_s)\n",
    "\n",
    "# log.fit(X_train_s, y_train)\n",
    "# predict = model.predict(X_test_s)\n",
    "predict_probabilities = log.predict_proba(X_test_s)[:,1]\n",
    "\n",
    "\n",
    "fpr, tpr, _ = roc_curve(y_test, predict_probabilities)\n",
    "\n",
    "predict_mine = np.where(predict_probabilities > 0.3, 1, 0)\n",
    "confusion_matrix(y_test, predict_mine)"
   ]
  },
  {
   "cell_type": "code",
   "execution_count": 33,
   "metadata": {},
   "outputs": [],
   "source": [
    "probs = log.predict_proba(X_test_s)\n",
    "preds = probs[:,1]\n",
    "fpr, tpr, threshold = metrics.roc_curve(y_test, preds)\n",
    "\n",
    "roc_auc = metrics.auc(fpr, tpr)\n",
    "\n",
    "bla = dict()\n",
    "bla['fpr'] = fpr\n",
    "bla['tpr'] = tpr\n",
    "\n",
    "bla['threshold'] = threshold\n",
    "# bla\n",
    "col = ['fpr', 'tpr', 'threshold']\n",
    "df = pd.DataFrame.from_records(bla, columns=col)\n",
    "# print(df.head())\n",
    "# print(df.tail(30))"
   ]
  },
  {
   "cell_type": "code",
   "execution_count": 34,
   "metadata": {},
   "outputs": [],
   "source": [
    "# import matplotlib.pyplot as plt\n",
    "# plt.title('Receiver Operating Characteristic')\n",
    "# plt.plot(fpr, tpr, 'b', label = 'AUC = %0.2f' % roc_auc)\n",
    "# plt.legend(loc = 'lower right')\n",
    "# plt.plot([0, 1], [0, 1],'r--')\n",
    "# plt.xlim([0, 1])\n",
    "# plt.ylim([0, 1])\n",
    "# plt.ylabel('True Positive Rate')\n",
    "# plt.xlabel('False Positive Rate')\n",
    "# plt.show()"
   ]
  },
  {
   "cell_type": "markdown",
   "metadata": {},
   "source": [
    "# KNeighbors"
   ]
  },
  {
   "cell_type": "code",
   "execution_count": 35,
   "metadata": {},
   "outputs": [
    {
     "data": {
      "image/png": "[encoded data removed]",
      "text/plain": [
       "<matplotlib.figure.Figure at 0x24c802c69b0>"
      ]
     },
     "metadata": {},
     "output_type": "display_data"
    }
   ],
   "source": [
    "# Setup arrays to store train and test accuracies\n",
    "neighbors = np.arange(1, 10)\n",
    "train_accuracy = np.empty(len(neighbors))\n",
    "test_accuracy = np.empty(len(neighbors))\n",
    "\n",
    "# Loop over different values of k\n",
    "for i, k in enumerate(neighbors):\n",
    "    # Setup a k-NN Classifier with k neighbors: knn\n",
    "    knn = KNeighborsClassifier(n_neighbors=k, n_jobs=N_JOBS)\n",
    "\n",
    "    # Fit the classifier to the training data\n",
    "    knn.fit(X_train,y_train)\n",
    "    \n",
    "    #Compute accuracy on the training set\n",
    "    train_accuracy[i] = knn.score(X_train, y_train)\n",
    "\n",
    "    #Compute accuracy on the testing set\n",
    "    test_accuracy[i] = knn.score(X_test, y_test)\n",
    "\n",
    "# Generate plot\n",
    "plt.title('k-NN: Varying Number of Neighbors')\n",
    "plt.plot(neighbors, test_accuracy, label = 'Testing Accuracy')\n",
    "plt.plot(neighbors, train_accuracy, label = 'Training Accuracy')\n",
    "plt.legend()\n",
    "plt.xlabel('Number of Neighbors')\n",
    "plt.ylabel('Accuracy')\n",
    "plt.show()\n"
   ]
  },
  {
   "cell_type": "markdown",
   "metadata": {},
   "source": [
    "# KNeighbors"
   ]
  },
  {
   "cell_type": "markdown",
   "metadata": {},
   "source": [
    "KNeighborsClassifier(algorithm='auto', leaf_size=30, metric='minkowski',\n",
    "           metric_params=None, n_jobs=1, n_neighbors=7, p=2,\n",
    "           weights='uniform')\n",
    "           \n",
    "KNeighborsClassifier(algorithm='auto', leaf_size=30, metric='minkowski',\n",
    "           metric_params=None, n_jobs=1, n_neighbors=5, p=2,\n",
    "           weights='uniform')"
   ]
  },
  {
   "cell_type": "code",
   "execution_count": 46,
   "metadata": {},
   "outputs": [
    {
     "name": "stdout",
     "output_type": "stream",
     "text": [
      "Best Params:  {'n_neighbors': 13}\n",
      "Best Estimator:  KNeighborsClassifier(algorithm='auto', leaf_size=30, metric='minkowski',\n",
      "           metric_params=None, n_jobs=1, n_neighbors=13, p=2,\n",
      "           weights='uniform')\n"
     ]
    },
    {
     "ename": "AttributeError",
     "evalue": "'GridSearchCV' object has no attribute 'metrics'",
     "output_type": "error",
     "traceback": [
      "\u001b[1;31m---------------------------------------------------------------------------\u001b[0m",
      "\u001b[1;31mAttributeError\u001b[0m                            Traceback (most recent call last)",
      "\u001b[1;32m<ipython-input-46-e098ad627879>\u001b[0m in \u001b[0;36m<module>\u001b[1;34m()\u001b[0m\n\u001b[0;32m     21\u001b[0m \u001b[0mprint\u001b[0m\u001b[1;33m(\u001b[0m\u001b[1;34m'Best Estimator: '\u001b[0m\u001b[1;33m,\u001b[0m \u001b[0mgrid_knn\u001b[0m\u001b[1;33m.\u001b[0m\u001b[0mbest_estimator_\u001b[0m\u001b[1;33m)\u001b[0m\u001b[1;33m\u001b[0m\u001b[0m\n\u001b[0;32m     22\u001b[0m \u001b[1;33m\u001b[0m\u001b[0m\n\u001b[1;32m---> 23\u001b[1;33m \u001b[0mprint\u001b[0m\u001b[1;33m(\u001b[0m\u001b[0mgrid_knn\u001b[0m\u001b[1;33m.\u001b[0m\u001b[0mmetrics\u001b[0m\u001b[1;33m)\u001b[0m\u001b[1;33m\u001b[0m\u001b[0m\n\u001b[0m\u001b[0;32m     24\u001b[0m \u001b[1;33m\u001b[0m\u001b[0m\n\u001b[0;32m     25\u001b[0m \u001b[1;31m# grid_results(grid_knn)\u001b[0m\u001b[1;33m\u001b[0m\u001b[1;33m\u001b[0m\u001b[0m\n",
      "\u001b[1;31mAttributeError\u001b[0m: 'GridSearchCV' object has no attribute 'metrics'"
     ]
    }
   ],
   "source": [
    "MODEL = 'KNN'\n",
    "readme['model'][MODEL] = dict()\n",
    "from sklearn.metrics import mean_squared_error\n",
    "X = MinMaxScaler().fit_transform(X)\n",
    "\n",
    "# Instantiate a k-NN classifier: knn\n",
    "knn_clf = KNeighborsClassifier()\n",
    "\n",
    "# Param Grid\n",
    "param_grid = {'n_neighbors': np.arange(1, 20)}\n",
    "\n",
    "# Stratified\n",
    "from sklearn.model_selection import GridSearchCV, StratifiedKFold\n",
    "kf = StratifiedKFold(n_splits=5, shuffle=True, random_state=RANDOM_STATE)\n",
    "\n",
    "# GridSearch\n",
    "grid_knn = GridSearchCV(knn_clf, param_grid, cv=kf, n_jobs=N_JOBS)\n",
    "grid_knn.fit(X,y)\n",
    "\n",
    "# grid_results(grid_knn)"
   ]
  },
  {
   "cell_type": "code",
   "execution_count": 54,
   "metadata": {},
   "outputs": [
    {
     "name": "stdout",
     "output_type": "stream",
     "text": [
      "<class 'function'>\n"
     ]
    }
   ],
   "source": [
    "print(type(grid_knn.scorer_))"
   ]
  },
  {
   "cell_type": "code",
   "execution_count": 38,
   "metadata": {},
   "outputs": [
    {
     "data": {
      "text/plain": [
       "0.8506738544474394"
      ]
     },
     "execution_count": 38,
     "metadata": {},
     "output_type": "execute_result"
    }
   ],
   "source": [
    "best_knn = grid_knn.best_estimator_\n",
    "best_knn.fit(X_train, y_train)\n",
    "best_knn.score(X_test, y_test)"
   ]
  },
  {
   "cell_type": "code",
   "execution_count": null,
   "metadata": {},
   "outputs": [],
   "source": []
  },
  {
   "cell_type": "markdown",
   "metadata": {},
   "source": [
    "# PCA + KNN"
   ]
  },
  {
   "cell_type": "markdown",
   "metadata": {},
   "source": [
    "TN -> 81:\n",
    "[('pca', PCA(copy=True, iterated_power='auto', n_components=9, random_state=None,\n",
    "  svd_solver='auto', tol=0.0, whiten=False)),\n",
    "('clf', KNeighborsClassifier(algorithm='auto', leaf_size=30, metric='minkowski',\n",
    "metric_params=None, n_jobs=1, n_neighbors=5, p=2, weights='uniform'))]"
   ]
  },
  {
   "cell_type": "code",
   "execution_count": null,
   "metadata": {},
   "outputs": [],
   "source": [
    "MODEL = 'PCAKNN'\n",
    "readme['model'][MODEL] = dict()\n",
    "from sklearn.pipeline import Pipeline\n",
    "from sklearn.decomposition import PCA\n",
    "from sklearn.neighbors import KNeighborsClassifier\n",
    "#from sklearn.svm import LinearSVC \n",
    "\n",
    "pipe = Pipeline([\n",
    "    ('pca', PCA()),\n",
    "    ('clf', KNeighborsClassifier()),\n",
    "])\n",
    "\n",
    "parameters = {\n",
    "    'pca__n_components': [2, 3, 4, 5, 6, 7, 8, 9],\n",
    "#     'clf__C': [1, 20],\n",
    "    }\n",
    "\n",
    "from sklearn.model_selection import GridSearchCV, StratifiedKFold\n",
    "kf = StratifiedKFold(n_splits=5, shuffle=True, random_state=RANDOM_STATE)\n",
    "\n",
    "grid_knnpca = GridSearchCV(pipe, parameters, cv=kf, n_jobs=N_JOBS, verbose=1)\n",
    "grid_knnpca.fit(X, y)\n",
    "\n",
    "best_parameters = grid_knnpca.best_estimator_.get_params()\n",
    "print(\"Best parameters set: \", best_parameters)\n",
    "print('Best Estimator: ', grid_knnpca.best_estimator_)\n",
    "    \n",
    "    \n",
    "grid_results(grid_knnpca)\n",
    "# print(\"Best score: %0.3f\" % gs.best_score_)\n",
    "\n",
    "\n",
    "# y_pred = gs.predict(X_test) \n",
    "# # results(y_pred, y)\n",
    "\n",
    "# plot_confusion_matrix(gs,X_test,y_test,y_pred)\n",
    "# roc_curve_plot(gs, X_test, y_test)"
   ]
  },
  {
   "cell_type": "markdown",
   "metadata": {},
   "source": [
    "# LogisticRegression Grid"
   ]
  },
  {
   "cell_type": "code",
   "execution_count": null,
   "metadata": {},
   "outputs": [],
   "source": [
    "X = MinMaxScaler().fit_transform(X)\n",
    "\n",
    "# Setup the hyperparameter grid\n",
    "c_space = np.logspace(-5, 8, 15)\n",
    "C = np.logspace(0, 4, 10)\n",
    "param_grid = {'C': c_space, 'penalty': ['l1', 'l2']}\n",
    "\n",
    "\n",
    "# Instantiate a logistic regression classifier: logreg\n",
    "logreg = LogisticRegression(class_weight=None)\n",
    "# logreg = LogisticRegression()\n",
    "\n",
    "# Stratified\n",
    "from sklearn.model_selection import GridSearchCV, StratifiedKFold\n",
    "kf = StratifiedKFold(n_splits=5, shuffle=True, random_state=RANDOM_STATE)\n",
    "\n",
    "# Instantiate the GridSearchCV object: logreg_cv\n",
    "grid_logreg = GridSearchCV(logreg, param_grid, cv=kf, n_jobs=N_JOBS)\n",
    "grid_logreg.fit(X, y)\n",
    "\n",
    "# # Print the tuned parameters and score\n",
    "print(\"Tuned Logistic Regression Parameters: {}\".format(logreg_cv.best_params_))\n",
    "print('Best Estimator: ', logreg_cv.best_estimator_)\n",
    "# print(\"Best score is {}\".format(logreg_cv.best_score_))\n",
    "# Fit it to the data\n",
    "grid_results(logreg_cv)\n",
    "# # \n",
    "y_pred_prob = logreg_cv.predict_proba(X_test)[:,1]\n",
    "\n",
    "print(\"ROC AUC Score:\" ,roc_auc_score(y_test,y_pred_prob))"
   ]
  },
  {
   "cell_type": "markdown",
   "metadata": {},
   "source": [
    "## LOGISTIC REGRESSION Unbalanced"
   ]
  },
  {
   "cell_type": "code",
   "execution_count": null,
   "metadata": {},
   "outputs": [],
   "source": [
    "MODEL = 'ULR'\n",
    "readme['model'][MODEL] = dict()\n",
    "to_profit_curve[MODEL] = dict()\n",
    "\n",
    "# Balanced Logistic Regression\n",
    "X_train, X_test, y_train, y_test = train_test_split(X, y, test_size=0.3, random_state=RANDOM_STATE)\n",
    "print(X_train.shape,X_test.shape,y_train.shape, y_test.shape)\n",
    "\n",
    "model = LogisticRegression(C=3.727593720314938, class_weight=None, dual=False,\n",
    "          fit_intercept=True, intercept_scaling=1, max_iter=100,\n",
    "          multi_class='ovr', n_jobs=1, penalty='l1', random_state=RANDOM_STATE,\n",
    "          solver='liblinear', tol=0.0001, verbose=0, warm_start=False)\n",
    "\n",
    "to_profit_curve[MODEL]['model'] = model\n",
    "model.fit(X_train, y_train)\n",
    "y_pred = model.predict(X_test)\n",
    "\n",
    "print(model.score(X_test, y_test))\n",
    "plot_confusion_matrix(model, X_test, y_test, y_pred)\n",
    "\n",
    "#ROC Curve\n",
    "roc_curve_plot(model, X_test, y_test)"
   ]
  },
  {
   "cell_type": "markdown",
   "metadata": {},
   "source": [
    "## LOGISTIC REGRESSION Balanced"
   ]
  },
  {
   "cell_type": "code",
   "execution_count": null,
   "metadata": {},
   "outputs": [],
   "source": [
    "MODEL = 'BLR'\n",
    "readme['model'][MODEL] = dict()\n",
    "to_profit_curve[MODEL] = dict()\n",
    "\n",
    "# Balanced Logistic Regression\n",
    "X_train, X_test, y_train, y_test = train_test_split(X, y, test_size=0.3, random_state=RANDOM_STATE)\n",
    "print(X_train.shape, X_test.shape, y_train.shape, y_test.shape)\n",
    "\n",
    "model = LogisticRegression(C=3.727593720314938, class_weight='balanced', dual=False,\n",
    "          fit_intercept=True, intercept_scaling=1, max_iter=100,\n",
    "          multi_class='ovr', n_jobs=1, penalty='l2', random_state=RANDOM_STATE,\n",
    "          solver='liblinear', tol=0.0001, verbose=0, warm_start=False)\n",
    "\n",
    "to_profit_curve[MODEL]['model'] = model\n",
    "\n",
    "model.fit(X_train, y_train)\n",
    "y_pred = model.predict(X_test)\n",
    "\n",
    "print(\"Model Score:\", model.score(X_test, y_test))\n",
    "plot_confusion_matrix(model, X_test, y_test, y_pred)\n",
    "\n",
    "#ROC Curve\n",
    "roc_curve_plot(model, X_test, y_test)"
   ]
  },
  {
   "cell_type": "markdown",
   "metadata": {},
   "source": [
    "# DecisionTree GRID"
   ]
  },
  {
   "cell_type": "code",
   "execution_count": null,
   "metadata": {
    "scrolled": false
   },
   "outputs": [],
   "source": [
    "MODEL = 'UDT'\n",
    "readme['model'][MODEL] = dict()\n",
    "to_profit_curve[MODEL] = dict()\n",
    "# Setup the parameters and distributions to sample from: param_dist\n",
    "\n",
    "param_dist = {\n",
    "    \"max_depth\": [3, 5, 10, 15, 20, None],\n",
    "    \"max_features\": randint(1, 30),\n",
    "    \"min_samples_leaf\": randint(1, 9),\n",
    "    \"criterion\": [\"gini\", \"entropy\"]\n",
    "}\n",
    "\n",
    "param_dist = {\n",
    "    \"max_depth\": range(1,20),\n",
    "    \"max_features\":range(1,30),\n",
    "    \"min_samples_leaf\": range(1,10),\n",
    "    \"criterion\": [\"gini\", \"entropy\"]\n",
    "}\n",
    "\n",
    "# Instantiate a Decision Tree classifier: tree\n",
    "# tree = DecisionTreeClassifier(class_weight='balanced')\n",
    "tree_clf = DecisionTreeClassifier()\n",
    "\n",
    "# Stratified\n",
    "from sklearn.model_selection import GridSearchCV, StratifiedKFold\n",
    "kf = StratifiedKFold(n_splits=5, shuffle=True, random_state=RANDOM_STATE)\n",
    "\n",
    "# Instantiate the RandomizedSearchCV object: tree_cv\n",
    "# tree_cv = RandomizedSearchCV(tree, param_dist, cv=kf)\n",
    "grid_tree = GridSearchCV(tree_clf, param_dist, cv=kf, n_jobs=N_JOBS)\n",
    "\n",
    "to_profit_curve[MODEL]['model'] = grid_tree\n",
    "# Fit it to the data\n",
    "grid_tree.fit(X,y)\n",
    "\n",
    "# # Print the tuned parameters and score\n",
    "print(\"Tuned Decision Tree Parameters: {}\".format(grid_tree.best_params_))\n",
    "print(\"Best score is {}\".format(grid_tree.best_score_))\n",
    "print(\"Best estimator is {}\".format(grid_tree.best_estimator_))\n",
    "\n",
    "grid_results(grid_tree)"
   ]
  },
  {
   "cell_type": "code",
   "execution_count": null,
   "metadata": {},
   "outputs": [],
   "source": [
    "plot_importance_graph(tree_cv)"
   ]
  },
  {
   "cell_type": "code",
   "execution_count": null,
   "metadata": {},
   "outputs": [],
   "source": [
    "best_dt = tree_cv.best_estimator_"
   ]
  },
  {
   "cell_type": "code",
   "execution_count": null,
   "metadata": {},
   "outputs": [],
   "source": [
    "from sklearn.externals.six import StringIO  \n",
    "from IPython.display import Image  \n",
    "from sklearn.tree import export_graphviz\n",
    "import pydotplus\n",
    "import os, sys\n",
    "\n",
    "def conda_fix(graph):\n",
    "        path = os.path.join(sys.base_exec_prefix, \"Library\", \"bin\", \"graphviz\")\n",
    "        paths = (\"dot\", \"twopi\", \"neato\", \"circo\", \"fdp\")\n",
    "        paths = {p: os.path.join(path, \"{}.exe\".format(p)) for p in paths}\n",
    "        graph.set_graphviz_executables(paths)\n",
    "\n",
    "# visualize the decision tree\n",
    "dot_data = StringIO()\n",
    "export_graphviz(best_dt, out_file=dot_data, feature_names=personas.columns, filled=True, rounded=True)\n",
    "graph = pydotplus.graph_from_dot_data(dot_data.getvalue())\n",
    "conda_fix(graph)\n",
    "# graph.write_pdf(\"booking_tree.pdf\")\n",
    "Image(graph.create_png())"
   ]
  },
  {
   "cell_type": "code",
   "execution_count": null,
   "metadata": {},
   "outputs": [],
   "source": [
    "graph.write_pdf(\"..\\\\results\\\\model_results\\\\{}\\\\{}_decision_tree.pdf\".format(DS_NAME,MODEL))"
   ]
  },
  {
   "cell_type": "code",
   "execution_count": null,
   "metadata": {},
   "outputs": [],
   "source": [
    "bdt_clf = DecisionTreeClassifier(class_weight='balanced', criterion='gini', max_depth=7,\n",
    "            max_features=26, max_leaf_nodes=None,\n",
    "            min_impurity_decrease=0.0, min_impurity_split=None,\n",
    "            min_samples_leaf=9, min_samples_split=2,\n",
    "            min_weight_fraction_leaf=0.0, presort=False, random_state=RANDOM_STATE,\n",
    "            splitter='best')\n",
    "\n",
    "from sklearn.model_selection import cross_val_predict\n",
    "predictions = cross_val_predict(bdt_clf, X, y)\n",
    "\n",
    "import scikitplot as skplt\n",
    "skplt.metrics.plot_confusion_matrix(y, predictions, normalize=True)\n",
    "plt.show()\n",
    "\n",
    "bdt_clf.fit(X_train, y_train)\n",
    "y_probas = bdt_clf.predict_proba(X_test)\n",
    "skplt.metrics.plot_roc(y_test, y_probas)\n",
    "plt.show()\n"
   ]
  },
  {
   "cell_type": "markdown",
   "metadata": {},
   "source": [
    "# GRID Unbalanced RandomForest"
   ]
  },
  {
   "cell_type": "code",
   "execution_count": null,
   "metadata": {
    "scrolled": false
   },
   "outputs": [],
   "source": [
    "# Setup the parameters and distributions to sample from: param_dist\n",
    "MODEL = 'URF'\n",
    "readme['model'][MODEL] = dict()\n",
    "\n",
    "param_grid = {\n",
    "    \"max_depth\": randint(1,30),\n",
    "    \"max_features\":randint(1,40),\n",
    "    \"min_samples_leaf\": randint(1,20),\n",
    "    \"criterion\": [\"gini\", \"entropy\"],\n",
    "    \"min_samples_split\": randint(2,20),\n",
    "    \"n_estimators\":[20,30,40,50,60,70,80,90,100],\n",
    "    \"bootstrap\": [True, False],\n",
    "}\n",
    "\n",
    "param_grid = {\"max_depth\": list(range(1,30)),\n",
    "              'max_features': ['auto', 'sqrt', 'log2'],\n",
    "#               \"max_features\":range(1,40),\n",
    "              \"min_samples_split\": list(range(2,30)),\n",
    "              \"min_samples_leaf\": list(range(1,20)),\n",
    "              \"bootstrap\": [True, False],\n",
    "              \"criterion\": [\"gini\", \"entropy\"],\n",
    "             \"n_estimators\":list(range(20,100,10)),\n",
    "#               \"class_weight\":[None,'balanced' ],\n",
    "}\n",
    "\n",
    "# Instantiate a Decision Tree classifier: tree\n",
    "rf = RandomForestClassifier()\n",
    "\n",
    "# Stratified\n",
    "from sklearn.model_selection import GridSearchCV, StratifiedKFold\n",
    "kf = StratifiedKFold(n_splits=5, shuffle=True, random_state=RANDOM_STATE)\n",
    "\n",
    "# Instantiate the RandomizedSearchCV object: tree_cv\n",
    "rf_cv = RandomizedSearchCV(rf, param_dist, cv=kf, n_jobs=N_JOBS, n_iter=300)\n",
    "# rf_cv = GridSearchCV(rf, param_grid, cv=kf, n_jobs=N_JOBS)\n",
    "\n",
    "# Fit it to the data\n",
    "rf_cv.fit(X,y)\n",
    "\n",
    "# Predict\n",
    "# y_pred = rf_cv.predict(X_test)\n",
    "\n",
    "# Print the tuned parameters and score\n",
    "print(\"Best estimator is {}\".format(rf_cv.best_estimator_))\n",
    "print(\"Tuned Decision Tree Parameters: {}\".format(rf_cv.best_params_))\n",
    "print(\"Best score is {}\".format(rf_cv.best_score_))\n",
    "\n",
    "grid_results(rf_cv)\n",
    "plot_importance_graph(rf_cv)"
   ]
  },
  {
   "cell_type": "markdown",
   "metadata": {},
   "source": [
    "# Unbalanced RandomForest"
   ]
  },
  {
   "cell_type": "code",
   "execution_count": null,
   "metadata": {},
   "outputs": [],
   "source": [
    "bdt_clf = RandomForestClassifier(bootstrap=False, class_weight=None, criterion='gini',\n",
    "            max_depth=20, max_features='auto', max_leaf_nodes=None,\n",
    "            min_impurity_decrease=0.0, min_impurity_split=None,\n",
    "            min_samples_leaf=4, min_samples_split=26,\n",
    "            min_weight_fraction_leaf=0.0, n_estimators=70, n_jobs=1,\n",
    "            oob_score=False, random_state=RANDOM_STATE, verbose=0,\n",
    "            warm_start=False)\n",
    "\n",
    "from sklearn.model_selection import cross_val_predict\n",
    "predictions = cross_val_predict(bdt_clf, X, y)\n",
    "\n",
    "import scikitplot as skplt\n",
    "skplt.metrics.plot_confusion_matrix(y, predictions, normalize=True)\n",
    "plt.show()\n",
    "\n",
    "bdt_clf.fit(X_train, y_train)\n",
    "y_probas = bdt_clf.predict_proba(X_test)\n",
    "skplt.metrics.plot_roc(y_test, y_probas)\n",
    "plt.show()"
   ]
  },
  {
   "cell_type": "markdown",
   "metadata": {},
   "source": [
    "# Balanced RandomForest"
   ]
  },
  {
   "cell_type": "code",
   "execution_count": null,
   "metadata": {},
   "outputs": [],
   "source": [
    "bdt_clf = RandomForestClassifier(bootstrap=False, class_weight='balanced', criterion='gini',\n",
    "            max_depth=20, max_features='auto', max_leaf_nodes=None,\n",
    "            min_impurity_decrease=0.0, min_impurity_split=None,\n",
    "            min_samples_leaf=4, min_samples_split=26,\n",
    "            min_weight_fraction_leaf=0.0, n_estimators=70, n_jobs=1,\n",
    "            oob_score=False, random_state=RANDOM_STATE, verbose=0,\n",
    "            warm_start=False)\n",
    "\n",
    "from sklearn.model_selection import cross_val_predict\n",
    "predictions = cross_val_predict(bdt_clf, X, y)\n",
    "\n",
    "import scikitplot as skplt\n",
    "skplt.metrics.plot_confusion_matrix(y, predictions, normalize=True)\n",
    "plt.show()\n",
    "\n",
    "bdt_clf.fit(X_train, y_train)\n",
    "y_probas = bdt_clf.predict_proba(X_test)\n",
    "skplt.metrics.plot_roc(y_test, y_probas)\n",
    "plt.show()"
   ]
  },
  {
   "cell_type": "markdown",
   "metadata": {},
   "source": [
    "## RandomForest Balanced"
   ]
  },
  {
   "cell_type": "code",
   "execution_count": null,
   "metadata": {
    "scrolled": false
   },
   "outputs": [],
   "source": [
    "MODEL = 'BRF'\n",
    "readme['model'][MODEL] = dict()\n",
    "to_profit_curve[MODEL] = dict()\n",
    "\n",
    "param_grid = {\n",
    "    \"max_depth\": randint(1,30),\n",
    "    \"max_features\":randint(1,40),\n",
    "    \"min_samples_leaf\": randint(1,20),\n",
    "    \"criterion\": [\"gini\", \"entropy\"],\n",
    "    \"min_samples_split\": randint(2,20),\n",
    "    \"n_estimators\":[20,30,40,50,60,70,80,90,100],\n",
    "    \"bootstrap\": [True, False],\n",
    "}\n",
    "\n",
    "param_dist = {\n",
    "    \"max_depth\": range(1,20),\n",
    "    \"max_features\":range(1,30),\n",
    "    \"min_samples_leaf\": range(1,10),\n",
    "    \"criterion\": [\"gini\", \"entropy\"]\n",
    "}\n",
    "\n",
    "randomForest = RandomForestClassifier(class_weight='balanced')\n",
    "\n",
    "# Stratified\n",
    "from sklearn.model_selection import GridSearchCV, StratifiedKFold\n",
    "kf = StratifiedKFold(n_splits=5, shuffle=True, random_state=RANDOM_STATE)\n",
    "\n",
    "# RandomSearch\n",
    "randomForest_cv = RandomizedSearchCV(randomForest, param_dist, cv=kf, n_jobs=N_JOBS,  random_state=RANDOM_STATE)\n",
    "\n",
    "to_profit_curve[MODEL]['model'] = randomForest_cv\n",
    "# Grid Search\n",
    "# randomForest_cv = GridSearchCV(randomForest, param_grid, cv=kf, n_jobs=-1)\n",
    "\n",
    "# Train\n",
    "randomForest_cv.fit(X, y)\n",
    "\n",
    "print(\"Best Params: \", randomForest_cv.best_params_)\n",
    "print('Best Estimator: ', randomForest_cv.best_estimator_)\n",
    "\n",
    "best_brf = randomForest_cv.best_estimator_\n",
    "# Make predictions\n",
    "\n",
    "score = best_brf.score(X_test, y_test)\n",
    "print(\"Accuracy: \", score)\n",
    "\n",
    "plot_confusion_matrix(best_brf, X_test, y_test, y_pred)\n",
    "\n",
    "roc_curve_plot(best_brf, X_test, y_test)\n",
    "\n",
    "plot_importance_graph(randomForest_cv)"
   ]
  },
  {
   "cell_type": "code",
   "execution_count": null,
   "metadata": {},
   "outputs": [],
   "source": [
    "brf_probs = best_brf.predict_proba(X_test)"
   ]
  },
  {
   "cell_type": "code",
   "execution_count": null,
   "metadata": {},
   "outputs": [],
   "source": [
    "skplt.metrics.plot_roc(y_test, y_probas)"
   ]
  },
  {
   "cell_type": "code",
   "execution_count": null,
   "metadata": {},
   "outputs": [],
   "source": [
    "import scikitplot as skplt\n",
    "\n",
    "fig = plt.figure()\n",
    "ax = plt.subplot(skplt.metrics.plot_cumulative_gain(y_test, brf_probs, figsize=(12,8)))\n",
    "plt.legend(loc=9, bbox_to_anchor=(1.15, 1), ncol=1)\n",
    "plt.savefig('..\\\\results\\\\model_results\\\\{}\\\\{}_cum_gain.png'.format(DS_NAME, MODEL), bbox_inches = 'tight', dpi=300)\n",
    "plt.show()\n"
   ]
  },
  {
   "cell_type": "code",
   "execution_count": null,
   "metadata": {},
   "outputs": [],
   "source": [
    "fig = plt.figure()\n",
    "ax = plt.subplot(skplt.metrics.plot_lift_curve(y_test, brf_probs, figsize=(12,8)))\n",
    "plt.legend(loc=9, bbox_to_anchor=(1.15, 1), ncol=1)\n",
    "plt.savefig('..\\\\results\\\\model_results\\\\{}\\\\{}_lift.png'.format(DS_NAME, MODEL), bbox_inches = 'tight', dpi=300)\n",
    "plt.show()"
   ]
  },
  {
   "cell_type": "code",
   "execution_count": null,
   "metadata": {},
   "outputs": [],
   "source": [
    "fig = plt.figure()\n",
    "ax = plt.subplot(skplt.estimators.plot_feature_importances(\n",
    "    best_brf, feature_names=personas.columns, x_tick_rotation=90, figsize=(12,8)))\n",
    "plt.legend(loc=9, bbox_to_anchor=(1.15, 1), ncol=1)\n",
    "plt.savefig('..\\\\results\\\\model_results\\\\{}\\\\{}_f_importance.png'.format(DS_NAME, MODEL), bbox_inches = 'tight', dpi=300)\n",
    "plt.show()\n"
   ]
  },
  {
   "cell_type": "code",
   "execution_count": null,
   "metadata": {},
   "outputs": [],
   "source": [
    "\n",
    "fig = plt.figure()\n",
    "ax = plt.subplot(skplt.metrics.plot_precision_recall(y_test, brf_probs, figsize=(12,8)))\n",
    "plt.legend(loc=9, bbox_to_anchor=(1.15, 1), ncol=1)\n",
    "plt.savefig('..\\\\results\\\\model_results\\\\{}\\\\{}_precition_recall.png'.format(DS_NAME, MODEL), bbox_inches = 'tight', dpi=300)\n",
    "plt.show()"
   ]
  },
  {
   "cell_type": "code",
   "execution_count": null,
   "metadata": {},
   "outputs": [],
   "source": [
    "fig = plt.figure()\n",
    "ax = plt.subplot(skplt.metrics.plot_ks_statistic(y_test, brf_probs, figsize=(12,8)))\n",
    "plt.legend(loc=9, bbox_to_anchor=(1.15, 1), ncol=1)\n",
    "plt.savefig('..\\\\results\\\\model_results\\\\{}\\\\{}_ks_sta.png'.format(DS_NAME, MODEL), bbox_inches = 'tight', dpi=300)\n",
    "plt.show()"
   ]
  },
  {
   "cell_type": "code",
   "execution_count": null,
   "metadata": {},
   "outputs": [],
   "source": [
    "explainer = shap.TreeExplainer(best_brf)\n",
    "shap_values = explainer.shap_values(X_train)\n",
    "\n",
    "# visualize the first prediction's explanation\n",
    "shap.force_plot(explainer.expected_value, shap_values[0,:], X.iloc[0,:])"
   ]
  },
  {
   "cell_type": "markdown",
   "metadata": {},
   "source": [
    "### 3.5.6 SVM"
   ]
  },
  {
   "cell_type": "code",
   "execution_count": null,
   "metadata": {},
   "outputs": [],
   "source": [
    "MODEL = 'SVM'\n",
    "readme['model'][MODEL] = dict()\n",
    "\n",
    "from sklearn import svm, grid_search\n",
    "\n",
    "Cs = [0.001, 0.01, 0.1, 1, 10]\n",
    "gammas = [0.001, 0.01, 0.1, 1]\n",
    "param_grid = {'C': Cs, 'gamma' : gammas}\n",
    "\n",
    "grid_search = GridSearchCV(svm.SVC(kernel='rbf', class_weight='balanced', probability=True), param_grid, cv=5, n_jobs=-1)\n",
    "\n",
    "grid_search.fit(X, y)\n",
    "\n",
    "print(grid_search.best_params_)\n",
    "\n",
    "\n",
    "# y_pred = grid_search.predict(X)\n",
    "# Print the tuned parameters and score\n",
    "print(\"Tuned Logistic Regression Parameters: {}\".format(grid_search.best_params_)) \n",
    "print(\"Best score is {}\".format(grid_search.best_score_))\n",
    "\n",
    "grid_results(grid_search, plot_roc_curve=False)\n",
    "\n",
    "# plot_confusion_matrix(grid_search, X , y, y_pred)\n",
    "# plot_confusion_matrix(grid_search, X_test, y_test, y_pred)\n",
    "\n",
    "roc_curve_plot(grid_search, X_test, y_test)"
   ]
  },
  {
   "cell_type": "code",
   "execution_count": null,
   "metadata": {},
   "outputs": [],
   "source": [
    "from numpy import loadtxt\n",
    "import xgboost\n",
    "from sklearn.model_selection import train_test_split\n",
    "from sklearn.metrics import accuracy_score\n",
    "# load data\n",
    "\n",
    "# model = xgboost.XGBClassifier()"
   ]
  },
  {
   "cell_type": "code",
   "execution_count": null,
   "metadata": {},
   "outputs": [],
   "source": [
    "# model"
   ]
  },
  {
   "cell_type": "code",
   "execution_count": null,
   "metadata": {},
   "outputs": [],
   "source": [
    "# model.fit(X_train, y_train)"
   ]
  },
  {
   "cell_type": "code",
   "execution_count": null,
   "metadata": {},
   "outputs": [],
   "source": [
    "# model.fit(X_train, y_train)\n",
    "# # make predictions for test data\n",
    "# y_pred = model.predict(X_test)\n",
    "# predictions = [round(value) for value in y_pred]\n",
    "# # evaluate predictions\n",
    "# accuracy = accuracy_score(y_test, predictions)\n",
    "# print(\"Accuracy: %.2f%%\" % (accuracy * 100.0))\n",
    "\n",
    "\n",
    "\n",
    "# # load JS visualization code to notebook\n",
    "# shap.initjs()\n",
    "\n",
    "# # train XGBoost model\n",
    "# # X,y = shap.datasets.boston()\n",
    "# model = xgboost.train({\"learning_rate\": 0.01}, xgboost.DMatrix(X, label=y), 100)"
   ]
  },
  {
   "cell_type": "code",
   "execution_count": null,
   "metadata": {},
   "outputs": [],
   "source": [
    "# model"
   ]
  },
  {
   "cell_type": "code",
   "execution_count": null,
   "metadata": {},
   "outputs": [],
   "source": [
    "# # explain the model's predictions using SHAP values\n",
    "# # (same syntax works for LightGBM, CatBoost, and scikit-learn models)\n",
    "# explainer = shap.TreeExplainer(best_brf)\n",
    "# shap_values = explainer.shap_values(X)\n",
    "\n",
    "# # visualize the first prediction's explanation\n",
    "# shap.force_plot(explainer.expected_value, shap_values[0,:], X[0,:])"
   ]
  },
  {
   "cell_type": "code",
   "execution_count": null,
   "metadata": {},
   "outputs": [],
   "source": [
    "# shap.force_plot(explainer.expected_value, shap_values, X)"
   ]
  },
  {
   "cell_type": "code",
   "execution_count": null,
   "metadata": {},
   "outputs": [],
   "source": [
    "# shap.dependence_plot(\"Feature 16\", shap_values, X)"
   ]
  },
  {
   "cell_type": "code",
   "execution_count": null,
   "metadata": {},
   "outputs": [],
   "source": [
    "# shap.summary_plot(shap_values, X)"
   ]
  },
  {
   "cell_type": "code",
   "execution_count": null,
   "metadata": {},
   "outputs": [],
   "source": [
    "# shap.summary_plot(shap_values, X, plot_type=\"bar\")"
   ]
  },
  {
   "cell_type": "code",
   "execution_count": null,
   "metadata": {},
   "outputs": [],
   "source": [
    "MODEL = 'XGB'\n",
    "readme['model'][MODEL] = dict()\n",
    "\n",
    "from xgboost import XGBClassifier\n",
    "from sklearn.model_selection import train_test_split\n",
    "from sklearn.metrics import accuracy_score\n",
    "from sklearn.model_selection import StratifiedKFold\n",
    "\n",
    "n_estimators = [50, 100, 150, 200]\n",
    "max_depth = [2, 4, 6, 8]\n",
    "param_grid = dict(max_depth=max_depth, n_estimators=n_estimators)\n",
    "\n",
    "# fit model no training data\n",
    "xgb_clf = XGBClassifier()\n",
    "\n",
    "kfold = StratifiedKFold(n_splits=10, shuffle=True, random_state=7)\n",
    "# xgb_grid = GridSearchCV(xgb_clf, param_grid, scoring=\"neg_log_loss\", n_jobs=-1, cv=kfold, verbose=1)\n",
    "xgb_grid = GridSearchCV(xgb_clf, param_grid, n_jobs=-1, cv=kfold, verbose=1)\n",
    "xgb_grid.fit(X_train, y_train)\n",
    "\n",
    "\n",
    "\n",
    "# make predictions for test data\n",
    "# y_pred = xgb_grid.best_estimator_.predict(X_test)\n",
    "# predictions = [round(value) for value in y_pred]\n",
    "# # evaluate predictions\n",
    "# accuracy = accuracy_score(y_test, predictions)\n",
    "# print(\"Accuracy: %.2f%%\" % (accuracy * 100.0))"
   ]
  },
  {
   "cell_type": "code",
   "execution_count": null,
   "metadata": {},
   "outputs": [],
   "source": [
    "grid_results(xgb_grid)"
   ]
  },
  {
   "cell_type": "code",
   "execution_count": null,
   "metadata": {},
   "outputs": [],
   "source": [
    "readme['model']['XGB']['best_score']"
   ]
  },
  {
   "cell_type": "code",
   "execution_count": null,
   "metadata": {},
   "outputs": [],
   "source": [
    "d = dict()\n",
    "for key in roc_curves_to_plot[DS_NAME]:\n",
    "    d[key] = roc_curves_to_plot[DS_NAME][key]['auc']\n",
    "    \n",
    "s = [(k, d[k]) for k in sorted(d, key=d.get, reverse=True)]\n",
    "    \n",
    "x_model = [x[0] for x in s]\n",
    "x_value = [x[1] for x in s]\n",
    "    \n",
    "x = np.arange(len(roc_curves_to_plot[DS_NAME].keys()))\n",
    "    \n",
    "plt.title('{} AUC Models'.format(DS_NAME))\n",
    "plt.xlabel('Models')\n",
    "plt.ylabel('AUC')\n",
    "plt.bar(x, x_value)\n",
    "plt.xticks(x, x_model)\n",
    "# plt.savefig('..\\\\results\\\\model_results\\\\{}\\\\auc_models.png'.format(DS_NAME,DS_NAME), dpi=300)\n",
    "plt.show()"
   ]
  },
  {
   "cell_type": "code",
   "execution_count": null,
   "metadata": {},
   "outputs": [],
   "source": [
    "from numpy import loadtxt\n",
    "from numpy import sort\n",
    "from xgboost import XGBClassifier\n",
    "from sklearn.model_selection import train_test_split\n",
    "from sklearn.metrics import accuracy_score\n",
    "from sklearn.feature_selection import SelectFromModel\n",
    "# load data\n",
    "\n",
    "model = XGBClassifier()\n",
    "model.fit(X_train, y_train)\n",
    "\n",
    "# make predictions for test data and evaluate\n",
    "y_pred = model.predict(X_test)\n",
    "predictions = [round(value) for value in y_pred]\n",
    "accuracy = accuracy_score(y_test, predictions)\n",
    "print(\"Accuracy: %.2f%%\" % (accuracy * 100.0))\n",
    "# Fit model using each importance as a threshold\n",
    "thresholds = sort(model.feature_importances_)\n",
    "for thresh in thresholds:\n",
    "\t# select features using threshold\n",
    "\tselection = SelectFromModel(model, threshold=thresh, prefit=True)\n",
    "\tselect_X_train = selection.transform(X_train)\n",
    "\t# train model\n",
    "\tselection_model = XGBClassifier()\n",
    "\tselection_model.fit(select_X_train, y_train)\n",
    "\t# eval model\n",
    "\tselect_X_test = selection.transform(X_test)\n",
    "\ty_pred = selection_model.predict(select_X_test)\n",
    "\tpredictions = [round(value) for value in y_pred]\n",
    "\taccuracy = accuracy_score(y_test, predictions)\n",
    "\tprint(\"Thresh=%.3f, n=%d, Accuracy: %.2f%%\" % (thresh, select_X_train.shape[1], accuracy*100.0))"
   ]
  },
  {
   "cell_type": "code",
   "execution_count": null,
   "metadata": {},
   "outputs": [],
   "source": [
    "# plot feature importance using built-in function\n",
    "# from numpy import loadtxt\n",
    "# from xgboost import XGBClassifier\n",
    "# from xgboost import plot_importance\n",
    "# from matplotlib import pyplot\n",
    "# # plot feature importance\n",
    "# f = plt.figure(figsize=(15,12))\n",
    "# plt.plot(plot_importance(model)\n",
    "# plt.show()\n",
    "# pyplot.show()"
   ]
  },
  {
   "cell_type": "code",
   "execution_count": null,
   "metadata": {},
   "outputs": [],
   "source": [
    "# plot_confusion_matrix(xgb_grid, X_test, y_test, y_pred)\n",
    "\n",
    "# roc_curve_plot(xgb_grid, X_test, y_test)"
   ]
  },
  {
   "cell_type": "code",
   "execution_count": null,
   "metadata": {},
   "outputs": [],
   "source": [
    "plot_all_roc_curves()\n",
    "plot_all_auc_values()"
   ]
  },
  {
   "cell_type": "code",
   "execution_count": null,
   "metadata": {},
   "outputs": [],
   "source": [
    "roc_curves_to_plot.keys()"
   ]
  },
  {
   "cell_type": "code",
   "execution_count": null,
   "metadata": {},
   "outputs": [],
   "source": [
    "# print(roc_curves_to_plot['Altos del Valle NN base']['BRF']['auc'])\n",
    "# print(roc_curves_to_plot['Altos del Valle NN base_profesion']['BRF']['auc'])\n",
    "# print(roc_curves_to_plot['Altos del Valle NN base_minusisprofesion']['BRF']['auc'])\n",
    "# print(roc_curves_to_plot['Altos del Valle NN base_medini_isrec']['BLR']['auc'])"
   ]
  },
  {
   "cell_type": "code",
   "execution_count": null,
   "metadata": {},
   "outputs": [],
   "source": [
    "#Cost assumptions\n",
    "# '''Cost of FP: 1, cost of FN: 2, cost of TN: 0, cost of TP: -1'''\n",
    "# cost_TP = 4; cost_FP = -5; cost_FN = 0; cost_TN = 0;\n",
    "# cb_matrix = -1*np.array([[cost_TP, cost_FP],[cost_FN, cost_TN]])"
   ]
  },
  {
   "cell_type": "code",
   "execution_count": null,
   "metadata": {},
   "outputs": [],
   "source": [
    "#Convert to standard confusion matrix\n",
    "def standard_confusion_matrix(y_true, y_predict):\n",
    "    TP = sum((y_true == 1) & (y_predict == 1))\n",
    "    TN = sum((y_true == 0) & (y_predict == 0))\n",
    "    FP = sum((y_true == 0) & (y_predict == 1))\n",
    "    FN = sum((y_true == 1) & (y_predict == 0))\n",
    "    \n",
    "    return np.array([[TP,FP],[FN,TN]])"
   ]
  },
  {
   "cell_type": "code",
   "execution_count": null,
   "metadata": {},
   "outputs": [],
   "source": [
    "def profit_curve(cb, predict_probas, labels):\n",
    "    indices = np.argsort(predict_probas)\n",
    "    sorted_probs = predict_probas[indices]\n",
    "    sorted_labels = labels.values[indices]\n",
    "    profit_list = []\n",
    "    \n",
    "    for sp, sl in zip(sorted_probs, sorted_labels):\n",
    "        predict_labels = sorted_probs > sp + .0001\n",
    "        conf_mat = standard_confusion_matrix(sorted_labels, predict_labels)\n",
    "        profit_list.append((cb * conf_mat).sum() / (len(labels)))\n",
    "    \n",
    "    return profit_list, sorted_probs"
   ]
  },
  {
   "cell_type": "code",
   "execution_count": null,
   "metadata": {},
   "outputs": [],
   "source": [
    "# Plot the profit curves\n",
    "def plot_profit_curve(model, label, costbenefit, X_train, X_test, y_train, y_test, col):\n",
    "    model.fit(X_train, y_train)\n",
    "    predict_probas = model.predict_proba(X_test)[:,1]\n",
    "    profit_list, sorted_probs = profit_curve(costbenefit, predict_probas, y_test)\n",
    "    max_index = np.argmax(profit_list)\n",
    "    max_threshold = sorted_probs[max_index]\n",
    "    max_profit = profit_list[max_index]\n",
    "    \n",
    "    plt.plot(sorted_probs, profit_list, label=label, color=col, linewidth=3)\n",
    "    plt.plot(max_threshold, max_profit, '.', color=col, markersize=18)"
   ]
  },
  {
   "cell_type": "code",
   "execution_count": null,
   "metadata": {
    "scrolled": false
   },
   "outputs": [],
   "source": [
    "# models = [LogisticRegression(), svm.SVC(probability=True), RandomForestClassifier()]\n",
    "\n",
    "# fig = plt.figure(figsize=(10,8))\n",
    "# # fig.set_facecolor('#F2F2F2')\n",
    "# colors = ['r', 'g', 'b', 'm']\n",
    "# for i, model in enumerate(models):\n",
    "#     plot_profit_curve(model, model.__class__.__name__, cb_matrix,\n",
    "#                       X_train, X_test, y_train, y_test, colors[i])\n",
    "\n",
    "# plt.title(\"Profit Curves\")\n",
    "# plt.xlabel(\"Percentage of test instances (decreasing by score)\")\n",
    "# plt.ylabel(\"Profit\")\n",
    "# plt.legend(loc='best')\n",
    "# plt.savefig('Profit_curve.png', facecolor=fig.get_facecolor())\n",
    "# plt.show()"
   ]
  },
  {
   "cell_type": "code",
   "execution_count": null,
   "metadata": {},
   "outputs": [],
   "source": [
    "# models = []\n",
    "# model_names = []\n",
    "# for key, value in to_profit_curve.items():\n",
    "#     models.append(value['model'])\n",
    "#     model_names.append(key)\n",
    "#     print(key, value['model'])"
   ]
  },
  {
   "cell_type": "code",
   "execution_count": null,
   "metadata": {},
   "outputs": [],
   "source": [
    "# # models = [LogisticRegression(), svm.SVC(probability=True), RandomForestClassifier()]\n",
    "# # names =\n",
    "\n",
    "# fig = plt.figure(figsize=(10,8))\n",
    "# # fig.set_facecolor('#F2F2F2')\n",
    "# colors = ['r', 'g', 'b', 'm']\n",
    "# for i, model in enumerate(models):\n",
    "# #     plot_profit_curve(model, model.__class__.__name__, cb_matrix,\n",
    "# #                       X_train, X_test, y_train, y_test, colors[i])\n",
    "#     plot_profit_curve(model, model_names[i], cb_matrix,\n",
    "#                       X_train, X_test, y_train, y_test, colors[i])\n",
    "\n"
   ]
  },
  {
   "cell_type": "code",
   "execution_count": null,
   "metadata": {},
   "outputs": [],
   "source": [
    "# plt.title(\"Profit Curves\")\n",
    "# plt.xlabel(\"Percentage of test instances (decreasing by score)\")\n",
    "# plt.ylabel(\"Profit\")\n",
    "# plt.legend(loc='best')\n",
    "# plt.savefig('Profit_curve.png', facecolor=fig.get_facecolor())\n",
    "# plt.show()"
   ]
  },
  {
   "cell_type": "code",
   "execution_count": null,
   "metadata": {},
   "outputs": [],
   "source": []
  },
  {
   "cell_type": "code",
   "execution_count": null,
   "metadata": {},
   "outputs": [],
   "source": []
  }
 ],
 "metadata": {
  "kernelspec": {
   "display_name": "Python 3",
   "language": "python",
   "name": "python3"
  },
  "language_info": {
   "codemirror_mode": {
    "name": "ipython",
    "version": 3
   },
   "file_extension": ".py",
   "mimetype": "text/x-python",
   "name": "python",
   "nbconvert_exporter": "python",
   "pygments_lexer": "ipython3",
   "version": "3.6.4"
  }
 },
 "nbformat": 4,
 "nbformat_minor": 2
}
