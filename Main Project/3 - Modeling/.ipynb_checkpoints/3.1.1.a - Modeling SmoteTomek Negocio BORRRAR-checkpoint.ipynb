{
 "cells": [
  {
   "cell_type": "markdown",
   "metadata": {},
   "source": [
    "# 0 Utils"
   ]
  },
  {
   "cell_type": "code",
   "execution_count": 1,
   "metadata": {},
   "outputs": [],
   "source": [
    "import os\n",
    "import numpy as np\n",
    "import seaborn as sb\n",
    "%matplotlib inline\n",
    "# sb.set()\n",
    "import matplotlib.pyplot as plt\n",
    "import pandas as pd\n",
    "import shap\n"
   ]
  },
  {
   "cell_type": "code",
   "execution_count": 2,
   "metadata": {},
   "outputs": [],
   "source": [
    "import warnings\n",
    "warnings.filterwarnings('ignore')"
   ]
  },
  {
   "cell_type": "code",
   "execution_count": 3,
   "metadata": {},
   "outputs": [],
   "source": [
    "N_JOBS = -1 # -1 ocupa todo los cores\n",
    "RANDOM_STATE = 42 # para que sea reproducible"
   ]
  },
  {
   "cell_type": "markdown",
   "metadata": {},
   "source": [
    "## Experiment Setting "
   ]
  },
  {
   "cell_type": "code",
   "execution_count": 4,
   "metadata": {},
   "outputs": [],
   "source": [
    "import time\n",
    "start_time = time.time()\n"
   ]
  },
  {
   "cell_type": "code",
   "execution_count": 5,
   "metadata": {},
   "outputs": [],
   "source": [
    "# dataset, base nro 2\n",
    "dataset_nro = 8\n",
    "experiment_nro = 1\n",
    "# 'All Proyects', 'Altos del Valle', 'Edificio Urban 1470','San Andres Del Valle', 'Edificio Mil610', 'Edificio Junge'\n",
    "proyecto_select = 'San Andres Del Valle' #cambiable\n",
    "\n",
    "# base, base_profesion, base_minusisprofesion, base_medini_isrec\n",
    "use_predictors = 'no_is_time_price' #cambiable\n",
    "# experimento 2 y 4 va con True\n",
    "no_nulls = False #cambiable\n",
    "sesgo = False #cambiable"
   ]
  },
  {
   "cell_type": "code",
   "execution_count": 6,
   "metadata": {},
   "outputs": [],
   "source": [
    "predictors_set = dict()\n",
    "\n",
    "no_is_time_price = [\n",
    "    'is_recontacto', 'is_remoto', 'is_descuento', 'valid_rut',\n",
    "    'loc_comuna', 'loc_provincia', 'loc_region', 'sexo', 'tipo_cliente',\n",
    "    'mean_cot_bod',\n",
    "    'mean_cot_depto', 'mean_cot_esta', 'mean_cot_estu', 'medio_inicial',\n",
    "    'nro_cot_bod', 'nro_cot_depto', 'nro_cot_esta',\n",
    "    'nro_cot_estu', 'nro_proyectos', 'precio_cotizacion_media',\n",
    "    'precio_cotizacion_median', 'precio_cotizacion_std', \n",
    "    \n",
    "    'tiempo_cotizacion_media', 'tiempo_cotizacion_median',\n",
    "    'tiempo_cotizacion_std',   \n",
    "    'Altos del Valle',\n",
    "    'Edificio Urban 1470', \n",
    "#     'San Andres Del Valle', \n",
    "    'Edificio Mil610',\n",
    "       'Edificio Junge']\n",
    "predictors_set ['no_is_time_price'] = no_is_time_price\n"
   ]
  },
  {
   "cell_type": "markdown",
   "metadata": {},
   "source": [
    "# 1 Load Dataset"
   ]
  },
  {
   "cell_type": "code",
   "execution_count": 7,
   "metadata": {},
   "outputs": [
    {
     "name": "stdout",
     "output_type": "stream",
     "text": [
      "(6155, 47)\n"
     ]
    }
   ],
   "source": [
    "# nombre experimento\n",
    "exp_name = \"{} {}\".format(proyecto_select, use_predictors)\n",
    "# eleccion dataset\n",
    "dataset = 'personas_cotizacion{}.csv'.format(dataset_nro)\n",
    "\n",
    "# DS_NAME = dataset.split('.')[0]\n",
    "DS_NAME = exp_name\n",
    "\n",
    "directory = '..\\\\results\\\\test_model_results_dataset{}'.format(dataset_nro)\n",
    "import os\n",
    "if not os.path.exists(directory):\n",
    "    os.makedirs(directory)\n",
    "\n",
    "folder = '..\\\\results\\\\model_results_dataset{}\\\\{}'.format(dataset_nro, DS_NAME)\n",
    "\n",
    "if not os.path.exists(folder):\n",
    "    os.mkdir(folder)\n",
    "\n",
    "\n",
    "personas = pd.read_csv('..\\\\..\\\\Datos\\\\experiments\\\\{}'.format(dataset), encoding = \"ISO-8859-1\")\n",
    "\n",
    "readme = dict()\n",
    "readme['experiment_name'] = DS_NAME\n",
    "readme['experiment_dataset'] = dataset\n",
    "\n",
    "print(personas.shape)\n",
    "readme['personas_shape'] = personas.shape\n",
    "# personas.head(2)\n",
    "\n",
    "# print(personas.columns)\n",
    "readme['personas_columns'] = personas.columns.tolist()"
   ]
  },
  {
   "cell_type": "code",
   "execution_count": 8,
   "metadata": {},
   "outputs": [],
   "source": [
    "personas['loc_comuna'] = personas['loc_comuna'].astype('category')\n",
    "personas['loc_provincia'] = personas['loc_provincia'].astype('category')\n",
    "personas['loc_region'] = personas['loc_region'].astype('category')\n",
    "personas['tipo_cliente'] = personas['tipo_cliente'].astype('category')\n",
    "personas['sexo'] = personas['sexo'].astype('category')\n",
    "# personas.profesion.fillna('sin informacion', inplace=True)\n",
    "# personas['profesion'] = personas['profesion'].astype('category')\n",
    "personas['medio_inicial'] = personas['medio_inicial'].astype('category')"
   ]
  },
  {
   "cell_type": "code",
   "execution_count": 9,
   "metadata": {},
   "outputs": [
    {
     "name": "stdout",
     "output_type": "stream",
     "text": [
      "(3799, 47)\n"
     ]
    }
   ],
   "source": [
    "# Ajustes especificos experimento\n",
    "# Para E5D5, E6D5 #########################################\n",
    "if proyecto_select != 'All Proyects':\n",
    "    mask = (personas[proyecto_select] > 0)\n",
    "    personas = personas[mask]\n",
    "    print(personas[mask].shape)\n",
    "    personas[mask]\n",
    "###########################################################\n",
    "\n",
    "predictors = predictors_set[use_predictors]\n",
    "\n",
    "if no_nulls:\n",
    "    personas.replace(['sin informacion'], np.nan, inplace=True)\n",
    "    personas.dropna(inplace=True)"
   ]
  },
  {
   "cell_type": "code",
   "execution_count": 10,
   "metadata": {},
   "outputs": [
    {
     "name": "stdout",
     "output_type": "stream",
     "text": [
      "(3799,)\n",
      "(3799, 29)\n",
      "(3799, 29)\n"
     ]
    }
   ],
   "source": [
    "# print(predictors)\n",
    "# Ready Data Set\n",
    "p_negocio = personas.negocio # Target\n",
    "# p_negocio = personas.compra # Target\n",
    "p_negocio = pd.Series([0 if x == True else 1 for x in p_negocio.tolist()])\n",
    "# personas = personas.drop(drop_columns, axis=1) # Predictors\n",
    "personas = personas[predictors]\n",
    "\n",
    "print(p_negocio.shape)\n",
    "print(personas.shape)\n",
    "\n",
    "readme['personas_after_drop_columns'] = personas.columns\n",
    "\n",
    "print(personas.shape)\n",
    "readme['personas_predictors_shape'] = personas.shape\n",
    "readme['personas_predictors'] = personas.columns\n",
    "\n",
    "\n",
    "personas = pd.get_dummies(personas)\n",
    "readme['personas_dummies_shape'] = personas.shape\n",
    "\n",
    "# personas.describe()"
   ]
  },
  {
   "cell_type": "markdown",
   "metadata": {},
   "source": [
    "# 3 Supervised Learning: Classification"
   ]
  },
  {
   "cell_type": "markdown",
   "metadata": {},
   "source": [
    "## 3.1 Libraries"
   ]
  },
  {
   "cell_type": "code",
   "execution_count": 50,
   "metadata": {},
   "outputs": [],
   "source": [
    "from sklearn.model_selection import train_test_split\n",
    "from sklearn.neighbors import KNeighborsClassifier\n",
    "from sklearn.metrics import classification_report, confusion_matrix, roc_curve, precision_recall_fscore_support\n",
    "from sklearn.model_selection import GridSearchCV\n",
    "from sklearn.linear_model import LogisticRegression\n",
    "from scipy.stats import randint\n",
    "from sklearn.tree import DecisionTreeClassifier\n",
    "from sklearn.model_selection import RandomizedSearchCV\n",
    "from sklearn.ensemble import RandomForestClassifier\n",
    "from sklearn.metrics import roc_auc_score\n",
    "from sklearn import metrics\n",
    "from sklearn.preprocessing import MinMaxScaler\n",
    "from sklearn.pipeline import Pipeline\n",
    "from sklearn.decomposition import PCA\n",
    "from sklearn import svm\n",
    "from xgboost import XGBClassifier\n",
    "\n",
    "import itertools\n",
    "\n",
    "from sklearn.model_selection import GridSearchCV, StratifiedKFold, StratifiedShuffleSplit\n",
    "from sklearn.metrics import make_scorer, accuracy_score, precision_score, recall_score, f1_score, roc_auc_score\n"
   ]
  },
  {
   "cell_type": "markdown",
   "metadata": {},
   "source": [
    "## 3.2 Check the Dataset"
   ]
  },
  {
   "cell_type": "code",
   "execution_count": 12,
   "metadata": {
    "scrolled": true
   },
   "outputs": [
    {
     "name": "stdout",
     "output_type": "stream",
     "text": [
      "Tamaño Total:  (3799, 55)\n",
      "Personas que hicieron Negocio:  (2968,)\n",
      "Personas que no Hicieorn Negocio:  (831,)\n"
     ]
    }
   ],
   "source": [
    "print(\"Tamaño Total: \", personas.shape)\n",
    "print(\"Personas que hicieron Negocio: \", p_negocio[p_negocio == True].shape)\n",
    "print(\"Personas que no Hicieorn Negocio: \", p_negocio[p_negocio == False].shape)\n",
    "readme['personas_negocio'] = p_negocio[p_negocio == True].shape\n",
    "readme['personas_nonegocio'] = p_negocio[p_negocio == False].shape"
   ]
  },
  {
   "cell_type": "markdown",
   "metadata": {
    "collapsed": true
   },
   "source": [
    "## 3.4 Help Functions"
   ]
  },
  {
   "cell_type": "code",
   "execution_count": 13,
   "metadata": {},
   "outputs": [],
   "source": [
    "import scikitplot as skplt\n",
    "\n",
    "def classifier_insights(y_test, clf_probas, model, model_name, f_importance = False):\n",
    "    fig = plt.figure()\n",
    "    ax = plt.subplot(skplt.metrics.plot_cumulative_gain(y_test, clf_probas, figsize=(12,8)))\n",
    "    plt.legend(loc=9, bbox_to_anchor=(1.15, 1), ncol=1)\n",
    "    plt.savefig('..//results/model_results_dataset{}/\\\\{}\\\\{}_cum_gain.png'.format(dataset_nro, DS_NAME, model_name), bbox_inches = 'tight', dpi=300)\n",
    "    plt.show()\n",
    "\n",
    "\n",
    "    fig = plt.figure()\n",
    "    ax = plt.subplot(skplt.metrics.plot_lift_curve(y_test, clf_probas, figsize=(12,8)))\n",
    "    plt.legend(loc=9, bbox_to_anchor=(1.15, 1), ncol=1)\n",
    "    plt.savefig('..//results/model_results_dataset{}/\\\\{}\\\\{}_lift.png'.format(dataset_nro, DS_NAME, model_name), bbox_inches = 'tight', dpi=300)\n",
    "    plt.show()\n",
    "    \n",
    "    if f_importance:\n",
    "        fig = plt.figure()\n",
    "        ax = plt.subplot(skplt.estimators.plot_feature_importances(\n",
    "            model, feature_names=personas.columns, x_tick_rotation=90, figsize=(12,8)))\n",
    "        plt.legend(loc=9, bbox_to_anchor=(1.15, 1), ncol=1)\n",
    "        plt.savefig('..//results/model_results_dataset{}/\\\\{}\\\\{}_f_importance.png'.format(dataset_nro, DS_NAME, model_name), bbox_inches = 'tight', dpi=300)\n",
    "        plt.show()\n",
    "\n",
    "\n",
    "\n",
    "    fig = plt.figure()\n",
    "    ax = plt.subplot(skplt.metrics.plot_precision_recall(y_test, clf_probas, figsize=(12,8)))\n",
    "    plt.legend(loc=9, bbox_to_anchor=(1.15, 1), ncol=1)\n",
    "    plt.savefig('..//results/model_results_dataset{}\\\\{}\\\\{}_precition_recall.png'.format(dataset_nro, DS_NAME, model_name), bbox_inches = 'tight', dpi=300)\n",
    "    plt.show()\n",
    "\n",
    "    fig = plt.figure()\n",
    "    ax = plt.subplot(skplt.metrics.plot_ks_statistic(y_test, clf_probas, figsize=(12,8)))\n",
    "    plt.legend(loc=9, bbox_to_anchor=(1.15, 1), ncol=1)\n",
    "    plt.savefig('..//results/model_results_dataset{}/\\\\{}\\\\{}_ks_sta.png'.format(dataset_nro, DS_NAME, model_name), bbox_inches = 'tight', dpi=300)\n",
    "    plt.show()"
   ]
  },
  {
   "cell_type": "code",
   "execution_count": 14,
   "metadata": {},
   "outputs": [],
   "source": [
    "import json\n",
    "def save_readme():    \n",
    "    exDict = {'readme': readme}\n",
    "    with open('..\\\\results\\\\model_results_dataset{}\\\\{}\\\\readme_{}.txt'.format(dataset_nro, DS_NAME, DS_NAME), 'w') as file:\n",
    "        file.write(str(exDict))\n",
    "\n",
    "def plot_all_auc_values():\n",
    "        \n",
    "    d = dict()\n",
    "    for key in roc_curves_to_plot[DS_NAME]:\n",
    "        d[key] = roc_curves_to_plot[DS_NAME][key]['auc']\n",
    "    \n",
    "    s = [(k, d[k]) for k in sorted(d, key=d.get, reverse=True)]\n",
    "    \n",
    "    x_model = [x[0] for x in s]\n",
    "    x_value = [x[1] for x in s]\n",
    "    \n",
    "    x = np.arange(len(roc_curves_to_plot[DS_NAME].keys()))\n",
    "    \n",
    "    f = plt.figure(figsize=(12,8))\n",
    "    plt.title('{} AUC Models'.format(DS_NAME))\n",
    "    plt.xlabel('Models')\n",
    "    plt.ylabel('AUC')\n",
    "    plt.bar(x, x_value)\n",
    "    plt.xticks(x, x_model)\n",
    "#     plt.savefig('..\\\\results\\\\model_results_dataset{}\\\\{}\\\\auc_models.png'.format(dataset_nro, DS_NAME,DS_NAME), dpi=300)\n",
    "    plt.show()\n",
    "\n",
    "def plot_all_roc_curves():\n",
    "    \n",
    "    f = plt.figure(figsize=(12,8))\n",
    "    plt.plot([0, 1], [0, 1], 'k--')\n",
    "    \n",
    "    for key in roc_curves_to_plot[DS_NAME]:\n",
    "        plt.plot(roc_curves_to_plot[DS_NAME][key]['fpr'], roc_curves_to_plot[DS_NAME][key]['tpr']) #fpr and tpr\n",
    "    \n",
    "    legends = ['random choice']\n",
    "    legends.extend(roc_curves_to_plot[DS_NAME].keys())\n",
    "    plt.legend(legends)\n",
    "    \n",
    "    plt.xlabel('False Positive Rate')\n",
    "    plt.ylabel('True Positive Rate')\n",
    "    plt.title('{} Models ROC Curve'.format(DS_NAME))\n",
    "#     plt.savefig('..\\\\results\\\\model_results_dataset{}\\\\{}\\\\roc_curve_all.png'.format(dataset_nro, DS_NAME, MODEL), dpi=300)\n",
    "    plt.show()"
   ]
  },
  {
   "cell_type": "code",
   "execution_count": 105,
   "metadata": {},
   "outputs": [
    {
     "ename": "SyntaxError",
     "evalue": "non-default argument follows default argument (<ipython-input-105-5294ef92228e>, line 74)",
     "output_type": "error",
     "traceback": [
      "\u001b[1;36m  File \u001b[1;32m\"<ipython-input-105-5294ef92228e>\"\u001b[1;36m, line \u001b[1;32m74\u001b[0m\n\u001b[1;33m    def grid_results(grid, plot=False, scorer):\u001b[0m\n\u001b[1;37m                    ^\u001b[0m\n\u001b[1;31mSyntaxError\u001b[0m\u001b[1;31m:\u001b[0m non-default argument follows default argument\n"
     ]
    }
   ],
   "source": [
    "def plot_importance_graph(model):\n",
    "    features = personas.columns\n",
    "    \n",
    "    feature_importance = model.best_estimator_.feature_importances_ \n",
    "    fig = plt.figure(figsize=(20, 18))\n",
    "    ax = fig.add_subplot(111)\n",
    "\n",
    "    df_f = pd.DataFrame(feature_importance, columns=[\"importance\"])\n",
    "    df_f[\"labels\"] = features\n",
    "    df_f.sort_values(\"importance\", inplace=True, ascending=False)\n",
    "    display(df_f.head(5))\n",
    "\n",
    "    index = np.arange(len(feature_importance[:20]))\n",
    "    bar_width = 0.5\n",
    "    rects = plt.barh(index[:20] , df_f[\"importance\"][:20], bar_width, alpha=0.4, color='b', label='Main')\n",
    "    plt.yticks(index, df_f[\"labels\"])\n",
    "    plt.title(\"{} {} Feature Importance\".format(DS_NAME, MODEL))\n",
    "    plt.savefig('..\\\\results\\\\model_results_dataset{}\\\\{}\\\\{}_importance.png'.format(dataset_nro, DS_NAME, MODEL), dpi=300)\n",
    "    plt.show()\n",
    "\n",
    "    # Import necessary modules\n",
    "def plot_confusion_matrix(y, y_pred, classes,\n",
    "                        normalize=False,\n",
    "                          title='Confusion matrix',\n",
    "                          cmap=plt.cm.Blues, folder=''):\n",
    "    \n",
    "    cm = confusion_matrix(y, y_pred)\n",
    "    if normalize:\n",
    "        cm = cm.astype('float') / cm.sum(axis=1)[:, np.newaxis]\n",
    "        print(\"Normalized confusion matrix\")\n",
    "    else:\n",
    "        print('Confusion matrix, without normalization')\n",
    "\n",
    "    fig = plt.figure(figsize=(4, 3))\n",
    "    plt.imshow(cm, interpolation='nearest', cmap=cmap)\n",
    "    plt.title(title)\n",
    "    plt.colorbar()\n",
    "    tick_marks = np.arange(len(classes))\n",
    "    plt.xticks(tick_marks, classes, rotation=45)\n",
    "    plt.yticks(tick_marks, classes)\n",
    "\n",
    "    fmt = '.2f' if normalize else 'd'\n",
    "    thresh = cm.max() / 2.\n",
    "    for i, j in itertools.product(range(cm.shape[0]), range(cm.shape[1])):\n",
    "        plt.text(j, i, format(cm[i, j], fmt),\n",
    "                 horizontalalignment=\"center\",\n",
    "                 color=\"white\" if cm[i, j] > thresh else \"black\")\n",
    "    \n",
    "    plt.ylabel('True label')\n",
    "    plt.xlabel('Predicted label')\n",
    "    plt.tight_layout()\n",
    "    plt.show()\n",
    "\n",
    "\n",
    "def roc_curve_plot(model, X_test, y_test, folder='', title='Model ROC Curve' ):\n",
    "    \n",
    "    # Compute predicted probabilities: y_pred_prob\n",
    "    y_pred_prob = model.predict_proba(X_test)[:,1]\n",
    "\n",
    "    # Generate ROC curve values: fpr, tpr, thresholds\n",
    "    fpr, tpr, treshold = roc_curve(y_test, y_pred_prob)\n",
    "    \n",
    "    print(\"AUC: \",roc_auc_score(y_test, y_pred_prob))\n",
    "    \n",
    "    # Plot ROC curve\n",
    "    plt.plot([0, 1], [0, 1], 'k--')\n",
    "    plt.plot(fpr, tpr)\n",
    "    plt.xlabel('False Positive Rate')\n",
    "    plt.ylabel('True Positive Rate')\n",
    "    plt.title(title)\n",
    "#     plt.savefig(folder + '\\\\{}_roc_curve.png'.format(dataset_nro, DS_NAME, MODEL), dpi=300)\n",
    "    plt.show()\n",
    "    \n",
    "def grid_results(grid, plot=False, scorer):\n",
    "    \n",
    "    best_model = grid.best_estimator_\n",
    "    \n",
    "#     best_model.fit(X_train, y_train)\n",
    "#     y_pred = best_model.predict(X_test)\n",
    "#     y_proba = best_model.predict_proba(X_test)[:,0]\n",
    "    \n",
    "#     if plot:\n",
    "#         plot_confusion_matrix(y_test, y_pred)\n",
    "#         roc_curve_plot(best_model, X_test, y_test)\n",
    "    \n",
    "    grid_results = pd.DataFrame(grid.cv_results_)[['mean_test_accuracy',\n",
    "       'mean_test_auc', 'mean_test_f1_score', 'mean_test_precision',\n",
    "       'mean_test_recall','std_test_accuracy', 'std_test_auc', 'std_test_f1_score',\n",
    "       'std_test_precision', 'std_test_recall','rank_test_accuracy', 'rank_test_auc', 'rank_test_f1_score',\n",
    "       'rank_test_precision', 'rank_test_recall', 'params']]\n",
    "    grid_results = grid_results.sort_values(by='rank_test_{}_score'.format(scorer))\n",
    "    \n",
    "#     grid_mean_test_score = pd.DataFrame(grid.cv_results_)\n",
    "#     grid_mean_test_score = grid_mean_test_score.sort_values(by='rank_test_score')\n",
    "#     grid_mean_test_score = grid_mean_test_score.reset_index().loc[0,['std_test_score']]\n",
    "    \n",
    "    return {\n",
    "        'acc':grid_results.loc[0,'mean_test_accuracy'],\n",
    "        'acc-std':grid_results.loc[0,'std_test_accuracy'],\n",
    "        'pre':grid_results.loc[0,'mean_test_precision'],\n",
    "        'pre-std':grid_results.loc[0,'std_test_precision'],\n",
    "        'rec':grid_results.loc[0,'mean_test_recall'],\n",
    "        'rec-std':grid_results.loc[0,'std_test_recall'],\n",
    "        'fs':grid_results.loc[0,'mean_test_f1_score'],\n",
    "        'fs-std':grid_results.loc[0,'std_test_f1_score'],\n",
    "        'auc':grid_results.loc[0,'mean_test_auc'],\n",
    "        'auc-std':grid_results.loc[0,'std_test_auc'],\n",
    "        'best_model': grid.best_estimator_,\n",
    "        'grid_cvresults': grid.cv_results_,\n",
    "    }"
   ]
  },
  {
   "cell_type": "code",
   "execution_count": 31,
   "metadata": {},
   "outputs": [],
   "source": [
    "# SAVE RESULTS\n",
    "from sklearn.externals import joblib\n",
    "import copy \n",
    "import json\n",
    "\n",
    "# results_copy = copy.deepcopy(clfs_results)\n",
    "\n",
    "def save_results(results, file_name='grid_results'):\n",
    "    for clf in results_copy.keys():\n",
    "        folder = 'models_persistance\\\\{}\\\\'.format(clf)\n",
    "\n",
    "        if not os.path.exists(folder):\n",
    "            os.mkdir(folder)\n",
    "\n",
    "        for cv in results_copy[clf].keys():\n",
    "            to_save = results_copy[clf][cv]['grid_best_model']\n",
    "            joblib.dump(to_save,'{}{}_compra_model.joblib'.format(folder, clf))\n",
    "            results_copy[clf][cv]['grid_best_model'] = ''\n",
    "            results_copy[clf][cv]['grid_std'] = results_copy[clf][cv]['grid_std'].tolist()\n",
    "            pd.DataFrame(results_copy[clf][cv]['grid_cvresults']).to_excel('{}{}_{}_grid_compra.xlsx'.format(folder, clf, cv))\n",
    "            results_copy[clf][cv]['grid_cvresults'] = ''\n",
    "            results_copy[clf][cv]['best_model_test_ypred'] = results_copy[clf][cv]['best_model_test_ypred'].tolist()\n",
    "\n",
    "\n",
    "    with open('{}.json'.format(file_name), 'w') as fp:\n",
    "        json.dump(results_copy, fp)"
   ]
  },
  {
   "cell_type": "markdown",
   "metadata": {},
   "source": [
    "## 3.3 Train & Test"
   ]
  },
  {
   "cell_type": "code",
   "execution_count": 67,
   "metadata": {},
   "outputs": [
    {
     "name": "stdout",
     "output_type": "stream",
     "text": [
      "(3039, 55) (760, 55) (3039,) (760,)\n"
     ]
    }
   ],
   "source": [
    "X = personas\n",
    "y = p_negocio\n",
    "\n",
    "X_grid, X_test, y_grid, y_test = train_test_split(X, y, test_size=0.2, random_state=RANDOM_STATE)\n",
    "print(X_grid.shape, X_test.shape, y_grid.shape, y_test.shape)\n",
    "\n",
    "\n",
    "# X_test.to_excel('x_test.xlsx')\n",
    "# y_test.to_excel('y_test.xlsx')"
   ]
  },
  {
   "cell_type": "code",
   "execution_count": 121,
   "metadata": {},
   "outputs": [
    {
     "name": "stdout",
     "output_type": "stream",
     "text": [
      "Class 0: 670\n",
      "Class 1: 2369\n",
      "Proportion: 0.28 : 1\n"
     ]
    },
    {
     "data": {
      "image/png": "[encoded data removed]",
      "text/plain": [
       "<matplotlib.figure.Figure at 0x1fa94020470>"
      ]
     },
     "metadata": {},
     "output_type": "display_data"
    }
   ],
   "source": [
    "target_count = y_grid.value_counts()\n",
    "print('Class 0:', target_count[0])\n",
    "print('Class 1:', target_count[1])\n",
    "print('Proportion:', round(target_count[0] / target_count[1], 2), ': 1')\n",
    "\n",
    "target_count.plot(kind='bar', title='Count (target)');"
   ]
  },
  {
   "cell_type": "code",
   "execution_count": 122,
   "metadata": {},
   "outputs": [
    {
     "name": "stdout",
     "output_type": "stream",
     "text": [
      "Class 0: 161\n",
      "Class 1: 599\n",
      "Proportion: 0.27 : 1\n"
     ]
    },
    {
     "data": {
      "image/png": "[encoded data removed]",
      "text/plain": [
       "<matplotlib.figure.Figure at 0x1fa940205f8>"
      ]
     },
     "metadata": {},
     "output_type": "display_data"
    }
   ],
   "source": [
    "target_count = y_test.value_counts()\n",
    "print('Class 0:', target_count[0])\n",
    "print('Class 1:', target_count[1])\n",
    "print('Proportion:', round(target_count[0] / target_count[1], 2), ': 1')\n",
    "\n",
    "target_count.plot(kind='bar', title='Count (target)');"
   ]
  },
  {
   "cell_type": "code",
   "execution_count": 101,
   "metadata": {},
   "outputs": [],
   "source": [
    "color_sequence = ['#f44242', '#f4eb41', '#acf441', '#285919', '#41f4eb',\n",
    "                  '#4146f4', '#7041f4', '#593518', '#f441f1', '#f44173']\n",
    "\n",
    "def roc_battle(clf, dr):\n",
    "    f = plt.figure(figsize=(8,6))\n",
    "    plt.plot([0, 1], [0, 1], 'k--')\n",
    "    rank= 0\n",
    "    legends = ['random choice']\n",
    "    for cv, value in dr[clf].items():\n",
    "        model =dr[clf][cv]['best_model']\n",
    "        model.fit(X_grid,y_grid)\n",
    "        y_proba = model.predict_proba(X_test)[:,1]\n",
    "        fpr, tpr, treshold = roc_curve(y_test, y_proba)\n",
    "        roc_auc = roc_auc_score(y_test, y_proba)\n",
    "        legends.append('cv %i %.4f' %(cv, roc_auc))\n",
    "        plt.plot(fpr, tpr, color=color_sequence[rank]) #fpr and tpr\n",
    "        rank +=1\n",
    "    plt.legend(legends)\n",
    "    \n",
    "    plt.xlabel('False Positive Rate')\n",
    "    plt.ylabel('True Positive Rate')\n",
    "    plt.title('{} Models ROC Curve'.format(DS_NAME))\n",
    "#     plt.savefig('..\\\\results\\\\model_results_dataset{}\\\\{}\\\\{}_battle_roc_curve.png'.format(dataset_nro, DS_NAME, clf), dpi=300)\n",
    "    plt.show()"
   ]
  },
  {
   "cell_type": "code",
   "execution_count": 60,
   "metadata": {
    "scrolled": true
   },
   "outputs": [],
   "source": [
    "def view_results(results):\n",
    "    for clf in results.keys():\n",
    "        print(\"Classifier: \", clf)\n",
    "        for cv in results[clf].keys():\n",
    "                r = results[clf][cv]\n",
    "                print(\n",
    "            'cv: ', i,\n",
    "            'acc %.4f' % r['acc'],\n",
    "            '+- %.4f'% r['acc-std'],\n",
    "            '| pre %.4f'% r['pre'],\n",
    "            '+- %.4f'% r['pre-std'],\n",
    "            '| rec %.4f'% r['rec'],\n",
    "            '+- %.4f'% r['rec-std'],\n",
    "            '| fs %.4f'% r['fs'],\n",
    "            '+- %.4f'% r['fs-std'],\n",
    "            '| auc %.4f'% r['auc'],\n",
    "            '+- %.4f'% r['auc-std'],\n",
    "             )"
   ]
  },
  {
   "cell_type": "code",
   "execution_count": 72,
   "metadata": {},
   "outputs": [],
   "source": [
    "import plotly.plotly as py\n",
    "import plotly.graph_objs as go\n",
    "py.sign_in(api_key='vM02r1sRNCokCK2O04A3', username='jcardenas.lie')\n",
    "\n",
    "def box_plot(results, metric):\n",
    "    data = []\n",
    "\n",
    "    for clf in results.keys():\n",
    "        y = []\n",
    "        for cv in results[clf].keys():\n",
    "            y.append(results[clf][cv][metric])\n",
    "        data.append(go.Box(\n",
    "            y=y,\n",
    "            name=clf\n",
    "        ))\n",
    "    layout = go.Layout(\n",
    "        title = \"Box Plot {}\".format(metric)\n",
    "    )\n",
    "\n",
    "    fig = go.Figure(data=data, layout=layout)\n",
    "    return fig"
   ]
  },
  {
   "cell_type": "markdown",
   "metadata": {},
   "source": [
    "## 3.5 Models"
   ]
  },
  {
   "cell_type": "code",
   "execution_count": 36,
   "metadata": {},
   "outputs": [],
   "source": [
    "clfs = dict()\n",
    "clfs['DT'] = DecisionTreeClassifier(random_state=RANDOM_STATE)\n",
    "clfs['LR'] = LogisticRegression(random_state=RANDOM_STATE)\n",
    "clfs['RF'] = RandomForestClassifier(random_state=RANDOM_STATE)\n",
    "clfs['SVM'] = svm.SVC(kernel='rbf', probability=True, random_state=RANDOM_STATE)\n",
    "clfs['KNN'] = KNeighborsClassifier()\n",
    "clfs['PCAKNN'] = Pipeline([('pca', PCA(random_state=RANDOM_STATE)), ('clf', KNeighborsClassifier())])\n",
    "clfs['XGB'] = XGBClassifier(random_state=RANDOM_STATE)"
   ]
  },
  {
   "cell_type": "code",
   "execution_count": 37,
   "metadata": {},
   "outputs": [],
   "source": [
    "clf_params = dict()\n",
    "clf_params['KNN'] = {'n_neighbors': np.arange(1, 20)}\n",
    "clf_params['PCAKNN'] = {'pca__n_components': [2, 3, 4, 5, 6, 7, 8, 9]}\n",
    "clf_params['LR'] = {'C': np.logspace(-5, 8, 15), 'penalty':['l1', 'l2'], 'class_weight':[None, 'balanced']}\n",
    "clf_params['DT'] = {\"max_depth\": range(1,20),\"max_features\":range(1,30), \n",
    "                    \"min_samples_leaf\": range(1,10),\"criterion\": [\"gini\", \"entropy\"], \n",
    "                    'class_weight':[None, 'balanced']}\n",
    "clf_params['RF'] = {\"max_depth\": range(1,20),\"max_features\":range(1,30), \"min_samples_leaf\": range(1,10),\n",
    "                    \"criterion\": [\"gini\", \"entropy\"], 'class_weight':[None, 'balanced']}\n",
    "#SVM PARAMS\n",
    "clf_params['SVM'] = {'C' :[0.001, 0.01, 0.1, 1, 10], 'gamma' : [0.001, 0.01, 0.1, 1], 'class_weight':[None, 'balanced']}\n",
    "# XGB PARAMS\n",
    "clf_params['XGB'] = {'n_estimators' : [50, 100, 150, 200], 'max_depth' : [2, 4, 6, 8]}"
   ]
  },
  {
   "cell_type": "code",
   "execution_count": 38,
   "metadata": {},
   "outputs": [],
   "source": [
    "clfs_results = dict()\n",
    "clfs_results['LR'] = dict()\n",
    "clfs_results['DT'] = dict()\n",
    "clfs_results['RF'] = dict()\n",
    "clfs_results['PCAKNN'] = dict()\n",
    "clfs_results['KNN'] = dict()\n",
    "clfs_results['XGB'] = dict()\n",
    "clfs_results['SVM'] = dict()\n"
   ]
  },
  {
   "cell_type": "markdown",
   "metadata": {},
   "source": [
    "# Grid"
   ]
  },
  {
   "cell_type": "code",
   "execution_count": 106,
   "metadata": {
    "scrolled": true
   },
   "outputs": [
    {
     "name": "stdout",
     "output_type": "stream",
     "text": [
      "Classifier: DT  Scorer: accuracy\n",
      "cv:  2 acc 0.7433 +- 0.0060 | pre 0.8994 +- 0.0002 | rec 0.7552 +- 0.0085 | fs 0.8210 +- 0.0051 | auc 0.7283 +- 0.0028\n",
      "cv:  3 acc 0.7496 +- 0.0213 | pre 0.9058 +- 0.0184 | rec 0.7590 +- 0.0455 | fs 0.8246 +- 0.0208 | auc 0.7376 +- 0.0213\n",
      "cv:  4 acc 0.7302 +- 0.0409 | pre 0.9011 +- 0.0270 | rec 0.7349 +- 0.0470 | fs 0.8087 +- 0.0325 | auc 0.7242 +- 0.0466\n",
      "cv:  5 acc 0.7565 +- 0.0273 | pre 0.8989 +- 0.0182 | rec 0.7750 +- 0.0306 | fs 0.8320 +- 0.0204 | auc 0.7330 +- 0.0335\n",
      "cv:  6 acc 0.7483 +- 0.0472 | pre 0.8978 +- 0.0186 | rec 0.7640 +- 0.0596 | fs 0.8244 +- 0.0382 | auc 0.7283 +- 0.0396\n",
      "Classifier: LR  Scorer: accuracy\n",
      "cv:  2 acc 0.7795 +- 0.0001 | pre 0.7795 +- 0.0001 | rec 1.0000 +- 0.0000 | fs 0.8761 +- 0.0000 | auc 0.5000 +- 0.0000\n",
      "cv:  3 acc 0.7795 +- 0.0003 | pre 0.7795 +- 0.0003 | rec 1.0000 +- 0.0000 | fs 0.8761 +- 0.0002 | auc 0.5000 +- 0.0000\n",
      "cv:  4 acc 0.7795 +- 0.0005 | pre 0.7795 +- 0.0005 | rec 1.0000 +- 0.0000 | fs 0.8761 +- 0.0003 | auc 0.5000 +- 0.0000\n",
      "cv:  5 acc 0.7795 +- 0.0001 | pre 0.7795 +- 0.0001 | rec 1.0000 +- 0.0000 | fs 0.8761 +- 0.0001 | auc 0.5000 +- 0.0000\n",
      "cv:  6 acc 0.7795 +- 0.0006 | pre 0.7795 +- 0.0006 | rec 1.0000 +- 0.0000 | fs 0.8761 +- 0.0004 | auc 0.5000 +- 0.0000\n",
      "Classifier: RF  Scorer: accuracy\n",
      "cv:  2 acc 0.7963 +- 0.0070 | pre 0.8870 +- 0.0057 | rec 0.8468 +- 0.0174 | fs 0.8663 +- 0.0064 | auc 0.7323 +- 0.0062\n",
      "cv:  3 acc 0.7976 +- 0.0070 | pre 0.8955 +- 0.0093 | rec 0.8383 +- 0.0089 | fs 0.8659 +- 0.0045 | auc 0.7460 +- 0.0159\n",
      "cv:  4 acc 0.7901 +- 0.0077 | pre 0.8970 +- 0.0076 | rec 0.8257 +- 0.0141 | fs 0.8597 +- 0.0061 | auc 0.7450 +- 0.0113\n",
      "cv:  5 acc 0.7937 +- 0.0141 | pre 0.8961 +- 0.0097 | rec 0.8320 +- 0.0200 | fs 0.8627 +- 0.0106 | auc 0.7451 +- 0.0177\n",
      "cv:  6 acc 0.7914 +- 0.0246 | pre 0.8955 +- 0.0117 | rec 0.8290 +- 0.0267 | fs 0.8608 +- 0.0178 | auc 0.7437 +- 0.0258\n",
      "Classifier: SVM  Scorer: accuracy\n",
      "cv:  2 acc 0.7795 +- 0.0001 | pre 0.7795 +- 0.0001 | rec 1.0000 +- 0.0000 | fs 0.8761 +- 0.0000 | auc 0.5000 +- 0.0000\n",
      "cv:  3 acc 0.7795 +- 0.0003 | pre 0.7795 +- 0.0003 | rec 1.0000 +- 0.0000 | fs 0.8761 +- 0.0002 | auc 0.5000 +- 0.0000\n",
      "cv:  4 acc 0.7795 +- 0.0005 | pre 0.7795 +- 0.0005 | rec 1.0000 +- 0.0000 | fs 0.8761 +- 0.0003 | auc 0.5000 +- 0.0000\n",
      "cv:  5 acc 0.7795 +- 0.0001 | pre 0.7795 +- 0.0001 | rec 1.0000 +- 0.0000 | fs 0.8761 +- 0.0001 | auc 0.5000 +- 0.0000\n",
      "cv:  6 acc 0.7795 +- 0.0006 | pre 0.7795 +- 0.0006 | rec 1.0000 +- 0.0000 | fs 0.8761 +- 0.0004 | auc 0.5000 +- 0.0000\n",
      "Classifier: KNN  Scorer: accuracy\n",
      "cv:  2 acc 0.6795 +- 0.0038 | pre 0.7879 +- 0.0005 | rec 0.8058 +- 0.0075 | fs 0.7967 +- 0.0034 | auc 0.5193 +- 0.0007\n",
      "cv:  3 acc 0.6825 +- 0.0087 | pre 0.7913 +- 0.0013 | rec 0.8050 +- 0.0143 | fs 0.7980 +- 0.0073 | auc 0.5271 +- 0.0039\n",
      "cv:  4 acc 0.6890 +- 0.0064 | pre 0.7935 +- 0.0027 | rec 0.8126 +- 0.0127 | fs 0.8029 +- 0.0056 | auc 0.5324 +- 0.0051\n",
      "cv:  5 acc 0.6861 +- 0.0156 | pre 0.7927 +- 0.0073 | rec 0.8088 +- 0.0205 | fs 0.8006 +- 0.0116 | auc 0.5305 +- 0.0170\n",
      "cv:  6 acc 0.6884 +- 0.0096 | pre 0.7928 +- 0.0034 | rec 0.8126 +- 0.0145 | fs 0.8025 +- 0.0077 | auc 0.5309 +- 0.0075\n",
      "Classifier: PCAKNN  Scorer: accuracy\n",
      "cv:  2 acc 0.7321 +- 0.0025 | pre 0.7786 +- 0.0002 | rec 0.9173 +- 0.0042 | fs 0.8422 +- 0.0019 | auc 0.4974 +- 0.0006\n",
      "cv:  3 acc 0.7374 +- 0.0033 | pre 0.7796 +- 0.0023 | rec 0.9244 +- 0.0051 | fs 0.8459 +- 0.0022 | auc 0.5003 +- 0.0054\n",
      "cv:  4 acc 0.7453 +- 0.0077 | pre 0.7813 +- 0.0010 | rec 0.9350 +- 0.0133 | fs 0.8512 +- 0.0056 | auc 0.5048 +- 0.0034\n",
      "cv:  5 acc 0.7437 +- 0.0044 | pre 0.7813 +- 0.0022 | rec 0.9320 +- 0.0041 | fs 0.8500 +- 0.0027 | auc 0.5048 +- 0.0056\n",
      "cv:  6 acc 0.7450 +- 0.0109 | pre 0.7814 +- 0.0041 | rec 0.9341 +- 0.0123 | fs 0.8510 +- 0.0070 | auc 0.5051 +- 0.0113\n",
      "Classifier: XGB  Scorer: accuracy\n",
      "cv:  2 acc 0.8263 +- 0.0078 | pre 0.8518 +- 0.0008 | rec 0.9409 +- 0.0135 | fs 0.8941 +- 0.0056 | auc 0.6809 +- 0.0008\n",
      "cv:  3 acc 0.8335 +- 0.0146 | pre 0.8537 +- 0.0060 | rec 0.9489 +- 0.0131 | fs 0.8988 +- 0.0092 | auc 0.6871 +- 0.0167\n",
      "cv:  4 acc 0.8332 +- 0.0083 | pre 0.8521 +- 0.0059 | rec 0.9510 +- 0.0057 | fs 0.8989 +- 0.0050 | auc 0.6837 +- 0.0136\n",
      "cv:  5 acc 0.8351 +- 0.0093 | pre 0.8525 +- 0.0046 | rec 0.9536 +- 0.0111 | fs 0.9002 +- 0.0060 | auc 0.6850 +- 0.0114\n",
      "cv:  6 acc 0.8358 +- 0.0143 | pre 0.8532 +- 0.0105 | rec 0.9536 +- 0.0074 | fs 0.9006 +- 0.0084 | auc 0.6865 +- 0.0248\n"
     ]
    }
   ],
   "source": [
    "\n",
    "scoring = {'accuracy' : make_scorer(accuracy_score), \n",
    "           'precision' : make_scorer(precision_score),\n",
    "           'recall' : make_scorer(recall_score), \n",
    "           'f1_score' : make_scorer(f1_score),\n",
    "          'auc':make_scorer(roc_auc_score)}\n",
    "\n",
    "for clf in clfs.keys():\n",
    "    scorer = 'accuracy'\n",
    "    print(\"Classifier:\",clf, ' Scorer:', scorer)\n",
    "    for i in range(2,7):\n",
    "\n",
    "        kf = StratifiedKFold(n_splits=i, shuffle=True, random_state=RANDOM_STATE)\n",
    "\n",
    "        if clf == 'RF' or clf == 'DT':\n",
    "            grid = RandomizedSearchCV(clfs[clf], clf_params[clf], \\\n",
    "                                      cv=kf, n_jobs=N_JOBS, n_iter=300, \\\n",
    "                                      random_state=RANDOM_STATE, scoring=scoring, refit=scorer)\n",
    "        else:\n",
    "            grid = GridSearchCV(clfs[clf], clf_params[clf], cv=kf, n_jobs=N_JOBS\\\n",
    "                                , scoring=scoring, refit=scorer)\n",
    "        \n",
    "        grid.fit(X_grid, y_grid)\n",
    "\n",
    "        clfs_results[clf][i] = grid_results(grid, scorer)\n",
    "        r = clfs_results[clf][i]\n",
    "        print(\n",
    "            'cv: ', i,\n",
    "            'acc %.4f' % r['acc'],\n",
    "            '+- %.4f'% r['acc-std'],\n",
    "            '| pre %.4f'% r['pre'],\n",
    "            '+- %.4f'% r['pre-std'],\n",
    "            '| rec %.4f'% r['rec'],\n",
    "            '+- %.4f'% r['rec-std'],\n",
    "            '| fs %.4f'% r['fs'],\n",
    "            '+- %.4f'% r['fs-std'],\n",
    "            '| auc %.4f'% r['auc'],\n",
    "            '+- %.4f'% r['auc-std'],\n",
    "             )\n",
    "    "
   ]
  },
  {
   "cell_type": "code",
   "execution_count": null,
   "metadata": {},
   "outputs": [],
   "source": [
    "p_c_results is r_c_results"
   ]
  },
  {
   "cell_type": "code",
   "execution_count": 108,
   "metadata": {
    "scrolled": true
   },
   "outputs": [
    {
     "name": "stdout",
     "output_type": "stream",
     "text": [
      "Classifier:  LR\n",
      "cv:  6 acc 0.7795 +- 0.0001 | pre 0.7795 +- 0.0001 | rec 1.0000 +- 0.0000 | fs 0.8761 +- 0.0000 | auc 0.5000 +- 0.0000\n",
      "cv:  6 acc 0.7795 +- 0.0003 | pre 0.7795 +- 0.0003 | rec 1.0000 +- 0.0000 | fs 0.8761 +- 0.0002 | auc 0.5000 +- 0.0000\n",
      "cv:  6 acc 0.7795 +- 0.0005 | pre 0.7795 +- 0.0005 | rec 1.0000 +- 0.0000 | fs 0.8761 +- 0.0003 | auc 0.5000 +- 0.0000\n",
      "cv:  6 acc 0.7795 +- 0.0001 | pre 0.7795 +- 0.0001 | rec 1.0000 +- 0.0000 | fs 0.8761 +- 0.0001 | auc 0.5000 +- 0.0000\n",
      "cv:  6 acc 0.7795 +- 0.0006 | pre 0.7795 +- 0.0006 | rec 1.0000 +- 0.0000 | fs 0.8761 +- 0.0004 | auc 0.5000 +- 0.0000\n",
      "Classifier:  DT\n",
      "cv:  6 acc 0.7433 +- 0.0060 | pre 0.8994 +- 0.0002 | rec 0.7552 +- 0.0085 | fs 0.8210 +- 0.0051 | auc 0.7283 +- 0.0028\n",
      "cv:  6 acc 0.7496 +- 0.0213 | pre 0.9058 +- 0.0184 | rec 0.7590 +- 0.0455 | fs 0.8246 +- 0.0208 | auc 0.7376 +- 0.0213\n",
      "cv:  6 acc 0.7302 +- 0.0409 | pre 0.9011 +- 0.0270 | rec 0.7349 +- 0.0470 | fs 0.8087 +- 0.0325 | auc 0.7242 +- 0.0466\n",
      "cv:  6 acc 0.7565 +- 0.0273 | pre 0.8989 +- 0.0182 | rec 0.7750 +- 0.0306 | fs 0.8320 +- 0.0204 | auc 0.7330 +- 0.0335\n",
      "cv:  6 acc 0.7483 +- 0.0472 | pre 0.8978 +- 0.0186 | rec 0.7640 +- 0.0596 | fs 0.8244 +- 0.0382 | auc 0.7283 +- 0.0396\n",
      "Classifier:  RF\n",
      "cv:  6 acc 0.7963 +- 0.0070 | pre 0.8870 +- 0.0057 | rec 0.8468 +- 0.0174 | fs 0.8663 +- 0.0064 | auc 0.7323 +- 0.0062\n",
      "cv:  6 acc 0.7976 +- 0.0070 | pre 0.8955 +- 0.0093 | rec 0.8383 +- 0.0089 | fs 0.8659 +- 0.0045 | auc 0.7460 +- 0.0159\n",
      "cv:  6 acc 0.7901 +- 0.0077 | pre 0.8970 +- 0.0076 | rec 0.8257 +- 0.0141 | fs 0.8597 +- 0.0061 | auc 0.7450 +- 0.0113\n",
      "cv:  6 acc 0.7937 +- 0.0141 | pre 0.8961 +- 0.0097 | rec 0.8320 +- 0.0200 | fs 0.8627 +- 0.0106 | auc 0.7451 +- 0.0177\n",
      "cv:  6 acc 0.7914 +- 0.0246 | pre 0.8955 +- 0.0117 | rec 0.8290 +- 0.0267 | fs 0.8608 +- 0.0178 | auc 0.7437 +- 0.0258\n",
      "Classifier:  PCAKNN\n",
      "cv:  6 acc 0.7321 +- 0.0025 | pre 0.7786 +- 0.0002 | rec 0.9173 +- 0.0042 | fs 0.8422 +- 0.0019 | auc 0.4974 +- 0.0006\n",
      "cv:  6 acc 0.7374 +- 0.0033 | pre 0.7796 +- 0.0023 | rec 0.9244 +- 0.0051 | fs 0.8459 +- 0.0022 | auc 0.5003 +- 0.0054\n",
      "cv:  6 acc 0.7453 +- 0.0077 | pre 0.7813 +- 0.0010 | rec 0.9350 +- 0.0133 | fs 0.8512 +- 0.0056 | auc 0.5048 +- 0.0034\n",
      "cv:  6 acc 0.7437 +- 0.0044 | pre 0.7813 +- 0.0022 | rec 0.9320 +- 0.0041 | fs 0.8500 +- 0.0027 | auc 0.5048 +- 0.0056\n",
      "cv:  6 acc 0.7450 +- 0.0109 | pre 0.7814 +- 0.0041 | rec 0.9341 +- 0.0123 | fs 0.8510 +- 0.0070 | auc 0.5051 +- 0.0113\n",
      "Classifier:  KNN\n",
      "cv:  6 acc 0.6795 +- 0.0038 | pre 0.7879 +- 0.0005 | rec 0.8058 +- 0.0075 | fs 0.7967 +- 0.0034 | auc 0.5193 +- 0.0007\n",
      "cv:  6 acc 0.6825 +- 0.0087 | pre 0.7913 +- 0.0013 | rec 0.8050 +- 0.0143 | fs 0.7980 +- 0.0073 | auc 0.5271 +- 0.0039\n",
      "cv:  6 acc 0.6890 +- 0.0064 | pre 0.7935 +- 0.0027 | rec 0.8126 +- 0.0127 | fs 0.8029 +- 0.0056 | auc 0.5324 +- 0.0051\n",
      "cv:  6 acc 0.6861 +- 0.0156 | pre 0.7927 +- 0.0073 | rec 0.8088 +- 0.0205 | fs 0.8006 +- 0.0116 | auc 0.5305 +- 0.0170\n",
      "cv:  6 acc 0.6884 +- 0.0096 | pre 0.7928 +- 0.0034 | rec 0.8126 +- 0.0145 | fs 0.8025 +- 0.0077 | auc 0.5309 +- 0.0075\n",
      "Classifier:  XGB\n",
      "cv:  6 acc 0.8263 +- 0.0078 | pre 0.8518 +- 0.0008 | rec 0.9409 +- 0.0135 | fs 0.8941 +- 0.0056 | auc 0.6809 +- 0.0008\n",
      "cv:  6 acc 0.8335 +- 0.0146 | pre 0.8537 +- 0.0060 | rec 0.9489 +- 0.0131 | fs 0.8988 +- 0.0092 | auc 0.6871 +- 0.0167\n",
      "cv:  6 acc 0.8332 +- 0.0083 | pre 0.8521 +- 0.0059 | rec 0.9510 +- 0.0057 | fs 0.8989 +- 0.0050 | auc 0.6837 +- 0.0136\n",
      "cv:  6 acc 0.8351 +- 0.0093 | pre 0.8525 +- 0.0046 | rec 0.9536 +- 0.0111 | fs 0.9002 +- 0.0060 | auc 0.6850 +- 0.0114\n",
      "cv:  6 acc 0.8358 +- 0.0143 | pre 0.8532 +- 0.0105 | rec 0.9536 +- 0.0074 | fs 0.9006 +- 0.0084 | auc 0.6865 +- 0.0248\n",
      "Classifier:  SVM\n",
      "cv:  6 acc 0.7795 +- 0.0001 | pre 0.7795 +- 0.0001 | rec 1.0000 +- 0.0000 | fs 0.8761 +- 0.0000 | auc 0.5000 +- 0.0000\n",
      "cv:  6 acc 0.7795 +- 0.0003 | pre 0.7795 +- 0.0003 | rec 1.0000 +- 0.0000 | fs 0.8761 +- 0.0002 | auc 0.5000 +- 0.0000\n",
      "cv:  6 acc 0.7795 +- 0.0005 | pre 0.7795 +- 0.0005 | rec 1.0000 +- 0.0000 | fs 0.8761 +- 0.0003 | auc 0.5000 +- 0.0000\n",
      "cv:  6 acc 0.7795 +- 0.0001 | pre 0.7795 +- 0.0001 | rec 1.0000 +- 0.0000 | fs 0.8761 +- 0.0001 | auc 0.5000 +- 0.0000\n",
      "cv:  6 acc 0.7795 +- 0.0006 | pre 0.7795 +- 0.0006 | rec 1.0000 +- 0.0000 | fs 0.8761 +- 0.0004 | auc 0.5000 +- 0.0000\n"
     ]
    }
   ],
   "source": [
    "view_results(a_n_results)"
   ]
  },
  {
   "cell_type": "code",
   "execution_count": 104,
   "metadata": {
    "scrolled": true
   },
   "outputs": [
    {
     "name": "stdout",
     "output_type": "stream",
     "text": [
      "Classifier:  LR\n",
      "cv:  6 acc 0.7795 +- 0.0001 | pre 0.7795 +- 0.0001 | rec 1.0000 +- 0.0000 | fs 0.8761 +- 0.0000 | auc 0.5000 +- 0.0000\n",
      "cv:  6 acc 0.7795 +- 0.0003 | pre 0.7795 +- 0.0003 | rec 1.0000 +- 0.0000 | fs 0.8761 +- 0.0002 | auc 0.5000 +- 0.0000\n",
      "cv:  6 acc 0.7795 +- 0.0005 | pre 0.7795 +- 0.0005 | rec 1.0000 +- 0.0000 | fs 0.8761 +- 0.0003 | auc 0.5000 +- 0.0000\n",
      "cv:  6 acc 0.7795 +- 0.0001 | pre 0.7795 +- 0.0001 | rec 1.0000 +- 0.0000 | fs 0.8761 +- 0.0001 | auc 0.5000 +- 0.0000\n",
      "cv:  6 acc 0.7795 +- 0.0006 | pre 0.7795 +- 0.0006 | rec 1.0000 +- 0.0000 | fs 0.8761 +- 0.0004 | auc 0.5000 +- 0.0000\n",
      "Classifier:  DT\n",
      "cv:  6 acc 0.7433 +- 0.0060 | pre 0.8994 +- 0.0002 | rec 0.7552 +- 0.0085 | fs 0.8210 +- 0.0051 | auc 0.7283 +- 0.0028\n",
      "cv:  6 acc 0.7496 +- 0.0213 | pre 0.9058 +- 0.0184 | rec 0.7590 +- 0.0455 | fs 0.8246 +- 0.0208 | auc 0.7376 +- 0.0213\n",
      "cv:  6 acc 0.7302 +- 0.0409 | pre 0.9011 +- 0.0270 | rec 0.7349 +- 0.0470 | fs 0.8087 +- 0.0325 | auc 0.7242 +- 0.0466\n",
      "cv:  6 acc 0.7565 +- 0.0273 | pre 0.8989 +- 0.0182 | rec 0.7750 +- 0.0306 | fs 0.8320 +- 0.0204 | auc 0.7330 +- 0.0335\n",
      "cv:  6 acc 0.7483 +- 0.0472 | pre 0.8978 +- 0.0186 | rec 0.7640 +- 0.0596 | fs 0.8244 +- 0.0382 | auc 0.7283 +- 0.0396\n",
      "Classifier:  RF\n",
      "cv:  6 acc 0.7963 +- 0.0070 | pre 0.8870 +- 0.0057 | rec 0.8468 +- 0.0174 | fs 0.8663 +- 0.0064 | auc 0.7323 +- 0.0062\n",
      "cv:  6 acc 0.7976 +- 0.0070 | pre 0.8955 +- 0.0093 | rec 0.8383 +- 0.0089 | fs 0.8659 +- 0.0045 | auc 0.7460 +- 0.0159\n",
      "cv:  6 acc 0.7901 +- 0.0077 | pre 0.8970 +- 0.0076 | rec 0.8257 +- 0.0141 | fs 0.8597 +- 0.0061 | auc 0.7450 +- 0.0113\n",
      "cv:  6 acc 0.7937 +- 0.0141 | pre 0.8961 +- 0.0097 | rec 0.8320 +- 0.0200 | fs 0.8627 +- 0.0106 | auc 0.7451 +- 0.0177\n",
      "cv:  6 acc 0.7914 +- 0.0246 | pre 0.8955 +- 0.0117 | rec 0.8290 +- 0.0267 | fs 0.8608 +- 0.0178 | auc 0.7437 +- 0.0258\n",
      "Classifier:  PCAKNN\n",
      "cv:  6 acc 0.7321 +- 0.0025 | pre 0.7786 +- 0.0002 | rec 0.9173 +- 0.0042 | fs 0.8422 +- 0.0019 | auc 0.4974 +- 0.0006\n",
      "cv:  6 acc 0.7374 +- 0.0033 | pre 0.7796 +- 0.0023 | rec 0.9244 +- 0.0051 | fs 0.8459 +- 0.0022 | auc 0.5003 +- 0.0054\n",
      "cv:  6 acc 0.7453 +- 0.0077 | pre 0.7813 +- 0.0010 | rec 0.9350 +- 0.0133 | fs 0.8512 +- 0.0056 | auc 0.5048 +- 0.0034\n",
      "cv:  6 acc 0.7437 +- 0.0044 | pre 0.7813 +- 0.0022 | rec 0.9320 +- 0.0041 | fs 0.8500 +- 0.0027 | auc 0.5048 +- 0.0056\n",
      "cv:  6 acc 0.7450 +- 0.0109 | pre 0.7814 +- 0.0041 | rec 0.9341 +- 0.0123 | fs 0.8510 +- 0.0070 | auc 0.5051 +- 0.0113\n",
      "Classifier:  KNN\n",
      "cv:  6 acc 0.6795 +- 0.0038 | pre 0.7879 +- 0.0005 | rec 0.8058 +- 0.0075 | fs 0.7967 +- 0.0034 | auc 0.5193 +- 0.0007\n",
      "cv:  6 acc 0.6825 +- 0.0087 | pre 0.7913 +- 0.0013 | rec 0.8050 +- 0.0143 | fs 0.7980 +- 0.0073 | auc 0.5271 +- 0.0039\n",
      "cv:  6 acc 0.6890 +- 0.0064 | pre 0.7935 +- 0.0027 | rec 0.8126 +- 0.0127 | fs 0.8029 +- 0.0056 | auc 0.5324 +- 0.0051\n",
      "cv:  6 acc 0.6861 +- 0.0156 | pre 0.7927 +- 0.0073 | rec 0.8088 +- 0.0205 | fs 0.8006 +- 0.0116 | auc 0.5305 +- 0.0170\n",
      "cv:  6 acc 0.6884 +- 0.0096 | pre 0.7928 +- 0.0034 | rec 0.8126 +- 0.0145 | fs 0.8025 +- 0.0077 | auc 0.5309 +- 0.0075\n",
      "Classifier:  XGB\n",
      "cv:  6 acc 0.8263 +- 0.0078 | pre 0.8518 +- 0.0008 | rec 0.9409 +- 0.0135 | fs 0.8941 +- 0.0056 | auc 0.6809 +- 0.0008\n",
      "cv:  6 acc 0.8335 +- 0.0146 | pre 0.8537 +- 0.0060 | rec 0.9489 +- 0.0131 | fs 0.8988 +- 0.0092 | auc 0.6871 +- 0.0167\n",
      "cv:  6 acc 0.8332 +- 0.0083 | pre 0.8521 +- 0.0059 | rec 0.9510 +- 0.0057 | fs 0.8989 +- 0.0050 | auc 0.6837 +- 0.0136\n",
      "cv:  6 acc 0.8351 +- 0.0093 | pre 0.8525 +- 0.0046 | rec 0.9536 +- 0.0111 | fs 0.9002 +- 0.0060 | auc 0.6850 +- 0.0114\n",
      "cv:  6 acc 0.8358 +- 0.0143 | pre 0.8532 +- 0.0105 | rec 0.9536 +- 0.0074 | fs 0.9006 +- 0.0084 | auc 0.6865 +- 0.0248\n",
      "Classifier:  SVM\n",
      "cv:  6 acc 0.7795 +- 0.0001 | pre 0.7795 +- 0.0001 | rec 1.0000 +- 0.0000 | fs 0.8761 +- 0.0000 | auc 0.5000 +- 0.0000\n",
      "cv:  6 acc 0.7795 +- 0.0003 | pre 0.7795 +- 0.0003 | rec 1.0000 +- 0.0000 | fs 0.8761 +- 0.0002 | auc 0.5000 +- 0.0000\n",
      "cv:  6 acc 0.7795 +- 0.0005 | pre 0.7795 +- 0.0005 | rec 1.0000 +- 0.0000 | fs 0.8761 +- 0.0003 | auc 0.5000 +- 0.0000\n",
      "cv:  6 acc 0.7795 +- 0.0001 | pre 0.7795 +- 0.0001 | rec 1.0000 +- 0.0000 | fs 0.8761 +- 0.0001 | auc 0.5000 +- 0.0000\n",
      "cv:  6 acc 0.7795 +- 0.0006 | pre 0.7795 +- 0.0006 | rec 1.0000 +- 0.0000 | fs 0.8761 +- 0.0004 | auc 0.5000 +- 0.0000\n"
     ]
    }
   ],
   "source": [
    "view_results(fs_n_results)"
   ]
  },
  {
   "cell_type": "code",
   "execution_count": null,
   "metadata": {
    "scrolled": true
   },
   "outputs": [],
   "source": [
    "view_results(p_c_results)"
   ]
  },
  {
   "cell_type": "code",
   "execution_count": null,
   "metadata": {
    "scrolled": true
   },
   "outputs": [],
   "source": [
    "view_results(r_c_results)"
   ]
  },
  {
   "cell_type": "markdown",
   "metadata": {},
   "source": [
    "# NEGOCIO ANALYSIS"
   ]
  },
  {
   "cell_type": "code",
   "execution_count": 62,
   "metadata": {
    "scrolled": true
   },
   "outputs": [
    {
     "name": "stdout",
     "output_type": "stream",
     "text": [
      "Classifier:  LR\n",
      "cv:  6 acc 0.7795 +- 0.0001 | pre 0.7795 +- 0.0001 | rec 1.0000 +- 0.0000 | fs 0.8761 +- 0.0000 | auc 0.5000 +- 0.0000\n",
      "cv:  6 acc 0.7795 +- 0.0003 | pre 0.7795 +- 0.0003 | rec 1.0000 +- 0.0000 | fs 0.8761 +- 0.0002 | auc 0.5000 +- 0.0000\n",
      "cv:  6 acc 0.7795 +- 0.0005 | pre 0.7795 +- 0.0005 | rec 1.0000 +- 0.0000 | fs 0.8761 +- 0.0003 | auc 0.5000 +- 0.0000\n",
      "cv:  6 acc 0.7795 +- 0.0001 | pre 0.7795 +- 0.0001 | rec 1.0000 +- 0.0000 | fs 0.8761 +- 0.0001 | auc 0.5000 +- 0.0000\n",
      "cv:  6 acc 0.7795 +- 0.0006 | pre 0.7795 +- 0.0006 | rec 1.0000 +- 0.0000 | fs 0.8761 +- 0.0004 | auc 0.5000 +- 0.0000\n",
      "Classifier:  DT\n",
      "cv:  6 acc 0.7433 +- 0.0060 | pre 0.8994 +- 0.0002 | rec 0.7552 +- 0.0085 | fs 0.8210 +- 0.0051 | auc 0.7283 +- 0.0028\n",
      "cv:  6 acc 0.7496 +- 0.0213 | pre 0.9058 +- 0.0184 | rec 0.7590 +- 0.0455 | fs 0.8246 +- 0.0208 | auc 0.7376 +- 0.0213\n",
      "cv:  6 acc 0.7302 +- 0.0409 | pre 0.9011 +- 0.0270 | rec 0.7349 +- 0.0470 | fs 0.8087 +- 0.0325 | auc 0.7242 +- 0.0466\n",
      "cv:  6 acc 0.7565 +- 0.0273 | pre 0.8989 +- 0.0182 | rec 0.7750 +- 0.0306 | fs 0.8320 +- 0.0204 | auc 0.7330 +- 0.0335\n",
      "cv:  6 acc 0.7483 +- 0.0472 | pre 0.8978 +- 0.0186 | rec 0.7640 +- 0.0596 | fs 0.8244 +- 0.0382 | auc 0.7283 +- 0.0396\n",
      "Classifier:  RF\n",
      "cv:  6 acc 0.7963 +- 0.0070 | pre 0.8870 +- 0.0057 | rec 0.8468 +- 0.0174 | fs 0.8663 +- 0.0064 | auc 0.7323 +- 0.0062\n",
      "cv:  6 acc 0.7976 +- 0.0070 | pre 0.8955 +- 0.0093 | rec 0.8383 +- 0.0089 | fs 0.8659 +- 0.0045 | auc 0.7460 +- 0.0159\n",
      "cv:  6 acc 0.7901 +- 0.0077 | pre 0.8970 +- 0.0076 | rec 0.8257 +- 0.0141 | fs 0.8597 +- 0.0061 | auc 0.7450 +- 0.0113\n",
      "cv:  6 acc 0.7937 +- 0.0141 | pre 0.8961 +- 0.0097 | rec 0.8320 +- 0.0200 | fs 0.8627 +- 0.0106 | auc 0.7451 +- 0.0177\n",
      "cv:  6 acc 0.7914 +- 0.0246 | pre 0.8955 +- 0.0117 | rec 0.8290 +- 0.0267 | fs 0.8608 +- 0.0178 | auc 0.7437 +- 0.0258\n",
      "Classifier:  PCAKNN\n",
      "cv:  6 acc 0.7321 +- 0.0025 | pre 0.7786 +- 0.0002 | rec 0.9173 +- 0.0042 | fs 0.8422 +- 0.0019 | auc 0.4974 +- 0.0006\n",
      "cv:  6 acc 0.7374 +- 0.0033 | pre 0.7796 +- 0.0023 | rec 0.9244 +- 0.0051 | fs 0.8459 +- 0.0022 | auc 0.5003 +- 0.0054\n",
      "cv:  6 acc 0.7453 +- 0.0077 | pre 0.7813 +- 0.0010 | rec 0.9350 +- 0.0133 | fs 0.8512 +- 0.0056 | auc 0.5048 +- 0.0034\n",
      "cv:  6 acc 0.7437 +- 0.0044 | pre 0.7813 +- 0.0022 | rec 0.9320 +- 0.0041 | fs 0.8500 +- 0.0027 | auc 0.5048 +- 0.0056\n",
      "cv:  6 acc 0.7450 +- 0.0109 | pre 0.7814 +- 0.0041 | rec 0.9341 +- 0.0123 | fs 0.8510 +- 0.0070 | auc 0.5051 +- 0.0113\n",
      "Classifier:  KNN\n",
      "cv:  6 acc 0.6795 +- 0.0038 | pre 0.7879 +- 0.0005 | rec 0.8058 +- 0.0075 | fs 0.7967 +- 0.0034 | auc 0.5193 +- 0.0007\n",
      "cv:  6 acc 0.6825 +- 0.0087 | pre 0.7913 +- 0.0013 | rec 0.8050 +- 0.0143 | fs 0.7980 +- 0.0073 | auc 0.5271 +- 0.0039\n",
      "cv:  6 acc 0.6890 +- 0.0064 | pre 0.7935 +- 0.0027 | rec 0.8126 +- 0.0127 | fs 0.8029 +- 0.0056 | auc 0.5324 +- 0.0051\n",
      "cv:  6 acc 0.6861 +- 0.0156 | pre 0.7927 +- 0.0073 | rec 0.8088 +- 0.0205 | fs 0.8006 +- 0.0116 | auc 0.5305 +- 0.0170\n",
      "cv:  6 acc 0.6884 +- 0.0096 | pre 0.7928 +- 0.0034 | rec 0.8126 +- 0.0145 | fs 0.8025 +- 0.0077 | auc 0.5309 +- 0.0075\n",
      "Classifier:  XGB\n",
      "cv:  6 acc 0.8263 +- 0.0078 | pre 0.8518 +- 0.0008 | rec 0.9409 +- 0.0135 | fs 0.8941 +- 0.0056 | auc 0.6809 +- 0.0008\n",
      "cv:  6 acc 0.8335 +- 0.0146 | pre 0.8537 +- 0.0060 | rec 0.9489 +- 0.0131 | fs 0.8988 +- 0.0092 | auc 0.6871 +- 0.0167\n",
      "cv:  6 acc 0.8332 +- 0.0083 | pre 0.8521 +- 0.0059 | rec 0.9510 +- 0.0057 | fs 0.8989 +- 0.0050 | auc 0.6837 +- 0.0136\n",
      "cv:  6 acc 0.8351 +- 0.0093 | pre 0.8525 +- 0.0046 | rec 0.9536 +- 0.0111 | fs 0.9002 +- 0.0060 | auc 0.6850 +- 0.0114\n",
      "cv:  6 acc 0.8358 +- 0.0143 | pre 0.8532 +- 0.0105 | rec 0.9536 +- 0.0074 | fs 0.9006 +- 0.0084 | auc 0.6865 +- 0.0248\n",
      "Classifier:  SVM\n",
      "cv:  6 acc 0.7795 +- 0.0001 | pre 0.7795 +- 0.0001 | rec 1.0000 +- 0.0000 | fs 0.8761 +- 0.0000 | auc 0.5000 +- 0.0000\n",
      "cv:  6 acc 0.7795 +- 0.0003 | pre 0.7795 +- 0.0003 | rec 1.0000 +- 0.0000 | fs 0.8761 +- 0.0002 | auc 0.5000 +- 0.0000\n",
      "cv:  6 acc 0.7795 +- 0.0005 | pre 0.7795 +- 0.0005 | rec 1.0000 +- 0.0000 | fs 0.8761 +- 0.0003 | auc 0.5000 +- 0.0000\n",
      "cv:  6 acc 0.7795 +- 0.0001 | pre 0.7795 +- 0.0001 | rec 1.0000 +- 0.0000 | fs 0.8761 +- 0.0001 | auc 0.5000 +- 0.0000\n",
      "cv:  6 acc 0.7795 +- 0.0006 | pre 0.7795 +- 0.0006 | rec 1.0000 +- 0.0000 | fs 0.8761 +- 0.0004 | auc 0.5000 +- 0.0000\n"
     ]
    }
   ],
   "source": [
    "view_results(clfs_results)"
   ]
  },
  {
   "cell_type": "code",
   "execution_count": 133,
   "metadata": {
    "scrolled": true
   },
   "outputs": [
    {
     "name": "stdout",
     "output_type": "stream",
     "text": [
      "[[ 70  91]\n",
      " [ 32 567]]\n",
      "AUC:  0.8532388349111873\n"
     ]
    },
    {
     "data": {
      "image/png": "[encoded data removed]",
      "text/plain": [
       "<matplotlib.figure.Figure at 0x1fa96d3d128>"
      ]
     },
     "metadata": {},
     "output_type": "display_data"
    },
    {
     "name": "stdout",
     "output_type": "stream",
     "text": [
      "Normalized confusion matrix\n"
     ]
    },
    {
     "data": {
      "image/png": "[encoded data removed]",
      "text/plain": [
       "<matplotlib.figure.Figure at 0x1fa96e01048>"
      ]
     },
     "metadata": {},
     "output_type": "display_data"
    }
   ],
   "source": [
    "model =clfs_results['XGB'][6]['best_model']\n",
    "model.fit(X_grid,y_grid)\n",
    "y_pred = model.predict(X_test)\n",
    "y_proba = model.predict_proba(X_test)[:,1]\n",
    "# predict_mine = np.where(y_proba > 0.989, 1, 0)\n",
    "print(confusion_matrix(y_test, y_pred))\n",
    "roc_curve_plot(model, X_test, y_test)\n",
    "plot_confusion_matrix(y_test, y_pred, ['Negocio', 'No Negocio'], normalize=True)"
   ]
  },
  {
   "cell_type": "code",
   "execution_count": 172,
   "metadata": {},
   "outputs": [
    {
     "data": {
      "text/plain": [
       "array([2.26791045, 0.64140988])"
      ]
     },
     "execution_count": 172,
     "metadata": {},
     "output_type": "execute_result"
    }
   ],
   "source": [
    "n_samples = X_grid.shape[0]  \n",
    "n_classes = 2\n",
    "y = y_grid\n",
    "weights = n_samples / (n_classes * np.bincount(y))\n",
    "weights"
   ]
  },
  {
   "cell_type": "code",
   "execution_count": 194,
   "metadata": {},
   "outputs": [
    {
     "name": "stdout",
     "output_type": "stream",
     "text": [
      "501 111\n",
      "             precision    recall  f1-score   support\n",
      "\n",
      "          0       0.53      0.69      0.60       161\n",
      "          1       0.91      0.84      0.87       599\n",
      "\n",
      "avg / total       0.83      0.81      0.81       760\n",
      "\n",
      "Test: Recall: 0.909  Precision: 0.836\n",
      "Normalized confusion matrix\n"
     ]
    },
    {
     "data": {
      "image/png": "[encoded data removed]",
      "text/plain": [
       "<matplotlib.figure.Figure at 0x1fa96d97208>"
      ]
     },
     "metadata": {},
     "output_type": "display_data"
    },
    {
     "name": "stdout",
     "output_type": "stream",
     "text": [
      "482 116\n",
      "             precision    recall  f1-score   support\n",
      "\n",
      "          0       0.50      0.72      0.59       161\n",
      "          1       0.91      0.80      0.86       599\n",
      "\n",
      "avg / total       0.83      0.79      0.80       760\n",
      "\n",
      "Test: Recall: 0.915  Precision: 0.805\n",
      "Normalized confusion matrix\n"
     ]
    },
    {
     "data": {
      "image/png": "[encoded data removed]",
      "text/plain": [
       "<matplotlib.figure.Figure at 0x1fa92785f98>"
      ]
     },
     "metadata": {},
     "output_type": "display_data"
    },
    {
     "name": "stdout",
     "output_type": "stream",
     "text": [
      "498 107\n",
      "             precision    recall  f1-score   support\n",
      "\n",
      "          0       0.51      0.66      0.58       161\n",
      "          1       0.90      0.83      0.87       599\n",
      "\n",
      "avg / total       0.82      0.80      0.80       760\n",
      "\n",
      "Test: Recall: 0.902  Precision: 0.831\n",
      "Normalized confusion matrix\n"
     ]
    },
    {
     "data": {
      "image/png": "[encoded data removed]",
      "text/plain": [
       "<matplotlib.figure.Figure at 0x1fa96602748>"
      ]
     },
     "metadata": {},
     "output_type": "display_data"
    },
    {
     "name": "stdout",
     "output_type": "stream",
     "text": [
      "497 104\n",
      "             precision    recall  f1-score   support\n",
      "\n",
      "          0       0.50      0.65      0.57       161\n",
      "          1       0.90      0.83      0.86       599\n",
      "\n",
      "avg / total       0.81      0.79      0.80       760\n",
      "\n",
      "Test: Recall: 0.897  Precision: 0.830\n",
      "Normalized confusion matrix\n"
     ]
    },
    {
     "data": {
      "image/png": "[encoded data removed]",
      "text/plain": [
       "<matplotlib.figure.Figure at 0x1fa939b3eb8>"
      ]
     },
     "metadata": {},
     "output_type": "display_data"
    },
    {
     "name": "stdout",
     "output_type": "stream",
     "text": [
      "497 105\n",
      "             precision    recall  f1-score   support\n",
      "\n",
      "          0       0.51      0.65      0.57       161\n",
      "          1       0.90      0.83      0.86       599\n",
      "\n",
      "avg / total       0.82      0.79      0.80       760\n",
      "\n",
      "Test: Recall: 0.899  Precision: 0.830\n",
      "Normalized confusion matrix\n"
     ]
    },
    {
     "data": {
      "image/png": "[encoded data removed]",
      "text/plain": [
       "<matplotlib.figure.Figure at 0x1fa93323f28>"
      ]
     },
     "metadata": {},
     "output_type": "display_data"
    }
   ],
   "source": [
    "def battle_conf_matrix(clf, results):\n",
    "    for cv in results[clf].keys():\n",
    "        model =results[clf][cv]['best_model']\n",
    "#         model.set_params(class_weight='balanced')\n",
    "        model.fit(X_grid,y_grid)\n",
    "        y_pred = model.predict(X_test)\n",
    "        y_proba = model.predict_proba(X_test)[:,1]\n",
    "        tn, fp, fn, tp = confusion_matrix(y_test, y_pred).ravel()\n",
    "        print(tp, tn)\n",
    "        print(classification_report(y_test, y_pred))\n",
    "        print('Test: Recall: %.3f' % (tp/(tp+fp)), ' Precision: %.3f' % (tp/(tp+fn)))\n",
    "        # predict_mine = np.where(y_proba > 0.989, 1, 0)\n",
    "    #     print(confusion_matrix(y_test, y_pred))\n",
    "    #     roc_curve_plot(model, X_test, y_test)\n",
    "        plot_confusion_matrix(y_test, y_pred, ['Negocio', 'No Negocio'], \\\n",
    "                              normalize=True, title='Confusion Matrix {} cv:{}'.format(clf, cv))\n",
    "\n",
    "battle_conf_matrix('RF', a_n_results)"
   ]
  },
  {
   "cell_type": "code",
   "execution_count": 207,
   "metadata": {},
   "outputs": [],
   "source": [
    "def cumulative_gain_curve_m(y_true, y_score, pos_label=None):\n",
    "    y_true, y_score = np.asarray(y_true), np.asarray(y_score)\n",
    "\n",
    "    # ensure binary classification if pos_label is not specified\n",
    "    classes = np.unique(y_true)\n",
    "    if (pos_label is None and\n",
    "        not (np.array_equal(classes, [0, 1]) or\n",
    "             np.array_equal(classes, [-1, 1]) or\n",
    "             np.array_equal(classes, [0]) or\n",
    "             np.array_equal(classes, [-1]) or\n",
    "             np.array_equal(classes, [1]))):\n",
    "        raise ValueError(\"Data is not binary and pos_label is not specified\")\n",
    "    elif pos_label is None:\n",
    "        pos_label = 1.\n",
    "\n",
    "    # make y_true a boolean vector\n",
    "    y_true = (y_true == pos_label)\n",
    "\n",
    "    sorted_indices = np.argsort(y_score)[::-1]\n",
    "    y_true = y_true[sorted_indices]\n",
    "    gains = np.cumsum(y_true)\n",
    "\n",
    "    percentages = np.arange(start=1, stop=len(y_true) + 1)\n",
    "\n",
    "    gains = gains / float(np.sum(y_true))\n",
    "    percentages = percentages / float(len(y_true))\n",
    "\n",
    "    gains = np.insert(gains, 0, [0])\n",
    "    percentages = np.insert(percentages, 0, [0])\n",
    "\n",
    "    return percentages, gains"
   ]
  },
  {
   "cell_type": "code",
   "execution_count": 236,
   "metadata": {},
   "outputs": [],
   "source": [
    "def plot_lift_curve_m(clf, results, X_test, y_test, threshold = None):\n",
    "    y_true = y_test\n",
    "    data = []\n",
    "    for cv in results[clf].keys():\n",
    "        r = results[clf][cv]\n",
    "        \n",
    "        model.fit(X_grid, y_grid)\n",
    "        y_probas = model.predict_proba(X_test)\n",
    "    \n",
    "        if threshold:\n",
    "            y_pred = np.where(predict_probabilities > threshold, 1, 0)\n",
    "\n",
    "        y_true = np.array(y_true)\n",
    "\n",
    "        classes = np.unique(y_true)\n",
    "        if len(classes) != 2:\n",
    "            raise ValueError('Cannot calculate Lift Curve for data with '\n",
    "                             '{} category/ies'.format(len(classes)))\n",
    "\n",
    "        # Compute Cumulative Gain Curves\n",
    "        percentages, gains2 = cumulative_gain_curve_m(y_true, y_probas[:, 1], classes[1])\n",
    "\n",
    "        percentages = percentages[1:]\n",
    "        gains2 = gains2[1:]\n",
    "\n",
    "        gains2 = gains2 / percentages\n",
    "\n",
    "        trace1 = go.Scatter(\n",
    "            x = percentages,\n",
    "            y = gains2,\n",
    "            mode = 'lines+markers',\n",
    "            name = clf\n",
    "        )\n",
    "        data.append(trace1)\n",
    "    \n",
    "    trace2 = go.Scatter(\n",
    "        x = [0,1],\n",
    "        y = [1,1],\n",
    "        line = dict(\n",
    "            color = ('rgb(205, 12, 24)'),\n",
    "            width = 4,\n",
    "            dash = 'dot'\n",
    "        ),\n",
    "        name = 'baseline'\n",
    "    )\n",
    "    data.append(trace2)\n",
    "    \n",
    "    layout = dict(title = 'Lift Curve',\n",
    "              xaxis = dict(title = 'Porcentaje de la Muestra (%)'),\n",
    "              yaxis = dict(title = 'Gain'),\n",
    "              )\n",
    "    return {'data':data, 'layout':layout}"
   ]
  },
  {
   "cell_type": "code",
   "execution_count": 238,
   "metadata": {},
   "outputs": [
    {
     "data": {
      "text/html": [
       "<iframe id=\"igraph\" scrolling=\"no\" style=\"border:none;\" seamless=\"seamless\" src=\"https://plot.ly/~jcardenas.lie/60.embed\" height=\"525px\" width=\"100%\"></iframe>"
      ],
      "text/plain": [
       "<plotly.tools.PlotlyDisplay object>"
      ]
     },
     "execution_count": 238,
     "metadata": {},
     "output_type": "execute_result"
    }
   ],
   "source": [
    "data = plot_lift_curve_m('XGB', a_n_results, X_test, y_test)\n",
    "py.iplot(data, filename='basic-line')"
   ]
  },
  {
   "cell_type": "code",
   "execution_count": 210,
   "metadata": {},
   "outputs": [
    {
     "data": {
      "image/png": "[encoded data removed]",
      "text/plain": [
       "<matplotlib.figure.Figure at 0x1fa9a9217f0>"
      ]
     },
     "metadata": {},
     "output_type": "display_data"
    },
    {
     "data": {
      "text/html": [
       "<iframe id=\"igraph\" scrolling=\"no\" style=\"border:none;\" seamless=\"seamless\" src=\"https://plot.ly/~jcardenas.lie/60.embed\" height=\"525px\" width=\"100%\"></iframe>"
      ],
      "text/plain": [
       "<plotly.tools.PlotlyDisplay object>"
      ]
     },
     "execution_count": 210,
     "metadata": {},
     "output_type": "execute_result"
    }
   ],
   "source": [
    "roc_battle('LR', clfs_results)\n"
   ]
  },
  {
   "cell_type": "code",
   "execution_count": 191,
   "metadata": {},
   "outputs": [
    {
     "data": {
      "text/html": [
       "<iframe id=\"igraph\" scrolling=\"no\" style=\"border:none;\" seamless=\"seamless\" src=\"https://plot.ly/~jcardenas.lie/60.embed\" height=\"525px\" width=\"100%\"></iframe>"
      ],
      "text/plain": [
       "<plotly.tools.PlotlyDisplay object>"
      ]
     },
     "execution_count": 191,
     "metadata": {},
     "output_type": "execute_result"
    }
   ],
   "source": [
    "def battle_cv(clf):\n",
    "    data, cv_a, acc, rec, pre, auc, fs = [], [], [], [], [], [], []\n",
    "    for cv in a_n_results[clf].keys():\n",
    "        r = a_n_results[clf][cv]\n",
    "        cv_a.append(cv);acc.append(r['acc']);rec.append(r['rec']);pre.append(r['pre'])\n",
    "        auc.append(r['auc']);fs.append(r['fs'])\n",
    "    metrics = [acc,rec,pre,auc,fs]\n",
    "    metrics_name = ['acc','rec','pre','auc','fs']\n",
    "    for i in range(len(metrics)):\n",
    "        trace = go.Scatter(\n",
    "            x = cv_a,\n",
    "            y = metrics[i],\n",
    "            name= metrics_name[i]\n",
    "        )\n",
    "        data.append(trace)\n",
    "    return data\n",
    "data = battle_cv('XGB')\n",
    "py.iplot(data, filename='basic-line')"
   ]
  },
  {
   "cell_type": "code",
   "execution_count": 162,
   "metadata": {},
   "outputs": [
    {
     "data": {
      "text/html": [
       "<iframe id=\"igraph\" scrolling=\"no\" style=\"border:none;\" seamless=\"seamless\" src=\"https://plot.ly/~jcardenas.lie/130.embed\" height=\"525px\" width=\"100%\"></iframe>"
      ],
      "text/plain": [
       "<plotly.tools.PlotlyDisplay object>"
      ]
     },
     "execution_count": 162,
     "metadata": {},
     "output_type": "execute_result"
    }
   ],
   "source": [
    "fig = box_plot(a_n_results ,'rec')\n",
    "py.iplot(fig)\n"
   ]
  },
  {
   "cell_type": "code",
   "execution_count": null,
   "metadata": {},
   "outputs": [],
   "source": [
    "roc_battle('RF', r_n_results)"
   ]
  },
  {
   "cell_type": "markdown",
   "metadata": {},
   "source": [
    "# NEGOCIO ANALYSIS"
   ]
  },
  {
   "cell_type": "code",
   "execution_count": 53,
   "metadata": {},
   "outputs": [
    {
     "ename": "NameError",
     "evalue": "name 'p_c_results' is not defined",
     "output_type": "error",
     "traceback": [
      "\u001b[1;31m---------------------------------------------------------------------------\u001b[0m",
      "\u001b[1;31mNameError\u001b[0m                                 Traceback (most recent call last)",
      "\u001b[1;32m<ipython-input-53-9bd2f9c871fb>\u001b[0m in \u001b[0;36m<module>\u001b[1;34m()\u001b[0m\n\u001b[1;32m----> 1\u001b[1;33m \u001b[0mroc_battle\u001b[0m\u001b[1;33m(\u001b[0m\u001b[1;34m'XGB'\u001b[0m\u001b[1;33m,\u001b[0m \u001b[0mp_c_results\u001b[0m\u001b[1;33m)\u001b[0m\u001b[1;33m\u001b[0m\u001b[0m\n\u001b[0m",
      "\u001b[1;31mNameError\u001b[0m: name 'p_c_results' is not defined"
     ]
    }
   ],
   "source": [
    "roc_battle('XGB', p_c_results)"
   ]
  },
  {
   "cell_type": "code",
   "execution_count": null,
   "metadata": {},
   "outputs": [],
   "source": [
    "roc_battle('XGB', r_c_results)"
   ]
  },
  {
   "cell_type": "code",
   "execution_count": null,
   "metadata": {},
   "outputs": [],
   "source": [
    "model =p_c_results['XGB'][3]['best_model']\n",
    "model.fit(X_train,y_train)\n",
    "y_pred = model.predict(X_test)\n",
    "y_proba = model.predict_proba(X_test)[:,1]\n",
    "predict_mine = np.where(y_proba > 0.989, 1, 0)\n",
    "print(confusion_matrix(y_test, predict_mine))\n",
    "roc_curve_plot(model, X_test, y_test)\n",
    "plot_confusion_matrix(y_test, predict_mine, ['Compra', 'No Compra'], normalize=True)"
   ]
  },
  {
   "cell_type": "code",
   "execution_count": null,
   "metadata": {},
   "outputs": [],
   "source": [
    "model =r_c_results['XGB'][3]['best_model']\n",
    "model.fit(X_train,y_train)\n",
    "y_pred = model.predict(X_test)\n",
    "y_proba = model.predict_proba(X_test)[:,1]\n",
    "predict_mine = np.where(y_proba > 0.94, 1, 0)\n",
    "print(confusion_matrix(y_test, predict_mine))\n",
    "roc_curve_plot(model, X_test, y_test)\n",
    "plot_confusion_matrix(y_test, predict_mine, ['Compra', 'No Compra'], normalize=True)"
   ]
  },
  {
   "cell_type": "code",
   "execution_count": 126,
   "metadata": {},
   "outputs": [
    {
     "data": {
      "image/png": "[encoded data removed]",
      "text/plain": [
       "<matplotlib.figure.Figure at 0x1fa96adeda0>"
      ]
     },
     "metadata": {},
     "output_type": "display_data"
    }
   ],
   "source": [
    "import numpy as np\n",
    "from scipy import interp\n",
    "import matplotlib.pyplot as plt\n",
    "from itertools import cycle\n",
    "\n",
    "from sklearn import svm, datasets\n",
    "from sklearn.metrics import roc_curve, auc\n",
    "from sklearn.model_selection import StratifiedKFold\n",
    "\n",
    "# #############################################################################\n",
    "# Data IO and generation\n",
    "\n",
    "# Import some data to play with\n",
    "iris = datasets.load_iris()\n",
    "X = iris.data\n",
    "y = iris.target\n",
    "X, y = X[y != 2], y[y != 2]\n",
    "n_samples, n_features = X.shape\n",
    "\n",
    "# Add noisy features\n",
    "random_state = np.random.RandomState(0)\n",
    "X = np.c_[X, random_state.randn(n_samples, 200 * n_features)]\n",
    "\n",
    "# #############################################################################\n",
    "# Classification and ROC analysis\n",
    "\n",
    "# Run classifier with cross-validation and plot ROC curves\n",
    "cv = StratifiedKFold(n_splits=10)\n",
    "# classifier = svm.SVC(kernel='linear', probability=True,\n",
    "#                      random_state=random_state)\n",
    "\n",
    "classifier = clfs_results['RF'][4]['best_model']\n",
    "tprs = []\n",
    "aucs = []\n",
    "mean_fpr = np.linspace(0, 1, 100)\n",
    "\n",
    "i = 0\n",
    "for train, test in cv.split(X, y):\n",
    "    probas_ = classifier.fit(X_grid, y_grid).predict_proba(X_test)\n",
    "    # Compute ROC curve and area the curve\n",
    "    fpr, tpr, thresholds = roc_curve(y_test, probas_[:, 1])\n",
    "    tprs.append(interp(mean_fpr, fpr, tpr))\n",
    "    tprs[-1][0] = 0.0\n",
    "    roc_auc = auc(fpr, tpr)\n",
    "    aucs.append(roc_auc)\n",
    "    plt.plot(fpr, tpr, lw=1, alpha=0.3,\n",
    "             label='ROC fold %d (AUC = %0.2f)' % (i, roc_auc))\n",
    "\n",
    "    i += 1\n",
    "plt.plot([0, 1], [0, 1], linestyle='--', lw=2, color='r',\n",
    "         label='Chance', alpha=.8)\n",
    "\n",
    "mean_tpr = np.mean(tprs, axis=0)\n",
    "mean_tpr[-1] = 1.0\n",
    "mean_auc = auc(mean_fpr, mean_tpr)\n",
    "std_auc = np.std(aucs)\n",
    "plt.plot(mean_fpr, mean_tpr, color='b',\n",
    "         label=r'Mean ROC (AUC = %0.2f $\\pm$ %0.2f)' % (mean_auc, std_auc),\n",
    "         lw=2, alpha=.8)\n",
    "\n",
    "std_tpr = np.std(tprs, axis=0)\n",
    "tprs_upper = np.minimum(mean_tpr + std_tpr, 1)\n",
    "tprs_lower = np.maximum(mean_tpr - std_tpr, 0)\n",
    "plt.fill_between(mean_fpr, tprs_lower, tprs_upper, color='grey', alpha=.2,\n",
    "                 label=r'$\\pm$ 1 std. dev.')\n",
    "\n",
    "plt.xlim([-0.05, 1.05])\n",
    "plt.ylim([-0.05, 1.05])\n",
    "plt.xlabel('False Positive Rate')\n",
    "plt.ylabel('True Positive Rate')\n",
    "plt.title('Receiver operating characteristic example')\n",
    "plt.legend(loc=\"lower right\")\n",
    "plt.show()"
   ]
  },
  {
   "cell_type": "code",
   "execution_count": null,
   "metadata": {
    "scrolled": false
   },
   "outputs": [],
   "source": [
    "model = clfs_results['RF'][8]['grid_best_model']\n",
    "clf_probas = model.predict_proba(X_test)\n",
    "# classifier_insights(y_test, clf_probas, model,'XGB', f_importance=True)"
   ]
  },
  {
   "cell_type": "code",
   "execution_count": null,
   "metadata": {},
   "outputs": [],
   "source": []
  }
 ],
 "metadata": {
  "kernelspec": {
   "display_name": "Python 3",
   "language": "python",
   "name": "python3"
  },
  "language_info": {
   "codemirror_mode": {
    "name": "ipython",
    "version": 3
   },
   "file_extension": ".py",
   "mimetype": "text/x-python",
   "name": "python",
   "nbconvert_exporter": "python",
   "pygments_lexer": "ipython3",
   "version": "3.6.4"
  }
 },
 "nbformat": 4,
 "nbformat_minor": 2
}
