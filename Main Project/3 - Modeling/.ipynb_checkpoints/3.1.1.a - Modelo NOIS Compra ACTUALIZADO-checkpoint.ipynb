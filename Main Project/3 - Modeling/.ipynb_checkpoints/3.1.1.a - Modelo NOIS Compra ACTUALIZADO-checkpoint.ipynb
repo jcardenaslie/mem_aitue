{
 "cells": [
  {
   "cell_type": "markdown",
   "metadata": {},
   "source": [
    "# 0 Utils"
   ]
  },
  {
   "cell_type": "code",
   "execution_count": 45,
   "metadata": {},
   "outputs": [],
   "source": [
    "import os\n",
    "import numpy as np\n",
    "import seaborn as sb\n",
    "%matplotlib inline\n",
    "# sb.set()\n",
    "import matplotlib.pyplot as plt\n",
    "import pandas as pd\n",
    "import shap\n",
    "import copy\n"
   ]
  },
  {
   "cell_type": "code",
   "execution_count": 46,
   "metadata": {},
   "outputs": [],
   "source": [
    "import warnings\n",
    "warnings.filterwarnings('ignore')"
   ]
  },
  {
   "cell_type": "code",
   "execution_count": 47,
   "metadata": {},
   "outputs": [],
   "source": [
    "N_JOBS = 6 # -1 ocupa todo los cores\n",
    "RANDOM_STATE = 42 # para que sea reproducible"
   ]
  },
  {
   "cell_type": "markdown",
   "metadata": {},
   "source": [
    "# 1 Predictors"
   ]
  },
  {
   "cell_type": "code",
   "execution_count": 48,
   "metadata": {},
   "outputs": [],
   "source": [
    "predictors_set = dict()\n",
    "\n",
    "no_is_time_price = [\n",
    "    'is_recontacto', 'is_remoto', 'is_descuento', 'valid_rut',\n",
    "    'loc_comuna', 'loc_provincia', 'loc_region', 'sexo', 'tipo_cliente',\n",
    "    'mean_cot_bod',\n",
    "    'mean_cot_depto', 'mean_cot_esta', 'mean_cot_estu', 'medio_inicial',\n",
    "    'nro_cot_bod', 'nro_cot_depto', 'nro_cot_esta',\n",
    "    'nro_cot_estu', 'nro_proyectos', 'precio_cotizacion_media',\n",
    "    'precio_cotizacion_median', 'precio_cotizacion_std', \n",
    "    \n",
    "    'tiempo_cotizacion_media', 'tiempo_cotizacion_median',\n",
    "    'tiempo_cotizacion_std',   \n",
    "    'Altos del Valle',\n",
    "    'Edificio Urban 1470', \n",
    "#     'San Andres Del Valle', \n",
    "    'Edificio Mil610',\n",
    "       'Edificio Junge']\n",
    "\n",
    "predictors_set ['nois'] = no_is_time_price\n",
    "\n",
    "is_no_time_price = ['actividad', 'is_apellido1', 'is_apellido2',\n",
    "       'is_celular', 'is_direccion', 'is_fnac', 'is_nombre',\n",
    "       'is_nombrecompleto', 'is_nrofam', 'is_presencial', 'is_profesion',\n",
    "       'is_recontacto', 'is_remoto', 'is_telefono', 'loc_comuna',\n",
    "       'loc_provincia', 'loc_region', 'medio_inicial', 'sexo']\n",
    "\n",
    "predictors_set ['isno'] = is_no_time_price \n",
    "\n",
    "complete = [\n",
    "    'actividad', 'is_apellido1', 'is_apellido2',\n",
    "       'is_celular', 'is_descuento', 'is_direccion', 'is_fnac', 'is_nombre',\n",
    "       'is_nombrecompleto', 'is_nrofam', 'is_presencial', 'is_profesion',\n",
    "       'is_recontacto', 'is_remoto', 'is_telefono', 'loc_comuna',\n",
    "       'loc_provincia', 'loc_region', 'max_rango_edad', 'medio_inicial', 'sexo'\n",
    "    \n",
    "    'mean_cot_bod',\n",
    "    'mean_cot_depto', 'mean_cot_esta', 'mean_cot_estu', 'medio_inicial',\n",
    "    'nro_cot_bod', 'nro_cot_depto', 'nro_cot_esta',\n",
    "    'nro_cot_estu', 'nro_proyectos', 'precio_cotizacion_media',\n",
    "    'precio_cotizacion_median', 'precio_cotizacion_std', \n",
    "    \n",
    "    'tiempo_cotizacion_media', 'tiempo_cotizacion_median',\n",
    "    'tiempo_cotizacion_std',   \n",
    "    'Altos del Valle',\n",
    "    'Edificio Urban 1470', \n",
    "#     'San Andres Del Valle', \n",
    "    'Edificio Mil610',\n",
    "       'Edificio Junge']\n",
    "\n",
    "predictors_set [''] = complete "
   ]
  },
  {
   "cell_type": "code",
   "execution_count": 49,
   "metadata": {},
   "outputs": [],
   "source": [
    "personas10 = pd.read_csv('..\\\\..\\\\Datos\\\\experiments\\\\personas_cotizacion10.csv' , index_col=[0], encoding = \"ISO-8859-1\")\n",
    "personas8 = pd.read_csv('..\\\\..\\\\Datos\\\\experiments\\\\personas_cotizacion8.csv' , index_col=[0], encoding = \"ISO-8859-1\")"
   ]
  },
  {
   "cell_type": "code",
   "execution_count": 50,
   "metadata": {},
   "outputs": [
    {
     "data": {
      "text/plain": [
       "{'Altos del Valle',\n",
       " 'Edificio Junge',\n",
       " 'Edificio Mil610',\n",
       " 'Edificio Urban 1470',\n",
       " 'San Andres Del Valle',\n",
       " 'altos del valle',\n",
       " 'apellido1',\n",
       " 'apellido2',\n",
       " 'celular',\n",
       " 'correo',\n",
       " 'direccion',\n",
       " 'edad',\n",
       " 'edificio junge',\n",
       " 'edificio mil610',\n",
       " 'edificio urban 1470',\n",
       " 'nombre',\n",
       " 'profesion',\n",
       " 'rut_original',\n",
       " 'san andres del valle',\n",
       " 'trabajo'}"
      ]
     },
     "execution_count": 50,
     "metadata": {},
     "output_type": "execute_result"
    }
   ],
   "source": [
    "s1 = set(personas10.columns)\n",
    "s2 = set(personas8.columns)\n",
    "matched = s1.intersection(s2) # set(['dog', 'cat', 'donkey'])\n",
    "unmatched = s1.symmetric_difference(s2) # set(['pig'])\n",
    "unmatched"
   ]
  },
  {
   "cell_type": "markdown",
   "metadata": {},
   "source": [
    "# 1 Set Experiment"
   ]
  },
  {
   "cell_type": "code",
   "execution_count": 51,
   "metadata": {},
   "outputs": [],
   "source": [
    "base_folder = 'resultados'\n",
    "if not os.path.exists(base_folder):\n",
    "    os.mkdir(base_folder)\n",
    "    \n",
    "predictores = 'isno'\n",
    "if not os.path.exists('{}\\\\{}'.format(base_folder, predictores)):\n",
    "    os.mkdir('{}\\\\{}'.format(base_folder, predictores))\n",
    "\n",
    "target_variable = 'compra'\n",
    "if not os.path.exists('{}\\\\{}\\\\{}'.format(base_folder, predictores, target_variable)):\n",
    "    os.mkdir('{}\\\\{}\\\\{}'.format(base_folder, predictores, target_variable))"
   ]
  },
  {
   "cell_type": "code",
   "execution_count": 52,
   "metadata": {},
   "outputs": [],
   "source": [
    "folder_results = '{}\\\\{}\\\\{}'.format(base_folder, predictores, target_variable)"
   ]
  },
  {
   "cell_type": "code",
   "execution_count": 59,
   "metadata": {},
   "outputs": [],
   "source": [
    "# dataset, base nro 2\n",
    "dataset_nro = 10\n",
    "experiment_nro = 1\n",
    "# 'All Proyects', 'Altos del Valle', 'Edificio Urban 1470','San Andres Del Valle', 'Edificio Mil610', 'Edificio Junge'\n",
    "proyecto_select = 'san andres del valle' #cambiable\n",
    "\n",
    "# base, base_profesion, base_minusisprofesion, base_medini_isrec\n",
    "use_predictors = 'isno' #cambiable\n",
    "# experimento 2 y 4 va con True\n",
    "no_nulls = False #cambiable\n",
    "sesgo = False #cambiable"
   ]
  },
  {
   "cell_type": "code",
   "execution_count": 60,
   "metadata": {},
   "outputs": [],
   "source": [
    "# nombre experimento\n",
    "exp_name = \"{} {}\".format(proyecto_select, use_predictors)\n",
    "# eleccion dataset\n",
    "dataset = 'personas_cotizacion{}.csv'.format(dataset_nro)\n",
    "\n",
    "DS_NAME = exp_name\n"
   ]
  },
  {
   "cell_type": "markdown",
   "metadata": {},
   "source": [
    "# 1 Load Dataset"
   ]
  },
  {
   "cell_type": "code",
   "execution_count": 61,
   "metadata": {},
   "outputs": [
    {
     "name": "stdout",
     "output_type": "stream",
     "text": [
      "(6180, 56)\n",
      "(6180, 56)\n"
     ]
    }
   ],
   "source": [
    "personas = pd.read_csv('..\\\\..\\\\Datos\\\\experiments\\\\{}'.format(dataset), index_col=[0], encoding = \"ISO-8859-1\")\n",
    "personas_info = pd.read_csv('..\\\\..\\\\Datos\\\\experiments\\\\personas_cotizacion10.csv', index_col=[0], encoding = \"ISO-8859-1\")\n",
    "\n",
    "print(personas.shape)\n",
    "print(personas_info.shape)"
   ]
  },
  {
   "cell_type": "code",
   "execution_count": 62,
   "metadata": {},
   "outputs": [
    {
     "data": {
      "text/plain": [
       "Index(['actividad', 'apellido1', 'apellido2', 'celular', 'compra', 'correo',\n",
       "       'direccion', 'edad', 'is_apellido1', 'is_apellido2', 'is_celular',\n",
       "       'is_descuento', 'is_direccion', 'is_fnac', 'is_nombre',\n",
       "       'is_nombrecompleto', 'is_nrofam', 'is_presencial', 'is_profesion',\n",
       "       'is_recontacto', 'is_remoto', 'is_telefono', 'loc_comuna',\n",
       "       'loc_provincia', 'loc_region', 'max_rango_edad', 'mean_cot_bod',\n",
       "       'mean_cot_depto', 'mean_cot_esta', 'mean_cot_estu', 'medio_inicial',\n",
       "       'negocio', 'nombre', 'nro_cot_bod', 'nro_cot_depto', 'nro_cot_esta',\n",
       "       'nro_cot_estu', 'nro_proyectos', 'precio_cotizacion_media',\n",
       "       'precio_cotizacion_median', 'precio_cotizacion_std', 'profesion', 'rut',\n",
       "       'rut_original', 'sexo', 'tiempo_cotizacion_media',\n",
       "       'tiempo_cotizacion_median', 'tiempo_cotizacion_std', 'tipo_cliente',\n",
       "       'trabajo', 'valid_rut', 'altos del valle', 'edificio urban 1470',\n",
       "       'san andres del valle', 'edificio mil610', 'edificio junge'],\n",
       "      dtype='object')"
      ]
     },
     "execution_count": 62,
     "metadata": {},
     "output_type": "execute_result"
    }
   ],
   "source": [
    "personas.columns"
   ]
  },
  {
   "cell_type": "code",
   "execution_count": 63,
   "metadata": {},
   "outputs": [],
   "source": [
    "# Se pasan las variables categoricas que son objetos a variables categoricas\n",
    "personas['loc_comuna'] = personas['loc_comuna'].astype('category')\n",
    "personas['loc_provincia'] = personas['loc_provincia'].astype('category')\n",
    "personas['loc_region'] = personas['loc_region'].astype('category')\n",
    "personas['tipo_cliente'] = personas['tipo_cliente'].astype('category')\n",
    "personas['sexo'] = personas['sexo'].astype('category')\n",
    "personas['medio_inicial'] = personas['medio_inicial'].astype('category')\n",
    "personas['actividad'] = personas['actividad'].astype('category')\n",
    "\n",
    "personas_info['loc_comuna'] = personas_info['loc_comuna'].astype('category')\n",
    "personas_info['loc_provincia'] = personas_info['loc_provincia'].astype('category')\n",
    "personas_info['loc_region'] = personas_info['loc_region'].astype('category')\n",
    "personas_info['tipo_cliente'] = personas_info['tipo_cliente'].astype('category')\n",
    "personas_info['sexo'] = personas_info['sexo'].astype('category')\n",
    "personas_info['medio_inicial'] = personas_info['medio_inicial'].astype('category')\n",
    "personas_info['actividad'] = personas_info['actividad'].astype('category')"
   ]
  },
  {
   "cell_type": "code",
   "execution_count": 64,
   "metadata": {},
   "outputs": [
    {
     "name": "stdout",
     "output_type": "stream",
     "text": [
      "(3815, 56)\n",
      "(3815, 56)\n"
     ]
    }
   ],
   "source": [
    "# Personas que solo cotizaron en un proyecto especifico\n",
    "# Para E5D5, E6D5 #########################################\n",
    "if proyecto_select != 'All Proyects':\n",
    "    mask = (personas[proyecto_select] > 0)\n",
    "    personas = personas[mask]\n",
    "    \n",
    "    mask = (personas_info[proyecto_select] > 0)\n",
    "    personas_info = personas_info[mask]\n",
    "\n",
    "    ###########################################################\n",
    "print(personas.shape)\n",
    "print(personas_info.shape)\n",
    "predictors = predictors_set[use_predictors]\n",
    "\n",
    "if no_nulls:\n",
    "    personas.replace(['sin informacion'], np.nan, inplace=True)\n",
    "    personas.dropna(inplace=True)"
   ]
  },
  {
   "cell_type": "code",
   "execution_count": 66,
   "metadata": {},
   "outputs": [],
   "source": [
    "personas.to_excel('personas_filtro.xlsx')\n",
    "personas.to_csv('personas_filtro.csv')"
   ]
  },
  {
   "cell_type": "code",
   "execution_count": 67,
   "metadata": {},
   "outputs": [
    {
     "data": {
      "text/plain": [
       "(3815, 56)"
      ]
     },
     "execution_count": 67,
     "metadata": {},
     "output_type": "execute_result"
    }
   ],
   "source": [
    "personas_original = copy.deepcopy(personas)\n",
    "personas_original.shape"
   ]
  },
  {
   "cell_type": "markdown",
   "metadata": {},
   "source": [
    "# DEF VARIABLE OBJETIVO"
   ]
  },
  {
   "cell_type": "code",
   "execution_count": 68,
   "metadata": {},
   "outputs": [
    {
     "data": {
      "text/html": [
       "<div>\n",
       "<style>\n",
       "    .dataframe thead tr:only-child th {\n",
       "        text-align: right;\n",
       "    }\n",
       "\n",
       "    .dataframe thead th {\n",
       "        text-align: left;\n",
       "    }\n",
       "\n",
       "    .dataframe tbody tr th {\n",
       "        vertical-align: top;\n",
       "    }\n",
       "</style>\n",
       "<table border=\"1\" class=\"dataframe\">\n",
       "  <thead>\n",
       "    <tr style=\"text-align: right;\">\n",
       "      <th></th>\n",
       "      <th>compra</th>\n",
       "    </tr>\n",
       "  </thead>\n",
       "  <tbody>\n",
       "    <tr>\n",
       "      <th>0</th>\n",
       "      <td>False</td>\n",
       "    </tr>\n",
       "    <tr>\n",
       "      <th>5</th>\n",
       "      <td>False</td>\n",
       "    </tr>\n",
       "    <tr>\n",
       "      <th>7</th>\n",
       "      <td>False</td>\n",
       "    </tr>\n",
       "    <tr>\n",
       "      <th>8</th>\n",
       "      <td>False</td>\n",
       "    </tr>\n",
       "    <tr>\n",
       "      <th>9</th>\n",
       "      <td>False</td>\n",
       "    </tr>\n",
       "  </tbody>\n",
       "</table>\n",
       "</div>"
      ],
      "text/plain": [
       "   compra\n",
       "0   False\n",
       "5   False\n",
       "7   False\n",
       "8   False\n",
       "9   False"
      ]
     },
     "execution_count": 68,
     "metadata": {},
     "output_type": "execute_result"
    }
   ],
   "source": [
    "# Compra como variable objetivo\n",
    "p_target = pd.DataFrame(personas.compra) # Target EDITABLE\n",
    "p_target.head()"
   ]
  },
  {
   "cell_type": "code",
   "execution_count": 69,
   "metadata": {},
   "outputs": [],
   "source": [
    "# Cambio de [True, False] a [1, -1] para que salgan bien los resultados de la conf matrix\n",
    "p_target.compra = [1 if x == True else -1 for x in p_target.compra] # EDITABLE\n",
    "\n",
    "personas = personas[predictors]"
   ]
  },
  {
   "cell_type": "code",
   "execution_count": 71,
   "metadata": {},
   "outputs": [],
   "source": [
    "personas.to_excel('tmp.xlsx')\n",
    "personas.to_csv('tmp.csv')"
   ]
  },
  {
   "cell_type": "code",
   "execution_count": 72,
   "metadata": {},
   "outputs": [
    {
     "name": "stdout",
     "output_type": "stream",
     "text": [
      "(3815, 1)\n",
      "(3815, 19)\n",
      "Len 3815\n",
      "(3815, 19)\n",
      "(3815, 74)\n"
     ]
    }
   ],
   "source": [
    "# Corroborando que los largos de personas y sus variables objetivos sean iguales\n",
    "\n",
    "print(p_target.shape)\n",
    "print(personas.shape)\n",
    "both = set(personas.index) & set(p_target.index)\n",
    "print('Len', len(both))\n",
    "      \n",
    "\n",
    "print(personas.shape)\n",
    "\n",
    "\n",
    "personas = pd.get_dummies(personas)\n",
    "print(personas.shape)\n",
    "# personas.describe()"
   ]
  },
  {
   "cell_type": "code",
   "execution_count": 73,
   "metadata": {},
   "outputs": [
    {
     "data": {
      "text/plain": [
       "Index(['is_apellido1', 'is_apellido2', 'is_celular', 'is_direccion', 'is_fnac',\n",
       "       'is_nombre', 'is_nombrecompleto', 'is_nrofam', 'is_presencial',\n",
       "       'is_profesion', 'is_recontacto', 'is_remoto', 'is_telefono',\n",
       "       'actividad_duena de casa', 'actividad_empleado', 'actividad_estudiante',\n",
       "       'actividad_independiente (no profesional)', 'actividad_profesional',\n",
       "       'actividad_sin informacion', 'actividad_tecnico',\n",
       "       'loc_comuna_cerrillos', 'loc_comuna_chiguayante',\n",
       "       'loc_comuna_concepcion', 'loc_comuna_conchali', 'loc_comuna_coronel',\n",
       "       'loc_comuna_el bosque', 'loc_comuna_estacion central',\n",
       "       'loc_comuna_florida', 'loc_comuna_hualpen', 'loc_comuna_hualqui',\n",
       "       'loc_comuna_huechuraba', 'loc_comuna_independencia',\n",
       "       'loc_comuna_la cisterna', 'loc_comuna_la florida',\n",
       "       'loc_comuna_la reina', 'loc_comuna_las condes', 'loc_comuna_lota',\n",
       "       'loc_comuna_maipu', 'loc_comuna_nunoa', 'loc_comuna_otro',\n",
       "       'loc_comuna_penco', 'loc_comuna_providencia', 'loc_comuna_pudahuel',\n",
       "       'loc_comuna_quilicura', 'loc_comuna_renca', 'loc_comuna_san miguel',\n",
       "       'loc_comuna_san pedro de la paz', 'loc_comuna_san ramon',\n",
       "       'loc_comuna_santa juana', 'loc_comuna_santiago',\n",
       "       'loc_comuna_talcahuano', 'loc_comuna_tome', 'loc_comuna_vitacura',\n",
       "       'loc_provincia_concepcion', 'loc_provincia_otro',\n",
       "       'loc_provincia_santiago', 'loc_region_bio-bio',\n",
       "       'loc_region_metropolitana', 'loc_region_otro', 'medio_inicial_eventos',\n",
       "       'medio_inicial_finco', 'medio_inicial_internet',\n",
       "       'medio_inicial_letreros', 'medio_inicial_prensa', 'medio_inicial_radio',\n",
       "       'medio_inicial_recontacto', 'medio_inicial_recorrido por el sector',\n",
       "       'medio_inicial_referidos', 'medio_inicial_revistas', 'medio_inicial_tv',\n",
       "       'medio_inicial_volantes', 'sexo_empresa', 'sexo_femenino',\n",
       "       'sexo_masculino'],\n",
       "      dtype='object')"
      ]
     },
     "execution_count": 73,
     "metadata": {},
     "output_type": "execute_result"
    }
   ],
   "source": [
    "personas.columns"
   ]
  },
  {
   "cell_type": "markdown",
   "metadata": {},
   "source": [
    "# 3 Supervised Learning: Classification"
   ]
  },
  {
   "cell_type": "markdown",
   "metadata": {},
   "source": [
    "## 3.1 Libraries"
   ]
  },
  {
   "cell_type": "code",
   "execution_count": 74,
   "metadata": {},
   "outputs": [],
   "source": [
    "from sklearn.model_selection import train_test_split\n",
    "from sklearn.neighbors import KNeighborsClassifier\n",
    "from sklearn.metrics import classification_report, confusion_matrix, roc_curve, precision_recall_fscore_support\n",
    "from sklearn.model_selection import GridSearchCV\n",
    "from sklearn.linear_model import LogisticRegression\n",
    "from scipy.stats import randint\n",
    "from sklearn.tree import DecisionTreeClassifier\n",
    "from sklearn.model_selection import RandomizedSearchCV\n",
    "from sklearn.ensemble import RandomForestClassifier\n",
    "from sklearn.metrics import roc_auc_score\n",
    "from sklearn import metrics\n",
    "from sklearn.preprocessing import MinMaxScaler\n",
    "from sklearn.pipeline import Pipeline\n",
    "from sklearn.decomposition import PCA\n",
    "\n",
    "from sklearn import svm\n",
    "from xgboost import XGBClassifier\n",
    "\n",
    "import itertools\n",
    "\n",
    "from sklearn.model_selection import GridSearchCV, StratifiedKFold, StratifiedShuffleSplit\n",
    "from sklearn.metrics import make_scorer, accuracy_score, precision_score, recall_score, f1_score, roc_auc_score\n"
   ]
  },
  {
   "cell_type": "markdown",
   "metadata": {},
   "source": [
    "## 3.2 Check the Dataset"
   ]
  },
  {
   "cell_type": "code",
   "execution_count": 75,
   "metadata": {
    "scrolled": true
   },
   "outputs": [
    {
     "name": "stdout",
     "output_type": "stream",
     "text": [
      "Tamaño Total:  (3815, 74)\n"
     ]
    },
    {
     "ename": "AttributeError",
     "evalue": "'DataFrame' object has no attribute 'negocio'",
     "output_type": "error",
     "traceback": [
      "\u001b[1;31m---------------------------------------------------------------------------\u001b[0m",
      "\u001b[1;31mAttributeError\u001b[0m                            Traceback (most recent call last)",
      "\u001b[1;32m<ipython-input-75-f2918c814e50>\u001b[0m in \u001b[0;36m<module>\u001b[1;34m()\u001b[0m\n\u001b[0;32m      1\u001b[0m \u001b[0mprint\u001b[0m\u001b[1;33m(\u001b[0m\u001b[1;34m\"Tamaño Total: \"\u001b[0m\u001b[1;33m,\u001b[0m \u001b[0mpersonas\u001b[0m\u001b[1;33m.\u001b[0m\u001b[0mshape\u001b[0m\u001b[1;33m)\u001b[0m\u001b[1;33m\u001b[0m\u001b[0m\n\u001b[1;32m----> 2\u001b[1;33m \u001b[0mprint\u001b[0m\u001b[1;33m(\u001b[0m\u001b[1;34m\"Personas que hicieron Negocio: \"\u001b[0m\u001b[1;33m,\u001b[0m \u001b[0mp_target\u001b[0m\u001b[1;33m[\u001b[0m\u001b[0mp_target\u001b[0m\u001b[1;33m.\u001b[0m\u001b[0mnegocio\u001b[0m \u001b[1;33m==\u001b[0m \u001b[1;32mTrue\u001b[0m\u001b[1;33m]\u001b[0m\u001b[1;33m.\u001b[0m\u001b[0mshape\u001b[0m\u001b[1;33m)\u001b[0m\u001b[1;33m\u001b[0m\u001b[0m\n\u001b[0m\u001b[0;32m      3\u001b[0m \u001b[0mprint\u001b[0m\u001b[1;33m(\u001b[0m\u001b[1;34m\"Personas que no Hicieorn Negocio: \"\u001b[0m\u001b[1;33m,\u001b[0m \u001b[0mp_target\u001b[0m\u001b[1;33m[\u001b[0m\u001b[0mp_target\u001b[0m\u001b[1;33m.\u001b[0m\u001b[0mnegocio\u001b[0m \u001b[1;33m==\u001b[0m \u001b[1;33m-\u001b[0m\u001b[1;36m1\u001b[0m\u001b[1;33m]\u001b[0m\u001b[1;33m.\u001b[0m\u001b[0mshape\u001b[0m\u001b[1;33m)\u001b[0m\u001b[1;33m\u001b[0m\u001b[0m\n",
      "\u001b[1;32mC:\\ProgramData\\Anaconda3\\lib\\site-packages\\pandas\\core\\generic.py\u001b[0m in \u001b[0;36m__getattr__\u001b[1;34m(self, name)\u001b[0m\n\u001b[0;32m   3079\u001b[0m             \u001b[1;32mif\u001b[0m \u001b[0mname\u001b[0m \u001b[1;32min\u001b[0m \u001b[0mself\u001b[0m\u001b[1;33m.\u001b[0m\u001b[0m_info_axis\u001b[0m\u001b[1;33m:\u001b[0m\u001b[1;33m\u001b[0m\u001b[0m\n\u001b[0;32m   3080\u001b[0m                 \u001b[1;32mreturn\u001b[0m \u001b[0mself\u001b[0m\u001b[1;33m[\u001b[0m\u001b[0mname\u001b[0m\u001b[1;33m]\u001b[0m\u001b[1;33m\u001b[0m\u001b[0m\n\u001b[1;32m-> 3081\u001b[1;33m             \u001b[1;32mreturn\u001b[0m \u001b[0mobject\u001b[0m\u001b[1;33m.\u001b[0m\u001b[0m__getattribute__\u001b[0m\u001b[1;33m(\u001b[0m\u001b[0mself\u001b[0m\u001b[1;33m,\u001b[0m \u001b[0mname\u001b[0m\u001b[1;33m)\u001b[0m\u001b[1;33m\u001b[0m\u001b[0m\n\u001b[0m\u001b[0;32m   3082\u001b[0m \u001b[1;33m\u001b[0m\u001b[0m\n\u001b[0;32m   3083\u001b[0m     \u001b[1;32mdef\u001b[0m \u001b[0m__setattr__\u001b[0m\u001b[1;33m(\u001b[0m\u001b[0mself\u001b[0m\u001b[1;33m,\u001b[0m \u001b[0mname\u001b[0m\u001b[1;33m,\u001b[0m \u001b[0mvalue\u001b[0m\u001b[1;33m)\u001b[0m\u001b[1;33m:\u001b[0m\u001b[1;33m\u001b[0m\u001b[0m\n",
      "\u001b[1;31mAttributeError\u001b[0m: 'DataFrame' object has no attribute 'negocio'"
     ]
    }
   ],
   "source": [
    "print(\"Tamaño Total: \", personas.shape)\n",
    "print(\"Personas que hicieron Negocio: \", p_target[p_target.negocio == True].shape)\n",
    "print(\"Personas que no Hicieorn Negocio: \", p_target[p_target.negocio == -1].shape)"
   ]
  },
  {
   "cell_type": "markdown",
   "metadata": {
    "collapsed": true
   },
   "source": [
    "## 3.4 Help Functions"
   ]
  },
  {
   "cell_type": "code",
   "execution_count": null,
   "metadata": {},
   "outputs": [],
   "source": [
    "import scikitplot as skplt\n",
    "\n",
    "def classifier_insights(y_test, clf_probas, model, f_importance = False, model_name='Model'):\n",
    "    \n",
    "    fig = plt.figure()\n",
    "    ax = plt.subplot(skplt.metrics.plot_cumulative_gain(y_test, clf_probas,\\\n",
    "                                                        figsize=(4,3), title=\"{} Gain Curve\".format(model_name)))\n",
    "    plt.legend(loc=9, bbox_to_anchor=(1.15, 1), ncol=1)\n",
    "    plt.savefig(folder_results + '\\\\{}_cum_gain.png'.format(model_name), bbox_inches = 'tight', dpi=300)\n",
    "    plt.show()\n",
    "\n",
    "\n",
    "    fig = plt.figure()\n",
    "    ax = plt.subplot(skplt.metrics.plot_lift_curve(y_test, clf_probas, figsize=(4,3)\\\n",
    "                                                  , title=\"{} Lift Curve\".format(model_name)))\n",
    "    plt.legend(loc=9, bbox_to_anchor=(1.15, 1), ncol=1)\n",
    "    plt.savefig(folder_results + '\\\\{}_lift.png'.format(model_name), bbox_inches = 'tight', dpi=300)\n",
    "    plt.show()\n",
    "    \n",
    "    if f_importance:\n",
    "        fig = plt.figure()\n",
    "        ax = plt.subplot(skplt.estimators.plot_feature_importances(\n",
    "            model, feature_names=col_predictors, x_tick_rotation=90, figsize=(4,3)\\\n",
    "        , title=\"{} Feature Importance\".format(model_name)))\n",
    "        plt.legend(loc=9, bbox_to_anchor=(1.15, 1), ncol=1)\n",
    "        plt.savefig(folder_results + '\\\\{}_f_importance.png'.format(model_name), bbox_inches = 'tight', dpi=300)\n",
    "        plt.show()\n",
    "\n",
    "    fig = plt.figure()\n",
    "    ax = plt.subplot(skplt.metrics.plot_precision_recall(y_test, clf_probas, figsize=(4,3)\\\n",
    "                                                        , title=\"{} Precision Recall\".format(model_name)))\n",
    "    plt.legend(loc=9, bbox_to_anchor=(1.15, 1), ncol=1)\n",
    "    plt.savefig(folder_results + '\\\\{}_precition_recall.png'.format(model_name), bbox_inches = 'tight', dpi=300)\n",
    "    plt.show()\n",
    "\n",
    "    fig = plt.figure()\n",
    "    ax = plt.subplot(skplt.metrics.plot_ks_statistic(y_test, clf_probas, figsize=(4,3)\\\n",
    "                                                    , title=\"{} KS Statistics\".format(model_name)))\n",
    "    plt.legend(loc=9, bbox_to_anchor=(1.15, 1), ncol=1)\n",
    "    plt.savefig(folder_results + '\\\\{}_ks_sta.png'.format(model_name), bbox_inches = 'tight', dpi=300)\n",
    "    plt.show()"
   ]
  },
  {
   "cell_type": "code",
   "execution_count": 76,
   "metadata": {},
   "outputs": [],
   "source": [
    "import json\n",
    "def save_readme():    \n",
    "    exDict = {'readme': readme}\n",
    "    with open('..\\\\results\\\\model_results_dataset{}\\\\{}\\\\readme_{}.txt'.format(dataset_nro, DS_NAME, DS_NAME), 'w') as file:\n",
    "        file.write(str(exDict))\n",
    "\n",
    "def plot_all_auc_values():\n",
    "        \n",
    "    d = dict()\n",
    "    for key in roc_curves_to_plot[DS_NAME]:\n",
    "        d[key] = roc_curves_to_plot[DS_NAME][key]['auc']\n",
    "    \n",
    "    s = [(k, d[k]) for k in sorted(d, key=d.get, reverse=True)]\n",
    "    \n",
    "    x_model = [x[0] for x in s]\n",
    "    x_value = [x[1] for x in s]\n",
    "    \n",
    "    x = np.arange(len(roc_curves_to_plot[DS_NAME].keys()))\n",
    "    \n",
    "    f = plt.figure(figsize=(12,8))\n",
    "    plt.title('{} AUC Models'.format(DS_NAME))\n",
    "    plt.xlabel('Models')\n",
    "    plt.ylabel('AUC')\n",
    "    plt.bar(x, x_value)\n",
    "    plt.xticks(x, x_model)\n",
    "#     plt.savefig('..\\\\results\\\\model_results_dataset{}\\\\{}\\\\auc_models.png'.format(dataset_nro, DS_NAME,DS_NAME), dpi=300)\n",
    "    plt.show()\n",
    "\n",
    "def plot_all_roc_curves():\n",
    "    \n",
    "    f = plt.figure(figsize=(12,8))\n",
    "    plt.plot([0, 1], [0, 1], 'k--')\n",
    "    \n",
    "    for key in roc_curves_to_plot[DS_NAME]:\n",
    "        plt.plot(roc_curves_to_plot[DS_NAME][key]['fpr'], roc_curves_to_plot[DS_NAME][key]['tpr']) #fpr and tpr\n",
    "    \n",
    "    legends = ['random choice']\n",
    "    legends.extend(roc_curves_to_plot[DS_NAME].keys())\n",
    "    plt.legend(legends)\n",
    "    \n",
    "    plt.xlabel('False Positive Rate')\n",
    "    plt.ylabel('True Positive Rate')\n",
    "    plt.title('{} Models ROC Curve'.format(DS_NAME))\n",
    "#     plt.savefig('..\\\\results\\\\model_results_dataset{}\\\\{}\\\\roc_curve_all.png'.format(dataset_nro, DS_NAME, MODEL), dpi=300)\n",
    "    plt.show()"
   ]
  },
  {
   "cell_type": "code",
   "execution_count": 77,
   "metadata": {},
   "outputs": [],
   "source": [
    "# SAVE RESULTS\n",
    "from sklearn.externals import joblib\n",
    "import copy \n",
    "import json\n",
    "\n",
    "# results_copy = copy.deepcopy(clfs_results)\n",
    "\n",
    "def save_results(results, file_name='grid_results'):\n",
    "    results_copy = copy.deepcopy(results)\n",
    "    for clf in results_copy.keys():\n",
    "        folder = folder_results + '\\\\models_persistance\\\\{}\\\\'.format(clf)\n",
    "\n",
    "        if not os.path.exists(folder):\n",
    "            os.mkdir(folder)\n",
    "\n",
    "        for cv in results_copy[clf].keys():\n",
    "            for key in results_copy[clf][cv]:\n",
    "                if key == 'best_model':\n",
    "                    to_save = results_copy[clf][cv][key]\n",
    "                    joblib.dump(to_save,'{}{}_compra_model.joblib'.format(folder, clf))\n",
    "                    results_copy[clf][cv][key] = 'saved'\n",
    "                if key == 'grid_cvresults':\n",
    "                    pd.DataFrame(results_copy[clf][cv]['grid_cvresults']).to_excel('{}{}_{}_grid_negocio.xlsx'.format(folder, clf, cv))\n",
    "                    results_copy[clf][cv]['grid_cvresults'] = 'saved'\n",
    "\n",
    "\n",
    "    with open('{}.json'.format(file_name), 'w') as fp:\n",
    "        json.dump(results_copy, fp)"
   ]
  },
  {
   "cell_type": "code",
   "execution_count": 78,
   "metadata": {},
   "outputs": [],
   "source": [
    "color_sequence = ['#f44242', '#f4eb41', '#acf441', '#285919', '#41f4eb',\n",
    "                  '#4146f4', '#7041f4', '#593518', '#f441f1', '#f44173']\n",
    "\n",
    "def battle_roc(clf, dr):\n",
    "    f = plt.figure(figsize=(8,6))\n",
    "    plt.plot([0, 1], [0, 1], 'k--')\n",
    "    rank= 0\n",
    "    legends = ['random choice']\n",
    "    for cv, value in dr[clf].items():\n",
    "        model =dr[clf][cv]['best_model']\n",
    "        model.fit(X_grid,y_grid)\n",
    "        y_proba = model.predict_proba(X_test)[:,1]\n",
    "        fpr, tpr, treshold = roc_curve(y_test, y_proba)\n",
    "        roc_auc = roc_auc_score(y_test, y_proba)\n",
    "        legends.append('cv %i %.4f' %(cv, roc_auc))\n",
    "        plt.plot(fpr, tpr, color=color_sequence[rank]) #fpr and tpr\n",
    "        rank +=1\n",
    "    plt.legend(legends)\n",
    "    \n",
    "    plt.xlabel('False Positive Rate')\n",
    "    plt.ylabel('True Positive Rate')\n",
    "    plt.title('{} Models ROC Curve'.format(DS_NAME))\n",
    "#     plt.savefig('..\\\\results\\\\model_results_dataset{}\\\\{}\\\\{}_battle_roc_curve.png'.format(dataset_nro, DS_NAME, clf), dpi=300)\n",
    "    plt.show()"
   ]
  },
  {
   "cell_type": "code",
   "execution_count": 79,
   "metadata": {},
   "outputs": [],
   "source": [
    "def battle_cv(clf, results):\n",
    "    data, cv_a, acc, rec, pre, auc, fs = [], [], [], [], [], [], []\n",
    "    for cv in results[clf].keys():\n",
    "        r = results[clf][cv]\n",
    "        cv_a.append(cv);acc.append(r['acc']);rec.append(r['rec']);pre.append(r['pre'])\n",
    "        auc.append(r['auc']);fs.append(r['fs'])\n",
    "    metrics = [acc,rec,pre,auc,fs]\n",
    "    metrics_name = ['acc','rec','pre','auc','fs']\n",
    "    for i in range(len(metrics)):\n",
    "        trace = go.Scatter(\n",
    "            x = cv_a,\n",
    "            y = metrics[i],\n",
    "            name= metrics_name[i]\n",
    "        )\n",
    "        data.append(trace)\n",
    "    return data"
   ]
  },
  {
   "cell_type": "code",
   "execution_count": 80,
   "metadata": {
    "scrolled": true
   },
   "outputs": [],
   "source": [
    "def view_results(results):\n",
    "    for clf in results.keys():\n",
    "        print(\"Classifier: \", clf)\n",
    "        for cv in results[clf].keys():\n",
    "                r = results[clf][cv]\n",
    "                print(\n",
    "            'cv: ', i,\n",
    "            'acc %.4f' % r['acc'],\n",
    "            '+- %.4f'% r['acc-std'],\n",
    "            '| pre %.4f'% r['pre'],\n",
    "            '+- %.4f'% r['pre-std'],\n",
    "            '| rec %.4f'% r['rec'],\n",
    "            '+- %.4f'% r['rec-std'],\n",
    "            '| fs %.4f'% r['fs'],\n",
    "            '+- %.4f'% r['fs-std'],\n",
    "            '| auc %.4f'% r['auc'],\n",
    "            '+- %.4f'% r['auc-std'],\n",
    "             )"
   ]
  },
  {
   "cell_type": "code",
   "execution_count": 81,
   "metadata": {},
   "outputs": [],
   "source": [
    "import plotly.plotly as py\n",
    "import plotly.graph_objs as go\n",
    "py.sign_in(api_key='vM02r1sRNCokCK2O04A3', username='jcardenas.lie')\n",
    "# py.sign_in(api_key='GzJkEHgbGPp7aEmHy0BZ', username='japinoza')\n",
    "\n",
    "def box_plot(results, metric):\n",
    "    data = []\n",
    "\n",
    "    for clf in results.keys():\n",
    "        y = []\n",
    "        for cv in results[clf].keys():\n",
    "            y.append(results[clf][cv][metric])\n",
    "        data.append(go.Box(\n",
    "            y=y,\n",
    "            name=clf\n",
    "        ))\n",
    "    layout = go.Layout(\n",
    "        title = \"Box Plot {}\".format(metric)\n",
    "    )\n",
    "\n",
    "    fig = go.Figure(data=data, layout=layout)\n",
    "    return fig"
   ]
  },
  {
   "cell_type": "code",
   "execution_count": 82,
   "metadata": {},
   "outputs": [],
   "source": [
    "def battle_conf_matrix(clf, results):\n",
    "    for cv in results[clf].keys():\n",
    "        model =results[clf][cv]['best_model']\n",
    "#         model.set_params(class_weight='balanced')\n",
    "        model.fit(X_grid,y_grid)\n",
    "        y_pred = model.predict(X_test)\n",
    "        y_proba = model.predict_proba(X_test)[:,1]\n",
    "        tn, fp, fn, tp = confusion_matrix(y_test, y_pred).ravel()\n",
    "        print(tp, tn)\n",
    "        print(classification_report(y_test, y_pred))\n",
    "        print('Test: Recall: %.3f' % (tp/(tp+fp)), ' Precision: %.3f' % (tp/(tp+fn)))\n",
    "        # predict_mine = np.where(y_proba > 0.989, 1, 0)\n",
    "    #     print(confusion_matrix(y_test, y_pred))\n",
    "    #     roc_curve_plot(model, X_test, y_test)\n",
    "        plot_confusion_matrix(y_test, y_pred, ['Negocio', 'No Negocio'], \\\n",
    "                              normalize=True, title='Confusion Matrix {} cv:{}'.format(clf, cv))"
   ]
  },
  {
   "cell_type": "code",
   "execution_count": 83,
   "metadata": {},
   "outputs": [],
   "source": [
    "def cumulative_gain_curve_m(y_true, y_score, pos_label=None):\n",
    "    y_true, y_score = np.asarray(y_true), np.asarray(y_score)\n",
    "\n",
    "    # ensure binary classification if pos_label is not specified\n",
    "    classes = np.unique(y_true)\n",
    "    if (pos_label is None and\n",
    "        not (np.array_equal(classes, [0, 1]) or\n",
    "             np.array_equal(classes, [-1, 1]) or\n",
    "             np.array_equal(classes, [0]) or\n",
    "             np.array_equal(classes, [-1]) or\n",
    "             np.array_equal(classes, [1]))):\n",
    "        raise ValueError(\"Data is not binary and pos_label is not specified\")\n",
    "    elif pos_label is None:\n",
    "        pos_label = 1.\n",
    "\n",
    "    # make y_true a boolean vector\n",
    "    y_true = (y_true == pos_label)\n",
    "\n",
    "    sorted_indices = np.argsort(y_score)[::-1]\n",
    "    y_true = y_true[sorted_indices]\n",
    "    gains = np.cumsum(y_true)\n",
    "\n",
    "    percentages = np.arange(start=1, stop=len(y_true) + 1)\n",
    "\n",
    "    gains = gains / float(np.sum(y_true))\n",
    "    percentages = percentages / float(len(y_true))\n",
    "\n",
    "    gains = np.insert(gains, 0, [0])\n",
    "    percentages = np.insert(percentages, 0, [0])\n",
    "\n",
    "    return percentages, gains\n",
    "\n",
    "def plot_cumulative_gain_m(model, X_test, y_test, threshold=None):\n",
    "    y_true = y_test\n",
    "\n",
    "    predict_probabilities = model.predict_proba(X_test)\n",
    "    \n",
    "    if threshold:\n",
    "        predict_mine = np.where(predict_probabilities > threshold, 1, 0)\n",
    "\n",
    "    y_true = np.array(y_true)\n",
    "    y_probas = np.array(predict_mine)\n",
    "\n",
    "    classes = np.unique(y_true)\n",
    "    if len(classes) != 2:\n",
    "        raise ValueError('Cannot calculate Cumulative Gains for data with '\n",
    "                         '{} category/ies'.format(len(classes)))\n",
    "\n",
    "    # Compute Cumulative Gain Curves\n",
    "    percentages, gains1 = cumulative_gain_curve_m(y_true, y_probas[:, 0], classes[0])\n",
    "    percentages, gains2 = cumulative_gain_curve_m(y_true, y_probas[:, 1], classes[1])\n",
    "\n",
    "    trace0 = go.Scatter(\n",
    "        x = percentages,\n",
    "        y = gains1,\n",
    "        mode = 'lines+markers',\n",
    "        name = 'class1'\n",
    "    )\n",
    "\n",
    "    trace1 = go.Scatter(\n",
    "        x = percentages,\n",
    "        y = gains2,\n",
    "        mode = 'lines+markers',\n",
    "        name = 'class2'\n",
    "    )\n",
    "    \n",
    "   \n",
    "    trace2 = go.Scatter(\n",
    "        x = [0,1],\n",
    "        y = [0,1],\n",
    "        line = dict(\n",
    "            color = ('rgb(205, 12, 24)'),\n",
    "            width = 4,\n",
    "            dash = 'dot'\n",
    "        ),\n",
    "        name = 'baseline'\n",
    "    )\n",
    "    \n",
    "    data = [trace0, trace1, trace2]\n",
    "    \n",
    "    layout = dict(title = f'Cumulative Gains Curve',\n",
    "              xaxis = dict(title = 'Porcentaje de la Muestra (%)'),\n",
    "              yaxis = dict(title = 'Gain'),\n",
    "              )\n",
    "\n",
    "    figure = go.Figure(data=data, layout=layout)\n",
    "\n",
    "    return figure\n",
    "\n",
    "\n",
    "def plot_lift_curve_m(clf, results, X_test, y_test, threshold = None):\n",
    "    y_true = y_test\n",
    "    data = []\n",
    "    for cv in results[clf].keys():\n",
    "        r = results[clf][cv]\n",
    "        \n",
    "#         model.fit(X_grid, y_grid)\n",
    "        y_probas = model.predict_proba(X_test)\n",
    "    \n",
    "        if threshold:\n",
    "            y_pred = np.where(predict_probabilities > threshold, 1, 0)\n",
    "\n",
    "        y_true = np.array(y_true)\n",
    "\n",
    "        classes = np.unique(y_true)\n",
    "        if len(classes) != 2:\n",
    "            raise ValueError('Cannot calculate Lift Curve for data with '\n",
    "                             '{} category/ies'.format(len(classes)))\n",
    "\n",
    "        # Compute Cumulative Gain Curves\n",
    "        percentages, gains2 = cumulative_gain_curve_m(y_true, y_probas[:, 0], classes[0])\n",
    "\n",
    "        percentages = percentages[1:]\n",
    "        gains2 = gains2[1:]\n",
    "\n",
    "        gains2 = gains2 / percentages\n",
    "\n",
    "        trace1 = go.Scatter(\n",
    "            x = percentages,\n",
    "            y = gains2,\n",
    "            mode = 'lines+markers',\n",
    "            name = clf\n",
    "        )\n",
    "        data.append(trace1)\n",
    "    \n",
    "    trace2 = go.Scatter(\n",
    "        x = [0,1],\n",
    "        y = [1,1],\n",
    "        line = dict(\n",
    "            color = ('rgb(205, 12, 24)'),\n",
    "            width = 4,\n",
    "            dash = 'dot'\n",
    "        ),\n",
    "        name = 'baseline'\n",
    "    )\n",
    "    data.append(trace2)\n",
    "    \n",
    "    layout = dict(title = 'Lift Curve',\n",
    "              xaxis = dict(title = 'Porcentaje de la Muestra (%)'),\n",
    "              yaxis = dict(title = 'Gain'),\n",
    "              )\n",
    "    return {'data':data, 'layout':layout}"
   ]
  },
  {
   "cell_type": "code",
   "execution_count": 84,
   "metadata": {},
   "outputs": [],
   "source": [
    "def plot_importance_graph(model):\n",
    "    features = personas.columns\n",
    "    \n",
    "    feature_importance = model.best_estimator_.feature_importances_ \n",
    "    fig = plt.figure(figsize=(20, 18))\n",
    "    ax = fig.add_subplot(111)\n",
    "\n",
    "    df_f = pd.DataFrame(feature_importance, columns=[\"importance\"])\n",
    "    df_f[\"labels\"] = features\n",
    "    df_f.sort_values(\"importance\", inplace=True, ascending=False)\n",
    "    display(df_f.head(5))\n",
    "\n",
    "    index = np.arange(len(feature_importance[:20]))\n",
    "    bar_width = 0.5\n",
    "    rects = plt.barh(index[:20] , df_f[\"importance\"][:20], bar_width, alpha=0.4, color='b', label='Main')\n",
    "    plt.yticks(index, df_f[\"labels\"])\n",
    "    plt.title(\"{} {} Feature Importance\".format(DS_NAME, MODEL))\n",
    "    plt.savefig('..\\\\results\\\\model_results_dataset{}\\\\{}\\\\{}_importance.png'.format(dataset_nro, DS_NAME, MODEL), dpi=300)\n",
    "    plt.show()\n",
    "\n",
    "    # Import necessary modules\n",
    "def plot_confusion_matrix(y, y_pred, classes,\n",
    "                        normalize=False,\n",
    "                          title='Confusion matrix',\n",
    "                          cmap=plt.cm.Blues, folder=''):\n",
    "    \n",
    "    cm = confusion_matrix(y, y_pred)\n",
    "    tn, fp, fn, tp = cm.ravel()\n",
    "    cm = np.array([[tp,fn],[fp,tn]])\n",
    "    \n",
    "    if normalize:\n",
    "        cm = cm.astype('float') / cm.sum(axis=1)[:, np.newaxis]\n",
    "        print(\"Normalized confusion matrix\")\n",
    "    else:\n",
    "        print('Confusion matrix, without normalization')\n",
    "\n",
    "    fig = plt.figure(figsize=(4, 3))\n",
    "    plt.imshow(cm, interpolation='nearest', cmap=cmap)\n",
    "    plt.title(title)\n",
    "    plt.colorbar()\n",
    "    tick_marks = np.arange(len(classes))\n",
    "    plt.xticks(tick_marks, classes, rotation=45)\n",
    "    plt.yticks(tick_marks, classes)\n",
    "\n",
    "    fmt = '.2f' if normalize else 'd'\n",
    "    thresh = cm.max() / 2.\n",
    "    for i, j in itertools.product(range(cm.shape[0]), range(cm.shape[1])):\n",
    "        plt.text(j, i, format(cm[i, j], fmt),\n",
    "                 horizontalalignment=\"center\",\n",
    "                 color=\"white\" if cm[i, j] > thresh else \"black\")\n",
    "    \n",
    "    plt.ylabel('True label')\n",
    "    plt.xlabel('Predicted label')\n",
    "    plt.tight_layout()\n",
    "    plt.savefig(folder_results + '{}.png'.format(title), dpi=300)\n",
    "    plt.show()\n",
    "\n",
    "\n",
    "def roc_curve_plot(model, X_test, y_test, folder='', title='Model ROC Curve' ):\n",
    "    \n",
    "    # Compute predicted probabilities: y_pred_prob\n",
    "    y_pred_prob = model.predict_proba(X_test_o)[:,1]\n",
    "\n",
    "    # Generate ROC curve values: fpr, tpr, thresholds\n",
    "    fpr, tpr, treshold = roc_curve(y_test_o, y_pred_prob)\n",
    "    \n",
    "    matrix = metrics.confusion_matrix(y_true=y_test_o, y_pred=model.predict(X_test_o))\n",
    "    tn, fp, fn, tp = matrix.ravel()\n",
    "    fpr_point = fp / (fp + tn)\n",
    "    tpr_point = tp / (tp + fp)\n",
    "    \n",
    "    print(\"AUC: \",roc_auc_score(y_test_o, y_pred_prob))\n",
    "    print(\"Point in ROC\", fpr_point,tpr_point)\n",
    "\n",
    "    # Plot ROC curve\n",
    "#     plt.plot(fpr_point,tpr_point)\n",
    "    markers_on = [fpr_point]\n",
    "    plt.plot([0, 1], [0, 1], 'k--')\n",
    "    plt.plot(fpr, tpr)\n",
    "    plt.xlabel('False Positive Rate')\n",
    "    plt.ylabel('True Positive Rate')\n",
    "    plt.title(title)\n",
    "    plt.savefig(folder_results + '{}.png'.format(title), dpi=300)\n",
    "    plt.show()\n",
    "    \n",
    "def grid_results(grid, scorer, plot=False):\n",
    "    \n",
    "    best_model = grid.best_estimator_\n",
    "    \n",
    "    grid_results = pd.DataFrame(grid.cv_results_)[['mean_train_accuracy',\n",
    "       'mean_train_auc', 'mean_train_f1_score', 'mean_train_precision',\n",
    "       'mean_train_recall','mean_test_accuracy',\n",
    "       'mean_test_auc', 'mean_test_f1_score', 'mean_test_precision',\n",
    "       'mean_test_recall','std_test_accuracy', 'std_test_auc', 'std_test_f1_score',\n",
    "       'std_test_precision', 'std_test_recall',\n",
    "        'std_train_accuracy', 'std_train_auc', 'std_train_f1_score',\n",
    "       'std_train_precision', 'std_train_recall','rank_test_accuracy', 'rank_test_auc', 'rank_test_f1_score',\n",
    "       'rank_test_precision', 'rank_test_recall', 'params']]\n",
    "    \n",
    "    grid_results = grid_results.sort_values(by='rank_test_{}'.format(scorer))\n",
    "    \n",
    "    matrix = metrics.confusion_matrix(y_true=y_test_o, y_pred=best_model.predict(X_test_o))\n",
    "    tn, fp, fn, tp = matrix.ravel()\n",
    "    \n",
    "    print('Validation set:')\n",
    "    print('tn', tn, 'fp', fp, 'fn', fn, 'tp', tp)\n",
    "    a = (tp + tn) / (tn + fp + fn + tp)\n",
    "    p = tp /(tp + fn)\n",
    "    r = tp / (tp + fp)\n",
    "    f = (2* p* r) / (p + r)\n",
    "    auc = roc_auc_score(y_test_o, best_model.predict(X_test_o) )\n",
    "    print('tpr: %.3f' % r, 'fpr %.3f' % (fp /(fp + tn)), 'auc %.2f '%auc)\n",
    "    print('a: %.3f' % a, 'p %.3f' % p, 'r %.3f' % r, 'f %.3f'% f )\n",
    "    print('TN %.2f'%(tn/(tn+fp)), 'TP %.2f'% p)\n",
    "    \n",
    "    return {\n",
    "        'ts_acc':grid_results.loc[0,'mean_test_accuracy'],\n",
    "        'ts_acc-std':grid_results.loc[0,'std_test_accuracy'],\n",
    "        'ts_pre':grid_results.loc[0,'mean_test_precision'],\n",
    "        'ts_pre-std':grid_results.loc[0,'std_test_precision'],\n",
    "        'ts_rec':grid_results.loc[0,'mean_test_recall'],\n",
    "        'ts_rec-std':grid_results.loc[0,'std_test_recall'],\n",
    "        'ts_fs':grid_results.loc[0,'mean_test_f1_score'],\n",
    "        'ts_fs-std':grid_results.loc[0,'std_test_f1_score'],\n",
    "        'ts_auc':grid_results.loc[0,'mean_test_auc'],\n",
    "        'ts_auc-std':grid_results.loc[0,'std_test_auc'],\n",
    "        'tr_acc':grid_results.loc[0,'mean_train_accuracy'],\n",
    "        'tr_acc-std':grid_results.loc[0,'std_train_accuracy'],\n",
    "        'tr_pre':grid_results.loc[0,'mean_train_precision'],\n",
    "        'tr_pre-std':grid_results.loc[0,'std_train_precision'],\n",
    "        'tr_rec':grid_results.loc[0,'mean_train_recall'],\n",
    "        'tr_rec-std':grid_results.loc[0,'std_train_recall'],\n",
    "        'tr_fs':grid_results.loc[0,'mean_train_f1_score'],\n",
    "        'tr_fs-std':grid_results.loc[0,'std_train_f1_score'],\n",
    "        'tr_auc':grid_results.loc[0,'mean_test_auc'],\n",
    "        'tr_auc-std':grid_results.loc[0,'std_test_auc'],\n",
    "        'best_model': grid.best_estimator_,\n",
    "        'grid_cvresults': grid.cv_results_,\n",
    "    }"
   ]
  },
  {
   "cell_type": "markdown",
   "metadata": {},
   "source": [
    "## 3.3 Train & Test"
   ]
  },
  {
   "cell_type": "code",
   "execution_count": 85,
   "metadata": {},
   "outputs": [
    {
     "data": {
      "text/plain": [
       "3815"
      ]
     },
     "execution_count": 85,
     "metadata": {},
     "output_type": "execute_result"
    }
   ],
   "source": [
    "both = set(personas.index) & set(p_target.index)\n",
    "len(both)"
   ]
  },
  {
   "cell_type": "code",
   "execution_count": 86,
   "metadata": {},
   "outputs": [],
   "source": [
    "# personas.reset_index(inplace=True)\n",
    "# p_negocio.reset_index(inplace=True)\n",
    "# my_indices = p_negocio.index"
   ]
  },
  {
   "cell_type": "code",
   "execution_count": 87,
   "metadata": {},
   "outputs": [
    {
     "name": "stdout",
     "output_type": "stream",
     "text": [
      "(3052, 74) (763, 74) (3052, 1) (763, 1)\n"
     ]
    }
   ],
   "source": [
    "X = personas \n",
    "col_predictors = X.columns\n",
    "y = p_target\n",
    "\n",
    "#_grid para hacer cross_validation y _test_o para hacer validacion sobre datos no vistos\n",
    "X_grid, X_test_o, y_grid, y_test_o = train_test_split(X, y \\\n",
    "                                                    ,test_size=0.2, random_state=RANDOM_STATE)\n",
    "# X_grid, X_test_o, y_grid, y_test_o, indices_train, indices_test = train_test_split(X, y \\\n",
    "#                                                     , indices,test_size=0.2, random_state=RANDOM_STATE)\n",
    "print(X_grid.shape, X_test_o.shape, y_grid.shape, y_test_o.shape)\n",
    "\n",
    "\n",
    "X_test_o.to_excel('x_test_compra_{}.xlsx'.format(use_predictors))\n",
    "y_test_o.to_excel('y_test_compra_{}.xlsx'.format(use_predictors))"
   ]
  },
  {
   "cell_type": "code",
   "execution_count": 88,
   "metadata": {},
   "outputs": [
    {
     "data": {
      "text/html": [
       "<div>\n",
       "<style>\n",
       "    .dataframe thead tr:only-child th {\n",
       "        text-align: right;\n",
       "    }\n",
       "\n",
       "    .dataframe thead th {\n",
       "        text-align: left;\n",
       "    }\n",
       "\n",
       "    .dataframe tbody tr th {\n",
       "        vertical-align: top;\n",
       "    }\n",
       "</style>\n",
       "<table border=\"1\" class=\"dataframe\">\n",
       "  <thead>\n",
       "    <tr style=\"text-align: right;\">\n",
       "      <th></th>\n",
       "      <th>is_apellido1</th>\n",
       "      <th>is_apellido2</th>\n",
       "      <th>is_celular</th>\n",
       "      <th>is_direccion</th>\n",
       "      <th>is_fnac</th>\n",
       "      <th>is_nombre</th>\n",
       "      <th>is_nombrecompleto</th>\n",
       "      <th>is_nrofam</th>\n",
       "      <th>is_presencial</th>\n",
       "      <th>is_profesion</th>\n",
       "      <th>...</th>\n",
       "      <th>medio_inicial_radio</th>\n",
       "      <th>medio_inicial_recontacto</th>\n",
       "      <th>medio_inicial_recorrido por el sector</th>\n",
       "      <th>medio_inicial_referidos</th>\n",
       "      <th>medio_inicial_revistas</th>\n",
       "      <th>medio_inicial_tv</th>\n",
       "      <th>medio_inicial_volantes</th>\n",
       "      <th>sexo_empresa</th>\n",
       "      <th>sexo_femenino</th>\n",
       "      <th>sexo_masculino</th>\n",
       "    </tr>\n",
       "  </thead>\n",
       "  <tbody>\n",
       "    <tr>\n",
       "      <th>1584</th>\n",
       "      <td>True</td>\n",
       "      <td>True</td>\n",
       "      <td>True</td>\n",
       "      <td>True</td>\n",
       "      <td>False</td>\n",
       "      <td>True</td>\n",
       "      <td>True</td>\n",
       "      <td>True</td>\n",
       "      <td>False</td>\n",
       "      <td>True</td>\n",
       "      <td>...</td>\n",
       "      <td>0</td>\n",
       "      <td>0</td>\n",
       "      <td>1</td>\n",
       "      <td>0</td>\n",
       "      <td>0</td>\n",
       "      <td>0</td>\n",
       "      <td>0</td>\n",
       "      <td>0</td>\n",
       "      <td>0</td>\n",
       "      <td>1</td>\n",
       "    </tr>\n",
       "  </tbody>\n",
       "</table>\n",
       "<p>1 rows × 74 columns</p>\n",
       "</div>"
      ],
      "text/plain": [
       "      is_apellido1  is_apellido2  is_celular  is_direccion  is_fnac  \\\n",
       "1584          True          True        True          True    False   \n",
       "\n",
       "      is_nombre  is_nombrecompleto  is_nrofam  is_presencial  is_profesion  \\\n",
       "1584       True               True       True          False          True   \n",
       "\n",
       "           ...        medio_inicial_radio  medio_inicial_recontacto  \\\n",
       "1584       ...                          0                         0   \n",
       "\n",
       "      medio_inicial_recorrido por el sector  medio_inicial_referidos  \\\n",
       "1584                                      1                        0   \n",
       "\n",
       "      medio_inicial_revistas  medio_inicial_tv  medio_inicial_volantes  \\\n",
       "1584                       0                 0                       0   \n",
       "\n",
       "      sexo_empresa  sexo_femenino  sexo_masculino  \n",
       "1584             0              0               1  \n",
       "\n",
       "[1 rows x 74 columns]"
      ]
     },
     "execution_count": 88,
     "metadata": {},
     "output_type": "execute_result"
    }
   ],
   "source": [
    "X_test_o.head(1)"
   ]
  },
  {
   "cell_type": "code",
   "execution_count": 89,
   "metadata": {},
   "outputs": [
    {
     "data": {
      "text/plain": [
       "actividad                               profesional\n",
       "apellido1                                   mendoza\n",
       "apellido2                                    monjes\n",
       "celular                                    74326207\n",
       "compra                                        False\n",
       "correo                      mendozamonjes@gmail.com\n",
       "direccion                           sin informacion\n",
       "edad                                          31-40\n",
       "is_apellido1                                   True\n",
       "is_apellido2                                   True\n",
       "is_celular                                     True\n",
       "is_descuento                                  False\n",
       "is_direccion                                  False\n",
       "is_fnac                                       False\n",
       "is_nombre                                      True\n",
       "is_nombrecompleto                              True\n",
       "is_nrofam                                      True\n",
       "is_presencial                                 False\n",
       "is_profesion                                   True\n",
       "is_recontacto                                 False\n",
       "is_remoto                                     False\n",
       "is_telefono                                   False\n",
       "loc_comuna                               concepcion\n",
       "loc_provincia                            concepcion\n",
       "loc_region                                  bio-bio\n",
       "max_rango_edad                                   40\n",
       "mean_cot_bod                                      0\n",
       "mean_cot_depto                                    1\n",
       "mean_cot_esta                                     0\n",
       "mean_cot_estu                                     0\n",
       "medio_inicial               recorrido por el sector\n",
       "negocio                                       False\n",
       "nombre                                      alfredo\n",
       "nro_cot_bod                                       0\n",
       "nro_cot_depto                                     1\n",
       "nro_cot_esta                                      0\n",
       "nro_cot_estu                                      0\n",
       "nro_proyectos                                     1\n",
       "precio_cotizacion_media                        5123\n",
       "precio_cotizacion_median                       5123\n",
       "precio_cotizacion_std                           305\n",
       "profesion                                   docente\n",
       "rut                                    13.583.020-8\n",
       "rut_original                             13583020-8\n",
       "sexo                                      masculino\n",
       "tiempo_cotizacion_media                         3.5\n",
       "tiempo_cotizacion_median                        3.5\n",
       "tiempo_cotizacion_std                           3.5\n",
       "tipo_cliente                                natural\n",
       "trabajo                                     docente\n",
       "valid_rut                                      True\n",
       "altos del valle                                   0\n",
       "edificio urban 1470                               0\n",
       "san andres del valle                              1\n",
       "edificio mil610                                   0\n",
       "edificio junge                                    0\n",
       "Name: 1573, dtype: object"
      ]
     },
     "execution_count": 89,
     "metadata": {},
     "output_type": "execute_result"
    }
   ],
   "source": [
    "personas_original.loc[1573]"
   ]
  },
  {
   "cell_type": "code",
   "execution_count": 90,
   "metadata": {},
   "outputs": [],
   "source": [
    "# Los indices de arriba debieran ser los mismos"
   ]
  },
  {
   "cell_type": "markdown",
   "metadata": {},
   "source": [
    "## 3.5 Models"
   ]
  },
  {
   "cell_type": "code",
   "execution_count": 91,
   "metadata": {},
   "outputs": [],
   "source": [
    "clfs = dict()\n",
    "clfs['LR'] = LogisticRegression(random_state=RANDOM_STATE)\n",
    "clfs['DT'] = DecisionTreeClassifier(random_state=RANDOM_STATE)\n",
    "clfs['RF'] = RandomForestClassifier(random_state=RANDOM_STATE)\n",
    "# clfs['SVM'] = svm.SVC(kernel='rbf', probability=True, random_state=RANDOM_STATE)\n",
    "clfs['KNN'] = KNeighborsClassifier()\n",
    "clfs['PCAKNN'] = Pipeline([('pca', PCA(random_state=RANDOM_STATE)), ('clf', KNeighborsClassifier())])\n",
    "clfs['XGB'] = XGBClassifier(random_state=RANDOM_STATE)"
   ]
  },
  {
   "cell_type": "code",
   "execution_count": 92,
   "metadata": {},
   "outputs": [],
   "source": [
    "clf_params = dict()\n",
    "clf_params['KNN'] = {'n_neighbors': np.arange(1, 20)}\n",
    "clf_params['PCAKNN'] = {'pca__n_components': [2, 3, 4, 5, 6, 7, 8, 9]}\n",
    "clf_params['LR'] = {'C': np.logspace(-5, 8, 15), 'penalty':['l1', 'l2'], 'class_weight':[None, 'balanced']}\n",
    "clf_params['DT'] = {\"max_depth\": range(1,20),\"max_features\":range(1,30), \n",
    "                    \"min_samples_leaf\": range(1,10),\"criterion\": [\"gini\", \"entropy\"], \n",
    "                    'class_weight':[None, 'balanced']}\n",
    "clf_params['RF'] = {\"max_depth\": range(1,20),\"max_features\":range(1,30), \"min_samples_leaf\": range(1,10),\n",
    "                    \"criterion\": [\"gini\", \"entropy\"], 'class_weight':[None, 'balanced']}\n",
    "#SVM PARAMS\n",
    "# clf_params['SVM'] = {'C' :[0.001, 0.01, 0.1, 1, 10], 'gamma' : [0.001, 0.01, 0.1, 1], 'class_weight':[None, 'balanced']}\n",
    "# XGB PARAMS\n",
    "clf_params['XGB'] = {'n_estimators' : [50, 100, 150, 200], 'max_depth' : [2, 4, 6, 8]}"
   ]
  },
  {
   "cell_type": "code",
   "execution_count": 93,
   "metadata": {},
   "outputs": [],
   "source": [
    "clfs_results = dict()\n",
    "clfs_results['LR'] = dict()\n",
    "clfs_results['DT'] = dict()\n",
    "clfs_results['RF'] = dict()\n",
    "clfs_results['PCAKNN'] = dict()\n",
    "clfs_results['KNN'] = dict()\n",
    "clfs_results['XGB'] = dict()\n",
    "# clfs_results['SVM'] = dict()\n"
   ]
  },
  {
   "cell_type": "code",
   "execution_count": 94,
   "metadata": {},
   "outputs": [],
   "source": [
    "def view_grid(r):\n",
    "    print(\n",
    "            'cv: ', i, '\\n', 'Test'\n",
    "            ' acc %.4f' % r['ts_acc'],\n",
    "            '+- %.4f'% r['ts_acc-std'],\n",
    "            '| pre %.4f'% r['ts_pre'],\n",
    "            '+- %.4f'% r['ts_pre-std'],\n",
    "            '| rec %.4f'% r['ts_rec'],\n",
    "            '+- %.4f'% r['ts_rec-std'],\n",
    "            '| fs %.4f'% r['ts_fs'],\n",
    "            '+- %.4f'% r['ts_fs-std'],\n",
    "            '| auc %.4f'% r['ts_auc'],\n",
    "            '+- %.4f'% r['ts_auc-std'],\n",
    "            '\\n','Train',\n",
    "            'acc %.4f' % r['tr_acc'],\n",
    "            '+- %.4f'% r['tr_acc-std'],\n",
    "            '| pre %.4f'% r['tr_pre'],\n",
    "            '+- %.4f'% r['tr_pre-std'],\n",
    "            '| rec %.4f'% r['tr_rec'],\n",
    "            '+- %.4f'% r['tr_rec-std'],\n",
    "            '| fs %.4f'% r['tr_fs'],\n",
    "            '+- %.4f'% r['tr_fs-std'],\n",
    "            '| auc %.4f'% r['tr_auc'],\n",
    "            '+- %.4f'% r['tr_auc-std'],\n",
    "            '\\n'\n",
    "        )"
   ]
  },
  {
   "cell_type": "markdown",
   "metadata": {},
   "source": [
    "# Grid"
   ]
  },
  {
   "cell_type": "code",
   "execution_count": 97,
   "metadata": {
    "scrolled": false
   },
   "outputs": [
    {
     "name": "stdout",
     "output_type": "stream",
     "text": [
      "Classifier: LR  Scorer: f1_score\n",
      "Validation set:\n",
      "tn 613 fp 105 fn 2 tp 43\n",
      "tpr: 0.291 fpr 0.146 auc 0.90 \n",
      "a: 0.860 p 0.956 r 0.291 f 0.446\n",
      "TN 0.85 TP 0.96\n",
      "cv:  3 \n",
      " Test acc 0.9377 +- 0.0004 | pre 0.0000 +- 0.0000 | rec 0.0000 +- 0.0000 | fs 0.0000 +- 0.0000 | auc 0.5000 +- 0.0000 \n",
      " Train acc 0.9377 +- 0.0002 | pre 0.0000 +- 0.0000 | rec 0.0000 +- 0.0000 | fs 0.0000 +- 0.0000 | auc 0.5000 +- 0.0000 \n",
      "\n",
      "\n",
      "\n",
      "Classifier: DT  Scorer: f1_score\n",
      "Validation set:\n",
      "tn 594 fp 124 fn 0 tp 45\n",
      "tpr: 0.266 fpr 0.173 auc 0.91 \n",
      "a: 0.837 p 1.000 r 0.266 f 0.421\n",
      "TN 0.83 TP 1.00\n",
      "cv:  3 \n",
      " Test acc 0.8526 +- 0.0153 | pre 0.2914 +- 0.0219 | rec 0.9422 +- 0.0194 | fs 0.4446 +- 0.0248 | auc 0.8944 +- 0.0101 \n",
      " Train acc 0.8501 +- 0.0091 | pre 0.2904 +- 0.0118 | rec 0.9711 +- 0.0074 | fs 0.4469 +- 0.0140 | auc 0.8944 +- 0.0101 \n",
      "\n",
      "\n",
      "\n",
      "Classifier: RF  Scorer: f1_score\n",
      "Validation set:\n",
      "tn 639 fp 79 fn 12 tp 33\n",
      "tpr: 0.295 fpr 0.110 auc 0.81 \n",
      "a: 0.881 p 0.733 r 0.295 f 0.420\n",
      "TN 0.89 TP 0.73\n",
      "cv:  3 \n",
      " Test acc 0.8824 +- 0.0264 | pre 0.3409 +- 0.0440 | rec 0.8681 +- 0.1089 | fs 0.4834 +- 0.0311 | auc 0.8757 +- 0.0400 \n",
      " Train acc 0.8912 +- 0.0113 | pre 0.3591 +- 0.0246 | rec 0.9343 +- 0.0195 | fs 0.5180 +- 0.0227 | auc 0.8757 +- 0.0400 \n",
      "\n",
      "\n",
      "\n",
      "Classifier: KNN  Scorer: f1_score\n",
      "Validation set:\n",
      "tn 696 fp 22 fn 34 tp 11\n",
      "tpr: 0.333 fpr 0.031 auc 0.61 \n",
      "a: 0.927 p 0.244 r 0.333 f 0.282\n",
      "TN 0.97 TP 0.24\n",
      "cv:  3 \n",
      " Test acc 0.9171 +- 0.0104 | pre 0.3469 +- 0.0658 | rec 0.3581 +- 0.0414 | fs 0.3519 +- 0.0539 | auc 0.6562 +- 0.0247 \n",
      " Train acc 0.9658 +- 0.0012 | pre 0.7162 +- 0.0174 | rec 0.7474 +- 0.0250 | fs 0.7310 +- 0.0084 | auc 0.6562 +- 0.0247 \n",
      "\n",
      "\n",
      "\n",
      "Classifier: PCAKNN  Scorer: f1_score\n",
      "Validation set:\n",
      "tn 703 fp 15 fn 37 tp 8\n",
      "tpr: 0.348 fpr 0.021 auc 0.58 \n",
      "a: 0.932 p 0.178 r 0.348 f 0.235\n",
      "TN 0.98 TP 0.18\n",
      "cv:  3 \n",
      " Test acc 0.9335 +- 0.0038 | pre 0.4043 +- 0.0859 | rec 0.1940 +- 0.1061 | fs 0.2545 +- 0.1090 | auc 0.5883 +- 0.0512 \n",
      " Train acc 0.9454 +- 0.0014 | pre 0.6327 +- 0.0120 | rec 0.2975 +- 0.0571 | fs 0.4010 +- 0.0533 | auc 0.5883 +- 0.0512 \n",
      "\n",
      "\n",
      "\n",
      "Classifier: XGB  Scorer: f1_score\n",
      "Validation set:\n",
      "tn 701 fp 17 fn 37 tp 8\n",
      "tpr: 0.320 fpr 0.024 auc 0.58 \n",
      "a: 0.929 p 0.178 r 0.320 f 0.229\n",
      "TN 0.98 TP 0.18\n",
      "cv:  3 \n",
      " Test acc 0.9371 +- 0.0016 | pre 0.2888 +- 0.2793 | rec 0.0159 +- 0.0130 | fs 0.0300 +- 0.0247 | auc 0.5071 +- 0.0063 \n",
      " Train acc 0.9394 +- 0.0019 | pre 0.4889 +- 0.3500 | rec 0.0367 +- 0.0413 | fs 0.0666 +- 0.0735 | auc 0.5071 +- 0.0063 \n",
      "\n",
      "\n",
      "\n"
     ]
    }
   ],
   "source": [
    "\n",
    "scoring = {'accuracy' : make_scorer(accuracy_score), \n",
    "           'precision' : make_scorer(precision_score),\n",
    "           'recall' : make_scorer(recall_score), \n",
    "           'f1_score' : make_scorer(f1_score),\n",
    "          'auc':make_scorer(roc_auc_score)}\n",
    "\n",
    "for clf in clfs.keys():\n",
    "    scorer = 'f1_score'\n",
    "    print(\"Classifier:\",clf, ' Scorer:', scorer)\n",
    "    for i in range(3,4):\n",
    "\n",
    "        kf = StratifiedKFold(n_splits=i, shuffle=True, random_state=RANDOM_STATE)\n",
    "\n",
    "        if clf == 'RF' or clf == 'DT':\n",
    "            grid = RandomizedSearchCV(clfs[clf], clf_params[clf], \\\n",
    "                                      cv=kf, n_jobs=N_JOBS, n_iter=300, \\\n",
    "                                      random_state=RANDOM_STATE, scoring=scoring, refit=scorer)\n",
    "        else:\n",
    "            grid = GridSearchCV(clfs[clf], clf_params[clf], cv=kf, n_jobs=N_JOBS\\\n",
    "                                , scoring=scoring, refit=scorer)\n",
    "        \n",
    "        grid.fit(X_grid, y_grid)\n",
    "\n",
    "        clfs_results[clf][i] = grid_results(grid, scorer)\n",
    "        r = clfs_results[clf][i]\n",
    "        print(\n",
    "            'cv: ', i, '\\n', 'Test'\n",
    "            ' acc %.4f' % r['ts_acc'],\n",
    "            '+- %.4f'% r['ts_acc-std'],\n",
    "            '| pre %.4f'% r['ts_pre'],\n",
    "            '+- %.4f'% r['ts_pre-std'],\n",
    "            '| rec %.4f'% r['ts_rec'],\n",
    "            '+- %.4f'% r['ts_rec-std'],\n",
    "            '| fs %.4f'% r['ts_fs'],\n",
    "            '+- %.4f'% r['ts_fs-std'],\n",
    "            '| auc %.4f'% r['ts_auc'],\n",
    "            '+- %.4f'% r['ts_auc-std'],\n",
    "            '\\n','Train',\n",
    "            'acc %.4f' % r['tr_acc'],\n",
    "            '+- %.4f'% r['tr_acc-std'],\n",
    "            '| pre %.4f'% r['tr_pre'],\n",
    "            '+- %.4f'% r['tr_pre-std'],\n",
    "            '| rec %.4f'% r['tr_rec'],\n",
    "            '+- %.4f'% r['tr_rec-std'],\n",
    "            '| fs %.4f'% r['tr_fs'],\n",
    "            '+- %.4f'% r['tr_fs-std'],\n",
    "            '| auc %.4f'% r['tr_auc'],\n",
    "            '+- %.4f'% r['tr_auc-std'],\n",
    "            '\\n'\n",
    "             )\n",
    "    print('\\n')\n",
    "    "
   ]
  },
  {
   "cell_type": "code",
   "execution_count": null,
   "metadata": {},
   "outputs": [],
   "source": [
    "save_results(clfs_results)"
   ]
  },
  {
   "cell_type": "markdown",
   "metadata": {},
   "source": [
    "# ANALYSIS: COMPARE MODELS"
   ]
  },
  {
   "cell_type": "markdown",
   "metadata": {},
   "source": [
    "# ANALYSIS: BEST MODEL"
   ]
  },
  {
   "cell_type": "markdown",
   "metadata": {},
   "source": [
    "# ANALYSIS: BEST CV"
   ]
  },
  {
   "cell_type": "code",
   "execution_count": 98,
   "metadata": {},
   "outputs": [],
   "source": [
    "model_name = 'RF'"
   ]
  },
  {
   "cell_type": "code",
   "execution_count": 101,
   "metadata": {
    "scrolled": true
   },
   "outputs": [],
   "source": [
    "model = clfs_results[model_name][3]['best_model']"
   ]
  },
  {
   "cell_type": "code",
   "execution_count": 102,
   "metadata": {},
   "outputs": [
    {
     "data": {
      "text/plain": [
       "RandomForestClassifier(bootstrap=True, class_weight='balanced',\n",
       "            criterion='entropy', max_depth=17, max_features=24,\n",
       "            max_leaf_nodes=None, min_impurity_decrease=0.0,\n",
       "            min_impurity_split=None, min_samples_leaf=5,\n",
       "            min_samples_split=2, min_weight_fraction_leaf=0.0,\n",
       "            n_estimators=10, n_jobs=1, oob_score=False, random_state=42,\n",
       "            verbose=0, warm_start=False)"
      ]
     },
     "execution_count": 102,
     "metadata": {},
     "output_type": "execute_result"
    }
   ],
   "source": [
    "model"
   ]
  },
  {
   "cell_type": "code",
   "execution_count": 103,
   "metadata": {},
   "outputs": [
    {
     "data": {
      "text/html": [
       "<iframe id=\"igraph\" scrolling=\"no\" style=\"border:none;\" seamless=\"seamless\" src=\"https://plot.ly/~jcardenas.lie/218.embed\" height=\"525px\" width=\"100%\"></iframe>"
      ],
      "text/plain": [
       "<plotly.tools.PlotlyDisplay object>"
      ]
     },
     "execution_count": 103,
     "metadata": {},
     "output_type": "execute_result"
    }
   ],
   "source": [
    "data = plot_lift_curve_m(model_name, clfs_results, X_test_o, y_test_o)\n",
    "py.iplot(data, filename='basic-line')"
   ]
  },
  {
   "cell_type": "code",
   "execution_count": 104,
   "metadata": {},
   "outputs": [
    {
     "ename": "UnboundLocalError",
     "evalue": "local variable 'predict_mine' referenced before assignment",
     "output_type": "error",
     "traceback": [
      "\u001b[1;31m---------------------------------------------------------------------------\u001b[0m",
      "\u001b[1;31mUnboundLocalError\u001b[0m                         Traceback (most recent call last)",
      "\u001b[1;32m<ipython-input-104-482ba0e8a84d>\u001b[0m in \u001b[0;36m<module>\u001b[1;34m()\u001b[0m\n\u001b[1;32m----> 1\u001b[1;33m \u001b[0mdata\u001b[0m \u001b[1;33m=\u001b[0m \u001b[0mplot_cumulative_gain_m\u001b[0m\u001b[1;33m(\u001b[0m\u001b[0mmodel\u001b[0m\u001b[1;33m,\u001b[0m \u001b[0mX_test_o\u001b[0m\u001b[1;33m,\u001b[0m \u001b[0my_test_o\u001b[0m\u001b[1;33m,\u001b[0m \u001b[0mthreshold\u001b[0m\u001b[1;33m=\u001b[0m\u001b[1;32mNone\u001b[0m\u001b[1;33m)\u001b[0m\u001b[1;33m\u001b[0m\u001b[0m\n\u001b[0m\u001b[0;32m      2\u001b[0m \u001b[0mpy\u001b[0m\u001b[1;33m.\u001b[0m\u001b[0miplot\u001b[0m\u001b[1;33m(\u001b[0m\u001b[0mdata\u001b[0m\u001b[1;33m,\u001b[0m \u001b[0mfilename\u001b[0m\u001b[1;33m=\u001b[0m\u001b[1;34m'basic-line'\u001b[0m\u001b[1;33m)\u001b[0m\u001b[1;33m\u001b[0m\u001b[0m\n",
      "\u001b[1;32m<ipython-input-83-13e4ef6ead51>\u001b[0m in \u001b[0;36mplot_cumulative_gain_m\u001b[1;34m(model, X_test, y_test, threshold)\u001b[0m\n\u001b[0;32m     40\u001b[0m \u001b[1;33m\u001b[0m\u001b[0m\n\u001b[0;32m     41\u001b[0m     \u001b[0my_true\u001b[0m \u001b[1;33m=\u001b[0m \u001b[0mnp\u001b[0m\u001b[1;33m.\u001b[0m\u001b[0marray\u001b[0m\u001b[1;33m(\u001b[0m\u001b[0my_true\u001b[0m\u001b[1;33m)\u001b[0m\u001b[1;33m\u001b[0m\u001b[0m\n\u001b[1;32m---> 42\u001b[1;33m     \u001b[0my_probas\u001b[0m \u001b[1;33m=\u001b[0m \u001b[0mnp\u001b[0m\u001b[1;33m.\u001b[0m\u001b[0marray\u001b[0m\u001b[1;33m(\u001b[0m\u001b[0mpredict_mine\u001b[0m\u001b[1;33m)\u001b[0m\u001b[1;33m\u001b[0m\u001b[0m\n\u001b[0m\u001b[0;32m     43\u001b[0m \u001b[1;33m\u001b[0m\u001b[0m\n\u001b[0;32m     44\u001b[0m     \u001b[0mclasses\u001b[0m \u001b[1;33m=\u001b[0m \u001b[0mnp\u001b[0m\u001b[1;33m.\u001b[0m\u001b[0munique\u001b[0m\u001b[1;33m(\u001b[0m\u001b[0my_true\u001b[0m\u001b[1;33m)\u001b[0m\u001b[1;33m\u001b[0m\u001b[0m\n",
      "\u001b[1;31mUnboundLocalError\u001b[0m: local variable 'predict_mine' referenced before assignment"
     ]
    }
   ],
   "source": [
    "data = plot_cumulative_gain_m(model, X_test_o, y_test_o, threshold=None)\n",
    "py.iplot(data, filename='basic-line')"
   ]
  },
  {
   "cell_type": "markdown",
   "metadata": {},
   "source": [
    "# ANALYSIS: DESCRIBE ATRIBUTES"
   ]
  },
  {
   "cell_type": "code",
   "execution_count": null,
   "metadata": {},
   "outputs": [],
   "source": [
    "def combo_chart(feature, model, dataset, target ,title='Casos Éxito', grupo=None):\n",
    "    if grupo == None:\n",
    "        grupo = feature\n",
    "#     print(target, feature, data[feature].dtype)\n",
    "    \n",
    "    dataset['1'] = 1\n",
    "#     personas_view = data[data['San Andres Del Valle'] > 0 ]\n",
    "    data = dict()\n",
    "    personas_view = copy.deepcopy(dataset)\n",
    "    # columna = 'nro_cot_depto'\n",
    "    columna = feature\n",
    "   \n",
    "    for group, frame in personas_view.groupby(columna):\n",
    "        data[group] = {}\n",
    "        data[group]['conversión'] = frame[frame[target] == True]['1'].sum()\n",
    "        data[group]['no conversión'] = frame[frame[target] == False]['1'].sum()\n",
    "\n",
    "    to_x, to_neg, to_noneg = [], [], []\n",
    "    \n",
    "    \n",
    "    for key in data.keys():\n",
    "        to_x.append('{}'.format(key))\n",
    "        to_neg.append(data[key]['conversión'])\n",
    "        to_noneg.append(data[key]['no conversión'])\n",
    "    mult = int(len(to_x)/5)\n",
    "\n",
    "    to_g_name, to_g_neg, to_g_noneg = [], [], []\n",
    "    \n",
    "    max_range = 5\n",
    "    if personas_view[feature].dtype != bool:\n",
    "        for i in range(max_range):\n",
    "            name = '{} - {}'.format(to_x[mult*i], to_x[mult*(i+1)])\n",
    "            to_g_name.append(name)\n",
    "            to_g_neg.append(sum(to_neg[(mult*i):(mult*(i+1))]))\n",
    "            to_g_noneg.append(sum(to_noneg[(mult*i):(mult*(i+1))]))\n",
    "    else:\n",
    "        to_g_name = ['Falso', 'Verdadero']\n",
    "        to_g_neg = to_neg\n",
    "        to_g_noneg = to_noneg\n",
    "    \n",
    "    exito = [float(\"{0:.2f}\".format(x/(x+y))) for x, y in zip(to_g_neg, to_g_noneg)]\n",
    "    # print(to_g_name, to_g_neg, to_g_noneg, exito)\n",
    "\n",
    "    trace1 = go.Bar(\n",
    "        x=to_g_name,\n",
    "        y=to_g_neg,\n",
    "        name='Conversión',\n",
    "        marker=dict(\n",
    "            color='rgb(55, 83, 109)'\n",
    "        )\n",
    "    )\n",
    "    trace2 = go.Bar(\n",
    "        x=to_g_name,\n",
    "        y=to_g_noneg,\n",
    "        name='No Conversión',\n",
    "        marker=dict(\n",
    "            color='rgb(26, 118, 255)'\n",
    "        )\n",
    "    )\n",
    "\n",
    "    trace3 = go.Scatter(\n",
    "        x=to_g_name,\n",
    "        y=exito,\n",
    "        yaxis='y2',\n",
    "        name='% Éxito'\n",
    "    )\n",
    "    traces = [trace1, trace2, trace3]\n",
    "\n",
    "    layout = go.Layout(\n",
    "        title=title,\n",
    "#         font = dict(size=24),\n",
    "        xaxis=dict(\n",
    "            title = grupo,\n",
    "            titlefont=dict(size=18,color='rgb(0, 0, 0)'),\n",
    "            tickfont=dict(\n",
    "                size=14,\n",
    "                color='rgb(0, 0, 0)'\n",
    "            )\n",
    "        ),\n",
    "        yaxis=dict(\n",
    "            title='Número Personas',\n",
    "            titlefont=dict(\n",
    "                size=18,\n",
    "                color='rgb(0, 0, 0)'\n",
    "            ),\n",
    "            tickfont=dict(\n",
    "                size=18,\n",
    "                color='rgb(0, 0, 0)'\n",
    "            )\n",
    "        ),\n",
    "        yaxis2=dict(\n",
    "            title='% Éxito',\n",
    "            titlefont=dict(\n",
    "                size=18,\n",
    "                color='rgb(0, 0, 0)'\n",
    "            ),\n",
    "            tickfont=dict(\n",
    "                size=18,\n",
    "                color='rgb(0, 0, 0)'\n",
    "            ),\n",
    "            overlaying='y',\n",
    "            side='right'\n",
    "        ),\n",
    "        legend=dict(\n",
    "            x=1.1,\n",
    "            y=1.0,\n",
    "            font=dict(size=14),\n",
    "            bgcolor='rgba(255, 255, 255, 0)',\n",
    "            bordercolor='rgba(255, 255, 255, 0)'\n",
    "        ),\n",
    "        barmode='stack',\n",
    "        bargap=0.15,\n",
    "        bargroupgap=0.5\n",
    "    )\n",
    "    figure = go.Figure(data=traces, layout=layout)\n",
    "    return figure"
   ]
  },
  {
   "cell_type": "code",
   "execution_count": null,
   "metadata": {
    "scrolled": false
   },
   "outputs": [],
   "source": [
    "data = combo_chart('precio_cotizacion_median', model, personas,'compra', title='Casos Éxito Compra', grupo='Grupo (Median Cotizaciones)')\n",
    "py.iplot(data, filename='basic-line')"
   ]
  },
  {
   "cell_type": "code",
   "execution_count": 109,
   "metadata": {},
   "outputs": [
    {
     "name": "stdout",
     "output_type": "stream",
     "text": [
      "Automatically created module for IPython interactive environment\n"
     ]
    }
   ],
   "source": [
    "print(__doc__)\n",
    "\n",
    "import numpy as np\n",
    "from scipy import interp\n",
    "import matplotlib.pyplot as plt\n",
    "from itertools import cycle\n",
    "\n",
    "from sklearn import svm, datasets\n",
    "from sklearn.metrics import roc_curve, auc\n",
    "from sklearn.model_selection import StratifiedKFold\n",
    "\n",
    "def cross_roc_validation(model, model_name, X_cros, y_cros, X_val, y_val, splits=3):\n",
    "    \n",
    "    kf = StratifiedKFold(n_splits=splits)\n",
    "    classifier = model\n",
    "\n",
    "    tprs = []\n",
    "    aucs, accs, pres, recs, fs = [], [], [], [],[]\n",
    "    mean_fpr = np.linspace(0, 1, 100)\n",
    "\n",
    "    i = 0\n",
    "    X_val, y_val = X_val, y_val\n",
    "    for train, test in kf.split(X_cros, y_cros):\n",
    "        X_train, y_train, X_test, y_test  = X_cros.iloc[train], y_cros.iloc[train], X_cros.iloc[test], y_cros.iloc[test]\n",
    "        \n",
    "        probas_ = classifier.fit(X_train, y_train ).predict_proba(X_test)\n",
    "        y_pred=classifier.predict(X_test)\n",
    "        \n",
    "        # Compute ROC curve and area the curve\n",
    "        fpr, tpr, thresholds = roc_curve(y_test, probas_[:, 1])\n",
    "        tprs.append(interp(mean_fpr, fpr, tpr))\n",
    "        tprs[-1][0] = 0.0\n",
    "        roc_auc = auc(fpr, tpr)\n",
    "        aucs.append(roc_auc)\n",
    "        plt.plot(fpr, tpr, lw=1, alpha=0.3,\n",
    "                 label='ROC fold %d (AUC = %0.2f)' % (i, roc_auc))\n",
    "        \n",
    "        matrix = metrics.confusion_matrix(y_true=y_test, y_pred=y_pred)\n",
    "        tn, fp, fn, tp = matrix.ravel()\n",
    "\n",
    "        a = (tp + tn) / (tn + fp + fn + tp)\n",
    "        p = tp /(tp + fp)\n",
    "        r = tp / (tp + fn)\n",
    "        f = (2* p* r) / (p + r)\n",
    "        accs.append(a); pres.append(p); recs.append(r); fs.append(f)\n",
    "        auc_score = roc_auc_score(y_test, classifier.predict(X_test))\n",
    "\n",
    "\n",
    "        i += 1\n",
    "    \n",
    "    print('Test ','CV Splits', splits, '\\n',\n",
    "        \"acc %.3f +- %.3f\"%(np.mean(accs),np.std(accs)),\\\n",
    "          \"pre %.3f +- %.3f\"%(np.mean(pres),np.std(pres)), \\\n",
    "          \"rec %.3f +- %.3f\"%(np.mean(recs),np.std(recs)),\\\n",
    "          \"fs %.3f +- %.3f\"%(np.mean(fs),np.std(fs)),\\\n",
    "          \"auc %.3f +- %.3f\"%(np.mean(aucs),np.std(aucs)),)\n",
    "    \n",
    "    y_val_probas = classifier.fit(X, y).predict_proba(X_val)\n",
    "    y_val_pred=classifier.predict(X_val)\n",
    "    \n",
    "    matrix = metrics.confusion_matrix(y_true=y_val, y_pred=y_val_pred)\n",
    "    tn, fp, fn, tp = matrix.ravel()\n",
    "\n",
    "    print('Validation set:')\n",
    "    print('tn', tn, 'fp', fp, 'fn', fn, 'tp', tp)\n",
    "    a = (tp + tn) / (tn + fp + fn + tp)\n",
    "    p = tp /(tp + fp)\n",
    "    r = tp / (tp + fn)\n",
    "    f = (2* p* r) / (p + r)\n",
    "    print('tpr: %.3f' % r, 'fpr %.3f' % (fp /(fp + tn)), 'auc %.2f '%auc_score)\n",
    "    print('a: %.3f' % a, 'p %.3f' % p, 'r %.3f' % r, 'f %.3f'% f )\n",
    "    print('TN %.2f'%(tn/(tn+fp)), 'TP %.2f'% p)\n",
    "\n",
    "    plt.plot([0, 1], [0, 1], linestyle='--', lw=2, color='r',\n",
    "             label='Chance', alpha=.8)\n",
    "\n",
    "    mean_tpr = np.mean(tprs, axis=0)\n",
    "    mean_tpr[-1] = 1.0\n",
    "    mean_auc = auc(mean_fpr, mean_tpr)\n",
    "    std_auc = np.std(aucs)\n",
    "    plt.plot(mean_fpr, mean_tpr, color='b',\n",
    "             label=r'Mean ROC (AUC = %0.2f $\\pm$ %0.2f)' % (mean_auc, std_auc),\n",
    "             lw=2, alpha=.8)\n",
    "\n",
    "    std_tpr = np.std(tprs, axis=0)\n",
    "    tprs_upper = np.minimum(mean_tpr + std_tpr, 1)\n",
    "    tprs_lower = np.maximum(mean_tpr - std_tpr, 0)\n",
    "    plt.fill_between(mean_fpr, tprs_lower, tprs_upper, color='grey', alpha=.2,\n",
    "                     label=r'$\\pm$ 1 std. dev.')\n",
    "\n",
    "    plt.xlim([-0.05, 1.05])\n",
    "    plt.ylim([-0.05, 1.05])\n",
    "    plt.xlabel('False Positive Rate')\n",
    "    plt.ylabel('True Positive Rate')\n",
    "    plt.title('Receiver operating characteristic example')\n",
    "    plt.legend(loc=\"lower right\",  bbox_to_anchor=(1.7, 0))\n",
    "    plt.savefig(folder_results + '\\\\{}_roc_cv_{}.png'.format(model_name, splits), bbox_inches = 'tight', dpi=300)\n",
    "    plt.show()"
   ]
  },
  {
   "cell_type": "code",
   "execution_count": 110,
   "metadata": {
    "scrolled": false
   },
   "outputs": [
    {
     "name": "stdout",
     "output_type": "stream",
     "text": [
      "Classifier  LR\n",
      "Test  CV Splits 6 \n",
      " acc 0.863 +- 0.009 pre 0.304 +- 0.014 rec 0.927 +- 0.046 fs 0.457 +- 0.015 auc 0.931 +- 0.019\n",
      "Validation set:\n",
      "tn 608 fp 110 fn 1 tp 44\n",
      "tpr: 0.978 fpr 0.153 auc 0.91 \n",
      "a: 0.855 p 0.286 r 0.978 f 0.442\n",
      "TN 0.85 TP 0.29\n"
     ]
    },
    {
     "data": {
      "image/png": "[encoded data removed]",
      "text/plain": [
       "<matplotlib.figure.Figure at 0x2b583da1780>"
      ]
     },
     "metadata": {},
     "output_type": "display_data"
    },
    {
     "name": "stdout",
     "output_type": "stream",
     "text": [
      "Classifier  DT\n",
      "Test  CV Splits 6 \n",
      " acc 0.864 +- 0.023 pre 0.306 +- 0.030 rec 0.891 +- 0.092 fs 0.452 +- 0.022 auc 0.881 +- 0.028\n",
      "Validation set:\n",
      "tn 594 fp 124 fn 0 tp 45\n",
      "tpr: 1.000 fpr 0.173 auc 0.92 \n",
      "a: 0.837 p 0.266 r 1.000 f 0.421\n",
      "TN 0.83 TP 0.27\n"
     ]
    },
    {
     "data": {
      "image/png": "[encoded data removed]",
      "text/plain": [
       "<matplotlib.figure.Figure at 0x2b5857e2ac8>"
      ]
     },
     "metadata": {},
     "output_type": "display_data"
    },
    {
     "name": "stdout",
     "output_type": "stream",
     "text": [
      "Classifier  RF\n",
      "Test  CV Splits 6 \n",
      " acc 0.891 +- 0.006 pre 0.346 +- 0.014 rec 0.853 +- 0.071 fs 0.492 +- 0.022 auc 0.926 +- 0.014\n",
      "Validation set:\n",
      "tn 633 fp 85 fn 0 tp 45\n",
      "tpr: 1.000 fpr 0.118 auc 0.91 \n",
      "a: 0.889 p 0.346 r 1.000 f 0.514\n",
      "TN 0.88 TP 0.35\n"
     ]
    },
    {
     "data": {
      "image/png": "[encoded data removed]",
      "text/plain": [
       "<matplotlib.figure.Figure at 0x2b585845be0>"
      ]
     },
     "metadata": {},
     "output_type": "display_data"
    },
    {
     "name": "stdout",
     "output_type": "stream",
     "text": [
      "Classifier  PCAKNN\n",
      "Test  CV Splits 6 \n",
      " acc 0.930 +- 0.008 pre 0.422 +- 0.097 rec 0.290 +- 0.064 fs 0.340 +- 0.067 auc 0.866 +- 0.028\n",
      "Validation set:\n",
      "tn 708 fp 10 fn 30 tp 15\n",
      "tpr: 0.333 fpr 0.014 auc 0.66 \n",
      "a: 0.948 p 0.600 r 0.333 f 0.429\n",
      "TN 0.99 TP 0.60\n"
     ]
    },
    {
     "data": {
      "image/png": "[encoded data removed]",
      "text/plain": [
       "<matplotlib.figure.Figure at 0x2b5859146d8>"
      ]
     },
     "metadata": {},
     "output_type": "display_data"
    },
    {
     "name": "stdout",
     "output_type": "stream",
     "text": [
      "Classifier  KNN\n",
      "Test  CV Splits 6 \n",
      " acc 0.936 +- 0.008 pre 0.475 +- 0.113 rec 0.300 +- 0.082 fs 0.365 +- 0.090 auc 0.794 +- 0.037\n",
      "Validation set:\n",
      "tn 702 fp 16 fn 30 tp 15\n",
      "tpr: 0.333 fpr 0.022 auc 0.66 \n",
      "a: 0.940 p 0.484 r 0.333 f 0.395\n",
      "TN 0.98 TP 0.48\n"
     ]
    },
    {
     "data": {
      "image/png": "[encoded data removed]",
      "text/plain": [
       "<matplotlib.figure.Figure at 0x2b583a4db38>"
      ]
     },
     "metadata": {},
     "output_type": "display_data"
    },
    {
     "name": "stdout",
     "output_type": "stream",
     "text": [
      "Classifier  XGB\n",
      "Test  CV Splits 6 \n",
      " acc 0.929 +- 0.006 pre 0.399 +- 0.079 rec 0.258 +- 0.064 fs 0.310 +- 0.059 auc 0.925 +- 0.019\n",
      "Validation set:\n",
      "tn 707 fp 11 fn 25 tp 20\n",
      "tpr: 0.444 fpr 0.015 auc 0.68 \n",
      "a: 0.953 p 0.645 r 0.444 f 0.526\n",
      "TN 0.98 TP 0.65\n"
     ]
    },
    {
     "data": {
      "image/png": "[encoded data removed]",
      "text/plain": [
       "<matplotlib.figure.Figure at 0x2b58554e5f8>"
      ]
     },
     "metadata": {},
     "output_type": "display_data"
    }
   ],
   "source": [
    "for key in clfs_results.keys():\n",
    "    print(\"Classifier \", key)\n",
    "    model =clfs_results[key][3]['best_model']\n",
    "    cross_roc_validation(model, key, X_grid, y_grid, X_test_o, y_test_o, splits=6)"
   ]
  },
  {
   "cell_type": "code",
   "execution_count": 108,
   "metadata": {},
   "outputs": [
    {
     "data": {
      "text/html": [
       "['LRCV2_compra_is.joblib']"
      ],
      "text/plain": [
       "['LRCV2_compra_is.joblib']"
      ]
     },
     "execution_count": 108,
     "metadata": {},
     "output_type": "execute_result"
    }
   ],
   "source": [
    "model = clfs_results['RF'][3]['best_model']\n",
    "from sklearn.externals import joblib\n",
    "joblib.dump(model, 'RFCV3_compra_is.joblib') "
   ]
  },
  {
   "cell_type": "code",
   "execution_count": 112,
   "metadata": {},
   "outputs": [
    {
     "name": "stdout",
     "output_type": "stream",
     "text": [
      "             precision    recall  f1-score   support\n",
      "\n",
      "         -1       1.00      0.88      0.94       718\n",
      "          1       0.35      1.00      0.51        45\n",
      "\n",
      "avg / total       0.96      0.89      0.91       763\n",
      "\n",
      "[[633  85]\n",
      " [  0  45]]\n",
      "AUC:  0.9572113896626431\n",
      "Point in ROC 0.11838440111420613 0.34615384615384615\n"
     ]
    },
    {
     "data": {
      "image/png": "[encoded data removed]",
      "text/plain": [
       "<matplotlib.figure.Figure at 0x2b5838f9d30>"
      ]
     },
     "metadata": {},
     "output_type": "display_data"
    },
    {
     "name": "stdout",
     "output_type": "stream",
     "text": [
      "Normalized confusion matrix\n"
     ]
    },
    {
     "data": {
      "image/png": "[encoded data removed]",
      "text/plain": [
       "<matplotlib.figure.Figure at 0x2b5838f9588>"
      ]
     },
     "metadata": {},
     "output_type": "display_data"
    },
    {
     "name": "stdout",
     "output_type": "stream",
     "text": [
      "Confusion matrix, without normalization\n"
     ]
    },
    {
     "data": {
      "image/png": "[encoded data removed]",
      "text/plain": [
       "<matplotlib.figure.Figure at 0x2b583b90c50>"
      ]
     },
     "metadata": {},
     "output_type": "display_data"
    }
   ],
   "source": [
    "model_name = 'RF'\n",
    "model =clfs_results[model_name][3]['best_model']\n",
    "# model.fit(X_grid,y_grid)\n",
    "y_pred = model.predict(X_test_o)\n",
    "y_proba = model.predict_proba(X_test_o)[:,1]\n",
    "# predict_mine = np.where(y_proba > 0.989, 1, 0)\n",
    "print(classification_report(y_test_o, y_pred ))\n",
    "print(confusion_matrix(y_test_o, y_pred))\n",
    "roc_curve_plot(model, X_test_o, y_test_o,  title='Test {} Compra ROC Curve cv{}'.format(model_name, 2))\n",
    "plot_confusion_matrix(y_test_o, y_pred, ['Compra', 'No Compra'] ,  \\\n",
    "                      title='Test {} Norm. Confusion Matrix cv{}'.format(model_name, 2), normalize=True)\n",
    "plot_confusion_matrix(y_test_o, y_pred, ['Compra', 'No Compra'] ,  \\\n",
    "                      title='Test {} Confusion Matrix cv{}'.format(model_name, 2), normalize=False)"
   ]
  },
  {
   "cell_type": "code",
   "execution_count": null,
   "metadata": {
    "scrolled": false
   },
   "outputs": [],
   "source": [
    "model = clfs_results[model_name][2]['best_model']\n",
    "y_pred = model.predict(X_test_o)\n",
    "y_probas = model.predict_proba(X_test_o)\n",
    "\n",
    "print(X_test_o.shape, y_test_o.shape, y_proba.shape)\n",
    "classifier_insights(y_test_o, y_probas, model, f_importance = True, model_name='RF Negocio')"
   ]
  },
  {
   "cell_type": "markdown",
   "metadata": {},
   "source": [
    "# PREDICT ONE CLIENTE"
   ]
  },
  {
   "cell_type": "code",
   "execution_count": null,
   "metadata": {},
   "outputs": [],
   "source": [
    "model_name = 'RF'\n",
    "probas = clfs_results[model_name][2]['best_model'].predict_proba(X_test_o)[:,1]\n",
    "y_pred = clfs_results[model_name][2]['best_model'].predict(X_test_o)"
   ]
  },
  {
   "cell_type": "code",
   "execution_count": null,
   "metadata": {},
   "outputs": [],
   "source": [
    "print(len(probas), len(y_pred))"
   ]
  },
  {
   "cell_type": "code",
   "execution_count": null,
   "metadata": {},
   "outputs": [],
   "source": [
    "b_personas = copy.deepcopy(personas)\n",
    "b_p_negocio = copy.deepcopy(p_target)"
   ]
  },
  {
   "cell_type": "code",
   "execution_count": null,
   "metadata": {},
   "outputs": [],
   "source": [
    "b_personas = b_personas.loc[X_test_o.index]\n",
    "b_p_negocio = b_p_negocio.loc[X_test_o.index]"
   ]
  },
  {
   "cell_type": "code",
   "execution_count": null,
   "metadata": {},
   "outputs": [],
   "source": [
    "b_personas['y_pred'] = y_pred\n",
    "b_personas['probas'] = probas"
   ]
  },
  {
   "cell_type": "code",
   "execution_count": null,
   "metadata": {},
   "outputs": [],
   "source": [
    "print(b_personas.shape)\n",
    "b_personas.head(1)"
   ]
  },
  {
   "cell_type": "code",
   "execution_count": null,
   "metadata": {},
   "outputs": [],
   "source": []
  },
  {
   "cell_type": "code",
   "execution_count": null,
   "metadata": {},
   "outputs": [],
   "source": [
    "# personas_original.loc[1573]"
   ]
  },
  {
   "cell_type": "code",
   "execution_count": null,
   "metadata": {},
   "outputs": [],
   "source": [
    "info = personas_original.loc[[1573]].merge(personas_info, left_on='rut', right_on='rut', how='left')\n",
    "info[['nombre','y_pred']]"
   ]
  },
  {
   "cell_type": "code",
   "execution_count": null,
   "metadata": {},
   "outputs": [],
   "source": [
    "b_personas.drop(['y_pred', 'probas'], axis=1, inplace=True)"
   ]
  },
  {
   "cell_type": "code",
   "execution_count": null,
   "metadata": {},
   "outputs": [],
   "source": [
    "print(clfs_results[model_name][2]['best_model'].predict(b_personas.head(1)))\n",
    "print(clfs_results[model_name][2]['best_model'].predict_proba(b_personas.head(1))[:,1])\n",
    "print(clfs_results[model_name][2]['best_model'].predict_proba(b_personas.head(1)))"
   ]
  },
  {
   "cell_type": "markdown",
   "metadata": {},
   "source": [
    "# PREDICT LISTS OF CLIENTS"
   ]
  },
  {
   "cell_type": "code",
   "execution_count": null,
   "metadata": {
    "scrolled": true
   },
   "outputs": [],
   "source": [
    "#Copia de X_test_o para no mancharlo\n",
    "b_personas = copy.deepcopy(X_test_o)\n",
    "b_p_negocio = copy.deepcopy(y_test_o)\n"
   ]
  },
  {
   "cell_type": "code",
   "execution_count": null,
   "metadata": {},
   "outputs": [],
   "source": [
    "b_personas.columns"
   ]
  },
  {
   "cell_type": "code",
   "execution_count": null,
   "metadata": {},
   "outputs": [],
   "source": [
    "# revisando que los indices corresponden\n",
    "print(len(set(X_test_o.index) & set(y_test_o.index)))\n"
   ]
  },
  {
   "cell_type": "code",
   "execution_count": null,
   "metadata": {},
   "outputs": [],
   "source": [
    "# revisando el largo de los sets\n",
    "# print(b_personas.shape, b_p_negocio.shape, probas.shape)\n",
    "\n",
    "#prediciendo probas y pred para X_test_o\n",
    "probas = clfs_results[model_name][2]['best_model'].predict_proba(X_test_o)[:,1]\n",
    "y_pred = clfs_results[model_name][2]['best_model'].predict(X_test_o)\n",
    "\n",
    "#uniendo predicion y probas a set inicial (faltan datos personales)\n",
    "b_personas['target'] = b_p_negocio\n",
    "b_personas['y_pred'] = clfs_results[model_name][2]['best_model'].predict(X_test_o)\n",
    "b_personas['t_proba'] = clfs_results[model_name][2]['best_model'].predict_proba(X_test_o)[:,1]\n",
    "\n",
    "\n",
    "#Comprobando las predicciones\n",
    "results = b_personas\n"
   ]
  },
  {
   "cell_type": "code",
   "execution_count": null,
   "metadata": {},
   "outputs": [],
   "source": [
    "bla = personas_original.loc[b_personas.index]\n",
    "bla\n"
   ]
  },
  {
   "cell_type": "code",
   "execution_count": null,
   "metadata": {},
   "outputs": [],
   "source": [
    "set1 = set(b_personas.index)\n",
    "set2 = set(personas_original.index)\n",
    "\n",
    "matched = set1.intersection(set2) # set(['dog', 'cat', 'donkey'])\n",
    "unmatched = set1.symmetric_difference(set2) # set(['pig'])"
   ]
  },
  {
   "cell_type": "code",
   "execution_count": null,
   "metadata": {},
   "outputs": [],
   "source": [
    "len(matched)"
   ]
  },
  {
   "cell_type": "code",
   "execution_count": null,
   "metadata": {},
   "outputs": [],
   "source": [
    "print(len(set(personas_original.index) & set(b_personas.index)))"
   ]
  },
  {
   "cell_type": "code",
   "execution_count": null,
   "metadata": {},
   "outputs": [],
   "source": [
    "new = personas_original.merge(b_personas, left_index=True, right_index=True)\n",
    "new.shape"
   ]
  },
  {
   "cell_type": "code",
   "execution_count": null,
   "metadata": {},
   "outputs": [],
   "source": [
    "new.columns.tolist()"
   ]
  },
  {
   "cell_type": "code",
   "execution_count": null,
   "metadata": {},
   "outputs": [],
   "source": [
    "new2[['t_proba', 'y_pred','target','nro_cot_depto_y','nro_cot_depto_x','is_apellido2_x','is_apellido2_y']].head(20)"
   ]
  },
  {
   "cell_type": "code",
   "execution_count": null,
   "metadata": {},
   "outputs": [],
   "source": [
    "new2 = new.merge(personas_info, left_on='rut', right_on='rut', how='left')\n",
    "new2.shape"
   ]
  },
  {
   "cell_type": "code",
   "execution_count": null,
   "metadata": {},
   "outputs": [],
   "source": [
    "new2.columns.tolist()"
   ]
  },
  {
   "cell_type": "code",
   "execution_count": null,
   "metadata": {},
   "outputs": [],
   "source": [
    "new2[['rut','nombre','correo','t_proba', 'y_pred','target','nro_cot_depto_y','nro_cot_depto_x']]"
   ]
  },
  {
   "cell_type": "code",
   "execution_count": null,
   "metadata": {},
   "outputs": [],
   "source": [
    "info = new.merge(personas_info, left_on='rut', right_on='rut', how='left')"
   ]
  },
  {
   "cell_type": "code",
   "execution_count": null,
   "metadata": {},
   "outputs": [],
   "source": [
    "info[['nombre', 'y_pred', 'target', 't_proba']]"
   ]
  },
  {
   "cell_type": "code",
   "execution_count": null,
   "metadata": {},
   "outputs": [],
   "source": [
    "personas_original.shape"
   ]
  },
  {
   "cell_type": "code",
   "execution_count": null,
   "metadata": {},
   "outputs": [],
   "source": [
    "#buscando los datos personales de las personas de X_test_0 con sus indices, se comprueba que estan todos\n",
    "personas_info.loc[results.index].shape"
   ]
  },
  {
   "cell_type": "code",
   "execution_count": null,
   "metadata": {
    "scrolled": false
   },
   "outputs": [],
   "source": [
    "# se traen estos datos desde el conjunto con información personal\n",
    "new = personas_info.loc[results.index]\n",
    "# se les agrega las probas y pred hechos con X_test_o\n",
    "new['t_probas'] = probas\n",
    "new['y_pred_negocio'] = y_pred\n",
    "new['target'] = b_personas['target']\n",
    "new.head()"
   ]
  },
  {
   "cell_type": "code",
   "execution_count": null,
   "metadata": {},
   "outputs": [],
   "source": [
    "new.columns"
   ]
  },
  {
   "cell_type": "code",
   "execution_count": null,
   "metadata": {},
   "outputs": [],
   "source": [
    "new[['rut','y_pred_negocio', 't_probas', 'target','rut_original','sexo','celular', 'correo','direccion', 'edad','nombre', 'apellido1', 'apellido2']]"
   ]
  },
  {
   "cell_type": "code",
   "execution_count": null,
   "metadata": {},
   "outputs": [],
   "source": [
    "#se revisa la inforacion personal\n",
    "new.head(1)"
   ]
  },
  {
   "cell_type": "markdown",
   "metadata": {},
   "source": [
    "# PREDICT FOT PERSON IN LIST"
   ]
  },
  {
   "cell_type": "code",
   "execution_count": null,
   "metadata": {},
   "outputs": [],
   "source": [
    "# se botan las columnas agregadas al set inicial de información de las personas\n",
    "new.drop(['y_pred_negocio', 't_probas', 'target'], axis=1, inplace=True)"
   ]
  },
  {
   "cell_type": "code",
   "execution_count": null,
   "metadata": {},
   "outputs": [],
   "source": [
    "#se toma la primera persona en la lista\n",
    "to_predict = new.head(1)\n",
    "#se escogen las variables predictoras\n",
    "to_predict = to_predict[is_no_time_price]\n",
    "#se realiza la dummizacion\n",
    "to_predict = pd.get_dummies(to_predict)\n",
    "# se vericica el largo de las filas del dummy para que calzen con las del modelo\n",
    "to_predict.shape"
   ]
  },
  {
   "cell_type": "code",
   "execution_count": null,
   "metadata": {},
   "outputs": [],
   "source": [
    "# se predice con el modelo para la persona anterior\n",
    "clfs_results[model_name][2]['best_model'].predict_proba(to_predict)[:,1]"
   ]
  },
  {
   "cell_type": "code",
   "execution_count": null,
   "metadata": {},
   "outputs": [],
   "source": [
    "personas_info.merge(x, left_index=True, right_index=True).columns.tolist()"
   ]
  },
  {
   "cell_type": "code",
   "execution_count": null,
   "metadata": {},
   "outputs": [],
   "source": [
    "m = personas_original.merge(X_test_o, left_index=True, right_index=True)\n",
    "m['t_proba'] = clfs_results[model_name][2]['best_model'].predict_proba(X_test_o)[:,1]\n",
    "m['y_pred'] = clfs_results[model_name][2]['best_model'].predict(X_test_o)\n",
    "m[['rut','t_proba', 'y_pred', 'negocio']]"
   ]
  },
  {
   "cell_type": "code",
   "execution_count": null,
   "metadata": {},
   "outputs": [],
   "source": [
    "def format_rut(x):\n",
    "    rut = x.split('-')\n",
    "    l_s = list(rut[0])\n",
    "    r_l = l_s[::-1]\n",
    "    new = []\n",
    "    i = 0\n",
    "    new.append(rut[1])\n",
    "    new.append('-')\n",
    "    for c in r_l:\n",
    "        if i==3:\n",
    "            new.append('.')\n",
    "            i = 0\n",
    "        new.append(c)\n",
    "        i +=1\n",
    "    rut = ''.join(new[::-1])\n",
    "    return rut\n",
    "\n",
    "def negocio_rank_callback(modelo, rut):\n",
    "    tmp_personas = copy.deepcopy(personas_info)\n",
    "\n",
    "    predictors = no_is_time_price\n",
    "\n",
    "    rut = format_rut(rut) \n",
    "    \n",
    "    to_predict = tmp_personas[tmp_personas.rut == rut]\n",
    "    print(to_predict)\n",
    "    index = to_predict.index\n",
    "    # target = tmp_personas.negocio\n",
    "    p_personas = tmp_personas[predictors]\n",
    "    d_personas = pd.get_dummies(p_personas)\n",
    "\n",
    "    to_predict = d_personas.loc[index]\n",
    "\n",
    "    y_proba = modelo.predict_proba(to_predict)\n",
    "    y_pred = modelo.predict(to_predict)\n",
    "    print('Negocio', y_proba, y_pred)\n",
    "#     p = html.H3('%.4f' % y_proba[:,1])\n",
    "    return p"
   ]
  },
  {
   "cell_type": "code",
   "execution_count": null,
   "metadata": {},
   "outputs": [],
   "source": [
    "modelo = clfs_results[model_name][2]['best_model']\n",
    "negocio_rank_callback(modelo, \"10033390-2\")"
   ]
  },
  {
   "cell_type": "code",
   "execution_count": null,
   "metadata": {},
   "outputs": [],
   "source": []
  }
 ],
 "metadata": {
  "kernelspec": {
   "display_name": "Python 3",
   "language": "python",
   "name": "python3"
  },
  "language_info": {
   "codemirror_mode": {
    "name": "ipython",
    "version": 3
   },
   "file_extension": ".py",
   "mimetype": "text/x-python",
   "name": "python",
   "nbconvert_exporter": "python",
   "pygments_lexer": "ipython3",
   "version": "3.6.4"
  }
 },
 "nbformat": 4,
 "nbformat_minor": 2
}
