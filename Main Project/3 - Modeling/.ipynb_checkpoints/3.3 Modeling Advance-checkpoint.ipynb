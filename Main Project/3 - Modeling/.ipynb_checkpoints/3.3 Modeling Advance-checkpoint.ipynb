{
 "cells": [
  {
   "cell_type": "code",
   "execution_count": 1,
   "metadata": {
    "collapsed": true
   },
   "outputs": [],
   "source": [
    "import os\n",
    "import numpy as np\n",
    "import seaborn as sb\n",
    "sb.set()\n",
    "import matplotlib.pyplot as plt\n",
    "import pandas as pd"
   ]
  },
  {
   "cell_type": "code",
   "execution_count": 2,
   "metadata": {},
   "outputs": [
    {
     "name": "stdout",
     "output_type": "stream",
     "text": [
      "(6184, 34)\n",
      "(6184, 29)\n",
      "(6184,)\n",
      "(6184, 173)\n",
      "Tamaño Total:  (6184, 173)\n",
      "Personas que hicieron Negocio:  (1101,)\n",
      "Personas que no Hicieorn Negocio:  (5083,)\n",
      "(4328, 173) (1856, 173) (4328,) (1856,)\n"
     ]
    }
   ],
   "source": [
    "personas = pd.read_csv('..\\\\..\\\\Datos\\\\working\\\\personas_cotizacion4.csv',encoding = \"ISO-8859-1\")\n",
    "personas.head(2)\n",
    "\n",
    "# Ready Data Set\n",
    "\n",
    "print(personas.shape)\n",
    "# print(personas.columns)\n",
    "drop_columns = [personas.columns[0], 'rut', 'negocio', 'max_rango_edad', 'is_profesion']\n",
    "\n",
    "p_negocio = personas.negocio\n",
    "personas = personas.drop(drop_columns, axis=1)\n",
    "\n",
    "print(personas.shape)\n",
    "print(p_negocio.shape)\n",
    "\n",
    "personas = pd.get_dummies(personas)\n",
    "\n",
    "print(personas.shape)\n",
    "# personas.describe()\n",
    "\n",
    "print(\"Tamaño Total: \",personas.shape)\n",
    "print(\"Personas que hicieron Negocio: \",p_negocio[p_negocio == True].shape)\n",
    "print(\"Personas que no Hicieorn Negocio: \",p_negocio[p_negocio == False].shape)\n",
    "\n",
    "X = personas\n",
    "y = p_negocio\n",
    "\n",
    "from sklearn.model_selection import train_test_split\n",
    "\n",
    "X_train, X_test, y_train, y_test = train_test_split(X,y,test_size=0.3,random_state=42)\n",
    "print(X_train.shape,X_test.shape,y_train.shape, y_test.shape)"
   ]
  },
  {
   "cell_type": "code",
   "execution_count": 3,
   "metadata": {
    "collapsed": true
   },
   "outputs": [],
   "source": [
    "from sklearn.model_selection import train_test_split\n",
    "from sklearn.neighbors import KNeighborsClassifier\n",
    "from sklearn.metrics import classification_report, confusion_matrix, roc_curve\n",
    "from sklearn.model_selection import GridSearchCV\n",
    "from sklearn.linear_model import LogisticRegression\n",
    "from scipy.stats import randint\n",
    "from sklearn.tree import DecisionTreeClassifier\n",
    "from sklearn.model_selection import RandomizedSearchCV\n",
    "from sklearn.ensemble import RandomForestClassifier\n",
    "from sklearn.metrics import roc_auc_score\n",
    "from sklearn.preprocessing import MinMaxScaler"
   ]
  },
  {
   "cell_type": "code",
   "execution_count": 4,
   "metadata": {
    "collapsed": true
   },
   "outputs": [],
   "source": [
    "def plot_confusion_matrix(model,X,y,y_pred):\n",
    "    print(confusion_matrix(y, y_pred))\n",
    "    print(classification_report(y, y_pred))\n",
    "    cm = confusion_matrix(y, y_pred)\n",
    "    plt.figure(figsize=(5,5))\n",
    "    sb.heatmap(cm, annot=True, fmt=\".3f\", linewidths=.5, square = True, cmap = 'Blues');\n",
    "    plt.ylabel('Actual label');\n",
    "    plt.xlabel('Predicted label');\n",
    "    all_sample_title = 'Acc: {0}'.format(model.score(X, y))\n",
    "    plt.title(all_sample_title, size = 10);\n",
    "    plt.show()\n",
    "    \n",
    "def roc_curve_plot(model, X_test, y_test):\n",
    "    # Compute predicted probabilities: y_pred_prob\n",
    "    y_pred_prob = model.predict_proba(X_test)[:,1]\n",
    "\n",
    "    # Generate ROC curve values: fpr, tpr, thresholds\n",
    "    fpr, tpr, treshold = roc_curve(y_test, y_pred_prob)\n",
    "\n",
    "    # Plot ROC curve\n",
    "    plt.plot([0, 1], [0, 1], 'k--')\n",
    "    plt.plot(fpr, tpr)\n",
    "    plt.xlabel('False Positive Rate')\n",
    "    plt.ylabel('True Positive Rate')\n",
    "    plt.title('ROC Curve')\n",
    "    plt.show()"
   ]
  },
  {
   "cell_type": "markdown",
   "metadata": {},
   "source": [
    "# 3. Advanced Ensemble techniques"
   ]
  },
  {
   "cell_type": "markdown",
   "metadata": {},
   "source": [
    "## 3.1 Stacking\n",
    "Stacking is an ensemble learning technique that uses predictions from multiple models (for example decision tree, knn or svm) to build a new model. This model is used for making predictions on the test set. Below is a step-wise explanation for a simple stacked ensemble:"
   ]
  },
  {
   "cell_type": "code",
   "execution_count": 5,
   "metadata": {
    "collapsed": true
   },
   "outputs": [],
   "source": [
    "# from sklearn.model_selection import StratifiedKFold\n",
    "\n",
    "# def Stacking(model, train, y, test, n_fold):\n",
    "    \n",
    "#     folds = StratifiedKFold(n_splits=n_fold,random_state=1)\n",
    "    \n",
    "#     test_pred = np.empty((test.shape[0],1),float)\n",
    "#     train_pred = np.empty((0,1),float)\n",
    "    \n",
    "#     for train_indices, val_indices in folds.split(train, y.values):\n",
    "#         x_train, x_val = train.iloc[train_indices], train.iloc[val_indices]\n",
    "#         y_train, y_val = y.iloc[train_indices], y.iloc[val_indices]\n",
    "\n",
    "#         model.fit(X=x_train, y=y_train)\n",
    "        \n",
    "#         train_pred = np.append(train_pred, model.predict(x_val))\n",
    "#         test_pred = np.append(test_pred, model.predict(test))\n",
    "    \n",
    "#     return test_pred.reshape(-1,1), train_pred"
   ]
  },
  {
   "cell_type": "code",
   "execution_count": 6,
   "metadata": {},
   "outputs": [],
   "source": [
    "# model1 = dtree\n",
    "\n",
    "# test_pred1 ,train_pred1 = Stacking(model=model1, n_fold=10, train=X_train, test=X_test, y=y_train)\n",
    "\n",
    "# train_pred1 = pd.DataFrame(train_pred1)\n",
    "# test_pred1 = pd.DataFrame(test_pred1)\n",
    "\n",
    "# print(train_pred1.shape)\n",
    "# print(test_pred1.shape)"
   ]
  },
  {
   "cell_type": "code",
   "execution_count": 7,
   "metadata": {},
   "outputs": [],
   "source": [
    "# model2 = KNeighborsClassifier()\n",
    "\n",
    "# test_pred2 ,train_pred2=Stacking(model=model2,n_fold=10,train=X_train,test=X_test,y=y_train)\n",
    "\n",
    "# train_pred2=pd.DataFrame(train_pred2)\n",
    "# test_pred2=pd.DataFrame(test_pred2)\n",
    "\n",
    "# print(train_pred2.shape)\n",
    "# print(test_pred2.shape)"
   ]
  },
  {
   "cell_type": "code",
   "execution_count": 8,
   "metadata": {},
   "outputs": [],
   "source": [
    "# df = pd.concat([train_pred1, train_pred2], axis=1)\n",
    "# df_test = pd.concat([test_pred1, test_pred2], axis=1)\n",
    "\n",
    "# print(df.shape, y_train.shape)\n",
    "# print(df_test.shape, y_test.shape)"
   ]
  },
  {
   "cell_type": "code",
   "execution_count": 9,
   "metadata": {},
   "outputs": [],
   "source": [
    "# model = LogisticRegression(random_state=1)\n",
    "# model.fit(df,y_train)\n",
    "# model.score(df_test, y_test)"
   ]
  },
  {
   "cell_type": "markdown",
   "metadata": {},
   "source": [
    "## 3.2 Blending\n",
    "Blending follows the same approach as stacking but uses only a holdout (validation) set from the train set to make predictions. In other words, unlike stacking, the predictions are made on the holdout set only. The holdout set and the predictions are used to build a model which is run on the test set. Here is a detailed explanation of the blending process"
   ]
  },
  {
   "cell_type": "code",
   "execution_count": 10,
   "metadata": {},
   "outputs": [],
   "source": [
    "# model1 = DecisionTreeClassifier()\n",
    "# model1.fit(X_train, y_train)\n",
    "# val_pred1 = model1.predict(x_val)\n",
    "# test_pred1 = model1.predict(x_test)\n",
    "# val_pred1 = pd.DataFrame(val_pred1)\n",
    "# test_pred1 = pd.DataFrame(test_pred1)\n",
    "\n",
    "# model2 = KNeighborsClassifier()\n",
    "# model2.fit(X_train,y_train)\n",
    "# val_pred2 = model2.predict(x_val)\n",
    "# test_pred2 = model2.predict(x_test)\n",
    "# val_pred2 = pd.DataFrame(val_pred2)\n",
    "# test_pred2 = pd.DataFrame(test_pred2)"
   ]
  },
  {
   "cell_type": "code",
   "execution_count": 11,
   "metadata": {},
   "outputs": [],
   "source": [
    "# df_val=pd.concat([x_val, val_pred1,val_pred2],axis=1)\n",
    "# df_test=pd.concat([x_test, test_pred1,test_pred2],axis=1)\n",
    "\n",
    "# model = LogisticRegression()\n",
    "# model.fit(df_val,y_val)\n",
    "# model.score(df_test,y_test)"
   ]
  },
  {
   "cell_type": "markdown",
   "metadata": {},
   "source": [
    "## 3.3 Bagging\n"
   ]
  },
  {
   "cell_type": "code",
   "execution_count": null,
   "metadata": {
    "collapsed": true
   },
   "outputs": [],
   "source": []
  },
  {
   "cell_type": "markdown",
   "metadata": {},
   "source": [
    "# 4 Approach to handling Imbalanced Datasets"
   ]
  },
  {
   "cell_type": "code",
   "execution_count": 12,
   "metadata": {
    "collapsed": true
   },
   "outputs": [],
   "source": [
    "# logistic = LogisticRegression(C=3.727593720314938, class_weight='balanced', dual=False,\n",
    "#           fit_intercept=True, intercept_scaling=1, max_iter=100,\n",
    "#           multi_class='ovr', n_jobs=1, penalty='l2', random_state=None,\n",
    "#           solver='liblinear', tol=0.0001, verbose=0, warm_start=False)\n",
    "\n",
    "logistic = LogisticRegression(C=0.4393970560760795, class_weight='balanced', dual=False,\n",
    "          fit_intercept=True, intercept_scaling=1, max_iter=100,\n",
    "          multi_class='ovr', n_jobs=1, penalty='l1', random_state=None,\n",
    "          solver='liblinear', tol=0.0001, verbose=0, warm_start=False)\n",
    "\n",
    "dtree = DecisionTreeClassifier(class_weight=None, criterion='gini', max_depth=5,\n",
    "            max_features=27, max_leaf_nodes=None,\n",
    "            min_impurity_decrease=0.0, min_impurity_split=None,\n",
    "            min_samples_leaf=7, min_samples_split=2,\n",
    "            min_weight_fraction_leaf=0.0, presort=False, random_state=None,\n",
    "            splitter='best')"
   ]
  },
  {
   "cell_type": "markdown",
   "metadata": {},
   "source": [
    "### 2.2.1. Bagging Based"
   ]
  },
  {
   "cell_type": "code",
   "execution_count": 13,
   "metadata": {},
   "outputs": [
    {
     "name": "stderr",
     "output_type": "stream",
     "text": [
      "C:\\Users\\joaquin\\Anaconda3\\lib\\site-packages\\sklearn\\cross_validation.py:41: DeprecationWarning: This module was deprecated in version 0.18 in favor of the model_selection module into which all the refactored classes and functions are moved. Also note that the interface of the new CV iterators are different from that of this module. This module will be removed in 0.20.\n",
      "  \"This module will be removed in 0.20.\", DeprecationWarning)\n"
     ]
    },
    {
     "name": "stdout",
     "output_type": "stream",
     "text": [
      "[0.84764543 0.84188627 0.85991678]\n",
      "0.8498161602268318\n",
      "[[1340  181]\n",
      " [  84  251]]\n",
      "             precision    recall  f1-score   support\n",
      "\n",
      "      False       0.94      0.88      0.91      1521\n",
      "       True       0.58      0.75      0.65       335\n",
      "\n",
      "avg / total       0.88      0.86      0.86      1856\n",
      "\n"
     ]
    },
    {
     "data": {
      "image/png": "[encoded data removed]",
      "text/plain": [
       "<matplotlib.figure.Figure at 0x1d4f85996a0>"
      ]
     },
     "metadata": {},
     "output_type": "display_data"
    },
    {
     "data": {
      "image/png": "[encoded data removed]",
      "text/plain": [
       "<matplotlib.figure.Figure at 0x1d4f8895b70>"
      ]
     },
     "metadata": {},
     "output_type": "display_data"
    }
   ],
   "source": [
    "from sklearn.cross_validation import cross_val_score\n",
    "from sklearn.ensemble import BaggingClassifier\n",
    "from imblearn.ensemble import BalancedBaggingClassifier\n",
    "from sklearn.neighbors import KNeighborsClassifier\n",
    "from sklearn.datasets import load_digits\n",
    "from sklearn.preprocessing import scale\n",
    "\n",
    "bagging = BaggingClassifier(logistic, max_samples=0.2, random_state=42)\n",
    "scores = cross_val_score(bagging, X_train, y_train)\n",
    "# print(bagging.base_estimator)\n",
    "mean= scores.mean()\n",
    "print(scores)\n",
    "print(mean)\n",
    "\n",
    "\n",
    "bagging.fit(X_train,y_train)\n",
    "y_pred = bagging.predict(X_test)\n",
    "\n",
    "plot_confusion_matrix(bagging, X_test, y_test, y_pred)\n",
    "roc_curve_plot(bagging, X_test, y_test)"
   ]
  },
  {
   "cell_type": "code",
   "execution_count": 14,
   "metadata": {},
   "outputs": [
    {
     "name": "stdout",
     "output_type": "stream",
     "text": [
      "[0.82202216 0.82454924 0.8370319 ]\n",
      "0.8278677659913708\n",
      "[[1324  197]\n",
      " [  77  258]]\n",
      "             precision    recall  f1-score   support\n",
      "\n",
      "      False       0.95      0.87      0.91      1521\n",
      "       True       0.57      0.77      0.65       335\n",
      "\n",
      "avg / total       0.88      0.85      0.86      1856\n",
      "\n"
     ]
    },
    {
     "data": {
      "image/png": "[encoded data removed]",
      "text/plain": [
       "<matplotlib.figure.Figure at 0x1d4f839d390>"
      ]
     },
     "metadata": {},
     "output_type": "display_data"
    },
    {
     "data": {
      "image/png": "[encoded data removed]",
      "text/plain": [
       "<matplotlib.figure.Figure at 0x1d4f8548710>"
      ]
     },
     "metadata": {},
     "output_type": "display_data"
    }
   ],
   "source": [
    "from sklearn.cross_validation import cross_val_score\n",
    "from sklearn.ensemble import BaggingClassifier\n",
    "from imblearn.ensemble import BalancedBaggingClassifier\n",
    "from sklearn.neighbors import KNeighborsClassifier\n",
    "from sklearn.datasets import load_digits\n",
    "from sklearn.preprocessing import scale\n",
    "\n",
    "# digits = load_digits()\n",
    "# data = scale(digits.data)\n",
    "# X = data\n",
    "# y = digits.target\n",
    "X = personas\n",
    "y = p_negocio\n",
    "\n",
    "# bagging = BaggingClassifier(logistic, max_samples=0.2)\n",
    "bagging = BalancedBaggingClassifier(logistic, max_samples=0.2, random_state=42)\n",
    "scores = cross_val_score(bagging, X_train, y_train)\n",
    "# print(bagging.base_estimator)\n",
    "mean= scores.mean()\n",
    "print(scores)\n",
    "print(mean)\n",
    "\n",
    "\n",
    "bagging.fit(X_train,y_train)\n",
    "y_pred = bagging.predict(X_test)\n",
    "\n",
    "\n",
    "plot_confusion_matrix(bagging, X_test, y_test, y_pred)\n",
    "roc_curve_plot(bagging, X_test, y_test)"
   ]
  },
  {
   "cell_type": "code",
   "execution_count": 15,
   "metadata": {},
   "outputs": [],
   "source": [
    "# from sklearn.cross_validation import cross_val_score\n",
    "# from sklearn.ensemble import BaggingClassifier, RandomForestClassifier, ExtraTreesClassifier\n",
    "# from sklearn.neighbors import KNeighborsClassifier\n",
    "# from sklearn.datasets import load_digits\n",
    "# from sklearn.preprocessing import scale\n",
    "\n",
    "# digits = load_digits()\n",
    "# data = scale(digits.data)\n",
    "# X = data\n",
    "# y = digits.target\n",
    "# # X = personas\n",
    "# # y = p_negocio\n",
    "\n",
    "# clf = DecisionTreeClassifier(max_depth=None, min_samples_split=1.0, random_state=0)\n",
    "# scores = cross_val_score(clf, X, y)\n",
    "# print(scores)\n",
    "\n",
    "# clf = RandomForestClassifier(n_estimators=1, max_depth=None, min_samples_split=1.0, random_state=0)\n",
    "# scores = cross_val_score(clf, X, y)\n",
    "# print(scores)\n",
    "\n",
    "# clf = ExtraTreesClassifier(n_estimators=10, max_depth=None, min_samples_split=1.0, random_state=0)\n",
    "# scores = cross_val_score(clf, X, y)\n",
    "# print(scores)"
   ]
  },
  {
   "cell_type": "markdown",
   "metadata": {},
   "source": [
    "# AdaBoostClassifier"
   ]
  },
  {
   "cell_type": "code",
   "execution_count": 16,
   "metadata": {},
   "outputs": [],
   "source": [
    "\n",
    "# from collections import Counter\n",
    "# import itertools\n",
    "\n",
    "# import matplotlib.pyplot as plt\n",
    "# import numpy as np\n",
    "\n",
    "# from sklearn.datasets import load_iris\n",
    "# from sklearn.model_selection import train_test_split\n",
    "# from sklearn.ensemble import BaggingClassifier\n",
    "# from sklearn.metrics import confusion_matrix\n",
    "\n",
    "# from imblearn.datasets import make_imbalance\n",
    "# from imblearn.ensemble import BalancedBaggingClassifier\n",
    "\n",
    "# from imblearn.metrics import classification_report_imbalanced\n",
    "\n",
    "\n",
    "# def plot_confusion_matrix(cm, classes,\n",
    "#                           normalize=False,\n",
    "#                           title='Confusion matrix',\n",
    "#                           cmap=plt.cm.Blues):\n",
    "#     \"\"\"\n",
    "#     This function prints and plots the confusion matrix.\n",
    "#     Normalization can be applied by setting `normalize=True`.\n",
    "#     \"\"\"\n",
    "#     if normalize:\n",
    "#         cm = cm.astype('float') / cm.sum(axis=1)[:, np.newaxis]\n",
    "#         print(\"Normalized confusion matrix\")\n",
    "#     else:\n",
    "#         print('Confusion matrix, without normalization')\n",
    "\n",
    "#     print(cm)\n",
    "\n",
    "#     plt.imshow(cm, interpolation='nearest', cmap=cmap)\n",
    "#     plt.title(title)\n",
    "#     plt.colorbar()\n",
    "#     tick_marks = np.arange(len(classes))\n",
    "#     plt.xticks(tick_marks, classes, rotation=45)\n",
    "#     plt.yticks(tick_marks, classes)\n",
    "\n",
    "#     fmt = '.2f' if normalize else 'd'\n",
    "#     thresh = cm.max() / 2.\n",
    "#     for i, j in itertools.product(range(cm.shape[0]), range(cm.shape[1])):\n",
    "#         plt.text(j, i, format(cm[i, j], fmt),\n",
    "#                  horizontalalignment=\"center\",\n",
    "#                  color=\"white\" if cm[i, j] > thresh else \"black\")\n",
    "\n",
    "#     plt.tight_layout()\n",
    "#     plt.ylabel('True label')\n",
    "#     plt.xlabel('Predicted label')\n",
    "\n",
    "\n",
    "# # iris = load_iris()\n",
    "# # X, y = make_imbalance(iris.data, iris.target, ratio={0: 25, 1: 40, 2: 50},\n",
    "# #                       random_state=0)\n",
    "\n",
    "# X = personas\n",
    "# y = p_negocio\n",
    "# X_train, X_test, y_train, y_test = train_test_split(X, y, random_state=0)\n",
    "\n",
    "# bagging = BaggingClassifier(random_state=0)\n",
    "# balanced_bagging = BalancedBaggingClassifier(random_state=0)\n",
    "\n",
    "# print('Class distribution of the training set: {}'.format(Counter(y_train)))\n",
    "\n",
    "# bagging.fit(X_train, y_train)\n",
    "# balanced_bagging.fit(X_train, y_train)\n",
    "\n",
    "# print('Class distribution of the test set: {}'.format(Counter(y_test)))\n",
    "\n",
    "# print('Classification results using a bagging classifier on imbalanced data')\n",
    "# y_pred_bagging = bagging.predict(X_test)\n",
    "# print(classification_report_imbalanced(y_test, y_pred_bagging))\n",
    "# cm_bagging = confusion_matrix(y_test, y_pred_bagging)\n",
    "# plt.figure()\n",
    "# plot_confusion_matrix(cm_bagging, classes=[0,1],\n",
    "#                       title='Confusion matrix using BaggingClassifier')\n",
    "\n",
    "# print('Classification results using a bagging classifier on balanced data')\n",
    "# y_pred_balanced_bagging = balanced_bagging.predict(X_test)\n",
    "# print(classification_report_imbalanced(y_test, y_pred_balanced_bagging))\n",
    "# cm_balanced_bagging = confusion_matrix(y_test, y_pred_balanced_bagging)\n",
    "# plt.figure()\n",
    "# plot_confusion_matrix(cm_balanced_bagging, classes=[0,1],\n",
    "#                       title='Confusion matrix using BalancedBaggingClassifier')\n",
    "\n",
    "# plt.show()"
   ]
  },
  {
   "cell_type": "code",
   "execution_count": 17,
   "metadata": {},
   "outputs": [],
   "source": [
    "# import numpy as np\n",
    "# from sklearn.tree import DecisionTreeClassifier\n",
    "# from sklearn.ensemble import AdaBoostClassifier\n",
    "# from sklearn.cross_validation import cross_val_score\n",
    "# from sklearn.datasets.mldata import fetch_mldata\n",
    "\n",
    "# n_estimators = 400\n",
    "# learning_rate = 1\n",
    "\n",
    "# # heart = fetch_mldata('heart')\n",
    "# # X = heart.data\n",
    "# # y = np.copy(heart.target)\n",
    "# # y[y==-1] = 0\n",
    "\n",
    "# # X_test, y_test = X[189:], y[189:]\n",
    "# # X_train, y_train = X[:189], y[:189]\n",
    "\n",
    "# # X = personas\n",
    "# # y = p_negocio\n",
    "\n",
    "# dt_stump =dtree\n",
    "# dt_stump.fit(X_train, y_train)\n",
    "# dt_stmp_err = 1.0 - dt_stump.score(X_test, y_test)\n",
    "\n",
    "# dt = DecisionTreeClassifier(max_depth=9, min_samples_leaf=1)\n",
    "# dt.fit(X_train, y_train)\n",
    "# dt_err = 1.0 - dt.score(X_test, y_test)\n",
    "\n",
    "# # n_estimators = number of weak learners\n",
    "# # base_estimator use to define other weak learners\n",
    "# ada_discrete = AdaBoostClassifier(base_estimator=dt_stump, learning_rate=learning_rate, \n",
    "#                                   n_estimators=n_estimators, algorithm='SAMME')\n",
    "# ada_discrete.fit(X_train, y_train)\n",
    "# scores = cross_val_score(ada_discrete, X_test, y_test)\n",
    "# print(scores)\n",
    "# means = scores.mean()\n",
    "# print(means)"
   ]
  },
  {
   "cell_type": "code",
   "execution_count": 18,
   "metadata": {},
   "outputs": [],
   "source": [
    "# #AdaBoostClassifier\n",
    "# print(__doc__)\n",
    "\n",
    "# # Author: Noel Dawe <noel.dawe@gmail.com>\n",
    "# #\n",
    "# # License: BSD 3 clause\n",
    "\n",
    "# from sklearn.externals.six.moves import zip\n",
    "\n",
    "# import matplotlib.pyplot as plt\n",
    "\n",
    "# from sklearn.datasets import make_gaussian_quantiles\n",
    "# from sklearn.ensemble import AdaBoostClassifier\n",
    "# from sklearn.metrics import accuracy_score\n",
    "# from sklearn.tree import DecisionTreeClassifier\n",
    "\n",
    "\n",
    "# # X, y = make_gaussian_quantiles(n_samples=13000, n_features=10,\n",
    "# #                                n_classes=3, random_state=1)\n",
    "\n",
    "# # n_split = 3000\n",
    "\n",
    "# # X_train, X_test = X[:n_split], X[n_split:]\n",
    "# # y_train, y_test = y[:n_split], y[n_split:]\n",
    "\n",
    "# # bdt_real = AdaBoostClassifier(\n",
    "# #     DecisionTreeClassifier(max_depth=2),\n",
    "# #     n_estimators=600,\n",
    "# #     learning_rate=1)\n",
    "\n",
    "# bdt_real = AdaBoostClassifier(dtree, n_estimators=600, learning_rate=1)\n",
    "\n",
    "# bdt_discrete = AdaBoostClassifier(dtree, n_estimators=600, learning_rate=1.5, algorithm=\"SAMME\")\n",
    "\n",
    "# # bdt_discrete = AdaBoostClassifier(\n",
    "# #     DecisionTreeClassifier(max_depth=2),\n",
    "# #     n_estimators=600,\n",
    "# #     learning_rate=1.5,\n",
    "# #     algorithm=\"SAMME\")\n",
    "\n",
    "# bdt_real.fit(X_train, y_train)\n",
    "# bdt_discrete.fit(X_train, y_train)\n",
    "\n",
    "# real_test_errors = []\n",
    "# discrete_test_errors = []\n",
    "\n",
    "# for real_test_predict, discrete_train_predict in zip(\n",
    "#         bdt_real.staged_predict(X_test), bdt_discrete.staged_predict(X_test)):\n",
    "#     real_test_errors.append(\n",
    "#         1. - accuracy_score(real_test_predict, y_test))\n",
    "#     discrete_test_errors.append(\n",
    "#         1. - accuracy_score(discrete_train_predict, y_test))\n",
    "\n",
    "# n_trees_discrete = len(bdt_discrete)\n",
    "# n_trees_real = len(bdt_real)\n",
    "\n",
    "# # Boosting might terminate early, but the following arrays are always\n",
    "# # n_estimators long. We crop them to the actual number of trees here:\n",
    "# discrete_estimator_errors = bdt_discrete.estimator_errors_[:n_trees_discrete]\n",
    "# real_estimator_errors = bdt_real.estimator_errors_[:n_trees_real]\n",
    "# discrete_estimator_weights = bdt_discrete.estimator_weights_[:n_trees_discrete]\n",
    "\n",
    "# plt.figure(figsize=(15, 5))\n",
    "\n",
    "# plt.subplot(131)\n",
    "# plt.plot(range(1, n_trees_discrete + 1),\n",
    "#          discrete_test_errors, c='black', label='SAMME')\n",
    "# plt.plot(range(1, n_trees_real + 1),\n",
    "#          real_test_errors, c='black',\n",
    "#          linestyle='dashed', label='SAMME.R')\n",
    "# plt.legend()\n",
    "# plt.ylim(0.18, 0.62)\n",
    "# plt.ylabel('Test Error')\n",
    "# plt.xlabel('Number of Trees')\n",
    "\n",
    "# plt.subplot(132)\n",
    "# plt.plot(range(1, n_trees_discrete + 1), discrete_estimator_errors,\n",
    "#          \"b\", label='SAMME', alpha=.5)\n",
    "# plt.plot(range(1, n_trees_real + 1), real_estimator_errors,\n",
    "#          \"r\", label='SAMME.R', alpha=.5)\n",
    "# plt.legend()\n",
    "# plt.ylabel('Error')\n",
    "# plt.xlabel('Number of Trees')\n",
    "# plt.ylim((.2,\n",
    "#          max(real_estimator_errors.max(),\n",
    "#              discrete_estimator_errors.max()) * 1.2))\n",
    "# plt.xlim((-20, len(bdt_discrete) + 20))\n",
    "\n",
    "# plt.subplot(133)\n",
    "# plt.plot(range(1, n_trees_discrete + 1), discrete_estimator_weights,\n",
    "#          \"b\", label='SAMME')\n",
    "# plt.legend()\n",
    "# plt.ylabel('Weight')\n",
    "# plt.xlabel('Number of Trees')\n",
    "# plt.ylim((0, discrete_estimator_weights.max() * 1.2))\n",
    "# plt.xlim((-20, n_trees_discrete + 20))\n",
    "\n",
    "# # prevent overlapping y-axis labels\n",
    "# plt.subplots_adjust(wspace=0.25)\n",
    "# plt.show()"
   ]
  },
  {
   "cell_type": "markdown",
   "metadata": {},
   "source": [
    "# Bagging"
   ]
  },
  {
   "cell_type": "code",
   "execution_count": 19,
   "metadata": {},
   "outputs": [],
   "source": [
    "# # Authors: Christos Aridas\n",
    "# #          Guillaume Lemaitre <g.lemaitre58@gmail.com>\n",
    "# # License: MIT\n",
    "\n",
    "# import matplotlib.pyplot as plt\n",
    "# import numpy as np\n",
    "# from scipy import interp\n",
    "# from sklearn import datasets, neighbors\n",
    "# from sklearn.metrics import auc, roc_curve\n",
    "# from sklearn.model_selection import StratifiedKFold\n",
    "\n",
    "# from imblearn.over_sampling import ADASYN, SMOTE, RandomOverSampler\n",
    "# from imblearn.pipeline import make_pipeline\n",
    "\n",
    "# print(__doc__)\n",
    "\n",
    "# LW = 2\n",
    "# RANDOM_STATE = 42\n",
    "\n",
    "\n",
    "# class DummySampler(object):\n",
    "\n",
    "#     def sample(self, X, y):\n",
    "#         return X, y\n",
    "\n",
    "#     def fit(self, X, y):\n",
    "#         return self\n",
    "\n",
    "#     def fit_sample(self, X, y):\n",
    "#         return self.sample(X, y)\n",
    "\n",
    "\n",
    "# cv = StratifiedKFold(n_splits=3)\n",
    "\n",
    "# # Load the dataset\n",
    "# data = datasets.fetch_lfw_people()\n",
    "# majority_person = 1871  # 530 photos of George W Bush\n",
    "# minority_person = 531  # 29 photos of Bill Clinton\n",
    "# majority_idxs = np.flatnonzero(data.target == majority_person)\n",
    "# minority_idxs = np.flatnonzero(data.target == minority_person)\n",
    "# idxs = np.hstack((majority_idxs, minority_idxs))\n",
    "\n",
    "# X = data.data[idxs]\n",
    "# y = data.target[idxs]\n",
    "# y[y == majority_person] = 0\n",
    "# y[y == minority_person] = 1\n",
    "\n",
    "# classifier = ['3NN', neighbors.KNeighborsClassifier(3)]\n",
    "\n",
    "# samplers = [\n",
    "#     ['Standard', DummySampler()],\n",
    "#     ['ADASYN', ADASYN(random_state=RANDOM_STATE)],\n",
    "#     ['ROS', RandomOverSampler(random_state=RANDOM_STATE)],\n",
    "#     ['SMOTE', SMOTE(random_state=RANDOM_STATE)],\n",
    "# ]\n",
    "\n",
    "# pipelines = [\n",
    "#     ['{}-{}'.format(sampler[0], classifier[0]),\n",
    "#      make_pipeline(sampler[1], classifier[1])]\n",
    "#     for sampler in samplers\n",
    "# ]\n",
    "\n",
    "# fig = plt.figure()\n",
    "# ax = fig.add_subplot(1, 1, 1)\n",
    "\n",
    "# for name, pipeline in pipelines:\n",
    "#     mean_tpr = 0.0\n",
    "#     mean_fpr = np.linspace(0, 1, 100)\n",
    "#     for train, test in cv.split(X, y):\n",
    "#         probas_ = pipeline.fit(X[train], y[train]).predict_proba(X[test])\n",
    "#         fpr, tpr, thresholds = roc_curve(y[test], probas_[:, 1])\n",
    "#         mean_tpr += interp(mean_fpr, fpr, tpr)\n",
    "#         mean_tpr[0] = 0.0\n",
    "#         roc_auc = auc(fpr, tpr)\n",
    "\n",
    "#     mean_tpr /= cv.get_n_splits(X, y)\n",
    "#     mean_tpr[-1] = 1.0\n",
    "#     mean_auc = auc(mean_fpr, mean_tpr)\n",
    "#     plt.plot(mean_fpr, mean_tpr, linestyle='--',\n",
    "#              label='{} (area = %0.2f)'.format(name) % mean_auc, lw=LW)\n",
    "\n",
    "# plt.plot([0, 1], [0, 1], linestyle='--', lw=LW, color='k',\n",
    "#          label='Luck')\n",
    "\n",
    "# # make nice plotting\n",
    "# ax.spines['top'].set_visible(False)\n",
    "# ax.spines['right'].set_visible(False)\n",
    "# ax.get_xaxis().tick_bottom()\n",
    "# ax.get_yaxis().tick_left()\n",
    "# ax.spines['left'].set_position(('outward', 10))\n",
    "# ax.spines['bottom'].set_position(('outward', 10))\n",
    "# plt.xlim([0, 1])\n",
    "# plt.ylim([0, 1])\n",
    "# plt.xlabel('False Positive Rate')\n",
    "# plt.ylabel('True Positive Rate')\n",
    "# plt.title('Receiver operating characteristic example')\n",
    "\n",
    "# plt.legend(loc=\"lower right\")\n",
    "\n",
    "# plt.show()"
   ]
  },
  {
   "cell_type": "code",
   "execution_count": 20,
   "metadata": {},
   "outputs": [],
   "source": [
    "# #Bagging\n",
    "# from sklearn.ensemble import BaggingClassifier\n",
    "# from sklearn import tree\n",
    "# model = BaggingClassifier(\n",
    "#     tree.DecisionTreeClassifier(\n",
    "#         random_state=1,\n",
    "#         criterion= 'gini', \n",
    "#         max_depth=1,\n",
    "#         max_features=7, \n",
    "#         min_samples_leaf=6)\n",
    "# )\n",
    "# model.fit(X_train, y_train)\n",
    "# model.score(X_test, y_test)\n",
    "# y_pred = model.predict(X_test)\n",
    "# plot_confusion_matrix(model, X_test, y_test, y_pred)\n"
   ]
  },
  {
   "cell_type": "code",
   "execution_count": 21,
   "metadata": {},
   "outputs": [],
   "source": [
    "# # ADABOOST\n",
    "# from sklearn.ensemble import AdaBoostClassifier\n",
    "# model = AdaBoostClassifier(random_state=1)\n",
    "# model.fit(X_train, y_train)\n",
    "# model.score(X_test,y_test)\n",
    "# y_pred = model.predict(X_test)\n",
    "# plot_confusion_matrix(model,X_test,y_test,y_pred)"
   ]
  },
  {
   "cell_type": "code",
   "execution_count": 22,
   "metadata": {},
   "outputs": [],
   "source": [
    "# import xgboost as xgb\n",
    "# model=xgb.XGBClassifier(random_state=1,learning_rate=0.01)\n",
    "# model.fit(X_train, y_train)\n",
    "# model.score(X_test,y_test)\n",
    "# y_pred = model.predict(X_test)\n",
    "# plot_confusion_matrix(model,X_test,y_test,y_pred)"
   ]
  },
  {
   "cell_type": "code",
   "execution_count": 23,
   "metadata": {
    "collapsed": true
   },
   "outputs": [],
   "source": [
    "# import lightgbm as lgb\n",
    "# train_data=lgb.Dataset(X_train,label=y_train)\n",
    "# #define parameters\n",
    "# params = {'learning_rate':0.001}\n",
    "# model= lgb.train(params, train_data, 100) \n",
    "# y_pred=model.predict(X_test)\n",
    "# for i in range(0,185):\n",
    "#     if y_pred[i]>=0.5: \n",
    "#         y_pred[i]=1\n",
    "# else: \n",
    "#     y_pred[i]=0\n"
   ]
  },
  {
   "cell_type": "code",
   "execution_count": 24,
   "metadata": {},
   "outputs": [],
   "source": [
    "# from catboost import CatBoostClassifier\n",
    "# model=CatBoostClassifier()\n",
    "# # categorical_features_indices = np.where(df.dtypes != np.float)[0]\n",
    "# model.fit(X_train,y_train,eval_set=(X_test, y_test))\n",
    "# model.score(X_test,y_test)\n",
    "# y_pred = model.predict(X_test)\n",
    "# plot_confusion_matrix(model,X_test,y_test,y_pred)"
   ]
  },
  {
   "cell_type": "code",
   "execution_count": null,
   "metadata": {
    "collapsed": true
   },
   "outputs": [],
   "source": []
  }
 ],
 "metadata": {
  "kernelspec": {
   "display_name": "Python 3",
   "language": "python",
   "name": "python3"
  },
  "language_info": {
   "codemirror_mode": {
    "name": "ipython",
    "version": 3
   },
   "file_extension": ".py",
   "mimetype": "text/x-python",
   "name": "python",
   "nbconvert_exporter": "python",
   "pygments_lexer": "ipython3",
   "version": "3.6.3"
  }
 },
 "nbformat": 4,
 "nbformat_minor": 2
}
