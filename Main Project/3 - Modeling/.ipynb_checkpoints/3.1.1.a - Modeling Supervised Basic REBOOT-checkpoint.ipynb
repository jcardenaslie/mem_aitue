{
 "cells": [
  {
   "cell_type": "markdown",
   "metadata": {},
   "source": [
    "# 0 Utils"
   ]
  },
  {
   "cell_type": "code",
   "execution_count": 669,
   "metadata": {},
   "outputs": [],
   "source": [
    "import os\n",
    "import numpy as np\n",
    "import seaborn as sb\n",
    "%matplotlib inline\n",
    "# sb.set()\n",
    "import matplotlib.pyplot as plt\n",
    "import pandas as pd\n",
    "import shap\n"
   ]
  },
  {
   "cell_type": "code",
   "execution_count": 670,
   "metadata": {},
   "outputs": [],
   "source": [
    "import warnings\n",
    "warnings.filterwarnings('ignore')"
   ]
  },
  {
   "cell_type": "code",
   "execution_count": 671,
   "metadata": {},
   "outputs": [],
   "source": [
    "N_JOBS = 6 # -1 ocupa todo los cores\n",
    "RANDOM_STATE = 42 # para que sea reproducible"
   ]
  },
  {
   "cell_type": "markdown",
   "metadata": {},
   "source": [
    "## Experiment Setting "
   ]
  },
  {
   "cell_type": "code",
   "execution_count": 672,
   "metadata": {},
   "outputs": [],
   "source": [
    "import time\n",
    "start_time = time.time()\n"
   ]
  },
  {
   "cell_type": "code",
   "execution_count": 673,
   "metadata": {},
   "outputs": [],
   "source": [
    "# dataset, base nro 2\n",
    "dataset_nro = 8\n",
    "experiment_nro = 1\n",
    "# 'All Proyects', 'Altos del Valle', 'Edificio Urban 1470','San Andres Del Valle', 'Edificio Mil610', 'Edificio Junge'\n",
    "proyecto_select = 'San Andres Del Valle' #cambiable\n",
    "\n",
    "# base, base_profesion, base_minusisprofesion, base_medini_isrec\n",
    "use_predictors = 'no_is_time_price' #cambiable\n",
    "# experimento 2 y 4 va con True\n",
    "no_nulls = False #cambiable\n",
    "sesgo = False #cambiable"
   ]
  },
  {
   "cell_type": "code",
   "execution_count": 674,
   "metadata": {},
   "outputs": [
    {
     "name": "stdout",
     "output_type": "stream",
     "text": [
      "28\n",
      "29\n",
      "28\n",
      "31\n"
     ]
    }
   ],
   "source": [
    "predictors_set = dict()\n",
    "\n",
    "no_is_time_price = [\n",
    "    'is_recontacto', 'is_remoto', 'is_descuento', 'valid_rut',\n",
    "    'loc_comuna', 'loc_provincia', 'loc_region', 'sexo', 'tipo_cliente',\n",
    "    'mean_cot_bod',\n",
    "    'mean_cot_depto', 'mean_cot_esta', 'mean_cot_estu', 'medio_inicial',\n",
    "    'nro_cot_bod', 'nro_cot_depto', 'nro_cot_esta',\n",
    "    'nro_cot_estu', 'nro_proyectos', 'precio_cotizacion_media',\n",
    "    'precio_cotizacion_median', 'precio_cotizacion_std', \n",
    "    \n",
    "    'tiempo_cotizacion_media', 'tiempo_cotizacion_median',\n",
    "    'tiempo_cotizacion_std',   \n",
    "    'Altos del Valle',\n",
    "    'Edificio Urban 1470', \n",
    "#     'San Andres Del Valle', \n",
    "    'Edificio Mil610',\n",
    "       'Edificio Junge']\n",
    "predictors_set ['no_is_time_price'] = no_is_time_price\n"
   ]
  },
  {
   "cell_type": "markdown",
   "metadata": {},
   "source": [
    "# 1 Load Dataset"
   ]
  },
  {
   "cell_type": "code",
   "execution_count": 675,
   "metadata": {},
   "outputs": [
    {
     "name": "stdout",
     "output_type": "stream",
     "text": [
      "(6155, 47)\n",
      "Index(['Unnamed: 0', 'actividad', 'compra', 'is_apellido1', 'is_apellido2',\n",
      "       'is_celular', 'is_descuento', 'is_direccion', 'is_fnac', 'is_nombre',\n",
      "       'is_nombrecompleto', 'is_nrofam', 'is_presencial', 'is_profesion',\n",
      "       'is_recontacto', 'is_remoto', 'is_telefono', 'loc_comuna',\n",
      "       'loc_provincia', 'loc_region', 'max_rango_edad', 'mean_cot_bod',\n",
      "       'mean_cot_depto', 'mean_cot_esta', 'mean_cot_estu', 'medio_inicial',\n",
      "       'negocio', 'nro_cot_bod', 'nro_cot_depto', 'nro_cot_esta',\n",
      "       'nro_cot_estu', 'nro_proyectos', 'precio_cotizacion_media',\n",
      "       'precio_cotizacion_median', 'precio_cotizacion_std', 'rut', 'sexo',\n",
      "       'tiempo_cotizacion_media', 'tiempo_cotizacion_median',\n",
      "       'tiempo_cotizacion_std', 'tipo_cliente', 'valid_rut', 'Altos del Valle',\n",
      "       'Edificio Urban 1470', 'San Andres Del Valle', 'Edificio Mil610',\n",
      "       'Edificio Junge'],\n",
      "      dtype='object')\n"
     ]
    }
   ],
   "source": [
    "# nombre experimento\n",
    "exp_name = \"{} {}\".format(proyecto_select, use_predictors)\n",
    "# eleccion dataset\n",
    "dataset = 'personas_cotizacion{}.csv'.format(dataset_nro)\n",
    "\n",
    "# DS_NAME = dataset.split('.')[0]\n",
    "DS_NAME = exp_name\n",
    "\n",
    "directory = '..\\\\results\\\\test_model_results_dataset{}'.format(dataset_nro)\n",
    "import os\n",
    "if not os.path.exists(directory):\n",
    "    os.makedirs(directory)\n",
    "\n",
    "folder = '..\\\\results\\\\model_results_dataset{}\\\\{}'.format(dataset_nro, DS_NAME)\n",
    "\n",
    "if not os.path.exists(folder):\n",
    "    os.mkdir(folder)\n",
    "\n",
    "\n",
    "personas = pd.read_csv('..\\\\..\\\\Datos\\\\experiments\\\\{}'.format(dataset), encoding = \"ISO-8859-1\")\n",
    "\n",
    "readme = dict()\n",
    "readme['experiment_name'] = DS_NAME\n",
    "readme['experiment_dataset'] = dataset\n",
    "\n",
    "print(personas.shape)\n",
    "readme['personas_shape'] = personas.shape\n",
    "# personas.head(2)\n",
    "\n",
    "# print(personas.columns)\n",
    "readme['personas_columns'] = personas.columns.tolist()"
   ]
  },
  {
   "cell_type": "code",
   "execution_count": 676,
   "metadata": {},
   "outputs": [],
   "source": [
    "personas['loc_comuna'] = personas['loc_comuna'].astype('category')\n",
    "personas['loc_provincia'] = personas['loc_provincia'].astype('category')\n",
    "personas['loc_region'] = personas['loc_region'].astype('category')\n",
    "personas['tipo_cliente'] = personas['tipo_cliente'].astype('category')\n",
    "personas['sexo'] = personas['sexo'].astype('category')\n",
    "# personas.profesion.fillna('sin informacion', inplace=True)\n",
    "# personas['profesion'] = personas['profesion'].astype('category')\n",
    "personas['medio_inicial'] = personas['medio_inicial'].astype('category')"
   ]
  },
  {
   "cell_type": "code",
   "execution_count": 677,
   "metadata": {},
   "outputs": [
    {
     "name": "stdout",
     "output_type": "stream",
     "text": [
      "(3799, 47)\n"
     ]
    }
   ],
   "source": [
    "# Ajustes especificos experimento\n",
    "# Para E5D5, E6D5 #########################################\n",
    "if proyecto_select != 'All Proyects':\n",
    "    mask = (personas[proyecto_select] > 0)\n",
    "    personas = personas[mask]\n",
    "    print(personas[mask].shape)\n",
    "    personas[mask]\n",
    "###########################################################\n",
    "\n",
    "predictors = predictors_set[use_predictors]\n",
    "\n",
    "if no_nulls:\n",
    "    personas.replace(['sin informacion'], np.nan, inplace=True)\n",
    "    personas.dropna(inplace=True)"
   ]
  },
  {
   "cell_type": "code",
   "execution_count": 678,
   "metadata": {},
   "outputs": [
    {
     "name": "stdout",
     "output_type": "stream",
     "text": [
      "['is_recontacto', 'is_remoto', 'is_descuento', 'valid_rut', 'loc_comuna', 'loc_provincia', 'loc_region', 'sexo', 'tipo_cliente', 'mean_cot_bod', 'mean_cot_depto', 'mean_cot_esta', 'mean_cot_estu', 'medio_inicial', 'nro_cot_bod', 'nro_cot_depto', 'nro_cot_esta', 'nro_cot_estu', 'nro_proyectos', 'precio_cotizacion_media', 'precio_cotizacion_median', 'precio_cotizacion_std', 'tiempo_cotizacion_media', 'tiempo_cotizacion_median', 'tiempo_cotizacion_std', 'Altos del Valle', 'Edificio Urban 1470', 'Edificio Mil610', 'Edificio Junge']\n",
      "(3799,)\n",
      "(3799, 29)\n",
      "(3799, 29)\n"
     ]
    }
   ],
   "source": [
    "# print(predictors)\n",
    "# Ready Data Set\n",
    "# p_negocio = personas.negocio # Target\n",
    "p_negocio = personas.compra # Target\n",
    "p_negocio = pd.Series([0 if x == True else 1 for x in p_negocio.tolist()])\n",
    "# personas = personas.drop(drop_columns, axis=1) # Predictors\n",
    "personas = personas[predictors]\n",
    "\n",
    "print(p_negocio.shape)\n",
    "print(personas.shape)\n",
    "\n",
    "readme['personas_after_drop_columns'] = personas.columns\n",
    "\n",
    "print(personas.shape)\n",
    "readme['personas_predictors_shape'] = personas.shape\n",
    "readme['personas_predictors'] = personas.columns\n",
    "\n",
    "\n",
    "personas = pd.get_dummies(personas)\n",
    "readme['personas_dummies_shape'] = personas.shape\n",
    "\n",
    "# personas.describe()"
   ]
  },
  {
   "cell_type": "markdown",
   "metadata": {},
   "source": [
    "# 3 Supervised Learning: Classification"
   ]
  },
  {
   "cell_type": "markdown",
   "metadata": {},
   "source": [
    "## 3.1 Libraries"
   ]
  },
  {
   "cell_type": "code",
   "execution_count": 679,
   "metadata": {},
   "outputs": [],
   "source": [
    "from sklearn.model_selection import train_test_split\n",
    "from sklearn.neighbors import KNeighborsClassifier\n",
    "from sklearn.metrics import classification_report, confusion_matrix, roc_curve, precision_recall_fscore_support\n",
    "from sklearn.model_selection import GridSearchCV\n",
    "from sklearn.linear_model import LogisticRegression\n",
    "from scipy.stats import randint\n",
    "from sklearn.tree import DecisionTreeClassifier\n",
    "from sklearn.model_selection import RandomizedSearchCV\n",
    "from sklearn.ensemble import RandomForestClassifier\n",
    "from sklearn.metrics import roc_auc_score\n",
    "from sklearn import metrics\n",
    "from sklearn.preprocessing import MinMaxScaler\n",
    "from sklearn.pipeline import Pipeline\n",
    "from sklearn.decomposition import PCA\n",
    "from sklearn import svm\n",
    "from xgboost import XGBClassifier\n",
    "\n",
    "import itertools"
   ]
  },
  {
   "cell_type": "markdown",
   "metadata": {},
   "source": [
    "## 3.2 Check the Dataset"
   ]
  },
  {
   "cell_type": "code",
   "execution_count": 680,
   "metadata": {
    "scrolled": true
   },
   "outputs": [
    {
     "name": "stdout",
     "output_type": "stream",
     "text": [
      "Tamaño Total:  (3799, 55)\n",
      "Personas que hicieron Negocio:  (3564,)\n",
      "Personas que no Hicieorn Negocio:  (235,)\n"
     ]
    }
   ],
   "source": [
    "print(\"Tamaño Total: \", personas.shape)\n",
    "print(\"Personas que hicieron Negocio: \", p_negocio[p_negocio == True].shape)\n",
    "print(\"Personas que no Hicieorn Negocio: \", p_negocio[p_negocio == False].shape)\n",
    "readme['personas_negocio'] = p_negocio[p_negocio == True].shape\n",
    "readme['personas_nonegocio'] = p_negocio[p_negocio == False].shape"
   ]
  },
  {
   "cell_type": "markdown",
   "metadata": {
    "collapsed": true
   },
   "source": [
    "## 3.4 Help Functions"
   ]
  },
  {
   "cell_type": "code",
   "execution_count": 684,
   "metadata": {},
   "outputs": [],
   "source": [
    "import scikitplot as skplt\n",
    "\n",
    "def classifier_insights(y_test, clf_probas, model, model_name, f_importance = False):\n",
    "    fig = plt.figure()\n",
    "    ax = plt.subplot(skplt.metrics.plot_cumulative_gain(y_test, clf_probas, figsize=(12,8)))\n",
    "    plt.legend(loc=9, bbox_to_anchor=(1.15, 1), ncol=1)\n",
    "    plt.savefig('..//results/model_results_dataset{}/\\\\{}\\\\{}_cum_gain.png'.format(dataset_nro, DS_NAME, model_name), bbox_inches = 'tight', dpi=300)\n",
    "    plt.show()\n",
    "\n",
    "\n",
    "    fig = plt.figure()\n",
    "    ax = plt.subplot(skplt.metrics.plot_lift_curve(y_test, clf_probas, figsize=(12,8)))\n",
    "    plt.legend(loc=9, bbox_to_anchor=(1.15, 1), ncol=1)\n",
    "    plt.savefig('..//results/model_results_dataset{}/\\\\{}\\\\{}_lift.png'.format(dataset_nro, DS_NAME, model_name), bbox_inches = 'tight', dpi=300)\n",
    "    plt.show()\n",
    "    \n",
    "    if f_importance:\n",
    "        fig = plt.figure()\n",
    "        ax = plt.subplot(skplt.estimators.plot_feature_importances(\n",
    "            model, feature_names=personas.columns, x_tick_rotation=90, figsize=(12,8)))\n",
    "        plt.legend(loc=9, bbox_to_anchor=(1.15, 1), ncol=1)\n",
    "        plt.savefig('..//results/model_results_dataset{}/\\\\{}\\\\{}_f_importance.png'.format(dataset_nro, DS_NAME, model_name), bbox_inches = 'tight', dpi=300)\n",
    "        plt.show()\n",
    "\n",
    "\n",
    "\n",
    "    fig = plt.figure()\n",
    "    ax = plt.subplot(skplt.metrics.plot_precision_recall(y_test, clf_probas, figsize=(12,8)))\n",
    "    plt.legend(loc=9, bbox_to_anchor=(1.15, 1), ncol=1)\n",
    "    plt.savefig('..//results/model_results_dataset{}\\\\{}\\\\{}_precition_recall.png'.format(dataset_nro, DS_NAME, model_name), bbox_inches = 'tight', dpi=300)\n",
    "    plt.show()\n",
    "\n",
    "    fig = plt.figure()\n",
    "    ax = plt.subplot(skplt.metrics.plot_ks_statistic(y_test, clf_probas, figsize=(12,8)))\n",
    "    plt.legend(loc=9, bbox_to_anchor=(1.15, 1), ncol=1)\n",
    "    plt.savefig('..//results/model_results_dataset{}/\\\\{}\\\\{}_ks_sta.png'.format(dataset_nro, DS_NAME, model_name), bbox_inches = 'tight', dpi=300)\n",
    "    plt.show()"
   ]
  },
  {
   "cell_type": "code",
   "execution_count": 685,
   "metadata": {},
   "outputs": [],
   "source": [
    "import json\n",
    "def save_readme():    \n",
    "    exDict = {'readme': readme}\n",
    "    with open('..\\\\results\\\\model_results_dataset{}\\\\{}\\\\readme_{}.txt'.format(dataset_nro, DS_NAME, DS_NAME), 'w') as file:\n",
    "        file.write(str(exDict))\n",
    "\n",
    "def plot_all_auc_values():\n",
    "        \n",
    "    d = dict()\n",
    "    for key in roc_curves_to_plot[DS_NAME]:\n",
    "        d[key] = roc_curves_to_plot[DS_NAME][key]['auc']\n",
    "    \n",
    "    s = [(k, d[k]) for k in sorted(d, key=d.get, reverse=True)]\n",
    "    \n",
    "    x_model = [x[0] for x in s]\n",
    "    x_value = [x[1] for x in s]\n",
    "    \n",
    "    x = np.arange(len(roc_curves_to_plot[DS_NAME].keys()))\n",
    "    \n",
    "    f = plt.figure(figsize=(12,8))\n",
    "    plt.title('{} AUC Models'.format(DS_NAME))\n",
    "    plt.xlabel('Models')\n",
    "    plt.ylabel('AUC')\n",
    "    plt.bar(x, x_value)\n",
    "    plt.xticks(x, x_model)\n",
    "    plt.savefig('..\\\\results\\\\model_results_dataset{}\\\\{}\\\\auc_models.png'.format(dataset_nro, DS_NAME,DS_NAME), dpi=300)\n",
    "    plt.show()\n",
    "\n",
    "def plot_all_roc_curves():\n",
    "    \n",
    "    f = plt.figure(figsize=(12,8))\n",
    "    plt.plot([0, 1], [0, 1], 'k--')\n",
    "    \n",
    "    for key in roc_curves_to_plot[DS_NAME]:\n",
    "        plt.plot(roc_curves_to_plot[DS_NAME][key]['fpr'], roc_curves_to_plot[DS_NAME][key]['tpr']) #fpr and tpr\n",
    "    \n",
    "    legends = ['random choice']\n",
    "    legends.extend(roc_curves_to_plot[DS_NAME].keys())\n",
    "    plt.legend(legends)\n",
    "    \n",
    "    plt.xlabel('False Positive Rate')\n",
    "    plt.ylabel('True Positive Rate')\n",
    "    plt.title('{} Models ROC Curve'.format(DS_NAME))\n",
    "    plt.savefig('..\\\\results\\\\model_results_dataset{}\\\\{}\\\\roc_curve_all.png'.format(dataset_nro, DS_NAME, MODEL), dpi=300)\n",
    "    plt.show()"
   ]
  },
  {
   "cell_type": "code",
   "execution_count": 686,
   "metadata": {},
   "outputs": [],
   "source": [
    "def plot_importance_graph(model):\n",
    "    features = personas.columns\n",
    "    \n",
    "    feature_importance = model.best_estimator_.feature_importances_ \n",
    "    fig = plt.figure(figsize=(20, 18))\n",
    "    ax = fig.add_subplot(111)\n",
    "\n",
    "    df_f = pd.DataFrame(feature_importance, columns=[\"importance\"])\n",
    "    df_f[\"labels\"] = features\n",
    "    df_f.sort_values(\"importance\", inplace=True, ascending=False)\n",
    "    display(df_f.head(5))\n",
    "\n",
    "    index = np.arange(len(feature_importance[:20]))\n",
    "    bar_width = 0.5\n",
    "    rects = plt.barh(index[:20] , df_f[\"importance\"][:20], bar_width, alpha=0.4, color='b', label='Main')\n",
    "    plt.yticks(index, df_f[\"labels\"])\n",
    "    plt.title(\"{} {} Feature Importance\".format(DS_NAME, MODEL))\n",
    "    plt.savefig('..\\\\results\\\\model_results_dataset{}\\\\{}\\\\{}_importance.png'.format(dataset_nro, DS_NAME, MODEL), dpi=300)\n",
    "    plt.show()\n",
    "\n",
    "    # Import necessary modules\n",
    "def plot_confusion_matrix(y, y_pred, classes,\n",
    "                        normalize=False,\n",
    "                          title='Confusion matrix',\n",
    "                          cmap=plt.cm.Blues):\n",
    "    \n",
    "    cm = confusion_matrix(y, y_pred)\n",
    "    if normalize:\n",
    "        cm = cm.astype('float') / cm.sum(axis=1)[:, np.newaxis]\n",
    "        print(\"Normalized confusion matrix\")\n",
    "    else:\n",
    "        print('Confusion matrix, without normalization')\n",
    "\n",
    "    fig = plt.figure(figsize=(4, 3))\n",
    "    plt.imshow(cm, interpolation='nearest', cmap=cmap)\n",
    "    plt.title(title)\n",
    "    plt.colorbar()\n",
    "    tick_marks = np.arange(len(classes))\n",
    "    plt.xticks(tick_marks, classes, rotation=45)\n",
    "    plt.yticks(tick_marks, classes)\n",
    "\n",
    "    fmt = '.2f' if normalize else 'd'\n",
    "    thresh = cm.max() / 2.\n",
    "    for i, j in itertools.product(range(cm.shape[0]), range(cm.shape[1])):\n",
    "        plt.text(j, i, format(cm[i, j], fmt),\n",
    "                 horizontalalignment=\"center\",\n",
    "                 color=\"white\" if cm[i, j] > thresh else \"black\")\n",
    "    \n",
    "    plt.ylabel('True label')\n",
    "    plt.xlabel('Predicted label')\n",
    "    plt.tight_layout()\n",
    "    plt.show()\n",
    "\n",
    "\n",
    "def roc_curve_plot(model, X_test, y_test):\n",
    "    \n",
    "    # Compute predicted probabilities: y_pred_prob\n",
    "    y_pred_prob = model.predict_proba(X_test)[:,1]\n",
    "\n",
    "    # Generate ROC curve values: fpr, tpr, thresholds\n",
    "    fpr, tpr, treshold = roc_curve(y_test, y_pred_prob)\n",
    "    \n",
    "    roc_curves_to_plot[DS_NAME][MODEL] = dict()\n",
    "    roc_curves_to_plot[DS_NAME][MODEL]['fpr'] = fpr\n",
    "    roc_curves_to_plot[DS_NAME][MODEL]['tpr'] = tpr\n",
    "    roc_curves_to_plot[DS_NAME][MODEL]['auc'] = roc_auc_score(y_test, y_pred_prob)\n",
    "    print(\"AUC: \",roc_auc_score(y_test, y_pred_prob))\n",
    "    \n",
    "    # Plot ROC curve\n",
    "    plt.plot([0, 1], [0, 1], 'k--')\n",
    "    plt.plot(fpr, tpr)\n",
    "    plt.xlabel('False Positive Rate')\n",
    "    plt.ylabel('True Positive Rate')\n",
    "    plt.title('{} {} ROC Curve'.format(DS_NAME, MODEL))\n",
    "    plt.savefig('..\\\\results\\\\model_results_dataset{}\\\\{}\\\\{}_roc_curve.png'.format(dataset_nro, DS_NAME, MODEL), dpi=300)\n",
    "    plt.show()\n",
    "    \n",
    "def grid_results(grid, plot=False):\n",
    "    \n",
    "    best_model = grid.best_estimator_\n",
    "    \n",
    "    best_model.fit(X_train, y_train)\n",
    "    y_pred = best_model.predict(X_test)\n",
    "    y_proba = best_model.predict_proba(X_test)[:,0]\n",
    "    \n",
    "    if plot:\n",
    "        plot_confusion_matrix(y_test, y_pred)\n",
    "        roc_curve_plot(best_model, X_test, y_test)\n",
    "    \n",
    "    grid_results = pd.DataFrame(grid.cv_results_)[['mean_test_accuracy',\n",
    "       'mean_test_auc', 'mean_test_f1_score', 'mean_test_precision',\n",
    "       'mean_test_recall','std_test_accuracy', 'std_test_auc', 'std_test_f1_score',\n",
    "       'std_test_precision', 'std_test_recall','rank_test_accuracy', 'rank_test_auc', 'rank_test_f1_score',\n",
    "       'rank_test_precision', 'rank_test_recall', 'params']]\n",
    "    \n",
    "    \n",
    "    grid_mean_test_score = pd.DataFrame(grid.cv_results_)\n",
    "    grid_mean_test_score = grid_mean_test_score.sort_values(by='rank_test_score')\n",
    "    grid_mean_test_score = grid_mean_test_score.reset_index().loc[0,['std_test_score']]\n",
    "    \n",
    "    return {\n",
    "        'grid_best_model': grid.best_estimator_,\n",
    "        'grid_std': grid_mean_test_score,\n",
    "        'grid_best_score': grid.best_score_,\n",
    "        'grid_cvresults': grid.cv_results_,\n",
    "        'best_model_test_score':best_model.score(X_test, y_test),\n",
    "        'best_model_test_yproba': y_proba,\n",
    "        'best_model_test_ypred': y_pred,\n",
    "        'best_model_test_auc': roc_auc_score(y_test, y_proba),\n",
    "    }"
   ]
  },
  {
   "cell_type": "markdown",
   "metadata": {},
   "source": [
    "## 3.5 Models"
   ]
  },
  {
   "cell_type": "markdown",
   "metadata": {},
   "source": [
    "## 3.3 Train & Test"
   ]
  },
  {
   "cell_type": "code",
   "execution_count": 688,
   "metadata": {},
   "outputs": [
    {
     "name": "stdout",
     "output_type": "stream",
     "text": [
      "(2659, 55) (1140, 55) (2659,) (1140,)\n"
     ]
    }
   ],
   "source": [
    "X = personas\n",
    "y = p_negocio\n",
    "\n",
    "X_train, X_test, y_train, y_test = train_test_split(X, y, test_size=0.3, random_state=RANDOM_STATE)\n",
    "print(X_train.shape, X_test.shape, y_train.shape, y_test.shape)\n",
    "readme['x_train_shape'] = X_train.shape\n",
    "readme['y_train_shape'] = y_train.shape\n",
    "readme['x_test_shape'] = X_test.shape\n",
    "readme['y_test_shape'] = y_test.shape\n",
    "\n",
    "X_test.to_excel('x_test.xlsx')\n",
    "y_test.to_excel('y_test.xlsx')"
   ]
  },
  {
   "cell_type": "code",
   "execution_count": 689,
   "metadata": {},
   "outputs": [],
   "source": [
    "clf_params = dict()\n",
    "clf_params['KNN'] = {'n_neighbors': np.arange(1, 20)}\n",
    "clf_params['PCAKNN'] = {'pca__n_components': [2, 3, 4, 5, 6, 7, 8, 9]}\n",
    "clf_params['LR'] = {'C': np.logspace(-5, 8, 15), 'penalty':['l1', 'l2'], 'class_weight':[None, 'balanced']}\n",
    "clf_params['DT'] = {\"max_depth\": range(1,20),\"max_features\":range(1,30), \n",
    "                    \"min_samples_leaf\": range(1,10),\"criterion\": [\"gini\", \"entropy\"], \n",
    "                    'class_weight':[None, 'balanced']}\n",
    "clf_params['RF'] = {\"max_depth\": range(1,20),\"max_features\":range(1,30), \"min_samples_leaf\": range(1,10),\n",
    "                    \"criterion\": [\"gini\", \"entropy\"], 'class_weight':[None, 'balanced']}\n",
    "#SVM PARAMS\n",
    "clf_params['SVM'] = {'C' :[0.001, 0.01, 0.1, 1, 10], 'gamma' : [0.001, 0.01, 0.1, 1], 'class_weight':[None, 'balanced']}\n",
    "# XGB PARAMS\n",
    "clf_params['XGB'] = {'n_estimators' : [50, 100, 150, 200], 'max_depth' : [2, 4, 6, 8]}"
   ]
  },
  {
   "cell_type": "code",
   "execution_count": 723,
   "metadata": {},
   "outputs": [],
   "source": [
    "clfs = dict()\n",
    "clfs['LR'] = LogisticRegression(random_state=RANDOM_STATE)\n",
    "clfs['DT'] = DecisionTreeClassifier(random_state=RANDOM_STATE)\n",
    "clfs['RF'] = RandomForestClassifier(random_state=RANDOM_STATE)\n",
    "clfs['SVM'] = svm.SVC(kernel='rbf', probability=True, random_state=RANDOM_STATE)\n",
    "clfs['KNN'] = KNeighborsClassifier()\n",
    "clfs['PCAKNN'] = Pipeline([('pca', PCA(random_state=RANDOM_STATE)), ('clf', KNeighborsClassifier())])\n",
    "clfs['XGB'] = XGBClassifier(random_state=RANDOM_STATE)"
   ]
  },
  {
   "cell_type": "code",
   "execution_count": 526,
   "metadata": {},
   "outputs": [],
   "source": [
    "clfs_results = dict()\n",
    "clfs_results['LR'] = dict()\n",
    "clfs_results['DT'] = dict()\n",
    "clfs_results['RF'] = dict()\n",
    "clfs_results['PCAKNN'] = dict()\n",
    "clfs_results['KNN'] = dict()\n",
    "clfs_results['XGB'] = dict()\n",
    "clfs_results['SVM'] = dict()\n"
   ]
  },
  {
   "cell_type": "markdown",
   "metadata": {},
   "source": [
    "# Grid"
   ]
  },
  {
   "cell_type": "code",
   "execution_count": 534,
   "metadata": {
    "scrolled": true
   },
   "outputs": [
    {
     "name": "stdout",
     "output_type": "stream",
     "text": [
      "Classifier: LR\n",
      "Fitting 2 folds for each of 60 candidates, totalling 120 fits\n"
     ]
    },
    {
     "name": "stderr",
     "output_type": "stream",
     "text": [
      "[Parallel(n_jobs=6)]: Done  38 tasks      | elapsed:   11.7s\n",
      "[Parallel(n_jobs=6)]: Done 120 out of 120 | elapsed:   21.2s finished\n"
     ]
    },
    {
     "name": "stdout",
     "output_type": "stream",
     "text": [
      "grid_acc cv=2 0.9381 +- 0.000 | model_auc: 0.4734 | model_acc: 0.9518 | model_p: 0.4759 | model_r: 0.5000 | model_fs: 0.4876\n",
      "Fitting 3 folds for each of 60 candidates, totalling 180 fits\n"
     ]
    },
    {
     "name": "stderr",
     "output_type": "stream",
     "text": [
      "[Parallel(n_jobs=6)]: Done  38 tasks      | elapsed:   11.2s\n",
      "[Parallel(n_jobs=6)]: Done 180 out of 180 | elapsed:   28.7s finished\n"
     ]
    },
    {
     "name": "stdout",
     "output_type": "stream",
     "text": [
      "grid_acc cv=3 0.9381 +- 0.000 | model_auc: 0.4734 | model_acc: 0.9518 | model_p: 0.4759 | model_r: 0.5000 | model_fs: 0.4876\n",
      "Fitting 4 folds for each of 60 candidates, totalling 240 fits\n"
     ]
    },
    {
     "name": "stderr",
     "output_type": "stream",
     "text": [
      "[Parallel(n_jobs=6)]: Done  38 tasks      | elapsed:   10.9s\n",
      "[Parallel(n_jobs=6)]: Done 188 tasks      | elapsed:   28.4s\n",
      "[Parallel(n_jobs=6)]: Done 240 out of 240 | elapsed:   35.7s finished\n"
     ]
    },
    {
     "name": "stdout",
     "output_type": "stream",
     "text": [
      "grid_acc cv=4 0.9381 +- 0.000 | model_auc: 0.4734 | model_acc: 0.9518 | model_p: 0.4759 | model_r: 0.5000 | model_fs: 0.4876\n",
      "Fitting 5 folds for each of 60 candidates, totalling 300 fits\n"
     ]
    },
    {
     "name": "stderr",
     "output_type": "stream",
     "text": [
      "[Parallel(n_jobs=6)]: Done  38 tasks      | elapsed:   10.9s\n",
      "[Parallel(n_jobs=6)]: Done 188 tasks      | elapsed:   26.4s\n",
      "[Parallel(n_jobs=6)]: Done 300 out of 300 | elapsed:   46.6s finished\n"
     ]
    },
    {
     "name": "stdout",
     "output_type": "stream",
     "text": [
      "grid_acc cv=5 0.9381 +- 0.000 | model_auc: 0.4734 | model_acc: 0.9518 | model_p: 0.4759 | model_r: 0.5000 | model_fs: 0.4876\n",
      "Fitting 6 folds for each of 60 candidates, totalling 360 fits\n"
     ]
    },
    {
     "name": "stderr",
     "output_type": "stream",
     "text": [
      "[Parallel(n_jobs=6)]: Done  38 tasks      | elapsed:   11.0s\n",
      "[Parallel(n_jobs=6)]: Done 188 tasks      | elapsed:   26.7s\n",
      "[Parallel(n_jobs=6)]: Done 360 out of 360 | elapsed:   59.6s finished\n"
     ]
    },
    {
     "name": "stdout",
     "output_type": "stream",
     "text": [
      "grid_acc cv=6 0.9381 +- 0.001 | model_auc: 0.4734 | model_acc: 0.9518 | model_p: 0.4759 | model_r: 0.5000 | model_fs: 0.4876\n",
      "Fitting 7 folds for each of 60 candidates, totalling 420 fits\n"
     ]
    },
    {
     "name": "stderr",
     "output_type": "stream",
     "text": [
      "[Parallel(n_jobs=6)]: Done  38 tasks      | elapsed:   10.9s\n",
      "[Parallel(n_jobs=6)]: Done 254 tasks      | elapsed:   37.6s\n",
      "[Parallel(n_jobs=6)]: Done 420 out of 420 | elapsed:  1.2min finished\n"
     ]
    },
    {
     "name": "stdout",
     "output_type": "stream",
     "text": [
      "grid_acc cv=7 0.9381 +- 0.001 | model_auc: 0.4734 | model_acc: 0.9518 | model_p: 0.4759 | model_r: 0.5000 | model_fs: 0.4876\n",
      "Fitting 8 folds for each of 60 candidates, totalling 480 fits\n"
     ]
    },
    {
     "name": "stderr",
     "output_type": "stream",
     "text": [
      "[Parallel(n_jobs=6)]: Done  38 tasks      | elapsed:   11.1s\n",
      "[Parallel(n_jobs=6)]: Done 252 tasks      | elapsed:   30.7s\n",
      "[Parallel(n_jobs=6)]: Done 480 out of 480 | elapsed:  1.3min finished\n"
     ]
    },
    {
     "name": "stdout",
     "output_type": "stream",
     "text": [
      "grid_acc cv=8 0.9381 +- 0.001 | model_auc: 0.4734 | model_acc: 0.9518 | model_p: 0.4759 | model_r: 0.5000 | model_fs: 0.4876\n",
      "Fitting 9 folds for each of 60 candidates, totalling 540 fits\n"
     ]
    },
    {
     "name": "stderr",
     "output_type": "stream",
     "text": [
      "[Parallel(n_jobs=6)]: Done  38 tasks      | elapsed:   10.6s\n",
      "[Parallel(n_jobs=6)]: Done 254 tasks      | elapsed:   27.1s\n",
      "[Parallel(n_jobs=6)]: Done 504 tasks      | elapsed:  1.3min\n",
      "[Parallel(n_jobs=6)]: Done 540 out of 540 | elapsed:  1.4min finished\n"
     ]
    },
    {
     "name": "stdout",
     "output_type": "stream",
     "text": [
      "grid_acc cv=9 0.9381 +- 0.001 | model_auc: 0.4734 | model_acc: 0.9518 | model_p: 0.4759 | model_r: 0.5000 | model_fs: 0.4876\n",
      "Fitting 10 folds for each of 60 candidates, totalling 600 fits\n"
     ]
    },
    {
     "name": "stderr",
     "output_type": "stream",
     "text": [
      "[Parallel(n_jobs=6)]: Done  38 tasks      | elapsed:   10.8s\n",
      "[Parallel(n_jobs=6)]: Done 273 tasks      | elapsed:   28.4s\n",
      "[Parallel(n_jobs=6)]: Done 523 tasks      | elapsed:  1.3min\n",
      "[Parallel(n_jobs=6)]: Done 600 out of 600 | elapsed:  1.5min finished\n"
     ]
    },
    {
     "name": "stdout",
     "output_type": "stream",
     "text": [
      "grid_acc cv=10 0.9381 +- 0.001 | model_auc: 0.4734 | model_acc: 0.9518 | model_p: 0.4759 | model_r: 0.5000 | model_fs: 0.4876\n",
      "Classifier: DT\n",
      "Fitting 2 folds for each of 19836 candidates, totalling 39672 fits\n"
     ]
    },
    {
     "name": "stderr",
     "output_type": "stream",
     "text": [
      "[Parallel(n_jobs=6)]: Done  38 tasks      | elapsed:    8.9s\n",
      "[Parallel(n_jobs=6)]: Done 860 tasks      | elapsed:   13.0s\n",
      "[Parallel(n_jobs=6)]: Done 2360 tasks      | elapsed:   20.4s\n",
      "[Parallel(n_jobs=6)]: Done 4460 tasks      | elapsed:   31.1s\n",
      "[Parallel(n_jobs=6)]: Done 7160 tasks      | elapsed:   47.1s\n",
      "[Parallel(n_jobs=6)]: Done 10460 tasks      | elapsed:  1.1min\n",
      "[Parallel(n_jobs=6)]: Done 14360 tasks      | elapsed:  1.5min\n",
      "[Parallel(n_jobs=6)]: Done 18860 tasks      | elapsed:  1.9min\n",
      "[Parallel(n_jobs=6)]: Done 23960 tasks      | elapsed:  2.4min\n",
      "[Parallel(n_jobs=6)]: Done 29660 tasks      | elapsed:  3.0min\n",
      "[Parallel(n_jobs=6)]: Done 35960 tasks      | elapsed:  3.6min\n",
      "[Parallel(n_jobs=6)]: Done 39672 out of 39672 | elapsed:  4.0min finished\n"
     ]
    },
    {
     "name": "stdout",
     "output_type": "stream",
     "text": [
      "grid_acc cv=2 0.9389 +- 0.001 | model_auc: 0.5672 | model_acc: 0.9518 | model_p: 0.4759 | model_r: 0.5000 | model_fs: 0.4876\n",
      "Fitting 3 folds for each of 19836 candidates, totalling 59508 fits\n"
     ]
    },
    {
     "name": "stderr",
     "output_type": "stream",
     "text": [
      "[Parallel(n_jobs=6)]: Done  38 tasks      | elapsed:    9.0s\n",
      "[Parallel(n_jobs=6)]: Done 855 tasks      | elapsed:   13.4s\n",
      "[Parallel(n_jobs=6)]: Done 2355 tasks      | elapsed:   22.5s\n",
      "[Parallel(n_jobs=6)]: Done 4455 tasks      | elapsed:   36.1s\n",
      "[Parallel(n_jobs=6)]: Done 7155 tasks      | elapsed:   53.9s\n",
      "[Parallel(n_jobs=6)]: Done 10455 tasks      | elapsed:  1.3min\n",
      "[Parallel(n_jobs=6)]: Done 14355 tasks      | elapsed:  1.7min\n",
      "[Parallel(n_jobs=6)]: Done 18855 tasks      | elapsed:  2.2min\n",
      "[Parallel(n_jobs=6)]: Done 23955 tasks      | elapsed:  2.8min\n",
      "[Parallel(n_jobs=6)]: Done 29655 tasks      | elapsed:  3.5min\n",
      "[Parallel(n_jobs=6)]: Done 35955 tasks      | elapsed:  4.1min\n",
      "[Parallel(n_jobs=6)]: Done 42855 tasks      | elapsed:  4.9min\n",
      "[Parallel(n_jobs=6)]: Done 50355 tasks      | elapsed:  5.8min\n",
      "[Parallel(n_jobs=6)]: Done 58455 tasks      | elapsed:  6.7min\n",
      "[Parallel(n_jobs=6)]: Done 59508 out of 59508 | elapsed:  6.9min finished\n"
     ]
    },
    {
     "name": "stdout",
     "output_type": "stream",
     "text": [
      "grid_acc cv=3 0.9397 +- 0.001 | model_auc: 0.6817 | model_acc: 0.9518 | model_p: 0.4759 | model_r: 0.5000 | model_fs: 0.4876\n",
      "Fitting 4 folds for each of 19836 candidates, totalling 79344 fits\n"
     ]
    },
    {
     "name": "stderr",
     "output_type": "stream",
     "text": [
      "[Parallel(n_jobs=6)]: Done  38 tasks      | elapsed:    9.1s\n",
      "[Parallel(n_jobs=6)]: Done 855 tasks      | elapsed:   13.7s\n",
      "[Parallel(n_jobs=6)]: Done 2355 tasks      | elapsed:   23.1s\n",
      "[Parallel(n_jobs=6)]: Done 4455 tasks      | elapsed:   37.0s\n",
      "[Parallel(n_jobs=6)]: Done 7155 tasks      | elapsed:   55.4s\n",
      "[Parallel(n_jobs=6)]: Done 10455 tasks      | elapsed:  1.3min\n",
      "[Parallel(n_jobs=6)]: Done 14355 tasks      | elapsed:  1.8min\n",
      "[Parallel(n_jobs=6)]: Done 18855 tasks      | elapsed:  2.3min\n",
      "[Parallel(n_jobs=6)]: Done 23955 tasks      | elapsed:  2.9min\n",
      "[Parallel(n_jobs=6)]: Done 29655 tasks      | elapsed:  3.6min\n",
      "[Parallel(n_jobs=6)]: Done 35955 tasks      | elapsed:  4.3min\n",
      "[Parallel(n_jobs=6)]: Done 42855 tasks      | elapsed:  5.1min\n",
      "[Parallel(n_jobs=6)]: Done 50355 tasks      | elapsed:  6.0min\n",
      "[Parallel(n_jobs=6)]: Done 58455 tasks      | elapsed:  7.0min\n",
      "[Parallel(n_jobs=6)]: Done 67155 tasks      | elapsed:  7.9min\n",
      "[Parallel(n_jobs=6)]: Done 76455 tasks      | elapsed:  9.1min\n",
      "[Parallel(n_jobs=6)]: Done 79344 out of 79344 | elapsed:  9.5min finished\n"
     ]
    },
    {
     "name": "stdout",
     "output_type": "stream",
     "text": [
      "grid_acc cv=4 0.9392 +- 0.002 | model_auc: 0.5816 | model_acc: 0.9518 | model_p: 0.4759 | model_r: 0.5000 | model_fs: 0.4876\n",
      "Fitting 5 folds for each of 19836 candidates, totalling 99180 fits\n"
     ]
    },
    {
     "name": "stderr",
     "output_type": "stream",
     "text": [
      "[Parallel(n_jobs=6)]: Done  38 tasks      | elapsed:    8.7s\n",
      "[Parallel(n_jobs=6)]: Done 860 tasks      | elapsed:   13.3s\n",
      "[Parallel(n_jobs=6)]: Done 2360 tasks      | elapsed:   21.8s\n",
      "[Parallel(n_jobs=6)]: Done 4460 tasks      | elapsed:   34.8s\n",
      "[Parallel(n_jobs=6)]: Done 7160 tasks      | elapsed:   53.2s\n",
      "[Parallel(n_jobs=6)]: Done 10460 tasks      | elapsed:  1.3min\n",
      "[Parallel(n_jobs=6)]: Done 14360 tasks      | elapsed:  1.7min\n",
      "[Parallel(n_jobs=6)]: Done 18860 tasks      | elapsed:  2.3min\n",
      "[Parallel(n_jobs=6)]: Done 23960 tasks      | elapsed:  2.9min\n",
      "[Parallel(n_jobs=6)]: Done 29660 tasks      | elapsed:  3.5min\n",
      "[Parallel(n_jobs=6)]: Done 35960 tasks      | elapsed:  4.2min\n",
      "[Parallel(n_jobs=6)]: Done 42860 tasks      | elapsed:  5.1min\n",
      "[Parallel(n_jobs=6)]: Done 50360 tasks      | elapsed:  6.0min\n",
      "[Parallel(n_jobs=6)]: Done 58460 tasks      | elapsed:  6.9min\n",
      "[Parallel(n_jobs=6)]: Done 67160 tasks      | elapsed:  7.9min\n",
      "[Parallel(n_jobs=6)]: Done 76460 tasks      | elapsed:  9.0min\n",
      "[Parallel(n_jobs=6)]: Done 86360 tasks      | elapsed: 10.2min\n",
      "[Parallel(n_jobs=6)]: Done 96860 tasks      | elapsed: 11.5min\n",
      "[Parallel(n_jobs=6)]: Done 99180 out of 99180 | elapsed: 11.8min finished\n"
     ]
    },
    {
     "name": "stdout",
     "output_type": "stream",
     "text": [
      "grid_acc cv=5 0.9392 +- 0.002 | model_auc: 0.8045 | model_acc: 0.9518 | model_p: 0.7275 | model_r: 0.5345 | model_fs: 0.5511\n",
      "Fitting 6 folds for each of 19836 candidates, totalling 119016 fits\n"
     ]
    },
    {
     "name": "stderr",
     "output_type": "stream",
     "text": [
      "[Parallel(n_jobs=6)]: Done  38 tasks      | elapsed:    8.8s\n",
      "[Parallel(n_jobs=6)]: Done 855 tasks      | elapsed:   13.4s\n",
      "[Parallel(n_jobs=6)]: Done 2355 tasks      | elapsed:   22.2s\n",
      "[Parallel(n_jobs=6)]: Done 4455 tasks      | elapsed:   35.1s\n",
      "[Parallel(n_jobs=6)]: Done 7155 tasks      | elapsed:   53.1s\n",
      "[Parallel(n_jobs=6)]: Done 10455 tasks      | elapsed:  1.3min\n",
      "[Parallel(n_jobs=6)]: Done 14355 tasks      | elapsed:  1.7min\n",
      "[Parallel(n_jobs=6)]: Done 18855 tasks      | elapsed:  2.3min\n",
      "[Parallel(n_jobs=6)]: Done 23955 tasks      | elapsed:  2.9min\n",
      "[Parallel(n_jobs=6)]: Done 29655 tasks      | elapsed:  3.6min\n",
      "[Parallel(n_jobs=6)]: Done 35955 tasks      | elapsed:  4.3min\n",
      "[Parallel(n_jobs=6)]: Done 42855 tasks      | elapsed:  5.1min\n",
      "[Parallel(n_jobs=6)]: Done 50355 tasks      | elapsed:  6.1min\n",
      "[Parallel(n_jobs=6)]: Done 58455 tasks      | elapsed:  7.1min\n",
      "[Parallel(n_jobs=6)]: Done 67155 tasks      | elapsed:  8.1min\n",
      "[Parallel(n_jobs=6)]: Done 76455 tasks      | elapsed:  9.2min\n",
      "[Parallel(n_jobs=6)]: Done 86355 tasks      | elapsed: 10.4min\n",
      "[Parallel(n_jobs=6)]: Done 96855 tasks      | elapsed: 11.6min\n",
      "[Parallel(n_jobs=6)]: Done 107955 tasks      | elapsed: 13.1min\n",
      "[Parallel(n_jobs=6)]: Done 119016 out of 119016 | elapsed: 14.5min finished\n"
     ]
    },
    {
     "name": "stdout",
     "output_type": "stream",
     "text": [
      "grid_acc cv=6 0.9392 +- 0.002 | model_auc: 0.7930 | model_acc: 0.9482 | model_p: 0.6270 | model_r: 0.5240 | model_fs: 0.5328\n",
      "Fitting 7 folds for each of 19836 candidates, totalling 138852 fits\n"
     ]
    },
    {
     "name": "stderr",
     "output_type": "stream",
     "text": [
      "[Parallel(n_jobs=6)]: Done  38 tasks      | elapsed:    8.8s\n",
      "[Parallel(n_jobs=6)]: Done 855 tasks      | elapsed:   13.4s\n",
      "[Parallel(n_jobs=6)]: Done 2355 tasks      | elapsed:   22.7s\n",
      "[Parallel(n_jobs=6)]: Done 4455 tasks      | elapsed:   36.0s\n",
      "[Parallel(n_jobs=6)]: Done 7155 tasks      | elapsed:   54.1s\n",
      "[Parallel(n_jobs=6)]: Done 10455 tasks      | elapsed:  1.3min\n",
      "[Parallel(n_jobs=6)]: Done 14355 tasks      | elapsed:  1.7min\n",
      "[Parallel(n_jobs=6)]: Done 18855 tasks      | elapsed:  2.3min\n",
      "[Parallel(n_jobs=6)]: Done 23955 tasks      | elapsed:  2.9min\n",
      "[Parallel(n_jobs=6)]: Done 29655 tasks      | elapsed:  3.6min\n",
      "[Parallel(n_jobs=6)]: Done 35955 tasks      | elapsed:  4.4min\n",
      "[Parallel(n_jobs=6)]: Done 42855 tasks      | elapsed:  5.2min\n",
      "[Parallel(n_jobs=6)]: Done 50355 tasks      | elapsed:  6.1min\n",
      "[Parallel(n_jobs=6)]: Done 58455 tasks      | elapsed:  7.2min\n",
      "[Parallel(n_jobs=6)]: Done 67155 tasks      | elapsed:  8.3min\n",
      "[Parallel(n_jobs=6)]: Done 76455 tasks      | elapsed:  9.4min\n",
      "[Parallel(n_jobs=6)]: Done 86355 tasks      | elapsed: 10.6min\n",
      "[Parallel(n_jobs=6)]: Done 96855 tasks      | elapsed: 11.9min\n",
      "[Parallel(n_jobs=6)]: Done 107955 tasks      | elapsed: 13.2min\n",
      "[Parallel(n_jobs=6)]: Done 119655 tasks      | elapsed: 14.7min\n",
      "[Parallel(n_jobs=6)]: Done 131955 tasks      | elapsed: 16.3min\n",
      "[Parallel(n_jobs=6)]: Done 138852 out of 138852 | elapsed: 17.2min finished\n"
     ]
    },
    {
     "name": "stdout",
     "output_type": "stream",
     "text": [
      "grid_acc cv=7 0.9402 +- 0.004 | model_auc: 0.7378 | model_acc: 0.9491 | model_p: 0.4758 | model_r: 0.4986 | model_fs: 0.4869\n",
      "Fitting 8 folds for each of 19836 candidates, totalling 158688 fits\n"
     ]
    },
    {
     "name": "stderr",
     "output_type": "stream",
     "text": [
      "[Parallel(n_jobs=6)]: Done  38 tasks      | elapsed:    8.9s\n",
      "[Parallel(n_jobs=6)]: Done 855 tasks      | elapsed:   13.6s\n",
      "[Parallel(n_jobs=6)]: Done 2355 tasks      | elapsed:   23.1s\n",
      "[Parallel(n_jobs=6)]: Done 4455 tasks      | elapsed:   36.4s\n",
      "[Parallel(n_jobs=6)]: Done 7155 tasks      | elapsed:   54.1s\n",
      "[Parallel(n_jobs=6)]: Done 10455 tasks      | elapsed:  1.3min\n",
      "[Parallel(n_jobs=6)]: Done 14355 tasks      | elapsed:  1.7min\n",
      "[Parallel(n_jobs=6)]: Done 18855 tasks      | elapsed:  2.3min\n",
      "[Parallel(n_jobs=6)]: Done 23955 tasks      | elapsed:  2.9min\n",
      "[Parallel(n_jobs=6)]: Done 29655 tasks      | elapsed:  3.6min\n",
      "[Parallel(n_jobs=6)]: Done 35955 tasks      | elapsed:  4.4min\n",
      "[Parallel(n_jobs=6)]: Done 42855 tasks      | elapsed:  5.2min\n",
      "[Parallel(n_jobs=6)]: Done 50355 tasks      | elapsed:  6.1min\n",
      "[Parallel(n_jobs=6)]: Done 58455 tasks      | elapsed:  7.2min\n",
      "[Parallel(n_jobs=6)]: Done 67155 tasks      | elapsed:  8.3min\n",
      "[Parallel(n_jobs=6)]: Done 76455 tasks      | elapsed:  9.5min\n",
      "[Parallel(n_jobs=6)]: Done 86355 tasks      | elapsed: 10.7min\n",
      "[Parallel(n_jobs=6)]: Done 96855 tasks      | elapsed: 12.0min\n",
      "[Parallel(n_jobs=6)]: Done 107955 tasks      | elapsed: 13.4min\n",
      "[Parallel(n_jobs=6)]: Done 119655 tasks      | elapsed: 14.9min\n",
      "[Parallel(n_jobs=6)]: Done 131955 tasks      | elapsed: 16.3min\n",
      "[Parallel(n_jobs=6)]: Done 144855 tasks      | elapsed: 18.0min\n",
      "[Parallel(n_jobs=6)]: Done 158355 tasks      | elapsed: 19.8min\n",
      "[Parallel(n_jobs=6)]: Done 158688 out of 158688 | elapsed: 19.8min finished\n"
     ]
    },
    {
     "name": "stdout",
     "output_type": "stream",
     "text": [
      "grid_acc cv=8 0.9392 +- 0.003 | model_auc: 0.8061 | model_acc: 0.9491 | model_p: 0.6437 | model_r: 0.5245 | model_fs: 0.5338\n",
      "Fitting 9 folds for each of 19836 candidates, totalling 178524 fits\n"
     ]
    },
    {
     "name": "stderr",
     "output_type": "stream",
     "text": [
      "[Parallel(n_jobs=6)]: Done  38 tasks      | elapsed:    9.0s\n",
      "[Parallel(n_jobs=6)]: Done 855 tasks      | elapsed:   13.7s\n",
      "[Parallel(n_jobs=6)]: Done 2355 tasks      | elapsed:   23.2s\n",
      "[Parallel(n_jobs=6)]: Done 4455 tasks      | elapsed:   36.5s\n",
      "[Parallel(n_jobs=6)]: Done 7155 tasks      | elapsed:   54.2s\n",
      "[Parallel(n_jobs=6)]: Done 10455 tasks      | elapsed:  1.3min\n",
      "[Parallel(n_jobs=6)]: Done 14355 tasks      | elapsed:  1.7min\n",
      "[Parallel(n_jobs=6)]: Done 18855 tasks      | elapsed:  2.3min\n",
      "[Parallel(n_jobs=6)]: Done 23955 tasks      | elapsed:  2.9min\n",
      "[Parallel(n_jobs=6)]: Done 29655 tasks      | elapsed:  3.6min\n",
      "[Parallel(n_jobs=6)]: Done 35955 tasks      | elapsed:  4.4min\n",
      "[Parallel(n_jobs=6)]: Done 42855 tasks      | elapsed:  5.3min\n",
      "[Parallel(n_jobs=6)]: Done 50355 tasks      | elapsed:  6.1min\n",
      "[Parallel(n_jobs=6)]: Done 58455 tasks      | elapsed:  7.1min\n",
      "[Parallel(n_jobs=6)]: Done 67155 tasks      | elapsed:  8.3min\n",
      "[Parallel(n_jobs=6)]: Done 76455 tasks      | elapsed:  9.5min\n",
      "[Parallel(n_jobs=6)]: Done 86355 tasks      | elapsed: 10.8min\n",
      "[Parallel(n_jobs=6)]: Done 96855 tasks      | elapsed: 12.0min\n",
      "[Parallel(n_jobs=6)]: Done 107955 tasks      | elapsed: 13.4min\n",
      "[Parallel(n_jobs=6)]: Done 119655 tasks      | elapsed: 14.9min\n",
      "[Parallel(n_jobs=6)]: Done 131955 tasks      | elapsed: 16.4min\n",
      "[Parallel(n_jobs=6)]: Done 144855 tasks      | elapsed: 17.9min\n",
      "[Parallel(n_jobs=6)]: Done 158355 tasks      | elapsed: 19.6min\n",
      "[Parallel(n_jobs=6)]: Done 172455 tasks      | elapsed: 21.5min\n",
      "[Parallel(n_jobs=6)]: Done 178524 out of 178524 | elapsed: 22.4min finished\n"
     ]
    },
    {
     "name": "stdout",
     "output_type": "stream",
     "text": [
      "grid_acc cv=9 0.9397 +- 0.003 | model_auc: 0.7964 | model_acc: 0.9518 | model_p: 0.4759 | model_r: 0.5000 | model_fs: 0.4876\n",
      "Fitting 10 folds for each of 19836 candidates, totalling 198360 fits\n"
     ]
    },
    {
     "name": "stderr",
     "output_type": "stream",
     "text": [
      "[Parallel(n_jobs=6)]: Done  38 tasks      | elapsed:    9.0s\n",
      "[Parallel(n_jobs=6)]: Done 855 tasks      | elapsed:   13.8s\n",
      "[Parallel(n_jobs=6)]: Done 2355 tasks      | elapsed:   22.7s\n",
      "[Parallel(n_jobs=6)]: Done 4455 tasks      | elapsed:   36.1s\n",
      "[Parallel(n_jobs=6)]: Done 7155 tasks      | elapsed:   54.3s\n",
      "[Parallel(n_jobs=6)]: Done 10455 tasks      | elapsed:  1.3min\n",
      "[Parallel(n_jobs=6)]: Done 14355 tasks      | elapsed:  1.7min\n",
      "[Parallel(n_jobs=6)]: Done 18855 tasks      | elapsed:  2.3min\n",
      "[Parallel(n_jobs=6)]: Done 23955 tasks      | elapsed:  2.9min\n",
      "[Parallel(n_jobs=6)]: Done 29655 tasks      | elapsed:  3.6min\n",
      "[Parallel(n_jobs=6)]: Done 35955 tasks      | elapsed:  4.4min\n",
      "[Parallel(n_jobs=6)]: Done 42855 tasks      | elapsed:  5.3min\n",
      "[Parallel(n_jobs=6)]: Done 50355 tasks      | elapsed:  6.2min\n",
      "[Parallel(n_jobs=6)]: Done 58455 tasks      | elapsed:  7.1min\n",
      "[Parallel(n_jobs=6)]: Done 67155 tasks      | elapsed:  8.2min\n",
      "[Parallel(n_jobs=6)]: Done 76455 tasks      | elapsed:  9.5min\n",
      "[Parallel(n_jobs=6)]: Done 86355 tasks      | elapsed: 10.8min\n",
      "[Parallel(n_jobs=6)]: Done 96855 tasks      | elapsed: 12.2min\n",
      "[Parallel(n_jobs=6)]: Done 107955 tasks      | elapsed: 13.5min\n",
      "[Parallel(n_jobs=6)]: Done 119655 tasks      | elapsed: 14.9min\n",
      "[Parallel(n_jobs=6)]: Done 131955 tasks      | elapsed: 16.5min\n",
      "[Parallel(n_jobs=6)]: Done 144855 tasks      | elapsed: 18.1min\n",
      "[Parallel(n_jobs=6)]: Done 158355 tasks      | elapsed: 19.8min\n",
      "[Parallel(n_jobs=6)]: Done 172455 tasks      | elapsed: 21.6min\n",
      "[Parallel(n_jobs=6)]: Done 187155 tasks      | elapsed: 23.5min\n",
      "[Parallel(n_jobs=6)]: Done 198360 out of 198360 | elapsed: 25.1min finished\n"
     ]
    },
    {
     "name": "stdout",
     "output_type": "stream",
     "text": [
      "grid_acc cv=10 0.9395 +- 0.003 | model_auc: 0.7093 | model_acc: 0.9500 | model_p: 0.6645 | model_r: 0.5250 | model_fs: 0.5348\n",
      "Classifier: RF\n",
      "Fitting 2 folds for each of 300 candidates, totalling 600 fits\n"
     ]
    },
    {
     "name": "stderr",
     "output_type": "stream",
     "text": [
      "[Parallel(n_jobs=6)]: Done  38 tasks      | elapsed:    9.5s\n",
      "[Parallel(n_jobs=6)]: Done 327 tasks      | elapsed:   13.1s\n",
      "[Parallel(n_jobs=6)]: Done 589 out of 600 | elapsed:   16.4s remaining:    0.2s\n",
      "[Parallel(n_jobs=6)]: Done 600 out of 600 | elapsed:   16.5s finished\n"
     ]
    },
    {
     "name": "stdout",
     "output_type": "stream",
     "text": [
      "grid_acc cv=2 0.9387 +- 0.000 | model_auc: 0.8237 | model_acc: 0.9526 | model_p: 0.9763 | model_r: 0.5091 | model_fs: 0.5057\n",
      "Fitting 3 folds for each of 300 candidates, totalling 900 fits\n"
     ]
    },
    {
     "name": "stderr",
     "output_type": "stream",
     "text": [
      "[Parallel(n_jobs=6)]: Done  38 tasks      | elapsed:    9.6s\n",
      "[Parallel(n_jobs=6)]: Done 320 tasks      | elapsed:   13.7s\n",
      "[Parallel(n_jobs=6)]: Done 820 tasks      | elapsed:   21.1s\n",
      "[Parallel(n_jobs=6)]: Done 900 out of 900 | elapsed:   22.2s finished\n"
     ]
    },
    {
     "name": "stdout",
     "output_type": "stream",
     "text": [
      "grid_acc cv=3 0.9392 +- 0.001 | model_auc: 0.8136 | model_acc: 0.9526 | model_p: 0.7771 | model_r: 0.5264 | model_fs: 0.5378\n",
      "Fitting 4 folds for each of 300 candidates, totalling 1200 fits\n"
     ]
    },
    {
     "name": "stderr",
     "output_type": "stream",
     "text": [
      "[Parallel(n_jobs=6)]: Done  38 tasks      | elapsed:    9.6s\n",
      "[Parallel(n_jobs=6)]: Done 524 tasks      | elapsed:   17.1s\n",
      "[Parallel(n_jobs=6)]: Done 1200 out of 1200 | elapsed:   27.5s finished\n"
     ]
    },
    {
     "name": "stdout",
     "output_type": "stream",
     "text": [
      "grid_acc cv=4 0.9395 +- 0.001 | model_auc: 0.8224 | model_acc: 0.9535 | model_p: 0.8108 | model_r: 0.5354 | model_fs: 0.5536\n",
      "Fitting 5 folds for each of 300 candidates, totalling 1500 fits\n"
     ]
    },
    {
     "name": "stderr",
     "output_type": "stream",
     "text": [
      "[Parallel(n_jobs=6)]: Done  38 tasks      | elapsed:    9.6s\n",
      "[Parallel(n_jobs=6)]: Done 293 tasks      | elapsed:   13.8s\n",
      "[Parallel(n_jobs=6)]: Done 793 tasks      | elapsed:   21.8s\n",
      "[Parallel(n_jobs=6)]: Done 1489 out of 1500 | elapsed:   33.2s remaining:    0.1s\n",
      "[Parallel(n_jobs=6)]: Done 1500 out of 1500 | elapsed:   33.4s finished\n"
     ]
    },
    {
     "name": "stdout",
     "output_type": "stream",
     "text": [
      "grid_acc cv=5 0.9392 +- 0.002 | model_auc: 0.8298 | model_acc: 0.9526 | model_p: 0.9763 | model_r: 0.5091 | model_fs: 0.5057\n",
      "Fitting 6 folds for each of 300 candidates, totalling 1800 fits\n"
     ]
    },
    {
     "name": "stderr",
     "output_type": "stream",
     "text": [
      "[Parallel(n_jobs=6)]: Done  38 tasks      | elapsed:    9.6s\n",
      "[Parallel(n_jobs=6)]: Done 268 tasks      | elapsed:   13.5s\n",
      "[Parallel(n_jobs=6)]: Done 768 tasks      | elapsed:   21.9s\n",
      "[Parallel(n_jobs=6)]: Done 1468 tasks      | elapsed:   34.4s\n",
      "[Parallel(n_jobs=6)]: Done 1800 out of 1800 | elapsed:   39.8s finished\n"
     ]
    },
    {
     "name": "stdout",
     "output_type": "stream",
     "text": [
      "grid_acc cv=6 0.9387 +- 0.001 | model_auc: 0.8129 | model_acc: 0.9509 | model_p: 0.4759 | model_r: 0.4995 | model_fs: 0.4874\n",
      "Fitting 7 folds for each of 300 candidates, totalling 2100 fits\n"
     ]
    },
    {
     "name": "stderr",
     "output_type": "stream",
     "text": [
      "[Parallel(n_jobs=6)]: Done  38 tasks      | elapsed:    9.7s\n",
      "[Parallel(n_jobs=6)]: Done 359 tasks      | elapsed:   15.4s\n",
      "[Parallel(n_jobs=6)]: Done 1359 tasks      | elapsed:   32.1s\n",
      "[Parallel(n_jobs=6)]: Done 2100 out of 2100 | elapsed:   44.8s finished\n"
     ]
    },
    {
     "name": "stdout",
     "output_type": "stream",
     "text": [
      "grid_acc cv=7 0.9392 +- 0.002 | model_auc: 0.8237 | model_acc: 0.9482 | model_p: 0.4758 | model_r: 0.4982 | model_fs: 0.4867\n",
      "Fitting 8 folds for each of 300 candidates, totalling 2400 fits\n"
     ]
    },
    {
     "name": "stderr",
     "output_type": "stream",
     "text": [
      "[Parallel(n_jobs=6)]: Done  38 tasks      | elapsed:   10.0s\n",
      "[Parallel(n_jobs=6)]: Done 310 tasks      | elapsed:   14.6s\n",
      "[Parallel(n_jobs=6)]: Done 810 tasks      | elapsed:   23.3s\n",
      "[Parallel(n_jobs=6)]: Done 1510 tasks      | elapsed:   35.9s\n",
      "[Parallel(n_jobs=6)]: Done 2400 out of 2400 | elapsed:   51.7s finished\n"
     ]
    },
    {
     "name": "stdout",
     "output_type": "stream",
     "text": [
      "grid_acc cv=8 0.9395 +- 0.001 | model_auc: 0.7577 | model_acc: 0.9518 | model_p: 0.4759 | model_r: 0.5000 | model_fs: 0.4876\n",
      "Fitting 9 folds for each of 300 candidates, totalling 2700 fits\n"
     ]
    },
    {
     "name": "stderr",
     "output_type": "stream",
     "text": [
      "[Parallel(n_jobs=6)]: Done  38 tasks      | elapsed:    9.6s\n",
      "[Parallel(n_jobs=6)]: Done 306 tasks      | elapsed:   14.3s\n",
      "[Parallel(n_jobs=6)]: Done 806 tasks      | elapsed:   23.0s\n",
      "[Parallel(n_jobs=6)]: Done 1506 tasks      | elapsed:   34.9s\n",
      "[Parallel(n_jobs=6)]: Done 2406 tasks      | elapsed:   52.2s\n",
      "[Parallel(n_jobs=6)]: Done 2700 out of 2700 | elapsed:   57.1s finished\n"
     ]
    },
    {
     "name": "stdout",
     "output_type": "stream",
     "text": [
      "grid_acc cv=9 0.9397 +- 0.002 | model_auc: 0.8150 | model_acc: 0.9500 | model_p: 0.6645 | model_r: 0.5250 | model_fs: 0.5348\n",
      "Fitting 10 folds for each of 300 candidates, totalling 3000 fits\n"
     ]
    },
    {
     "name": "stderr",
     "output_type": "stream",
     "text": [
      "[Parallel(n_jobs=6)]: Done  38 tasks      | elapsed:    9.6s\n",
      "[Parallel(n_jobs=6)]: Done 299 tasks      | elapsed:   14.4s\n",
      "[Parallel(n_jobs=6)]: Done 799 tasks      | elapsed:   22.8s\n",
      "[Parallel(n_jobs=6)]: Done 1499 tasks      | elapsed:   36.0s\n",
      "[Parallel(n_jobs=6)]: Done 2399 tasks      | elapsed:   52.6s\n",
      "[Parallel(n_jobs=6)]: Done 2989 out of 3000 | elapsed:  1.1min remaining:    0.1s\n",
      "[Parallel(n_jobs=6)]: Done 3000 out of 3000 | elapsed:  1.1min finished\n"
     ]
    },
    {
     "name": "stdout",
     "output_type": "stream",
     "text": [
      "grid_acc cv=10 0.9387 +- 0.002 | model_auc: 0.8297 | model_acc: 0.9518 | model_p: 0.7267 | model_r: 0.5173 | model_fs: 0.5215\n",
      "Classifier: SVM\n",
      "Fitting 2 folds for each of 40 candidates, totalling 80 fits\n"
     ]
    },
    {
     "name": "stderr",
     "output_type": "stream",
     "text": [
      "[Parallel(n_jobs=6)]: Done  38 tasks      | elapsed:   30.1s\n",
      "[Parallel(n_jobs=6)]: Done  80 out of  80 | elapsed:   58.8s finished\n"
     ]
    },
    {
     "name": "stdout",
     "output_type": "stream",
     "text": [
      "grid_acc cv=2 0.9381 +- 0.000 | model_auc: 0.5443 | model_acc: 0.9518 | model_p: 0.4759 | model_r: 0.5000 | model_fs: 0.4876\n",
      "Fitting 3 folds for each of 40 candidates, totalling 120 fits\n"
     ]
    },
    {
     "name": "stderr",
     "output_type": "stream",
     "text": [
      "[Parallel(n_jobs=6)]: Done  38 tasks      | elapsed:   43.5s\n",
      "[Parallel(n_jobs=6)]: Done 120 out of 120 | elapsed:  2.4min finished\n"
     ]
    },
    {
     "name": "stdout",
     "output_type": "stream",
     "text": [
      "grid_acc cv=3 0.9381 +- 0.000 | model_auc: 0.5443 | model_acc: 0.9518 | model_p: 0.4759 | model_r: 0.5000 | model_fs: 0.4876\n",
      "Fitting 4 folds for each of 40 candidates, totalling 160 fits\n"
     ]
    },
    {
     "name": "stderr",
     "output_type": "stream",
     "text": [
      "[Parallel(n_jobs=6)]: Done  38 tasks      | elapsed:   46.8s\n",
      "[Parallel(n_jobs=6)]: Done 160 out of 160 | elapsed:  3.9min finished\n"
     ]
    },
    {
     "name": "stdout",
     "output_type": "stream",
     "text": [
      "grid_acc cv=4 0.9381 +- 0.000 | model_auc: 0.4561 | model_acc: 0.9518 | model_p: 0.4759 | model_r: 0.5000 | model_fs: 0.4876\n",
      "Fitting 5 folds for each of 40 candidates, totalling 200 fits\n"
     ]
    },
    {
     "name": "stderr",
     "output_type": "stream",
     "text": [
      "[Parallel(n_jobs=6)]: Done  38 tasks      | elapsed:   49.9s\n",
      "[Parallel(n_jobs=6)]: Done 188 tasks      | elapsed:  5.2min\n",
      "[Parallel(n_jobs=6)]: Done 200 out of 200 | elapsed:  5.6min finished\n"
     ]
    },
    {
     "name": "stdout",
     "output_type": "stream",
     "text": [
      "grid_acc cv=5 0.9381 +- 0.000 | model_auc: 0.4557 | model_acc: 0.9518 | model_p: 0.4759 | model_r: 0.5000 | model_fs: 0.4876\n",
      "Fitting 6 folds for each of 40 candidates, totalling 240 fits\n"
     ]
    },
    {
     "name": "stderr",
     "output_type": "stream",
     "text": [
      "[Parallel(n_jobs=6)]: Done  38 tasks      | elapsed:   52.2s\n",
      "[Parallel(n_jobs=6)]: Done 188 tasks      | elapsed:  5.6min\n",
      "[Parallel(n_jobs=6)]: Done 240 out of 240 | elapsed:  7.3min finished\n"
     ]
    },
    {
     "name": "stdout",
     "output_type": "stream",
     "text": [
      "grid_acc cv=6 0.9381 +- 0.001 | model_auc: 0.5448 | model_acc: 0.9518 | model_p: 0.4759 | model_r: 0.5000 | model_fs: 0.4876\n",
      "Fitting 7 folds for each of 40 candidates, totalling 280 fits\n"
     ]
    },
    {
     "name": "stderr",
     "output_type": "stream",
     "text": [
      "[Parallel(n_jobs=6)]: Done  38 tasks      | elapsed:   42.4s\n",
      "[Parallel(n_jobs=6)]: Done 188 tasks      | elapsed:  5.8min\n",
      "[Parallel(n_jobs=6)]: Done 280 out of 280 | elapsed:  9.0min finished\n"
     ]
    },
    {
     "name": "stdout",
     "output_type": "stream",
     "text": [
      "grid_acc cv=7 0.9381 +- 0.001 | model_auc: 0.5448 | model_acc: 0.9518 | model_p: 0.4759 | model_r: 0.5000 | model_fs: 0.4876\n",
      "Fitting 8 folds for each of 40 candidates, totalling 320 fits\n"
     ]
    },
    {
     "name": "stderr",
     "output_type": "stream",
     "text": [
      "[Parallel(n_jobs=6)]: Done  38 tasks      | elapsed:   32.4s\n",
      "[Parallel(n_jobs=6)]: Done 188 tasks      | elapsed:  6.0min\n",
      "[Parallel(n_jobs=6)]: Done 320 out of 320 | elapsed: 10.8min finished\n"
     ]
    },
    {
     "name": "stdout",
     "output_type": "stream",
     "text": [
      "grid_acc cv=8 0.9381 +- 0.001 | model_auc: 0.5443 | model_acc: 0.9518 | model_p: 0.4759 | model_r: 0.5000 | model_fs: 0.4876\n",
      "Fitting 9 folds for each of 40 candidates, totalling 360 fits\n"
     ]
    },
    {
     "name": "stderr",
     "output_type": "stream",
     "text": [
      "[Parallel(n_jobs=6)]: Done  38 tasks      | elapsed:   32.5s\n",
      "[Parallel(n_jobs=6)]: Done 188 tasks      | elapsed:  5.8min\n",
      "[Parallel(n_jobs=6)]: Done 360 out of 360 | elapsed: 12.4min finished\n"
     ]
    },
    {
     "name": "stdout",
     "output_type": "stream",
     "text": [
      "grid_acc cv=9 0.9381 +- 0.001 | model_auc: 0.4557 | model_acc: 0.9518 | model_p: 0.4759 | model_r: 0.5000 | model_fs: 0.4876\n",
      "Fitting 10 folds for each of 40 candidates, totalling 400 fits\n"
     ]
    },
    {
     "name": "stderr",
     "output_type": "stream",
     "text": [
      "[Parallel(n_jobs=6)]: Done  38 tasks      | elapsed:   21.2s\n",
      "[Parallel(n_jobs=6)]: Done 188 tasks      | elapsed:  5.9min\n",
      "[Parallel(n_jobs=6)]: Done 400 out of 400 | elapsed: 14.2min finished\n"
     ]
    },
    {
     "name": "stdout",
     "output_type": "stream",
     "text": [
      "grid_acc cv=10 0.9381 +- 0.001 | model_auc: 0.5448 | model_acc: 0.9518 | model_p: 0.4759 | model_r: 0.5000 | model_fs: 0.4876\n",
      "Classifier: KNN\n",
      "Fitting 2 folds for each of 19 candidates, totalling 38 fits\n"
     ]
    },
    {
     "name": "stderr",
     "output_type": "stream",
     "text": [
      "[Parallel(n_jobs=6)]: Done  38 out of  38 | elapsed:    9.4s finished\n"
     ]
    },
    {
     "name": "stdout",
     "output_type": "stream",
     "text": [
      "grid_acc cv=2 0.9381 +- 0.000 | model_auc: 0.5238 | model_acc: 0.9518 | model_p: 0.4759 | model_r: 0.5000 | model_fs: 0.4876\n",
      "Fitting 3 folds for each of 19 candidates, totalling 57 fits\n"
     ]
    },
    {
     "name": "stderr",
     "output_type": "stream",
     "text": [
      "[Parallel(n_jobs=6)]: Done  38 tasks      | elapsed:    9.5s\n",
      "[Parallel(n_jobs=6)]: Done  57 out of  57 | elapsed:   10.3s finished\n"
     ]
    },
    {
     "name": "stdout",
     "output_type": "stream",
     "text": [
      "grid_acc cv=3 0.9381 +- 0.000 | model_auc: 0.5447 | model_acc: 0.9518 | model_p: 0.4759 | model_r: 0.5000 | model_fs: 0.4876\n",
      "Fitting 4 folds for each of 19 candidates, totalling 76 fits\n"
     ]
    },
    {
     "name": "stderr",
     "output_type": "stream",
     "text": [
      "[Parallel(n_jobs=6)]: Done  38 tasks      | elapsed:    9.7s\n",
      "[Parallel(n_jobs=6)]: Done  76 out of  76 | elapsed:   11.2s finished\n"
     ]
    },
    {
     "name": "stdout",
     "output_type": "stream",
     "text": [
      "grid_acc cv=4 0.9381 +- 0.000 | model_auc: 0.5447 | model_acc: 0.9518 | model_p: 0.4759 | model_r: 0.5000 | model_fs: 0.4876\n",
      "Fitting 5 folds for each of 19 candidates, totalling 95 fits\n"
     ]
    },
    {
     "name": "stderr",
     "output_type": "stream",
     "text": [
      "[Parallel(n_jobs=6)]: Done  38 tasks      | elapsed:    9.6s\n",
      "[Parallel(n_jobs=6)]: Done  95 out of  95 | elapsed:   11.9s finished\n"
     ]
    },
    {
     "name": "stdout",
     "output_type": "stream",
     "text": [
      "grid_acc cv=5 0.9381 +- 0.000 | model_auc: 0.5238 | model_acc: 0.9518 | model_p: 0.4759 | model_r: 0.5000 | model_fs: 0.4876\n",
      "Fitting 6 folds for each of 19 candidates, totalling 114 fits\n"
     ]
    },
    {
     "name": "stderr",
     "output_type": "stream",
     "text": [
      "[Parallel(n_jobs=6)]: Done  38 tasks      | elapsed:    9.5s\n",
      "[Parallel(n_jobs=6)]: Done 114 out of 114 | elapsed:   12.7s finished\n"
     ]
    },
    {
     "name": "stdout",
     "output_type": "stream",
     "text": [
      "grid_acc cv=6 0.9381 +- 0.001 | model_auc: 0.5238 | model_acc: 0.9518 | model_p: 0.4759 | model_r: 0.5000 | model_fs: 0.4876\n",
      "Fitting 7 folds for each of 19 candidates, totalling 133 fits\n"
     ]
    },
    {
     "name": "stderr",
     "output_type": "stream",
     "text": [
      "[Parallel(n_jobs=6)]: Done  38 tasks      | elapsed:    9.6s\n",
      "[Parallel(n_jobs=6)]: Done 133 out of 133 | elapsed:   13.6s finished\n"
     ]
    },
    {
     "name": "stdout",
     "output_type": "stream",
     "text": [
      "grid_acc cv=7 0.9381 +- 0.001 | model_auc: 0.5238 | model_acc: 0.9518 | model_p: 0.4759 | model_r: 0.5000 | model_fs: 0.4876\n",
      "Fitting 8 folds for each of 19 candidates, totalling 152 fits\n"
     ]
    },
    {
     "name": "stderr",
     "output_type": "stream",
     "text": [
      "[Parallel(n_jobs=6)]: Done  38 tasks      | elapsed:    9.6s\n",
      "[Parallel(n_jobs=6)]: Done 152 out of 152 | elapsed:   14.5s finished\n"
     ]
    },
    {
     "name": "stdout",
     "output_type": "stream",
     "text": [
      "grid_acc cv=8 0.9381 +- 0.001 | model_auc: 0.5238 | model_acc: 0.9518 | model_p: 0.4759 | model_r: 0.5000 | model_fs: 0.4876\n",
      "Fitting 9 folds for each of 19 candidates, totalling 171 fits\n"
     ]
    },
    {
     "name": "stderr",
     "output_type": "stream",
     "text": [
      "[Parallel(n_jobs=6)]: Done  38 tasks      | elapsed:    9.2s\n",
      "[Parallel(n_jobs=6)]: Done 171 out of 171 | elapsed:   15.0s finished\n"
     ]
    },
    {
     "name": "stdout",
     "output_type": "stream",
     "text": [
      "grid_acc cv=9 0.9381 +- 0.001 | model_auc: 0.5238 | model_acc: 0.9518 | model_p: 0.4759 | model_r: 0.5000 | model_fs: 0.4876\n",
      "Fitting 10 folds for each of 19 candidates, totalling 190 fits\n"
     ]
    },
    {
     "name": "stderr",
     "output_type": "stream",
     "text": [
      "[Parallel(n_jobs=6)]: Done  38 tasks      | elapsed:    9.5s\n",
      "[Parallel(n_jobs=6)]: Done 190 out of 190 | elapsed:   16.0s finished\n"
     ]
    },
    {
     "name": "stdout",
     "output_type": "stream",
     "text": [
      "grid_acc cv=10 0.9381 +- 0.001 | model_auc: 0.5238 | model_acc: 0.9518 | model_p: 0.4759 | model_r: 0.5000 | model_fs: 0.4876\n",
      "Classifier: PCAKNN\n",
      "Fitting 2 folds for each of 8 candidates, totalling 16 fits\n"
     ]
    },
    {
     "name": "stderr",
     "output_type": "stream",
     "text": [
      "[Parallel(n_jobs=6)]: Done  16 out of  16 | elapsed:   11.8s finished\n"
     ]
    },
    {
     "name": "stdout",
     "output_type": "stream",
     "text": [
      "grid_acc cv=2 0.9374 +- 0.000 | model_auc: 0.5323 | model_acc: 0.9509 | model_p: 0.4759 | model_r: 0.4995 | model_fs: 0.4874\n",
      "Fitting 3 folds for each of 8 candidates, totalling 24 fits\n"
     ]
    },
    {
     "name": "stderr",
     "output_type": "stream",
     "text": [
      "[Parallel(n_jobs=6)]: Done  24 out of  24 | elapsed:   11.9s finished\n"
     ]
    },
    {
     "name": "stdout",
     "output_type": "stream",
     "text": [
      "grid_acc cv=3 0.9376 +- 0.001 | model_auc: 0.5219 | model_acc: 0.9509 | model_p: 0.4759 | model_r: 0.4995 | model_fs: 0.4874\n",
      "Fitting 4 folds for each of 8 candidates, totalling 32 fits\n"
     ]
    },
    {
     "name": "stderr",
     "output_type": "stream",
     "text": [
      "[Parallel(n_jobs=6)]: Done  32 out of  32 | elapsed:   11.9s finished\n"
     ]
    },
    {
     "name": "stdout",
     "output_type": "stream",
     "text": [
      "grid_acc cv=4 0.9376 +- 0.000 | model_auc: 0.5180 | model_acc: 0.9482 | model_p: 0.4758 | model_r: 0.4982 | model_fs: 0.4867\n",
      "Fitting 5 folds for each of 8 candidates, totalling 40 fits\n"
     ]
    },
    {
     "name": "stderr",
     "output_type": "stream",
     "text": [
      "[Parallel(n_jobs=6)]: Done  40 out of  40 | elapsed:   12.1s finished\n"
     ]
    },
    {
     "name": "stdout",
     "output_type": "stream",
     "text": [
      "grid_acc cv=5 0.9366 +- 0.001 | model_auc: 0.5180 | model_acc: 0.9482 | model_p: 0.4758 | model_r: 0.4982 | model_fs: 0.4867\n",
      "Fitting 6 folds for each of 8 candidates, totalling 48 fits\n"
     ]
    },
    {
     "name": "stderr",
     "output_type": "stream",
     "text": [
      "[Parallel(n_jobs=6)]: Done  48 out of  48 | elapsed:   12.4s finished\n"
     ]
    },
    {
     "name": "stdout",
     "output_type": "stream",
     "text": [
      "grid_acc cv=6 0.9374 +- 0.001 | model_auc: 0.5180 | model_acc: 0.9482 | model_p: 0.4758 | model_r: 0.4982 | model_fs: 0.4867\n",
      "Fitting 7 folds for each of 8 candidates, totalling 56 fits\n"
     ]
    },
    {
     "name": "stderr",
     "output_type": "stream",
     "text": [
      "[Parallel(n_jobs=6)]: Done  38 tasks      | elapsed:   12.2s\n",
      "[Parallel(n_jobs=6)]: Done  56 out of  56 | elapsed:   12.7s finished\n"
     ]
    },
    {
     "name": "stdout",
     "output_type": "stream",
     "text": [
      "grid_acc cv=7 0.9368 +- 0.002 | model_auc: 0.5217 | model_acc: 0.9491 | model_p: 0.4758 | model_r: 0.4986 | model_fs: 0.4869\n",
      "Fitting 8 folds for each of 8 candidates, totalling 64 fits\n"
     ]
    },
    {
     "name": "stderr",
     "output_type": "stream",
     "text": [
      "[Parallel(n_jobs=6)]: Done  38 tasks      | elapsed:   12.1s\n",
      "[Parallel(n_jobs=6)]: Done  64 out of  64 | elapsed:   12.9s finished\n"
     ]
    },
    {
     "name": "stdout",
     "output_type": "stream",
     "text": [
      "grid_acc cv=8 0.9371 +- 0.002 | model_auc: 0.5219 | model_acc: 0.9509 | model_p: 0.4759 | model_r: 0.4995 | model_fs: 0.4874\n",
      "Fitting 9 folds for each of 8 candidates, totalling 72 fits\n"
     ]
    },
    {
     "name": "stderr",
     "output_type": "stream",
     "text": [
      "[Parallel(n_jobs=6)]: Done  38 tasks      | elapsed:   12.1s\n",
      "[Parallel(n_jobs=6)]: Done  72 out of  72 | elapsed:   13.0s finished\n"
     ]
    },
    {
     "name": "stdout",
     "output_type": "stream",
     "text": [
      "grid_acc cv=9 0.9368 +- 0.002 | model_auc: 0.5180 | model_acc: 0.9482 | model_p: 0.4758 | model_r: 0.4982 | model_fs: 0.4867\n",
      "Fitting 10 folds for each of 8 candidates, totalling 80 fits\n"
     ]
    },
    {
     "name": "stderr",
     "output_type": "stream",
     "text": [
      "[Parallel(n_jobs=6)]: Done  38 tasks      | elapsed:   12.1s\n",
      "[Parallel(n_jobs=6)]: Done  80 out of  80 | elapsed:   13.2s finished\n"
     ]
    },
    {
     "name": "stdout",
     "output_type": "stream",
     "text": [
      "grid_acc cv=10 0.9368 +- 0.002 | model_auc: 0.5219 | model_acc: 0.9509 | model_p: 0.4759 | model_r: 0.4995 | model_fs: 0.4874\n",
      "Classifier: XGB\n",
      "Fitting 2 folds for each of 16 candidates, totalling 32 fits\n"
     ]
    },
    {
     "name": "stderr",
     "output_type": "stream",
     "text": [
      "[Parallel(n_jobs=6)]: Done  32 out of  32 | elapsed:   13.3s finished\n"
     ]
    },
    {
     "name": "stdout",
     "output_type": "stream",
     "text": [
      "grid_acc cv=2 0.9376 +- 0.001 | model_auc: 0.8451 | model_acc: 0.9509 | model_p: 0.4759 | model_r: 0.4995 | model_fs: 0.4874\n",
      "Fitting 3 folds for each of 16 candidates, totalling 48 fits\n"
     ]
    },
    {
     "name": "stderr",
     "output_type": "stream",
     "text": [
      "[Parallel(n_jobs=6)]: Done  48 out of  48 | elapsed:   17.4s finished\n"
     ]
    },
    {
     "name": "stdout",
     "output_type": "stream",
     "text": [
      "grid_acc cv=3 0.9379 +- 0.001 | model_auc: 0.8451 | model_acc: 0.9509 | model_p: 0.4759 | model_r: 0.4995 | model_fs: 0.4874\n",
      "Fitting 4 folds for each of 16 candidates, totalling 64 fits\n"
     ]
    },
    {
     "name": "stderr",
     "output_type": "stream",
     "text": [
      "[Parallel(n_jobs=6)]: Done  38 tasks      | elapsed:   13.4s\n",
      "[Parallel(n_jobs=6)]: Done  64 out of  64 | elapsed:   22.1s finished\n"
     ]
    },
    {
     "name": "stdout",
     "output_type": "stream",
     "text": [
      "grid_acc cv=4 0.9376 +- 0.001 | model_auc: 0.8451 | model_acc: 0.9509 | model_p: 0.4759 | model_r: 0.4995 | model_fs: 0.4874\n",
      "Fitting 5 folds for each of 16 candidates, totalling 80 fits\n"
     ]
    },
    {
     "name": "stderr",
     "output_type": "stream",
     "text": [
      "[Parallel(n_jobs=6)]: Done  38 tasks      | elapsed:   13.5s\n",
      "[Parallel(n_jobs=6)]: Done  80 out of  80 | elapsed:   26.6s finished\n"
     ]
    },
    {
     "name": "stdout",
     "output_type": "stream",
     "text": [
      "grid_acc cv=5 0.9379 +- 0.002 | model_auc: 0.8469 | model_acc: 0.9518 | model_p: 0.7267 | model_r: 0.5173 | model_fs: 0.5215\n",
      "Fitting 6 folds for each of 16 candidates, totalling 96 fits\n"
     ]
    },
    {
     "name": "stderr",
     "output_type": "stream",
     "text": [
      "[Parallel(n_jobs=6)]: Done  38 tasks      | elapsed:   12.9s\n",
      "[Parallel(n_jobs=6)]: Done  96 out of  96 | elapsed:   30.4s finished\n"
     ]
    },
    {
     "name": "stdout",
     "output_type": "stream",
     "text": [
      "grid_acc cv=6 0.9381 +- 0.001 | model_auc: 0.8451 | model_acc: 0.9509 | model_p: 0.4759 | model_r: 0.4995 | model_fs: 0.4874\n",
      "Fitting 7 folds for each of 16 candidates, totalling 112 fits\n"
     ]
    },
    {
     "name": "stderr",
     "output_type": "stream",
     "text": [
      "[Parallel(n_jobs=6)]: Done  38 tasks      | elapsed:   12.3s\n",
      "[Parallel(n_jobs=6)]: Done 112 out of 112 | elapsed:   36.3s finished\n"
     ]
    },
    {
     "name": "stdout",
     "output_type": "stream",
     "text": [
      "grid_acc cv=7 0.9381 +- 0.001 | model_auc: 0.8451 | model_acc: 0.9509 | model_p: 0.4759 | model_r: 0.4995 | model_fs: 0.4874\n",
      "Fitting 8 folds for each of 16 candidates, totalling 128 fits\n"
     ]
    },
    {
     "name": "stderr",
     "output_type": "stream",
     "text": [
      "[Parallel(n_jobs=6)]: Done  38 tasks      | elapsed:   12.0s\n",
      "[Parallel(n_jobs=6)]: Done 128 out of 128 | elapsed:   41.2s finished\n"
     ]
    },
    {
     "name": "stdout",
     "output_type": "stream",
     "text": [
      "grid_acc cv=8 0.9376 +- 0.002 | model_auc: 0.8451 | model_acc: 0.9509 | model_p: 0.4759 | model_r: 0.4995 | model_fs: 0.4874\n",
      "Fitting 9 folds for each of 16 candidates, totalling 144 fits\n"
     ]
    },
    {
     "name": "stderr",
     "output_type": "stream",
     "text": [
      "[Parallel(n_jobs=6)]: Done  38 tasks      | elapsed:   12.1s\n",
      "[Parallel(n_jobs=6)]: Done 144 out of 144 | elapsed:   44.2s finished\n"
     ]
    },
    {
     "name": "stdout",
     "output_type": "stream",
     "text": [
      "grid_acc cv=9 0.9384 +- 0.003 | model_auc: 0.8469 | model_acc: 0.9518 | model_p: 0.7267 | model_r: 0.5173 | model_fs: 0.5215\n",
      "Fitting 10 folds for each of 16 candidates, totalling 160 fits\n"
     ]
    },
    {
     "name": "stderr",
     "output_type": "stream",
     "text": [
      "[Parallel(n_jobs=6)]: Done  38 tasks      | elapsed:   12.3s\n",
      "[Parallel(n_jobs=6)]: Done 160 out of 160 | elapsed:   50.4s finished\n"
     ]
    },
    {
     "name": "stdout",
     "output_type": "stream",
     "text": [
      "grid_acc cv=10 0.9379 +- 0.004 | model_auc: 0.8434 | model_acc: 0.9526 | model_p: 0.7632 | model_r: 0.5350 | model_fs: 0.5523\n"
     ]
    }
   ],
   "source": [
    "from sklearn.model_selection import GridSearchCV, StratifiedKFold, StratifiedShuffleSplit\n",
    "from sklearn.metrics import make_scorer, accuracy_score, precision_score, recall_score, f1_score, roc_auc_score\n",
    "from sklearn import model_selection\n",
    "\n",
    "scoring = {'accuracy' : make_scorer(accuracy_score), \n",
    "           'precision' : make_scorer(precision_score),\n",
    "           'recall' : make_scorer(recall_score), \n",
    "           'f1_score' : make_scorer(f1_score),\n",
    "          'auc':make_scorer(roc_auc_score)}\n",
    "\n",
    "for clf in clfs.keys():\n",
    "    print(\"Classifier:\",clf)\n",
    "    for i in range(2,11):\n",
    "\n",
    "        kf = StratifiedKFold(n_splits=i, shuffle=True, random_state=RANDOM_STATE)\n",
    "\n",
    "        if clf == 'RF':\n",
    "            grid = RandomizedSearchCV(clfs[clf], clf_params[clf], \\\n",
    "                                      cv=kf, n_jobs=N_JOBS, n_iter=300, \\\n",
    "                                      random_state=RANDOM_STATE, verbose=1, scoring=scoring, refit='precision')\n",
    "        else:\n",
    "            grid = GridSearchCV(clfs[clf], clf_params[clf], cv=kf, n_jobs=N_JOBS, verbose=1\\\n",
    "                                , scoring=scoring, refit='precision')\n",
    "        \n",
    "        grid.fit(X, y)\n",
    "\n",
    "        clfs_results[clf][i] = grid_results(grid)\n",
    "        print(\n",
    "            \"grid_acc cv={} %.4f +- %.3f |\".format(i) % (clfs_results[clf][i]['grid_best_score']\n",
    "                                                             ,clfs_results[clf][i]['grid_std']), \n",
    "            \"model_auc: %.4f |\" % clfs_results[clf][i]['best_model_test_auc'],\n",
    "            \"model_acc: %.4f |\" % clfs_results[clf][i]['best_model_test_score'],\n",
    "            \"model_p: %.4f |\" % clfs_results[clf][i]['best_model_precision'],\n",
    "            \"model_r: %.4f |\" % clfs_results[clf][i]['best_model_recall'],\n",
    "            \"model_fs: %.4f\" % clfs_results[clf][i]['best_model_fscore'],\n",
    "            \n",
    "             )\n",
    "    "
   ]
  },
  {
   "cell_type": "code",
   "execution_count": 542,
   "metadata": {
    "scrolled": true
   },
   "outputs": [
    {
     "name": "stdout",
     "output_type": "stream",
     "text": [
      "Classifier:  LR\n",
      "grid_acc cv=2 0.9381 +- 0.000 | model_auc: 0.4734 | model_acc: 0.9518 | model_p: 0.4759 | model_r: 0.5000 | model_fs: 0.4876\n",
      "grid_acc cv=3 0.9381 +- 0.000 | model_auc: 0.4734 | model_acc: 0.9518 | model_p: 0.4759 | model_r: 0.5000 | model_fs: 0.4876\n",
      "grid_acc cv=4 0.9381 +- 0.000 | model_auc: 0.4734 | model_acc: 0.9518 | model_p: 0.4759 | model_r: 0.5000 | model_fs: 0.4876\n",
      "grid_acc cv=5 0.9381 +- 0.000 | model_auc: 0.4734 | model_acc: 0.9518 | model_p: 0.4759 | model_r: 0.5000 | model_fs: 0.4876\n",
      "grid_acc cv=6 0.9381 +- 0.001 | model_auc: 0.4734 | model_acc: 0.9518 | model_p: 0.4759 | model_r: 0.5000 | model_fs: 0.4876\n",
      "grid_acc cv=7 0.9381 +- 0.001 | model_auc: 0.4734 | model_acc: 0.9518 | model_p: 0.4759 | model_r: 0.5000 | model_fs: 0.4876\n",
      "grid_acc cv=8 0.9381 +- 0.001 | model_auc: 0.4734 | model_acc: 0.9518 | model_p: 0.4759 | model_r: 0.5000 | model_fs: 0.4876\n",
      "grid_acc cv=9 0.9381 +- 0.001 | model_auc: 0.4734 | model_acc: 0.9518 | model_p: 0.4759 | model_r: 0.5000 | model_fs: 0.4876\n",
      "grid_acc cv=10 0.9381 +- 0.001 | model_auc: 0.4734 | model_acc: 0.9518 | model_p: 0.4759 | model_r: 0.5000 | model_fs: 0.4876\n",
      "Classifier:  DT\n",
      "grid_acc cv=2 0.9389 +- 0.001 | model_auc: 0.5672 | model_acc: 0.9518 | model_p: 0.4759 | model_r: 0.5000 | model_fs: 0.4876\n",
      "grid_acc cv=3 0.9397 +- 0.001 | model_auc: 0.6817 | model_acc: 0.9518 | model_p: 0.4759 | model_r: 0.5000 | model_fs: 0.4876\n",
      "grid_acc cv=4 0.9392 +- 0.002 | model_auc: 0.5816 | model_acc: 0.9518 | model_p: 0.4759 | model_r: 0.5000 | model_fs: 0.4876\n",
      "grid_acc cv=5 0.9392 +- 0.002 | model_auc: 0.8045 | model_acc: 0.9518 | model_p: 0.7275 | model_r: 0.5345 | model_fs: 0.5511\n",
      "grid_acc cv=6 0.9392 +- 0.002 | model_auc: 0.7930 | model_acc: 0.9482 | model_p: 0.6270 | model_r: 0.5240 | model_fs: 0.5328\n",
      "grid_acc cv=7 0.9402 +- 0.004 | model_auc: 0.7378 | model_acc: 0.9491 | model_p: 0.4758 | model_r: 0.4986 | model_fs: 0.4869\n",
      "grid_acc cv=8 0.9392 +- 0.003 | model_auc: 0.8061 | model_acc: 0.9491 | model_p: 0.6437 | model_r: 0.5245 | model_fs: 0.5338\n",
      "grid_acc cv=9 0.9397 +- 0.003 | model_auc: 0.7964 | model_acc: 0.9518 | model_p: 0.4759 | model_r: 0.5000 | model_fs: 0.4876\n",
      "grid_acc cv=10 0.9395 +- 0.003 | model_auc: 0.7093 | model_acc: 0.9500 | model_p: 0.6645 | model_r: 0.5250 | model_fs: 0.5348\n",
      "Classifier:  RF\n",
      "grid_acc cv=2 0.9387 +- 0.000 | model_auc: 0.8237 | model_acc: 0.9526 | model_p: 0.9763 | model_r: 0.5091 | model_fs: 0.5057\n",
      "grid_acc cv=3 0.9392 +- 0.001 | model_auc: 0.8136 | model_acc: 0.9526 | model_p: 0.7771 | model_r: 0.5264 | model_fs: 0.5378\n",
      "grid_acc cv=4 0.9395 +- 0.001 | model_auc: 0.8224 | model_acc: 0.9535 | model_p: 0.8108 | model_r: 0.5354 | model_fs: 0.5536\n",
      "grid_acc cv=5 0.9392 +- 0.002 | model_auc: 0.8298 | model_acc: 0.9526 | model_p: 0.9763 | model_r: 0.5091 | model_fs: 0.5057\n",
      "grid_acc cv=6 0.9387 +- 0.001 | model_auc: 0.8129 | model_acc: 0.9509 | model_p: 0.4759 | model_r: 0.4995 | model_fs: 0.4874\n",
      "grid_acc cv=7 0.9392 +- 0.002 | model_auc: 0.8237 | model_acc: 0.9482 | model_p: 0.4758 | model_r: 0.4982 | model_fs: 0.4867\n",
      "grid_acc cv=8 0.9395 +- 0.001 | model_auc: 0.7577 | model_acc: 0.9518 | model_p: 0.4759 | model_r: 0.5000 | model_fs: 0.4876\n",
      "grid_acc cv=9 0.9397 +- 0.002 | model_auc: 0.8150 | model_acc: 0.9500 | model_p: 0.6645 | model_r: 0.5250 | model_fs: 0.5348\n",
      "grid_acc cv=10 0.9387 +- 0.002 | model_auc: 0.8297 | model_acc: 0.9518 | model_p: 0.7267 | model_r: 0.5173 | model_fs: 0.5215\n",
      "Classifier:  PCAKNN\n",
      "grid_acc cv=2 0.9374 +- 0.000 | model_auc: 0.5323 | model_acc: 0.9509 | model_p: 0.4759 | model_r: 0.4995 | model_fs: 0.4874\n",
      "grid_acc cv=3 0.9376 +- 0.001 | model_auc: 0.5219 | model_acc: 0.9509 | model_p: 0.4759 | model_r: 0.4995 | model_fs: 0.4874\n",
      "grid_acc cv=4 0.9376 +- 0.000 | model_auc: 0.5180 | model_acc: 0.9482 | model_p: 0.4758 | model_r: 0.4982 | model_fs: 0.4867\n",
      "grid_acc cv=5 0.9366 +- 0.001 | model_auc: 0.5180 | model_acc: 0.9482 | model_p: 0.4758 | model_r: 0.4982 | model_fs: 0.4867\n",
      "grid_acc cv=6 0.9374 +- 0.001 | model_auc: 0.5180 | model_acc: 0.9482 | model_p: 0.4758 | model_r: 0.4982 | model_fs: 0.4867\n",
      "grid_acc cv=7 0.9368 +- 0.002 | model_auc: 0.5217 | model_acc: 0.9491 | model_p: 0.4758 | model_r: 0.4986 | model_fs: 0.4869\n",
      "grid_acc cv=8 0.9371 +- 0.002 | model_auc: 0.5219 | model_acc: 0.9509 | model_p: 0.4759 | model_r: 0.4995 | model_fs: 0.4874\n",
      "grid_acc cv=9 0.9368 +- 0.002 | model_auc: 0.5180 | model_acc: 0.9482 | model_p: 0.4758 | model_r: 0.4982 | model_fs: 0.4867\n",
      "grid_acc cv=10 0.9368 +- 0.002 | model_auc: 0.5219 | model_acc: 0.9509 | model_p: 0.4759 | model_r: 0.4995 | model_fs: 0.4874\n",
      "Classifier:  KNN\n",
      "grid_acc cv=2 0.9381 +- 0.000 | model_auc: 0.5238 | model_acc: 0.9518 | model_p: 0.4759 | model_r: 0.5000 | model_fs: 0.4876\n",
      "grid_acc cv=3 0.9381 +- 0.000 | model_auc: 0.5447 | model_acc: 0.9518 | model_p: 0.4759 | model_r: 0.5000 | model_fs: 0.4876\n",
      "grid_acc cv=4 0.9381 +- 0.000 | model_auc: 0.5447 | model_acc: 0.9518 | model_p: 0.4759 | model_r: 0.5000 | model_fs: 0.4876\n",
      "grid_acc cv=5 0.9381 +- 0.000 | model_auc: 0.5238 | model_acc: 0.9518 | model_p: 0.4759 | model_r: 0.5000 | model_fs: 0.4876\n",
      "grid_acc cv=6 0.9381 +- 0.001 | model_auc: 0.5238 | model_acc: 0.9518 | model_p: 0.4759 | model_r: 0.5000 | model_fs: 0.4876\n",
      "grid_acc cv=7 0.9381 +- 0.001 | model_auc: 0.5238 | model_acc: 0.9518 | model_p: 0.4759 | model_r: 0.5000 | model_fs: 0.4876\n",
      "grid_acc cv=8 0.9381 +- 0.001 | model_auc: 0.5238 | model_acc: 0.9518 | model_p: 0.4759 | model_r: 0.5000 | model_fs: 0.4876\n",
      "grid_acc cv=9 0.9381 +- 0.001 | model_auc: 0.5238 | model_acc: 0.9518 | model_p: 0.4759 | model_r: 0.5000 | model_fs: 0.4876\n",
      "grid_acc cv=10 0.9381 +- 0.001 | model_auc: 0.5238 | model_acc: 0.9518 | model_p: 0.4759 | model_r: 0.5000 | model_fs: 0.4876\n",
      "Classifier:  XGB\n",
      "grid_acc cv=2 0.9376 +- 0.001 | model_auc: 0.8451 | model_acc: 0.9509 | model_p: 0.4759 | model_r: 0.4995 | model_fs: 0.4874\n",
      "grid_acc cv=3 0.9379 +- 0.001 | model_auc: 0.8451 | model_acc: 0.9509 | model_p: 0.4759 | model_r: 0.4995 | model_fs: 0.4874\n",
      "grid_acc cv=4 0.9376 +- 0.001 | model_auc: 0.8451 | model_acc: 0.9509 | model_p: 0.4759 | model_r: 0.4995 | model_fs: 0.4874\n",
      "grid_acc cv=5 0.9379 +- 0.002 | model_auc: 0.8469 | model_acc: 0.9518 | model_p: 0.7267 | model_r: 0.5173 | model_fs: 0.5215\n",
      "grid_acc cv=6 0.9381 +- 0.001 | model_auc: 0.8451 | model_acc: 0.9509 | model_p: 0.4759 | model_r: 0.4995 | model_fs: 0.4874\n",
      "grid_acc cv=7 0.9381 +- 0.001 | model_auc: 0.8451 | model_acc: 0.9509 | model_p: 0.4759 | model_r: 0.4995 | model_fs: 0.4874\n",
      "grid_acc cv=8 0.9376 +- 0.002 | model_auc: 0.8451 | model_acc: 0.9509 | model_p: 0.4759 | model_r: 0.4995 | model_fs: 0.4874\n",
      "grid_acc cv=9 0.9384 +- 0.003 | model_auc: 0.8469 | model_acc: 0.9518 | model_p: 0.7267 | model_r: 0.5173 | model_fs: 0.5215\n",
      "grid_acc cv=10 0.9379 +- 0.004 | model_auc: 0.8434 | model_acc: 0.9526 | model_p: 0.7632 | model_r: 0.5350 | model_fs: 0.5523\n",
      "Classifier:  SVM\n",
      "grid_acc cv=2 0.9381 +- 0.000 | model_auc: 0.5443 | model_acc: 0.9518 | model_p: 0.4759 | model_r: 0.5000 | model_fs: 0.4876\n",
      "grid_acc cv=3 0.9381 +- 0.000 | model_auc: 0.5443 | model_acc: 0.9518 | model_p: 0.4759 | model_r: 0.5000 | model_fs: 0.4876\n",
      "grid_acc cv=4 0.9381 +- 0.000 | model_auc: 0.4561 | model_acc: 0.9518 | model_p: 0.4759 | model_r: 0.5000 | model_fs: 0.4876\n",
      "grid_acc cv=5 0.9381 +- 0.000 | model_auc: 0.4557 | model_acc: 0.9518 | model_p: 0.4759 | model_r: 0.5000 | model_fs: 0.4876\n",
      "grid_acc cv=6 0.9381 +- 0.001 | model_auc: 0.5448 | model_acc: 0.9518 | model_p: 0.4759 | model_r: 0.5000 | model_fs: 0.4876\n",
      "grid_acc cv=7 0.9381 +- 0.001 | model_auc: 0.5448 | model_acc: 0.9518 | model_p: 0.4759 | model_r: 0.5000 | model_fs: 0.4876\n",
      "grid_acc cv=8 0.9381 +- 0.001 | model_auc: 0.5443 | model_acc: 0.9518 | model_p: 0.4759 | model_r: 0.5000 | model_fs: 0.4876\n",
      "grid_acc cv=9 0.9381 +- 0.001 | model_auc: 0.4557 | model_acc: 0.9518 | model_p: 0.4759 | model_r: 0.5000 | model_fs: 0.4876\n",
      "grid_acc cv=10 0.9381 +- 0.001 | model_auc: 0.5448 | model_acc: 0.9518 | model_p: 0.4759 | model_r: 0.5000 | model_fs: 0.4876\n"
     ]
    }
   ],
   "source": [
    "for clf in clfs_results.keys():\n",
    "    print(\"Classifier: \", clf)\n",
    "    for cv in clfs_results[clf].keys():\n",
    "                print(\n",
    "            \"grid_acc cv={} %.4f +- %.3f |\".format(cv) % (clfs_results[clf][cv]['grid_best_score']\n",
    "                                                             ,clfs_results[clf][cv]['grid_std']), \n",
    "            \"model_auc: %.4f |\" % clfs_results[clf][cv]['best_model_test_auc'],\n",
    "            \"model_acc: %.4f |\" % clfs_results[clf][cv]['best_model_test_score'],\n",
    "            \"model_p: %.4f |\" % clfs_results[clf][cv]['best_model_precision'],\n",
    "            \"model_r: %.4f |\" % clfs_results[clf][cv]['best_model_recall'],\n",
    "            \"model_fs: %.4f\" % clfs_results[clf][cv]['best_model_fscore'],\n",
    "            \n",
    "             )"
   ]
  },
  {
   "cell_type": "code",
   "execution_count": 561,
   "metadata": {},
   "outputs": [],
   "source": [
    "# SAVE RESULTS\n",
    "from sklearn.externals import joblib\n",
    "import copy \n",
    "results_copy = copy.deepcopy(clfs_results)\n",
    "\n",
    "\n",
    "for clf in results_copy.keys():\n",
    "    folder = 'models_persistance\\\\{}\\\\'.format(clf)\n",
    "    \n",
    "    if not os.path.exists(folder):\n",
    "        os.mkdir(folder)\n",
    "    \n",
    "    for cv in results_copy[clf].keys():\n",
    "        to_save = results_copy[clf][cv]['grid_best_model']\n",
    "        joblib.dump(to_save,'{}{}_compra_model.joblib'.format(folder, clf))\n",
    "        results_copy[clf][cv]['grid_best_model'] = ''\n",
    "        results_copy[clf][cv]['grid_std'] = results_copy[clf][cv]['grid_std'].tolist()\n",
    "        pd.DataFrame(results_copy[clf][cv]['grid_cvresults']).to_excel('{}{}_{}_grid_compra.xlsx'.format(folder, clf, cv))\n",
    "        results_copy[clf][cv]['grid_cvresults'] = ''\n",
    "        results_copy[clf][cv]['best_model_test_ypred'] = results_copy[clf][cv]['best_model_test_ypred'].tolist()\n",
    "\n",
    "import json\n",
    "\n",
    "with open('compra_results.json', 'w') as fp:\n",
    "    json.dump(results_copy, fp)"
   ]
  },
  {
   "cell_type": "code",
   "execution_count": 576,
   "metadata": {},
   "outputs": [
    {
     "data": {
      "text/html": [
       "<iframe id=\"igraph\" scrolling=\"no\" style=\"border:none;\" seamless=\"seamless\" src=\"https://plot.ly/~jcardenas.lie/54.embed\" height=\"525px\" width=\"100%\"></iframe>"
      ],
      "text/plain": [
       "<plotly.tools.PlotlyDisplay object>"
      ]
     },
     "execution_count": 576,
     "metadata": {},
     "output_type": "execute_result"
    }
   ],
   "source": [
    "import plotly.plotly as py\n",
    "import plotly.graph_objs as go\n",
    "\n",
    "def box_plot(metric):\n",
    "    data = []\n",
    "\n",
    "    for clf in clfs_results.keys():\n",
    "        y = []\n",
    "        for cv in clfs_results[clf].keys():\n",
    "            y.append(clfs_results[clf][cv][metric])\n",
    "        data.append(go.Box(\n",
    "            y=y,\n",
    "            name=clf\n",
    "        ))\n",
    "\n",
    "\n",
    "    layout = go.Layout(\n",
    "        title = \"Box Plot {}\".format(metric)\n",
    "    )\n",
    "\n",
    "    fig = go.Figure(data=data, layout=layout)\n",
    "    return fig\n",
    "\n",
    "fig = box_plot('grid_')\n",
    "py.iplot(fig)"
   ]
  },
  {
   "cell_type": "code",
   "execution_count": 577,
   "metadata": {},
   "outputs": [
    {
     "data": {
      "text/html": [
       "<iframe id=\"igraph\" scrolling=\"no\" style=\"border:none;\" seamless=\"seamless\" src=\"https://plot.ly/~jcardenas.lie/56.embed\" height=\"525px\" width=\"100%\"></iframe>"
      ],
      "text/plain": [
       "<plotly.tools.PlotlyDisplay object>"
      ]
     },
     "execution_count": 577,
     "metadata": {},
     "output_type": "execute_result"
    }
   ],
   "source": [
    "fig = box_plot('grid_best_score')\n",
    "py.iplot(fig)"
   ]
  },
  {
   "cell_type": "code",
   "execution_count": 541,
   "metadata": {},
   "outputs": [
    {
     "data": {
      "text/plain": [
       "False"
      ]
     },
     "execution_count": 541,
     "metadata": {},
     "output_type": "execute_result"
    }
   ],
   "source": [
    "results_copy is clfs_results"
   ]
  },
  {
   "cell_type": "code",
   "execution_count": null,
   "metadata": {},
   "outputs": [],
   "source": [
    "pd.DataFrame(clfs_results['lr'][2]['grid_cvresults'])"
   ]
  },
  {
   "cell_type": "code",
   "execution_count": 427,
   "metadata": {},
   "outputs": [
    {
     "data": {
      "image/png": "[encoded data removed]",
      "text/plain": [
       "<matplotlib.figure.Figure at 0x2b3473fff28>"
      ]
     },
     "metadata": {},
     "output_type": "display_data"
    },
    {
     "data": {
      "image/png": "[encoded data removed]",
      "text/plain": [
       "<matplotlib.figure.Figure at 0x2b347394550>"
      ]
     },
     "metadata": {},
     "output_type": "display_data"
    }
   ],
   "source": [
    "def bar_results(rd, model_name, metric, xlabel, ylabel, title):\n",
    "    d = dict()\n",
    "\n",
    "    for result in rd[model_name].keys():\n",
    "        d[result] = rd[model_name][result][metric]\n",
    "\n",
    "    s = [(k, d[k]) for k in sorted(d, key=d.get, reverse=True)]\n",
    "\n",
    "    x_model = [x[0] for x in s]\n",
    "    x_value = [x[1] for x in s]\n",
    "\n",
    "    x = np.arange(len(clfs_results[model_name].keys()))\n",
    "\n",
    "    f = plt.figure(figsize=(6,4))\n",
    "    plt.title(title)\n",
    "    plt.xlabel(xlabel)\n",
    "    plt.ylabel(ylabel)\n",
    "    plt.bar(x, x_value)\n",
    "    plt.xticks(x, x_model)\n",
    "    plt.show()\n",
    "    \n",
    "bar_results(clfs_results, 'lr', 'grid_best_score', 'CV', 'ACC', 'GRID LR Fold Accuracy Mean')\n",
    "bar_results(clfs_results, 'lr', 'best_model_test_auc', 'CV', 'AUC', 'LR Fold AUC')"
   ]
  },
  {
   "cell_type": "code",
   "execution_count": 579,
   "metadata": {},
   "outputs": [
    {
     "data": {
      "image/png": "[encoded data removed]",
      "text/plain": [
       "<matplotlib.figure.Figure at 0x2b3025532b0>"
      ]
     },
     "metadata": {},
     "output_type": "display_data"
    }
   ],
   "source": [
    "color_sequence = ['#f44242', '#f4eb41', '#acf441', '#285919', '#41f4eb',\n",
    "                  '#4146f4', '#7041f4', '#593518', '#f441f1', '#f44173']\n",
    "\n",
    "def roc_battle(clf):\n",
    "    \n",
    "    f = plt.figure(figsize=(15,12))\n",
    "    plt.plot([0, 1], [0, 1], 'k--')\n",
    "    rank= 0\n",
    "    legends = ['random choice']\n",
    "    for key, value in clfs_results[clf].items():\n",
    "        legends.append('cv %i: %.3f' %(key, clfs_results[clf][key]['best_model_test_auc']))\n",
    "        y_pred = clfs_results[clf][key]['best_model_test_ypred']\n",
    "        fpr, tpr, treshold = roc_curve(y_test, y_pred)\n",
    "        plt.plot(fpr, tpr, color=color_sequence[rank]) #fpr and tpr\n",
    "        rank +=1\n",
    "    plt.legend(legends)\n",
    "    \n",
    "    plt.xlabel('False Positive Rate')\n",
    "    plt.ylabel('True Positive Rate')\n",
    "    plt.title('{} Models ROC Curve'.format(DS_NAME))\n",
    "    plt.savefig('..\\\\results\\\\model_results_dataset{}\\\\{}\\\\{}_battle_roc_curve.png'.format(dataset_nro, DS_NAME, clf), dpi=300)\n",
    "    plt.show()\n",
    "\n",
    "roc_battle('XGB')"
   ]
  },
  {
   "cell_type": "code",
   "execution_count": 638,
   "metadata": {
    "scrolled": false
   },
   "outputs": [],
   "source": [
    "model = clfs_results['RF'][8]['grid_best_model']\n",
    "clf_probas = model.predict_proba(X_test)\n",
    "# classifier_insights(y_test, clf_probas, model,'XGB', f_importance=True)"
   ]
  },
  {
   "cell_type": "code",
   "execution_count": 631,
   "metadata": {},
   "outputs": [
    {
     "name": "stdout",
     "output_type": "stream",
     "text": [
      "DT_10_grid_compra.xlsx\n",
      "DT_2_grid_compra.xlsx\n",
      "DT_3_grid_compra.xlsx\n",
      "DT_4_grid_compra.xlsx\n",
      "DT_5_grid_compra.xlsx\n",
      "DT_6_grid_compra.xlsx\n",
      "DT_7_grid_compra.xlsx\n",
      "DT_8_grid_compra.xlsx\n",
      "DT_9_grid_compra.xlsx\n",
      "DT_compra_model.joblib\n",
      "KNN_10_grid_compra.xlsx\n",
      "KNN_2_grid_compra.xlsx\n",
      "KNN_3_grid_compra.xlsx\n",
      "KNN_4_grid_compra.xlsx\n",
      "KNN_5_grid_compra.xlsx\n",
      "KNN_6_grid_compra.xlsx\n",
      "KNN_7_grid_compra.xlsx\n",
      "KNN_8_grid_compra.xlsx\n",
      "KNN_9_grid_compra.xlsx\n",
      "KNN_compra_model.joblib\n",
      "LR_10_grid_compra.xlsx\n",
      "LR_2_grid_compra.xlsx\n",
      "LR_3_grid_compra.xlsx\n",
      "LR_4_grid_compra.xlsx\n",
      "LR_5_grid_compra.xlsx\n",
      "LR_6_grid_compra.xlsx\n",
      "LR_7_grid_compra.xlsx\n",
      "LR_8_grid_compra.xlsx\n",
      "LR_9_grid_compra.xlsx\n",
      "LR_compra_model.joblib\n",
      "PCAKNN_10_grid_compra.xlsx\n",
      "PCAKNN_2_grid_compra.xlsx\n",
      "PCAKNN_3_grid_compra.xlsx\n",
      "PCAKNN_4_grid_compra.xlsx\n",
      "PCAKNN_5_grid_compra.xlsx\n",
      "PCAKNN_6_grid_compra.xlsx\n",
      "PCAKNN_7_grid_compra.xlsx\n",
      "PCAKNN_8_grid_compra.xlsx\n",
      "PCAKNN_9_grid_compra.xlsx\n",
      "PCAKNN_compra_model.joblib\n",
      "RF_10_grid_compra.xlsx\n",
      "RF_2_grid_compra.xlsx\n",
      "RF_3_grid_compra.xlsx\n",
      "RF_4_grid_compra.xlsx\n",
      "RF_5_grid_compra.xlsx\n",
      "RF_6_grid_compra.xlsx\n",
      "RF_7_grid_compra.xlsx\n",
      "RF_8_grid_compra.xlsx\n",
      "RF_9_grid_compra.xlsx\n",
      "RF_compra_model.joblib\n",
      "SVM_10_grid_compra.xlsx\n",
      "SVM_2_grid_compra.xlsx\n",
      "SVM_3_grid_compra.xlsx\n",
      "SVM_4_grid_compra.xlsx\n",
      "SVM_5_grid_compra.xlsx\n",
      "SVM_6_grid_compra.xlsx\n",
      "SVM_7_grid_compra.xlsx\n",
      "SVM_8_grid_compra.xlsx\n",
      "SVM_9_grid_compra.xlsx\n",
      "SVM_compra_model.joblib\n",
      "XGB_10_grid_compra.xlsx\n",
      "XGB_2_grid_compra.xlsx\n",
      "XGB_3_grid_compra.xlsx\n",
      "XGB_4_grid_compra.xlsx\n",
      "XGB_5_grid_compra.xlsx\n",
      "XGB_6_grid_compra.xlsx\n",
      "XGB_7_grid_compra.xlsx\n",
      "XGB_8_grid_compra.xlsx\n",
      "XGB_9_grid_compra.xlsx\n",
      "XGB_compra_model.joblib\n"
     ]
    }
   ],
   "source": [
    "results_path = \"models_persistance_negocio\\\\\"\n",
    "\n",
    "folders = os.listdir(results_path)\n",
    "\n",
    "results_loaded = dict()\n",
    "\n",
    "for folder in folders:\n",
    "    files = os.listdir(results_path+folder)\n",
    "    for file in files[:-1]:\n",
    "        df = pd.read_excel(results_path+folder+'\\\\'+file)\n",
    "        print(file)\n",
    "#     results_loaded[folder] = dict()\n",
    "\n",
    "# return {\n",
    "#     'grid_best_model': grid.best_estimator_,\n",
    "#     'grid_std': grid_mean_test_score,\n",
    "#     'grid_best_score': grid.best_score_,\n",
    "#     'grid_cvresults': grid.cv_results_,\n",
    "#     'best_model_test_score':best_model.score(X_test, y_test),\n",
    "#     'best_model_test_yproba': best_model.predict_proba(X_test)[:,1],\n",
    "#     'best_model_test_auc': roc_auc_score(y_test, y_proba),\n",
    "#     'best_model_precision': p,\n",
    "#     'best_model_recall': r,\n",
    "#     'best_model_fscore': f,\n",
    "# }"
   ]
  },
  {
   "cell_type": "code",
   "execution_count": null,
   "metadata": {},
   "outputs": [],
   "source": []
  }
 ],
 "metadata": {
  "kernelspec": {
   "display_name": "Python 3",
   "language": "python",
   "name": "python3"
  },
  "language_info": {
   "codemirror_mode": {
    "name": "ipython",
    "version": 3
   },
   "file_extension": ".py",
   "mimetype": "text/x-python",
   "name": "python",
   "nbconvert_exporter": "python",
   "pygments_lexer": "ipython3",
   "version": "3.6.4"
  }
 },
 "nbformat": 4,
 "nbformat_minor": 2
}
