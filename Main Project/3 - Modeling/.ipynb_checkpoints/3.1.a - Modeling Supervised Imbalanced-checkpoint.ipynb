{
 "cells": [
  {
   "cell_type": "markdown",
   "metadata": {},
   "source": [
    "# 0 Utils"
   ]
  },
  {
   "cell_type": "code",
   "execution_count": 518,
   "metadata": {},
   "outputs": [],
   "source": [
    "import os\n",
    "import numpy as np\n",
    "import seaborn as sb\n",
    "%matplotlib inline\n",
    "sb.set()\n",
    "import matplotlib.pyplot as plt\n",
    "import pandas as pd\n",
    "import shap\n"
   ]
  },
  {
   "cell_type": "code",
   "execution_count": 519,
   "metadata": {},
   "outputs": [],
   "source": [
    "N_JOBS = 4 # -1 ocupa todo los cores\n",
    "RANDOM_STATE = 42 # para que sea reproducible"
   ]
  },
  {
   "cell_type": "markdown",
   "metadata": {},
   "source": [
    "## Experiment Setting "
   ]
  },
  {
   "cell_type": "code",
   "execution_count": 520,
   "metadata": {},
   "outputs": [],
   "source": [
    "import time\n",
    "start_time = time.time()\n"
   ]
  },
  {
   "cell_type": "code",
   "execution_count": 521,
   "metadata": {},
   "outputs": [],
   "source": [
    "# dataset, base nro 2\n",
    "dataset_nro = 8\n",
    "experiment_nro = 1\n",
    "# 'All Proyects', 'Altos del Valle', 'Edificio Urban 1470','San Andres Del Valle', 'Edificio Mil610', 'Edificio Junge'\n",
    "proyecto_select = 'San Andres Del Valle' #cambiable\n",
    "\n",
    "# base, base_profesion, base_minusisprofesion, base_medini_isrec\n",
    "use_predictors = 'no_is_time_price' #cambiable\n",
    "# experimento 2 y 4 va con True\n",
    "no_nulls = False #cambiable\n",
    "sesgo = False #cambiable"
   ]
  },
  {
   "cell_type": "code",
   "execution_count": 522,
   "metadata": {},
   "outputs": [
    {
     "name": "stdout",
     "output_type": "stream",
     "text": [
      "28\n",
      "29\n",
      "28\n",
      "31\n"
     ]
    }
   ],
   "source": [
    "predictors_set = dict()\n",
    "\n",
    "no_is_time_price = [\n",
    "    'is_recontacto', 'is_remoto', 'is_descuento', 'valid_rut',\n",
    "    'loc_comuna', 'loc_provincia', 'loc_region', 'sexo', 'tipo_cliente',\n",
    "    'mean_cot_bod',\n",
    "    'mean_cot_depto', 'mean_cot_esta', 'mean_cot_estu', 'medio_inicial',\n",
    "    'nro_cot_bod', 'nro_cot_depto', 'nro_cot_esta',\n",
    "    'nro_cot_estu', 'nro_proyectos', 'precio_cotizacion_media',\n",
    "    'precio_cotizacion_median', 'precio_cotizacion_std', \n",
    "    'tiempo_cotizacion_media', 'tiempo_cotizacion_median',\n",
    "    'tiempo_cotizacion_std',   \n",
    "    'Altos del Valle',\n",
    "    'Edificio Urban 1470', \n",
    "#     'San Andres Del Valle', \n",
    "    'Edificio Mil610',\n",
    "       'Edificio Junge']\n",
    "predictors_set ['no_is_time_price'] = no_is_time_price\n",
    "\n",
    "no_is =[\n",
    "        'actividad', \n",
    "        'loc_comuna', 'loc_provincia', 'loc_region', 'is_descuento', 'is_presencial',\n",
    "       'mean_cot_bod', 'mean_cot_depto', 'mean_cot_esta', 'mean_cot_estu', 'is_remoto',\n",
    "       'nro_cot_bod', 'nro_cot_depto', 'valid_rut', 'nro_cot_esta', 'nro_cot_estu', 'nro_proyectos','is_recontacto',\n",
    "       'sexo', 'tipo_cliente', 'medio_inicial',  \n",
    "        'Altos del Valle', \n",
    "        'Edificio Urban 1470',\n",
    "#        'San Andres Del Valle', \n",
    "        'Edificio Mil610', \n",
    "        'Edificio Junge'\n",
    "       ]\n",
    "\n",
    "predictors_set ['no_is'] = no_is\n",
    "\n",
    "no_is_minus_actividad =[\n",
    "#         'actividad', \n",
    "        'loc_comuna', 'loc_provincia', 'loc_region', 'is_descuento', 'is_presencial',\n",
    "       'mean_cot_bod', 'mean_cot_depto', 'mean_cot_esta', 'mean_cot_estu', 'is_remoto',\n",
    "       'nro_cot_bod', 'nro_cot_depto', 'valid_rut', 'nro_cot_esta', 'nro_cot_estu', 'nro_proyectos','is_recontacto',\n",
    "       'sexo', 'tipo_cliente', 'medio_inicial',  \n",
    "        'Altos del Valle', \n",
    "        'Edificio Urban 1470',\n",
    "#        'San Andres Del Valle', \n",
    "        'Edificio Mil610', \n",
    "        'Edificio Junge'\n",
    "       ]\n",
    "predictors_set ['no_is_minus_actividad'] = no_is_minus_actividad\n",
    "\n",
    "\n",
    "base = ['is_apellido1', 'is_appelido2', 'is_celular',\n",
    "       'is_direccion', 'is_fnac', 'is_nombre', 'is_nombrecompleto',\n",
    "       'is_nrofam', 'is_profesion', 'is_telefono',\n",
    "       'loc_comuna', 'loc_provincia', 'loc_region',\n",
    "       'mean_cot_bod', 'mean_cot_depto', 'mean_cot_esta', 'mean_cot_estu',\n",
    "       'nro_cot_bod', 'nro_cot_depto',\n",
    "       'nro_cot_esta', 'nro_cot_estu', 'nro_proyectos',\n",
    "       'sexo', 'tipo_cliente', \n",
    "        'Altos del Valle', \n",
    "#         'Edificio Urban 1470',\n",
    "       'San Andres Del Valle', \n",
    "        'Edificio Mil610', \n",
    "        'Edificio Junge']\n",
    "\n",
    "print(len(base))\n",
    "predictors_set ['base'] = base\n",
    "\n",
    "base_profesion = base[0:]\n",
    "base_profesion.append('profesion')\n",
    "print(len(base_profesion))\n",
    "predictors_set ['base_profesion'] = base_profesion\n",
    "\n",
    "base_minusisprofesion = base_profesion[0:]\n",
    "base_minusisprofesion.remove('is_profesion')\n",
    "print(len(base_minusisprofesion))\n",
    "predictors_set ['base_minusisprofesion'] = base_minusisprofesion\n",
    "\n",
    "base_medini_isrec = base_profesion[0:]\n",
    "base_medini_isrec.append('medio_inicial')\n",
    "base_medini_isrec.append('is_recontacto')\n",
    "print(len(base_medini_isrec))\n",
    "predictors_set ['base_medini_isrec'] = base_medini_isrec\n"
   ]
  },
  {
   "cell_type": "code",
   "execution_count": null,
   "metadata": {},
   "outputs": [],
   "source": []
  },
  {
   "cell_type": "markdown",
   "metadata": {},
   "source": [
    "# 1 Load Dataset"
   ]
  },
  {
   "cell_type": "code",
   "execution_count": 523,
   "metadata": {},
   "outputs": [
    {
     "name": "stdout",
     "output_type": "stream",
     "text": [
      "(6155, 47)\n",
      "Index(['Unnamed: 0', 'actividad', 'compra', 'is_apellido1', 'is_apellido2',\n",
      "       'is_celular', 'is_descuento', 'is_direccion', 'is_fnac', 'is_nombre',\n",
      "       'is_nombrecompleto', 'is_nrofam', 'is_presencial', 'is_profesion',\n",
      "       'is_recontacto', 'is_remoto', 'is_telefono', 'loc_comuna',\n",
      "       'loc_provincia', 'loc_region', 'max_rango_edad', 'mean_cot_bod',\n",
      "       'mean_cot_depto', 'mean_cot_esta', 'mean_cot_estu', 'medio_inicial',\n",
      "       'negocio', 'nro_cot_bod', 'nro_cot_depto', 'nro_cot_esta',\n",
      "       'nro_cot_estu', 'nro_proyectos', 'precio_cotizacion_media',\n",
      "       'precio_cotizacion_median', 'precio_cotizacion_std', 'rut', 'sexo',\n",
      "       'tiempo_cotizacion_media', 'tiempo_cotizacion_median',\n",
      "       'tiempo_cotizacion_std', 'tipo_cliente', 'valid_rut', 'Altos del Valle',\n",
      "       'Edificio Urban 1470', 'San Andres Del Valle', 'Edificio Mil610',\n",
      "       'Edificio Junge'],\n",
      "      dtype='object')\n"
     ]
    }
   ],
   "source": [
    "# nombre experimento\n",
    "exp_name = \"{} {}\".format(proyecto_select, use_predictors)\n",
    "# eleccion dataset\n",
    "dataset = 'personas_cotizacion{}.csv'.format(dataset_nro)\n",
    "\n",
    "# DS_NAME = dataset.split('.')[0]\n",
    "DS_NAME = exp_name\n",
    "\n",
    "directory = '..\\\\results\\\\model_results_dataset{}'.format(dataset_nro)\n",
    "import os\n",
    "if not os.path.exists(directory):\n",
    "    os.makedirs(directory)\n",
    "\n",
    "folder = '..\\\\results\\\\model_results_dataset{}\\\\{}'.format(dataset_nro, DS_NAME)\n",
    "\n",
    "if not os.path.exists(folder):\n",
    "    os.mkdir(folder)\n",
    "\n",
    "\n",
    "personas = pd.read_csv('..\\\\..\\\\Datos\\\\experiments\\\\{}'.format(dataset), encoding = \"ISO-8859-1\")\n",
    "personas_view = pd.read_csv('..\\\\..\\\\Datos\\\\experiments\\\\{}'.format(dataset), encoding = \"ISO-8859-1\")\n",
    "readme = dict()\n",
    "readme['experiment_name'] = DS_NAME\n",
    "readme['experiment_dataset'] = dataset\n",
    "\n",
    "print(personas.shape)\n",
    "readme['personas_shape'] = personas.shape\n",
    "# personas.head(2)\n",
    "\n",
    "print(personas.columns)\n",
    "readme['personas_columns'] = personas.columns.tolist()"
   ]
  },
  {
   "cell_type": "code",
   "execution_count": 524,
   "metadata": {},
   "outputs": [],
   "source": [
    "# personas.info()"
   ]
  },
  {
   "cell_type": "code",
   "execution_count": 525,
   "metadata": {},
   "outputs": [],
   "source": [
    "personas['loc_comuna'] = personas['loc_comuna'].astype('category')\n",
    "personas['loc_provincia'] = personas['loc_provincia'].astype('category')\n",
    "personas['loc_region'] = personas['loc_region'].astype('category')\n",
    "personas['tipo_cliente'] = personas['tipo_cliente'].astype('category')\n",
    "personas['sexo'] = personas['sexo'].astype('category')\n",
    "# personas.profesion.fillna('sin informacion', inplace=True)\n",
    "# personas['profesion'] = personas['profesion'].astype('category')\n",
    "personas['medio_inicial'] = personas['medio_inicial'].astype('category')"
   ]
  },
  {
   "cell_type": "code",
   "execution_count": 526,
   "metadata": {},
   "outputs": [],
   "source": [
    "# personas.info()"
   ]
  },
  {
   "cell_type": "code",
   "execution_count": 527,
   "metadata": {},
   "outputs": [],
   "source": [
    "# personas['negocio'] = ['negocio' if x == True else 'no negocio' for x in personas.negocio]\n",
    "# personas.negocio.unique()"
   ]
  },
  {
   "cell_type": "code",
   "execution_count": 528,
   "metadata": {},
   "outputs": [],
   "source": [
    "# tab_info=pd.DataFrame(personas.dtypes).T.rename(index={0:'column type'})\n",
    "# tab_info=tab_info.append(pd.DataFrame(personas.isnull().sum()).T.rename(index={0:'null values (nb)'}))\n",
    "# tab_info=tab_info.append(pd.DataFrame(personas.isnull().sum()/personas.shape[0]*100).T.rename(index={0:'null values (%)'}))\n",
    "# display(tab_info)"
   ]
  },
  {
   "cell_type": "code",
   "execution_count": 529,
   "metadata": {},
   "outputs": [],
   "source": [
    "# personas.hist(figsize=(18,16))"
   ]
  },
  {
   "cell_type": "code",
   "execution_count": 530,
   "metadata": {},
   "outputs": [
    {
     "name": "stderr",
     "output_type": "stream",
     "text": [
      "C:\\ProgramData\\Anaconda3\\lib\\site-packages\\ipykernel_launcher.py:6: UserWarning:\n",
      "\n",
      "Boolean Series key will be reindexed to match DataFrame index.\n",
      "\n"
     ]
    },
    {
     "name": "stdout",
     "output_type": "stream",
     "text": [
      "(3799, 47)\n"
     ]
    },
    {
     "name": "stderr",
     "output_type": "stream",
     "text": [
      "C:\\ProgramData\\Anaconda3\\lib\\site-packages\\ipykernel_launcher.py:7: UserWarning:\n",
      "\n",
      "Boolean Series key will be reindexed to match DataFrame index.\n",
      "\n"
     ]
    }
   ],
   "source": [
    "# Ajustes especificos experimento\n",
    "# Para E5D5, E6D5 #########################################\n",
    "if proyecto_select != 'All Proyects':\n",
    "    mask = (personas[proyecto_select] > 0)\n",
    "    personas = personas[mask]\n",
    "    print(personas[mask].shape)\n",
    "    personas[mask]\n",
    "###########################################################\n",
    "\n",
    "predictors = predictors_set[use_predictors]\n",
    "\n",
    "# print(personas[personas['profesion']=='sin informacion'].shape)\n",
    "# print(personas.profesion.nunique())\n",
    "# print(personas.is_profesion.unique())\n",
    "\n",
    "# En que experimento use esto? E8D6 y E28D6\n",
    "# Se usa en los experimentos de data set limpio para evaluar con las personas que si entregaron la profesion\n",
    "# personas.replace(['sin informacion'], np.nan, inplace=True)\n",
    "# personas.dropna(inplace=True)\n",
    "if no_nulls:\n",
    "    personas.replace(['sin informacion'], np.nan, inplace=True)\n",
    "    personas.dropna(inplace=True)"
   ]
  },
  {
   "cell_type": "code",
   "execution_count": 531,
   "metadata": {},
   "outputs": [
    {
     "name": "stdout",
     "output_type": "stream",
     "text": [
      "['is_recontacto', 'is_remoto', 'is_descuento', 'valid_rut', 'loc_comuna', 'loc_provincia', 'loc_region', 'sexo', 'tipo_cliente', 'mean_cot_bod', 'mean_cot_depto', 'mean_cot_esta', 'mean_cot_estu', 'medio_inicial', 'nro_cot_bod', 'nro_cot_depto', 'nro_cot_esta', 'nro_cot_estu', 'nro_proyectos', 'precio_cotizacion_media', 'precio_cotizacion_median', 'precio_cotizacion_std', 'tiempo_cotizacion_media', 'tiempo_cotizacion_median', 'tiempo_cotizacion_std', 'Altos del Valle', 'Edificio Urban 1470', 'Edificio Mil610', 'Edificio Junge']\n",
      "(3799,)\n",
      "(3799, 29)\n",
      "(3799, 29)\n"
     ]
    }
   ],
   "source": [
    "print(predictors)\n",
    "# Ready Data Set\n",
    "p_negocio = personas.compra # Target\n",
    "p_negocio = pd.Series([0 if x == True else 1 for x in p_negocio.tolist()])\n",
    "# personas = personas.drop(drop_columns, axis=1) # Predictors\n",
    "personas = personas[predictors]\n",
    "\n",
    "print(p_negocio.shape)\n",
    "print(personas.shape)\n",
    "readme['personas_after_drop_columns'] = personas.columns\n",
    "\n",
    "print(personas.shape)\n",
    "readme['personas_predictors_shape'] = personas.shape\n",
    "readme['personas_predictors'] = personas.columns\n",
    "\n",
    "\n",
    "personas = pd.get_dummies(personas)\n",
    "readme['personas_dummies_shape'] = personas.shape\n",
    "\n",
    "# personas.describe()"
   ]
  },
  {
   "cell_type": "markdown",
   "metadata": {},
   "source": [
    "## Correlacion "
   ]
  },
  {
   "cell_type": "code",
   "execution_count": 532,
   "metadata": {},
   "outputs": [],
   "source": [
    "# from scipy.stats.stats import pearsonr, spearmanr, kendalltau\n",
    "# corr_p = personas.corr(method='pearson')\n",
    "\n",
    "# import seaborn as sns\n",
    "# f = plt.figure(figsize=(40,20))\n",
    "# g = sns.heatmap(corr_p, annot=True).get_figure()\n",
    "# g.savefig('..\\\\img\\\\time_series_corr.png')"
   ]
  },
  {
   "cell_type": "code",
   "execution_count": 533,
   "metadata": {},
   "outputs": [],
   "source": [
    "# from sklearn.feature_selection import VarianceThreshold\n",
    "# vt = VarianceThreshold()\n",
    "# personas_vt = vt.fit_transform(personas)"
   ]
  },
  {
   "cell_type": "code",
   "execution_count": 534,
   "metadata": {},
   "outputs": [],
   "source": [
    "# print(personas_vt.shape)\n",
    "# print(vt.variances_)"
   ]
  },
  {
   "cell_type": "markdown",
   "metadata": {},
   "source": [
    "# 3 Supervised Learning: Classification"
   ]
  },
  {
   "cell_type": "markdown",
   "metadata": {},
   "source": [
    "## 3.1 Libraries"
   ]
  },
  {
   "cell_type": "code",
   "execution_count": 535,
   "metadata": {},
   "outputs": [],
   "source": [
    "from sklearn.model_selection import train_test_split\n",
    "from sklearn.neighbors import KNeighborsClassifier\n",
    "from sklearn.metrics import classification_report, confusion_matrix, roc_curve\n",
    "from sklearn.model_selection import GridSearchCV\n",
    "from sklearn.linear_model import LogisticRegression\n",
    "from scipy.stats import randint\n",
    "from sklearn.tree import DecisionTreeClassifier\n",
    "from sklearn.model_selection import RandomizedSearchCV\n",
    "from sklearn.ensemble import RandomForestClassifier\n",
    "from sklearn.metrics import roc_auc_score\n",
    "from sklearn import metrics\n",
    "from sklearn.preprocessing import MinMaxScaler"
   ]
  },
  {
   "cell_type": "markdown",
   "metadata": {},
   "source": [
    "## 3.2 Check the Dataset"
   ]
  },
  {
   "cell_type": "code",
   "execution_count": 536,
   "metadata": {
    "scrolled": true
   },
   "outputs": [
    {
     "name": "stdout",
     "output_type": "stream",
     "text": [
      "Tamaño Total:  (3799, 55)\n",
      "Personas que hicieron Negocio:  (3564,)\n",
      "Personas que no Hicieorn Negocio:  (235,)\n"
     ]
    }
   ],
   "source": [
    "print(\"Tamaño Total: \", personas.shape)\n",
    "print(\"Personas que hicieron Negocio: \", p_negocio[p_negocio == True].shape)\n",
    "print(\"Personas que no Hicieorn Negocio: \", p_negocio[p_negocio == False].shape)\n",
    "readme['personas_negocio'] = p_negocio[p_negocio == True].shape\n",
    "readme['personas_nonegocio'] = p_negocio[p_negocio == False].shape"
   ]
  },
  {
   "cell_type": "code",
   "execution_count": 537,
   "metadata": {},
   "outputs": [],
   "source": [
    "# from sklearn.feature_selection import SelectKBest\n",
    "# from sklearn.feature_selection import chi2\n",
    "\n",
    "# transformer = SelectKBest(score_func=chi2,k=10)\n",
    "# Xt_chi2 = transformer.fit_transform(X,y)\n",
    "# print(Xt_chi2.shape)\n",
    "# print(transformer.scores_)"
   ]
  },
  {
   "cell_type": "markdown",
   "metadata": {},
   "source": [
    "## 3.3 Train & Test"
   ]
  },
  {
   "cell_type": "code",
   "execution_count": 538,
   "metadata": {},
   "outputs": [
    {
     "name": "stdout",
     "output_type": "stream",
     "text": [
      "(2659, 55) (1140, 55) (2659,) (1140,)\n"
     ]
    }
   ],
   "source": [
    "X = personas\n",
    "y = p_negocio\n",
    "\n",
    "X_train, X_test, y_train, y_test = train_test_split(X, y, test_size=0.3, random_state=RANDOM_STATE)\n",
    "print(X_train.shape, X_test.shape, y_train.shape, y_test.shape)\n",
    "readme['x_train_shape'] = X_train.shape\n",
    "readme['y_train_shape'] = y_train.shape\n",
    "readme['x_test_shape'] = X_test.shape\n",
    "readme['y_test_shape'] = y_test.shape"
   ]
  },
  {
   "cell_type": "markdown",
   "metadata": {
    "collapsed": true
   },
   "source": [
    "## 3.4 Help Functions"
   ]
  },
  {
   "cell_type": "code",
   "execution_count": 539,
   "metadata": {},
   "outputs": [],
   "source": [
    "readme['model'] = dict()"
   ]
  },
  {
   "cell_type": "code",
   "execution_count": 540,
   "metadata": {},
   "outputs": [],
   "source": [
    "roc_curves_to_plot= dict()"
   ]
  },
  {
   "cell_type": "code",
   "execution_count": 541,
   "metadata": {},
   "outputs": [],
   "source": [
    "roc_curves_to_plot[DS_NAME]= dict()"
   ]
  },
  {
   "cell_type": "code",
   "execution_count": 542,
   "metadata": {},
   "outputs": [],
   "source": [
    "import scikitplot as skplt\n",
    "\n",
    "def classifier_insights(y_test, clf_probas, MODEL):\n",
    "    fig = plt.figure()\n",
    "    ax = plt.subplot(skplt.metrics.plot_cumulative_gain(y_test, clf_probas, figsize=(12,8)))\n",
    "    plt.legend(loc=9, bbox_to_anchor=(1.15, 1), ncol=1)\n",
    "    plt.savefig('..//results/model_results_dataset{}/\\\\{}\\\\{}_cum_gain.png'.format(dataset_nro, DS_NAME, MODEL), bbox_inches = 'tight', dpi=300)\n",
    "    plt.show()\n",
    "\n",
    "\n",
    "    fig = plt.figure()\n",
    "    ax = plt.subplot(skplt.metrics.plot_lift_curve(y_test, clf_probas, figsize=(12,8)))\n",
    "    plt.legend(loc=9, bbox_to_anchor=(1.15, 1), ncol=1)\n",
    "    plt.savefig('..//results/model_results_dataset{}/\\\\{}\\\\{}_lift.png'.format(dataset_nro, DS_NAME, MODEL), bbox_inches = 'tight', dpi=300)\n",
    "    plt.show()\n",
    "\n",
    "    fig = plt.figure()\n",
    "    ax = plt.subplot(skplt.estimators.plot_feature_importances(\n",
    "        best_brf, feature_names=personas.columns, x_tick_rotation=90, figsize=(12,8)))\n",
    "    plt.legend(loc=9, bbox_to_anchor=(1.15, 1), ncol=1)\n",
    "    plt.savefig('..//results/model_results_dataset{}/\\\\{}\\\\{}_f_importance.png'.format(dataset_nro, DS_NAME, MODEL), bbox_inches = 'tight', dpi=300)\n",
    "    plt.show()\n",
    "\n",
    "\n",
    "\n",
    "    fig = plt.figure()\n",
    "    ax = plt.subplot(skplt.metrics.plot_precision_recall(y_test, clf_probas, figsize=(12,8)))\n",
    "    plt.legend(loc=9, bbox_to_anchor=(1.15, 1), ncol=1)\n",
    "    plt.savefig('..//results/model_results_dataset{}\\\\{}\\\\{}_precition_recall.png'.format(dataset_nro, DS_NAME, MODEL), bbox_inches = 'tight', dpi=300)\n",
    "    plt.show()\n",
    "\n",
    "    fig = plt.figure()\n",
    "    ax = plt.subplot(skplt.metrics.plot_ks_statistic(y_test, clf_probas, figsize=(12,8)))\n",
    "    plt.legend(loc=9, bbox_to_anchor=(1.15, 1), ncol=1)\n",
    "    plt.savefig('..//results/model_results_dataset{}/\\\\{}\\\\{}_ks_sta.png'.format(dataset_nro, DS_NAME, MODEL), bbox_inches = 'tight', dpi=300)\n",
    "    plt.show()"
   ]
  },
  {
   "cell_type": "code",
   "execution_count": 543,
   "metadata": {},
   "outputs": [],
   "source": [
    "import json\n",
    "def save_readme():    \n",
    "    exDict = {'readme': readme}\n",
    "    with open('..\\\\results\\\\model_results_dataset{}\\\\{}\\\\readme_{}.txt'.format(dataset_nro, DS_NAME, DS_NAME), 'w') as file:\n",
    "        file.write(str(exDict))\n",
    "\n",
    "def plot_all_auc_values():\n",
    "        \n",
    "    d = dict()\n",
    "    for key in roc_curves_to_plot[DS_NAME]:\n",
    "        d[key] = roc_curves_to_plot[DS_NAME][key]['auc']\n",
    "    \n",
    "    s = [(k, d[k]) for k in sorted(d, key=d.get, reverse=True)]\n",
    "    \n",
    "    x_model = [x[0] for x in s]\n",
    "    x_value = [x[1] for x in s]\n",
    "    \n",
    "    x = np.arange(len(roc_curves_to_plot[DS_NAME].keys()))\n",
    "    \n",
    "    f = plt.figure(figsize=(12,8))\n",
    "    plt.title('{} AUC Models'.format(DS_NAME))\n",
    "    plt.xlabel('Models')\n",
    "    plt.ylabel('AUC')\n",
    "    plt.bar(x, x_value)\n",
    "    plt.xticks(x, x_model)\n",
    "    plt.savefig('..\\\\results\\\\model_results_dataset{}\\\\{}\\\\auc_models.png'.format(dataset_nro, DS_NAME,DS_NAME), dpi=300)\n",
    "    plt.show()\n",
    "\n",
    "def plot_all_roc_curves():\n",
    "    \n",
    "    f = plt.figure(figsize=(12,8))\n",
    "    plt.plot([0, 1], [0, 1], 'k--')\n",
    "    \n",
    "    for key in roc_curves_to_plot[DS_NAME]:\n",
    "        plt.plot(roc_curves_to_plot[DS_NAME][key]['fpr'], roc_curves_to_plot[DS_NAME][key]['tpr']) #fpr and tpr\n",
    "    \n",
    "    legends = ['random choice']\n",
    "    legends.extend(roc_curves_to_plot[DS_NAME].keys())\n",
    "    plt.legend(legends)\n",
    "    \n",
    "    plt.xlabel('False Positive Rate')\n",
    "    plt.ylabel('True Positive Rate')\n",
    "    plt.title('{} Models ROC Curve'.format(DS_NAME))\n",
    "    plt.savefig('..\\\\results\\\\model_results_dataset{}\\\\{}\\\\roc_curve_all.png'.format(dataset_nro, DS_NAME, MODEL), dpi=300)\n",
    "    plt.show()"
   ]
  },
  {
   "cell_type": "code",
   "execution_count": 544,
   "metadata": {},
   "outputs": [],
   "source": [
    "# Import necessary modules\n",
    "def roc_curve_plot(model, X_test, y_test):\n",
    "    \n",
    "    # Compute predicted probabilities: y_pred_prob\n",
    "    y_pred_prob = model.predict_proba(X_test)[:,1]\n",
    "\n",
    "    # Generate ROC curve values: fpr, tpr, thresholds\n",
    "    fpr, tpr, treshold = roc_curve(y_test, y_pred_prob)\n",
    "    \n",
    "    roc_curves_to_plot[DS_NAME][MODEL] = dict()\n",
    "    roc_curves_to_plot[DS_NAME][MODEL]['fpr'] = fpr\n",
    "    roc_curves_to_plot[DS_NAME][MODEL]['tpr'] = tpr\n",
    "    roc_curves_to_plot[DS_NAME][MODEL]['auc'] = roc_auc_score(y_test, y_pred_prob)\n",
    "    \n",
    "    # Plot ROC curve\n",
    "    plt.plot([0, 1], [0, 1], 'k--')\n",
    "    plt.plot(fpr, tpr)\n",
    "    plt.xlabel('False Positive Rate')\n",
    "    plt.ylabel('True Positive Rate')\n",
    "    plt.title('{} {} ROC Curve'.format(DS_NAME, MODEL))\n",
    "    plt.savefig('..\\\\results\\\\model_results_dataset{}\\\\{}\\\\{}_roc_curve.png'.format(dataset_nro, DS_NAME, MODEL), dpi=300)\n",
    "    plt.show()\n",
    "\n",
    "def plot_confusion_matrix(model,y, y_pred):\n",
    "    conf_ma = confusion_matrix(y, y_pred)\n",
    "    clas_report = classification_report(y, y_pred)\n",
    "    \n",
    "    print(\"Confusion Matrix: \\n\", conf_ma)\n",
    "    readme['model'][MODEL]['conf_matrix'] = conf_ma\n",
    "    \n",
    "    print(\"Clasification Reports:\\n\", clas_report)\n",
    "    readme['model'][MODEL]['cla_report'] = clas_report\n",
    "    \n",
    "    plt.figure(figsize=(5,5))\n",
    "    \n",
    "    sb.heatmap(conf_ma, annot=True, fmt=\".0f\", linewidths=.5, square=True, cmap='Blues');\n",
    "    plt.ylabel('Actual label');\n",
    "    plt.xlabel('Predicted label');\n",
    "    plt.yticks(np.arange(len(['Negocio', 'No Negocio'])),['Negocio', 'No Negocio'] )\n",
    "    plt.xticks(np.arange(len(['Negocio', 'No Negocio'])),['Negocio', 'No Negocio'] )\n",
    "    title_plt = \"{} {} Conf. Matrix\".format(DS_NAME, MODEL)\n",
    "    plt.title(title_plt, size=10);\n",
    "    plt.savefig('..\\\\results\\\\model_results_dataset{}\\\\{}\\\\{}_confusion_matrix.png'.format(dataset_nro, DS_NAME, MODEL), dpi=300)\n",
    "    plt.show()\n",
    "\n",
    "def plot_importance_graph(model):\n",
    "    features = personas.columns\n",
    "    \n",
    "    feature_importance = model.best_estimator_.feature_importances_ \n",
    "    fig = plt.figure(figsize=(20, 18))\n",
    "    ax = fig.add_subplot(111)\n",
    "\n",
    "    df_f = pd.DataFrame(feature_importance, columns=[\"importance\"])\n",
    "    df_f[\"labels\"] = features\n",
    "    df_f.sort_values(\"importance\", inplace=True, ascending=False)\n",
    "    display(df_f.head(5))\n",
    "\n",
    "    index = np.arange(len(feature_importance[:20]))\n",
    "    bar_width = 0.5\n",
    "    rects = plt.barh(index[:20] , df_f[\"importance\"][:20], bar_width, alpha=0.4, color='b', label='Main')\n",
    "    plt.yticks(index, df_f[\"labels\"])\n",
    "    plt.title(\"{} {} Feature Importance\".format(DS_NAME, MODEL))\n",
    "    plt.savefig('..\\\\results\\\\model_results_dataset{}\\\\{}\\\\{}_importance.png'.format(dataset_nro, DS_NAME, MODEL), dpi=300)\n",
    "    plt.show()\n",
    "\n",
    "def grid_results(grid, plot_roc_curve=True):\n",
    "    \n",
    "    best_model = grid.best_estimator_\n",
    "    \n",
    "    try:\n",
    "        best_score = grid.best_score_\n",
    "        readme['model'][MODEL]['best_score'] = best_score\n",
    "        print(\"Besto Model Best score is {}\".format(grid.best_score_))\n",
    "    except Exception as e:\n",
    "        print(\"Error: \" + str(e))\n",
    "    \n",
    "    readme['model'][MODEL]['name'] = MODEL\n",
    "    readme['model'][MODEL]['best_estimator'] = best_model\n",
    "    \n",
    "    best_model.fit(X_train, y_train)\n",
    "    y_pred = best_model.predict(X_test)\n",
    "    \n",
    "    # Confusion Matrix\n",
    "    plot_confusion_matrix(best_model, y_test, y_pred)\n",
    "    \n",
    "    #Update Exec Time\n",
    "    readme['time_exec'] = time.time() - start_time\n",
    "    \n",
    "    #Update README\n",
    "    save_readme()\n",
    "    \n",
    "    #ROC Curve\n",
    "    if plot_roc_curve:\n",
    "        roc_curve_plot(best_model, X_test, y_test)"
   ]
  },
  {
   "cell_type": "markdown",
   "metadata": {},
   "source": [
    "## 3.5 Models"
   ]
  },
  {
   "cell_type": "code",
   "execution_count": 545,
   "metadata": {},
   "outputs": [],
   "source": [
    "to_profit_curve = dict()"
   ]
  },
  {
   "cell_type": "code",
   "execution_count": 546,
   "metadata": {},
   "outputs": [
    {
     "name": "stdout",
     "output_type": "stream",
     "text": [
      "Accuracy: 0.8\n",
      "Confusion Matrix: \n",
      " [[ 39  16]\n",
      " [212 873]]\n",
      "Clasification Reports:\n",
      "              precision    recall  f1-score   support\n",
      "\n",
      "          0       0.16      0.71      0.25        55\n",
      "          1       0.98      0.80      0.88      1085\n",
      "\n",
      "avg / total       0.94      0.80      0.85      1140\n",
      "\n"
     ]
    },
    {
     "data": {
      "image/png": "[encoded data removed]",
      "text/plain": [
       "<matplotlib.figure.Figure at 0x1c03e8f00f0>"
      ]
     },
     "metadata": {},
     "output_type": "display_data"
    },
    {
     "data": {
      "image/png": "[encoded data removed]",
      "text/plain": [
       "<matplotlib.figure.Figure at 0x1c03e6234a8>"
      ]
     },
     "metadata": {},
     "output_type": "display_data"
    },
    {
     "data": {
      "image/png": "[encoded data removed]",
      "text/plain": [
       "<matplotlib.figure.Figure at 0x1c03d94f470>"
      ]
     },
     "metadata": {},
     "output_type": "display_data"
    }
   ],
   "source": [
    "MODEL = 'PRT_BLR'\n",
    "readme['model'][MODEL] = dict()\n",
    "\n",
    "to_profit_curve[MODEL] = dict()\n",
    "\n",
    "from sklearn.feature_selection import SelectFromModel\n",
    "from sklearn.ensemble import RandomForestClassifier\n",
    "\n",
    "rf = RandomForestClassifier(bootstrap=True, class_weight='balanced',\n",
    "            criterion='entropy', max_depth=12, max_features=13,\n",
    "            max_leaf_nodes=None, min_impurity_decrease=0.0,\n",
    "            min_impurity_split=None, min_samples_leaf=1,\n",
    "            min_samples_split=2, min_weight_fraction_leaf=0.0,\n",
    "            n_estimators=10, n_jobs=1, oob_score=False, random_state=RANDOM_STATE,\n",
    "            verbose=0, warm_start=False)\n",
    "\n",
    "select = SelectFromModel(rf, threshold='median')\n",
    "\n",
    "select.fit(X_train, y_train)\n",
    "X_train_s = select.transform(X_train)\n",
    "\n",
    "mask = select.get_support()\n",
    "plt.matshow(mask.reshape(1,-1), cmap='gray_r')\n",
    "plt.xlabel('Index of Features')\n",
    "\n",
    "X_test_s = select.transform(X_test)\n",
    "\n",
    "log_clf = LogisticRegression(C=0.4393970560760795, class_weight='balanced', dual=False,\n",
    "          fit_intercept=True, intercept_scaling=1, max_iter=100,\n",
    "          multi_class='ovr', n_jobs=1, penalty='l2', random_state=RANDOM_STATE,\n",
    "          solver='liblinear', tol=0.0001, verbose=0, warm_start=False)\n",
    "\n",
    "to_profit_curve[MODEL]['model'] = log_clf\n",
    "log_clf.fit(X_train_s, y_train)\n",
    "\n",
    "score = log_clf.score(X_test_s, y_test)\n",
    "print('Accuracy:', score)\n",
    "\n",
    "plot_confusion_matrix(log_clf, y_test, log_clf.predict(X_test_s))\n",
    "roc_curve_plot(log_clf, X_test_s, y_test)"
   ]
  },
  {
   "cell_type": "code",
   "execution_count": null,
   "metadata": {},
   "outputs": [],
   "source": []
  },
  {
   "cell_type": "code",
   "execution_count": null,
   "metadata": {},
   "outputs": [],
   "source": []
  }
 ],
 "metadata": {
  "kernelspec": {
   "display_name": "Python 3",
   "language": "python",
   "name": "python3"
  },
  "language_info": {
   "codemirror_mode": {
    "name": "ipython",
    "version": 3
   },
   "file_extension": ".py",
   "mimetype": "text/x-python",
   "name": "python",
   "nbconvert_exporter": "python",
   "pygments_lexer": "ipython3",
   "version": "3.6.4"
  }
 },
 "nbformat": 4,
 "nbformat_minor": 2
}
