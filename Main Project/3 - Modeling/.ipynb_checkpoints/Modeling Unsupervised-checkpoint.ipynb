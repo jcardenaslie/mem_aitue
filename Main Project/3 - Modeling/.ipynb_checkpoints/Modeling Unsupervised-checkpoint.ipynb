{
 "cells": [
  {
   "cell_type": "code",
   "execution_count": 1,
   "metadata": {
    "collapsed": true
   },
   "outputs": [],
   "source": [
    "import os\n",
    "import numpy as np\n",
    "import seaborn as sb\n",
    "sb.set()\n",
    "import matplotlib.pyplot as plt\n",
    "import pandas as pd"
   ]
  },
  {
   "cell_type": "markdown",
   "metadata": {},
   "source": [
    "# 1 Data"
   ]
  },
  {
   "cell_type": "code",
   "execution_count": 4,
   "metadata": {},
   "outputs": [
    {
     "data": {
      "text/html": [
       "<div>\n",
       "<style>\n",
       "    .dataframe thead tr:only-child th {\n",
       "        text-align: right;\n",
       "    }\n",
       "\n",
       "    .dataframe thead th {\n",
       "        text-align: left;\n",
       "    }\n",
       "\n",
       "    .dataframe tbody tr th {\n",
       "        vertical-align: top;\n",
       "    }\n",
       "</style>\n",
       "<table border=\"1\" class=\"dataframe\">\n",
       "  <thead>\n",
       "    <tr style=\"text-align: right;\">\n",
       "      <th></th>\n",
       "      <th>is_apellido1</th>\n",
       "      <th>is_appelido2</th>\n",
       "      <th>is_celular</th>\n",
       "      <th>is_direccion</th>\n",
       "      <th>is_fnac</th>\n",
       "      <th>is_nombre</th>\n",
       "      <th>is_nombrecompleto</th>\n",
       "      <th>is_nrofam</th>\n",
       "      <th>is_profesion</th>\n",
       "      <th>is_telefono</th>\n",
       "      <th>...</th>\n",
       "      <th>nro_cot_esta</th>\n",
       "      <th>nro_cot_estu</th>\n",
       "      <th>nro_proyectos</th>\n",
       "      <th>sexo</th>\n",
       "      <th>tipo_cliente</th>\n",
       "      <th>Altos del Valle</th>\n",
       "      <th>Edificio Urban 1470</th>\n",
       "      <th>San Andres Del Valle</th>\n",
       "      <th>Edificio Mil610</th>\n",
       "      <th>Edificio Junge</th>\n",
       "    </tr>\n",
       "  </thead>\n",
       "  <tbody>\n",
       "    <tr>\n",
       "      <th>0</th>\n",
       "      <td>True</td>\n",
       "      <td>True</td>\n",
       "      <td>True</td>\n",
       "      <td>False</td>\n",
       "      <td>True</td>\n",
       "      <td>True</td>\n",
       "      <td>True</td>\n",
       "      <td>False</td>\n",
       "      <td>True</td>\n",
       "      <td>True</td>\n",
       "      <td>...</td>\n",
       "      <td>1.0</td>\n",
       "      <td>0.0</td>\n",
       "      <td>2.0</td>\n",
       "      <td>Femenino</td>\n",
       "      <td>Natural</td>\n",
       "      <td>0.0</td>\n",
       "      <td>1.0</td>\n",
       "      <td>1.0</td>\n",
       "      <td>0.0</td>\n",
       "      <td>0.0</td>\n",
       "    </tr>\n",
       "    <tr>\n",
       "      <th>1</th>\n",
       "      <td>True</td>\n",
       "      <td>True</td>\n",
       "      <td>True</td>\n",
       "      <td>False</td>\n",
       "      <td>False</td>\n",
       "      <td>True</td>\n",
       "      <td>True</td>\n",
       "      <td>False</td>\n",
       "      <td>False</td>\n",
       "      <td>True</td>\n",
       "      <td>...</td>\n",
       "      <td>1.0</td>\n",
       "      <td>0.0</td>\n",
       "      <td>1.0</td>\n",
       "      <td>Masculino</td>\n",
       "      <td>Natural</td>\n",
       "      <td>0.0</td>\n",
       "      <td>0.0</td>\n",
       "      <td>0.0</td>\n",
       "      <td>1.0</td>\n",
       "      <td>0.0</td>\n",
       "    </tr>\n",
       "  </tbody>\n",
       "</table>\n",
       "<p>2 rows × 31 columns</p>\n",
       "</div>"
      ],
      "text/plain": [
       "   is_apellido1  is_appelido2  is_celular  is_direccion  is_fnac  is_nombre  \\\n",
       "0          True          True        True         False     True       True   \n",
       "1          True          True        True         False    False       True   \n",
       "\n",
       "   is_nombrecompleto  is_nrofam  is_profesion  is_telefono       ...        \\\n",
       "0               True      False          True         True       ...         \n",
       "1               True      False         False         True       ...         \n",
       "\n",
       "  nro_cot_esta nro_cot_estu nro_proyectos       sexo  tipo_cliente  \\\n",
       "0          1.0          0.0           2.0   Femenino       Natural   \n",
       "1          1.0          0.0           1.0  Masculino       Natural   \n",
       "\n",
       "   Altos del Valle  Edificio Urban 1470  San Andres Del Valle  \\\n",
       "0              0.0                  1.0                   1.0   \n",
       "1              0.0                  0.0                   0.0   \n",
       "\n",
       "   Edificio Mil610  Edificio Junge  \n",
       "0              0.0             0.0  \n",
       "1              1.0             0.0  \n",
       "\n",
       "[2 rows x 31 columns]"
      ]
     },
     "execution_count": 4,
     "metadata": {},
     "output_type": "execute_result"
    }
   ],
   "source": [
    "personas = pd.read_csv('..\\\\..\\\\Datos\\\\working\\\\personas_cotizacion2.csv',encoding = \"ISO-8859-1\")\n",
    "# personas = pd.read_csv(data_directory+'personas.csv')\n",
    "personas = personas.drop(personas.columns[0], axis=1)\n",
    "personas = personas.drop(['rut'], axis=1)\n",
    "# personas['negocio'] = []\n",
    "personas.head(2)"
   ]
  },
  {
   "cell_type": "code",
   "execution_count": 5,
   "metadata": {},
   "outputs": [
    {
     "name": "stdout",
     "output_type": "stream",
     "text": [
      "(6184, 30)\n"
     ]
    }
   ],
   "source": [
    "p_negocio = personas.negocio\n",
    "personas = personas.drop('negocio',axis=1)\n",
    "print(personas.shape)"
   ]
  },
  {
   "cell_type": "code",
   "execution_count": 6,
   "metadata": {
    "collapsed": true
   },
   "outputs": [],
   "source": [
    "personas = pd.get_dummies(personas)"
   ]
  },
  {
   "cell_type": "code",
   "execution_count": 7,
   "metadata": {},
   "outputs": [
    {
     "data": {
      "text/plain": [
       "(6184, 44)"
      ]
     },
     "execution_count": 7,
     "metadata": {},
     "output_type": "execute_result"
    }
   ],
   "source": [
    "personas = personas.drop(['max_rango_edad'],axis=1)\n",
    "personas.shape"
   ]
  },
  {
   "cell_type": "markdown",
   "metadata": {},
   "source": [
    "# 2 Unsupervised Learning"
   ]
  },
  {
   "cell_type": "markdown",
   "metadata": {},
   "source": [
    "## 2.1 Dim Reduction"
   ]
  },
  {
   "cell_type": "code",
   "execution_count": 8,
   "metadata": {},
   "outputs": [
    {
     "data": {
      "image/png": "[encoded data removed]",
      "text/plain": [
       "<matplotlib.figure.Figure at 0x242791eaf60>"
      ]
     },
     "metadata": {},
     "output_type": "display_data"
    }
   ],
   "source": [
    "from sklearn.decomposition import PCA\n",
    "#check variance\n",
    "pca = PCA(n_components = 8)\n",
    "pca.fit(personas)\n",
    "\n",
    "features = range(pca.n_components_)\n",
    "\n",
    "plt.bar(features, pca.explained_variance_)\n",
    "plt.xticks(features)\n",
    "plt.ylabel('variance')\n",
    "plt.xlabel('PCA features')\n",
    "plt.show()\n"
   ]
  },
  {
   "cell_type": "code",
   "execution_count": 9,
   "metadata": {},
   "outputs": [
    {
     "data": {
      "image/png": "[encoded data removed]",
      "text/plain": [
       "<matplotlib.figure.Figure at 0x24278ed1e48>"
      ]
     },
     "metadata": {},
     "output_type": "display_data"
    }
   ],
   "source": [
    "pca = PCA(n_components = 2)\n",
    "pca.fit(personas)\n",
    "transformed = pca.transform(personas)\n",
    "\n",
    "xs = transformed[:,0]\n",
    "ys = transformed[:,1]\n",
    "plt.scatter(xs,ys,alpha=0.5)\n",
    "plt.show()"
   ]
  },
  {
   "cell_type": "markdown",
   "metadata": {},
   "source": [
    "## 2.2 KMeans"
   ]
  },
  {
   "cell_type": "code",
   "execution_count": 10,
   "metadata": {},
   "outputs": [
    {
     "data": {
      "image/png": "[encoded data removed]",
      "text/plain": [
       "<matplotlib.figure.Figure at 0x24278ed8c88>"
      ]
     },
     "metadata": {},
     "output_type": "display_data"
    }
   ],
   "source": [
    "from sklearn.preprocessing import StandardScaler\n",
    "from sklearn.pipeline import make_pipeline\n",
    "from sklearn.cluster import KMeans\n",
    "\n",
    "ks = range(1,10)\n",
    "inertias = []\n",
    "scaler = StandardScaler()\n",
    "\n",
    "# for k in ks:\n",
    "#     model = KMeans(n_clusters=k)\n",
    "#     pipeline = make_pipeline(scaler,model)\n",
    "#     pipeline.fit(personas)\n",
    "#     inertias.append(pipeline.named_steps['kmeans'].inertia_)\n",
    " \n",
    "for k in ks:\n",
    "    model = KMeans(n_clusters=k)\n",
    "#     pipeline = make_pipeline(scaler,model)\n",
    "    model.fit(personas)\n",
    "    inertias.append(model.inertia_)\n",
    "    \n",
    "plt.plot(ks,inertias, '-o')\n",
    "plt.xlabel('#clusters, k')\n",
    "plt.xticks(ks)\n",
    "plt.show()"
   ]
  },
  {
   "cell_type": "code",
   "execution_count": 11,
   "metadata": {},
   "outputs": [
    {
     "data": {
      "image/png": "[encoded data removed]",
      "text/plain": [
       "<matplotlib.figure.Figure at 0x2427c2d4278>"
      ]
     },
     "metadata": {},
     "output_type": "display_data"
    }
   ],
   "source": [
    "#Clustering\n",
    "\n",
    "scaler = StandardScaler()\n",
    "\n",
    "km = KMeans(n_clusters=2, max_iter=300, random_state=None)\n",
    "km.fit(personas)\n",
    "\n",
    "# pipeline = make_pipeline(scaler,km)\n",
    "# pipeline.fit(personas)\n",
    "\n",
    "# clusters = km.fit_predict(personas)\n",
    "# personas['cluster'] = pipeline.fit_predict(personas)\n",
    "personas['cluster'] = km.fit_predict(personas)\n",
    "\n",
    "# Principal Component Analysis\n",
    "pca = PCA(n_components=2, whiten=True)\n",
    "pca.fit(personas)\n",
    "\n",
    "xs = pca.fit_transform(personas)[:, 0]\n",
    "ys = pca.fit_transform(personas)[:, 1]\n",
    "\n",
    "plt.scatter(xs ,ys, c=personas['cluster'],alpha=0.5)\n",
    "plt.show()\n"
   ]
  },
  {
   "cell_type": "code",
   "execution_count": 12,
   "metadata": {},
   "outputs": [
    {
     "name": "stdout",
     "output_type": "stream",
     "text": [
      "negocio   False  True \n",
      "personas              \n",
      "0          4858    678\n",
      "1           225    423\n"
     ]
    }
   ],
   "source": [
    "# Create a DataFrame with labels and varieties as columns: df\n",
    "df = pd.DataFrame({'personas': personas['cluster'], 'negocio': p_negocio})\n",
    "\n",
    "# Create crosstab: ct\n",
    "ct = pd.crosstab(df['personas'],df['negocio'])\n",
    "\n",
    "# Display ct\n",
    "print(ct)"
   ]
  },
  {
   "cell_type": "code",
   "execution_count": 13,
   "metadata": {},
   "outputs": [
    {
     "data": {
      "text/html": [
       "<div>\n",
       "<style>\n",
       "    .dataframe thead tr:only-child th {\n",
       "        text-align: right;\n",
       "    }\n",
       "\n",
       "    .dataframe thead th {\n",
       "        text-align: left;\n",
       "    }\n",
       "\n",
       "    .dataframe tbody tr th {\n",
       "        vertical-align: top;\n",
       "    }\n",
       "</style>\n",
       "<table border=\"1\" class=\"dataframe\">\n",
       "  <thead>\n",
       "    <tr style=\"text-align: right;\">\n",
       "      <th></th>\n",
       "      <th>is_apellido1</th>\n",
       "      <th>is_appelido2</th>\n",
       "      <th>is_celular</th>\n",
       "      <th>is_direccion</th>\n",
       "      <th>is_fnac</th>\n",
       "      <th>is_nombre</th>\n",
       "      <th>is_nombrecompleto</th>\n",
       "      <th>is_nrofam</th>\n",
       "      <th>is_profesion</th>\n",
       "      <th>is_telefono</th>\n",
       "      <th>...</th>\n",
       "      <th>loc_provincia_Otro</th>\n",
       "      <th>loc_provincia_Santiago</th>\n",
       "      <th>loc_region_Bio-Bio</th>\n",
       "      <th>loc_region_Metropolitana</th>\n",
       "      <th>loc_region_Otro</th>\n",
       "      <th>sexo_Femenino</th>\n",
       "      <th>sexo_Masculino</th>\n",
       "      <th>sexo_Sin Información</th>\n",
       "      <th>tipo_cliente_Jurídico</th>\n",
       "      <th>tipo_cliente_Natural</th>\n",
       "    </tr>\n",
       "    <tr>\n",
       "      <th>cluster</th>\n",
       "      <th></th>\n",
       "      <th></th>\n",
       "      <th></th>\n",
       "      <th></th>\n",
       "      <th></th>\n",
       "      <th></th>\n",
       "      <th></th>\n",
       "      <th></th>\n",
       "      <th></th>\n",
       "      <th></th>\n",
       "      <th></th>\n",
       "      <th></th>\n",
       "      <th></th>\n",
       "      <th></th>\n",
       "      <th></th>\n",
       "      <th></th>\n",
       "      <th></th>\n",
       "      <th></th>\n",
       "      <th></th>\n",
       "      <th></th>\n",
       "      <th></th>\n",
       "    </tr>\n",
       "  </thead>\n",
       "  <tbody>\n",
       "    <tr>\n",
       "      <th>0</th>\n",
       "      <td>0.995665</td>\n",
       "      <td>0.962066</td>\n",
       "      <td>0.996387</td>\n",
       "      <td>0.181178</td>\n",
       "      <td>0.109104</td>\n",
       "      <td>1.0</td>\n",
       "      <td>1.0</td>\n",
       "      <td>0.297146</td>\n",
       "      <td>0.340137</td>\n",
       "      <td>0.118678</td>\n",
       "      <td>...</td>\n",
       "      <td>0.066474</td>\n",
       "      <td>0.038475</td>\n",
       "      <td>0.930455</td>\n",
       "      <td>0.039921</td>\n",
       "      <td>0.029624</td>\n",
       "      <td>0.406431</td>\n",
       "      <td>0.570629</td>\n",
       "      <td>0.022941</td>\n",
       "      <td>0.004877</td>\n",
       "      <td>0.995123</td>\n",
       "    </tr>\n",
       "    <tr>\n",
       "      <th>1</th>\n",
       "      <td>1.000000</td>\n",
       "      <td>0.981481</td>\n",
       "      <td>1.000000</td>\n",
       "      <td>0.495370</td>\n",
       "      <td>0.412037</td>\n",
       "      <td>1.0</td>\n",
       "      <td>1.0</td>\n",
       "      <td>0.555556</td>\n",
       "      <td>0.567901</td>\n",
       "      <td>0.118827</td>\n",
       "      <td>...</td>\n",
       "      <td>0.074074</td>\n",
       "      <td>0.044753</td>\n",
       "      <td>0.908951</td>\n",
       "      <td>0.044753</td>\n",
       "      <td>0.046296</td>\n",
       "      <td>0.333333</td>\n",
       "      <td>0.662037</td>\n",
       "      <td>0.004630</td>\n",
       "      <td>0.000000</td>\n",
       "      <td>1.000000</td>\n",
       "    </tr>\n",
       "  </tbody>\n",
       "</table>\n",
       "<p>2 rows × 44 columns</p>\n",
       "</div>"
      ],
      "text/plain": [
       "         is_apellido1  is_appelido2  is_celular  is_direccion   is_fnac  \\\n",
       "cluster                                                                   \n",
       "0            0.995665      0.962066    0.996387      0.181178  0.109104   \n",
       "1            1.000000      0.981481    1.000000      0.495370  0.412037   \n",
       "\n",
       "         is_nombre  is_nombrecompleto  is_nrofam  is_profesion  is_telefono  \\\n",
       "cluster                                                                       \n",
       "0              1.0                1.0   0.297146      0.340137     0.118678   \n",
       "1              1.0                1.0   0.555556      0.567901     0.118827   \n",
       "\n",
       "                 ...           loc_provincia_Otro  loc_provincia_Santiago  \\\n",
       "cluster          ...                                                        \n",
       "0                ...                     0.066474                0.038475   \n",
       "1                ...                     0.074074                0.044753   \n",
       "\n",
       "         loc_region_Bio-Bio  loc_region_Metropolitana  loc_region_Otro  \\\n",
       "cluster                                                                  \n",
       "0                  0.930455                  0.039921         0.029624   \n",
       "1                  0.908951                  0.044753         0.046296   \n",
       "\n",
       "         sexo_Femenino  sexo_Masculino  sexo_Sin Información  \\\n",
       "cluster                                                        \n",
       "0             0.406431        0.570629              0.022941   \n",
       "1             0.333333        0.662037              0.004630   \n",
       "\n",
       "         tipo_cliente_Jurídico  tipo_cliente_Natural  \n",
       "cluster                                               \n",
       "0                     0.004877              0.995123  \n",
       "1                     0.000000              1.000000  \n",
       "\n",
       "[2 rows x 44 columns]"
      ]
     },
     "execution_count": 13,
     "metadata": {},
     "output_type": "execute_result"
    }
   ],
   "source": [
    "personas.groupby('cluster').mean()"
   ]
  },
  {
   "cell_type": "markdown",
   "metadata": {},
   "source": [
    "## 2.2 TSNE"
   ]
  },
  {
   "cell_type": "code",
   "execution_count": null,
   "metadata": {
    "collapsed": true
   },
   "outputs": [],
   "source": [
    "from sklearn.cluster import KMeans\n",
    "\n",
    "km = KMeans(n_clusters=2, max_iter=300, random_state=None)\n",
    "personas['cluster'] = km.fit_predict(personas)\n",
    "\n",
    "from sklearn.manifold import TSNE\n",
    "\n",
    "model = TSNE(learning_rate = 100)\n",
    "transformed = model.fit_transform(personas)\n",
    "\n",
    "xs = transformed[:,0]\n",
    "ys = transformed[:,1]\n",
    "plt.scatter(xs,ys,c=personas['cluster'],alpha=0.5)\n",
    "plt.show()"
   ]
  },
  {
   "cell_type": "code",
   "execution_count": null,
   "metadata": {
    "collapsed": true
   },
   "outputs": [],
   "source": [
    "# Create a DataFrame with labels and varieties as columns: df\n",
    "df = pd.DataFrame({'personas': personas['cluster'], 'negocio': p_negocio})\n",
    "\n",
    "# Create crosstab: ct\n",
    "ct = pd.crosstab(df['personas'],df['negocio'])\n",
    "\n",
    "# Display ct\n",
    "print(ct)"
   ]
  }
 ],
 "metadata": {
  "kernelspec": {
   "display_name": "Python 3",
   "language": "python",
   "name": "python3"
  },
  "language_info": {
   "codemirror_mode": {
    "name": "ipython",
    "version": 3
   },
   "file_extension": ".py",
   "mimetype": "text/x-python",
   "name": "python",
   "nbconvert_exporter": "python",
   "pygments_lexer": "ipython3",
   "version": "3.6.3"
  }
 },
 "nbformat": 4,
 "nbformat_minor": 2
}
