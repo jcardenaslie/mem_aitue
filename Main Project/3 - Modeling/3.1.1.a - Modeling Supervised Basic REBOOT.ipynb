{
 "cells": [
  {
   "cell_type": "markdown",
   "metadata": {},
   "source": [
    "# 0 Utils"
   ]
  },
  {
   "cell_type": "code",
   "execution_count": 434,
   "metadata": {},
   "outputs": [],
   "source": [
    "import os\n",
    "import numpy as np\n",
    "import seaborn as sb\n",
    "%matplotlib inline\n",
    "sb.set()\n",
    "import matplotlib.pyplot as plt\n",
    "import pandas as pd\n",
    "import shap\n"
   ]
  },
  {
   "cell_type": "code",
   "execution_count": 435,
   "metadata": {},
   "outputs": [],
   "source": [
    "import warnings\n",
    "warnings.filterwarnings('ignore')"
   ]
  },
  {
   "cell_type": "code",
   "execution_count": 436,
   "metadata": {},
   "outputs": [],
   "source": [
    "N_JOBS = 6 # -1 ocupa todo los cores\n",
    "RANDOM_STATE = 42 # para que sea reproducible"
   ]
  },
  {
   "cell_type": "markdown",
   "metadata": {},
   "source": [
    "## Experiment Setting "
   ]
  },
  {
   "cell_type": "code",
   "execution_count": 437,
   "metadata": {},
   "outputs": [],
   "source": [
    "import time\n",
    "start_time = time.time()\n"
   ]
  },
  {
   "cell_type": "code",
   "execution_count": 438,
   "metadata": {},
   "outputs": [],
   "source": [
    "# dataset, base nro 2\n",
    "dataset_nro = 8\n",
    "experiment_nro = 1\n",
    "# 'All Proyects', 'Altos del Valle', 'Edificio Urban 1470','San Andres Del Valle', 'Edificio Mil610', 'Edificio Junge'\n",
    "proyecto_select = 'San Andres Del Valle' #cambiable\n",
    "\n",
    "# base, base_profesion, base_minusisprofesion, base_medini_isrec\n",
    "use_predictors = 'no_is_time_price' #cambiable\n",
    "# experimento 2 y 4 va con True\n",
    "no_nulls = False #cambiable\n",
    "sesgo = False #cambiable"
   ]
  },
  {
   "cell_type": "code",
   "execution_count": 439,
   "metadata": {},
   "outputs": [
    {
     "name": "stdout",
     "output_type": "stream",
     "text": [
      "28\n",
      "29\n",
      "28\n",
      "31\n"
     ]
    }
   ],
   "source": [
    "predictors_set = dict()\n",
    "\n",
    "no_is_time_price = [\n",
    "    'is_recontacto', 'is_remoto', 'is_descuento', 'valid_rut',\n",
    "    'loc_comuna', 'loc_provincia', 'loc_region', 'sexo', 'tipo_cliente',\n",
    "    'mean_cot_bod',\n",
    "    'mean_cot_depto', 'mean_cot_esta', 'mean_cot_estu', 'medio_inicial',\n",
    "    'nro_cot_bod', 'nro_cot_depto', 'nro_cot_esta',\n",
    "    'nro_cot_estu', 'nro_proyectos', 'precio_cotizacion_media',\n",
    "    'precio_cotizacion_median', 'precio_cotizacion_std', \n",
    "    \n",
    "    'tiempo_cotizacion_media', 'tiempo_cotizacion_median',\n",
    "    'tiempo_cotizacion_std',   \n",
    "    'Altos del Valle',\n",
    "    'Edificio Urban 1470', \n",
    "#     'San Andres Del Valle', \n",
    "    'Edificio Mil610',\n",
    "       'Edificio Junge']\n",
    "predictors_set ['no_is_time_price'] = no_is_time_price\n",
    "\n",
    "no_is =[\n",
    "        'actividad', \n",
    "        'loc_comuna', 'loc_provincia', 'loc_region', 'is_descuento', 'is_presencial',\n",
    "       'mean_cot_bod', 'mean_cot_depto', 'mean_cot_esta', 'mean_cot_estu', 'is_remoto',\n",
    "       'nro_cot_bod', 'nro_cot_depto', 'valid_rut', 'nro_cot_esta', 'nro_cot_estu', 'nro_proyectos','is_recontacto',\n",
    "       'sexo', 'tipo_cliente', 'medio_inicial',  \n",
    "        'Altos del Valle', \n",
    "        'Edificio Urban 1470',\n",
    "#        'San Andres Del Valle', \n",
    "        'Edificio Mil610', \n",
    "        'Edificio Junge'\n",
    "       ]\n",
    "\n",
    "predictors_set ['no_is'] = no_is\n",
    "\n",
    "no_is_minus_actividad =[\n",
    "        'loc_comuna', 'loc_provincia', 'loc_region', 'is_descuento', 'is_presencial',\n",
    "       'mean_cot_bod', 'mean_cot_depto', 'mean_cot_esta', 'mean_cot_estu', 'is_remoto',\n",
    "       'nro_cot_bod', 'nro_cot_depto', 'valid_rut', 'nro_cot_esta', 'nro_cot_estu', 'nro_proyectos','is_recontacto',\n",
    "       'sexo', 'tipo_cliente', 'medio_inicial',  \n",
    "        'Altos del Valle', \n",
    "        'Edificio Urban 1470',\n",
    "#        'San Andres Del Valle', \n",
    "        'Edificio Mil610', \n",
    "        'Edificio Junge'\n",
    "       ]\n",
    "predictors_set ['no_is_minus_actividad'] = no_is_minus_actividad\n",
    "\n",
    "\n",
    "base = ['is_apellido1', 'is_appelido2', 'is_celular',\n",
    "       'is_direccion', 'is_fnac', 'is_nombre', 'is_nombrecompleto',\n",
    "       'is_nrofam', 'is_profesion', 'is_telefono',\n",
    "       'loc_comuna', 'loc_provincia', 'loc_region',\n",
    "       'mean_cot_bod', 'mean_cot_depto', 'mean_cot_esta', 'mean_cot_estu',\n",
    "       'nro_cot_bod', 'nro_cot_depto',\n",
    "       'nro_cot_esta', 'nro_cot_estu', 'nro_proyectos',\n",
    "       'sexo', 'tipo_cliente', \n",
    "        'Altos del Valle', \n",
    "#         'Edificio Urban 1470',\n",
    "       'San Andres Del Valle', \n",
    "        'Edificio Mil610', \n",
    "        'Edificio Junge']\n",
    "\n",
    "print(len(base))\n",
    "predictors_set ['base'] = base\n",
    "\n",
    "base_profesion = base[0:]\n",
    "base_profesion.append('profesion')\n",
    "print(len(base_profesion))\n",
    "predictors_set ['base_profesion'] = base_profesion\n",
    "\n",
    "base_minusisprofesion = base_profesion[0:]\n",
    "base_minusisprofesion.remove('is_profesion')\n",
    "print(len(base_minusisprofesion))\n",
    "predictors_set ['base_minusisprofesion'] = base_minusisprofesion\n",
    "\n",
    "base_medini_isrec = base_profesion[0:]\n",
    "base_medini_isrec.append('medio_inicial')\n",
    "base_medini_isrec.append('is_recontacto')\n",
    "print(len(base_medini_isrec))\n",
    "predictors_set ['base_medini_isrec'] = base_medini_isrec\n"
   ]
  },
  {
   "cell_type": "code",
   "execution_count": null,
   "metadata": {},
   "outputs": [],
   "source": []
  },
  {
   "cell_type": "markdown",
   "metadata": {},
   "source": [
    "# 1 Load Dataset"
   ]
  },
  {
   "cell_type": "code",
   "execution_count": 440,
   "metadata": {},
   "outputs": [
    {
     "name": "stdout",
     "output_type": "stream",
     "text": [
      "(6155, 47)\n",
      "Index(['Unnamed: 0', 'actividad', 'compra', 'is_apellido1', 'is_apellido2',\n",
      "       'is_celular', 'is_descuento', 'is_direccion', 'is_fnac', 'is_nombre',\n",
      "       'is_nombrecompleto', 'is_nrofam', 'is_presencial', 'is_profesion',\n",
      "       'is_recontacto', 'is_remoto', 'is_telefono', 'loc_comuna',\n",
      "       'loc_provincia', 'loc_region', 'max_rango_edad', 'mean_cot_bod',\n",
      "       'mean_cot_depto', 'mean_cot_esta', 'mean_cot_estu', 'medio_inicial',\n",
      "       'negocio', 'nro_cot_bod', 'nro_cot_depto', 'nro_cot_esta',\n",
      "       'nro_cot_estu', 'nro_proyectos', 'precio_cotizacion_media',\n",
      "       'precio_cotizacion_median', 'precio_cotizacion_std', 'rut', 'sexo',\n",
      "       'tiempo_cotizacion_media', 'tiempo_cotizacion_median',\n",
      "       'tiempo_cotizacion_std', 'tipo_cliente', 'valid_rut', 'Altos del Valle',\n",
      "       'Edificio Urban 1470', 'San Andres Del Valle', 'Edificio Mil610',\n",
      "       'Edificio Junge'],\n",
      "      dtype='object')\n"
     ]
    }
   ],
   "source": [
    "# nombre experimento\n",
    "exp_name = \"{} {}\".format(proyecto_select, use_predictors)\n",
    "# eleccion dataset\n",
    "dataset = 'personas_cotizacion{}.csv'.format(dataset_nro)\n",
    "\n",
    "# DS_NAME = dataset.split('.')[0]\n",
    "DS_NAME = exp_name\n",
    "\n",
    "directory = '..\\\\results\\\\test_model_results_dataset{}'.format(dataset_nro)\n",
    "import os\n",
    "if not os.path.exists(directory):\n",
    "    os.makedirs(directory)\n",
    "\n",
    "folder = '..\\\\results\\\\model_results_dataset{}\\\\{}'.format(dataset_nro, DS_NAME)\n",
    "\n",
    "if not os.path.exists(folder):\n",
    "    os.mkdir(folder)\n",
    "\n",
    "\n",
    "personas = pd.read_csv('..\\\\..\\\\Datos\\\\experiments\\\\{}'.format(dataset), encoding = \"ISO-8859-1\")\n",
    "\n",
    "readme = dict()\n",
    "readme['experiment_name'] = DS_NAME\n",
    "readme['experiment_dataset'] = dataset\n",
    "\n",
    "print(personas.shape)\n",
    "readme['personas_shape'] = personas.shape\n",
    "# personas.head(2)\n",
    "\n",
    "print(personas.columns)\n",
    "readme['personas_columns'] = personas.columns.tolist()"
   ]
  },
  {
   "cell_type": "code",
   "execution_count": 441,
   "metadata": {},
   "outputs": [],
   "source": [
    "personas['loc_comuna'] = personas['loc_comuna'].astype('category')\n",
    "personas['loc_provincia'] = personas['loc_provincia'].astype('category')\n",
    "personas['loc_region'] = personas['loc_region'].astype('category')\n",
    "personas['tipo_cliente'] = personas['tipo_cliente'].astype('category')\n",
    "personas['sexo'] = personas['sexo'].astype('category')\n",
    "# personas.profesion.fillna('sin informacion', inplace=True)\n",
    "# personas['profesion'] = personas['profesion'].astype('category')\n",
    "personas['medio_inicial'] = personas['medio_inicial'].astype('category')"
   ]
  },
  {
   "cell_type": "code",
   "execution_count": 442,
   "metadata": {},
   "outputs": [
    {
     "name": "stdout",
     "output_type": "stream",
     "text": [
      "(3799, 47)\n"
     ]
    }
   ],
   "source": [
    "# Ajustes especificos experimento\n",
    "# Para E5D5, E6D5 #########################################\n",
    "if proyecto_select != 'All Proyects':\n",
    "    mask = (personas[proyecto_select] > 0)\n",
    "    personas = personas[mask]\n",
    "    print(personas[mask].shape)\n",
    "    personas[mask]\n",
    "###########################################################\n",
    "\n",
    "predictors = predictors_set[use_predictors]\n",
    "\n",
    "if no_nulls:\n",
    "    personas.replace(['sin informacion'], np.nan, inplace=True)\n",
    "    personas.dropna(inplace=True)"
   ]
  },
  {
   "cell_type": "code",
   "execution_count": 443,
   "metadata": {},
   "outputs": [
    {
     "name": "stdout",
     "output_type": "stream",
     "text": [
      "['is_recontacto', 'is_remoto', 'is_descuento', 'valid_rut', 'loc_comuna', 'loc_provincia', 'loc_region', 'sexo', 'tipo_cliente', 'mean_cot_bod', 'mean_cot_depto', 'mean_cot_esta', 'mean_cot_estu', 'medio_inicial', 'nro_cot_bod', 'nro_cot_depto', 'nro_cot_esta', 'nro_cot_estu', 'nro_proyectos', 'precio_cotizacion_media', 'precio_cotizacion_median', 'precio_cotizacion_std', 'tiempo_cotizacion_media', 'tiempo_cotizacion_median', 'tiempo_cotizacion_std', 'Altos del Valle', 'Edificio Urban 1470', 'Edificio Mil610', 'Edificio Junge']\n",
      "(3799,)\n",
      "(3799, 29)\n",
      "(3799, 29)\n"
     ]
    }
   ],
   "source": [
    "print(predictors)\n",
    "# Ready Data Set\n",
    "# p_negocio = personas.negocio # Target\n",
    "p_negocio = personas.compra # Target\n",
    "# personas = personas.drop(drop_columns, axis=1) # Predictors\n",
    "personas = personas[predictors]\n",
    "\n",
    "print(p_negocio.shape)\n",
    "print(personas.shape)\n",
    "readme['personas_after_drop_columns'] = personas.columns\n",
    "\n",
    "print(personas.shape)\n",
    "readme['personas_predictors_shape'] = personas.shape\n",
    "readme['personas_predictors'] = personas.columns\n",
    "\n",
    "\n",
    "personas = pd.get_dummies(personas)\n",
    "readme['personas_dummies_shape'] = personas.shape\n",
    "\n",
    "# personas.describe()"
   ]
  },
  {
   "cell_type": "markdown",
   "metadata": {},
   "source": [
    "# 3 Supervised Learning: Classification"
   ]
  },
  {
   "cell_type": "markdown",
   "metadata": {},
   "source": [
    "## 3.1 Libraries"
   ]
  },
  {
   "cell_type": "code",
   "execution_count": 478,
   "metadata": {},
   "outputs": [],
   "source": [
    "from sklearn.model_selection import train_test_split\n",
    "from sklearn.neighbors import KNeighborsClassifier\n",
    "from sklearn.metrics import classification_report, confusion_matrix, roc_curve, precision_recall_fscore_support\n",
    "from sklearn.model_selection import GridSearchCV\n",
    "from sklearn.linear_model import LogisticRegression\n",
    "from scipy.stats import randint\n",
    "from sklearn.tree import DecisionTreeClassifier\n",
    "from sklearn.model_selection import RandomizedSearchCV\n",
    "from sklearn.ensemble import RandomForestClassifier\n",
    "from sklearn.metrics import roc_auc_score\n",
    "from sklearn import metrics\n",
    "from sklearn.preprocessing import MinMaxScaler\n",
    "from sklearn.pipeline import Pipeline\n",
    "from sklearn.decomposition import PCA\n",
    "from sklearn import svm\n",
    "from xgboost import XGBClassifier"
   ]
  },
  {
   "cell_type": "markdown",
   "metadata": {},
   "source": [
    "## 3.2 Check the Dataset"
   ]
  },
  {
   "cell_type": "code",
   "execution_count": 479,
   "metadata": {
    "scrolled": true
   },
   "outputs": [
    {
     "name": "stdout",
     "output_type": "stream",
     "text": [
      "Tamaño Total:  (3799, 55)\n",
      "Personas que hicieron Negocio:  (235,)\n",
      "Personas que no Hicieorn Negocio:  (3564,)\n"
     ]
    }
   ],
   "source": [
    "print(\"Tamaño Total: \", personas.shape)\n",
    "print(\"Personas que hicieron Negocio: \", p_negocio[p_negocio == True].shape)\n",
    "print(\"Personas que no Hicieorn Negocio: \", p_negocio[p_negocio == False].shape)\n",
    "readme['personas_negocio'] = p_negocio[p_negocio == True].shape\n",
    "readme['personas_nonegocio'] = p_negocio[p_negocio == False].shape"
   ]
  },
  {
   "cell_type": "markdown",
   "metadata": {
    "collapsed": true
   },
   "source": [
    "## 3.4 Help Functions"
   ]
  },
  {
   "cell_type": "code",
   "execution_count": 480,
   "metadata": {},
   "outputs": [],
   "source": [
    "readme['model'] = dict()"
   ]
  },
  {
   "cell_type": "code",
   "execution_count": 481,
   "metadata": {},
   "outputs": [],
   "source": [
    "roc_curves_to_plot= dict()"
   ]
  },
  {
   "cell_type": "code",
   "execution_count": 482,
   "metadata": {},
   "outputs": [],
   "source": [
    "roc_curves_to_plot[DS_NAME]= dict()"
   ]
  },
  {
   "cell_type": "code",
   "execution_count": 483,
   "metadata": {},
   "outputs": [],
   "source": [
    "import scikitplot as skplt\n",
    "\n",
    "def classifier_insights(y_test, clf_probas, MODEL):\n",
    "    fig = plt.figure()\n",
    "    ax = plt.subplot(skplt.metrics.plot_cumulative_gain(y_test, clf_probas, figsize=(12,8)))\n",
    "    plt.legend(loc=9, bbox_to_anchor=(1.15, 1), ncol=1)\n",
    "    plt.savefig('..//results/model_results_dataset{}/\\\\{}\\\\{}_cum_gain.png'.format(dataset_nro, DS_NAME, MODEL), bbox_inches = 'tight', dpi=300)\n",
    "    plt.show()\n",
    "\n",
    "\n",
    "    fig = plt.figure()\n",
    "    ax = plt.subplot(skplt.metrics.plot_lift_curve(y_test, clf_probas, figsize=(12,8)))\n",
    "    plt.legend(loc=9, bbox_to_anchor=(1.15, 1), ncol=1)\n",
    "    plt.savefig('..//results/model_results_dataset{}/\\\\{}\\\\{}_lift.png'.format(dataset_nro, DS_NAME, MODEL), bbox_inches = 'tight', dpi=300)\n",
    "    plt.show()\n",
    "\n",
    "    fig = plt.figure()\n",
    "    ax = plt.subplot(skplt.estimators.plot_feature_importances(\n",
    "        best_brf, feature_names=personas.columns, x_tick_rotation=90, figsize=(12,8)))\n",
    "    plt.legend(loc=9, bbox_to_anchor=(1.15, 1), ncol=1)\n",
    "    plt.savefig('..//results/model_results_dataset{}/\\\\{}\\\\{}_f_importance.png'.format(dataset_nro, DS_NAME, MODEL), bbox_inches = 'tight', dpi=300)\n",
    "    plt.show()\n",
    "\n",
    "\n",
    "\n",
    "    fig = plt.figure()\n",
    "    ax = plt.subplot(skplt.metrics.plot_precision_recall(y_test, clf_probas, figsize=(12,8)))\n",
    "    plt.legend(loc=9, bbox_to_anchor=(1.15, 1), ncol=1)\n",
    "    plt.savefig('..//results/model_results_dataset{}\\\\{}\\\\{}_precition_recall.png'.format(dataset_nro, DS_NAME, MODEL), bbox_inches = 'tight', dpi=300)\n",
    "    plt.show()\n",
    "\n",
    "    fig = plt.figure()\n",
    "    ax = plt.subplot(skplt.metrics.plot_ks_statistic(y_test, clf_probas, figsize=(12,8)))\n",
    "    plt.legend(loc=9, bbox_to_anchor=(1.15, 1), ncol=1)\n",
    "    plt.savefig('..//results/model_results_dataset{}/\\\\{}\\\\{}_ks_sta.png'.format(dataset_nro, DS_NAME, MODEL), bbox_inches = 'tight', dpi=300)\n",
    "    plt.show()"
   ]
  },
  {
   "cell_type": "code",
   "execution_count": 484,
   "metadata": {},
   "outputs": [],
   "source": [
    "import json\n",
    "def save_readme():    \n",
    "    exDict = {'readme': readme}\n",
    "    with open('..\\\\results\\\\model_results_dataset{}\\\\{}\\\\readme_{}.txt'.format(dataset_nro, DS_NAME, DS_NAME), 'w') as file:\n",
    "        file.write(str(exDict))\n",
    "\n",
    "def plot_all_auc_values():\n",
    "        \n",
    "    d = dict()\n",
    "    for key in roc_curves_to_plot[DS_NAME]:\n",
    "        d[key] = roc_curves_to_plot[DS_NAME][key]['auc']\n",
    "    \n",
    "    s = [(k, d[k]) for k in sorted(d, key=d.get, reverse=True)]\n",
    "    \n",
    "    x_model = [x[0] for x in s]\n",
    "    x_value = [x[1] for x in s]\n",
    "    \n",
    "    x = np.arange(len(roc_curves_to_plot[DS_NAME].keys()))\n",
    "    \n",
    "    f = plt.figure(figsize=(12,8))\n",
    "    plt.title('{} AUC Models'.format(DS_NAME))\n",
    "    plt.xlabel('Models')\n",
    "    plt.ylabel('AUC')\n",
    "    plt.bar(x, x_value)\n",
    "    plt.xticks(x, x_model)\n",
    "    plt.savefig('..\\\\results\\\\model_results_dataset{}\\\\{}\\\\auc_models.png'.format(dataset_nro, DS_NAME,DS_NAME), dpi=300)\n",
    "    plt.show()\n",
    "\n",
    "def plot_all_roc_curves():\n",
    "    \n",
    "    f = plt.figure(figsize=(12,8))\n",
    "    plt.plot([0, 1], [0, 1], 'k--')\n",
    "    \n",
    "    for key in roc_curves_to_plot[DS_NAME]:\n",
    "        plt.plot(roc_curves_to_plot[DS_NAME][key]['fpr'], roc_curves_to_plot[DS_NAME][key]['tpr']) #fpr and tpr\n",
    "    \n",
    "    legends = ['random choice']\n",
    "    legends.extend(roc_curves_to_plot[DS_NAME].keys())\n",
    "    plt.legend(legends)\n",
    "    \n",
    "    plt.xlabel('False Positive Rate')\n",
    "    plt.ylabel('True Positive Rate')\n",
    "    plt.title('{} Models ROC Curve'.format(DS_NAME))\n",
    "    plt.savefig('..\\\\results\\\\model_results_dataset{}\\\\{}\\\\roc_curve_all.png'.format(dataset_nro, DS_NAME, MODEL), dpi=300)\n",
    "    plt.show()\n",
    "\n",
    "# Import necessary modules\n",
    "def roc_curve_plot(model, X_test, y_test):\n",
    "    \n",
    "    # Compute predicted probabilities: y_pred_prob\n",
    "    y_pred_prob = model.predict_proba(X_test)[:,1]\n",
    "\n",
    "    # Generate ROC curve values: fpr, tpr, thresholds\n",
    "    fpr, tpr, treshold = roc_curve(y_test, y_pred_prob)\n",
    "    \n",
    "    roc_curves_to_plot[DS_NAME][MODEL] = dict()\n",
    "    roc_curves_to_plot[DS_NAME][MODEL]['fpr'] = fpr\n",
    "    roc_curves_to_plot[DS_NAME][MODEL]['tpr'] = tpr\n",
    "    roc_curves_to_plot[DS_NAME][MODEL]['auc'] = roc_auc_score(y_test, y_pred_prob)\n",
    "    \n",
    "    # Plot ROC curve\n",
    "    plt.plot([0, 1], [0, 1], 'k--')\n",
    "    plt.plot(fpr, tpr)\n",
    "    plt.xlabel('False Positive Rate')\n",
    "    plt.ylabel('True Positive Rate')\n",
    "    plt.title('{} {} ROC Curve'.format(DS_NAME, MODEL))\n",
    "    plt.savefig('..\\\\results\\\\model_results_dataset{}\\\\{}\\\\{}_roc_curve.png'.format(dataset_nro, DS_NAME, MODEL), dpi=300)\n",
    "    plt.show()\n",
    "\n",
    "def plot_confusion_matrix(y, y_pred):\n",
    "    conf_ma = confusion_matrix(y, y_pred)\n",
    "    clas_report = classification_report(y, y_pred)\n",
    "    \n",
    "    print(\"Confusion Matrix: \\n\", conf_ma)\n",
    "    readme['model'][MODEL]['conf_matrix'] = conf_ma\n",
    "    \n",
    "    print(\"Clasification Reports:\\n\", clas_report)\n",
    "    readme['model'][MODEL]['cla_report'] = clas_report\n",
    "    \n",
    "    plt.figure(figsize=(5,5))\n",
    "    \n",
    "    sb.heatmap(conf_ma, annot=True, fmt=\".0f\", linewidths=.5, square=True, cmap='Blues');\n",
    "    plt.ylabel('Actual label');\n",
    "    plt.xlabel('Predicted label');\n",
    "    title_plt = \"{} {} Conf. Matrix\".format(DS_NAME, MODEL)\n",
    "    plt.title(title_plt, size=10);\n",
    "    plt.savefig('..\\\\results\\\\model_results_dataset{}\\\\{}\\\\{}_confusion_matrix.png'.format(dataset_nro, DS_NAME, MODEL), dpi=300)\n",
    "    plt.show()\n",
    "\n",
    "def plot_importance_graph(model):\n",
    "    features = personas.columns\n",
    "    \n",
    "    feature_importance = model.best_estimator_.feature_importances_ \n",
    "    fig = plt.figure(figsize=(20, 18))\n",
    "    ax = fig.add_subplot(111)\n",
    "\n",
    "    df_f = pd.DataFrame(feature_importance, columns=[\"importance\"])\n",
    "    df_f[\"labels\"] = features\n",
    "    df_f.sort_values(\"importance\", inplace=True, ascending=False)\n",
    "    display(df_f.head(5))\n",
    "\n",
    "    index = np.arange(len(feature_importance[:20]))\n",
    "    bar_width = 0.5\n",
    "    rects = plt.barh(index[:20] , df_f[\"importance\"][:20], bar_width, alpha=0.4, color='b', label='Main')\n",
    "    plt.yticks(index, df_f[\"labels\"])\n",
    "    plt.title(\"{} {} Feature Importance\".format(DS_NAME, MODEL))\n",
    "    plt.savefig('..\\\\results\\\\model_results_dataset{}\\\\{}\\\\{}_importance.png'.format(dataset_nro, DS_NAME, MODEL), dpi=300)\n",
    "    plt.show()\n",
    "\n",
    "def grid_results(grid):\n",
    "    \n",
    "    best_model = grid.best_estimator_\n",
    "    \n",
    "    best_model.fit(X_train, y_train)\n",
    "    y_pred = best_model.predict(X_test)\n",
    "    \n",
    "    p, r, f, s = precision_recall_fscore_support(y_test, y_pred, average='macro')\n",
    "    \n",
    "    grid_mean_test_score = pd.DataFrame(grid.cv_results_)\n",
    "    grid_mean_test_score = grid_mean_test_score.sort_values(by='rank_test_score')\n",
    "    grid_mean_test_score = grid_mean_test_score.reset_index().loc[0,['std_test_score']]\n",
    "    \n",
    "    return {\n",
    "        'grid_best_model': grid.best_estimator_,\n",
    "        'grid_std': grid_mean_test_score,\n",
    "        'grid_best_score': grid.best_score_,\n",
    "        'grid_cvresults': grid.cv_results_,\n",
    "        'best_model_test_score':best_model.score(X_test, y_test),\n",
    "        'best_model_test_ypred': best_model.predict_proba(X_test)[:,1],\n",
    "        'best_model_test_auc': roc_auc_score(y_test, y_pred),\n",
    "        'best_model_precision': p,\n",
    "        'best_model_recall': r,\n",
    "        'best_model_fscore': f,\n",
    "        'best_model_support': s,\n",
    "    }"
   ]
  },
  {
   "cell_type": "markdown",
   "metadata": {},
   "source": [
    "## 3.5 Models"
   ]
  },
  {
   "cell_type": "code",
   "execution_count": 485,
   "metadata": {},
   "outputs": [],
   "source": [
    "to_profit_curve = dict()"
   ]
  },
  {
   "cell_type": "markdown",
   "metadata": {},
   "source": [
    "## 3.3 Train & Test"
   ]
  },
  {
   "cell_type": "code",
   "execution_count": 486,
   "metadata": {},
   "outputs": [
    {
     "name": "stdout",
     "output_type": "stream",
     "text": [
      "(2659, 55) (1140, 55) (2659,) (1140,)\n"
     ]
    }
   ],
   "source": [
    "X = personas\n",
    "y = p_negocio\n",
    "\n",
    "X_train, X_test, y_train, y_test = train_test_split(X, y, test_size=0.3, random_state=RANDOM_STATE)\n",
    "print(X_train.shape, X_test.shape, y_train.shape, y_test.shape)\n",
    "readme['x_train_shape'] = X_train.shape\n",
    "readme['y_train_shape'] = y_train.shape\n",
    "readme['x_test_shape'] = X_test.shape\n",
    "readme['y_test_shape'] = y_test.shape"
   ]
  },
  {
   "cell_type": "code",
   "execution_count": 508,
   "metadata": {},
   "outputs": [],
   "source": [
    "clf_params = dict()\n",
    "clf_params['KNN'] = {'n_neighbors': np.arange(1, 20)}\n",
    "clf_params['PCAKNN'] = {'pca__n_components': [2, 3, 4, 5, 6, 7, 8, 9]}\n",
    "clf_params['LR'] = {'C': np.logspace(-5, 8, 15), 'penalty':['l1', 'l2'], 'class_weight':[None, 'balanced']}\n",
    "clf_params['DT'] = {\"max_depth\": range(1,20),\"max_features\":range(1,30), \n",
    "                    \"min_samples_leaf\": range(1,10),\"criterion\": [\"gini\", \"entropy\"], \n",
    "                    'class_weight':[None, 'balanced']}\n",
    "clf_params['RF'] = {\"max_depth\": range(1,20),\"max_features\":range(1,30), \"min_samples_leaf\": range(1,10),\n",
    "                    \"criterion\": [\"gini\", \"entropy\"], 'class_weight':[None, 'balanced']}\n",
    "#SVM PARAMS\n",
    "clf_params['SVM'] = {'C' :[0.001, 0.01, 0.1, 1, 10], 'gamma' : [0.001, 0.01, 0.1, 1], 'class_weight':[None, 'balanced']}\n",
    "# XGB PARAMS\n",
    "clf_params['XGB'] = {'n_estimators' : [50, 100, 150, 200], 'max_depth' : [2, 4, 6, 8]}"
   ]
  },
  {
   "cell_type": "code",
   "execution_count": 509,
   "metadata": {},
   "outputs": [],
   "source": [
    "clfs = dict()\n",
    "clfs['LR'] = LogisticRegression()\n",
    "clfs['DT'] = DecisionTreeClassifier()\n",
    "clfs['RF'] = RandomForestClassifier()\n",
    "clfs['SVM'] = svm.SVC(kernel='rbf', probability=True)\n",
    "clfs['KNN'] = KNeighborsClassifier()\n",
    "clfs['PCAKNN'] = Pipeline([('pca', PCA()), ('clf', KNeighborsClassifier())])\n",
    "clfs['XGB'] = XGBClassifier()"
   ]
  },
  {
   "cell_type": "code",
   "execution_count": 510,
   "metadata": {},
   "outputs": [],
   "source": [
    "clfs_results = dict()\n",
    "clfs_results['LR'] = dict()\n",
    "clfs_results['DT'] = dict()\n",
    "clfs_results['RF'] = dict()\n",
    "clfs_results['PCAKNN'] = dict()\n",
    "clfs_results['KNN'] = dict()\n",
    "clfs_results['XGB'] = dict()\n",
    "clfs_results['SVM'] = dict()\n"
   ]
  },
  {
   "cell_type": "markdown",
   "metadata": {},
   "source": [
    "# Grid"
   ]
  },
  {
   "cell_type": "code",
   "execution_count": 511,
   "metadata": {
    "scrolled": false
   },
   "outputs": [
    {
     "name": "stdout",
     "output_type": "stream",
     "text": [
      "Classifier: XGB\n",
      "grid_acc cv=2 0.9376 +- 0.001 | model_auc: 0.4995 | model_acc: 0.9509 | model_p: 0.4759 | model_r: 0.4995 | model_fs: 0.4874\n"
     ]
    }
   ],
   "source": [
    "from sklearn.model_selection import GridSearchCV, StratifiedKFold, StratifiedShuffleSplit\n",
    "\n",
    "for clf in clfs.keys():\n",
    "    print(\"Classifier:\",clf)\n",
    "    for i in range(2,3):\n",
    "\n",
    "        kf = StratifiedKFold(n_splits=i, shuffle=True, random_state=RANDOM_STATE)\n",
    "\n",
    "        if clf == 'RF':\n",
    "            grid = RandomizedSearchCV(clfs[clf], clf_params[clf], cv=kf, \n",
    "                                      n_jobs=N_JOBS, n_iter=300, random_state=RANDOM_STATE, verbose=1)\n",
    "        else:\n",
    "            grid = GridSearchCV(clfs[clf], clf_params[clf], cv=kf, \n",
    "                                n_jobs=N_JOBS, verbose=1, random_state=RANDOM_STATE)\n",
    "        \n",
    "        grid.fit(X, y)\n",
    "\n",
    "        clfs_results[clf][i] = grid_results(grid)\n",
    "        print(\n",
    "            \"grid_acc cv={} %.4f +- %.3f |\".format(i) % (clfs_results[clf][i]['grid_best_score']\n",
    "                                                             ,clfs_results[clf][i]['grid_std']), \n",
    "            \"model_auc: %.4f |\" % clfs_results[clf][i]['best_model_test_auc'],\n",
    "            \"model_acc: %.4f |\" % clfs_results[clf][i]['best_model_test_score'],\n",
    "            \"model_p: %.4f |\" % clfs_results[clf][i]['best_model_precision'],\n",
    "            \"model_r: %.4f |\" % clfs_results[clf][i]['best_model_recall'],\n",
    "            \"model_fs: %.4f\" % clfs_results[clf][i]['best_model_fscore'],\n",
    "            \n",
    "             )\n",
    "    "
   ]
  },
  {
   "cell_type": "code",
   "execution_count": 419,
   "metadata": {},
   "outputs": [
    {
     "name": "stdout",
     "output_type": "stream",
     "text": [
      "Classifier:  lr\n",
      "grid_acc cv=2 0.8342 +- 0.003 | model_auc: 0.6811 | model_acc: 0.8439 | model_p: 0.7706 | model_r: 0.6811 | model_fs: 0.7090\n",
      "grid_acc cv=3 0.8355 +- 0.002 | model_auc: 0.6833 | model_acc: 0.8500 | model_p: 0.7903 | model_r: 0.6833 | model_fs: 0.7147\n",
      "grid_acc cv=4 0.8365 +- 0.003 | model_auc: 0.6833 | model_acc: 0.8500 | model_p: 0.7903 | model_r: 0.6833 | model_fs: 0.7147\n",
      "grid_acc cv=5 0.8360 +- 0.006 | model_auc: 0.6739 | model_acc: 0.8456 | model_p: 0.7812 | model_r: 0.6739 | model_fs: 0.7044\n",
      "grid_acc cv=6 0.8392 +- 0.002 | model_auc: 0.6833 | model_acc: 0.8500 | model_p: 0.7903 | model_r: 0.6833 | model_fs: 0.7147\n",
      "grid_acc cv=7 0.8357 +- 0.006 | model_auc: 0.6833 | model_acc: 0.8500 | model_p: 0.7903 | model_r: 0.6833 | model_fs: 0.7147\n",
      "grid_acc cv=8 0.8365 +- 0.004 | model_auc: 0.6833 | model_acc: 0.8500 | model_p: 0.7903 | model_r: 0.6833 | model_fs: 0.7147\n",
      "grid_acc cv=9 0.8371 +- 0.007 | model_auc: 0.6833 | model_acc: 0.8500 | model_p: 0.7903 | model_r: 0.6833 | model_fs: 0.7147\n",
      "grid_acc cv=10 0.8371 +- 0.011 | model_auc: 0.6833 | model_acc: 0.8500 | model_p: 0.7903 | model_r: 0.6833 | model_fs: 0.7147\n"
     ]
    }
   ],
   "source": [
    "for clf in clfs_results.keys():\n",
    "    print(\"Classifier: \", clf)\n",
    "    for cv in clfs_results[clf].keys():\n",
    "                print(\n",
    "            \"grid_acc cv={} %.4f +- %.3f |\".format(cv) % (clfs_results[clf][cv]['grid_best_score']\n",
    "                                                             ,clfs_results[clf][cv]['grid_std']), \n",
    "            \"model_auc: %.4f |\" % clfs_results[clf][cv]['best_model_test_auc'],\n",
    "            \"model_acc: %.4f |\" % clfs_results[clf][cv]['best_model_test_score'],\n",
    "            \"model_p: %.4f |\" % clfs_results[clf][cv]['best_model_precision'],\n",
    "            \"model_r: %.4f |\" % clfs_results[clf][cv]['best_model_recall'],\n",
    "            \"model_fs: %.4f\" % clfs_results[clf][cv]['best_model_fscore'],\n",
    "            \n",
    "             )"
   ]
  },
  {
   "cell_type": "code",
   "execution_count": null,
   "metadata": {},
   "outputs": [],
   "source": [
    "pd.DataFrame(clfs_results['lr'][2]['grid_cvresults'])"
   ]
  },
  {
   "cell_type": "code",
   "execution_count": 427,
   "metadata": {},
   "outputs": [
    {
     "data": {
      "image/png": "[encoded data removed]",
      "text/plain": [
       "<matplotlib.figure.Figure at 0x2b3473fff28>"
      ]
     },
     "metadata": {},
     "output_type": "display_data"
    },
    {
     "data": {
      "image/png": "[encoded data removed]",
      "text/plain": [
       "<matplotlib.figure.Figure at 0x2b347394550>"
      ]
     },
     "metadata": {},
     "output_type": "display_data"
    }
   ],
   "source": [
    "def bar_results(rd, model_name, metric, xlabel, ylabel, title):\n",
    "    d = dict()\n",
    "\n",
    "    for result in rd[model_name].keys():\n",
    "        d[result] = rd[model_name][result][metric]\n",
    "\n",
    "    s = [(k, d[k]) for k in sorted(d, key=d.get, reverse=True)]\n",
    "\n",
    "    x_model = [x[0] for x in s]\n",
    "    x_value = [x[1] for x in s]\n",
    "\n",
    "    x = np.arange(len(clfs_results[model_name].keys()))\n",
    "\n",
    "    f = plt.figure(figsize=(6,4))\n",
    "    plt.title(title)\n",
    "    plt.xlabel(xlabel)\n",
    "    plt.ylabel(ylabel)\n",
    "    plt.bar(x, x_value)\n",
    "    plt.xticks(x, x_model)\n",
    "    plt.show()\n",
    "    \n",
    "bar_results(clfs_results, 'lr', 'grid_best_score', 'CV', 'ACC', 'GRID LR Fold Accuracy Mean')\n",
    "bar_results(clfs_results, 'lr', 'best_model_test_auc', 'CV', 'AUC', 'LR Fold AUC')"
   ]
  },
  {
   "cell_type": "code",
   "execution_count": 430,
   "metadata": {},
   "outputs": [
    {
     "data": {
      "image/png": "[encoded data removed]",
      "text/plain": [
       "<matplotlib.figure.Figure at 0x2b348afbe10>"
      ]
     },
     "metadata": {},
     "output_type": "display_data"
    }
   ],
   "source": [
    "color_sequence = ['#f44242', '#f4eb41', '#acf441', '#285919', '#41f4eb',\n",
    "                  '#4146f4', '#7041f4', '#593518', '#f441f1', '#f44173']\n",
    "\n",
    "def roc_battle(clf):\n",
    "    \n",
    "    f = plt.figure(figsize=(15,12))\n",
    "    plt.plot([0, 1], [0, 1], 'k--')\n",
    "    rank= 0\n",
    "    legends = ['random choice']\n",
    "    for key, value in clfs_results[clf].items():\n",
    "        legends.append('cv %i: %.3f' %(key, clfs_results[clf][key]['best_model_test_auc']))\n",
    "        y_pred = clfs_results[clf][key]['best_model_test_ypred']\n",
    "        fpr, tpr, treshold = roc_curve(y_test, y_pred)\n",
    "        plt.plot(fpr, tpr, color=color_sequence[rank]) #fpr and tpr\n",
    "        rank +=1\n",
    "    plt.legend(legends)\n",
    "    \n",
    "    plt.xlabel('False Positive Rate')\n",
    "    plt.ylabel('True Positive Rate')\n",
    "    plt.title('{} Models ROC Curve'.format(DS_NAME))\n",
    "    plt.savefig('..\\\\results\\\\model_results_dataset{}\\\\{}\\\\{}_battle_roc_curve.png'.format(dataset_nro, DS_NAME, clf), dpi=300)\n",
    "    plt.show()\n",
    "\n",
    "roc_battle('lr')"
   ]
  },
  {
   "cell_type": "code",
   "execution_count": null,
   "metadata": {},
   "outputs": [],
   "source": []
  }
 ],
 "metadata": {
  "kernelspec": {
   "display_name": "Python 3",
   "language": "python",
   "name": "python3"
  },
  "language_info": {
   "codemirror_mode": {
    "name": "ipython",
    "version": 3
   },
   "file_extension": ".py",
   "mimetype": "text/x-python",
   "name": "python",
   "nbconvert_exporter": "python",
   "pygments_lexer": "ipython3",
   "version": "3.6.4"
  }
 },
 "nbformat": 4,
 "nbformat_minor": 2
}
