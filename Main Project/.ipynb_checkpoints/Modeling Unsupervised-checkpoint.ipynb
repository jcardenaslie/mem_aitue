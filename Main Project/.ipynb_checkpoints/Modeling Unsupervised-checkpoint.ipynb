{
 "cells": [
  {
   "cell_type": "code",
   "execution_count": null,
   "metadata": {
    "collapsed": true
   },
   "outputs": [],
   "source": [
    "import os\n",
    "import numpy as np\n",
    "import seaborn as sb\n",
    "sb.set()\n",
    "import matplotlib.pyplot as plt\n",
    "import pandas as pd"
   ]
  },
  {
   "cell_type": "markdown",
   "metadata": {},
   "source": [
    "# 1 Data"
   ]
  },
  {
   "cell_type": "code",
   "execution_count": null,
   "metadata": {
    "collapsed": true
   },
   "outputs": [],
   "source": [
    "personas = pd.read_csv('..\\\\Datos\\\\personas_cotizacion.csv',encoding = \"ISO-8859-1\")\n",
    "# personas = pd.read_csv(data_directory+'personas.csv')\n",
    "personas = personas.drop(personas.columns[0], axis=1)\n",
    "personas = personas.drop(['rut'], axis=1)\n",
    "# personas['negocio'] = []\n",
    "personas.head(2)"
   ]
  },
  {
   "cell_type": "code",
   "execution_count": null,
   "metadata": {
    "collapsed": true
   },
   "outputs": [],
   "source": [
    "p_negocio = personas.negocio\n",
    "personas = personas.drop('negocio',axis=1)\n",
    "print(personas.shape)"
   ]
  },
  {
   "cell_type": "code",
   "execution_count": null,
   "metadata": {
    "collapsed": true
   },
   "outputs": [],
   "source": [
    "personas = pd.get_dummies(personas)"
   ]
  },
  {
   "cell_type": "code",
   "execution_count": null,
   "metadata": {
    "collapsed": true
   },
   "outputs": [],
   "source": [
    "personas = personas.drop(['max_rango_edad'],axis=1)\n",
    "personas.shape"
   ]
  },
  {
   "cell_type": "markdown",
   "metadata": {},
   "source": [
    "# 2 Unsupervised Learning"
   ]
  },
  {
   "cell_type": "markdown",
   "metadata": {},
   "source": [
    "## 2.1 Dim Reduction"
   ]
  },
  {
   "cell_type": "code",
   "execution_count": null,
   "metadata": {
    "collapsed": true
   },
   "outputs": [],
   "source": [
    "from sklearn.decomposition import PCA\n",
    "#check variance\n",
    "pca = PCA(n_components = 8)\n",
    "pca.fit(personas)\n",
    "\n",
    "features = range(pca.n_components_)\n",
    "\n",
    "plt.bar(features, pca.explained_variance_)\n",
    "plt.xticks(features)\n",
    "plt.ylabel('variance')\n",
    "plt.xlabel('PCA features')\n",
    "plt.show()\n"
   ]
  },
  {
   "cell_type": "code",
   "execution_count": null,
   "metadata": {
    "collapsed": true
   },
   "outputs": [],
   "source": [
    "pca = PCA(n_components = 2)\n",
    "pca.fit(personas)\n",
    "transformed = pca.transform(personas)\n",
    "\n",
    "xs = transformed[:,0]\n",
    "ys = transformed[:,1]\n",
    "plt.scatter(xs,ys,alpha=0.5)\n",
    "plt.show()"
   ]
  },
  {
   "cell_type": "markdown",
   "metadata": {},
   "source": [
    "## 2.2 KMeans"
   ]
  },
  {
   "cell_type": "code",
   "execution_count": null,
   "metadata": {
    "collapsed": true
   },
   "outputs": [],
   "source": [
    "from sklearn.preprocessing import StandardScaler\n",
    "from sklearn.pipeline import make_pipeline\n",
    "from sklearn.cluster import KMeans\n",
    "\n",
    "ks = range(1,10)\n",
    "inertias = []\n",
    "scaler = StandardScaler()\n",
    "\n",
    "# for k in ks:\n",
    "#     model = KMeans(n_clusters=k)\n",
    "#     pipeline = make_pipeline(scaler,model)\n",
    "#     pipeline.fit(personas)\n",
    "#     inertias.append(pipeline.named_steps['kmeans'].inertia_)\n",
    " \n",
    "for k in ks:\n",
    "    model = KMeans(n_clusters=k)\n",
    "#     pipeline = make_pipeline(scaler,model)\n",
    "    model.fit(personas)\n",
    "    inertias.append(model.inertia_)\n",
    "    \n",
    "plt.plot(ks,inertias, '-o')\n",
    "plt.xlabel('#clusters, k')\n",
    "plt.xticks(ks)\n",
    "plt.show()"
   ]
  },
  {
   "cell_type": "code",
   "execution_count": null,
   "metadata": {
    "collapsed": true
   },
   "outputs": [],
   "source": [
    "#Clustering\n",
    "\n",
    "scaler = StandardScaler()\n",
    "\n",
    "km = KMeans(n_clusters=2, max_iter=300, random_state=None)\n",
    "km.fit(personas)\n",
    "\n",
    "# pipeline = make_pipeline(scaler,km)\n",
    "# pipeline.fit(personas)\n",
    "\n",
    "# clusters = km.fit_predict(personas)\n",
    "# personas['cluster'] = pipeline.fit_predict(personas)\n",
    "personas['cluster'] = km.fit_predict(personas)\n",
    "\n",
    "# Principal Component Analysis\n",
    "pca = PCA(n_components=2, whiten=True)\n",
    "pca.fit(personas)\n",
    "\n",
    "xs = pca.fit_transform(personas)[:, 0]\n",
    "ys = pca.fit_transform(personas)[:, 1]\n",
    "\n",
    "plt.scatter(xs ,ys, c=personas['cluster'],alpha=0.5)\n",
    "plt.show()\n"
   ]
  },
  {
   "cell_type": "code",
   "execution_count": null,
   "metadata": {
    "collapsed": true
   },
   "outputs": [],
   "source": [
    "# Create a DataFrame with labels and varieties as columns: df\n",
    "df = pd.DataFrame({'personas': personas['cluster'], 'negocio': p_negocio})\n",
    "\n",
    "# Create crosstab: ct\n",
    "ct = pd.crosstab(df['personas'],df['negocio'])\n",
    "\n",
    "# Display ct\n",
    "print(ct)"
   ]
  },
  {
   "cell_type": "code",
   "execution_count": null,
   "metadata": {
    "collapsed": true
   },
   "outputs": [],
   "source": [
    "personas.groupby('cluster').mean()"
   ]
  },
  {
   "cell_type": "markdown",
   "metadata": {},
   "source": [
    "## 2.2 TSNE"
   ]
  },
  {
   "cell_type": "code",
   "execution_count": null,
   "metadata": {
    "collapsed": true
   },
   "outputs": [],
   "source": [
    "# from sklearn.cluster import KMeans\n",
    "\n",
    "# km = KMeans(n_clusters=2, max_iter=300, random_state=None)\n",
    "# personas['cluster'] = km.fit_predict(personas)\n",
    "\n",
    "# from sklearn.manifold import TSNE\n",
    "\n",
    "# model = TSNE(learning_rate = 100)\n",
    "# transformed = model.fit_transform(personas)\n",
    "\n",
    "# xs = transformed[:,0]\n",
    "# ys = transformed[:,1]\n",
    "# plt.scatter(xs,ys,c=personas['cluster'],alpha=0.5)\n",
    "# plt.show()"
   ]
  },
  {
   "cell_type": "code",
   "execution_count": null,
   "metadata": {
    "collapsed": true
   },
   "outputs": [],
   "source": [
    "# Create a DataFrame with labels and varieties as columns: df\n",
    "df = pd.DataFrame({'personas': personas['cluster'], 'negocio': p_negocio})\n",
    "\n",
    "# Create crosstab: ct\n",
    "ct = pd.crosstab(df['personas'],df['negocio'])\n",
    "\n",
    "# Display ct\n",
    "print(ct)"
   ]
  }
 ],
 "metadata": {
  "kernelspec": {
   "display_name": "Python 3",
   "language": "python",
   "name": "python3"
  },
  "language_info": {
   "codemirror_mode": {
    "name": "ipython",
    "version": 3
   },
   "file_extension": ".py",
   "mimetype": "text/x-python",
   "name": "python",
   "nbconvert_exporter": "python",
   "pygments_lexer": "ipython3",
   "version": "3.6.3"
  }
 },
 "nbformat": 4,
 "nbformat_minor": 2
}
