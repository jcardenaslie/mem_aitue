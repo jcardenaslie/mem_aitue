{
 "cells": [
  {
   "cell_type": "markdown",
   "metadata": {},
   "source": [
    "# Collect Initial Data"
   ]
  },
  {
   "cell_type": "code",
   "execution_count": null,
   "metadata": {},
   "outputs": [],
   "source": []
  },
  {
   "cell_type": "markdown",
   "metadata": {},
   "source": [
    "# Describe Data"
   ]
  },
  {
   "cell_type": "code",
   "execution_count": 1,
   "metadata": {},
   "outputs": [],
   "source": [
    "import glob\n",
    "import os"
   ]
  },
  {
   "cell_type": "code",
   "execution_count": 18,
   "metadata": {},
   "outputs": [
    {
     "name": "stdout",
     "output_type": "stream",
     "text": [
      "['AltosDelValle_Cotizaciones.xlsx', 'AltosDelValle_Negocios.xlsx', 'Junge_Cotizaciones.xlsx', 'Junge_Negocios.xlsx', 'Mil610_Cotizaciones.xlsx', 'Mil610_Negocios.xlsx', 'SanAndresDelValle_Cotizaciones.xlsx', 'SanAndresDelValle_Negocios.xlsx', 'Urban_Cotizaciones.xlsx', 'Urban_Negocios.xlsx']\n",
      "['C:/Users/jquin/Desktop/Memoria de Titulo/Aitue/Datos\\\\AltosDelValle_Cotizaciones.xlsx', 'C:/Users/jquin/Desktop/Memoria de Titulo/Aitue/Datos\\\\AltosDelValle_Negocios.xlsx', 'C:/Users/jquin/Desktop/Memoria de Titulo/Aitue/Datos\\\\Junge_Cotizaciones.xlsx', 'C:/Users/jquin/Desktop/Memoria de Titulo/Aitue/Datos\\\\Junge_Negocios.xlsx', 'C:/Users/jquin/Desktop/Memoria de Titulo/Aitue/Datos\\\\Mil610_Cotizaciones.xlsx', 'C:/Users/jquin/Desktop/Memoria de Titulo/Aitue/Datos\\\\Mil610_Negocios.xlsx', 'C:/Users/jquin/Desktop/Memoria de Titulo/Aitue/Datos\\\\SanAndresDelValle_Cotizaciones.xlsx', 'C:/Users/jquin/Desktop/Memoria de Titulo/Aitue/Datos\\\\SanAndresDelValle_Negocios.xlsx', 'C:/Users/jquin/Desktop/Memoria de Titulo/Aitue/Datos\\\\Urban_Cotizaciones.xlsx', 'C:/Users/jquin/Desktop/Memoria de Titulo/Aitue/Datos\\\\Urban_Negocios.xlsx']\n"
     ]
    }
   ],
   "source": [
    "data_directory = \"C:/Users/jquin/Desktop/Memoria de Titulo/Aitue/Datos/\"\n",
    "\n",
    "file_names = [os.path.basename(x) for x in glob.glob(data_directory+\"*.xlsx\")]\n",
    "dir_files = glob.glob(data_directory+\"*.xlsx\")\n",
    "\n",
    "del file_names[-1]\n",
    "del dir_files[-1]\n",
    "\n",
    "print(file_names)\n",
    "print(dir_files)"
   ]
  },
  {
   "cell_type": "code",
   "execution_count": 48,
   "metadata": {},
   "outputs": [
    {
     "data": {
      "text/plain": [
       "['AltosDelValle',\n",
       " 'AltosDelValle',\n",
       " 'Junge',\n",
       " 'Junge',\n",
       " 'Mil610',\n",
       " 'Mil610',\n",
       " 'SanAndresDelValle',\n",
       " 'SanAndresDelValle',\n",
       " 'Urban',\n",
       " 'Urban']"
      ]
     },
     "execution_count": 48,
     "metadata": {},
     "output_type": "execute_result"
    }
   ],
   "source": [
    "project_names = []\n",
    "project_types = []\n",
    "project_file_types = []\n",
    "for file in file_names:\n",
    "    project_names.append(file.split('_')[0])\n",
    "    project_types.append(file.split('_')[1].split('.')[0])\n",
    "    project_file_types.append(file.split('.')[1])\n",
    "project_names"
   ]
  },
  {
   "cell_type": "code",
   "execution_count": 20,
   "metadata": {},
   "outputs": [],
   "source": [
    "import pandas as pd\n",
    "dfs = []\n",
    "\n",
    "for file_dir in dir_files:\n",
    "    df = pd.read_excel(file_dir,header=0)\n",
    "    dfs.append(df)\n"
   ]
  },
  {
   "cell_type": "code",
   "execution_count": 27,
   "metadata": {},
   "outputs": [
    {
     "data": {
      "text/plain": [
       "0    2017-03-27 17:03:29.563\n",
       "1    2017-03-28 17:25:30.197\n",
       "Name: Fecha Cotizacion, dtype: object"
      ]
     },
     "execution_count": 27,
     "metadata": {},
     "output_type": "execute_result"
    }
   ],
   "source": [
    "dfs[-1].head(2)['Fecha Cotizacion']"
   ]
  },
  {
   "cell_type": "code",
   "execution_count": null,
   "metadata": {},
   "outputs": [],
   "source": [
    "# columnas para los archivos:name,cotizacion,negocio,size,#cols,#rows,#file_type,#\n",
    "index=0\n",
    "print(project_names[index])\n",
    "print(project_types[index])\n",
    "print(project_file_types[index])\n",
    "print(dfs[index].shape[0])\n",
    "print(dfs[index].shape[1])\n",
    "print(dfs[index].memory_usage(index=True).sum())\n",
    "# print(dfs[index].info())"
   ]
  },
  {
   "cell_type": "code",
   "execution_count": 57,
   "metadata": {},
   "outputs": [
    {
     "name": "stdout",
     "output_type": "stream",
     "text": [
      "10 10 10 10 10 10\n"
     ]
    }
   ],
   "source": [
    "mem_usage = []\n",
    "rows = []\n",
    "columns = []\n",
    "file_type = []\n",
    "fechas_min = []\n",
    "fechas_max = []\n",
    "\n",
    "format_time = '%Y-%m-%d'\n",
    "for df in dfs:\n",
    "    columns.append(df.shape[0])\n",
    "    rows.append(df.shape[1])\n",
    "    mem_usage.append(df.memory_usage(index=True).sum())\n",
    "    fechas_min.append(pd.to_datetime(df['Fecha Cotizacion'].tolist()).min())\n",
    "    fechas_max.append(pd.to_datetime(df['Fecha Cotizacion'].tolist()).max())\n",
    "\n",
    "print(len(project_names),len(project_types),len(project_file_types),len(rows),len(columns),len(mem_usage))\n",
    "    \n",
    "list_labels =['nombre','tipo','archivo','num_filas','num_columnas','uso_memoria','fecha_min','fecha_max']\n",
    "list_cols =[project_names,project_types,project_file_types,rows,columns,mem_usage,fechas_min,fechas_max]\n",
    "\n",
    "zipped = list(zip(list_labels,list_cols))\n",
    "data = dict(zipped)\n",
    "df_files = pd.DataFrame(data)"
   ]
  },
  {
   "cell_type": "code",
   "execution_count": 58,
   "metadata": {
    "scrolled": true
   },
   "outputs": [
    {
     "data": {
      "text/html": [
       "<div>\n",
       "<style scoped>\n",
       "    .dataframe tbody tr th:only-of-type {\n",
       "        vertical-align: middle;\n",
       "    }\n",
       "\n",
       "    .dataframe tbody tr th {\n",
       "        vertical-align: top;\n",
       "    }\n",
       "\n",
       "    .dataframe thead th {\n",
       "        text-align: right;\n",
       "    }\n",
       "</style>\n",
       "<table border=\"1\" class=\"dataframe\">\n",
       "  <thead>\n",
       "    <tr style=\"text-align: right;\">\n",
       "      <th></th>\n",
       "      <th>archivo</th>\n",
       "      <th>fecha_max</th>\n",
       "      <th>fecha_min</th>\n",
       "      <th>nombre</th>\n",
       "      <th>num_columnas</th>\n",
       "      <th>num_filas</th>\n",
       "      <th>tipo</th>\n",
       "      <th>uso_memoria</th>\n",
       "    </tr>\n",
       "  </thead>\n",
       "  <tbody>\n",
       "    <tr>\n",
       "      <th>0</th>\n",
       "      <td>xlsx</td>\n",
       "      <td>2018-04-20 15:33:46.000</td>\n",
       "      <td>2017-07-27 15:46:54.000</td>\n",
       "      <td>AltosDelValle</td>\n",
       "      <td>442</td>\n",
       "      <td>31</td>\n",
       "      <td>Cotizaciones</td>\n",
       "      <td>109696</td>\n",
       "    </tr>\n",
       "    <tr>\n",
       "      <th>1</th>\n",
       "      <td>xlsx</td>\n",
       "      <td>2018-04-17 13:42:58.670</td>\n",
       "      <td>2017-07-27 15:46:58.750</td>\n",
       "      <td>AltosDelValle</td>\n",
       "      <td>100</td>\n",
       "      <td>38</td>\n",
       "      <td>Negocios</td>\n",
       "      <td>30480</td>\n",
       "    </tr>\n",
       "    <tr>\n",
       "      <th>2</th>\n",
       "      <td>xlsx</td>\n",
       "      <td>2018-04-19 12:42:56.000</td>\n",
       "      <td>2016-01-19 08:53:16.000</td>\n",
       "      <td>Junge</td>\n",
       "      <td>801</td>\n",
       "      <td>31</td>\n",
       "      <td>Cotizaciones</td>\n",
       "      <td>198728</td>\n",
       "    </tr>\n",
       "    <tr>\n",
       "      <th>3</th>\n",
       "      <td>xlsx</td>\n",
       "      <td>2018-04-18 18:25:01.797</td>\n",
       "      <td>2016-01-25 13:21:02.013</td>\n",
       "      <td>Junge</td>\n",
       "      <td>101</td>\n",
       "      <td>38</td>\n",
       "      <td>Negocios</td>\n",
       "      <td>30784</td>\n",
       "    </tr>\n",
       "    <tr>\n",
       "      <th>4</th>\n",
       "      <td>xlsx</td>\n",
       "      <td>2018-04-19 19:01:45.000</td>\n",
       "      <td>2016-09-22 16:36:03.000</td>\n",
       "      <td>Mil610</td>\n",
       "      <td>1719</td>\n",
       "      <td>31</td>\n",
       "      <td>Cotizaciones</td>\n",
       "      <td>426392</td>\n",
       "    </tr>\n",
       "    <tr>\n",
       "      <th>5</th>\n",
       "      <td>xlsx</td>\n",
       "      <td>2018-04-19 12:00:18.270</td>\n",
       "      <td>2016-09-26 16:12:56.703</td>\n",
       "      <td>Mil610</td>\n",
       "      <td>76</td>\n",
       "      <td>38</td>\n",
       "      <td>Negocios</td>\n",
       "      <td>23184</td>\n",
       "    </tr>\n",
       "    <tr>\n",
       "      <th>6</th>\n",
       "      <td>xlsx</td>\n",
       "      <td>2018-04-27 12:13:48.000</td>\n",
       "      <td>2013-08-19 16:58:26.000</td>\n",
       "      <td>SanAndresDelValle</td>\n",
       "      <td>10593</td>\n",
       "      <td>31</td>\n",
       "      <td>Cotizaciones</td>\n",
       "      <td>2627144</td>\n",
       "    </tr>\n",
       "    <tr>\n",
       "      <th>7</th>\n",
       "      <td>xlsx</td>\n",
       "      <td>2018-04-26 16:05:35.993</td>\n",
       "      <td>2013-08-19 18:35:56.620</td>\n",
       "      <td>SanAndresDelValle</td>\n",
       "      <td>1814</td>\n",
       "      <td>38</td>\n",
       "      <td>Negocios</td>\n",
       "      <td>551536</td>\n",
       "    </tr>\n",
       "    <tr>\n",
       "      <th>8</th>\n",
       "      <td>xlsx</td>\n",
       "      <td>2018-04-26 18:17:22.430</td>\n",
       "      <td>2017-03-24 18:36:24.000</td>\n",
       "      <td>Urban</td>\n",
       "      <td>2683</td>\n",
       "      <td>31</td>\n",
       "      <td>Cotizaciones</td>\n",
       "      <td>665464</td>\n",
       "    </tr>\n",
       "    <tr>\n",
       "      <th>9</th>\n",
       "      <td>xlsx</td>\n",
       "      <td>2018-04-26 16:50:07.440</td>\n",
       "      <td>2017-03-27 17:03:29.563</td>\n",
       "      <td>Urban</td>\n",
       "      <td>196</td>\n",
       "      <td>38</td>\n",
       "      <td>Negocios</td>\n",
       "      <td>59664</td>\n",
       "    </tr>\n",
       "  </tbody>\n",
       "</table>\n",
       "</div>"
      ],
      "text/plain": [
       "  archivo               fecha_max               fecha_min             nombre  \\\n",
       "0    xlsx 2018-04-20 15:33:46.000 2017-07-27 15:46:54.000      AltosDelValle   \n",
       "1    xlsx 2018-04-17 13:42:58.670 2017-07-27 15:46:58.750      AltosDelValle   \n",
       "2    xlsx 2018-04-19 12:42:56.000 2016-01-19 08:53:16.000              Junge   \n",
       "3    xlsx 2018-04-18 18:25:01.797 2016-01-25 13:21:02.013              Junge   \n",
       "4    xlsx 2018-04-19 19:01:45.000 2016-09-22 16:36:03.000             Mil610   \n",
       "5    xlsx 2018-04-19 12:00:18.270 2016-09-26 16:12:56.703             Mil610   \n",
       "6    xlsx 2018-04-27 12:13:48.000 2013-08-19 16:58:26.000  SanAndresDelValle   \n",
       "7    xlsx 2018-04-26 16:05:35.993 2013-08-19 18:35:56.620  SanAndresDelValle   \n",
       "8    xlsx 2018-04-26 18:17:22.430 2017-03-24 18:36:24.000              Urban   \n",
       "9    xlsx 2018-04-26 16:50:07.440 2017-03-27 17:03:29.563              Urban   \n",
       "\n",
       "   num_columnas  num_filas          tipo  uso_memoria  \n",
       "0           442         31  Cotizaciones       109696  \n",
       "1           100         38      Negocios        30480  \n",
       "2           801         31  Cotizaciones       198728  \n",
       "3           101         38      Negocios        30784  \n",
       "4          1719         31  Cotizaciones       426392  \n",
       "5            76         38      Negocios        23184  \n",
       "6         10593         31  Cotizaciones      2627144  \n",
       "7          1814         38      Negocios       551536  \n",
       "8          2683         31  Cotizaciones       665464  \n",
       "9           196         38      Negocios        59664  "
      ]
     },
     "execution_count": 58,
     "metadata": {},
     "output_type": "execute_result"
    }
   ],
   "source": [
    "df_files"
   ]
  },
  {
   "cell_type": "code",
   "execution_count": 42,
   "metadata": {},
   "outputs": [],
   "source": [
    "fechas = pd.to_datetime(dfs[-1]['Fecha Cotizacion'].tolist())"
   ]
  },
  {
   "cell_type": "code",
   "execution_count": 45,
   "metadata": {},
   "outputs": [
    {
     "data": {
      "text/plain": [
       "Timestamp('2017-03-27 17:03:29.563000')"
      ]
     },
     "execution_count": 45,
     "metadata": {},
     "output_type": "execute_result"
    }
   ],
   "source": [
    "fechas.min()"
   ]
  }
 ],
 "metadata": {
  "kernelspec": {
   "display_name": "Python 3",
   "language": "python",
   "name": "python3"
  },
  "language_info": {
   "codemirror_mode": {
    "name": "ipython",
    "version": 3
   },
   "file_extension": ".py",
   "mimetype": "text/x-python",
   "name": "python",
   "nbconvert_exporter": "python",
   "pygments_lexer": "ipython3",
   "version": "3.6.4"
  }
 },
 "nbformat": 4,
 "nbformat_minor": 2
}
