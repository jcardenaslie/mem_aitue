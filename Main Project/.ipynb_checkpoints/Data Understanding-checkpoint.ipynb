{
 "cells": [
  {
   "cell_type": "markdown",
   "metadata": {},
   "source": [
    "# Collect Initial Data"
   ]
  },
  {
   "cell_type": "code",
   "execution_count": null,
   "metadata": {},
   "outputs": [],
   "source": []
  },
  {
   "cell_type": "code",
   "execution_count": 42,
   "metadata": {},
   "outputs": [],
   "source": [
    "import glob\n",
    "import os\n",
    "import numpy as np"
   ]
  },
  {
   "cell_type": "code",
   "execution_count": 2,
   "metadata": {},
   "outputs": [
    {
     "name": "stdout",
     "output_type": "stream",
     "text": [
      "['AltosDelValle_Cotizaciones.xlsx', 'AltosDelValle_Negocios.xlsx', 'Junge_Cotizaciones.xlsx', 'Junge_Negocios.xlsx', 'Mil610_Cotizaciones.xlsx', 'Mil610_Negocios.xlsx', 'SanAndresDelValle_Cotizaciones.xlsx', 'SanAndresDelValle_Negocios.xlsx', 'Urban_Cotizaciones.xlsx', 'Urban_Negocios.xlsx']\n",
      "['C:/Users/jquin/Desktop/Memoria de Titulo/Aitue/Datos\\\\AltosDelValle_Cotizaciones.xlsx', 'C:/Users/jquin/Desktop/Memoria de Titulo/Aitue/Datos\\\\AltosDelValle_Negocios.xlsx', 'C:/Users/jquin/Desktop/Memoria de Titulo/Aitue/Datos\\\\Junge_Cotizaciones.xlsx', 'C:/Users/jquin/Desktop/Memoria de Titulo/Aitue/Datos\\\\Junge_Negocios.xlsx', 'C:/Users/jquin/Desktop/Memoria de Titulo/Aitue/Datos\\\\Mil610_Cotizaciones.xlsx', 'C:/Users/jquin/Desktop/Memoria de Titulo/Aitue/Datos\\\\Mil610_Negocios.xlsx', 'C:/Users/jquin/Desktop/Memoria de Titulo/Aitue/Datos\\\\SanAndresDelValle_Cotizaciones.xlsx', 'C:/Users/jquin/Desktop/Memoria de Titulo/Aitue/Datos\\\\SanAndresDelValle_Negocios.xlsx', 'C:/Users/jquin/Desktop/Memoria de Titulo/Aitue/Datos\\\\Urban_Cotizaciones.xlsx', 'C:/Users/jquin/Desktop/Memoria de Titulo/Aitue/Datos\\\\Urban_Negocios.xlsx']\n"
     ]
    }
   ],
   "source": [
    "data_directory = \"C:/Users/jquin/Desktop/Memoria de Titulo/Aitue/Datos/\"\n",
    "\n",
    "file_names = [os.path.basename(x) for x in glob.glob(data_directory+\"*.xlsx\")]\n",
    "dir_files = glob.glob(data_directory+\"*.xlsx\")\n",
    "\n",
    "del file_names[-1]\n",
    "del dir_files[-1]\n",
    "\n",
    "print(file_names)\n",
    "print(dir_files)"
   ]
  },
  {
   "cell_type": "code",
   "execution_count": 3,
   "metadata": {},
   "outputs": [
    {
     "data": {
      "text/plain": [
       "['AltosDelValle',\n",
       " 'AltosDelValle',\n",
       " 'Junge',\n",
       " 'Junge',\n",
       " 'Mil610',\n",
       " 'Mil610',\n",
       " 'SanAndresDelValle',\n",
       " 'SanAndresDelValle',\n",
       " 'Urban',\n",
       " 'Urban']"
      ]
     },
     "execution_count": 3,
     "metadata": {},
     "output_type": "execute_result"
    }
   ],
   "source": [
    "project_names = []\n",
    "project_types = []\n",
    "project_file_types = []\n",
    "for file in file_names:\n",
    "    project_names.append(file.split('_')[0])\n",
    "    project_types.append(file.split('_')[1].split('.')[0])\n",
    "    project_file_types.append(file.split('.')[1])\n",
    "project_names"
   ]
  },
  {
   "cell_type": "code",
   "execution_count": 4,
   "metadata": {},
   "outputs": [],
   "source": [
    "import pandas as pd\n",
    "dfs = []\n",
    "\n",
    "for file_dir in dir_files:\n",
    "    df = pd.read_excel(file_dir,header=0)\n",
    "    dfs.append(df)\n"
   ]
  },
  {
   "cell_type": "code",
   "execution_count": 5,
   "metadata": {},
   "outputs": [
    {
     "data": {
      "text/plain": [
       "['Cotizaciones',\n",
       " 'Negocios',\n",
       " 'Cotizaciones',\n",
       " 'Negocios',\n",
       " 'Cotizaciones',\n",
       " 'Negocios',\n",
       " 'Cotizaciones',\n",
       " 'Negocios',\n",
       " 'Cotizaciones',\n",
       " 'Negocios']"
      ]
     },
     "execution_count": 5,
     "metadata": {},
     "output_type": "execute_result"
    }
   ],
   "source": [
    "project_types"
   ]
  },
  {
   "cell_type": "markdown",
   "metadata": {},
   "source": [
    "# Data Exploration Single File"
   ]
  },
  {
   "cell_type": "code",
   "execution_count": 6,
   "metadata": {},
   "outputs": [
    {
     "data": {
      "text/plain": [
       "{'count': 231,\n",
       " 'max': 10,\n",
       " 'mean': 1.9134199134199135,\n",
       " 'std': 1.3517595590617344}"
      ]
     },
     "execution_count": 6,
     "metadata": {},
     "output_type": "execute_result"
    }
   ],
   "source": [
    "def get_col_group_description(df,col):\n",
    "    num_cot = []\n",
    "    info = dict()\n",
    "    for group, frame in df.groupby(col):\n",
    "        num_cot.append(len(frame))\n",
    "    #     print('There are ' + str(len(frame)) + ' records in group ' + str(group) + ' for processing.')\n",
    "\n",
    "    cot_serie = pd.Series(num_cot)\n",
    "    info['count'] = cot_serie.count()\n",
    "    info['max'] = cot_serie.max()\n",
    "    info['mean'] = cot_serie.mean()\n",
    "    info['std'] = cot_serie.std()\n",
    "    return info\n",
    "\n",
    "get_col_group_description(dfs[0],'RUT')"
   ]
  },
  {
   "cell_type": "code",
   "execution_count": 7,
   "metadata": {},
   "outputs": [],
   "source": [
    "df_resume_cot = pd.DataFrame()\n",
    "df_resume_neg = pd.DataFrame()\n"
   ]
  },
  {
   "cell_type": "code",
   "execution_count": 8,
   "metadata": {},
   "outputs": [],
   "source": [
    "cot_index = [index for index in range(0,len(project_types)) if project_types[index] == 'Cotizaciones']\n",
    "cot_names = [project_names[index] for index in range(0,len(project_names)) if index in cot_index]\n",
    "cot_types = [project_types[index] for index in range(0,len(project_types)) if index in cot_index]\n",
    "cot_ftypes = [project_file_types[index] for index in range(0,len(project_file_types)) if index in cot_index]\n",
    "df_cot = [dfs[index] for index in range(0,len(dfs)) if index in cot_index]"
   ]
  },
  {
   "cell_type": "code",
   "execution_count": 9,
   "metadata": {},
   "outputs": [],
   "source": [
    "neg_index = [index for index in range(0,len(project_types)) if project_types[index] == 'Negocios']\n",
    "neg_names = [project_names[index] for index in range(0,len(project_names)) if index in neg_index]\n",
    "neg_types = [project_types[index] for index in range(0,len(project_types)) if index in neg_index]\n",
    "neg_ftypes = [project_file_types[index] for index in range(0,len(project_file_types)) if index in neg_index]\n",
    "df_neg = [dfs[index] for index in range(0,len(dfs)) if index in neg_index]"
   ]
  },
  {
   "cell_type": "code",
   "execution_count": 10,
   "metadata": {},
   "outputs": [
    {
     "name": "stdout",
     "output_type": "stream",
     "text": [
      "   filas\n",
      "0    442\n",
      "   filas\n",
      "0    100\n"
     ]
    }
   ],
   "source": [
    "#rows\n",
    "df_resume_cot['filas'] = [x.shape[0] for x in df_cot]\n",
    "df_resume_neg['filas'] = [x.shape[0] for x in df_neg]\n",
    "print(df_resume_cot.head(1))\n",
    "print(df_resume_neg.head(1))"
   ]
  },
  {
   "cell_type": "code",
   "execution_count": 11,
   "metadata": {},
   "outputs": [
    {
     "name": "stdout",
     "output_type": "stream",
     "text": [
      "   filas  cols\n",
      "0    442    31\n",
      "   filas  cols\n",
      "0    100    38\n"
     ]
    }
   ],
   "source": [
    "#cols\n",
    "df_resume_cot['cols'] = [x.shape[1] for x in df_cot]\n",
    "df_resume_neg['cols'] = [x.shape[1] for x in df_neg]\n",
    "print(df_resume_cot.head(1))\n",
    "print(df_resume_neg.head(1))"
   ]
  },
  {
   "cell_type": "code",
   "execution_count": 12,
   "metadata": {},
   "outputs": [
    {
     "name": "stdout",
     "output_type": "stream",
     "text": [
      "   filas  cols               fecha_min               fecha_max\n",
      "0    442    31 2017-03-27 17:03:29.563 2018-04-26 16:50:07.440\n",
      "   filas  cols               fecha_min               fecha_max\n",
      "0    100    38 2017-03-27 17:03:29.563 2018-04-26 16:50:07.440\n"
     ]
    }
   ],
   "source": [
    "#fechas min, max\n",
    "df_resume_cot['fecha_min'] = [pd.to_datetime(df['Fecha Cotizacion'].tolist()).min() for x in df_cot]\n",
    "df_resume_neg['fecha_min'] = [pd.to_datetime(df['Fecha Cotizacion'].tolist()).min() for x in df_neg]\n",
    "df_resume_cot['fecha_max'] = [pd.to_datetime(df['Fecha Cotizacion'].tolist()).max() for x in df_neg]\n",
    "df_resume_neg['fecha_max'] = [pd.to_datetime(df['Fecha Cotizacion'].tolist()).max() for x in df_neg]\n",
    "print(df_resume_cot.head(1))\n",
    "print(df_resume_neg.head(1))"
   ]
  },
  {
   "cell_type": "code",
   "execution_count": 13,
   "metadata": {},
   "outputs": [
    {
     "name": "stdout",
     "output_type": "stream",
     "text": [
      "   filas  cols               fecha_min               fecha_max  ruts_unicos\n",
      "0    442    31 2017-03-27 17:03:29.563 2018-04-26 16:50:07.440          231\n",
      "   filas  cols               fecha_min               fecha_max  ruts_unicos\n",
      "0    100    38 2017-03-27 17:03:29.563 2018-04-26 16:50:07.440           57\n"
     ]
    }
   ],
   "source": [
    "#ruts\n",
    "df_resume_cot['ruts_unicos'] = [len(x['RUT'].unique()) for x in df_cot]\n",
    "df_resume_neg['ruts_unicos'] = [len(x['RUT'].unique()) for x in df_neg]\n",
    "print(df_resume_cot.head(1))\n",
    "print(df_resume_neg.head(1))"
   ]
  },
  {
   "cell_type": "code",
   "execution_count": 14,
   "metadata": {},
   "outputs": [
    {
     "name": "stdout",
     "output_type": "stream",
     "text": [
      "   filas  cols               fecha_min               fecha_max  ruts_unicos  \\\n",
      "0    442    31 2017-03-27 17:03:29.563 2018-04-26 16:50:07.440          231   \n",
      "\n",
      "   ruts_mean  ruts_std  ruts_max  \n",
      "0    1.91342   1.35176        10  \n",
      "   filas  cols               fecha_min               fecha_max  ruts_unicos  \\\n",
      "0    100    38 2017-03-27 17:03:29.563 2018-04-26 16:50:07.440           57   \n",
      "\n",
      "   ruts_mean  ruts_std  ruts_max  \n",
      "0   1.754386  1.366444         7  \n"
     ]
    }
   ],
   "source": [
    "#ruts mean, std, max()\n",
    "df_resume_cot['ruts_mean'] = [get_col_group_description(x,'RUT')['mean'] for x in df_cot]\n",
    "df_resume_neg['ruts_mean'] = [get_col_group_description(x,'RUT')['mean'] for x in df_neg]\n",
    "\n",
    "df_resume_cot['ruts_std'] = [get_col_group_description(x,'RUT')['std'] for x in df_cot]\n",
    "df_resume_neg['ruts_std'] = [get_col_group_description(x,'RUT')['std'] for x in df_neg]\n",
    "\n",
    "df_resume_cot['ruts_max'] = [get_col_group_description(x,'RUT')['max'] for x in df_cot]\n",
    "df_resume_neg['ruts_max'] = [get_col_group_description(x,'RUT')['max'] for x in df_neg]\n",
    "\n",
    "print(df_resume_cot.head(1))\n",
    "print(df_resume_neg.head(1))"
   ]
  },
  {
   "cell_type": "code",
   "execution_count": 15,
   "metadata": {},
   "outputs": [
    {
     "name": "stdout",
     "output_type": "stream",
     "text": [
      "<class 'pandas.core.frame.DataFrame'>\n",
      "RangeIndex: 5 entries, 0 to 4\n",
      "Data columns (total 8 columns):\n",
      "filas          5 non-null int64\n",
      "cols           5 non-null int64\n",
      "fecha_min      5 non-null datetime64[ns]\n",
      "fecha_max      5 non-null datetime64[ns]\n",
      "ruts_unicos    5 non-null int64\n",
      "ruts_mean      5 non-null float64\n",
      "ruts_std       5 non-null float64\n",
      "ruts_max       5 non-null int64\n",
      "dtypes: datetime64[ns](2), float64(2), int64(4)\n",
      "memory usage: 400.0 bytes\n"
     ]
    }
   ],
   "source": [
    "df_resume_neg.info()"
   ]
  },
  {
   "cell_type": "code",
   "execution_count": 16,
   "metadata": {},
   "outputs": [
    {
     "data": {
      "text/html": [
       "<div>\n",
       "<style scoped>\n",
       "    .dataframe tbody tr th:only-of-type {\n",
       "        vertical-align: middle;\n",
       "    }\n",
       "\n",
       "    .dataframe tbody tr th {\n",
       "        vertical-align: top;\n",
       "    }\n",
       "\n",
       "    .dataframe thead th {\n",
       "        text-align: right;\n",
       "    }\n",
       "</style>\n",
       "<table border=\"1\" class=\"dataframe\">\n",
       "  <thead>\n",
       "    <tr style=\"text-align: right;\">\n",
       "      <th></th>\n",
       "      <th>filas</th>\n",
       "      <th>cols</th>\n",
       "      <th>fecha_min</th>\n",
       "      <th>fecha_max</th>\n",
       "      <th>ruts_unicos</th>\n",
       "      <th>ruts_mean</th>\n",
       "      <th>ruts_std</th>\n",
       "      <th>ruts_max</th>\n",
       "      <th>%es_anulados</th>\n",
       "      <th>%es_promesas</th>\n",
       "      <th>%es_reserva</th>\n",
       "      <th>%esc_desistido</th>\n",
       "      <th>%esc_normal</th>\n",
       "    </tr>\n",
       "  </thead>\n",
       "  <tbody>\n",
       "    <tr>\n",
       "      <th>0</th>\n",
       "      <td>100</td>\n",
       "      <td>38</td>\n",
       "      <td>2017-03-27 17:03:29.563</td>\n",
       "      <td>2018-04-26 16:50:07.440</td>\n",
       "      <td>57</td>\n",
       "      <td>1.754386</td>\n",
       "      <td>1.366444</td>\n",
       "      <td>7</td>\n",
       "      <td>0.670000</td>\n",
       "      <td>0.220000</td>\n",
       "      <td>0.110000</td>\n",
       "      <td>0.040000</td>\n",
       "      <td>0.950000</td>\n",
       "    </tr>\n",
       "    <tr>\n",
       "      <th>1</th>\n",
       "      <td>101</td>\n",
       "      <td>38</td>\n",
       "      <td>2017-03-27 17:03:29.563</td>\n",
       "      <td>2018-04-26 16:50:07.440</td>\n",
       "      <td>52</td>\n",
       "      <td>1.942308</td>\n",
       "      <td>1.487378</td>\n",
       "      <td>7</td>\n",
       "      <td>0.504950</td>\n",
       "      <td>0.079208</td>\n",
       "      <td>0.188119</td>\n",
       "      <td>0.128713</td>\n",
       "      <td>0.811881</td>\n",
       "    </tr>\n",
       "    <tr>\n",
       "      <th>2</th>\n",
       "      <td>76</td>\n",
       "      <td>38</td>\n",
       "      <td>2017-03-27 17:03:29.563</td>\n",
       "      <td>2018-04-26 16:50:07.440</td>\n",
       "      <td>47</td>\n",
       "      <td>1.617021</td>\n",
       "      <td>0.898143</td>\n",
       "      <td>5</td>\n",
       "      <td>0.500000</td>\n",
       "      <td>0.065789</td>\n",
       "      <td>0.065789</td>\n",
       "      <td>0.065789</td>\n",
       "      <td>0.868421</td>\n",
       "    </tr>\n",
       "    <tr>\n",
       "      <th>3</th>\n",
       "      <td>1814</td>\n",
       "      <td>38</td>\n",
       "      <td>2017-03-27 17:03:29.563</td>\n",
       "      <td>2018-04-26 16:50:07.440</td>\n",
       "      <td>801</td>\n",
       "      <td>2.264669</td>\n",
       "      <td>1.822735</td>\n",
       "      <td>17</td>\n",
       "      <td>0.661521</td>\n",
       "      <td>0.085998</td>\n",
       "      <td>0.122933</td>\n",
       "      <td>0.127894</td>\n",
       "      <td>0.829658</td>\n",
       "    </tr>\n",
       "    <tr>\n",
       "      <th>4</th>\n",
       "      <td>196</td>\n",
       "      <td>38</td>\n",
       "      <td>2017-03-27 17:03:29.563</td>\n",
       "      <td>2018-04-26 16:50:07.440</td>\n",
       "      <td>120</td>\n",
       "      <td>1.633333</td>\n",
       "      <td>1.194760</td>\n",
       "      <td>8</td>\n",
       "      <td>0.500000</td>\n",
       "      <td>0.331633</td>\n",
       "      <td>0.168367</td>\n",
       "      <td>0.147959</td>\n",
       "      <td>0.841837</td>\n",
       "    </tr>\n",
       "  </tbody>\n",
       "</table>\n",
       "</div>"
      ],
      "text/plain": [
       "   filas  cols               fecha_min               fecha_max  ruts_unicos  \\\n",
       "0    100    38 2017-03-27 17:03:29.563 2018-04-26 16:50:07.440           57   \n",
       "1    101    38 2017-03-27 17:03:29.563 2018-04-26 16:50:07.440           52   \n",
       "2     76    38 2017-03-27 17:03:29.563 2018-04-26 16:50:07.440           47   \n",
       "3   1814    38 2017-03-27 17:03:29.563 2018-04-26 16:50:07.440          801   \n",
       "4    196    38 2017-03-27 17:03:29.563 2018-04-26 16:50:07.440          120   \n",
       "\n",
       "   ruts_mean  ruts_std  ruts_max  %es_anulados  %es_promesas  %es_reserva  \\\n",
       "0   1.754386  1.366444         7      0.670000      0.220000     0.110000   \n",
       "1   1.942308  1.487378         7      0.504950      0.079208     0.188119   \n",
       "2   1.617021  0.898143         5      0.500000      0.065789     0.065789   \n",
       "3   2.264669  1.822735        17      0.661521      0.085998     0.122933   \n",
       "4   1.633333  1.194760         8      0.500000      0.331633     0.168367   \n",
       "\n",
       "   %esc_desistido  %esc_normal  \n",
       "0        0.040000     0.950000  \n",
       "1        0.128713     0.811881  \n",
       "2        0.065789     0.868421  \n",
       "3        0.127894     0.829658  \n",
       "4        0.147959     0.841837  "
      ]
     },
     "execution_count": 16,
     "metadata": {},
     "output_type": "execute_result"
    }
   ],
   "source": [
    "# otro datos negocios\n",
    "#(len(x[x['Estado'] == 'Anulada'])/y['#filas'])\n",
    "#('string' + str(len(x[x['Estado'] == 'Anulada'])) + \" \" +str(y))\n",
    "df_resume_neg['%es_anulados']  = [(len(x[x['Estado'] == 'Anulada'])/y) for x,y in zip(df_neg,df_resume_neg['filas'])]\n",
    "df_resume_neg['%es_promesas']  = [(len(x[x['Estado'] == 'Promesado'])/y) for x,y in zip(df_neg,df_resume_neg['filas'])]\n",
    "df_resume_neg['%es_reserva']   = [len(x[x['Estado'] == 'Reservado'])/y for x,y in zip(df_neg,df_resume_neg['filas'])]\n",
    "df_resume_neg['%esc_desistido'] = [len(x[x['Estado Comercial'] == 'Desistimiento'])/y for x,y in zip(df_neg,df_resume_neg['filas'])]\n",
    "df_resume_neg['%esc_normal']    = [len(x[x['Estado Comercial'] == 'Normal'])/y for x,y in zip(df_neg,df_resume_neg['filas'])]\n",
    "\n",
    "df_resume_neg"
   ]
  },
  {
   "cell_type": "markdown",
   "metadata": {},
   "source": [
    "# Data Exploration Combined Files"
   ]
  },
  {
   "cell_type": "code",
   "execution_count": 54,
   "metadata": {},
   "outputs": [
    {
     "name": "stdout",
     "output_type": "stream",
     "text": [
      "16238\n"
     ]
    }
   ],
   "source": [
    "# concat cotizaciones\n",
    "cot_all = pd.concat(df_cot)\n",
    "neg_all = pd.concat(df_neg)\n",
    "\n",
    "print(cot_all.shape[0])\n",
    "\n",
    "cot_all_resume = pd.DataFrame()\n",
    "neg_all_resume = pd.DataFrame()"
   ]
  },
  {
   "cell_type": "code",
   "execution_count": 69,
   "metadata": {},
   "outputs": [
    {
     "name": "stdout",
     "output_type": "stream",
     "text": [
      "Filas 16238\n",
      "Columnas 31\n",
      "2013-08-19 16:58:26\n",
      "2018-04-27 12:13:48\n",
      "5905\n",
      "2.7498729889923794\n",
      "2.69495797931767\n",
      "45\n"
     ]
    }
   ],
   "source": [
    "#rows\n",
    "df = cot_all\n",
    "print(\"Filas \"+str(df.shape[0]))\n",
    "print(\"Columnas \"+str(df.shape[1]))\n",
    "print(pd.to_datetime(df['Fecha Cotizacion'].tolist()).min())\n",
    "print(pd.to_datetime(df['Fecha Cotizacion'].tolist()).max())\n",
    "print(len(df['RUT'].unique()))\n",
    "print(get_col_group_description(df,'RUT')['mean'])\n",
    "print(get_col_group_description(df,'RUT')['std'])\n",
    "print(get_col_group_description(df,'RUT')['max'])\n"
   ]
  }
 ],
 "metadata": {
  "kernelspec": {
   "display_name": "Python 3",
   "language": "python",
   "name": "python3"
  },
  "language_info": {
   "codemirror_mode": {
    "name": "ipython",
    "version": 3
   },
   "file_extension": ".py",
   "mimetype": "text/x-python",
   "name": "python",
   "nbconvert_exporter": "python",
   "pygments_lexer": "ipython3",
   "version": "3.6.4"
  }
 },
 "nbformat": 4,
 "nbformat_minor": 2
}
