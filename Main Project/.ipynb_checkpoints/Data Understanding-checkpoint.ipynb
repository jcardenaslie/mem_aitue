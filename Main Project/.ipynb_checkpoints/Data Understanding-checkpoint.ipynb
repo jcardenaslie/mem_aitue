{
 "cells": [
  {
   "cell_type": "markdown",
   "metadata": {},
   "source": [
    "# Collect Initial Data"
   ]
  },
  {
   "cell_type": "code",
   "execution_count": 1,
   "metadata": {},
   "outputs": [],
   "source": [
    "import glob\n",
    "import os\n",
    "import numpy as np\n",
    "import seaborn as sb\n",
    "sb.set()\n",
    "import matplotlib.pyplot as plt\n",
    "import pandas as pd"
   ]
  },
  {
   "cell_type": "code",
   "execution_count": 2,
   "metadata": {},
   "outputs": [],
   "source": [
    "#Eusebio\n",
    "# data_directory = \"C:/Users/joaquin/Desktop/mem_aitue/Datos/\"\n",
    "\n",
    "#Mini-Eusebio\n",
    "data_directory = \"C:/Users/jquin/Desktop/Memoria de Titulo/Aitue/Datos/\""
   ]
  },
  {
   "cell_type": "code",
   "execution_count": 3,
   "metadata": {},
   "outputs": [
    {
     "name": "stdout",
     "output_type": "stream",
     "text": [
      "['AltosDelValle_Cotizaciones.xlsx', 'AltosDelValle_Negocios.xlsx', 'cotizaciones_all.xlsx', 'Junge_Cotizaciones.xlsx', 'Junge_Negocios.xlsx', 'Mil610_Cotizaciones.xlsx', 'Mil610_Negocios.xlsx', 'negocios_all.xlsx', 'SanAndresDelValle_Cotizaciones.xlsx', 'SanAndresDelValle_Negocios.xlsx', 'Urban_Cotizaciones.xlsx', 'Urban_Negocios.xlsx']\n"
     ]
    }
   ],
   "source": [
    "\n",
    "file_names = [os.path.basename(x) for x in glob.glob(data_directory+\"/[!~]*.xlsx\")]\n",
    "dir_files = glob.glob(data_directory+\"/[!~]*.xlsx\")\n",
    "\n",
    "# del file_names[-1]\n",
    "# del dir_files[-1]\n",
    "\n",
    "print(file_names)\n",
    "# print(dir_files)"
   ]
  },
  {
   "cell_type": "code",
   "execution_count": 4,
   "metadata": {},
   "outputs": [],
   "source": [
    "project_names = [];project_types = [];project_file_types = []\n",
    "for file in file_names:\n",
    "    project_names.append(file.split('_')[0])\n",
    "    project_types.append(file.split('_')[1].split('.')[0])\n",
    "    project_file_types.append(file.split('.')[1])"
   ]
  },
  {
   "cell_type": "code",
   "execution_count": 5,
   "metadata": {},
   "outputs": [],
   "source": [
    "dfs = []\n",
    "\n",
    "for file_dir in dir_files:\n",
    "    df = pd.read_excel(file_dir,header=0)\n",
    "    dfs.append(df)\n"
   ]
  },
  {
   "cell_type": "code",
   "execution_count": 6,
   "metadata": {},
   "outputs": [],
   "source": [
    "def get_col_group_description(df,col):\n",
    "    num_cot = []\n",
    "    info = dict()\n",
    "    for group, frame in df.groupby(col):\n",
    "        num_cot.append(len(frame))\n",
    "    #     print('There are ' + str(len(frame)) + ' records in group ' + str(group) + ' for processing.')\n",
    "\n",
    "    cot_serie = pd.Series(num_cot)\n",
    "    info['count'] = cot_serie.count()\n",
    "    info['max'] = cot_serie.max()\n",
    "    info['mean'] = cot_serie.mean()\n",
    "    info['std'] = cot_serie.std()\n",
    "    return info\n",
    "\n",
    "# get_col_group_description(dfs[0],'RUT')\n",
    "#dfs[0].groupby('RUT')['RUT'].count()"
   ]
  },
  {
   "cell_type": "markdown",
   "metadata": {},
   "source": [
    "# Data Description Single File: Cotizacion"
   ]
  },
  {
   "cell_type": "code",
   "execution_count": 7,
   "metadata": {},
   "outputs": [],
   "source": [
    "cot_resume = pd.DataFrame()\n",
    "\n",
    "cot_index = [index for index in range(0,len(project_types)) if project_types[index] == 'Cotizaciones']\n",
    "cot_names = [project_names[index] for index in range(0,len(project_names)) if index in cot_index]\n",
    "cot_types = [project_types[index] for index in range(0,len(project_types)) if index in cot_index]\n",
    "cot_ftypes = [project_file_types[index] for index in range(0,len(project_file_types)) if index in cot_index]\n",
    "\n",
    "cot = [dfs[index] for index in range(0,len(dfs)) if index in cot_index]\n",
    "\n",
    "#start description\n",
    "cot_resume['filas'] = [x.shape[0] for x in cot]\n",
    "cot_resume['cols'] = [x.shape[1] for x in cot]\n",
    "cot_resume['fecha_min'] = [pd.to_datetime(x['Fecha Cotizacion'].tolist()).min() for x in cot]\n",
    "cot_resume['fecha_max'] = [pd.to_datetime(x['Fecha Cotizacion'].tolist()).max() for x in cot]\n",
    "cot_resume['ruts_unicos'] = [len(x['RUT'].unique()) for x in cot]\n",
    "cot_resume['ruts_mean'] = [get_col_group_description(x,'RUT')['mean'] for x in cot]\n",
    "cot_resume['ruts_std'] = [get_col_group_description(x,'RUT')['std'] for x in cot]\n",
    "cot_resume['ruts_max'] = [get_col_group_description(x,'RUT')['max'] for x in cot]\n",
    "\n"
   ]
  },
  {
   "cell_type": "code",
   "execution_count": 8,
   "metadata": {},
   "outputs": [
    {
     "data": {
      "text/html": [
       "<div>\n",
       "<style scoped>\n",
       "    .dataframe tbody tr th:only-of-type {\n",
       "        vertical-align: middle;\n",
       "    }\n",
       "\n",
       "    .dataframe tbody tr th {\n",
       "        vertical-align: top;\n",
       "    }\n",
       "\n",
       "    .dataframe thead th {\n",
       "        text-align: right;\n",
       "    }\n",
       "</style>\n",
       "<table border=\"1\" class=\"dataframe\">\n",
       "  <thead>\n",
       "    <tr style=\"text-align: right;\">\n",
       "      <th></th>\n",
       "      <th>filas</th>\n",
       "      <th>cols</th>\n",
       "      <th>fecha_min</th>\n",
       "      <th>fecha_max</th>\n",
       "      <th>ruts_unicos</th>\n",
       "      <th>ruts_mean</th>\n",
       "      <th>ruts_std</th>\n",
       "      <th>ruts_max</th>\n",
       "    </tr>\n",
       "  </thead>\n",
       "  <tbody>\n",
       "    <tr>\n",
       "      <th>0</th>\n",
       "      <td>442</td>\n",
       "      <td>31</td>\n",
       "      <td>2017-07-27 15:46:54</td>\n",
       "      <td>2018-04-20 15:33:46.000</td>\n",
       "      <td>231</td>\n",
       "      <td>1.913420</td>\n",
       "      <td>1.351760</td>\n",
       "      <td>10</td>\n",
       "    </tr>\n",
       "    <tr>\n",
       "      <th>1</th>\n",
       "      <td>801</td>\n",
       "      <td>31</td>\n",
       "      <td>2016-01-19 08:53:16</td>\n",
       "      <td>2018-04-19 12:42:56.000</td>\n",
       "      <td>320</td>\n",
       "      <td>2.503125</td>\n",
       "      <td>2.439228</td>\n",
       "      <td>20</td>\n",
       "    </tr>\n",
       "    <tr>\n",
       "      <th>2</th>\n",
       "      <td>1719</td>\n",
       "      <td>31</td>\n",
       "      <td>2016-09-22 16:36:03</td>\n",
       "      <td>2018-04-19 19:01:45.000</td>\n",
       "      <td>729</td>\n",
       "      <td>2.358025</td>\n",
       "      <td>1.946240</td>\n",
       "      <td>16</td>\n",
       "    </tr>\n",
       "    <tr>\n",
       "      <th>3</th>\n",
       "      <td>10593</td>\n",
       "      <td>31</td>\n",
       "      <td>2013-08-19 16:58:26</td>\n",
       "      <td>2018-04-27 12:13:48.000</td>\n",
       "      <td>3743</td>\n",
       "      <td>2.830083</td>\n",
       "      <td>2.866900</td>\n",
       "      <td>45</td>\n",
       "    </tr>\n",
       "    <tr>\n",
       "      <th>4</th>\n",
       "      <td>2683</td>\n",
       "      <td>31</td>\n",
       "      <td>2017-03-24 18:36:24</td>\n",
       "      <td>2018-04-26 18:17:22.430</td>\n",
       "      <td>1206</td>\n",
       "      <td>2.224710</td>\n",
       "      <td>1.697962</td>\n",
       "      <td>13</td>\n",
       "    </tr>\n",
       "  </tbody>\n",
       "</table>\n",
       "</div>"
      ],
      "text/plain": [
       "   filas  cols           fecha_min               fecha_max  ruts_unicos  \\\n",
       "0    442    31 2017-07-27 15:46:54 2018-04-20 15:33:46.000          231   \n",
       "1    801    31 2016-01-19 08:53:16 2018-04-19 12:42:56.000          320   \n",
       "2   1719    31 2016-09-22 16:36:03 2018-04-19 19:01:45.000          729   \n",
       "3  10593    31 2013-08-19 16:58:26 2018-04-27 12:13:48.000         3743   \n",
       "4   2683    31 2017-03-24 18:36:24 2018-04-26 18:17:22.430         1206   \n",
       "\n",
       "   ruts_mean  ruts_std  ruts_max  \n",
       "0   1.913420  1.351760        10  \n",
       "1   2.503125  2.439228        20  \n",
       "2   2.358025  1.946240        16  \n",
       "3   2.830083  2.866900        45  \n",
       "4   2.224710  1.697962        13  "
      ]
     },
     "execution_count": 8,
     "metadata": {},
     "output_type": "execute_result"
    }
   ],
   "source": [
    "cot_resume"
   ]
  },
  {
   "cell_type": "code",
   "execution_count": 9,
   "metadata": {},
   "outputs": [
    {
     "data": {
      "text/html": [
       "<div>\n",
       "<style scoped>\n",
       "    .dataframe tbody tr th:only-of-type {\n",
       "        vertical-align: middle;\n",
       "    }\n",
       "\n",
       "    .dataframe tbody tr th {\n",
       "        vertical-align: top;\n",
       "    }\n",
       "\n",
       "    .dataframe thead th {\n",
       "        text-align: right;\n",
       "    }\n",
       "</style>\n",
       "<table border=\"1\" class=\"dataframe\">\n",
       "  <thead>\n",
       "    <tr style=\"text-align: right;\">\n",
       "      <th></th>\n",
       "      <th>filas</th>\n",
       "      <th>cols</th>\n",
       "      <th>ruts_unicos</th>\n",
       "      <th>ruts_mean</th>\n",
       "      <th>ruts_std</th>\n",
       "      <th>ruts_max</th>\n",
       "    </tr>\n",
       "  </thead>\n",
       "  <tbody>\n",
       "    <tr>\n",
       "      <th>count</th>\n",
       "      <td>5.000000</td>\n",
       "      <td>5.0</td>\n",
       "      <td>5.000000</td>\n",
       "      <td>5.000000</td>\n",
       "      <td>5.000000</td>\n",
       "      <td>5.000000</td>\n",
       "    </tr>\n",
       "    <tr>\n",
       "      <th>mean</th>\n",
       "      <td>3247.600000</td>\n",
       "      <td>31.0</td>\n",
       "      <td>1245.800000</td>\n",
       "      <td>2.365872</td>\n",
       "      <td>2.060418</td>\n",
       "      <td>20.800000</td>\n",
       "    </tr>\n",
       "    <tr>\n",
       "      <th>std</th>\n",
       "      <td>4197.247169</td>\n",
       "      <td>0.0</td>\n",
       "      <td>1448.412821</td>\n",
       "      <td>0.338759</td>\n",
       "      <td>0.600108</td>\n",
       "      <td>14.024978</td>\n",
       "    </tr>\n",
       "    <tr>\n",
       "      <th>min</th>\n",
       "      <td>442.000000</td>\n",
       "      <td>31.0</td>\n",
       "      <td>231.000000</td>\n",
       "      <td>1.913420</td>\n",
       "      <td>1.351760</td>\n",
       "      <td>10.000000</td>\n",
       "    </tr>\n",
       "    <tr>\n",
       "      <th>25%</th>\n",
       "      <td>801.000000</td>\n",
       "      <td>31.0</td>\n",
       "      <td>320.000000</td>\n",
       "      <td>2.224710</td>\n",
       "      <td>1.697962</td>\n",
       "      <td>13.000000</td>\n",
       "    </tr>\n",
       "    <tr>\n",
       "      <th>50%</th>\n",
       "      <td>1719.000000</td>\n",
       "      <td>31.0</td>\n",
       "      <td>729.000000</td>\n",
       "      <td>2.358025</td>\n",
       "      <td>1.946240</td>\n",
       "      <td>16.000000</td>\n",
       "    </tr>\n",
       "    <tr>\n",
       "      <th>75%</th>\n",
       "      <td>2683.000000</td>\n",
       "      <td>31.0</td>\n",
       "      <td>1206.000000</td>\n",
       "      <td>2.503125</td>\n",
       "      <td>2.439228</td>\n",
       "      <td>20.000000</td>\n",
       "    </tr>\n",
       "    <tr>\n",
       "      <th>max</th>\n",
       "      <td>10593.000000</td>\n",
       "      <td>31.0</td>\n",
       "      <td>3743.000000</td>\n",
       "      <td>2.830083</td>\n",
       "      <td>2.866900</td>\n",
       "      <td>45.000000</td>\n",
       "    </tr>\n",
       "  </tbody>\n",
       "</table>\n",
       "</div>"
      ],
      "text/plain": [
       "              filas  cols  ruts_unicos  ruts_mean  ruts_std   ruts_max\n",
       "count      5.000000   5.0     5.000000   5.000000  5.000000   5.000000\n",
       "mean    3247.600000  31.0  1245.800000   2.365872  2.060418  20.800000\n",
       "std     4197.247169   0.0  1448.412821   0.338759  0.600108  14.024978\n",
       "min      442.000000  31.0   231.000000   1.913420  1.351760  10.000000\n",
       "25%      801.000000  31.0   320.000000   2.224710  1.697962  13.000000\n",
       "50%     1719.000000  31.0   729.000000   2.358025  1.946240  16.000000\n",
       "75%     2683.000000  31.0  1206.000000   2.503125  2.439228  20.000000\n",
       "max    10593.000000  31.0  3743.000000   2.830083  2.866900  45.000000"
      ]
     },
     "execution_count": 9,
     "metadata": {},
     "output_type": "execute_result"
    }
   ],
   "source": [
    "cot_resume.describe()"
   ]
  },
  {
   "cell_type": "markdown",
   "metadata": {},
   "source": [
    "# Data Description Single File: Negocios"
   ]
  },
  {
   "cell_type": "code",
   "execution_count": 10,
   "metadata": {},
   "outputs": [],
   "source": [
    "neg_resume = pd.DataFrame()\n",
    "\n",
    "neg_index = [index for index in range(0,len(project_types)) if project_types[index] == 'Negocios']\n",
    "neg_names = [project_names[index] for index in range(0,len(project_names)) if index in neg_index]\n",
    "neg_types = [project_types[index] for index in range(0,len(project_types)) if index in neg_index]\n",
    "neg_ftypes = [project_file_types[index] for index in range(0,len(project_file_types)) if index in neg_index]\n",
    "\n",
    "neg = [dfs[index] for index in range(0,len(dfs)) if index in neg_index]\n",
    "\n",
    "#start description\n",
    "neg_resume['filas'] = [x.shape[0] for x in neg]\n",
    "neg_resume['cols'] = [x.shape[1] for x in neg]\n",
    "neg_resume['fecha_min'] = [pd.to_datetime(x['Fecha Cotizacion'].tolist()).min() for x in neg]\n",
    "neg_resume['fecha_max'] = [pd.to_datetime(x['Fecha Cotizacion'].tolist()).max() for x in neg]\n",
    "neg_resume['ruts_unicos'] = [len(x['RUT'].unique()) for x in neg]\n",
    "neg_resume['ruts_mean'] = [get_col_group_description(x,'RUT')['mean'] for x in neg]\n",
    "neg_resume['ruts_std'] = [get_col_group_description(x,'RUT')['std'] for x in neg]\n",
    "neg_resume['ruts_max'] = [get_col_group_description(x,'RUT')['max'] for x in neg]\n",
    "\n",
    "neg_resume['%es_anulados']  = [(len(x[x['Estado'] == 'Anulada'])/y) for x,y in zip(neg,neg_resume['filas'])]\n",
    "neg_resume['%es_promesas']  = [(len(x[x['Estado'] == 'Promesado'])/y) for x,y in zip(neg,neg_resume['filas'])]\n",
    "neg_resume['%es_reserva']   = [len(x[x['Estado'] == 'Reservado'])/y for x,y in zip(neg,neg_resume['filas'])]\n",
    "neg_resume['%esc_desistido'] = [len(x[x['Estado Comercial'] == 'Desistimiento'])/y for x,y in zip(neg,neg_resume['filas'])]\n",
    "neg_resume['%esc_normal']    = [len(x[x['Estado Comercial'] == 'Normal'])/y for x,y in zip(neg,neg_resume['filas'])]"
   ]
  },
  {
   "cell_type": "code",
   "execution_count": 11,
   "metadata": {},
   "outputs": [
    {
     "data": {
      "text/html": [
       "<div>\n",
       "<style scoped>\n",
       "    .dataframe tbody tr th:only-of-type {\n",
       "        vertical-align: middle;\n",
       "    }\n",
       "\n",
       "    .dataframe tbody tr th {\n",
       "        vertical-align: top;\n",
       "    }\n",
       "\n",
       "    .dataframe thead th {\n",
       "        text-align: right;\n",
       "    }\n",
       "</style>\n",
       "<table border=\"1\" class=\"dataframe\">\n",
       "  <thead>\n",
       "    <tr style=\"text-align: right;\">\n",
       "      <th></th>\n",
       "      <th>filas</th>\n",
       "      <th>cols</th>\n",
       "      <th>fecha_min</th>\n",
       "      <th>fecha_max</th>\n",
       "      <th>ruts_unicos</th>\n",
       "      <th>ruts_mean</th>\n",
       "      <th>ruts_std</th>\n",
       "      <th>ruts_max</th>\n",
       "      <th>%es_anulados</th>\n",
       "      <th>%es_promesas</th>\n",
       "      <th>%es_reserva</th>\n",
       "      <th>%esc_desistido</th>\n",
       "      <th>%esc_normal</th>\n",
       "    </tr>\n",
       "  </thead>\n",
       "  <tbody>\n",
       "    <tr>\n",
       "      <th>0</th>\n",
       "      <td>100</td>\n",
       "      <td>38</td>\n",
       "      <td>2017-07-27 15:46:58.750</td>\n",
       "      <td>2018-04-17 13:42:58.670</td>\n",
       "      <td>57</td>\n",
       "      <td>1.754386</td>\n",
       "      <td>1.366444</td>\n",
       "      <td>7</td>\n",
       "      <td>0.670000</td>\n",
       "      <td>0.220000</td>\n",
       "      <td>0.110000</td>\n",
       "      <td>0.040000</td>\n",
       "      <td>0.950000</td>\n",
       "    </tr>\n",
       "    <tr>\n",
       "      <th>1</th>\n",
       "      <td>101</td>\n",
       "      <td>38</td>\n",
       "      <td>2016-01-25 13:21:02.013</td>\n",
       "      <td>2018-04-18 18:25:01.797</td>\n",
       "      <td>52</td>\n",
       "      <td>1.942308</td>\n",
       "      <td>1.487378</td>\n",
       "      <td>7</td>\n",
       "      <td>0.504950</td>\n",
       "      <td>0.079208</td>\n",
       "      <td>0.188119</td>\n",
       "      <td>0.128713</td>\n",
       "      <td>0.811881</td>\n",
       "    </tr>\n",
       "    <tr>\n",
       "      <th>2</th>\n",
       "      <td>76</td>\n",
       "      <td>38</td>\n",
       "      <td>2016-09-26 16:12:56.703</td>\n",
       "      <td>2018-04-19 12:00:18.270</td>\n",
       "      <td>47</td>\n",
       "      <td>1.617021</td>\n",
       "      <td>0.898143</td>\n",
       "      <td>5</td>\n",
       "      <td>0.500000</td>\n",
       "      <td>0.065789</td>\n",
       "      <td>0.065789</td>\n",
       "      <td>0.065789</td>\n",
       "      <td>0.868421</td>\n",
       "    </tr>\n",
       "    <tr>\n",
       "      <th>3</th>\n",
       "      <td>1814</td>\n",
       "      <td>38</td>\n",
       "      <td>2013-08-19 18:35:56.620</td>\n",
       "      <td>2018-04-26 16:05:35.993</td>\n",
       "      <td>801</td>\n",
       "      <td>2.264669</td>\n",
       "      <td>1.822735</td>\n",
       "      <td>17</td>\n",
       "      <td>0.661521</td>\n",
       "      <td>0.085998</td>\n",
       "      <td>0.122933</td>\n",
       "      <td>0.127894</td>\n",
       "      <td>0.829658</td>\n",
       "    </tr>\n",
       "    <tr>\n",
       "      <th>4</th>\n",
       "      <td>196</td>\n",
       "      <td>38</td>\n",
       "      <td>2017-03-27 17:03:29.563</td>\n",
       "      <td>2018-04-26 16:50:07.440</td>\n",
       "      <td>120</td>\n",
       "      <td>1.633333</td>\n",
       "      <td>1.194760</td>\n",
       "      <td>8</td>\n",
       "      <td>0.500000</td>\n",
       "      <td>0.331633</td>\n",
       "      <td>0.168367</td>\n",
       "      <td>0.147959</td>\n",
       "      <td>0.841837</td>\n",
       "    </tr>\n",
       "  </tbody>\n",
       "</table>\n",
       "</div>"
      ],
      "text/plain": [
       "   filas  cols               fecha_min               fecha_max  ruts_unicos  \\\n",
       "0    100    38 2017-07-27 15:46:58.750 2018-04-17 13:42:58.670           57   \n",
       "1    101    38 2016-01-25 13:21:02.013 2018-04-18 18:25:01.797           52   \n",
       "2     76    38 2016-09-26 16:12:56.703 2018-04-19 12:00:18.270           47   \n",
       "3   1814    38 2013-08-19 18:35:56.620 2018-04-26 16:05:35.993          801   \n",
       "4    196    38 2017-03-27 17:03:29.563 2018-04-26 16:50:07.440          120   \n",
       "\n",
       "   ruts_mean  ruts_std  ruts_max  %es_anulados  %es_promesas  %es_reserva  \\\n",
       "0   1.754386  1.366444         7      0.670000      0.220000     0.110000   \n",
       "1   1.942308  1.487378         7      0.504950      0.079208     0.188119   \n",
       "2   1.617021  0.898143         5      0.500000      0.065789     0.065789   \n",
       "3   2.264669  1.822735        17      0.661521      0.085998     0.122933   \n",
       "4   1.633333  1.194760         8      0.500000      0.331633     0.168367   \n",
       "\n",
       "   %esc_desistido  %esc_normal  \n",
       "0        0.040000     0.950000  \n",
       "1        0.128713     0.811881  \n",
       "2        0.065789     0.868421  \n",
       "3        0.127894     0.829658  \n",
       "4        0.147959     0.841837  "
      ]
     },
     "execution_count": 11,
     "metadata": {},
     "output_type": "execute_result"
    }
   ],
   "source": [
    "neg_resume"
   ]
  },
  {
   "cell_type": "code",
   "execution_count": 12,
   "metadata": {},
   "outputs": [
    {
     "data": {
      "text/html": [
       "<div>\n",
       "<style scoped>\n",
       "    .dataframe tbody tr th:only-of-type {\n",
       "        vertical-align: middle;\n",
       "    }\n",
       "\n",
       "    .dataframe tbody tr th {\n",
       "        vertical-align: top;\n",
       "    }\n",
       "\n",
       "    .dataframe thead th {\n",
       "        text-align: right;\n",
       "    }\n",
       "</style>\n",
       "<table border=\"1\" class=\"dataframe\">\n",
       "  <thead>\n",
       "    <tr style=\"text-align: right;\">\n",
       "      <th></th>\n",
       "      <th>filas</th>\n",
       "      <th>cols</th>\n",
       "      <th>ruts_unicos</th>\n",
       "      <th>ruts_mean</th>\n",
       "      <th>ruts_std</th>\n",
       "      <th>ruts_max</th>\n",
       "      <th>%es_anulados</th>\n",
       "      <th>%es_promesas</th>\n",
       "      <th>%es_reserva</th>\n",
       "      <th>%esc_desistido</th>\n",
       "      <th>%esc_normal</th>\n",
       "    </tr>\n",
       "  </thead>\n",
       "  <tbody>\n",
       "    <tr>\n",
       "      <th>count</th>\n",
       "      <td>5.00000</td>\n",
       "      <td>5.0</td>\n",
       "      <td>5.000000</td>\n",
       "      <td>5.000000</td>\n",
       "      <td>5.000000</td>\n",
       "      <td>5.000000</td>\n",
       "      <td>5.000000</td>\n",
       "      <td>5.000000</td>\n",
       "      <td>5.000000</td>\n",
       "      <td>5.000000</td>\n",
       "      <td>5.000000</td>\n",
       "    </tr>\n",
       "    <tr>\n",
       "      <th>mean</th>\n",
       "      <td>457.40000</td>\n",
       "      <td>38.0</td>\n",
       "      <td>215.400000</td>\n",
       "      <td>1.842343</td>\n",
       "      <td>1.353892</td>\n",
       "      <td>8.800000</td>\n",
       "      <td>0.567294</td>\n",
       "      <td>0.156526</td>\n",
       "      <td>0.131042</td>\n",
       "      <td>0.102071</td>\n",
       "      <td>0.860359</td>\n",
       "    </tr>\n",
       "    <tr>\n",
       "      <th>std</th>\n",
       "      <td>759.75575</td>\n",
       "      <td>0.0</td>\n",
       "      <td>328.700928</td>\n",
       "      <td>0.269511</td>\n",
       "      <td>0.343082</td>\n",
       "      <td>4.711688</td>\n",
       "      <td>0.089960</td>\n",
       "      <td>0.116057</td>\n",
       "      <td>0.048522</td>\n",
       "      <td>0.046507</td>\n",
       "      <td>0.054167</td>\n",
       "    </tr>\n",
       "    <tr>\n",
       "      <th>min</th>\n",
       "      <td>76.00000</td>\n",
       "      <td>38.0</td>\n",
       "      <td>47.000000</td>\n",
       "      <td>1.617021</td>\n",
       "      <td>0.898143</td>\n",
       "      <td>5.000000</td>\n",
       "      <td>0.500000</td>\n",
       "      <td>0.065789</td>\n",
       "      <td>0.065789</td>\n",
       "      <td>0.040000</td>\n",
       "      <td>0.811881</td>\n",
       "    </tr>\n",
       "    <tr>\n",
       "      <th>25%</th>\n",
       "      <td>100.00000</td>\n",
       "      <td>38.0</td>\n",
       "      <td>52.000000</td>\n",
       "      <td>1.633333</td>\n",
       "      <td>1.194760</td>\n",
       "      <td>7.000000</td>\n",
       "      <td>0.500000</td>\n",
       "      <td>0.079208</td>\n",
       "      <td>0.110000</td>\n",
       "      <td>0.065789</td>\n",
       "      <td>0.829658</td>\n",
       "    </tr>\n",
       "    <tr>\n",
       "      <th>50%</th>\n",
       "      <td>101.00000</td>\n",
       "      <td>38.0</td>\n",
       "      <td>57.000000</td>\n",
       "      <td>1.754386</td>\n",
       "      <td>1.366444</td>\n",
       "      <td>7.000000</td>\n",
       "      <td>0.504950</td>\n",
       "      <td>0.085998</td>\n",
       "      <td>0.122933</td>\n",
       "      <td>0.127894</td>\n",
       "      <td>0.841837</td>\n",
       "    </tr>\n",
       "    <tr>\n",
       "      <th>75%</th>\n",
       "      <td>196.00000</td>\n",
       "      <td>38.0</td>\n",
       "      <td>120.000000</td>\n",
       "      <td>1.942308</td>\n",
       "      <td>1.487378</td>\n",
       "      <td>8.000000</td>\n",
       "      <td>0.661521</td>\n",
       "      <td>0.220000</td>\n",
       "      <td>0.168367</td>\n",
       "      <td>0.128713</td>\n",
       "      <td>0.868421</td>\n",
       "    </tr>\n",
       "    <tr>\n",
       "      <th>max</th>\n",
       "      <td>1814.00000</td>\n",
       "      <td>38.0</td>\n",
       "      <td>801.000000</td>\n",
       "      <td>2.264669</td>\n",
       "      <td>1.822735</td>\n",
       "      <td>17.000000</td>\n",
       "      <td>0.670000</td>\n",
       "      <td>0.331633</td>\n",
       "      <td>0.188119</td>\n",
       "      <td>0.147959</td>\n",
       "      <td>0.950000</td>\n",
       "    </tr>\n",
       "  </tbody>\n",
       "</table>\n",
       "</div>"
      ],
      "text/plain": [
       "            filas  cols  ruts_unicos  ruts_mean  ruts_std   ruts_max  \\\n",
       "count     5.00000   5.0     5.000000   5.000000  5.000000   5.000000   \n",
       "mean    457.40000  38.0   215.400000   1.842343  1.353892   8.800000   \n",
       "std     759.75575   0.0   328.700928   0.269511  0.343082   4.711688   \n",
       "min      76.00000  38.0    47.000000   1.617021  0.898143   5.000000   \n",
       "25%     100.00000  38.0    52.000000   1.633333  1.194760   7.000000   \n",
       "50%     101.00000  38.0    57.000000   1.754386  1.366444   7.000000   \n",
       "75%     196.00000  38.0   120.000000   1.942308  1.487378   8.000000   \n",
       "max    1814.00000  38.0   801.000000   2.264669  1.822735  17.000000   \n",
       "\n",
       "       %es_anulados  %es_promesas  %es_reserva  %esc_desistido  %esc_normal  \n",
       "count      5.000000      5.000000     5.000000        5.000000     5.000000  \n",
       "mean       0.567294      0.156526     0.131042        0.102071     0.860359  \n",
       "std        0.089960      0.116057     0.048522        0.046507     0.054167  \n",
       "min        0.500000      0.065789     0.065789        0.040000     0.811881  \n",
       "25%        0.500000      0.079208     0.110000        0.065789     0.829658  \n",
       "50%        0.504950      0.085998     0.122933        0.127894     0.841837  \n",
       "75%        0.661521      0.220000     0.168367        0.128713     0.868421  \n",
       "max        0.670000      0.331633     0.188119        0.147959     0.950000  "
      ]
     },
     "execution_count": 12,
     "metadata": {},
     "output_type": "execute_result"
    }
   ],
   "source": [
    "neg_resume.describe()"
   ]
  },
  {
   "cell_type": "markdown",
   "metadata": {},
   "source": [
    "# Describe Data Combined Files: Cotizacion"
   ]
  },
  {
   "cell_type": "code",
   "execution_count": 13,
   "metadata": {},
   "outputs": [],
   "source": [
    "# concat cotizaciones\n",
    "cot_all = pd.concat(cot)\n",
    "cot_all.to_excel(data_directory + 'cotizaciones_all.xlsx')\n",
    "cot_all_resume = pd.DataFrame()"
   ]
  },
  {
   "cell_type": "code",
   "execution_count": 14,
   "metadata": {},
   "outputs": [
    {
     "name": "stdout",
     "output_type": "stream",
     "text": [
      "<class 'pandas.core.frame.DataFrame'>\n",
      "Int64Index: 16238 entries, 0 to 2682\n",
      "Data columns (total 31 columns):\n",
      "ID                     16238 non-null int64\n",
      "Fecha Cotizacion       16238 non-null object\n",
      "Medio                  16238 non-null object\n",
      "Tipo de Medio          15715 non-null object\n",
      "Proyecto               16238 non-null object\n",
      "Etapa                  16238 non-null object\n",
      "Productos              15851 non-null object\n",
      "Presencial             14203 non-null object\n",
      "Remoto                 12667 non-null object\n",
      "Jefe Comercial         16238 non-null object\n",
      "Ejecutivo Comercial    16238 non-null object\n",
      "Total Productos        16200 non-null float64\n",
      "Descuentos             15951 non-null float64\n",
      "Valor Final Venta      15951 non-null float64\n",
      "RUT                    16238 non-null object\n",
      "Nombre                 16238 non-null object\n",
      "Apellido 1             16198 non-null object\n",
      "Apellido 2             16190 non-null object\n",
      "Nombre Completo        16238 non-null object\n",
      "Telefono               1964 non-null object\n",
      "Celular                16210 non-null object\n",
      "Direccion              5066 non-null object\n",
      "Region                 16238 non-null object\n",
      "Provincia              16238 non-null object\n",
      "Comuna                 16238 non-null object\n",
      "Correo Electronico     16238 non-null object\n",
      "Sexo                   14558 non-null object\n",
      "Estado Civil           14426 non-null object\n",
      "Rango Edad             14451 non-null object\n",
      "Fecha Nacimiento       3777 non-null datetime64[ns]\n",
      "Profesion              7292 non-null object\n",
      "dtypes: datetime64[ns](1), float64(3), int64(1), object(26)\n",
      "memory usage: 4.0+ MB\n"
     ]
    }
   ],
   "source": [
    "cot_all.info()"
   ]
  },
  {
   "cell_type": "code",
   "execution_count": 54,
   "metadata": {},
   "outputs": [
    {
     "data": {
      "text/plain": [
       "[Text(0,0.5,'Atributos'), Text(0.5,0,'Valores Nulo vs Total Filas')]"
      ]
     },
     "execution_count": 54,
     "metadata": {},
     "output_type": "execute_result"
    },
    {
     "data": {
      "image/png": "[encoded data removed]",
      "text/plain": [
       "<matplotlib.figure.Figure at 0x26bc714afd0>"
      ]
     },
     "metadata": {},
     "output_type": "display_data"
    }
   ],
   "source": [
    "df = cot_all\n",
    "null_columns = df.columns[df.isnull().any()]\n",
    "nulos = df[null_columns].isnull().sum()\n",
    "\n",
    "#view columns with null only\n",
    "# null_columns = df.columns[df.isnull().any()]\n",
    "# null_df = df[null_columns].isnull().sum()\n",
    "\n",
    "#view all columns with its null count\n",
    "null_columns = df.columns\n",
    "null_df =  df.shape[0] - df.count()\n",
    "\n",
    "null_df = pd.DataFrame({'Total':null_df,'Etiquetas':null_columns})\n",
    "\n",
    "columnas = null_columns.copy()\n",
    "filas = [df.shape[0]] * len(null_columns)\n",
    "\n",
    "totales = pd.DataFrame({'Total':filas,'Etiquetas':columnas})\n",
    "\n",
    "f, ax = plt.subplots(figsize=(12, 8))\n",
    "\n",
    "sb.set_color_codes(\"pastel\")\n",
    "sb.barplot(data=totales.sort_values(by='Total',ascending=False), x='Total', y='Etiquetas',color=\"b\",label=\"Total Filas\")\n",
    "\n",
    "sb.set_color_codes(\"muted\")\n",
    "sb.barplot(data=null_df.sort_values(by='Total',ascending=False), x='Total', y='Etiquetas',color=\"b\",label=\"Total Nulos\")\n",
    "\n",
    "ax.legend(ncol=2, loc=\"lower right\", frameon=True)\n",
    "ax.set( ylabel=\"Atributos\", xlabel=\"Valores Nulo vs Total Filas\")\n",
    "# sb.despine(left=True, bottom=True)"
   ]
  },
  {
   "cell_type": "code",
   "execution_count": 16,
   "metadata": {},
   "outputs": [],
   "source": [
    "#Variables categoricas\n",
    "def ver_atributo_categorico(df,col,limit=False,lim=10,log=False,hue=None,palette=None):\n",
    "    l = df[col].unique().tolist()\n",
    "    l_len = len(l)\n",
    "    \n",
    "    if log:\n",
    "        print(l_len,l)\n",
    "    \n",
    "    sb.set_color_codes(\"muted\")\n",
    "    if limit:\n",
    "        return sb.countplot(y=col, data=df, color=\"r\", order=df[col].value_counts().index[:lim],hue=hue,palette=palette);\n",
    "    else:\n",
    "        return sb.countplot(y=col, data=df, color=\"r\", order=df[col].value_counts().index[:l_len],hue=hue,palette=palette);"
   ]
  },
  {
   "cell_type": "code",
   "execution_count": 17,
   "metadata": {},
   "outputs": [
    {
     "data": {
      "text/plain": [
       "<matplotlib.axes._subplots.AxesSubplot at 0x26bc6348c18>"
      ]
     },
     "execution_count": 17,
     "metadata": {},
     "output_type": "execute_result"
    },
    {
     "data": {
      "image/png": "[encoded data removed]",
      "text/plain": [
       "<matplotlib.figure.Figure at 0x26bc6fd9cc0>"
      ]
     },
     "metadata": {},
     "output_type": "display_data"
    }
   ],
   "source": [
    "ver_atributo_categorico(cot_all,'Medio',hue='Sexo')"
   ]
  },
  {
   "cell_type": "code",
   "execution_count": 18,
   "metadata": {},
   "outputs": [
    {
     "data": {
      "text/plain": [
       "<matplotlib.axes._subplots.AxesSubplot at 0x26bc6f13780>"
      ]
     },
     "execution_count": 18,
     "metadata": {},
     "output_type": "execute_result"
    },
    {
     "data": {
      "image/png": "[encoded data removed]",
      "text/plain": [
       "<matplotlib.figure.Figure at 0x26bc6c6f0f0>"
      ]
     },
     "metadata": {},
     "output_type": "display_data"
    }
   ],
   "source": [
    "ver_atributo_categorico(cot_all,'Proyecto')"
   ]
  },
  {
   "cell_type": "code",
   "execution_count": 19,
   "metadata": {},
   "outputs": [
    {
     "data": {
      "text/plain": [
       "<matplotlib.axes._subplots.AxesSubplot at 0x26bc6def2e8>"
      ]
     },
     "execution_count": 19,
     "metadata": {},
     "output_type": "execute_result"
    },
    {
     "data": {
      "image/png": "[encoded data removed]",
      "text/plain": [
       "<matplotlib.figure.Figure at 0x26bc70180b8>"
      ]
     },
     "metadata": {},
     "output_type": "display_data"
    }
   ],
   "source": [
    "ver_atributo_categorico(cot_all,'Tipo de Medio',lim=10,limit=True)"
   ]
  },
  {
   "cell_type": "code",
   "execution_count": 20,
   "metadata": {},
   "outputs": [
    {
     "data": {
      "text/plain": [
       "<matplotlib.axes._subplots.AxesSubplot at 0x26bc6b430b8>"
      ]
     },
     "execution_count": 20,
     "metadata": {},
     "output_type": "execute_result"
    },
    {
     "data": {
      "image/png": "[encoded data removed]",
      "text/plain": [
       "<matplotlib.figure.Figure at 0x26bc6f97048>"
      ]
     },
     "metadata": {},
     "output_type": "display_data"
    }
   ],
   "source": [
    "ver_atributo_categorico(cot_all,'Sexo')"
   ]
  },
  {
   "cell_type": "code",
   "execution_count": 21,
   "metadata": {},
   "outputs": [
    {
     "data": {
      "text/plain": [
       "<matplotlib.axes._subplots.AxesSubplot at 0x26bc6e95d68>"
      ]
     },
     "execution_count": 21,
     "metadata": {},
     "output_type": "execute_result"
    },
    {
     "data": {
      "image/png": "[encoded data removed]",
      "text/plain": [
       "<matplotlib.figure.Figure at 0x26bc6f94400>"
      ]
     },
     "metadata": {},
     "output_type": "display_data"
    }
   ],
   "source": [
    "ver_atributo_categorico(cot_all,'Remoto')"
   ]
  },
  {
   "cell_type": "code",
   "execution_count": 22,
   "metadata": {},
   "outputs": [
    {
     "data": {
      "text/plain": [
       "<matplotlib.axes._subplots.AxesSubplot at 0x26bc6e6d5f8>"
      ]
     },
     "execution_count": 22,
     "metadata": {},
     "output_type": "execute_result"
    },
    {
     "data": {
      "image/png": "[encoded data removed]",
      "text/plain": [
       "<matplotlib.figure.Figure at 0x26bc6e9c080>"
      ]
     },
     "metadata": {},
     "output_type": "display_data"
    }
   ],
   "source": [
    "ver_atributo_categorico(cot_all,'Presencial')"
   ]
  },
  {
   "cell_type": "code",
   "execution_count": 23,
   "metadata": {},
   "outputs": [
    {
     "data": {
      "text/plain": [
       "<matplotlib.axes._subplots.AxesSubplot at 0x26bc6d6f6a0>"
      ]
     },
     "execution_count": 23,
     "metadata": {},
     "output_type": "execute_result"
    },
    {
     "data": {
      "image/png": "[encoded data removed]",
      "text/plain": [
       "<matplotlib.figure.Figure at 0x26bc6b15908>"
      ]
     },
     "metadata": {},
     "output_type": "display_data"
    }
   ],
   "source": [
    "ver_atributo_categorico(cot_all,'Region',lim=10,limit=True)"
   ]
  },
  {
   "cell_type": "code",
   "execution_count": 24,
   "metadata": {},
   "outputs": [
    {
     "data": {
      "text/plain": [
       "<matplotlib.axes._subplots.AxesSubplot at 0x26bc67a8e10>"
      ]
     },
     "execution_count": 24,
     "metadata": {},
     "output_type": "execute_result"
    },
    {
     "data": {
      "image/png": "[encoded data removed]",
      "text/plain": [
       "<matplotlib.figure.Figure at 0x26bc67dc240>"
      ]
     },
     "metadata": {},
     "output_type": "display_data"
    }
   ],
   "source": [
    "ver_atributo_categorico(cot_all,'Provincia',lim=10,limit=True)"
   ]
  },
  {
   "cell_type": "code",
   "execution_count": 25,
   "metadata": {},
   "outputs": [
    {
     "data": {
      "text/plain": [
       "<matplotlib.axes._subplots.AxesSubplot at 0x26bc67a4438>"
      ]
     },
     "execution_count": 25,
     "metadata": {},
     "output_type": "execute_result"
    },
    {
     "data": {
      "image/png": "[encoded data removed]",
      "text/plain": [
       "<matplotlib.figure.Figure at 0x26bc687fd30>"
      ]
     },
     "metadata": {},
     "output_type": "display_data"
    }
   ],
   "source": [
    "ver_atributo_categorico(cot_all,'Comuna',lim=10,limit=True)"
   ]
  },
  {
   "cell_type": "code",
   "execution_count": 26,
   "metadata": {},
   "outputs": [
    {
     "data": {
      "text/plain": [
       "<matplotlib.axes._subplots.AxesSubplot at 0x26bc621dd68>"
      ]
     },
     "execution_count": 26,
     "metadata": {},
     "output_type": "execute_result"
    },
    {
     "data": {
      "image/png": "[encoded data removed]",
      "text/plain": [
       "<matplotlib.figure.Figure at 0x26bc620d320>"
      ]
     },
     "metadata": {},
     "output_type": "display_data"
    }
   ],
   "source": [
    "ver_atributo_categorico(cot_all,'Estado Civil')"
   ]
  },
  {
   "cell_type": "code",
   "execution_count": 27,
   "metadata": {},
   "outputs": [
    {
     "data": {
      "text/plain": [
       "<matplotlib.axes._subplots.AxesSubplot at 0x26bc7156a20>"
      ]
     },
     "execution_count": 27,
     "metadata": {},
     "output_type": "execute_result"
    },
    {
     "data": {
      "image/png": "[encoded data removed]",
      "text/plain": [
       "<matplotlib.figure.Figure at 0x26bc61952e8>"
      ]
     },
     "metadata": {},
     "output_type": "display_data"
    }
   ],
   "source": [
    "palette=[\"C0\",\"C1\",\"C2\"]\n",
    "ver_atributo_categorico(cot_all,'Etapa',hue='Sexo',palette=palette)"
   ]
  },
  {
   "cell_type": "code",
   "execution_count": 28,
   "metadata": {},
   "outputs": [
    {
     "data": {
      "text/plain": [
       "[Text(0.5,0,'total'), Text(0.5,0,'total')]"
      ]
     },
     "execution_count": 28,
     "metadata": {},
     "output_type": "execute_result"
    },
    {
     "data": {
      "image/png": "[encoded data removed]",
      "text/plain": [
       "<matplotlib.figure.Figure at 0x26bc61a99e8>"
      ]
     },
     "metadata": {},
     "output_type": "display_data"
    }
   ],
   "source": [
    "df = cot_all\n",
    "\n",
    "fig, ax = plt.subplots(figsize=(15,20), ncols=2, nrows=4)\n",
    "\n",
    "left   =  0.05  # the left side of the subplots of the figure\n",
    "right  =  0.9    # the right side of the subplots of the figure\n",
    "bottom =  0.1    # the bottom of the subplots of the figure\n",
    "top    =  1    # the top of the subplots of the figure\n",
    "wspace =  1.0     # the amount of width reserved for blank space between subplots\n",
    "hspace =  0.5    # the amount of height reserved for white space between subplots\n",
    "\n",
    "# This function actually adjusts the sub plots using the above paramters\n",
    "plt.subplots_adjust(left=left, bottom=bottom, right=right, top=top, wspace=wspace, hspace=hspace)\n",
    "\n",
    "# The amount of space above titles\n",
    "y_title_margin = 1.1\n",
    "\n",
    "plt.suptitle(\"Variables Categoricas\", y = 1.09, fontsize=28)\n",
    "\n",
    "###[0][:]\n",
    "\n",
    "ax[0][0].set_title(\"Medio\",y = y_title_margin)\n",
    "ax[0][1].set_title(\"Tipo de Medio\",y = y_title_margin)\n",
    "# ax[0][2].set_title(\"Starndardized (StardardScaler)\", y = y_title_margin)\n",
    "\n",
    "sb.countplot(y='Medio', data=cot_all, color=\"c\", order=cot_all['Medio'].value_counts().index,ax=ax[0][0]);\n",
    "sb.countplot(y='Tipo de Medio', data=cot_all, color=\"c\", order=cot_all['Tipo de Medio'].value_counts().index,ax=ax[0][1]);\n",
    "\n",
    "# Set all labels on the row axis of subplots for bathroom data to \"bathrooms\"\n",
    "[ax[0][i].set_xlabel(\"total\") for i in range(0, 2)]\n",
    "\n",
    "###[1][:]\n",
    "\n",
    "ax[1][0].set_title(\"Sexo\", y = y_title_margin)\n",
    "ax[1][1].set_title(\"Top 10 Region\", y = y_title_margin)\n",
    "\n",
    "sb.countplot(y='Sexo', data=cot_all, color=\"c\", order=cot_all['Sexo'].value_counts().index[:10],ax=ax[1][0]);\n",
    "sb.countplot(y='Region', data=cot_all, color=\"c\", order=cot_all['Region'].value_counts().index[:10],ax=ax[1][1]);\n",
    "# Set all labels on the row axis of subplots for square_feet data to \"square_feet\"\n",
    "\n",
    "[ax[1][i].set_xlabel(\"total\") for i in range(0, 2)]\n",
    "\n",
    "###[2][:]\n",
    "ax[2][0].set_title(\"Top 10 Provincia\",y = y_title_margin)\n",
    "ax[2][1].set_title(\"Top 10 Comuna\",y = y_title_margin)\n",
    "\n",
    "sb.countplot(y='Provincia', data=cot_all, color=\"c\", order=cot_all['Provincia'].value_counts().index[:10],ax=ax[2][0]);\n",
    "sb.countplot(y='Comuna', data=cot_all, color=\"c\", order=cot_all['Comuna'].value_counts().index[:10],ax=ax[2][1]);\n",
    "\n",
    "# Set all labels on the row axis of subplots for square_feet data to \"square_feet\"\n",
    "[ax[2][i].set_xlabel(\"total\") for i in range(0, 2)]\n",
    "\n",
    "###[2][:]\n",
    "ax[3][0].set_title(\"Remoto\",y = y_title_margin)\n",
    "ax[3][1].set_title(\"Presencial\",y = y_title_margin)\n",
    "\n",
    "sb.countplot(y='Remoto', data=cot_all, color=\"c\", order=cot_all['Remoto'].value_counts().index[:10],ax=ax[3][0]);\n",
    "sb.countplot(y='Presencial', data=cot_all, color=\"c\", order=cot_all['Presencial'].value_counts().index[:10],ax=ax[3][1]);\n",
    "\n",
    "# Set all labels on the row axis of subplots for square_feet data to \"square_feet\"\n",
    "[ax[3][i].set_xlabel(\"total\") for i in range(0, 2)]"
   ]
  },
  {
   "cell_type": "code",
   "execution_count": 29,
   "metadata": {},
   "outputs": [
    {
     "name": "stdout",
     "output_type": "stream",
     "text": [
      "Filas:  16238\n",
      "Columnas:  31\n",
      "Primer Registro:  2013-08-19 16:58:26\n",
      "Ultimo Registro:  2018-04-27 12:13:48\n",
      "Ruts Unicos:  5905\n"
     ]
    }
   ],
   "source": [
    "#rows\n",
    "df = cot_all\n",
    "print(\"Filas: \",df.shape[0])\n",
    "print(\"Columnas: \",df.shape[1])\n",
    "print(\"Primer Registro: \",(pd.to_datetime(df['Fecha Cotizacion'].tolist()).min()))\n",
    "print(\"Ultimo Registro: \",pd.to_datetime(df['Fecha Cotizacion'].tolist()).max())\n",
    "print(\"Ruts Unicos: \",len(df['RUT'].unique()))"
   ]
  },
  {
   "cell_type": "markdown",
   "metadata": {},
   "source": [
    "# Explore Data: Cotizacion"
   ]
  },
  {
   "cell_type": "code",
   "execution_count": 30,
   "metadata": {},
   "outputs": [
    {
     "name": "stdout",
     "output_type": "stream",
     "text": [
      "Cot rut promedio:  2.7498729889923794\n",
      "Cot rut desviacion:  2.69495797931767\n",
      "Cot por rut maximo:  45\n"
     ]
    }
   ],
   "source": [
    "print(\"Cot rut promedio: \",get_col_group_description(df,'RUT')['mean'])\n",
    "print(\"Cot rut desviacion: \",get_col_group_description(df,'RUT')['std'])\n",
    "print(\"Cot por rut maximo: \",get_col_group_description(df,'RUT')['max'])\n"
   ]
  },
  {
   "cell_type": "markdown",
   "metadata": {},
   "source": [
    "# Describe Data Combined Files: Negociacion"
   ]
  },
  {
   "cell_type": "code",
   "execution_count": 31,
   "metadata": {},
   "outputs": [],
   "source": [
    "neg_all = pd.concat(neg)\n",
    "neg_all.to_excel(data_directory +'negocios_all.xlsx')\n",
    "neg_all_resume = pd.DataFrame()"
   ]
  },
  {
   "cell_type": "code",
   "execution_count": 32,
   "metadata": {},
   "outputs": [
    {
     "name": "stdout",
     "output_type": "stream",
     "text": [
      "<class 'pandas.core.frame.DataFrame'>\n",
      "Int64Index: 2287 entries, 0 to 195\n",
      "Data columns (total 38 columns):\n",
      "ID                               2287 non-null int64\n",
      "Fecha Cotizacion                 2287 non-null object\n",
      "ID Cotizacion                    2287 non-null int64\n",
      "Medio                            2287 non-null object\n",
      "Tipo de Medio                    2287 non-null object\n",
      "Proyecto                         2287 non-null object\n",
      "Etapa                            2287 non-null object\n",
      "Productos                        2263 non-null object\n",
      "Jefe Comercial                   2287 non-null object\n",
      "Ejecutivo Comercial              2287 non-null object\n",
      "Total Productos                  2287 non-null float64\n",
      "Descuentos                       2286 non-null float64\n",
      "Valor Final Venta                2286 non-null float64\n",
      "Estado                           2287 non-null object\n",
      "Estado Comercial                 2287 non-null object\n",
      "Fecha Promesa                    547 non-null datetime64[ns]\n",
      "Fecha Escritura                  286 non-null object\n",
      "Fecha Desistimiento              264 non-null object\n",
      "Fecha Resciliacion               94 non-null datetime64[ns]\n",
      "Motivo Desis/Resc                33 non-null object\n",
      "Description Desis/Resc           33 non-null object\n",
      "Resciliacion por Modificacion    80 non-null object\n",
      "RUT                              2287 non-null object\n",
      "Nombre                           2287 non-null object\n",
      "Apellido 1                       2271 non-null object\n",
      "Apellido 2                       2271 non-null object\n",
      "Nombre Completo                  2287 non-null object\n",
      "Telefono                         364 non-null object\n",
      "Celular                          2284 non-null object\n",
      "Direccion                        1662 non-null object\n",
      "Region                           2287 non-null object\n",
      "Provincia                        2287 non-null object\n",
      "Comuna                           2287 non-null object\n",
      "Correo Electronico               2287 non-null object\n",
      "Sexo                             2202 non-null object\n",
      "Estado Civil                     2210 non-null object\n",
      "Rango Edad                       2195 non-null object\n",
      "Fecha Nacimiento                 1280 non-null datetime64[ns]\n",
      "dtypes: datetime64[ns](3), float64(3), int64(2), object(30)\n",
      "memory usage: 696.8+ KB\n"
     ]
    }
   ],
   "source": [
    "neg_all.info()"
   ]
  },
  {
   "cell_type": "code",
   "execution_count": 33,
   "metadata": {},
   "outputs": [
    {
     "data": {
      "text/plain": [
       "[Text(0,0.5,'Atributos'), Text(0.5,0,'Valores Nulo vs Total Filas')]"
      ]
     },
     "execution_count": 33,
     "metadata": {},
     "output_type": "execute_result"
    },
    {
     "data": {
      "image/png": "[encoded data removed]",
      "text/plain": [
       "<matplotlib.figure.Figure at 0x26bc6348940>"
      ]
     },
     "metadata": {},
     "output_type": "display_data"
    }
   ],
   "source": [
    "df = neg_all\n",
    "#view columns with null only\n",
    "# null_columns = df.columns[df.isnull().any()]\n",
    "# null_df = df[null_columns].isnull().sum()\n",
    "\n",
    "#view all columns with its null count\n",
    "null_columns = df.columns\n",
    "null_df =  df.shape[0] - df.count()\n",
    "\n",
    "nulos = pd.DataFrame({'Total':null_df,'Etiquetas':null_columns})\n",
    "\n",
    "columnas = null_columns.copy()\n",
    "filas = [df.shape[0]] * len(null_columns)\n",
    "\n",
    "totales = pd.DataFrame({'Total':filas,'Etiquetas':columnas})\n",
    "\n",
    "f, ax = plt.subplots(figsize=(12, 8))\n",
    "\n",
    "sb.set_color_codes(\"pastel\")\n",
    "sb.barplot(data=totales.sort_values(by='Total',ascending=False), x='Total', y='Etiquetas',color=\"b\",label=\"Total Filas\")\n",
    "\n",
    "sb.set_color_codes(\"muted\")\n",
    "sb.barplot(data=nulos.sort_values(by='Total',ascending=False), x='Total', y='Etiquetas',color=\"b\",label=\"Total Nulos\")\n",
    "\n",
    "ax.legend(ncol=2, loc=\"lower right\", frameon=True)\n",
    "ax.set( ylabel=\"Atributos\", xlabel=\"Valores Nulo vs Total Filas\")"
   ]
  },
  {
   "cell_type": "code",
   "execution_count": 34,
   "metadata": {},
   "outputs": [
    {
     "data": {
      "text/plain": [
       "<matplotlib.axes._subplots.AxesSubplot at 0x26bc636c588>"
      ]
     },
     "execution_count": 34,
     "metadata": {},
     "output_type": "execute_result"
    },
    {
     "data": {
      "image/png": "[encoded data removed]",
      "text/plain": [
       "<matplotlib.figure.Figure at 0x26bc6336e48>"
      ]
     },
     "metadata": {},
     "output_type": "display_data"
    }
   ],
   "source": [
    "ver_atributo_categorico(neg_all,'Estado Civil')"
   ]
  },
  {
   "cell_type": "code",
   "execution_count": 35,
   "metadata": {},
   "outputs": [
    {
     "data": {
      "text/plain": [
       "<matplotlib.axes._subplots.AxesSubplot at 0x26bc65fb9e8>"
      ]
     },
     "execution_count": 35,
     "metadata": {},
     "output_type": "execute_result"
    },
    {
     "data": {
      "image/png": "[encoded data removed]",
      "text/plain": [
       "<matplotlib.figure.Figure at 0x26bc67e64e0>"
      ]
     },
     "metadata": {},
     "output_type": "display_data"
    }
   ],
   "source": [
    "ver_atributo_categorico(neg_all,'Etapa')"
   ]
  },
  {
   "cell_type": "code",
   "execution_count": 36,
   "metadata": {},
   "outputs": [
    {
     "data": {
      "text/plain": [
       "<matplotlib.axes._subplots.AxesSubplot at 0x26bca661b70>"
      ]
     },
     "execution_count": 36,
     "metadata": {},
     "output_type": "execute_result"
    },
    {
     "data": {
      "image/png": "[encoded data removed]",
      "text/plain": [
       "<matplotlib.figure.Figure at 0x26bc65fb0f0>"
      ]
     },
     "metadata": {},
     "output_type": "display_data"
    }
   ],
   "source": [
    "ver_atributo_categorico(neg_all,'Proyecto')"
   ]
  },
  {
   "cell_type": "code",
   "execution_count": 37,
   "metadata": {},
   "outputs": [
    {
     "data": {
      "text/plain": [
       "<matplotlib.axes._subplots.AxesSubplot at 0x26bc6523978>"
      ]
     },
     "execution_count": 37,
     "metadata": {},
     "output_type": "execute_result"
    },
    {
     "data": {
      "image/png": "[encoded data removed]",
      "text/plain": [
       "<matplotlib.figure.Figure at 0x26bc62809b0>"
      ]
     },
     "metadata": {},
     "output_type": "display_data"
    }
   ],
   "source": [
    "ver_atributo_categorico(neg_all,'Estado Comercial')"
   ]
  },
  {
   "cell_type": "code",
   "execution_count": 38,
   "metadata": {},
   "outputs": [
    {
     "data": {
      "text/plain": [
       "<matplotlib.axes._subplots.AxesSubplot at 0x26bc65a0b00>"
      ]
     },
     "execution_count": 38,
     "metadata": {},
     "output_type": "execute_result"
    },
    {
     "data": {
      "image/png": "[encoded data removed]",
      "text/plain": [
       "<matplotlib.figure.Figure at 0x26bc65b2048>"
      ]
     },
     "metadata": {},
     "output_type": "display_data"
    }
   ],
   "source": [
    "ver_atributo_categorico(neg_all,'Estado')"
   ]
  },
  {
   "cell_type": "code",
   "execution_count": 39,
   "metadata": {},
   "outputs": [
    {
     "data": {
      "text/plain": [
       "<matplotlib.axes._subplots.AxesSubplot at 0x26bc65c9d30>"
      ]
     },
     "execution_count": 39,
     "metadata": {},
     "output_type": "execute_result"
    },
    {
     "data": {
      "image/png": "[encoded data removed]",
      "text/plain": [
       "<matplotlib.figure.Figure at 0x26bc65779e8>"
      ]
     },
     "metadata": {},
     "output_type": "display_data"
    }
   ],
   "source": [
    "ver_atributo_categorico(neg_all,'Medio')"
   ]
  },
  {
   "cell_type": "code",
   "execution_count": 40,
   "metadata": {},
   "outputs": [
    {
     "data": {
      "text/plain": [
       "<matplotlib.axes._subplots.AxesSubplot at 0x26bc676f128>"
      ]
     },
     "execution_count": 40,
     "metadata": {},
     "output_type": "execute_result"
    },
    {
     "data": {
      "image/png": "[encoded data removed]",
      "text/plain": [
       "<matplotlib.figure.Figure at 0x26bc65d2f98>"
      ]
     },
     "metadata": {},
     "output_type": "display_data"
    }
   ],
   "source": [
    "ver_atributo_categorico(neg_all,'Tipo de Medio',limit=True,lim=10)"
   ]
  },
  {
   "cell_type": "code",
   "execution_count": 41,
   "metadata": {},
   "outputs": [
    {
     "name": "stdout",
     "output_type": "stream",
     "text": [
      "Filas:  2287\n",
      "Columnas:  38\n",
      "Primer Registro:  2013-08-19 18:35:56.620000\n",
      "Ultimo Registro:  2018-04-26 16:50:07.440000\n",
      "Ruts Unicos:  1068\n"
     ]
    }
   ],
   "source": [
    "#rows\n",
    "df = neg_all\n",
    "print(\"Filas: \",df.shape[0])\n",
    "print(\"Columnas: \",df.shape[1])\n",
    "print(\"Primer Registro: \",(pd.to_datetime(df['Fecha Cotizacion'].tolist()).min()))\n",
    "print(\"Ultimo Registro: \",pd.to_datetime(df['Fecha Cotizacion'].tolist()).max())\n",
    "print(\"Ruts Unicos: \",len(df['RUT'].unique()))"
   ]
  },
  {
   "cell_type": "markdown",
   "metadata": {},
   "source": [
    "# Data Exploration: Negocios"
   ]
  },
  {
   "cell_type": "code",
   "execution_count": 42,
   "metadata": {},
   "outputs": [
    {
     "name": "stdout",
     "output_type": "stream",
     "text": [
      "Neg rut promedio:  2.141385767790262\n",
      "Neg rut desviacion:  1.7300613369691278\n",
      "Neg por rut maximo:  17\n",
      "Neg estado anulados:  0.6357673808482729\n",
      "Neg estado promesa:  0.11193703541757762\n",
      "Neg estado reservado:  0.12724092697857456\n",
      "Neg estado comercial desistimiento:  0.12374289462177525\n",
      "Neg estado comercial normal:  0.8364669873196328\n"
     ]
    }
   ],
   "source": [
    "print(\"Neg rut promedio: \",get_col_group_description(df,'RUT')['mean'])\n",
    "print(\"Neg rut desviacion: \",get_col_group_description(df,'RUT')['std'])\n",
    "print(\"Neg por rut maximo: \",get_col_group_description(df,'RUT')['max'])\n",
    "print(\"Neg estado anulados: \",len(df[df['Estado'] == 'Anulada'])/neg_all.shape[0])\n",
    "print(\"Neg estado promesa: \",len(df[df['Estado'] == 'Promesado'])/neg_all.shape[0])\n",
    "print(\"Neg estado reservado: \",len(df[df['Estado'] == 'Reservado'])/neg_all.shape[0])\n",
    "print(\"Neg estado comercial desistimiento: \",len(df[df['Estado Comercial'] == 'Desistimiento'])/neg_all.shape[0])\n",
    "print(\"Neg estado comercial normal: \",len(df[df['Estado Comercial'] == 'Normal'])/neg_all.shape[0])"
   ]
  },
  {
   "cell_type": "code",
   "execution_count": 43,
   "metadata": {},
   "outputs": [
    {
     "data": {
      "text/plain": [
       "['Fecha Nacimiento',\n",
       " 'Direccion',\n",
       " 'Rango Edad',\n",
       " 'Sexo',\n",
       " 'Estado Civil',\n",
       " 'Productos',\n",
       " 'Descuentos',\n",
       " 'Valor Final Venta',\n",
       " 'Nombre Completo',\n",
       " 'Fecha Cotizacion',\n",
       " 'Comuna',\n",
       " 'Correo Electronico',\n",
       " 'Nombre',\n",
       " 'RUT',\n",
       " 'ID Cotizacion',\n",
       " 'Medio',\n",
       " 'Tipo de Medio',\n",
       " 'Proyecto',\n",
       " 'Etapa',\n",
       " 'Estado Comercial',\n",
       " 'Estado',\n",
       " 'Total Productos']"
      ]
     },
     "execution_count": 43,
     "metadata": {},
     "output_type": "execute_result"
    }
   ],
   "source": [
    "#columns droped 'Fecha Promesa', 'Telefono', 'Fecha Escritura', 'Fecha Desistimiento', 'Fecha Resciliacion', \n",
    "# 'Resciliacion por Modificacion', 'Motivo Desis/Resc', 'Description Desis/Resc'\n",
    "\n",
    "#columnas no importantes para el sgte paso\n",
    "unimportant_columns = ['Apellido 1','Apellido 2','Celular','Ejecutivo Comercial','Region','Provincia','Jefe Comercial','ID']\n",
    "to_select_cols = df.count().sort_values(ascending=True).index.tolist()\n",
    "to_select_cols = to_select_cols[8:]\n",
    "to_select_cols = [item for item in to_select_cols if item not in unimportant_columns]\n",
    "to_select_cols"
   ]
  },
  {
   "cell_type": "markdown",
   "metadata": {},
   "source": [
    "## Exploracion de los ruts "
   ]
  },
  {
   "cell_type": "code",
   "execution_count": 50,
   "metadata": {},
   "outputs": [],
   "source": [
    "## Clientes en Negocios que no estan en Cotizaciones\n",
    "\n",
    "cot_rut = cot_all['RUT'].unique().tolist()\n",
    "neg_rut = neg_all['RUT'].unique().tolist()\n",
    "\n",
    "not_in = [item for item in neg_rut if item not in cot_rut]\n",
    "not_in\n",
    "\n",
    "## Clientes en Cotizaciones que no estan en Negocios\n",
    "\n",
    "not_in = [item for item in cot_rut if item not in neg_rut]\n",
    "len(not_in)\n",
    "\n",
    "print(len(cot_rut))\n",
    "\n",
    "print(len(neg_rut))\n",
    "\n",
    "print(len(not_in) +len(neg_rut))"
   ]
  },
  {
   "cell_type": "markdown",
   "metadata": {},
   "source": [
    "## Exploracion de ID y ID COTIZACION "
   ]
  },
  {
   "cell_type": "code",
   "execution_count": 72,
   "metadata": {},
   "outputs": [
    {
     "name": "stdout",
     "output_type": "stream",
     "text": [
      "Filas : 2287\n",
      "ID Cot unicos  2280\n"
     ]
    }
   ],
   "source": [
    "# hay 7 id_negocio que tienen mas de un id_cotizacion\n",
    "print(\"Filas :\",neg_all['ID Cotizacion'].shape[0])\n",
    "print(\"ID Cot unicos \",len(neg_all['ID Cotizacion'].unique()))"
   ]
  },
  {
   "cell_type": "code",
   "execution_count": 71,
   "metadata": {},
   "outputs": [
    {
     "data": {
      "text/html": [
       "<div>\n",
       "<style scoped>\n",
       "    .dataframe tbody tr th:only-of-type {\n",
       "        vertical-align: middle;\n",
       "    }\n",
       "\n",
       "    .dataframe tbody tr th {\n",
       "        vertical-align: top;\n",
       "    }\n",
       "\n",
       "    .dataframe thead th {\n",
       "        text-align: right;\n",
       "    }\n",
       "</style>\n",
       "<table border=\"1\" class=\"dataframe\">\n",
       "  <thead>\n",
       "    <tr style=\"text-align: right;\">\n",
       "      <th></th>\n",
       "      <th>Fecha Nacimiento</th>\n",
       "      <th>Direccion</th>\n",
       "      <th>Rango Edad</th>\n",
       "      <th>Sexo</th>\n",
       "      <th>Estado Civil</th>\n",
       "      <th>Productos</th>\n",
       "      <th>Descuentos</th>\n",
       "      <th>Valor Final Venta</th>\n",
       "      <th>Nombre Completo</th>\n",
       "      <th>Fecha Cotizacion</th>\n",
       "      <th>...</th>\n",
       "      <th>Nombre</th>\n",
       "      <th>RUT</th>\n",
       "      <th>ID Cotizacion</th>\n",
       "      <th>Medio</th>\n",
       "      <th>Tipo de Medio</th>\n",
       "      <th>Proyecto</th>\n",
       "      <th>Etapa</th>\n",
       "      <th>Estado Comercial</th>\n",
       "      <th>Estado</th>\n",
       "      <th>Total Productos</th>\n",
       "    </tr>\n",
       "  </thead>\n",
       "  <tbody>\n",
       "    <tr>\n",
       "      <th>85</th>\n",
       "      <td>1967-01-20</td>\n",
       "      <td>Camino Al Venado 585</td>\n",
       "      <td>41-50</td>\n",
       "      <td>Femenino</td>\n",
       "      <td>Casado(a)</td>\n",
       "      <td>Est-56,TB-203,TB-204,Est-55</td>\n",
       "      <td>268.0</td>\n",
       "      <td>5772.0</td>\n",
       "      <td>Maria de la Luz Polidori Erle</td>\n",
       "      <td>2018-03-13 17:06:17.773</td>\n",
       "      <td>...</td>\n",
       "      <td>Maria de la Luz</td>\n",
       "      <td>9879501-4</td>\n",
       "      <td>129130</td>\n",
       "      <td>RECONTACTO</td>\n",
       "      <td>Recontacto</td>\n",
       "      <td>Altos del Valle</td>\n",
       "      <td>ADV - Etapa 1</td>\n",
       "      <td>Normal</td>\n",
       "      <td>Anulada</td>\n",
       "      <td>6040.0</td>\n",
       "    </tr>\n",
       "    <tr>\n",
       "      <th>88</th>\n",
       "      <td>1967-01-20</td>\n",
       "      <td>Camino Al Venado 585</td>\n",
       "      <td>41-50</td>\n",
       "      <td>Femenino</td>\n",
       "      <td>Casado(a)</td>\n",
       "      <td>TB-204,TB-203,Est-55,Est-56</td>\n",
       "      <td>268.0</td>\n",
       "      <td>5772.0</td>\n",
       "      <td>Maria de la Luz Polidori Erle</td>\n",
       "      <td>2018-03-21 12:57:33.463</td>\n",
       "      <td>...</td>\n",
       "      <td>Maria de la Luz</td>\n",
       "      <td>9879501-4</td>\n",
       "      <td>129130</td>\n",
       "      <td>RECONTACTO</td>\n",
       "      <td>Recontacto</td>\n",
       "      <td>Altos del Valle</td>\n",
       "      <td>ADV - Etapa 1</td>\n",
       "      <td>Normal</td>\n",
       "      <td>Reservado</td>\n",
       "      <td>6040.0</td>\n",
       "    </tr>\n",
       "    <tr>\n",
       "      <th>4</th>\n",
       "      <td>NaT</td>\n",
       "      <td>Avenida inglesa 220 9F Pedro de Valdivia</td>\n",
       "      <td>61+</td>\n",
       "      <td>Masculino</td>\n",
       "      <td>Casado(a)</td>\n",
       "      <td>NaN</td>\n",
       "      <td>0.0</td>\n",
       "      <td>8934.0</td>\n",
       "      <td>Gustavo Arturo Spoerer O´Reilly</td>\n",
       "      <td>2016-02-12 10:17:56.403</td>\n",
       "      <td>...</td>\n",
       "      <td>Gustavo Arturo</td>\n",
       "      <td>4028907-0</td>\n",
       "      <td>80512</td>\n",
       "      <td>REFERIDOS</td>\n",
       "      <td>Tercero</td>\n",
       "      <td>Edificio Junge</td>\n",
       "      <td>Quinta Junge - Torre B</td>\n",
       "      <td>Normal</td>\n",
       "      <td>Anulada</td>\n",
       "      <td>8934.0</td>\n",
       "    </tr>\n",
       "    <tr>\n",
       "      <th>5</th>\n",
       "      <td>NaT</td>\n",
       "      <td>Avenida inglesa 220 9F Pedro de Valdivia</td>\n",
       "      <td>61+</td>\n",
       "      <td>Masculino</td>\n",
       "      <td>Casado(a)</td>\n",
       "      <td>NaN</td>\n",
       "      <td>0.0</td>\n",
       "      <td>8934.0</td>\n",
       "      <td>Gustavo Arturo Spoerer O´Reilly</td>\n",
       "      <td>2016-02-12 10:25:47.217</td>\n",
       "      <td>...</td>\n",
       "      <td>Gustavo Arturo</td>\n",
       "      <td>4028907-0</td>\n",
       "      <td>80512</td>\n",
       "      <td>REFERIDOS</td>\n",
       "      <td>Tercero</td>\n",
       "      <td>Edificio Junge</td>\n",
       "      <td>Quinta Junge - Torre B</td>\n",
       "      <td>Normal</td>\n",
       "      <td>Anulada</td>\n",
       "      <td>8934.0</td>\n",
       "    </tr>\n",
       "    <tr>\n",
       "      <th>6</th>\n",
       "      <td>NaT</td>\n",
       "      <td>Avenida inglesa 220 9F Pedro de Valdivia</td>\n",
       "      <td>61+</td>\n",
       "      <td>Masculino</td>\n",
       "      <td>Casado(a)</td>\n",
       "      <td>25,Est-018,Bod-40,Est-126</td>\n",
       "      <td>0.0</td>\n",
       "      <td>8934.0</td>\n",
       "      <td>Gustavo Arturo Spoerer O´Reilly</td>\n",
       "      <td>2016-02-12 11:24:21.993</td>\n",
       "      <td>...</td>\n",
       "      <td>Gustavo Arturo</td>\n",
       "      <td>4028907-0</td>\n",
       "      <td>80512</td>\n",
       "      <td>REFERIDOS</td>\n",
       "      <td>Tercero</td>\n",
       "      <td>Edificio Junge</td>\n",
       "      <td>Quinta Junge - Torre B</td>\n",
       "      <td>Normal</td>\n",
       "      <td>Escriturado</td>\n",
       "      <td>8934.0</td>\n",
       "    </tr>\n",
       "    <tr>\n",
       "      <th>13</th>\n",
       "      <td>NaT</td>\n",
       "      <td>Vilumanque</td>\n",
       "      <td>20-30</td>\n",
       "      <td>Masculino</td>\n",
       "      <td>Soltero(a)</td>\n",
       "      <td>24,Bod-22,Est-005</td>\n",
       "      <td>0.0</td>\n",
       "      <td>5447.0</td>\n",
       "      <td>Cristian Jesus Marcos Garcia</td>\n",
       "      <td>2016-08-25 11:52:14.453</td>\n",
       "      <td>...</td>\n",
       "      <td>Cristian Jesus</td>\n",
       "      <td>16766381-8</td>\n",
       "      <td>92052</td>\n",
       "      <td>REFERIDOS</td>\n",
       "      <td>Cliente Aitue de otro proyecto</td>\n",
       "      <td>Edificio Junge</td>\n",
       "      <td>Quinta Junge - Torre B</td>\n",
       "      <td>Normal</td>\n",
       "      <td>Anulada</td>\n",
       "      <td>5447.0</td>\n",
       "    </tr>\n",
       "    <tr>\n",
       "      <th>14</th>\n",
       "      <td>NaT</td>\n",
       "      <td>Vilumanque</td>\n",
       "      <td>20-30</td>\n",
       "      <td>Masculino</td>\n",
       "      <td>Soltero(a)</td>\n",
       "      <td>24,Bod-22,Est-005,Lan-24</td>\n",
       "      <td>0.0</td>\n",
       "      <td>5447.0</td>\n",
       "      <td>Cristian Jesus Marcos Garcia</td>\n",
       "      <td>2016-09-01 14:22:44.230</td>\n",
       "      <td>...</td>\n",
       "      <td>Cristian Jesus</td>\n",
       "      <td>16766381-8</td>\n",
       "      <td>92052</td>\n",
       "      <td>REFERIDOS</td>\n",
       "      <td>Cliente Aitue de otro proyecto</td>\n",
       "      <td>Edificio Junge</td>\n",
       "      <td>Quinta Junge - Torre B</td>\n",
       "      <td>Resciliacion</td>\n",
       "      <td>Promesado</td>\n",
       "      <td>5447.0</td>\n",
       "    </tr>\n",
       "    <tr>\n",
       "      <th>125</th>\n",
       "      <td>1985-10-04</td>\n",
       "      <td>av. Los Presidentes 1533 Depto casa 5</td>\n",
       "      <td>31-40</td>\n",
       "      <td>Masculino</td>\n",
       "      <td>Casado(a)</td>\n",
       "      <td>3</td>\n",
       "      <td>0.0</td>\n",
       "      <td>3835.0</td>\n",
       "      <td>Claudio Alberto Gajardo  Salazar</td>\n",
       "      <td>2014-04-19 13:34:19.360</td>\n",
       "      <td>...</td>\n",
       "      <td>Claudio Alberto</td>\n",
       "      <td>16138640-5</td>\n",
       "      <td>35119</td>\n",
       "      <td>RECORRIDO POR EL SECTOR</td>\n",
       "      <td>Paseo</td>\n",
       "      <td>San Andres Del Valle</td>\n",
       "      <td>SADV - ET02 Condominio Choapa</td>\n",
       "      <td>Normal</td>\n",
       "      <td>Anulada</td>\n",
       "      <td>3835.0</td>\n",
       "    </tr>\n",
       "    <tr>\n",
       "      <th>135</th>\n",
       "      <td>1979-08-19</td>\n",
       "      <td>Ramón Carrasco 239 Depto 264</td>\n",
       "      <td>41-50</td>\n",
       "      <td>Masculino</td>\n",
       "      <td>Divorciado(a)</td>\n",
       "      <td>8</td>\n",
       "      <td>0.0</td>\n",
       "      <td>3532.0</td>\n",
       "      <td>Mario Marcel Barra De la Parra</td>\n",
       "      <td>2014-04-22 18:50:56.453</td>\n",
       "      <td>...</td>\n",
       "      <td>Mario Marcel</td>\n",
       "      <td>13628528-9</td>\n",
       "      <td>35327</td>\n",
       "      <td>RECONTACTO</td>\n",
       "      <td>Recontacto</td>\n",
       "      <td>San Andres Del Valle</td>\n",
       "      <td>SADV - ET01 Condominio Azapa</td>\n",
       "      <td>Normal</td>\n",
       "      <td>Anulada</td>\n",
       "      <td>3532.0</td>\n",
       "    </tr>\n",
       "    <tr>\n",
       "      <th>142</th>\n",
       "      <td>1979-08-19</td>\n",
       "      <td>Ramón Carrasco 239 Depto 264</td>\n",
       "      <td>41-50</td>\n",
       "      <td>Masculino</td>\n",
       "      <td>Divorciado(a)</td>\n",
       "      <td>8</td>\n",
       "      <td>0.0</td>\n",
       "      <td>3532.0</td>\n",
       "      <td>Mario Marcel Barra De la Parra</td>\n",
       "      <td>2014-04-28 12:04:47.370</td>\n",
       "      <td>...</td>\n",
       "      <td>Mario Marcel</td>\n",
       "      <td>13628528-9</td>\n",
       "      <td>35327</td>\n",
       "      <td>RECONTACTO</td>\n",
       "      <td>Recontacto</td>\n",
       "      <td>San Andres Del Valle</td>\n",
       "      <td>SADV - ET01 Condominio Azapa</td>\n",
       "      <td>Resciliacion</td>\n",
       "      <td>Promesado</td>\n",
       "      <td>3532.0</td>\n",
       "    </tr>\n",
       "    <tr>\n",
       "      <th>143</th>\n",
       "      <td>1985-10-04</td>\n",
       "      <td>av. Los Presidentes 1533 Depto casa 5</td>\n",
       "      <td>31-40</td>\n",
       "      <td>Masculino</td>\n",
       "      <td>Casado(a)</td>\n",
       "      <td>3,Lan-03</td>\n",
       "      <td>0.0</td>\n",
       "      <td>4261.0</td>\n",
       "      <td>Claudio Alberto Gajardo  Salazar</td>\n",
       "      <td>2014-04-28 12:42:49.900</td>\n",
       "      <td>...</td>\n",
       "      <td>Claudio Alberto</td>\n",
       "      <td>16138640-5</td>\n",
       "      <td>35119</td>\n",
       "      <td>RECORRIDO POR EL SECTOR</td>\n",
       "      <td>Paseo</td>\n",
       "      <td>San Andres Del Valle</td>\n",
       "      <td>SADV - ET02 Condominio Choapa</td>\n",
       "      <td>Resciliacion</td>\n",
       "      <td>Promesado</td>\n",
       "      <td>4261.0</td>\n",
       "    </tr>\n",
       "    <tr>\n",
       "      <th>325</th>\n",
       "      <td>NaT</td>\n",
       "      <td>NaN</td>\n",
       "      <td>31-40</td>\n",
       "      <td>Masculino</td>\n",
       "      <td>Casado(a)</td>\n",
       "      <td>3</td>\n",
       "      <td>0.0</td>\n",
       "      <td>3585.0</td>\n",
       "      <td>Felipe Jara Concha</td>\n",
       "      <td>2014-12-14 20:15:36.873</td>\n",
       "      <td>...</td>\n",
       "      <td>Felipe</td>\n",
       "      <td>13308886-5</td>\n",
       "      <td>50794</td>\n",
       "      <td>INTERNET</td>\n",
       "      <td>Web Aitue</td>\n",
       "      <td>San Andres Del Valle</td>\n",
       "      <td>SADV - ET01 Condominio Azapa</td>\n",
       "      <td>Desistimiento</td>\n",
       "      <td>Reservado</td>\n",
       "      <td>3585.0</td>\n",
       "    </tr>\n",
       "    <tr>\n",
       "      <th>326</th>\n",
       "      <td>NaT</td>\n",
       "      <td>NaN</td>\n",
       "      <td>31-40</td>\n",
       "      <td>Masculino</td>\n",
       "      <td>Casado(a)</td>\n",
       "      <td>16</td>\n",
       "      <td>0.0</td>\n",
       "      <td>4590.0</td>\n",
       "      <td>Felipe Jara Concha</td>\n",
       "      <td>2014-12-14 20:16:01.547</td>\n",
       "      <td>...</td>\n",
       "      <td>Felipe</td>\n",
       "      <td>13308886-5</td>\n",
       "      <td>50794</td>\n",
       "      <td>INTERNET</td>\n",
       "      <td>Web Aitue</td>\n",
       "      <td>San Andres Del Valle</td>\n",
       "      <td>SADV - ET01 Condominio Azapa</td>\n",
       "      <td>Normal</td>\n",
       "      <td>Anulada</td>\n",
       "      <td>4590.0</td>\n",
       "    </tr>\n",
       "  </tbody>\n",
       "</table>\n",
       "<p>13 rows × 22 columns</p>\n",
       "</div>"
      ],
      "text/plain": [
       "    Fecha Nacimiento                                  Direccion Rango Edad  \\\n",
       "85        1967-01-20                       Camino Al Venado 585      41-50   \n",
       "88        1967-01-20                       Camino Al Venado 585      41-50   \n",
       "4                NaT  Avenida inglesa 220 9F Pedro de Valdivia         61+   \n",
       "5                NaT  Avenida inglesa 220 9F Pedro de Valdivia         61+   \n",
       "6                NaT  Avenida inglesa 220 9F Pedro de Valdivia         61+   \n",
       "13               NaT                                Vilumanque       20-30   \n",
       "14               NaT                                Vilumanque       20-30   \n",
       "125       1985-10-04     av. Los Presidentes 1533 Depto casa 5       31-40   \n",
       "135       1979-08-19               Ramón Carrasco 239 Depto 264      41-50   \n",
       "142       1979-08-19               Ramón Carrasco 239 Depto 264      41-50   \n",
       "143       1985-10-04     av. Los Presidentes 1533 Depto casa 5       31-40   \n",
       "325              NaT                                        NaN      31-40   \n",
       "326              NaT                                        NaN      31-40   \n",
       "\n",
       "          Sexo   Estado Civil                    Productos  Descuentos  \\\n",
       "85    Femenino      Casado(a)  Est-56,TB-203,TB-204,Est-55       268.0   \n",
       "88    Femenino      Casado(a)  TB-204,TB-203,Est-55,Est-56       268.0   \n",
       "4    Masculino      Casado(a)                          NaN         0.0   \n",
       "5    Masculino      Casado(a)                          NaN         0.0   \n",
       "6    Masculino      Casado(a)    25,Est-018,Bod-40,Est-126         0.0   \n",
       "13   Masculino     Soltero(a)            24,Bod-22,Est-005         0.0   \n",
       "14   Masculino     Soltero(a)     24,Bod-22,Est-005,Lan-24         0.0   \n",
       "125  Masculino      Casado(a)                            3         0.0   \n",
       "135  Masculino  Divorciado(a)                            8         0.0   \n",
       "142  Masculino  Divorciado(a)                            8         0.0   \n",
       "143  Masculino      Casado(a)                     3,Lan-03         0.0   \n",
       "325  Masculino      Casado(a)                            3         0.0   \n",
       "326  Masculino      Casado(a)                           16         0.0   \n",
       "\n",
       "     Valor Final Venta                    Nombre Completo  \\\n",
       "85              5772.0      Maria de la Luz Polidori Erle   \n",
       "88              5772.0      Maria de la Luz Polidori Erle   \n",
       "4               8934.0    Gustavo Arturo Spoerer O´Reilly   \n",
       "5               8934.0    Gustavo Arturo Spoerer O´Reilly   \n",
       "6               8934.0    Gustavo Arturo Spoerer O´Reilly   \n",
       "13              5447.0       Cristian Jesus Marcos Garcia   \n",
       "14              5447.0       Cristian Jesus Marcos Garcia   \n",
       "125             3835.0  Claudio Alberto Gajardo  Salazar    \n",
       "135             3532.0     Mario Marcel Barra De la Parra   \n",
       "142             3532.0     Mario Marcel Barra De la Parra   \n",
       "143             4261.0  Claudio Alberto Gajardo  Salazar    \n",
       "325             3585.0                 Felipe Jara Concha   \n",
       "326             4590.0                 Felipe Jara Concha   \n",
       "\n",
       "            Fecha Cotizacion       ...                 Nombre         RUT  \\\n",
       "85   2018-03-13 17:06:17.773       ...        Maria de la Luz   9879501-4   \n",
       "88   2018-03-21 12:57:33.463       ...        Maria de la Luz   9879501-4   \n",
       "4    2016-02-12 10:17:56.403       ...         Gustavo Arturo   4028907-0   \n",
       "5    2016-02-12 10:25:47.217       ...         Gustavo Arturo   4028907-0   \n",
       "6    2016-02-12 11:24:21.993       ...         Gustavo Arturo   4028907-0   \n",
       "13   2016-08-25 11:52:14.453       ...         Cristian Jesus  16766381-8   \n",
       "14   2016-09-01 14:22:44.230       ...         Cristian Jesus  16766381-8   \n",
       "125  2014-04-19 13:34:19.360       ...        Claudio Alberto  16138640-5   \n",
       "135  2014-04-22 18:50:56.453       ...           Mario Marcel  13628528-9   \n",
       "142  2014-04-28 12:04:47.370       ...           Mario Marcel  13628528-9   \n",
       "143  2014-04-28 12:42:49.900       ...        Claudio Alberto  16138640-5   \n",
       "325  2014-12-14 20:15:36.873       ...                 Felipe  13308886-5   \n",
       "326  2014-12-14 20:16:01.547       ...                 Felipe  13308886-5   \n",
       "\n",
       "    ID Cotizacion                    Medio                   Tipo de Medio  \\\n",
       "85         129130               RECONTACTO                      Recontacto   \n",
       "88         129130               RECONTACTO                      Recontacto   \n",
       "4           80512                REFERIDOS                         Tercero   \n",
       "5           80512                REFERIDOS                         Tercero   \n",
       "6           80512                REFERIDOS                         Tercero   \n",
       "13          92052                REFERIDOS  Cliente Aitue de otro proyecto   \n",
       "14          92052                REFERIDOS  Cliente Aitue de otro proyecto   \n",
       "125         35119  RECORRIDO POR EL SECTOR                           Paseo   \n",
       "135         35327               RECONTACTO                      Recontacto   \n",
       "142         35327               RECONTACTO                      Recontacto   \n",
       "143         35119  RECORRIDO POR EL SECTOR                           Paseo   \n",
       "325         50794                 INTERNET                       Web Aitue   \n",
       "326         50794                 INTERNET                       Web Aitue   \n",
       "\n",
       "                 Proyecto                          Etapa Estado Comercial  \\\n",
       "85        Altos del Valle                  ADV - Etapa 1           Normal   \n",
       "88        Altos del Valle                  ADV - Etapa 1           Normal   \n",
       "4          Edificio Junge         Quinta Junge - Torre B           Normal   \n",
       "5          Edificio Junge         Quinta Junge - Torre B           Normal   \n",
       "6          Edificio Junge         Quinta Junge - Torre B           Normal   \n",
       "13         Edificio Junge         Quinta Junge - Torre B           Normal   \n",
       "14         Edificio Junge         Quinta Junge - Torre B     Resciliacion   \n",
       "125  San Andres Del Valle  SADV - ET02 Condominio Choapa           Normal   \n",
       "135  San Andres Del Valle   SADV - ET01 Condominio Azapa           Normal   \n",
       "142  San Andres Del Valle   SADV - ET01 Condominio Azapa     Resciliacion   \n",
       "143  San Andres Del Valle  SADV - ET02 Condominio Choapa     Resciliacion   \n",
       "325  San Andres Del Valle   SADV - ET01 Condominio Azapa    Desistimiento   \n",
       "326  San Andres Del Valle   SADV - ET01 Condominio Azapa           Normal   \n",
       "\n",
       "          Estado Total Productos  \n",
       "85       Anulada          6040.0  \n",
       "88     Reservado          6040.0  \n",
       "4        Anulada          8934.0  \n",
       "5        Anulada          8934.0  \n",
       "6    Escriturado          8934.0  \n",
       "13       Anulada          5447.0  \n",
       "14     Promesado          5447.0  \n",
       "125      Anulada          3835.0  \n",
       "135      Anulada          3532.0  \n",
       "142    Promesado          3532.0  \n",
       "143    Promesado          4261.0  \n",
       "325    Reservado          3585.0  \n",
       "326      Anulada          4590.0  \n",
       "\n",
       "[13 rows x 22 columns]"
      ]
     },
     "execution_count": 71,
     "metadata": {},
     "output_type": "execute_result"
    }
   ],
   "source": [
    "neg_id_cot_count = neg_all.groupby('ID Cotizacion').count().sort_values(by='ID',ascending=False)\n",
    "neg_multiples_id = neg_id_cot_count[neg_id_cot_count['ID'] >= 2]\n",
    "\n",
    "neg_id_rep = neg_multiples_id['ID'].index.tolist()\n",
    "\n",
    "# view = neg_all.loc[neg_all['ID Cotizacion']==multiple_rows[1]]\n",
    "view = neg_all.loc[neg_all['ID Cotizacion'].isin(neg_id_rep)]\n",
    "view.loc[:,to_select_cols]\n",
    "# df.loc[df['column_name'].isin(some_values)]"
   ]
  },
  {
   "cell_type": "markdown",
   "metadata": {},
   "source": [
    "# Data Description Table Relations: Negocios & Cotizaciones"
   ]
  },
  {
   "cell_type": "markdown",
   "metadata": {},
   "source": [
    "## Columnas"
   ]
  },
  {
   "cell_type": "code",
   "execution_count": 46,
   "metadata": {},
   "outputs": [],
   "source": [
    "cot_cols = cot_all.columns.tolist()\n",
    "neg_cols = neg_all.columns.tolist()"
   ]
  },
  {
   "cell_type": "code",
   "execution_count": 47,
   "metadata": {},
   "outputs": [
    {
     "data": {
      "text/plain": [
       "['ID Cotizacion',\n",
       " 'Estado',\n",
       " 'Estado Comercial',\n",
       " 'Fecha Promesa',\n",
       " 'Fecha Escritura',\n",
       " 'Fecha Desistimiento',\n",
       " 'Fecha Resciliacion',\n",
       " 'Motivo Desis/Resc',\n",
       " 'Description Desis/Resc',\n",
       " 'Resciliacion por Modificacion']"
      ]
     },
     "execution_count": 47,
     "metadata": {},
     "output_type": "execute_result"
    }
   ],
   "source": [
    "#columnas de negocios que no estan en las columnas de cotizaciones\n",
    "not_in = [item for item in neg_cols if item not in cot_cols]\n",
    "not_in"
   ]
  },
  {
   "cell_type": "code",
   "execution_count": 48,
   "metadata": {},
   "outputs": [
    {
     "data": {
      "text/plain": [
       "['Presencial', 'Remoto', 'Profesion']"
      ]
     },
     "execution_count": 48,
     "metadata": {},
     "output_type": "execute_result"
    }
   ],
   "source": [
    "#columnas de cotizaciones que no estan en las columnas de negocios\n",
    "not_in = [item for item in cot_cols if item not in neg_cols]\n",
    "not_in"
   ]
  },
  {
   "cell_type": "code",
   "execution_count": 49,
   "metadata": {},
   "outputs": [
    {
     "data": {
      "text/plain": [
       "['ID',\n",
       " 'Fecha Cotizacion',\n",
       " 'Medio',\n",
       " 'Tipo de Medio',\n",
       " 'Proyecto',\n",
       " 'Etapa',\n",
       " 'Productos',\n",
       " 'Jefe Comercial',\n",
       " 'Ejecutivo Comercial',\n",
       " 'Total Productos',\n",
       " 'Descuentos',\n",
       " 'Valor Final Venta',\n",
       " 'RUT',\n",
       " 'Nombre',\n",
       " 'Apellido 1',\n",
       " 'Apellido 2',\n",
       " 'Nombre Completo',\n",
       " 'Telefono',\n",
       " 'Celular',\n",
       " 'Direccion',\n",
       " 'Region',\n",
       " 'Provincia',\n",
       " 'Comuna',\n",
       " 'Correo Electronico',\n",
       " 'Sexo',\n",
       " 'Estado Civil',\n",
       " 'Rango Edad',\n",
       " 'Fecha Nacimiento']"
      ]
     },
     "execution_count": 49,
     "metadata": {},
     "output_type": "execute_result"
    }
   ],
   "source": [
    "#columnas compartidas\n",
    "not_in = [item for item in cot_cols if item in neg_cols]\n",
    "not_in"
   ]
  },
  {
   "cell_type": "markdown",
   "metadata": {},
   "source": [
    "## Merging de las tablas (Necesario?). Negocios es subconjunto de Cotizacion"
   ]
  },
  {
   "cell_type": "code",
   "execution_count": 53,
   "metadata": {},
   "outputs": [
    {
     "name": "stdout",
     "output_type": "stream",
     "text": [
      "16238\n",
      "16238\n",
      "2287\n",
      "16238\n"
     ]
    },
    {
     "data": {
      "text/plain": [
       "8955"
      ]
     },
     "execution_count": 53,
     "metadata": {},
     "output_type": "execute_result"
    }
   ],
   "source": [
    "print(cot_all['ID'].shape[0])\n",
    "print(len(cot_all['ID'].unique()))\n",
    "\n",
    "neg_all.set_index('ID Cotizacion')\n",
    "cot_all.set_index('ID')\n",
    "print(neg_all.shape[0])\n",
    "print(cot_all.shape[0])\n",
    "\n",
    "merged_all =pd.merge(cot_all, neg_all, how='inner', left_index=True, right_index=True)\n",
    "merged_all.shape[0]"
   ]
  },
  {
   "cell_type": "code",
   "execution_count": null,
   "metadata": {},
   "outputs": [],
   "source": []
  }
 ],
 "metadata": {
  "kernelspec": {
   "display_name": "Python 3",
   "language": "python",
   "name": "python3"
  },
  "language_info": {
   "codemirror_mode": {
    "name": "ipython",
    "version": 3
   },
   "file_extension": ".py",
   "mimetype": "text/x-python",
   "name": "python",
   "nbconvert_exporter": "python",
   "pygments_lexer": "ipython3",
   "version": "3.6.4"
  }
 },
 "nbformat": 4,
 "nbformat_minor": 2
}
