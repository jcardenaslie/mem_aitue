{
 "cells": [
  {
   "cell_type": "code",
   "execution_count": 1,
   "metadata": {},
   "outputs": [],
   "source": [
    "import pandas as pd"
   ]
  },
  {
   "cell_type": "code",
   "execution_count": 2,
   "metadata": {},
   "outputs": [
    {
     "name": "stdout",
     "output_type": "stream",
     "text": [
      "not set\n"
     ]
    }
   ],
   "source": [
    "import os\n",
    "if os.environ.get(\"AITUEDATA\"):\n",
    "    print('set')\n",
    "    data_directory = os.environ['AITUEDATA']\n",
    "else:\n",
    "    print('not set')\n",
    "    #Eusebio\n",
    "    # data_directory = \"C:/Users/joaquin/Desktop/mem_aitue/Datos/\"\n",
    "    #Mini-Eusebio\n",
    "    # data_directory = \"C:/Users/jquin/Desktop/Memoria de Titulo/Aitue/Datos/\"\n",
    "    #PC-Mem\n",
    "    data_directory = \"C:/Users/Joaquin/Desktop/mem_aitue/Datos/\""
   ]
  },
  {
   "cell_type": "markdown",
   "metadata": {},
   "source": [
    "# 1.Select Data"
   ]
  },
  {
   "cell_type": "code",
   "execution_count": 3,
   "metadata": {},
   "outputs": [],
   "source": [
    "cot_all = pd.read_excel(data_directory+\"cotizaciones_all.xlsx\")\n",
    "neg_all = pd.read_excel(data_directory+\"negocios_all.xlsx\")"
   ]
  },
  {
   "cell_type": "code",
   "execution_count": 4,
   "metadata": {},
   "outputs": [
    {
     "data": {
      "text/plain": [
       "Index(['ID', 'Fecha Cotizacion', 'Medio', 'Tipo de Medio', 'Proyecto', 'Etapa',\n",
       "       'Productos', 'Presencial', 'Remoto', 'Jefe Comercial',\n",
       "       'Ejecutivo Comercial', 'Total Productos', 'Descuentos',\n",
       "       'Valor Final Venta', 'RUT', 'Nombre', 'Apellido 1', 'Apellido 2',\n",
       "       'Nombre Completo', 'Telefono', 'Celular', 'Direccion', 'Region',\n",
       "       'Provincia', 'Comuna', 'Correo Electronico', 'Sexo', 'Estado Civil',\n",
       "       'Rango Edad', 'Fecha Nacimiento', 'Profesion'],\n",
       "      dtype='object')"
      ]
     },
     "execution_count": 4,
     "metadata": {},
     "output_type": "execute_result"
    }
   ],
   "source": [
    "cot_all.columns"
   ]
  },
  {
   "cell_type": "code",
   "execution_count": 5,
   "metadata": {},
   "outputs": [],
   "source": [
    "s_columns = ['ID', 'Fecha Cotizacion', 'Medio', 'Proyecto', 'Etapa','Productos', 'Presencial',\n",
    "             'Total Productos','Descuentos','Valor Final Venta', 'RUT', 'Nombre', 'Apellido 1', 'Apellido 2',\n",
    "             'Nombre Completo', 'Telefono', 'Celular', 'Direccion', 'Region','Provincia', 'Comuna', \n",
    "             'Correo Electronico', 'Sexo', 'Estado Civil','Rango Edad', 'Fecha Nacimiento', 'Profesion']\n",
    "\n",
    "cot_all = cot_all[s_columns]"
   ]
  },
  {
   "cell_type": "markdown",
   "metadata": {},
   "source": [
    "# 2.Clean Data"
   ]
  },
  {
   "cell_type": "code",
   "execution_count": 6,
   "metadata": {},
   "outputs": [],
   "source": [
    "# variables a impiar y chequear\n",
    "\n",
    "# Limpiar variable fecha de nacimiento de alguna manera\n",
    "# Limpiar variable Sexo usando rutificador\n",
    "# Limpar variables Direccion usando en lo posible el rutificador y otras fuentes"
   ]
  },
  {
   "cell_type": "markdown",
   "metadata": {},
   "source": [
    "# 3.Construct Data"
   ]
  },
  {
   "cell_type": "markdown",
   "metadata": {},
   "source": [
    "## 3.1 Nuevos Atributos"
   ]
  },
  {
   "cell_type": "markdown",
   "metadata": {},
   "source": [
    "### 3.1.1.Edad\n",
    "Variable construida a partir de la fecha de nacimiento"
   ]
  },
  {
   "cell_type": "code",
   "execution_count": 7,
   "metadata": {},
   "outputs": [],
   "source": [
    "# Construir variable 'Edad' a partir de fecha de Nacimiento\n",
    "import datetime\n",
    "now = datetime.datetime.now().year\n",
    "\n",
    "fechas_nacimiento = pd.to_datetime(cot_all['Fecha Nacimiento']).apply(lambda x: x.date()).tolist()\n",
    "\n",
    "def anio_nac(x):\n",
    "    try:\n",
    "        year = int(x.year)\n",
    "        dif = now - year\n",
    "        if dif >= 18:\n",
    "            return dif\n",
    "        else:\n",
    "            return 0\n",
    "    except (ValueError,AttributeError):\n",
    "        return 0\n",
    "        \n",
    "    return r\n",
    "\n",
    "anio_nacimiento = [anio_nac(x) for x in fechas_nacimiento]\n",
    "cot_all['edad'] = anio_nacimiento\n"
   ]
  },
  {
   "cell_type": "markdown",
   "metadata": {},
   "source": [
    "### 3.1.2.Descuento\n",
    "Variable que indica si el cliente recibio descuento"
   ]
  },
  {
   "cell_type": "code",
   "execution_count": 8,
   "metadata": {},
   "outputs": [],
   "source": [
    "# Construir 'descuento': binario : [True, False]\n",
    "recibio_descuento = cot_all['Descuentos'].tolist()\n",
    "\n",
    "def is_desc(x):\n",
    "    try:\n",
    "        desc = int(x)\n",
    "        if desc > 0:\n",
    "            return True\n",
    "        else:\n",
    "            return False\n",
    "    except ValueError:\n",
    "        return False\n",
    "\n",
    "descuento = [is_desc(x) for x in recibio_descuento]\n",
    "cot_all['recibio_descuento'] = descuento\n",
    "# descuento"
   ]
  },
  {
   "cell_type": "markdown",
   "metadata": {},
   "source": [
    "### 3.1.3.Cantidad de Productos"
   ]
  },
  {
   "cell_type": "code",
   "execution_count": 9,
   "metadata": {},
   "outputs": [],
   "source": [
    "# Construir 'productos': categorico : ['depto','casa','estacionamiento','bodega','Estudio']\n",
    "productos = cot_all['Productos'].tolist()\n",
    "depto = []; estacionamiento=[]; bodega = []; estudio = [];nan = 0\n",
    "def get_products(x,word,numeric=False):\n",
    "    w=0\n",
    "    try:\n",
    "        p =str(x)\n",
    "        arr_p = x.split(',')\n",
    "        for e in arr_p:\n",
    "            if word in e:\n",
    "                w+=1\n",
    "#                 print(word + \" :\",e)\n",
    "                break\n",
    "            elif numeric and ('B' not in e or 'Est' not in e):\n",
    "                try:\n",
    "                    int(e)\n",
    "#                     print(word + \" :\",e)\n",
    "                    w+=1\n",
    "                except ValueError:\n",
    "                    pass\n",
    "        return w\n",
    "    except (ValueError,AttributeError):\n",
    "        try:\n",
    "            int(x)\n",
    "            if numeric:\n",
    "                return 1\n",
    "            else:\n",
    "                return 0\n",
    "        except ValueError:\n",
    "            return 0\n",
    "\n",
    "cot_all['#vivienda'] = [get_products(x,'T',numeric=True) for x in productos]\n",
    "cot_all['#bodega'] = [get_products(x,'Bod') for x in productos]\n",
    "cot_all['#estacionamiento'] = [get_products(x,'Est') for x in productos]\n",
    "cot_all['#estudio'] = [get_products(x,'Estudio') for x in productos]\n",
    "cot_all['#lan'] = [get_products(x,'lan') for x in productos]"
   ]
  },
  {
   "cell_type": "code",
   "execution_count": 10,
   "metadata": {},
   "outputs": [
    {
     "name": "stdout",
     "output_type": "stream",
     "text": [
      "  Productos  #vivienda  #bodega  #estacionamiento  #estudio  #lan\n",
      "0    TA-103          1        0                 0         0     0\n",
      "1    TA-103          1        0                 0         0     0\n",
      "2    TA-102          1        0                 0         0     0\n",
      "3    TA-104          1        0                 0         0     0\n",
      "4    TA-103          1        0                 0         0     0\n",
      "        Productos  #vivienda  #bodega  #estacionamiento  #estudio  #lan\n",
      "2678          306          1        0                 0         0     0\n",
      "2679         1111          1        0                 0         0     0\n",
      "2680  906,Lan-906          1        0                 0         0     0\n",
      "2681          912          1        0                 0         0     0\n",
      "2682  309,Est-002          1        0                 1         0     0\n"
     ]
    }
   ],
   "source": [
    "print(cot_all[['Productos','#vivienda','#bodega','#estacionamiento','#estudio','#lan']].head())\n",
    "print(cot_all[['Productos','#vivienda','#bodega','#estacionamiento','#estudio','#lan']].tail())"
   ]
  },
  {
   "cell_type": "markdown",
   "metadata": {},
   "source": [
    "### 3.1.4.Latitud y Longitud"
   ]
  },
  {
   "cell_type": "code",
   "execution_count": 11,
   "metadata": {},
   "outputs": [],
   "source": [
    "# Constuir 'latitud' a partir de 'Direccion'\n",
    "# Constuir 'longitud' a partir de 'Direccion'"
   ]
  },
  {
   "cell_type": "markdown",
   "metadata": {},
   "source": [
    "### 3.1.5.Email\n",
    "Esta variable indica si el cliente facilito el correo en alguna cotizacion"
   ]
  },
  {
   "cell_type": "code",
   "execution_count": 12,
   "metadata": {},
   "outputs": [
    {
     "data": {
      "text/html": [
       "<div>\n",
       "<style scoped>\n",
       "    .dataframe tbody tr th:only-of-type {\n",
       "        vertical-align: middle;\n",
       "    }\n",
       "\n",
       "    .dataframe tbody tr th {\n",
       "        vertical-align: top;\n",
       "    }\n",
       "\n",
       "    .dataframe thead th {\n",
       "        text-align: right;\n",
       "    }\n",
       "</style>\n",
       "<table border=\"1\" class=\"dataframe\">\n",
       "  <thead>\n",
       "    <tr style=\"text-align: right;\">\n",
       "      <th></th>\n",
       "      <th>has_correo</th>\n",
       "      <th>Correo Electronico</th>\n",
       "    </tr>\n",
       "  </thead>\n",
       "  <tbody>\n",
       "  </tbody>\n",
       "</table>\n",
       "</div>"
      ],
      "text/plain": [
       "Empty DataFrame\n",
       "Columns: [has_correo, Correo Electronico]\n",
       "Index: []"
      ]
     },
     "execution_count": 12,
     "metadata": {},
     "output_type": "execute_result"
    }
   ],
   "source": [
    "cot_all['has_correo'] = ~cot_all['Correo Electronico'].isnull()\n",
    "cot_all[cot_all['has_correo'] == False][['has_correo','Correo Electronico']]"
   ]
  },
  {
   "cell_type": "markdown",
   "metadata": {},
   "source": [
    "### 3.1.6.Region\n",
    "Esta variable indica si el cliente facilito el correo en alguna cotizacion"
   ]
  },
  {
   "cell_type": "code",
   "execution_count": 13,
   "metadata": {},
   "outputs": [
    {
     "data": {
      "text/plain": [
       "array(['VIII Región del Bío-Bío', 'II Región de Antofagasta',\n",
       "       'IV Región de Coquimbo', 'VII Región del Maule',\n",
       "       'X Región de Los Lagos', 'XIII Región Metropolitana de Santiago',\n",
       "       'V Región de Valparaíso',\n",
       "       'VI Región del Libertador General Bernardo O Higgins',\n",
       "       'XIV Región de Los Ríos',\n",
       "       'XI Región de Aysen del General Carlos Ibáñez del Campo',\n",
       "       'I Región de Tarapacá', 'IX Región de La Araucanía',\n",
       "       'XII Región de Magallanes y de La Antártica Chilena',\n",
       "       'XV Region de Arica y Parinacota', 'III Región de Atacama'],\n",
       "      dtype=object)"
      ]
     },
     "execution_count": 13,
     "metadata": {},
     "output_type": "execute_result"
    }
   ],
   "source": [
    "cot_all['Region'].unique()"
   ]
  },
  {
   "cell_type": "code",
   "execution_count": 14,
   "metadata": {},
   "outputs": [],
   "source": [
    "# Construir 'region': categorico : ['Bio-Bio','Santiago','Otro']\n",
    "\n",
    "# reg = cot_all['Region']\n",
    "# regiones = []\n",
    "\n",
    "# def get_region(r):\n",
    "#     if 'Bío-Bío' in r:\n",
    "#         return 'Bio-Bio'\n",
    "#     elif 'Santiago' in r:\n",
    "#         return 'Santiago'\n",
    "#     else:\n",
    "#         return 'Otro'\n",
    "        \n",
    "# regiones = [ get_region(x) for x in reg]\n",
    "# cot_all['region'] = regiones\n",
    "# cot_all['region'].astype('category').head()\n",
    "cot_all['region'] = cot_all['Region'].copy()\n",
    "cot_all['region'] = cot_all['region'].replace(\n",
    "    {'VIII Región del Bío-Bío':'Bio-Bio',\n",
    "     'XIII Región Metropolitana de Santiago':'Metropolitana'}\n",
    ")\n",
    "cot_all['region'] = cot_all['region'].replace(\n",
    "    ['II Región de Antofagasta',\n",
    "       'IV Región de Coquimbo', 'VII Región del Maule',\n",
    "       'X Región de Los Lagos',\n",
    "       'V Región de Valparaíso',\n",
    "       'VI Región del Libertador General Bernardo O Higgins',\n",
    "       'XIV Región de Los Ríos',\n",
    "       'XI Región de Aysen del General Carlos Ibáñez del Campo',\n",
    "       'I Región de Tarapacá', 'IX Región de La Araucanía',\n",
    "       'XII Región de Magallanes y de La Antártica Chilena',\n",
    "       'XV Region de Arica y Parinacota', 'III Región de Atacama'],'Otro'\n",
    ")"
   ]
  },
  {
   "cell_type": "code",
   "execution_count": 15,
   "metadata": {},
   "outputs": [
    {
     "data": {
      "text/plain": [
       "0    Bio-Bio\n",
       "1    Bio-Bio\n",
       "2    Bio-Bio\n",
       "3    Bio-Bio\n",
       "4    Bio-Bio\n",
       "Name: region, dtype: category\n",
       "Categories (3, object): [Bio-Bio, Metropolitana, Otro]"
      ]
     },
     "execution_count": 15,
     "metadata": {},
     "output_type": "execute_result"
    }
   ],
   "source": [
    "cot_all['region'].astype('category').head()"
   ]
  },
  {
   "cell_type": "markdown",
   "metadata": {},
   "source": [
    "### 3.1.7.Provincia\n",
    "Esta variable indica si el cliente facilito el correo en alguna cotizacion"
   ]
  },
  {
   "cell_type": "code",
   "execution_count": 16,
   "metadata": {},
   "outputs": [
    {
     "data": {
      "text/plain": [
       "array(['Concepción', 'Antofagasta', 'Limarí', 'Talca', 'Biobío', 'Ñuble',\n",
       "       'Llanquihue', 'Santiago', 'Maipo', 'Valparaíso', 'Cachapoal',\n",
       "       'Arauco', 'Valdivia', 'Coyhaique', 'Linares', 'Osorno',\n",
       "       'San Felipe de Aconcagua', 'Iquique', 'Cautín', 'Capitán Prat',\n",
       "       'Aysén', 'Chacabuco', 'Melipilla', 'Magallanes', 'Malleco',\n",
       "       'Arica ', 'Elqui', 'El Loa', 'Cauquenes', 'Colchagua', 'Valdivia ',\n",
       "       'Copiapó', 'Última Esperanza', 'Cordillera', 'Curicó', 'Chiloé',\n",
       "       'Choapa', 'Huasco'], dtype=object)"
      ]
     },
     "execution_count": 16,
     "metadata": {},
     "output_type": "execute_result"
    }
   ],
   "source": [
    "cot_all['Provincia'].unique()"
   ]
  },
  {
   "cell_type": "code",
   "execution_count": 17,
   "metadata": {},
   "outputs": [],
   "source": [
    "cot_all['provincia'] = cot_all['Provincia'].copy()\n",
    "cot_all['provincia'] = cot_all['provincia'].replace(\n",
    "    {'Concepción':'Concepcion',\n",
    "     'Santiago':'Santiago'}\n",
    ")\n",
    "cot_all['provincia'] = cot_all['provincia'].replace(\n",
    "    ['Antofagasta', 'Limarí', 'Talca', 'Biobío', 'Ñuble',\n",
    "       'Llanquihue','Maipo', 'Valparaíso', 'Cachapoal',\n",
    "       'Arauco', 'Valdivia', 'Coyhaique', 'Linares', 'Osorno',\n",
    "       'San Felipe de Aconcagua', 'Iquique', 'Cautín', 'Capitán Prat',\n",
    "       'Aysén', 'Chacabuco', 'Melipilla', 'Magallanes', 'Malleco',\n",
    "       'Arica ', 'Elqui', 'El Loa', 'Cauquenes', 'Colchagua', 'Valdivia ',\n",
    "       'Copiapó', 'Última Esperanza', 'Cordillera', 'Curicó', 'Chiloé',\n",
    "       'Choapa', 'Huasco'],'Otro'\n",
    ")"
   ]
  },
  {
   "cell_type": "code",
   "execution_count": 18,
   "metadata": {},
   "outputs": [
    {
     "data": {
      "text/plain": [
       "0    Concepcion\n",
       "1    Concepcion\n",
       "2    Concepcion\n",
       "3    Concepcion\n",
       "4    Concepcion\n",
       "Name: provincia, dtype: category\n",
       "Categories (3, object): [Concepcion, Otro, Santiago]"
      ]
     },
     "execution_count": 18,
     "metadata": {},
     "output_type": "execute_result"
    }
   ],
   "source": [
    "cot_all['provincia'].astype('category').head()"
   ]
  },
  {
   "cell_type": "code",
   "execution_count": 19,
   "metadata": {},
   "outputs": [],
   "source": [
    "# # Construir 'provincia': categorico : ['Concepcion','Bio-Bio','Santiago','Otro']\n",
    "# reg = cot_all['Provincia']\n",
    "\n",
    "# def get_provincia(r):\n",
    "#     if 'Concepción' in r:\n",
    "#         return 'Concepcion'\n",
    "#     elif 'Santiago' in r:\n",
    "#         return 'Santiago'\n",
    "#     else:\n",
    "#         return 'Otro'\n",
    "        \n",
    "# regiones = [ get_provincia(x) for x in reg]\n",
    "# cot_all['provincia'] = regiones\n",
    "# cot_all['provincia'].astype('category').head()"
   ]
  },
  {
   "cell_type": "markdown",
   "metadata": {},
   "source": [
    "### 3.1.8.Comuna\n",
    "Esta variable indica si el cliente facilito el correo en alguna cotizacion"
   ]
  },
  {
   "cell_type": "code",
   "execution_count": 20,
   "metadata": {},
   "outputs": [
    {
     "data": {
      "text/plain": [
       "array(['Concepción', 'Antofagasta', 'Ovalle', 'Constitución',\n",
       "       'Talcahuano', 'Tomé', 'Hualpén', 'Los Ángeles', 'Chillán',\n",
       "       'Yungay', 'Puerto Montt', 'Santiago', 'El Bosque', 'La Florida',\n",
       "       'Las Condes', 'Ñuñoa', 'Providencia', 'Buin', 'Chiguayante',\n",
       "       'Florida', 'Penco', 'San Pedro de la Paz', 'Viña del Mar',\n",
       "       'Machalí', 'Vitacura', 'Arauco', 'Coronel', 'Contulmo', 'Concón',\n",
       "       'Santa Juana', 'Puerto Varas', 'Cañete', 'Huechuraba', 'Valdivia',\n",
       "       'Coyhaique', 'Colbún', 'Osorno', 'San Felipe', 'Iquique',\n",
       "       'Rancagua', 'Lota', 'Temuco', 'Cochrane', 'Chillán Viejo', 'Maipú',\n",
       "       'Aysén', 'Villarrica', 'La Reina', 'Peñalolén', 'Estación Central',\n",
       "       'Colina', 'Quilicura', 'Curanilahue', 'Algarrobo', 'Talca',\n",
       "       'San Carlos', 'Punta Arenas', 'Mulchén', 'Coelemu', 'Angol',\n",
       "       'Laja', 'Nacimiento', 'Arica', 'La Serena', 'Hualqui',\n",
       "       'San Miguel', 'Calama', 'Pelluhue', 'Quillón', 'Valparaíso',\n",
       "       'Llanquihue', 'Los Álamos', 'Renca', 'Santa Cruz', 'Panguipulli',\n",
       "       'Cabrero', 'Cerrillos', 'Pudahuel', 'Copiapó', 'Natales', 'Tirúa',\n",
       "       'Cauquenes', 'La Cisterna', 'Yumbel', 'Ránquil', 'Padre Las Casas',\n",
       "       'Las Cabras', 'Coquimbo', 'Lebu', 'San José de Maipo', 'San Ramón',\n",
       "       'Curicó', 'Independencia', 'Lampa ', 'Castro', 'Punitaqui',\n",
       "       'Conchalí', 'San Rosendo', 'Alto Hospicio', 'Illapel', 'Huasco',\n",
       "       'Collipulli', 'Tucapel', 'Alto Biobío'], dtype=object)"
      ]
     },
     "execution_count": 20,
     "metadata": {},
     "output_type": "execute_result"
    }
   ],
   "source": [
    "cot_all['Comuna'].unique()"
   ]
  },
  {
   "cell_type": "code",
   "execution_count": 21,
   "metadata": {},
   "outputs": [],
   "source": [
    "cot_all['comuna'] = cot_all['Comuna'].copy()\n",
    "\n",
    "cot_all['comuna'] = cot_all['comuna'].replace(\n",
    "    ['Ovalle', 'Constitución','Tomé', 'Chillán','Yungay',\n",
    "     'Puerto Montt', 'Santiago', 'El Bosque', 'La Florida','Las Condes',\n",
    "     'Ñuñoa', 'Providencia', 'Buin','Florida','Viña del Mar',\n",
    "     'Machalí', 'Vitacura', 'Arauco', 'Contulmo', 'Concón',\n",
    "     'Santa Juana', 'Puerto Varas', 'Cañete', 'Huechuraba', 'Valdivia',\n",
    "     'Coyhaique', 'Colbún', 'Osorno', 'San Felipe', 'Iquique',\n",
    "     'Rancagua', 'Lota', 'Temuco', 'Cochrane', 'Chillán Viejo', 'Maipú',\n",
    "     'Aysén', 'Villarrica', 'La Reina', 'Peñalolén', 'Estación Central',\n",
    "     'Colina', 'Quilicura', 'Curanilahue', 'Algarrobo', 'Talca',\n",
    "     'San Carlos', 'Punta Arenas', 'Mulchén', 'Coelemu', 'Angol',\n",
    "     'Laja', 'Nacimiento', 'Arica', 'La Serena', 'Hualqui',\n",
    "     'San Miguel', 'Calama', 'Pelluhue', 'Quillón', 'Valparaíso',\n",
    "     'Llanquihue', 'Los Álamos', 'Renca', 'Santa Cruz', 'Panguipulli',\n",
    "     'Cabrero', 'Cerrillos', 'Pudahuel', 'Copiapó', 'Natales', 'Tirúa',\n",
    "     'Cauquenes', 'La Cisterna', 'Yumbel', 'Ránquil', 'Padre Las Casas',\n",
    "     'Las Cabras', 'Coquimbo', 'Lebu', 'San José de Maipo', 'San Ramón',\n",
    "     'Curicó', 'Independencia', 'Lampa ', 'Castro', 'Punitaqui',\n",
    "     'Conchalí', 'San Rosendo', 'Alto Hospicio', 'Illapel', 'Huasco',\n",
    "     'Collipulli', 'Tucapel', 'Alto Biobío'],'Otro'\n",
    ")"
   ]
  },
  {
   "cell_type": "code",
   "execution_count": 22,
   "metadata": {},
   "outputs": [
    {
     "data": {
      "text/plain": [
       "0    Concepción\n",
       "1    Concepción\n",
       "2    Concepción\n",
       "3    Concepción\n",
       "4    Concepción\n",
       "Name: comuna, dtype: category\n",
       "Categories (10, object): [Antofagasta, Chiguayante, Concepción, Coronel, ..., Otro, Penco, San Pedro de la Paz, Talcahuano]"
      ]
     },
     "execution_count": 22,
     "metadata": {},
     "output_type": "execute_result"
    }
   ],
   "source": [
    "cot_all['comuna'].astype('category').head()"
   ]
  },
  {
   "cell_type": "code",
   "execution_count": 23,
   "metadata": {},
   "outputs": [],
   "source": [
    "# Construir 'comuna': categorico : ['Concepcion','San Pedro','Talcahuano','Hualpen','Chiguayante','Santiago','Otro']\n",
    "# reg = cot_all['Comuna']\n",
    "# regiones = []\n",
    "\n",
    "# def get_comuna(r):\n",
    "#     if 'Concepción' in r:\n",
    "#         return 'Concepcion'\n",
    "#     elif 'Santiago' in r:\n",
    "#         return 'Santiago'\n",
    "#     elif 'San Pedro de la Paz' in r:\n",
    "#         return 'San Pedro'\n",
    "#     elif 'Talcahuano' in r:\n",
    "#         return 'Talcahuano'\n",
    "#     elif 'Chiguayante' in r:\n",
    "#         return 'Chiguayante'\n",
    "#     else:\n",
    "#         return 'Otro'\n",
    "        \n",
    "# regiones = [ get_comuna(x) for x in reg]\n",
    "# cot_all['comuna'] = regiones\n",
    "# cot_all['comuna'].astype('category').head()"
   ]
  },
  {
   "cell_type": "code",
   "execution_count": 24,
   "metadata": {},
   "outputs": [
    {
     "data": {
      "text/plain": [
       "Index(['ID', 'Fecha Cotizacion', 'Medio', 'Proyecto', 'Etapa', 'Productos',\n",
       "       'Presencial', 'Total Productos', 'Descuentos', 'Valor Final Venta',\n",
       "       'RUT', 'Nombre', 'Apellido 1', 'Apellido 2', 'Nombre Completo',\n",
       "       'Telefono', 'Celular', 'Direccion', 'Region', 'Provincia', 'Comuna',\n",
       "       'Correo Electronico', 'Sexo', 'Estado Civil', 'Rango Edad',\n",
       "       'Fecha Nacimiento', 'Profesion', 'edad', 'recibio_descuento',\n",
       "       '#vivienda', '#bodega', '#estacionamiento', '#estudio', '#lan',\n",
       "       'has_correo', 'region', 'provincia', 'comuna'],\n",
       "      dtype='object')"
      ]
     },
     "execution_count": 24,
     "metadata": {},
     "output_type": "execute_result"
    }
   ],
   "source": [
    "cot_all.columns"
   ]
  },
  {
   "cell_type": "markdown",
   "metadata": {},
   "source": [
    "### 3.1.9.Atributos Provistos\n",
    "Esta variable indica el numero de veces que el cliente ha hecho cotizaciones"
   ]
  },
  {
   "cell_type": "code",
   "execution_count": 26,
   "metadata": {},
   "outputs": [],
   "source": [
    "cot_all['is_nombre'] = ~cot_all['Nombre'].isnull()\n",
    "cot_all['is_apellido1'] = ~cot_all['Apellido 1'].isnull()\n",
    "cot_all['is_apellido2'] = ~cot_all['Apellido 2'].isnull()\n",
    "cot_all['is_nombre_completo'] = ~cot_all['Nombre Completo'].isnull()"
   ]
  },
  {
   "cell_type": "markdown",
   "metadata": {},
   "source": [
    "### 3.1.9.Cantidad de Cotizaciones\n",
    "Esta variable indica el numero de veces que el cliente ha hecho cotizaciones"
   ]
  },
  {
   "cell_type": "code",
   "execution_count": null,
   "metadata": {},
   "outputs": [],
   "source": [
    "# Construir '#cotizaciones' a partir del nro de filas donde participa el mismo rut\n",
    "filas_ruts = []\n",
    "cot_ruts = pd.DataFrame()\n",
    "for group, frame in  cot_all.groupby('RUT'):\n",
    "    rut_count = frame['ID'].count()\n",
    "    filas_ruts.append(rut_count)\n",
    "    print(frame['Region'].tolist())"
   ]
  },
  {
   "cell_type": "markdown",
   "metadata": {},
   "source": [
    "### 3.1.10.Tiempo entre Cotizaciones\n",
    "Esta variable indica el numero de veces que el cliente ha hecho cotizaciones"
   ]
  },
  {
   "cell_type": "code",
   "execution_count": null,
   "metadata": {},
   "outputs": [],
   "source": [
    "# Construir 'promedio_de_tiempo' entre cotizacones donde participa el mismo rut"
   ]
  },
  {
   "cell_type": "markdown",
   "metadata": {},
   "source": [
    "### 3.1.11.Negocio\n",
    "Indica si el cliente siguio el proceso de cotizacion y lo transformo en un proceso de negocio"
   ]
  },
  {
   "cell_type": "code",
   "execution_count": null,
   "metadata": {},
   "outputs": [],
   "source": []
  },
  {
   "cell_type": "code",
   "execution_count": null,
   "metadata": {},
   "outputs": [],
   "source": [
    "# Construir '#Negocio' si el rut participo en la tabla Negocios. \n",
    "# ruts de los clientes en negocio\n",
    "neg_ruts = neg_all['RUT'].unique().tolist()\n",
    "\n",
    "cot_neg = cot_all.copy()\n",
    "cot_neg['Negocio'] = cot_all['RUT'].isin(neg_ruts)\n",
    "\n",
    "print(neg_all.shape[0])\n",
    "print(\"Nro Filas en cot que tienen ruts en neg :\",cot_neg.loc[cot_neg['Negocio']==True].shape[0])"
   ]
  },
  {
   "cell_type": "markdown",
   "metadata": {},
   "source": [
    "# 4.Integrate Data"
   ]
  },
  {
   "cell_type": "code",
   "execution_count": null,
   "metadata": {},
   "outputs": [],
   "source": [
    "# Transformar todo en un data set"
   ]
  },
  {
   "cell_type": "markdown",
   "metadata": {},
   "source": [
    "# 5.Format Data"
   ]
  }
 ],
 "metadata": {
  "kernelspec": {
   "display_name": "Python 3",
   "language": "python",
   "name": "python3"
  },
  "language_info": {
   "codemirror_mode": {
    "name": "ipython",
    "version": 3
   },
   "file_extension": ".py",
   "mimetype": "text/x-python",
   "name": "python",
   "nbconvert_exporter": "python",
   "pygments_lexer": "ipython3",
   "version": "3.6.4"
  }
 },
 "nbformat": 4,
 "nbformat_minor": 2
}
