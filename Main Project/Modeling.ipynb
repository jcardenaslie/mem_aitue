{
 "cells": [
  {
   "cell_type": "code",
   "execution_count": 1,
   "metadata": {},
   "outputs": [],
   "source": [
    "import os\n",
    "import numpy as np\n",
    "import seaborn as sb\n",
    "sb.set()\n",
    "import matplotlib.pyplot as plt\n",
    "import pandas as pd"
   ]
  },
  {
   "cell_type": "code",
   "execution_count": 2,
   "metadata": {},
   "outputs": [
    {
     "name": "stdout",
     "output_type": "stream",
     "text": [
      "set\n"
     ]
    }
   ],
   "source": [
    "import os\n",
    "if os.environ.get(\"AITUEDATA\"):\n",
    "    print('set')\n",
    "    data_directory = os.environ['AITUEDATA']\n",
    "else:\n",
    "    print('not set')\n",
    "    #Eusebio\n",
    "    data_directory = \"C:/Users/joaquin/Desktop/mem_aitue/Datos/\"\n",
    "    #Mini-Eusebio\n",
    "#     data_directory = \"C:/Users/jquin/Desktop/Memoria de Titulo/Aitue/Datos/\"\n",
    "    #PC-Mem\n",
    "#     data_directory = \"C:/Users/Joaquin/Desktop/mem_aitue/Datos/\""
   ]
  },
  {
   "cell_type": "code",
   "execution_count": 3,
   "metadata": {},
   "outputs": [
    {
     "data": {
      "text/html": [
       "<div>\n",
       "<style scoped>\n",
       "    .dataframe tbody tr th:only-of-type {\n",
       "        vertical-align: middle;\n",
       "    }\n",
       "\n",
       "    .dataframe tbody tr th {\n",
       "        vertical-align: top;\n",
       "    }\n",
       "\n",
       "    .dataframe thead th {\n",
       "        text-align: right;\n",
       "    }\n",
       "</style>\n",
       "<table border=\"1\" class=\"dataframe\">\n",
       "  <thead>\n",
       "    <tr style=\"text-align: right;\">\n",
       "      <th></th>\n",
       "      <th>is_apellido1</th>\n",
       "      <th>is_appelido2</th>\n",
       "      <th>is_celular</th>\n",
       "      <th>is_direccion</th>\n",
       "      <th>is_fnac</th>\n",
       "      <th>is_nombre</th>\n",
       "      <th>is_nombrecompleto</th>\n",
       "      <th>is_telefono</th>\n",
       "      <th>loc_comuna</th>\n",
       "      <th>loc_provincia</th>\n",
       "      <th>...</th>\n",
       "      <th>nro_cot_esta</th>\n",
       "      <th>nro_cot_estu</th>\n",
       "      <th>nro_proyectos</th>\n",
       "      <th>sexo</th>\n",
       "      <th>tipo_cliente</th>\n",
       "      <th>Altos del Valle</th>\n",
       "      <th>Edificio Urban 1470</th>\n",
       "      <th>San Andres Del Valle</th>\n",
       "      <th>Edificio Mil610</th>\n",
       "      <th>Edificio Junge</th>\n",
       "    </tr>\n",
       "  </thead>\n",
       "  <tbody>\n",
       "    <tr>\n",
       "      <th>0</th>\n",
       "      <td>True</td>\n",
       "      <td>True</td>\n",
       "      <td>True</td>\n",
       "      <td>False</td>\n",
       "      <td>True</td>\n",
       "      <td>True</td>\n",
       "      <td>True</td>\n",
       "      <td>True</td>\n",
       "      <td>ConcepciÃ³n</td>\n",
       "      <td>Concepcion</td>\n",
       "      <td>...</td>\n",
       "      <td>1.0</td>\n",
       "      <td>0.0</td>\n",
       "      <td>2.0</td>\n",
       "      <td>Femenino</td>\n",
       "      <td>Natural</td>\n",
       "      <td>0.0</td>\n",
       "      <td>1.0</td>\n",
       "      <td>1.0</td>\n",
       "      <td>0.0</td>\n",
       "      <td>0.0</td>\n",
       "    </tr>\n",
       "    <tr>\n",
       "      <th>1</th>\n",
       "      <td>True</td>\n",
       "      <td>True</td>\n",
       "      <td>True</td>\n",
       "      <td>False</td>\n",
       "      <td>False</td>\n",
       "      <td>True</td>\n",
       "      <td>True</td>\n",
       "      <td>True</td>\n",
       "      <td>ConcepciÃ³n</td>\n",
       "      <td>Concepcion</td>\n",
       "      <td>...</td>\n",
       "      <td>1.0</td>\n",
       "      <td>0.0</td>\n",
       "      <td>1.0</td>\n",
       "      <td>Masculino</td>\n",
       "      <td>Natural</td>\n",
       "      <td>0.0</td>\n",
       "      <td>0.0</td>\n",
       "      <td>0.0</td>\n",
       "      <td>1.0</td>\n",
       "      <td>0.0</td>\n",
       "    </tr>\n",
       "  </tbody>\n",
       "</table>\n",
       "<p>2 rows × 29 columns</p>\n",
       "</div>"
      ],
      "text/plain": [
       "   is_apellido1  is_appelido2  is_celular  is_direccion  is_fnac  is_nombre  \\\n",
       "0          True          True        True         False     True       True   \n",
       "1          True          True        True         False    False       True   \n",
       "\n",
       "   is_nombrecompleto  is_telefono   loc_comuna loc_provincia       ...        \\\n",
       "0               True         True  ConcepciÃ³n    Concepcion       ...         \n",
       "1               True         True  ConcepciÃ³n    Concepcion       ...         \n",
       "\n",
       "  nro_cot_esta  nro_cot_estu  nro_proyectos       sexo  tipo_cliente  \\\n",
       "0          1.0           0.0            2.0   Femenino       Natural   \n",
       "1          1.0           0.0            1.0  Masculino       Natural   \n",
       "\n",
       "   Altos del Valle  Edificio Urban 1470  San Andres Del Valle  \\\n",
       "0              0.0                  1.0                   1.0   \n",
       "1              0.0                  0.0                   0.0   \n",
       "\n",
       "   Edificio Mil610  Edificio Junge  \n",
       "0              0.0             0.0  \n",
       "1              1.0             0.0  \n",
       "\n",
       "[2 rows x 29 columns]"
      ]
     },
     "execution_count": 3,
     "metadata": {},
     "output_type": "execute_result"
    }
   ],
   "source": [
    "personas = pd.read_csv(data_directory+'Datos/personas_cotizacion.csv',encoding = \"ISO-8859-1\")\n",
    "# personas = pd.read_csv(data_directory+'personas.csv')\n",
    "personas = personas.drop(personas.columns[0], axis=1)\n",
    "personas = personas.drop(['rut'], axis=1)\n",
    "\n",
    "personas.head(2)"
   ]
  },
  {
   "cell_type": "code",
   "execution_count": 4,
   "metadata": {},
   "outputs": [],
   "source": [
    "# personas.columns"
   ]
  },
  {
   "cell_type": "code",
   "execution_count": 5,
   "metadata": {},
   "outputs": [
    {
     "name": "stdout",
     "output_type": "stream",
     "text": [
      "(6184, 28)\n"
     ]
    }
   ],
   "source": [
    "p_negocio = personas.negocio\n",
    "personas = personas.drop('negocio',axis=1)\n",
    "print(personas.shape)"
   ]
  },
  {
   "cell_type": "code",
   "execution_count": 6,
   "metadata": {},
   "outputs": [],
   "source": [
    "personas = pd.get_dummies(personas)"
   ]
  },
  {
   "cell_type": "code",
   "execution_count": 7,
   "metadata": {},
   "outputs": [
    {
     "data": {
      "text/plain": [
       "(6184, 43)"
      ]
     },
     "execution_count": 7,
     "metadata": {},
     "output_type": "execute_result"
    }
   ],
   "source": [
    "personas = personas.drop(['max_rango_edad'],axis=1)\n",
    "personas.shape"
   ]
  },
  {
   "cell_type": "code",
   "execution_count": 8,
   "metadata": {},
   "outputs": [
    {
     "data": {
      "text/html": [
       "<div>\n",
       "<style scoped>\n",
       "    .dataframe tbody tr th:only-of-type {\n",
       "        vertical-align: middle;\n",
       "    }\n",
       "\n",
       "    .dataframe tbody tr th {\n",
       "        vertical-align: top;\n",
       "    }\n",
       "\n",
       "    .dataframe thead th {\n",
       "        text-align: right;\n",
       "    }\n",
       "</style>\n",
       "<table border=\"1\" class=\"dataframe\">\n",
       "  <thead>\n",
       "    <tr style=\"text-align: right;\">\n",
       "      <th></th>\n",
       "      <th>mean_cot_bod</th>\n",
       "      <th>mean_cot_depto</th>\n",
       "      <th>mean_cot_esta</th>\n",
       "      <th>mean_cot_estu</th>\n",
       "      <th>nro_cot_bod</th>\n",
       "      <th>nro_cot_depto</th>\n",
       "      <th>nro_cot_esta</th>\n",
       "      <th>nro_cot_estu</th>\n",
       "      <th>nro_proyectos</th>\n",
       "      <th>Altos del Valle</th>\n",
       "      <th>...</th>\n",
       "      <th>loc_provincia_Otro</th>\n",
       "      <th>loc_provincia_Santiago</th>\n",
       "      <th>loc_region_Bio-Bio</th>\n",
       "      <th>loc_region_Metropolitana</th>\n",
       "      <th>loc_region_Otro</th>\n",
       "      <th>sexo_Femenino</th>\n",
       "      <th>sexo_Masculino</th>\n",
       "      <th>sexo_Sin InformaciÃ³n</th>\n",
       "      <th>tipo_cliente_JurÃ­dico</th>\n",
       "      <th>tipo_cliente_Natural</th>\n",
       "    </tr>\n",
       "  </thead>\n",
       "  <tbody>\n",
       "    <tr>\n",
       "      <th>count</th>\n",
       "      <td>6184.000000</td>\n",
       "      <td>6184.000000</td>\n",
       "      <td>6184.000000</td>\n",
       "      <td>6184.000000</td>\n",
       "      <td>6184.000000</td>\n",
       "      <td>6184.000000</td>\n",
       "      <td>6184.000000</td>\n",
       "      <td>6184.000000</td>\n",
       "      <td>6184.000000</td>\n",
       "      <td>6184.000000</td>\n",
       "      <td>...</td>\n",
       "      <td>6184.00000</td>\n",
       "      <td>6184.000000</td>\n",
       "      <td>6184.000000</td>\n",
       "      <td>6184.000000</td>\n",
       "      <td>6184.000000</td>\n",
       "      <td>6184.000000</td>\n",
       "      <td>6184.000000</td>\n",
       "      <td>6184.000000</td>\n",
       "      <td>6184.000000</td>\n",
       "      <td>6184.000000</td>\n",
       "    </tr>\n",
       "    <tr>\n",
       "      <th>mean</th>\n",
       "      <td>0.133860</td>\n",
       "      <td>0.996063</td>\n",
       "      <td>0.279258</td>\n",
       "      <td>0.001385</td>\n",
       "      <td>0.351714</td>\n",
       "      <td>2.666397</td>\n",
       "      <td>0.699709</td>\n",
       "      <td>0.004528</td>\n",
       "      <td>1.058862</td>\n",
       "      <td>0.080207</td>\n",
       "      <td>...</td>\n",
       "      <td>0.06727</td>\n",
       "      <td>0.039133</td>\n",
       "      <td>0.928202</td>\n",
       "      <td>0.040427</td>\n",
       "      <td>0.031371</td>\n",
       "      <td>0.398771</td>\n",
       "      <td>0.580207</td>\n",
       "      <td>0.021022</td>\n",
       "      <td>0.004366</td>\n",
       "      <td>0.995634</td>\n",
       "    </tr>\n",
       "    <tr>\n",
       "      <th>std</th>\n",
       "      <td>0.327317</td>\n",
       "      <td>0.081526</td>\n",
       "      <td>0.426779</td>\n",
       "      <td>0.032708</td>\n",
       "      <td>1.110579</td>\n",
       "      <td>2.596878</td>\n",
       "      <td>1.450089</td>\n",
       "      <td>0.100035</td>\n",
       "      <td>0.260809</td>\n",
       "      <td>0.473837</td>\n",
       "      <td>...</td>\n",
       "      <td>0.25051</td>\n",
       "      <td>0.193928</td>\n",
       "      <td>0.258174</td>\n",
       "      <td>0.196974</td>\n",
       "      <td>0.174333</td>\n",
       "      <td>0.489685</td>\n",
       "      <td>0.493565</td>\n",
       "      <td>0.143469</td>\n",
       "      <td>0.065937</td>\n",
       "      <td>0.065937</td>\n",
       "    </tr>\n",
       "    <tr>\n",
       "      <th>min</th>\n",
       "      <td>0.000000</td>\n",
       "      <td>0.000000</td>\n",
       "      <td>0.000000</td>\n",
       "      <td>0.000000</td>\n",
       "      <td>0.000000</td>\n",
       "      <td>0.000000</td>\n",
       "      <td>0.000000</td>\n",
       "      <td>0.000000</td>\n",
       "      <td>1.000000</td>\n",
       "      <td>0.000000</td>\n",
       "      <td>...</td>\n",
       "      <td>0.00000</td>\n",
       "      <td>0.000000</td>\n",
       "      <td>0.000000</td>\n",
       "      <td>0.000000</td>\n",
       "      <td>0.000000</td>\n",
       "      <td>0.000000</td>\n",
       "      <td>0.000000</td>\n",
       "      <td>0.000000</td>\n",
       "      <td>0.000000</td>\n",
       "      <td>0.000000</td>\n",
       "    </tr>\n",
       "    <tr>\n",
       "      <th>25%</th>\n",
       "      <td>0.000000</td>\n",
       "      <td>1.000000</td>\n",
       "      <td>0.000000</td>\n",
       "      <td>0.000000</td>\n",
       "      <td>0.000000</td>\n",
       "      <td>1.000000</td>\n",
       "      <td>0.000000</td>\n",
       "      <td>0.000000</td>\n",
       "      <td>1.000000</td>\n",
       "      <td>0.000000</td>\n",
       "      <td>...</td>\n",
       "      <td>0.00000</td>\n",
       "      <td>0.000000</td>\n",
       "      <td>1.000000</td>\n",
       "      <td>0.000000</td>\n",
       "      <td>0.000000</td>\n",
       "      <td>0.000000</td>\n",
       "      <td>0.000000</td>\n",
       "      <td>0.000000</td>\n",
       "      <td>0.000000</td>\n",
       "      <td>1.000000</td>\n",
       "    </tr>\n",
       "    <tr>\n",
       "      <th>50%</th>\n",
       "      <td>0.000000</td>\n",
       "      <td>1.000000</td>\n",
       "      <td>0.000000</td>\n",
       "      <td>0.000000</td>\n",
       "      <td>0.000000</td>\n",
       "      <td>2.000000</td>\n",
       "      <td>0.000000</td>\n",
       "      <td>0.000000</td>\n",
       "      <td>1.000000</td>\n",
       "      <td>0.000000</td>\n",
       "      <td>...</td>\n",
       "      <td>0.00000</td>\n",
       "      <td>0.000000</td>\n",
       "      <td>1.000000</td>\n",
       "      <td>0.000000</td>\n",
       "      <td>0.000000</td>\n",
       "      <td>0.000000</td>\n",
       "      <td>1.000000</td>\n",
       "      <td>0.000000</td>\n",
       "      <td>0.000000</td>\n",
       "      <td>1.000000</td>\n",
       "    </tr>\n",
       "    <tr>\n",
       "      <th>75%</th>\n",
       "      <td>0.000000</td>\n",
       "      <td>1.000000</td>\n",
       "      <td>0.666667</td>\n",
       "      <td>0.000000</td>\n",
       "      <td>0.000000</td>\n",
       "      <td>3.000000</td>\n",
       "      <td>1.000000</td>\n",
       "      <td>0.000000</td>\n",
       "      <td>1.000000</td>\n",
       "      <td>0.000000</td>\n",
       "      <td>...</td>\n",
       "      <td>0.00000</td>\n",
       "      <td>0.000000</td>\n",
       "      <td>1.000000</td>\n",
       "      <td>0.000000</td>\n",
       "      <td>0.000000</td>\n",
       "      <td>1.000000</td>\n",
       "      <td>1.000000</td>\n",
       "      <td>0.000000</td>\n",
       "      <td>0.000000</td>\n",
       "      <td>1.000000</td>\n",
       "    </tr>\n",
       "    <tr>\n",
       "      <th>max</th>\n",
       "      <td>1.000000</td>\n",
       "      <td>3.000000</td>\n",
       "      <td>1.000000</td>\n",
       "      <td>1.000000</td>\n",
       "      <td>19.000000</td>\n",
       "      <td>45.000000</td>\n",
       "      <td>18.000000</td>\n",
       "      <td>4.000000</td>\n",
       "      <td>5.000000</td>\n",
       "      <td>10.000000</td>\n",
       "      <td>...</td>\n",
       "      <td>1.00000</td>\n",
       "      <td>1.000000</td>\n",
       "      <td>1.000000</td>\n",
       "      <td>1.000000</td>\n",
       "      <td>1.000000</td>\n",
       "      <td>1.000000</td>\n",
       "      <td>1.000000</td>\n",
       "      <td>1.000000</td>\n",
       "      <td>1.000000</td>\n",
       "      <td>1.000000</td>\n",
       "    </tr>\n",
       "  </tbody>\n",
       "</table>\n",
       "<p>8 rows × 35 columns</p>\n",
       "</div>"
      ],
      "text/plain": [
       "       mean_cot_bod  mean_cot_depto  mean_cot_esta  mean_cot_estu  \\\n",
       "count   6184.000000     6184.000000    6184.000000    6184.000000   \n",
       "mean       0.133860        0.996063       0.279258       0.001385   \n",
       "std        0.327317        0.081526       0.426779       0.032708   \n",
       "min        0.000000        0.000000       0.000000       0.000000   \n",
       "25%        0.000000        1.000000       0.000000       0.000000   \n",
       "50%        0.000000        1.000000       0.000000       0.000000   \n",
       "75%        0.000000        1.000000       0.666667       0.000000   \n",
       "max        1.000000        3.000000       1.000000       1.000000   \n",
       "\n",
       "       nro_cot_bod  nro_cot_depto  nro_cot_esta  nro_cot_estu  nro_proyectos  \\\n",
       "count  6184.000000    6184.000000   6184.000000   6184.000000    6184.000000   \n",
       "mean      0.351714       2.666397      0.699709      0.004528       1.058862   \n",
       "std       1.110579       2.596878      1.450089      0.100035       0.260809   \n",
       "min       0.000000       0.000000      0.000000      0.000000       1.000000   \n",
       "25%       0.000000       1.000000      0.000000      0.000000       1.000000   \n",
       "50%       0.000000       2.000000      0.000000      0.000000       1.000000   \n",
       "75%       0.000000       3.000000      1.000000      0.000000       1.000000   \n",
       "max      19.000000      45.000000     18.000000      4.000000       5.000000   \n",
       "\n",
       "       Altos del Valle          ...           loc_provincia_Otro  \\\n",
       "count      6184.000000          ...                   6184.00000   \n",
       "mean          0.080207          ...                      0.06727   \n",
       "std           0.473837          ...                      0.25051   \n",
       "min           0.000000          ...                      0.00000   \n",
       "25%           0.000000          ...                      0.00000   \n",
       "50%           0.000000          ...                      0.00000   \n",
       "75%           0.000000          ...                      0.00000   \n",
       "max          10.000000          ...                      1.00000   \n",
       "\n",
       "       loc_provincia_Santiago  loc_region_Bio-Bio  loc_region_Metropolitana  \\\n",
       "count             6184.000000         6184.000000               6184.000000   \n",
       "mean                 0.039133            0.928202                  0.040427   \n",
       "std                  0.193928            0.258174                  0.196974   \n",
       "min                  0.000000            0.000000                  0.000000   \n",
       "25%                  0.000000            1.000000                  0.000000   \n",
       "50%                  0.000000            1.000000                  0.000000   \n",
       "75%                  0.000000            1.000000                  0.000000   \n",
       "max                  1.000000            1.000000                  1.000000   \n",
       "\n",
       "       loc_region_Otro  sexo_Femenino  sexo_Masculino  sexo_Sin InformaciÃ³n  \\\n",
       "count      6184.000000    6184.000000     6184.000000            6184.000000   \n",
       "mean          0.031371       0.398771        0.580207               0.021022   \n",
       "std           0.174333       0.489685        0.493565               0.143469   \n",
       "min           0.000000       0.000000        0.000000               0.000000   \n",
       "25%           0.000000       0.000000        0.000000               0.000000   \n",
       "50%           0.000000       0.000000        1.000000               0.000000   \n",
       "75%           0.000000       1.000000        1.000000               0.000000   \n",
       "max           1.000000       1.000000        1.000000               1.000000   \n",
       "\n",
       "       tipo_cliente_JurÃ­dico  tipo_cliente_Natural  \n",
       "count             6184.000000           6184.000000  \n",
       "mean                 0.004366              0.995634  \n",
       "std                  0.065937              0.065937  \n",
       "min                  0.000000              0.000000  \n",
       "25%                  0.000000              1.000000  \n",
       "50%                  0.000000              1.000000  \n",
       "75%                  0.000000              1.000000  \n",
       "max                  1.000000              1.000000  \n",
       "\n",
       "[8 rows x 35 columns]"
      ]
     },
     "execution_count": 8,
     "metadata": {},
     "output_type": "execute_result"
    }
   ],
   "source": [
    "personas.describe()"
   ]
  },
  {
   "cell_type": "markdown",
   "metadata": {},
   "source": [
    "# Clustering"
   ]
  },
  {
   "cell_type": "code",
   "execution_count": 9,
   "metadata": {},
   "outputs": [
    {
     "data": {
      "image/png": "[encoded data removed]",
      "text/plain": [
       "<matplotlib.figure.Figure at 0x124fad06a58>"
      ]
     },
     "metadata": {},
     "output_type": "display_data"
    }
   ],
   "source": [
    "from sklearn.decomposition import PCA\n",
    "#check variance\n",
    "pca = PCA(n_components = 8)\n",
    "pca.fit(personas)\n",
    "\n",
    "features = range(pca.n_components_)\n",
    "\n",
    "plt.bar(features, pca.explained_variance_)\n",
    "plt.xticks(features)\n",
    "plt.ylabel('variance')\n",
    "plt.xlabel('PCA features')\n",
    "plt.show()\n"
   ]
  },
  {
   "cell_type": "code",
   "execution_count": 10,
   "metadata": {},
   "outputs": [
    {
     "data": {
      "image/png": "[encoded data removed]",
      "text/plain": [
       "<matplotlib.figure.Figure at 0x124face3748>"
      ]
     },
     "metadata": {},
     "output_type": "display_data"
    }
   ],
   "source": [
    "pca = PCA(n_components = 2)\n",
    "pca.fit(personas)\n",
    "transformed = pca.transform(personas)\n",
    "\n",
    "xs = transformed[:,0]\n",
    "ys = transformed[:,1]\n",
    "plt.scatter(xs,ys,alpha=0.5)\n",
    "plt.show()"
   ]
  },
  {
   "cell_type": "code",
   "execution_count": 11,
   "metadata": {},
   "outputs": [
    {
     "data": {
      "image/png": "[encoded data removed]",
      "text/plain": [
       "<matplotlib.figure.Figure at 0x124fca18748>"
      ]
     },
     "metadata": {},
     "output_type": "display_data"
    }
   ],
   "source": [
    "from sklearn.preprocessing import StandardScaler\n",
    "from sklearn.pipeline import make_pipeline\n",
    "from sklearn.cluster import KMeans\n",
    "\n",
    "ks = range(1,10)\n",
    "inertias = []\n",
    "scaler = StandardScaler()\n",
    "\n",
    "# for k in ks:\n",
    "#     model = KMeans(n_clusters=k)\n",
    "#     pipeline = make_pipeline(scaler,model)\n",
    "#     pipeline.fit(personas)\n",
    "#     inertias.append(pipeline.named_steps['kmeans'].inertia_)\n",
    " \n",
    "for k in ks:\n",
    "    model = KMeans(n_clusters=k)\n",
    "#     pipeline = make_pipeline(scaler,model)\n",
    "    model.fit(personas)\n",
    "    inertias.append(model.inertia_)\n",
    "    \n",
    "plt.plot(ks,inertias, '-o')\n",
    "plt.xlabel('#clusters, k')\n",
    "plt.xticks(ks)\n",
    "plt.show()"
   ]
  },
  {
   "cell_type": "code",
   "execution_count": 12,
   "metadata": {},
   "outputs": [
    {
     "data": {
      "image/png": "[encoded data removed]",
      "text/plain": [
       "<matplotlib.figure.Figure at 0x124fcb0a2b0>"
      ]
     },
     "metadata": {},
     "output_type": "display_data"
    }
   ],
   "source": [
    "#Clustering\n",
    "\n",
    "scaler = StandardScaler()\n",
    "\n",
    "km = KMeans(n_clusters=2, max_iter=300, random_state=None)\n",
    "km.fit(personas)\n",
    "\n",
    "# pipeline = make_pipeline(scaler,km)\n",
    "# pipeline.fit(personas)\n",
    "\n",
    "# clusters = km.fit_predict(personas)\n",
    "# personas['cluster'] = pipeline.fit_predict(personas)\n",
    "personas['cluster'] = km.fit_predict(personas)\n",
    "\n",
    "# Principal Component Analysis\n",
    "pca = PCA(n_components=2, whiten=True)\n",
    "pca.fit(personas)\n",
    "\n",
    "xs = pca.fit_transform(personas)[:, 0]\n",
    "ys = pca.fit_transform(personas)[:, 1]\n",
    "\n",
    "plt.scatter(xs ,ys, c=personas['cluster'],alpha=0.5)\n",
    "plt.show()\n"
   ]
  },
  {
   "cell_type": "code",
   "execution_count": 13,
   "metadata": {},
   "outputs": [
    {
     "name": "stdout",
     "output_type": "stream",
     "text": [
      "negocio   False  True \n",
      "personas              \n",
      "0          5178    358\n",
      "1           599     49\n"
     ]
    }
   ],
   "source": [
    "# Create a DataFrame with labels and varieties as columns: df\n",
    "df = pd.DataFrame({'personas': personas['cluster'], 'negocio': p_negocio})\n",
    "\n",
    "# Create crosstab: ct\n",
    "ct = pd.crosstab(df['personas'],df['negocio'])\n",
    "\n",
    "# Display ct\n",
    "print(ct)"
   ]
  },
  {
   "cell_type": "code",
   "execution_count": 14,
   "metadata": {},
   "outputs": [
    {
     "data": {
      "text/html": [
       "<div>\n",
       "<style scoped>\n",
       "    .dataframe tbody tr th:only-of-type {\n",
       "        vertical-align: middle;\n",
       "    }\n",
       "\n",
       "    .dataframe tbody tr th {\n",
       "        vertical-align: top;\n",
       "    }\n",
       "\n",
       "    .dataframe thead th {\n",
       "        text-align: right;\n",
       "    }\n",
       "</style>\n",
       "<table border=\"1\" class=\"dataframe\">\n",
       "  <thead>\n",
       "    <tr style=\"text-align: right;\">\n",
       "      <th></th>\n",
       "      <th>is_apellido1</th>\n",
       "      <th>is_appelido2</th>\n",
       "      <th>is_celular</th>\n",
       "      <th>is_direccion</th>\n",
       "      <th>is_fnac</th>\n",
       "      <th>is_nombre</th>\n",
       "      <th>is_nombrecompleto</th>\n",
       "      <th>is_telefono</th>\n",
       "      <th>mean_cot_bod</th>\n",
       "      <th>mean_cot_depto</th>\n",
       "      <th>...</th>\n",
       "      <th>loc_provincia_Otro</th>\n",
       "      <th>loc_provincia_Santiago</th>\n",
       "      <th>loc_region_Bio-Bio</th>\n",
       "      <th>loc_region_Metropolitana</th>\n",
       "      <th>loc_region_Otro</th>\n",
       "      <th>sexo_Femenino</th>\n",
       "      <th>sexo_Masculino</th>\n",
       "      <th>sexo_Sin InformaciÃ³n</th>\n",
       "      <th>tipo_cliente_JurÃ­dico</th>\n",
       "      <th>tipo_cliente_Natural</th>\n",
       "    </tr>\n",
       "    <tr>\n",
       "      <th>cluster</th>\n",
       "      <th></th>\n",
       "      <th></th>\n",
       "      <th></th>\n",
       "      <th></th>\n",
       "      <th></th>\n",
       "      <th></th>\n",
       "      <th></th>\n",
       "      <th></th>\n",
       "      <th></th>\n",
       "      <th></th>\n",
       "      <th></th>\n",
       "      <th></th>\n",
       "      <th></th>\n",
       "      <th></th>\n",
       "      <th></th>\n",
       "      <th></th>\n",
       "      <th></th>\n",
       "      <th></th>\n",
       "      <th></th>\n",
       "      <th></th>\n",
       "      <th></th>\n",
       "    </tr>\n",
       "  </thead>\n",
       "  <tbody>\n",
       "    <tr>\n",
       "      <th>0</th>\n",
       "      <td>0.995665</td>\n",
       "      <td>0.962066</td>\n",
       "      <td>0.996387</td>\n",
       "      <td>0.181178</td>\n",
       "      <td>0.109104</td>\n",
       "      <td>1.0</td>\n",
       "      <td>1.0</td>\n",
       "      <td>0.118678</td>\n",
       "      <td>0.145712</td>\n",
       "      <td>0.995875</td>\n",
       "      <td>...</td>\n",
       "      <td>0.066474</td>\n",
       "      <td>0.038475</td>\n",
       "      <td>0.930455</td>\n",
       "      <td>0.039921</td>\n",
       "      <td>0.029624</td>\n",
       "      <td>0.406431</td>\n",
       "      <td>0.570629</td>\n",
       "      <td>0.022941</td>\n",
       "      <td>0.004877</td>\n",
       "      <td>0.995123</td>\n",
       "    </tr>\n",
       "    <tr>\n",
       "      <th>1</th>\n",
       "      <td>1.000000</td>\n",
       "      <td>0.981481</td>\n",
       "      <td>1.000000</td>\n",
       "      <td>0.495370</td>\n",
       "      <td>0.412037</td>\n",
       "      <td>1.0</td>\n",
       "      <td>1.0</td>\n",
       "      <td>0.118827</td>\n",
       "      <td>0.032603</td>\n",
       "      <td>0.997671</td>\n",
       "      <td>...</td>\n",
       "      <td>0.074074</td>\n",
       "      <td>0.044753</td>\n",
       "      <td>0.908951</td>\n",
       "      <td>0.044753</td>\n",
       "      <td>0.046296</td>\n",
       "      <td>0.333333</td>\n",
       "      <td>0.662037</td>\n",
       "      <td>0.004630</td>\n",
       "      <td>0.000000</td>\n",
       "      <td>1.000000</td>\n",
       "    </tr>\n",
       "  </tbody>\n",
       "</table>\n",
       "<p>2 rows × 43 columns</p>\n",
       "</div>"
      ],
      "text/plain": [
       "         is_apellido1  is_appelido2  is_celular  is_direccion   is_fnac  \\\n",
       "cluster                                                                   \n",
       "0            0.995665      0.962066    0.996387      0.181178  0.109104   \n",
       "1            1.000000      0.981481    1.000000      0.495370  0.412037   \n",
       "\n",
       "         is_nombre  is_nombrecompleto  is_telefono  mean_cot_bod  \\\n",
       "cluster                                                            \n",
       "0              1.0                1.0     0.118678      0.145712   \n",
       "1              1.0                1.0     0.118827      0.032603   \n",
       "\n",
       "         mean_cot_depto          ...           loc_provincia_Otro  \\\n",
       "cluster                          ...                                \n",
       "0              0.995875          ...                     0.066474   \n",
       "1              0.997671          ...                     0.074074   \n",
       "\n",
       "         loc_provincia_Santiago  loc_region_Bio-Bio  loc_region_Metropolitana  \\\n",
       "cluster                                                                         \n",
       "0                      0.038475            0.930455                  0.039921   \n",
       "1                      0.044753            0.908951                  0.044753   \n",
       "\n",
       "         loc_region_Otro  sexo_Femenino  sexo_Masculino  \\\n",
       "cluster                                                   \n",
       "0               0.029624       0.406431        0.570629   \n",
       "1               0.046296       0.333333        0.662037   \n",
       "\n",
       "         sexo_Sin InformaciÃ³n  tipo_cliente_JurÃ­dico  tipo_cliente_Natural  \n",
       "cluster                                                                       \n",
       "0                     0.022941                0.004877              0.995123  \n",
       "1                     0.004630                0.000000              1.000000  \n",
       "\n",
       "[2 rows x 43 columns]"
      ]
     },
     "execution_count": 14,
     "metadata": {},
     "output_type": "execute_result"
    }
   ],
   "source": [
    "personas.groupby('cluster').mean()"
   ]
  },
  {
   "cell_type": "code",
   "execution_count": 15,
   "metadata": {},
   "outputs": [],
   "source": [
    "# from sklearn.cluster import KMeans\n",
    "\n",
    "# km = KMeans(n_clusters=2, max_iter=300, random_state=None)\n",
    "# personas['cluster'] = km.fit_predict(personas)\n",
    "\n",
    "# from sklearn.manifold import TSNE\n",
    "\n",
    "# model = TSNE(learning_rate = 100)\n",
    "# transformed = model.fit_transform(personas)\n",
    "\n",
    "# xs = transformed[:,0]\n",
    "# ys = transformed[:,1]\n",
    "# plt.scatter(xs,ys,c=personas['cluster'],alpha=0.5)\n",
    "# plt.show()"
   ]
  },
  {
   "cell_type": "code",
   "execution_count": 16,
   "metadata": {},
   "outputs": [
    {
     "name": "stdout",
     "output_type": "stream",
     "text": [
      "negocio   False  True \n",
      "personas              \n",
      "0          5178    358\n",
      "1           599     49\n"
     ]
    }
   ],
   "source": [
    "# Create a DataFrame with labels and varieties as columns: df\n",
    "df = pd.DataFrame({'personas': personas['cluster'], 'negocio': p_negocio})\n",
    "\n",
    "# Create crosstab: ct\n",
    "ct = pd.crosstab(df['personas'],df['negocio'])\n",
    "\n",
    "# Display ct\n",
    "print(ct)"
   ]
  },
  {
   "cell_type": "code",
   "execution_count": 17,
   "metadata": {},
   "outputs": [],
   "source": [
    "# personas.groupby('cluster')['negocio'].mean()"
   ]
  },
  {
   "cell_type": "markdown",
   "metadata": {},
   "source": [
    "# Supervised Learning: Classification"
   ]
  },
  {
   "cell_type": "code",
   "execution_count": 26,
   "metadata": {},
   "outputs": [],
   "source": [
    "from sklearn.model_selection import train_test_split\n",
    "from sklearn.neighbors import KNeighborsClassifier\n",
    "from sklearn.metrics import classification_report,confusion_matrix,roc_curve\n",
    "from sklearn.model_selection import GridSearchCV\n",
    "from sklearn.linear_model import LogisticRegression\n",
    "from scipy.stats import randint\n",
    "from sklearn.tree import DecisionTreeClassifier\n",
    "from sklearn.model_selection import RandomizedSearchCV\n",
    "from sklearn.ensemble import RandomForestClassifier\n",
    "from sklearn.metrics import roc_auc_score"
   ]
  },
  {
   "cell_type": "code",
   "execution_count": 19,
   "metadata": {},
   "outputs": [],
   "source": [
    "personas = personas.drop(['cluster'],axis=1)\n",
    "# p_negocio = personas.negocio\n",
    "# personas = personas.drop('negocio',axis=1)"
   ]
  },
  {
   "cell_type": "code",
   "execution_count": 20,
   "metadata": {},
   "outputs": [
    {
     "name": "stdout",
     "output_type": "stream",
     "text": [
      "Tamaño Total:  (6184, 43)\n",
      "Personas que hicieron Negocio:  (407,)\n",
      "Personas que no Hicieorn Negocio:  (5777,)\n"
     ]
    }
   ],
   "source": [
    "print(\"Tamaño Total: \",personas.shape)\n",
    "print(\"Personas que hicieron Negocio: \",p_negocio[p_negocio == True].shape)\n",
    "print(\"Personas que no Hicieorn Negocio: \",p_negocio[p_negocio == False].shape)"
   ]
  },
  {
   "cell_type": "code",
   "execution_count": 21,
   "metadata": {},
   "outputs": [
    {
     "name": "stdout",
     "output_type": "stream",
     "text": [
      "(3710, 43) (2474, 43) (3710,) (2474,)\n"
     ]
    }
   ],
   "source": [
    "# y = personas.negocio\n",
    "# X = personas.drop('negocio',axis=1)\n",
    "X = personas\n",
    "y = p_negocio\n",
    "\n",
    "\n",
    "X_train, X_test, y_train, y_test = train_test_split(X,y,test_size=0.4,random_state=42)\n",
    "print(X_train.shape,X_test.shape,y_train.shape, y_test.shape)"
   ]
  },
  {
   "cell_type": "code",
   "execution_count": 22,
   "metadata": {},
   "outputs": [],
   "source": [
    "# Import necessary modules\n",
    "def roc_curve_plot(model, X_test, y_test):\n",
    "    # Compute predicted probabilities: y_pred_prob\n",
    "    y_pred_prob = model.predict_proba(X_test)[:,1]\n",
    "\n",
    "    # Generate ROC curve values: fpr, tpr, thresholds\n",
    "    fpr, tpr, treshold = roc_curve(y_test, y_pred_prob)\n",
    "\n",
    "    # Plot ROC curve\n",
    "    plt.plot([0, 1], [0, 1], 'k--')\n",
    "    plt.plot(fpr, tpr)\n",
    "    plt.xlabel('False Positive Rate')\n",
    "    plt.ylabel('True Positive Rate')\n",
    "    plt.title('ROC Curve')\n",
    "    plt.show()"
   ]
  },
  {
   "cell_type": "code",
   "execution_count": 43,
   "metadata": {},
   "outputs": [],
   "source": [
    "def plot_confusion_matrix(model,y_test,y_pred):\n",
    "    print(confusion_matrix(y_test, y_pred))\n",
    "    print(classification_report(y_test, y_pred))\n",
    "    cm = confusion_matrix(y_test, y_pred)\n",
    "    plt.figure(figsize=(9,9))\n",
    "    sb.heatmap(cm, annot=True, fmt=\".3f\", linewidths=.5, square = True, cmap = 'Blues_r');\n",
    "    plt.ylabel('Actual label');\n",
    "    plt.xlabel('Predicted label');\n",
    "    all_sample_title = 'Acc: {0}'.format(model.score(X_test, y_test))\n",
    "    plt.title(all_sample_title, size = 10);\n",
    "    plt.show()"
   ]
  },
  {
   "cell_type": "markdown",
   "metadata": {},
   "source": [
    "## KNeighbors"
   ]
  },
  {
   "cell_type": "code",
   "execution_count": 23,
   "metadata": {},
   "outputs": [
    {
     "data": {
      "image/png": "[encoded data removed]",
      "text/plain": [
       "<matplotlib.figure.Figure at 0x124fc8a0438>"
      ]
     },
     "metadata": {},
     "output_type": "display_data"
    }
   ],
   "source": [
    "# Setup arrays to store train and test accuracies\n",
    "neighbors = np.arange(1, 10)\n",
    "train_accuracy = np.empty(len(neighbors))\n",
    "test_accuracy = np.empty(len(neighbors))\n",
    "\n",
    "# Loop over different values of k\n",
    "for i, k in enumerate(neighbors):\n",
    "    # Setup a k-NN Classifier with k neighbors: knn\n",
    "    knn = KNeighborsClassifier(n_neighbors=k)\n",
    "\n",
    "    # Fit the classifier to the training data\n",
    "    knn.fit(X_train,y_train)\n",
    "    \n",
    "    #Compute accuracy on the training set\n",
    "    train_accuracy[i] = knn.score(X_train, y_train)\n",
    "\n",
    "    #Compute accuracy on the testing set\n",
    "    test_accuracy[i] = knn.score(X_test, y_test)\n",
    "\n",
    "# Generate plot\n",
    "plt.title('k-NN: Varying Number of Neighbors')\n",
    "plt.plot(neighbors, test_accuracy, label = 'Testing Accuracy')\n",
    "plt.plot(neighbors, train_accuracy, label = 'Training Accuracy')\n",
    "plt.legend()\n",
    "plt.xlabel('Number of Neighbors')\n",
    "plt.ylabel('Accuracy')\n",
    "plt.show()\n"
   ]
  },
  {
   "cell_type": "code",
   "execution_count": 41,
   "metadata": {},
   "outputs": [
    {
     "name": "stdout",
     "output_type": "stream",
     "text": [
      "0.9272433306386418\n",
      "[[2288    5]\n",
      " [ 175    6]]\n",
      "             precision    recall  f1-score   support\n",
      "\n",
      "      False       0.93      1.00      0.96      2293\n",
      "       True       0.55      0.03      0.06       181\n",
      "\n",
      "avg / total       0.90      0.93      0.90      2474\n",
      "\n"
     ]
    }
   ],
   "source": [
    "# Instantiate a k-NN classifier: knn\n",
    "knn = KNeighborsClassifier()\n",
    "\n",
    "\n",
    "param_grid = {'n_neighbors': np.arange(1, 10)}\n",
    "knn_cv = GridSearchCV(knn, param_grid, cv=5)\n",
    "# Fit the classifier to the training data\n",
    "knn_cv.fit(X_train,y_train)\n",
    "\n",
    "# Predict the labels of the test data: y_pred\n",
    "y_pred = knn_cv.predict(X_test)\n",
    "\n",
    "print(knn_cv.score(X_test, y_test))\n"
   ]
  },
  {
   "cell_type": "code",
   "execution_count": 42,
   "metadata": {},
   "outputs": [
    {
     "data": {
      "image/png": "[encoded data removed]",
      "text/plain": [
       "<matplotlib.figure.Figure at 0x124fecf61d0>"
      ]
     },
     "metadata": {},
     "output_type": "display_data"
    }
   ],
   "source": [
    "plot_confusion_matrix(knn_cv,y_test,y_pred)"
   ]
  },
  {
   "cell_type": "code",
   "execution_count": 28,
   "metadata": {},
   "outputs": [
    {
     "data": {
      "image/png": "[encoded data removed]",
      "text/plain": [
       "<matplotlib.figure.Figure at 0x124fd319518>"
      ]
     },
     "metadata": {},
     "output_type": "display_data"
    }
   ],
   "source": [
    "roc_curve_plot(knn_cv, X_test, y_test)"
   ]
  },
  {
   "cell_type": "markdown",
   "metadata": {},
   "source": [
    "## LogisticRegression"
   ]
  },
  {
   "cell_type": "code",
   "execution_count": 30,
   "metadata": {},
   "outputs": [],
   "source": [
    "# Setup the hyperparameter grid\n",
    "c_space = np.logspace(-5, 8, 15)\n",
    "param_grid = {'C': c_space, 'penalty': ['l1', 'l2']}\n",
    "\n",
    "\n",
    "# Instantiate a logistic regression classifier: logreg\n",
    "logreg = LogisticRegression()\n",
    "\n",
    "# Instantiate the GridSearchCV object: logreg_cv\n",
    "logreg_cv = GridSearchCV(logreg, param_grid, cv=5)\n",
    "\n",
    "# Fit it to the data\n",
    "logreg_cv.fit(X,y)\n",
    "\n",
    "y_pred = logreg_cv.predict(X_test)"
   ]
  },
  {
   "cell_type": "code",
   "execution_count": 46,
   "metadata": {},
   "outputs": [
    {
     "name": "stdout",
     "output_type": "stream",
     "text": [
      "Tuned Logistic Regression Parameters: {'C': 0.4393970560760795, 'penalty': 'l2'}\n",
      "Best score is 0.9366106080206986\n",
      "[[2288    5]\n",
      " [ 175    6]]\n",
      "             precision    recall  f1-score   support\n",
      "\n",
      "      False       0.93      1.00      0.96      2293\n",
      "       True       0.55      0.03      0.06       181\n",
      "\n",
      "avg / total       0.90      0.93      0.90      2474\n",
      "\n"
     ]
    },
    {
     "data": {
      "image/png": "[encoded data removed]",
      "text/plain": [
       "<matplotlib.figure.Figure at 0x124fd7211d0>"
      ]
     },
     "metadata": {},
     "output_type": "display_data"
    }
   ],
   "source": [
    "# Print the tuned parameters and score\n",
    "print(\"Tuned Logistic Regression Parameters: {}\".format(logreg_cv.best_params_)) \n",
    "print(\"Best score is {}\".format(logreg_cv.best_score_))\n",
    "\n",
    "plot_confusion_matrix(logreg_cv,y_test,y_pred)"
   ]
  },
  {
   "cell_type": "code",
   "execution_count": 47,
   "metadata": {},
   "outputs": [
    {
     "data": {
      "image/png": "[encoded data removed]",
      "text/plain": [
       "<matplotlib.figure.Figure at 0x124fd7213c8>"
      ]
     },
     "metadata": {},
     "output_type": "display_data"
    }
   ],
   "source": [
    "roc_curve_plot(logreg_cv, X_test, y_test)"
   ]
  },
  {
   "cell_type": "code",
   "execution_count": 48,
   "metadata": {},
   "outputs": [
    {
     "data": {
      "text/plain": [
       "0.8108957600961852"
      ]
     },
     "execution_count": 48,
     "metadata": {},
     "output_type": "execute_result"
    }
   ],
   "source": [
    "y_pred_prob = logreg_cv.predict_proba(X_test)[:,1]\n",
    "\n",
    "roc_auc_score(y_test,y_pred_prob)"
   ]
  },
  {
   "cell_type": "markdown",
   "metadata": {},
   "source": [
    "## DecisionTree"
   ]
  },
  {
   "cell_type": "code",
   "execution_count": 35,
   "metadata": {},
   "outputs": [],
   "source": [
    "# Setup the parameters and distributions to sample from: param_dist\n",
    "param_dist = {\"max_depth\": [3, None],\n",
    "              \"max_features\": randint(1, 30),\n",
    "              \"min_samples_leaf\": randint(1, 9),\n",
    "              \"criterion\": [\"gini\", \"entropy\"]}\n",
    "\n",
    "# Instantiate a Decision Tree classifier: tree\n",
    "tree = DecisionTreeClassifier()\n",
    "\n",
    "# Instantiate the RandomizedSearchCV object: tree_cv\n",
    "tree_cv = RandomizedSearchCV(tree, param_dist, cv=5)\n",
    "\n",
    "# Fit it to the data\n",
    "tree_cv.fit(X_train,y_train)\n",
    "\n",
    "y_pred = tree_cv.predict(X_test)"
   ]
  },
  {
   "cell_type": "code",
   "execution_count": 49,
   "metadata": {},
   "outputs": [
    {
     "name": "stdout",
     "output_type": "stream",
     "text": [
      "Tuned Decision Tree Parameters: {'criterion': 'entropy', 'max_depth': 3, 'max_features': 12, 'min_samples_leaf': 2}\n",
      "Best score is 0.9388140161725067\n",
      "[[2288    5]\n",
      " [ 175    6]]\n",
      "             precision    recall  f1-score   support\n",
      "\n",
      "      False       0.93      1.00      0.96      2293\n",
      "       True       0.55      0.03      0.06       181\n",
      "\n",
      "avg / total       0.90      0.93      0.90      2474\n",
      "\n"
     ]
    },
    {
     "data": {
      "image/png": "[encoded data removed]",
      "text/plain": [
       "<matplotlib.figure.Figure at 0x124fcbd1860>"
      ]
     },
     "metadata": {},
     "output_type": "display_data"
    }
   ],
   "source": [
    "# Print the tuned parameters and score\n",
    "print(\"Tuned Decision Tree Parameters: {}\".format(tree_cv.best_params_))\n",
    "print(\"Best score is {}\".format(tree_cv.best_score_))\n",
    "\n",
    "plot_confusion_matrix(tree_cv,y_test,y_pred)"
   ]
  },
  {
   "cell_type": "markdown",
   "metadata": {},
   "source": [
    "### RandomForest"
   ]
  },
  {
   "cell_type": "code",
   "execution_count": 53,
   "metadata": {},
   "outputs": [
    {
     "data": {
      "text/plain": [
       "array([False, False, False, ..., False, False, False])"
      ]
     },
     "metadata": {},
     "output_type": "display_data"
    },
    {
     "name": "stdout",
     "output_type": "stream",
     "text": [
      "Accuracy:  0.9276475343573161\n"
     ]
    }
   ],
   "source": [
    "# Set up our RandomForestClassifier instance and fit to data\n",
    "randomForest = RandomForestClassifier()\n",
    "\n",
    "param_grid = {\"max_depth\": [3, None],\n",
    "              \"max_features\": [1, 3, 10],\n",
    "              \"min_samples_split\": [2, 3, 10],\n",
    "              \"min_samples_leaf\": [1, 3, 10],\n",
    "              \"bootstrap\": [True, False],\n",
    "              \"criterion\": [\"gini\", \"entropy\"]}\n",
    "\n",
    "randomForest_cv = GridSearchCV(randomForest, param_grid, cv=5)\n",
    "randomForest_cv.fit(X_train, y_train)\n",
    "\n",
    "# Make predictions\n",
    "predictions = randomForest_cv.predict(X_test)\n",
    "probs = randomForest_cv.predict_proba(X_test)\n",
    "display(predictions)\n",
    "\n",
    "score = randomForest_cv.score(X_test, y_test)\n",
    "print(\"Accuracy: \", score)"
   ]
  },
  {
   "cell_type": "code",
   "execution_count": 57,
   "metadata": {},
   "outputs": [
    {
     "name": "stdout",
     "output_type": "stream",
     "text": [
      "[[2288    5]\n",
      " [ 175    6]]\n",
      "             precision    recall  f1-score   support\n",
      "\n",
      "      False       0.93      1.00      0.96      2293\n",
      "       True       0.55      0.03      0.06       181\n",
      "\n",
      "avg / total       0.90      0.93      0.90      2474\n",
      "\n"
     ]
    },
    {
     "data": {
      "image/png": "[encoded data removed]",
      "text/plain": [
       "<matplotlib.figure.Figure at 0x124fd6ca390>"
      ]
     },
     "metadata": {},
     "output_type": "display_data"
    }
   ],
   "source": [
    "plot_confusion_matrix(randomForest_cv,y_test,y_pred)"
   ]
  },
  {
   "cell_type": "code",
   "execution_count": 56,
   "metadata": {},
   "outputs": [
    {
     "data": {
      "image/png": "[encoded data removed]",
      "text/plain": [
       "<matplotlib.figure.Figure at 0x124fed039e8>"
      ]
     },
     "metadata": {},
     "output_type": "display_data"
    }
   ],
   "source": [
    "get_ipython().magic('matplotlib inline')\n",
    "# confusion_matrix = pd.DataFrame(\n",
    "#     confusion_matrix(y_test, predictions), \n",
    "#     columns=[\"Predicted False\", \"Predicted True\"], \n",
    "#     index=[\"Actual False\", \"Actual True\"]\n",
    "# )\n",
    "# display(confusion_matrix)\n",
    "\n",
    "roc_curve_plot(randomForest_cv,X_test,y_test)"
   ]
  },
  {
   "cell_type": "code",
   "execution_count": 61,
   "metadata": {},
   "outputs": [
    {
     "data": {
      "text/html": [
       "<div>\n",
       "<style scoped>\n",
       "    .dataframe tbody tr th:only-of-type {\n",
       "        vertical-align: middle;\n",
       "    }\n",
       "\n",
       "    .dataframe tbody tr th {\n",
       "        vertical-align: top;\n",
       "    }\n",
       "\n",
       "    .dataframe thead th {\n",
       "        text-align: right;\n",
       "    }\n",
       "</style>\n",
       "<table border=\"1\" class=\"dataframe\">\n",
       "  <thead>\n",
       "    <tr style=\"text-align: right;\">\n",
       "      <th></th>\n",
       "      <th>importance</th>\n",
       "      <th>labels</th>\n",
       "    </tr>\n",
       "  </thead>\n",
       "  <tbody>\n",
       "    <tr>\n",
       "      <th>3</th>\n",
       "      <td>0.250876</td>\n",
       "      <td>is_direccion</td>\n",
       "    </tr>\n",
       "    <tr>\n",
       "      <th>4</th>\n",
       "      <td>0.102300</td>\n",
       "      <td>is_fnac</td>\n",
       "    </tr>\n",
       "    <tr>\n",
       "      <th>13</th>\n",
       "      <td>0.091524</td>\n",
       "      <td>nro_cot_depto</td>\n",
       "    </tr>\n",
       "    <tr>\n",
       "      <th>19</th>\n",
       "      <td>0.084325</td>\n",
       "      <td>San Andres Del Valle</td>\n",
       "    </tr>\n",
       "    <tr>\n",
       "      <th>9</th>\n",
       "      <td>0.071717</td>\n",
       "      <td>mean_cot_depto</td>\n",
       "    </tr>\n",
       "  </tbody>\n",
       "</table>\n",
       "</div>"
      ],
      "text/plain": [
       "    importance                labels\n",
       "3     0.250876          is_direccion\n",
       "4     0.102300               is_fnac\n",
       "13    0.091524         nro_cot_depto\n",
       "19    0.084325  San Andres Del Valle\n",
       "9     0.071717        mean_cot_depto"
      ]
     },
     "metadata": {},
     "output_type": "display_data"
    },
    {
     "data": {
      "image/png": "[encoded data removed]",
      "text/plain": [
       "<matplotlib.figure.Figure at 0x124fd3d34e0>"
      ]
     },
     "metadata": {},
     "output_type": "display_data"
    }
   ],
   "source": [
    "features = personas.columns\n",
    "\n",
    "fig = plt.figure(figsize=(20, 18))\n",
    "ax = fig.add_subplot(111)\n",
    "\n",
    "df_f = pd.DataFrame(randomForest_cv.best_estimator_.feature_importances_, columns=[\"importance\"])\n",
    "df_f[\"labels\"] = features\n",
    "df_f.sort_values(\"importance\", inplace=True, ascending=False)\n",
    "display(df_f.head(5))\n",
    "\n",
    "index = np.arange(len(randomForest_cv.best_estimator_.feature_importances_))\n",
    "bar_width = 0.5\n",
    "rects = plt.barh(index , df_f[\"importance\"], bar_width, alpha=0.4, color='b', label='Main')\n",
    "plt.yticks(index, df_f[\"labels\"])\n",
    "plt.show()"
   ]
  }
 ],
 "metadata": {
  "kernelspec": {
   "display_name": "Python 3",
   "language": "python",
   "name": "python3"
  },
  "language_info": {
   "codemirror_mode": {
    "name": "ipython",
    "version": 3
   },
   "file_extension": ".py",
   "mimetype": "text/x-python",
   "name": "python",
   "nbconvert_exporter": "python",
   "pygments_lexer": "ipython3",
   "version": "3.6.4"
  }
 },
 "nbformat": 4,
 "nbformat_minor": 2
}
