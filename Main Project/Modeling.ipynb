{
 "cells": [
  {
   "cell_type": "code",
   "execution_count": 1,
   "metadata": {
    "collapsed": true
   },
   "outputs": [],
   "source": [
    "import os\n",
    "import numpy as np\n",
    "import seaborn as sb\n",
    "sb.set()\n",
    "import matplotlib.pyplot as plt\n",
    "import pandas as pd"
   ]
  },
  {
   "cell_type": "code",
   "execution_count": 2,
   "metadata": {},
   "outputs": [
    {
     "name": "stdout",
     "output_type": "stream",
     "text": [
      "not set\n"
     ]
    }
   ],
   "source": [
    "import os\n",
    "if os.environ.get(\"AITUEDATA\"):\n",
    "    print('set')\n",
    "    data_directory = os.environ['AITUEDATA']\n",
    "else:\n",
    "    print('not set')\n",
    "    #Eusebio\n",
    "    data_directory = \"C:/Users/joaquin/Desktop/mem_aitue/Datos/\"\n",
    "    #Mini-Eusebio\n",
    "#     data_directory = \"C:/Users/jquin/Desktop/Memoria de Titulo/Aitue/Datos/\"\n",
    "    #PC-Mem\n",
    "#     data_directory = \"C:/Users/Joaquin/Desktop/mem_aitue/Datos/\""
   ]
  },
  {
   "cell_type": "code",
   "execution_count": 3,
   "metadata": {},
   "outputs": [
    {
     "data": {
      "text/html": [
       "<div>\n",
       "<style>\n",
       "    .dataframe thead tr:only-child th {\n",
       "        text-align: right;\n",
       "    }\n",
       "\n",
       "    .dataframe thead th {\n",
       "        text-align: left;\n",
       "    }\n",
       "\n",
       "    .dataframe tbody tr th {\n",
       "        vertical-align: top;\n",
       "    }\n",
       "</style>\n",
       "<table border=\"1\" class=\"dataframe\">\n",
       "  <thead>\n",
       "    <tr style=\"text-align: right;\">\n",
       "      <th></th>\n",
       "      <th>mean_cot_bod</th>\n",
       "      <th>mean_cot_depto</th>\n",
       "      <th>mean_cot_esta</th>\n",
       "      <th>mean_cot_estu</th>\n",
       "      <th>negocio</th>\n",
       "      <th>nro_cot_bod</th>\n",
       "      <th>nro_cot_depto</th>\n",
       "      <th>nro_cot_esta</th>\n",
       "      <th>nro_cot_estu</th>\n",
       "      <th>nro_proyectos</th>\n",
       "      <th>...</th>\n",
       "      <th>loc_comuna_San Pedro de la Paz</th>\n",
       "      <th>loc_comuna_Talcahuano</th>\n",
       "      <th>loc_provincia_Arica</th>\n",
       "      <th>loc_provincia_Concepcion</th>\n",
       "      <th>loc_provincia_Isla de Pascua</th>\n",
       "      <th>loc_provincia_Otro</th>\n",
       "      <th>loc_provincia_Santiago</th>\n",
       "      <th>loc_region_Bio-Bio</th>\n",
       "      <th>loc_region_Metropolitana</th>\n",
       "      <th>loc_region_Otro</th>\n",
       "    </tr>\n",
       "  </thead>\n",
       "  <tbody>\n",
       "    <tr>\n",
       "      <th>0</th>\n",
       "      <td>0.0</td>\n",
       "      <td>1.0</td>\n",
       "      <td>0.0</td>\n",
       "      <td>0.0</td>\n",
       "      <td>False</td>\n",
       "      <td>0</td>\n",
       "      <td>1</td>\n",
       "      <td>0</td>\n",
       "      <td>0</td>\n",
       "      <td>1</td>\n",
       "      <td>...</td>\n",
       "      <td>0</td>\n",
       "      <td>0</td>\n",
       "      <td>0</td>\n",
       "      <td>1</td>\n",
       "      <td>0</td>\n",
       "      <td>0</td>\n",
       "      <td>0</td>\n",
       "      <td>1</td>\n",
       "      <td>0</td>\n",
       "      <td>0</td>\n",
       "    </tr>\n",
       "    <tr>\n",
       "      <th>1</th>\n",
       "      <td>0.0</td>\n",
       "      <td>1.0</td>\n",
       "      <td>0.0</td>\n",
       "      <td>0.0</td>\n",
       "      <td>False</td>\n",
       "      <td>0</td>\n",
       "      <td>1</td>\n",
       "      <td>0</td>\n",
       "      <td>0</td>\n",
       "      <td>1</td>\n",
       "      <td>...</td>\n",
       "      <td>0</td>\n",
       "      <td>0</td>\n",
       "      <td>0</td>\n",
       "      <td>1</td>\n",
       "      <td>0</td>\n",
       "      <td>0</td>\n",
       "      <td>0</td>\n",
       "      <td>1</td>\n",
       "      <td>0</td>\n",
       "      <td>0</td>\n",
       "    </tr>\n",
       "    <tr>\n",
       "      <th>2</th>\n",
       "      <td>0.0</td>\n",
       "      <td>1.0</td>\n",
       "      <td>0.0</td>\n",
       "      <td>0.0</td>\n",
       "      <td>False</td>\n",
       "      <td>0</td>\n",
       "      <td>1</td>\n",
       "      <td>0</td>\n",
       "      <td>0</td>\n",
       "      <td>1</td>\n",
       "      <td>...</td>\n",
       "      <td>0</td>\n",
       "      <td>0</td>\n",
       "      <td>0</td>\n",
       "      <td>1</td>\n",
       "      <td>0</td>\n",
       "      <td>0</td>\n",
       "      <td>0</td>\n",
       "      <td>1</td>\n",
       "      <td>0</td>\n",
       "      <td>0</td>\n",
       "    </tr>\n",
       "    <tr>\n",
       "      <th>3</th>\n",
       "      <td>0.5</td>\n",
       "      <td>1.0</td>\n",
       "      <td>0.5</td>\n",
       "      <td>0.0</td>\n",
       "      <td>False</td>\n",
       "      <td>1</td>\n",
       "      <td>2</td>\n",
       "      <td>1</td>\n",
       "      <td>0</td>\n",
       "      <td>2</td>\n",
       "      <td>...</td>\n",
       "      <td>0</td>\n",
       "      <td>0</td>\n",
       "      <td>0</td>\n",
       "      <td>1</td>\n",
       "      <td>0</td>\n",
       "      <td>0</td>\n",
       "      <td>0</td>\n",
       "      <td>1</td>\n",
       "      <td>0</td>\n",
       "      <td>0</td>\n",
       "    </tr>\n",
       "    <tr>\n",
       "      <th>4</th>\n",
       "      <td>1.0</td>\n",
       "      <td>1.0</td>\n",
       "      <td>1.0</td>\n",
       "      <td>1.0</td>\n",
       "      <td>False</td>\n",
       "      <td>2</td>\n",
       "      <td>2</td>\n",
       "      <td>2</td>\n",
       "      <td>2</td>\n",
       "      <td>1</td>\n",
       "      <td>...</td>\n",
       "      <td>0</td>\n",
       "      <td>0</td>\n",
       "      <td>0</td>\n",
       "      <td>1</td>\n",
       "      <td>0</td>\n",
       "      <td>0</td>\n",
       "      <td>0</td>\n",
       "      <td>1</td>\n",
       "      <td>0</td>\n",
       "      <td>0</td>\n",
       "    </tr>\n",
       "  </tbody>\n",
       "</table>\n",
       "<p>5 rows × 31 columns</p>\n",
       "</div>"
      ],
      "text/plain": [
       "   mean_cot_bod  mean_cot_depto  mean_cot_esta  mean_cot_estu  negocio  \\\n",
       "0           0.0             1.0            0.0            0.0    False   \n",
       "1           0.0             1.0            0.0            0.0    False   \n",
       "2           0.0             1.0            0.0            0.0    False   \n",
       "3           0.5             1.0            0.5            0.0    False   \n",
       "4           1.0             1.0            1.0            1.0    False   \n",
       "\n",
       "   nro_cot_bod  nro_cot_depto  nro_cot_esta  nro_cot_estu  nro_proyectos  \\\n",
       "0            0              1             0             0              1   \n",
       "1            0              1             0             0              1   \n",
       "2            0              1             0             0              1   \n",
       "3            1              2             1             0              2   \n",
       "4            2              2             2             2              1   \n",
       "\n",
       "        ...         loc_comuna_San Pedro de la Paz  loc_comuna_Talcahuano  \\\n",
       "0       ...                                      0                      0   \n",
       "1       ...                                      0                      0   \n",
       "2       ...                                      0                      0   \n",
       "3       ...                                      0                      0   \n",
       "4       ...                                      0                      0   \n",
       "\n",
       "   loc_provincia_Arica  loc_provincia_Concepcion  \\\n",
       "0                    0                         1   \n",
       "1                    0                         1   \n",
       "2                    0                         1   \n",
       "3                    0                         1   \n",
       "4                    0                         1   \n",
       "\n",
       "   loc_provincia_Isla de Pascua  loc_provincia_Otro  loc_provincia_Santiago  \\\n",
       "0                             0                   0                       0   \n",
       "1                             0                   0                       0   \n",
       "2                             0                   0                       0   \n",
       "3                             0                   0                       0   \n",
       "4                             0                   0                       0   \n",
       "\n",
       "   loc_region_Bio-Bio  loc_region_Metropolitana  loc_region_Otro  \n",
       "0                   1                         0                0  \n",
       "1                   1                         0                0  \n",
       "2                   1                         0                0  \n",
       "3                   1                         0                0  \n",
       "4                   1                         0                0  \n",
       "\n",
       "[5 rows x 31 columns]"
      ]
     },
     "execution_count": 3,
     "metadata": {},
     "output_type": "execute_result"
    }
   ],
   "source": [
    "personas = pd.read_csv(data_directory+'personas.csv')\n",
    "personas = personas.drop(personas.columns[0], axis=1)\n",
    "personas = personas.drop(['rut'], axis=1)\n",
    "personas = pd.get_dummies(personas)\n",
    "personas.head()"
   ]
  },
  {
   "cell_type": "code",
   "execution_count": 4,
   "metadata": {},
   "outputs": [
    {
     "data": {
      "text/plain": [
       "Index(['mean_cot_bod', 'mean_cot_depto', 'mean_cot_esta', 'mean_cot_estu',\n",
       "       'negocio', 'nro_cot_bod', 'nro_cot_depto', 'nro_cot_esta',\n",
       "       'nro_cot_estu', 'nro_proyectos', 'loc_comuna_Antofagasta',\n",
       "       'loc_comuna_Chiguayante', 'loc_comuna_Concepción', 'loc_comuna_Coronel',\n",
       "       'loc_comuna_Hualpén', 'loc_comuna_Isla de Pascua', 'loc_comuna_Lampa',\n",
       "       'loc_comuna_Los Ángeles', 'loc_comuna_Otro', 'loc_comuna_Penco',\n",
       "       'loc_comuna_Pirque', 'loc_comuna_San Pedro de la Paz',\n",
       "       'loc_comuna_Talcahuano', 'loc_provincia_Arica',\n",
       "       'loc_provincia_Concepcion', 'loc_provincia_Isla de Pascua',\n",
       "       'loc_provincia_Otro', 'loc_provincia_Santiago', 'loc_region_Bio-Bio',\n",
       "       'loc_region_Metropolitana', 'loc_region_Otro'],\n",
       "      dtype='object')"
      ]
     },
     "execution_count": 4,
     "metadata": {},
     "output_type": "execute_result"
    }
   ],
   "source": [
    "personas.columns"
   ]
  },
  {
   "cell_type": "code",
   "execution_count": 5,
   "metadata": {
    "collapsed": true
   },
   "outputs": [],
   "source": [
    "# num_list = ['mean_cot_bod', 'mean_cot_depto', 'mean_cot_esta', 'mean_cot_estu',\n",
    "#        'nro_cot_bod', 'nro_cot_depto', 'nro_cot_esta',\n",
    "#        'nro_cot_estu', 'nro_proyectos', 'loc_comuna_Antofagasta',\n",
    "#        'loc_comuna_Chiguayante', 'loc_comuna_Concepción', 'loc_comuna_Coronel',\n",
    "#        'loc_comuna_Hualpén', 'loc_comuna_Isla de Pascua', 'loc_comuna_Lampa',\n",
    "#        'loc_comuna_Los Ángeles', 'loc_comuna_Otro', 'loc_comuna_Penco',\n",
    "#        'loc_comuna_Pirque', 'loc_comuna_San Pedro de la Paz',\n",
    "#        'loc_comuna_Talcahuano', 'loc_provincia_Arica',\n",
    "#        'loc_provincia_Concepcion', 'loc_provincia_Isla de Pascua',\n",
    "#        'loc_provincia_Otro', 'loc_provincia_Santiago', 'loc_region_Bio-Bio',\n",
    "#        'loc_region_Metropolitana', 'loc_region_Otro']"
   ]
  },
  {
   "cell_type": "code",
   "execution_count": 6,
   "metadata": {},
   "outputs": [],
   "source": [
    "# personas = personas[num_list]"
   ]
  },
  {
   "cell_type": "markdown",
   "metadata": {},
   "source": [
    "# Clustering"
   ]
  },
  {
   "cell_type": "code",
   "execution_count": 7,
   "metadata": {},
   "outputs": [
    {
     "data": {
      "image/png": "[encoded data removed]",
      "text/plain": [
       "<matplotlib.figure.Figure at 0x27004635898>"
      ]
     },
     "metadata": {},
     "output_type": "display_data"
    }
   ],
   "source": [
    "from sklearn.decomposition import PCA\n",
    "\n",
    "pca = PCA(n_components = 2)\n",
    "pca.fit(personas)\n",
    "transformed = pca.transform(personas)\n",
    "\n",
    "# xs = pca.fit_transform(personas)[:, 0]\n",
    "# ys = pca.fit_transform(personas)[:, 1]\n",
    "\n",
    "xs = transformed[:,0]\n",
    "ys = transformed[:,1]\n",
    "plt.scatter(xs,ys)\n",
    "plt.show()"
   ]
  },
  {
   "cell_type": "code",
   "execution_count": 27,
   "metadata": {},
   "outputs": [
    {
     "data": {
      "image/png": "[encoded data removed]",
      "text/plain": [
       "<matplotlib.figure.Figure at 0x27005a74b38>"
      ]
     },
     "metadata": {},
     "output_type": "display_data"
    }
   ],
   "source": [
    "#check variance\n",
    "pca = PCA(n_components = 8)\n",
    "pca.fit(personas)\n",
    "\n",
    "features = range(pca.n_components_)\n",
    "\n",
    "plt.bar(features, pca.explained_variance_)\n",
    "plt.xticks(features)\n",
    "plt.ylabel('variance')\n",
    "plt.xlabel('PCA features')\n",
    "plt.show()\n"
   ]
  },
  {
   "cell_type": "code",
   "execution_count": 26,
   "metadata": {},
   "outputs": [
    {
     "data": {
      "image/png": "[encoded data removed]",
      "text/plain": [
       "<matplotlib.figure.Figure at 0x2700590f7b8>"
      ]
     },
     "metadata": {},
     "output_type": "display_data"
    }
   ],
   "source": [
    "ks = range(1,10)\n",
    "inertias = []\n",
    "for k in ks:\n",
    "    model = KMeans(n_clusters=k)\n",
    "    model.fit(personas)\n",
    "    inertias.append(model.inertia_)\n",
    "    \n",
    "plt.plot(ks,inertias, '-o')\n",
    "plt.xlabel('#clusters, k')\n",
    "plt.xticks(ks)\n",
    "plt.show()"
   ]
  },
  {
   "cell_type": "code",
   "execution_count": 28,
   "metadata": {},
   "outputs": [
    {
     "data": {
      "image/png": "[encoded data removed]",
      "text/plain": [
       "<matplotlib.figure.Figure at 0x270058a4748>"
      ]
     },
     "metadata": {},
     "output_type": "display_data"
    }
   ],
   "source": [
    "#Clustering\n",
    "from sklearn.cluster import KMeans\n",
    "\n",
    "km = KMeans(n_clusters=2, max_iter=300, random_state=None)\n",
    "clusters = km.fit_predict(personas)\n",
    "\n",
    "# Principal Component Analysis\n",
    "pca = PCA(n_components=2, whiten=True)\n",
    "pca.fit(personas)\n",
    "\n",
    "xs = pca.fit_transform(personas)[:, 0]\n",
    "ys = pca.fit_transform(personas)[:, 1]\n",
    "\n",
    "plt.scatter(xs ,ys, c=clusters)\n",
    "plt.show()\n"
   ]
  },
  {
   "cell_type": "code",
   "execution_count": 29,
   "metadata": {},
   "outputs": [
    {
     "data": {
      "image/png": "[encoded data removed]",
      "text/plain": [
       "<matplotlib.figure.Figure at 0x27004cac320>"
      ]
     },
     "metadata": {},
     "output_type": "display_data"
    }
   ],
   "source": [
    "from sklearn.cluster import KMeans\n",
    "\n",
    "km = KMeans(n_clusters=2, max_iter=300, random_state=None)\n",
    "personas['cluster'] = km.fit_predict(personas)\n",
    "\n",
    "from sklearn.manifold import TSNE\n",
    "\n",
    "model = TSNE(learning_rate = 100)\n",
    "transformed = model.fit_transform(personas)\n",
    "\n",
    "xs = transformed[:,0]\n",
    "ys = transformed[:,1]\n",
    "plt.scatter(xs,ys,c=personas['cluster'])\n",
    "plt.show()"
   ]
  },
  {
   "cell_type": "code",
   "execution_count": 34,
   "metadata": {},
   "outputs": [
    {
     "data": {
      "text/plain": [
       "cluster\n",
       "0    0.065799\n",
       "1    0.065920\n",
       "Name: negocio, dtype: float64"
      ]
     },
     "execution_count": 34,
     "metadata": {},
     "output_type": "execute_result"
    }
   ],
   "source": [
    "personas.groupby('cluster')['negocio'].mean()"
   ]
  },
  {
   "cell_type": "markdown",
   "metadata": {},
   "source": [
    "# Supervised Learning: Classification"
   ]
  },
  {
   "cell_type": "code",
   "execution_count": 54,
   "metadata": {},
   "outputs": [
    {
     "name": "stdout",
     "output_type": "stream",
     "text": [
      "(6184, 32)\n",
      "(407, 32)\n",
      "(5777, 32)\n"
     ]
    }
   ],
   "source": [
    "print(personas.shape)\n",
    "print(personas[personas.negocio == True].shape)\n",
    "print(personas[personas.negocio == False].shape)"
   ]
  },
  {
   "cell_type": "code",
   "execution_count": 49,
   "metadata": {
    "collapsed": true
   },
   "outputs": [],
   "source": [
    "X = personas.drop('negocio',axis=1)\n",
    "y = personas.negocio\n",
    "\n",
    "from sklearn.model_selection import train_test_split\n",
    "X_train, X_test, y_train, y_test = train_test_split(X,y,test_size=0.4,random_state=42)"
   ]
  },
  {
   "cell_type": "code",
   "execution_count": 51,
   "metadata": {},
   "outputs": [
    {
     "data": {
      "image/png": "[encoded data removed]",
      "text/plain": [
       "<matplotlib.figure.Figure at 0x2700561c2b0>"
      ]
     },
     "metadata": {},
     "output_type": "display_data"
    }
   ],
   "source": [
    "# Setup arrays to store train and test accuracies\n",
    "neighbors = np.arange(1, 9)\n",
    "train_accuracy = np.empty(len(neighbors))\n",
    "test_accuracy = np.empty(len(neighbors))\n",
    "\n",
    "# Loop over different values of k\n",
    "for i, k in enumerate(neighbors):\n",
    "    # Setup a k-NN Classifier with k neighbors: knn\n",
    "    knn = KNeighborsClassifier(n_neighbors=k)\n",
    "\n",
    "    # Fit the classifier to the training data\n",
    "    knn.fit(X_train,y_train)\n",
    "    \n",
    "    #Compute accuracy on the training set\n",
    "    train_accuracy[i] = knn.score(X_train, y_train)\n",
    "\n",
    "    #Compute accuracy on the testing set\n",
    "    test_accuracy[i] = knn.score(X_test, y_test)\n",
    "\n",
    "# Generate plot\n",
    "plt.title('k-NN: Varying Number of Neighbors')\n",
    "plt.plot(neighbors, test_accuracy, label = 'Testing Accuracy')\n",
    "plt.plot(neighbors, train_accuracy, label = 'Training Accuracy')\n",
    "plt.legend()\n",
    "plt.xlabel('Number of Neighbors')\n",
    "plt.ylabel('Accuracy')\n",
    "plt.show()\n"
   ]
  },
  {
   "cell_type": "markdown",
   "metadata": {},
   "source": [
    "## KNeighors"
   ]
  },
  {
   "cell_type": "code",
   "execution_count": 52,
   "metadata": {},
   "outputs": [
    {
     "name": "stdout",
     "output_type": "stream",
     "text": [
      "0.937348423605\n",
      "[[2318    0]\n",
      " [ 155    1]]\n",
      "             precision    recall  f1-score   support\n",
      "\n",
      "      False       0.94      1.00      0.97      2318\n",
      "       True       1.00      0.01      0.01       156\n",
      "\n",
      "avg / total       0.94      0.94      0.91      2474\n",
      "\n"
     ]
    }
   ],
   "source": [
    "#KNeighbors\n",
    "\n",
    "# Import necessary modules\n",
    "from sklearn.metrics import classification_report,confusion_matrix\n",
    "from sklearn.neighbors import KNeighborsClassifier\n",
    "\n",
    "# Instantiate a k-NN classifier: knn\n",
    "knn = KNeighborsClassifier(n_neighbors=4)\n",
    "\n",
    "# Fit the classifier to the training data\n",
    "knn.fit(X_train,y_train)\n",
    "\n",
    "# Predict the labels of the test data: y_pred\n",
    "y_pred = knn.predict(X_test)\n",
    "\n",
    "print(knn.score(X_test, y_test))\n",
    "\n",
    "# Generate the confusion matrix and classification report\n",
    "print(confusion_matrix(y_test, y_pred))\n",
    "print(classification_report(y_test, y_pred))\n"
   ]
  },
  {
   "cell_type": "markdown",
   "metadata": {},
   "source": [
    "## LogisticRegression"
   ]
  },
  {
   "cell_type": "code",
   "execution_count": 55,
   "metadata": {},
   "outputs": [
    {
     "data": {
      "text/plain": [
       "GridSearchCV(cv=5, error_score='raise',\n",
       "       estimator=LogisticRegression(C=1.0, class_weight=None, dual=False, fit_intercept=True,\n",
       "          intercept_scaling=1, max_iter=100, multi_class='ovr', n_jobs=1,\n",
       "          penalty='l2', random_state=None, solver='liblinear', tol=0.0001,\n",
       "          verbose=0, warm_start=False),\n",
       "       fit_params=None, iid=True, n_jobs=1,\n",
       "       param_grid={'C': array([  1.00000e-05,   8.48343e-05,   7.19686e-04,   6.10540e-03,\n",
       "         5.17947e-02,   4.39397e-01,   3.72759e+00,   3.16228e+01,\n",
       "         2.68270e+02,   2.27585e+03,   1.93070e+04,   1.63789e+05,\n",
       "         1.38950e+06,   1.17877e+07,   1.00000e+08]), 'penalty': ['l1', 'l2']},\n",
       "       pre_dispatch='2*n_jobs', refit=True, return_train_score='warn',\n",
       "       scoring=None, verbose=0)"
      ]
     },
     "execution_count": 55,
     "metadata": {},
     "output_type": "execute_result"
    }
   ],
   "source": [
    "#LogisticRegression\n",
    "# Import necessary modules\n",
    "from sklearn.model_selection import GridSearchCV\n",
    "from sklearn.linear_model import LogisticRegression\n",
    "\n",
    "# Setup the hyperparameter grid\n",
    "c_space = np.logspace(-5, 8, 15)\n",
    "param_grid = {'C': c_space, 'penalty': ['l1', 'l2']}\n",
    "\n",
    "\n",
    "# Instantiate a logistic regression classifier: logreg\n",
    "logreg = LogisticRegression()\n",
    "\n",
    "# Instantiate the GridSearchCV object: logreg_cv\n",
    "logreg_cv = GridSearchCV(logreg, param_grid, cv=5)\n",
    "\n",
    "# Fit it to the data\n",
    "logreg_cv.fit(X,y)"
   ]
  },
  {
   "cell_type": "code",
   "execution_count": 56,
   "metadata": {},
   "outputs": [
    {
     "name": "stdout",
     "output_type": "stream",
     "text": [
      "Tuned Logistic Regression Parameters: {'C': 1.0000000000000001e-05, 'penalty': 'l1'}\n",
      "Best score is 0.9341849935316947\n",
      "0.936944219887\n"
     ]
    }
   ],
   "source": [
    "# Print the tuned parameters and score\n",
    "print(\"Tuned Logistic Regression Parameters: {}\".format(logreg_cv.best_params_)) \n",
    "print(\"Best score is {}\".format(logreg_cv.best_score_))\n",
    "print(logreg_cv.score(X_test,y_test))"
   ]
  },
  {
   "cell_type": "code",
   "execution_count": 44,
   "metadata": {},
   "outputs": [
    {
     "data": {
      "image/png": "[encoded data removed]",
      "text/plain": [
       "<matplotlib.figure.Figure at 0x27005a737f0>"
      ]
     },
     "metadata": {},
     "output_type": "display_data"
    }
   ],
   "source": [
    "# Import necessary modules\n",
    "from sklearn.metrics import roc_curve\n",
    "\n",
    "# Compute predicted probabilities: y_pred_prob\n",
    "y_pred_prob = logreg_cv.predict_proba(X_test)[:,1]\n",
    "\n",
    "# Generate ROC curve values: fpr, tpr, thresholds\n",
    "fpr, tpr, treshold = roc_curve(y_test, y_pred_prob)\n",
    "\n",
    "# Plot ROC curve\n",
    "plt.plot([0, 1], [0, 1], 'k--')\n",
    "plt.plot(fpr, tpr, label='Logistic Regression')\n",
    "plt.xlabel('False Positive Rate')\n",
    "plt.ylabel('True Positive Rate')\n",
    "plt.title('ROC Curve')\n",
    "plt.show()"
   ]
  },
  {
   "cell_type": "code",
   "execution_count": 58,
   "metadata": {},
   "outputs": [
    {
     "data": {
      "text/plain": [
       "0.5"
      ]
     },
     "execution_count": 58,
     "metadata": {},
     "output_type": "execute_result"
    }
   ],
   "source": [
    "from sklearn.metrics import roc_auc_score\n",
    "\n",
    "y_pred_prob = logreg_cv.predict_proba(X_test)[:,1]\n",
    "\n",
    "roc_auc_score(y_test,y_pred_prob)"
   ]
  },
  {
   "cell_type": "markdown",
   "metadata": {},
   "source": [
    "## DecisionTree"
   ]
  },
  {
   "cell_type": "code",
   "execution_count": 48,
   "metadata": {},
   "outputs": [
    {
     "name": "stdout",
     "output_type": "stream",
     "text": [
      "Tuned Decision Tree Parameters: {'criterion': 'gini', 'max_depth': None, 'max_features': 2, 'min_samples_leaf': 3}\n",
      "Best score is 0.9346701164294955\n",
      "0.937752627324\n"
     ]
    }
   ],
   "source": [
    "#Tree\n",
    "\n",
    "# Import necessary modules\n",
    "from scipy.stats import randint\n",
    "from sklearn.tree import DecisionTreeClassifier\n",
    "from sklearn.model_selection import RandomizedSearchCV\n",
    "\n",
    "# Setup the parameters and distributions to sample from: param_dist\n",
    "param_dist = {\"max_depth\": [3, None],\n",
    "              \"max_features\": randint(1, 9),\n",
    "              \"min_samples_leaf\": randint(1, 9),\n",
    "              \"criterion\": [\"gini\", \"entropy\"]}\n",
    "\n",
    "# Instantiate a Decision Tree classifier: tree\n",
    "tree = DecisionTreeClassifier()\n",
    "\n",
    "# Instantiate the RandomizedSearchCV object: tree_cv\n",
    "tree_cv = RandomizedSearchCV(tree, param_dist, cv=5)\n",
    "\n",
    "# Fit it to the data\n",
    "tree_cv.fit(X,y)\n",
    "\n",
    "# Print the tuned parameters and score\n",
    "print(\"Tuned Decision Tree Parameters: {}\".format(tree_cv.best_params_))\n",
    "print(\"Best score is {}\".format(tree_cv.best_score_))\n",
    "print(tree_cv.score(X_test,y_test))"
   ]
  }
 ],
 "metadata": {
  "kernelspec": {
   "display_name": "Python 3",
   "language": "python",
   "name": "python3"
  },
  "language_info": {
   "codemirror_mode": {
    "name": "ipython",
    "version": 3
   },
   "file_extension": ".py",
   "mimetype": "text/x-python",
   "name": "python",
   "nbconvert_exporter": "python",
   "pygments_lexer": "ipython3",
   "version": "3.6.3"
  }
 },
 "nbformat": 4,
 "nbformat_minor": 2
}
