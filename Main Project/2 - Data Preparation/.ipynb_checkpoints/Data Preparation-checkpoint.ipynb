{
 "cells": [
  {
   "cell_type": "code",
   "execution_count": 1,
   "metadata": {
    "collapsed": true
   },
   "outputs": [],
   "source": [
    "import pandas as pd\n",
    "import seaborn as sb"
   ]
  },
  {
   "cell_type": "markdown",
   "metadata": {},
   "source": [
    "# 1 Select Data"
   ]
  },
  {
   "cell_type": "code",
   "execution_count": 2,
   "metadata": {
    "collapsed": true
   },
   "outputs": [],
   "source": [
    "cot_all = pd.read_excel(\"..\\\\..\\\\Datos\\\\working\\\\cotizaciones_all.xlsx\")\n",
    "neg_all = pd.read_excel(\"..\\\\..\\\\Datos\\\\working\\\\negocios_all.xlsx\")"
   ]
  },
  {
   "cell_type": "code",
   "execution_count": 3,
   "metadata": {
    "collapsed": true
   },
   "outputs": [],
   "source": [
    "# cot_all.columns"
   ]
  },
  {
   "cell_type": "code",
   "execution_count": 4,
   "metadata": {
    "collapsed": true
   },
   "outputs": [],
   "source": [
    "cot_all.drop(['Remoto','Etapa','Tipo de Medio','Razon Social','Cargo',\n",
    "              'Situacion Laboral','Antiguedad Laboral'],\n",
    "            axis=1,inplace=True)"
   ]
  },
  {
   "cell_type": "code",
   "execution_count": 5,
   "metadata": {
    "collapsed": true
   },
   "outputs": [],
   "source": [
    "cot_mod = cot_all.copy()"
   ]
  },
  {
   "cell_type": "code",
   "execution_count": 6,
   "metadata": {},
   "outputs": [
    {
     "data": {
      "text/plain": [
       "(2336, 35)"
      ]
     },
     "execution_count": 6,
     "metadata": {},
     "output_type": "execute_result"
    }
   ],
   "source": [
    "# ruts de los clientes en negocio\n",
    "neg_ids = neg_all['ID Cotizacion'].unique().tolist()\n",
    "\n",
    "# cot_neg = cot_all.copy()\n",
    "cot_mod['Negocio'] = cot_all['ID'].isin(neg_ids)\n",
    "cot_mod[cot_mod['Negocio'] == True].shape"
   ]
  },
  {
   "cell_type": "markdown",
   "metadata": {},
   "source": [
    "# 2 Clean Data"
   ]
  },
  {
   "cell_type": "code",
   "execution_count": 7,
   "metadata": {
    "collapsed": true
   },
   "outputs": [],
   "source": [
    "# variables a impiar y chequear\n",
    "\n",
    "# Limpiar variable fecha de nacimiento de alguna manera\n",
    "# Limpiar variable Sexo usando rutificador\n",
    "# Limpar variables Direccion usando en lo posible el rutificador y otras fuentes\n",
    "# Llenar mv en decuentos con 0"
   ]
  },
  {
   "cell_type": "markdown",
   "metadata": {},
   "source": [
    "## 2.1 Rut\n",
    "Arreglar Ruts, luego validarlos para aplicar data crawling en rutificador.\n",
    "Si el rut esta mal escrito por ende no es valido, se prosigue a buscar el rut por el nombre y arreglar el rut.\n",
    "Todo esto con el find de obtener el genero, direccion, latiyud y longitud del cotizante"
   ]
  },
  {
   "cell_type": "markdown",
   "metadata": {},
   "source": [
    "### 2.1.1 Funciones\n",
    "Funciones para tratar los ruts"
   ]
  },
  {
   "cell_type": "code",
   "execution_count": 8,
   "metadata": {
    "collapsed": true
   },
   "outputs": [],
   "source": [
    "def format_rut(x):\n",
    "    rut = x.split('-')\n",
    "    l_s = list(rut[0])\n",
    "    r_l = l_s[::-1]\n",
    "    new = []\n",
    "    i = 0\n",
    "    new.append(rut[1])\n",
    "    new.append('-')\n",
    "    for c in r_l:\n",
    "        if i==3:\n",
    "            new.append('.')\n",
    "            i = 0\n",
    "        new.append(c)\n",
    "        i +=1\n",
    "    rut = ''.join(new[::-1])\n",
    "    return rut"
   ]
  },
  {
   "cell_type": "code",
   "execution_count": 9,
   "metadata": {
    "collapsed": true
   },
   "outputs": [],
   "source": [
    "import chile_rut\n",
    "import re\n",
    "\n",
    "def val_rut(x):\n",
    "    x = str(x)\n",
    "    if len(x) == 0:\n",
    "        return False\n",
    "    x = re.sub('[.|!@#$]', '', x)\n",
    "    \n",
    "    if len(x.split('-')) >= 2:\n",
    "        return chile_rut.validate_rut(x)\n",
    "    else:\n",
    "        x = x[:-1] + '-' + x[-1]\n",
    "        return chile_rut.validate_rut(x)\n",
    "\n",
    "def clean_rut(x):\n",
    "    x = str(x)\n",
    "    if len(x) == 0:\n",
    "        return False\n",
    "    x = re.sub('[.|!@#$]', '', x)\n",
    "    \n",
    "    if len(x.split('-')) >= 2:\n",
    "        return x\n",
    "    else:\n",
    "        x = x[:-1] + '-' + x[-1]\n",
    "        return x\n",
    "    \n",
    "cot_mod['Clean Rut'] = [clean_rut(x) for x in cot_mod['RUT'].values]\n",
    "cot_mod['Valid Rut'] = [val_rut(x) for x in cot_mod['Clean Rut'].values]\n"
   ]
  },
  {
   "cell_type": "markdown",
   "metadata": {},
   "source": [
    "### 2.1.1 Insights\n",
    "Revision de los ruts, mal formaciones, ruts malos que tienen negocios, etc"
   ]
  },
  {
   "cell_type": "code",
   "execution_count": 10,
   "metadata": {},
   "outputs": [
    {
     "name": "stdout",
     "output_type": "stream",
     "text": [
      "Ruts que hicieron negocios pero no son validos\n"
     ]
    },
    {
     "data": {
      "text/html": [
       "<div>\n",
       "<style>\n",
       "    .dataframe thead tr:only-child th {\n",
       "        text-align: right;\n",
       "    }\n",
       "\n",
       "    .dataframe thead th {\n",
       "        text-align: left;\n",
       "    }\n",
       "\n",
       "    .dataframe tbody tr th {\n",
       "        vertical-align: top;\n",
       "    }\n",
       "</style>\n",
       "<table border=\"1\" class=\"dataframe\">\n",
       "  <thead>\n",
       "    <tr style=\"text-align: right;\">\n",
       "      <th></th>\n",
       "      <th>Nombre</th>\n",
       "      <th>RUT</th>\n",
       "      <th>Negocio</th>\n",
       "      <th>Valid Rut</th>\n",
       "      <th>Clean Rut</th>\n",
       "    </tr>\n",
       "  </thead>\n",
       "  <tbody>\n",
       "    <tr>\n",
       "      <th>7390</th>\n",
       "      <td>max boris</td>\n",
       "      <td>14030274-6</td>\n",
       "      <td>True</td>\n",
       "      <td>False</td>\n",
       "      <td>14030274-6</td>\n",
       "    </tr>\n",
       "    <tr>\n",
       "      <th>7504</th>\n",
       "      <td>max boris</td>\n",
       "      <td>14030274-6</td>\n",
       "      <td>True</td>\n",
       "      <td>False</td>\n",
       "      <td>14030274-6</td>\n",
       "    </tr>\n",
       "    <tr>\n",
       "      <th>1704</th>\n",
       "      <td>Error</td>\n",
       "      <td>15516786-8</td>\n",
       "      <td>True</td>\n",
       "      <td>False</td>\n",
       "      <td>15516786-8</td>\n",
       "    </tr>\n",
       "  </tbody>\n",
       "</table>\n",
       "</div>"
      ],
      "text/plain": [
       "         Nombre         RUT  Negocio  Valid Rut   Clean Rut\n",
       "7390  max boris  14030274-6     True      False  14030274-6\n",
       "7504  max boris  14030274-6     True      False  14030274-6\n",
       "1704      Error  15516786-8     True      False  15516786-8"
      ]
     },
     "execution_count": 10,
     "metadata": {},
     "output_type": "execute_result"
    }
   ],
   "source": [
    "#Eliminar indice 1704 y arreglar rut max boris\n",
    "print('Ruts que hicieron negocios pero no son validos')\n",
    "cot_mod[(cot_mod['Valid Rut'] == False) & (cot_mod['Negocio'] == True)][['Nombre','RUT','Negocio','Valid Rut','Clean Rut']]"
   ]
  },
  {
   "cell_type": "code",
   "execution_count": 11,
   "metadata": {},
   "outputs": [
    {
     "name": "stdout",
     "output_type": "stream",
     "text": [
      "Ruts catalogados como invalidos, buscar por nombres\n",
      "(69, 37)\n"
     ]
    }
   ],
   "source": [
    "# ver que ruts invalidos pueden ser rescatados o arreglados buscando por sus nombres\n",
    "print(\"Ruts catalogados como invalidos, buscar por nombres\")\n",
    "ruts_iv = cot_mod[(cot_mod['Valid Rut'] == False)] \n",
    "print(ruts_iv.shape)\n",
    "\n",
    "ruts_invalidos = []\n",
    "for group, frame in  ruts_iv.groupby('Clean Rut'):\n",
    "    ruts_invalidos.append(str(group))\n",
    "\n",
    "s_ruts = pd.Series(ruts_invalidos)\n",
    "s_ruts.to_csv(\"..\\\\..\\\\Datos\\\\ruts_invalidos_scrap.csv\")\n",
    "\n",
    "# print(ruts_iv[['Nombre','Apellido 1','RUT','Clean Rut','Valid Rut']].head())"
   ]
  },
  {
   "cell_type": "code",
   "execution_count": 12,
   "metadata": {},
   "outputs": [
    {
     "name": "stdout",
     "output_type": "stream",
     "text": [
      "Ruts arreglados, estaban mal escritos y luego fueron validos.\n",
      "(1, 37)\n",
      "      Nombre Apellido 1 Apellido 2        RUT   Clean Rut  Valid Rut\n",
      "8  Valentina  Fernandez          .  19483862k  19483862-k       True\n"
     ]
    }
   ],
   "source": [
    "print(\"Ruts arreglados, estaban mal escritos y luego fueron validos.\")\n",
    "df = cot_mod[(cot_mod['RUT'] != cot_mod['Clean Rut']) & (cot_mod['Valid Rut'] ==True)]\n",
    "print(df.shape)\n",
    "print(df[['Nombre','Apellido 1','Apellido 2','RUT','Clean Rut','Valid Rut']].head(10))"
   ]
  },
  {
   "cell_type": "code",
   "execution_count": 13,
   "metadata": {},
   "outputs": [
    {
     "name": "stdout",
     "output_type": "stream",
     "text": [
      "Ruts arreglados, estaban mal escritos y luego fueron validos.\n",
      "(6, 37)\n",
      "              Nombre Apellido 1 Apellido 2           RUT   Clean Rut  \\\n",
      "821         Giovanni     Flores          .  16.546.158-2  16546158-2   \n",
      "841         Giovanni     Flores          .  16.546.158-2  16546158-2   \n",
      "3716           Mario     Concha     Concha     156778804  15677880-4   \n",
      "8943    Jose Edgardo    Caamaño   Chamorro       6180535    618053-5   \n",
      "9099   Dinora  Nilda      Bravo      Cerda       9559524    955952-4   \n",
      "9574  Anegelo Felipe      Godoy    Morales    |7321289-5   7321289-5   \n",
      "\n",
      "      Valid Rut  \n",
      "821       False  \n",
      "841       False  \n",
      "3716      False  \n",
      "8943      False  \n",
      "9099      False  \n",
      "9574      False  \n"
     ]
    }
   ],
   "source": [
    "print(\"Ruts arreglados, estaban mal escritos y luego fueron validos.\")\n",
    "df = cot_mod[(cot_mod['RUT'] != cot_mod['Clean Rut']) & (cot_mod['Valid Rut'] ==False)]\n",
    "print(df.shape)\n",
    "print(df[['Nombre','Apellido 1','Apellido 2','RUT','Clean Rut','Valid Rut']].head(10))"
   ]
  },
  {
   "cell_type": "code",
   "execution_count": 14,
   "metadata": {},
   "outputs": [
    {
     "name": "stdout",
     "output_type": "stream",
     "text": [
      "Ruts que estaban bien escritos.\n",
      "(16585, 37)\n"
     ]
    }
   ],
   "source": [
    "print(\"Ruts que estaban bien escritos.\")\n",
    "df = cot_mod[(cot_mod['RUT'] == cot_mod['Clean Rut'])]\n",
    "print(df.shape)"
   ]
  },
  {
   "cell_type": "code",
   "execution_count": 15,
   "metadata": {},
   "outputs": [
    {
     "name": "stdout",
     "output_type": "stream",
     "text": [
      "Ruts que estaban bien escritos y son validos.\n",
      "(16522, 37)\n"
     ]
    }
   ],
   "source": [
    "print(\"Ruts que estaban bien escritos y son validos.\")\n",
    "df = cot_mod[(cot_mod['RUT'] == cot_mod['Clean Rut']) &(cot_mod['Valid Rut'] ==True)]\n",
    "print(df.shape)\n",
    "\n",
    "ruts_validos = []\n",
    "for group, frame in  df.groupby('Clean Rut'):\n",
    "    ruts_validos.append(str(group))\n",
    "\n",
    "# print(ruts_invalidos)\n",
    "ruts_validos= [format_rut(x) for x in ruts_validos]\n",
    "cot_mod['Format Rut'] = [format_rut(x) for x in cot_mod['Clean Rut'].values]\n",
    "s_ruts = pd.Series(ruts_validos)\n",
    "s_ruts.to_csv(\"..\\\\..\\\\ruts_validos_scrap.csv\")"
   ]
  },
  {
   "cell_type": "code",
   "execution_count": 16,
   "metadata": {},
   "outputs": [
    {
     "name": "stdout",
     "output_type": "stream",
     "text": [
      "Ruts que estaban bien escritos pero no son validos, buscar ruts por nombres.\n",
      "(63, 38)\n"
     ]
    }
   ],
   "source": [
    "print(\"Ruts que estaban bien escritos pero no son validos, buscar ruts por nombres.\")\n",
    "df = cot_mod[(cot_mod['RUT'] == cot_mod['Clean Rut']) &(cot_mod['Valid Rut'] ==False)]\n",
    "print(df.shape)"
   ]
  },
  {
   "cell_type": "markdown",
   "metadata": {},
   "source": [
    "### 2.1.1 Ruts Scrapped"
   ]
  },
  {
   "cell_type": "code",
   "execution_count": 17,
   "metadata": {},
   "outputs": [
    {
     "name": "stdout",
     "output_type": "stream",
     "text": [
      "(6012, 5)\n",
      "                                  Name           RUT Gender  \\\n",
      "0   SCHNEIDER BARRERA RICARDO ERNESTO   10.023.348-7   VAR    \n",
      "1     MORALES ESPINOZA CLAUDIO ANDRES   10.020.262-k   VAR    \n",
      "\n",
      "                             Adress               Comuna  \n",
      "0                J  CISTERNAS 1612            LA SERENA   \n",
      "1   ALEJANDRO SEXTO 2787LZO ARENAS    CONCEPCION CENTRO   \n"
     ]
    }
   ],
   "source": [
    "#Ruts y sus datos obtenidos de forma valida\n",
    "ruts_scrapped = pd.read_csv('..\\\\..\\\\DataCrawling\\\\rut\\\\ruts_validos.csv')\n",
    "ruts_scrapped['RUT'] = [x.replace(' ','') for x in ruts_scrapped['RUT'].values]\n",
    "ruts_scrapped['RUT'] = [x.replace('K','k') for x in ruts_scrapped['RUT'].values]\n",
    "print(ruts_scrapped.shape)\n",
    "print(ruts_scrapped.head(2))"
   ]
  },
  {
   "cell_type": "markdown",
   "metadata": {},
   "source": [
    "### 2.1.1 Ruts Scrapped merge a DF principal"
   ]
  },
  {
   "cell_type": "code",
   "execution_count": 18,
   "metadata": {},
   "outputs": [
    {
     "data": {
      "text/plain": [
       "(1869, 14)"
      ]
     },
     "execution_count": 18,
     "metadata": {},
     "output_type": "execute_result"
    }
   ],
   "source": [
    "# merge\n",
    "cot_mod_cp = cot_mod.copy()\n",
    "cot_mod_cp['Format Rut'] = [x.replace('K','k') for x in cot_mod_cp['Format Rut'].values]\n",
    "cot_merge = pd.merge(cot_mod_cp, ruts_scrapped,how='left', left_on='Format Rut', right_on='RUT')\n",
    "# print(cot_merge.columns)\n",
    "columns = ['Format Rut','Valid Rut','Negocio','Nombre','Apellido 1','Name','Gender','Sexo',\n",
    "           'Adress','Direccion', 'Region','Provincia', 'Comuna_x', 'Comuna_y']\n",
    "cot_merge[columns][cot_merge['Sexo'].isnull()].shape"
   ]
  },
  {
   "cell_type": "code",
   "execution_count": 19,
   "metadata": {
    "collapsed": true
   },
   "outputs": [],
   "source": [
    "\n",
    "ruts_scrapped['RUT'] = [x.replace(' ','') for x in ruts_scrapped['RUT'].values]\n",
    "\n",
    "# df = pd.merge(cot_mod_cp,ruts_scrapped,how='outer',left_on='Format Rut',right_on='RUT')\n",
    "df = pd.merge(cot_mod_cp,ruts_scrapped,how='outer',left_on='Format Rut',right_on='RUT')\n",
    "\n",
    "\n",
    "df.to_excel('..\\\\..\\\\Datos\\\\tmp.xlsx')"
   ]
  },
  {
   "cell_type": "code",
   "execution_count": 20,
   "metadata": {
    "collapsed": true
   },
   "outputs": [],
   "source": [
    "# len(df[df['Negocio'] == True]['RUT'].unique())"
   ]
  },
  {
   "cell_type": "markdown",
   "metadata": {},
   "source": [
    "# 3 Construct Data"
   ]
  },
  {
   "cell_type": "markdown",
   "metadata": {},
   "source": [
    "## 3.1 Nuevos Atributos"
   ]
  },
  {
   "cell_type": "markdown",
   "metadata": {},
   "source": [
    "### 3.1.1 Edad\n",
    "Variable construida a partir de la fecha de nacimiento"
   ]
  },
  {
   "cell_type": "code",
   "execution_count": 21,
   "metadata": {
    "collapsed": true
   },
   "outputs": [],
   "source": [
    "# Construir variable 'Edad' a partir de fecha de Nacimiento\n",
    "import datetime\n",
    "now = datetime.datetime.now().year\n",
    "\n",
    "fechas_nacimiento = pd.to_datetime(cot_all['Fecha Nacimiento']).apply(lambda x: x.date()).tolist()\n",
    "\n",
    "def anio_nac(x):\n",
    "    try:\n",
    "        year = int(x.year)\n",
    "        dif = now - year\n",
    "        if dif >= 18:\n",
    "            return dif\n",
    "        else:\n",
    "            return 0\n",
    "    except (ValueError,AttributeError):\n",
    "        return 0\n",
    "        \n",
    "    return r\n",
    "\n",
    "edad = [anio_nac(x) for x in fechas_nacimiento]\n",
    "cot_mod['edad'] = edad\n",
    "\n"
   ]
  },
  {
   "cell_type": "code",
   "execution_count": 22,
   "metadata": {
    "collapsed": true
   },
   "outputs": [],
   "source": [
    "cot_mod = cot_mod.drop(['Fecha Nacimiento'], axis=1)"
   ]
  },
  {
   "cell_type": "markdown",
   "metadata": {},
   "source": [
    "### 3.1.2 Descuento\n",
    "Variable que indica si el cliente recibio descuento"
   ]
  },
  {
   "cell_type": "code",
   "execution_count": 23,
   "metadata": {
    "collapsed": true
   },
   "outputs": [],
   "source": [
    "# Construir 'descuento': binario : [True, False]\n",
    "recibio_descuento = cot_all['Descuentos'].tolist()\n",
    "\n",
    "def is_desc(x):\n",
    "    try:\n",
    "        desc = int(x)\n",
    "        if desc > 0:\n",
    "            return True\n",
    "        else:\n",
    "            return False\n",
    "    except ValueError:\n",
    "        return False\n",
    "\n",
    "descuento = [is_desc(x) for x in recibio_descuento]\n",
    "cot_mod['recibio_descuento'] = descuento\n",
    "# descuento"
   ]
  },
  {
   "cell_type": "markdown",
   "metadata": {},
   "source": [
    "### 3.1.3.Cantidad de Productos"
   ]
  },
  {
   "cell_type": "code",
   "execution_count": 24,
   "metadata": {
    "collapsed": true
   },
   "outputs": [],
   "source": [
    "# Construir 'productos': categorico : ['depto','casa','estacionamiento','bodega','Estudio']\n",
    "productos = cot_all['Productos'].tolist()\n",
    "depto = []; estacionamiento=[]; bodega = []; estudio = [];nan = 0\n",
    "def get_products(x,word,numeric=False):\n",
    "    w=0\n",
    "    try:\n",
    "        p =str(x)\n",
    "        arr_p = x.split(',')\n",
    "        for e in arr_p:\n",
    "            if word in e:\n",
    "                w+=1\n",
    "#                 print(word + \" :\",e)\n",
    "                break\n",
    "            elif numeric and ('B' not in e or 'Est' not in e):\n",
    "                try:\n",
    "                    int(e)\n",
    "#                     print(word + \" :\",e)\n",
    "                    w+=1\n",
    "                except ValueError:\n",
    "                    pass\n",
    "        return w\n",
    "    except (ValueError,AttributeError):\n",
    "        try:\n",
    "            int(x)\n",
    "            if numeric:\n",
    "                return 1\n",
    "            else:\n",
    "                return 0\n",
    "        except ValueError:\n",
    "            return 0\n",
    "\n",
    "cot_mod['#vivienda'] = [get_products(x,'T',numeric=True) for x in productos]\n",
    "cot_mod['#bodega'] = [get_products(x,'Bod') for x in productos]\n",
    "cot_mod['#estacionamiento'] = [get_products(x,'Est') for x in productos]\n",
    "cot_mod['#estudio'] = [get_products(x,'Estudio') for x in productos]\n",
    "cot_mod['#lan'] = [get_products(x,'lan') for x in productos]"
   ]
  },
  {
   "cell_type": "code",
   "execution_count": 25,
   "metadata": {},
   "outputs": [
    {
     "name": "stdout",
     "output_type": "stream",
     "text": [
      "              Productos  #vivienda  #bodega  #estacionamiento  #estudio  #lan\n",
      "0         TB-104,Est-65          1        0                 1         0     0\n",
      "1  TA-302,Est-41,Bod-02          1        1                 1         0     0\n",
      "2         TA-303,Est-01          1        0                 1         0     0\n",
      "3  TA-302,Est-41,Bod-06          1        1                 1         0     0\n",
      "4         TA-604,Est-01          1        0                 1         0     0\n",
      "        Productos  #vivienda  #bodega  #estacionamiento  #estudio  #lan\n",
      "2912  703,Est-003          1        0                 1         0     0\n",
      "2913          912          1        0                 0         0     0\n",
      "2914  Est-002,703          1        0                 1         0     0\n",
      "2915  912,Est-002          1        0                 1         0     0\n",
      "2916          912          1        0                 0         0     0\n"
     ]
    }
   ],
   "source": [
    "print(cot_mod[['Productos','#vivienda','#bodega','#estacionamiento','#estudio','#lan']].head())\n",
    "print(cot_mod[['Productos','#vivienda','#bodega','#estacionamiento','#estudio','#lan']].tail())"
   ]
  },
  {
   "cell_type": "code",
   "execution_count": 26,
   "metadata": {
    "collapsed": true
   },
   "outputs": [],
   "source": [
    "cot_mod = cot_mod.drop(['Productos'], axis=1)"
   ]
  },
  {
   "cell_type": "markdown",
   "metadata": {},
   "source": [
    "### 3.1.4 Latitud y Longitud"
   ]
  },
  {
   "cell_type": "code",
   "execution_count": 27,
   "metadata": {
    "collapsed": true
   },
   "outputs": [],
   "source": [
    "from geopy.geocoders import Nominatim\n",
    "\n",
    "def get_latlong(direccion):\n",
    "    geolocator = Nominatim()\n",
    "    direccion = \"TUCAPEL 937 , CONCEPCION CENTRO\"\n",
    "    location = geolocator.geocode(direccion)\n",
    "#     print(location.address)\n",
    "    # Flatiron Building, 175, 5th Avenue, Flatiron, New York, NYC, New York, ...\n",
    "    print((location.latitude, location.longitude))\n",
    "    # (40.7410861, -73.9896297241625)\n",
    "#     print(location.raw)\n",
    "\n",
    "# get_latlong('')\n",
    "\n",
    "# cot_mod['loc_lat'] = []"
   ]
  },
  {
   "cell_type": "markdown",
   "metadata": {},
   "source": [
    "### 3.1.6 Region"
   ]
  },
  {
   "cell_type": "code",
   "execution_count": 28,
   "metadata": {},
   "outputs": [
    {
     "data": {
      "text/plain": [
       "array(['VIII Región del Bío-Bío', 'XIII Región Metropolitana de Santiago',\n",
       "       'VII Región del Maule', 'II Región de Antofagasta',\n",
       "       'IV Región de Coquimbo', 'X Región de Los Lagos',\n",
       "       'XII Región de Magallanes y de La Antártica Chilena',\n",
       "       'V Región de Valparaíso',\n",
       "       'VI Región del Libertador General Bernardo O Higgins',\n",
       "       'XIV Región de Los Ríos',\n",
       "       'XI Región de Aysen del General Carlos Ibáñez del Campo',\n",
       "       'I Región de Tarapacá', 'IX Región de La Araucanía',\n",
       "       'III Región de Atacama', 'XV Region de Arica y Parinacota'],\n",
       "      dtype=object)"
      ]
     },
     "execution_count": 28,
     "metadata": {},
     "output_type": "execute_result"
    }
   ],
   "source": [
    "cot_mod['Region'].unique()"
   ]
  },
  {
   "cell_type": "code",
   "execution_count": 29,
   "metadata": {
    "collapsed": true
   },
   "outputs": [],
   "source": [
    "cot_mod['region'] = cot_all['Region'].copy()\n",
    "cot_mod['region'] = cot_mod['region'].replace(\n",
    "    {'VIII Región del Bío-Bío':'Bio-Bio',\n",
    "     'XIII Región Metropolitana de Santiago':'Metropolitana'}\n",
    ")\n",
    "cot_mod['region'] = cot_mod['region'].replace(\n",
    "    ['II Región de Antofagasta',\n",
    "       'IV Región de Coquimbo', 'VII Región del Maule',\n",
    "       'X Región de Los Lagos',\n",
    "       'V Región de Valparaíso',\n",
    "       'VI Región del Libertador General Bernardo O Higgins',\n",
    "       'XIV Región de Los Ríos',\n",
    "       'XI Región de Aysen del General Carlos Ibáñez del Campo',\n",
    "       'I Región de Tarapacá', 'IX Región de La Araucanía',\n",
    "       'XII Región de Magallanes y de La Antártica Chilena',\n",
    "       'XV Region de Arica y Parinacota', 'III Región de Atacama'],'Otro'\n",
    ")"
   ]
  },
  {
   "cell_type": "code",
   "execution_count": 30,
   "metadata": {},
   "outputs": [
    {
     "data": {
      "text/plain": [
       "0    Bio-Bio\n",
       "1    Bio-Bio\n",
       "2    Bio-Bio\n",
       "3    Bio-Bio\n",
       "4    Bio-Bio\n",
       "Name: region, dtype: category\n",
       "Categories (3, object): [Bio-Bio, Metropolitana, Otro]"
      ]
     },
     "execution_count": 30,
     "metadata": {},
     "output_type": "execute_result"
    }
   ],
   "source": [
    "cot_mod['region'] = cot_mod['region'].astype('category')\n",
    "cot_mod['region'].head()"
   ]
  },
  {
   "cell_type": "code",
   "execution_count": 31,
   "metadata": {
    "collapsed": true
   },
   "outputs": [],
   "source": [
    "cot_mod = cot_mod.drop(['Region'], axis=1)"
   ]
  },
  {
   "cell_type": "markdown",
   "metadata": {},
   "source": [
    "### 3.1.7 Provincia\n",
    "Esta variable indica si el cliente facilito el correo en alguna cotizacion"
   ]
  },
  {
   "cell_type": "code",
   "execution_count": 32,
   "metadata": {},
   "outputs": [
    {
     "data": {
      "text/plain": [
       "array(['Concepción', 'Ñuble', 'Santiago', 'Talca', 'Biobío', 'Maipo',\n",
       "       'Antofagasta', 'Limarí', 'Llanquihue', 'Magallanes', 'El Loa',\n",
       "       'Isla de Pascua', 'Valparaíso', 'Cachapoal', 'Arauco',\n",
       "       'Cordillera', 'Valdivia', 'Coyhaique', 'Linares', 'Osorno',\n",
       "       'San Felipe de Aconcagua', 'Iquique', 'Cautín', 'Capitán Prat',\n",
       "       'Aysén', 'Chacabuco', 'Copiapó', 'Melipilla', 'Malleco', 'Arica',\n",
       "       'Elqui', 'Cauquenes', 'Colchagua', 'Última Esperanza', 'Curicó',\n",
       "       'Chiloé', 'Choapa', 'Huasco'], dtype=object)"
      ]
     },
     "execution_count": 32,
     "metadata": {},
     "output_type": "execute_result"
    }
   ],
   "source": [
    "cot_all['Provincia'].unique()"
   ]
  },
  {
   "cell_type": "code",
   "execution_count": 33,
   "metadata": {
    "collapsed": true
   },
   "outputs": [],
   "source": [
    "cot_mod['provincia'] = cot_all['Provincia'].copy()\n",
    "cot_mod['provincia'] = cot_mod['provincia'].replace(\n",
    "    {'Concepción':'Concepcion',\n",
    "     'Santiago':'Santiago'}\n",
    ")\n",
    "cot_mod['provincia'] = cot_mod['provincia'].replace(\n",
    "    ['Antofagasta', 'Limarí', 'Talca', 'Biobío', 'Ñuble',\n",
    "       'Llanquihue','Maipo', 'Valparaíso', 'Cachapoal',\n",
    "       'Arauco', 'Valdivia', 'Coyhaique', 'Linares', 'Osorno',\n",
    "       'San Felipe de Aconcagua', 'Iquique', 'Cautín', 'Capitán Prat',\n",
    "       'Aysén', 'Chacabuco', 'Melipilla', 'Magallanes', 'Malleco',\n",
    "       'Arica ', 'Elqui', 'El Loa', 'Cauquenes', 'Colchagua', 'Valdivia ',\n",
    "       'Copiapó', 'Última Esperanza', 'Cordillera', 'Curicó', 'Chiloé',\n",
    "       'Choapa', 'Huasco','Arica','Isla de Pascua'],'Otro'\n",
    ")"
   ]
  },
  {
   "cell_type": "code",
   "execution_count": 34,
   "metadata": {},
   "outputs": [
    {
     "data": {
      "text/plain": [
       "0    Concepcion\n",
       "1    Concepcion\n",
       "2    Concepcion\n",
       "3    Concepcion\n",
       "4          Otro\n",
       "Name: provincia, dtype: category\n",
       "Categories (3, object): [Concepcion, Otro, Santiago]"
      ]
     },
     "execution_count": 34,
     "metadata": {},
     "output_type": "execute_result"
    }
   ],
   "source": [
    "cot_mod['provincia'] = cot_mod['provincia'].astype('category')\n",
    "cot_mod['provincia'].head()"
   ]
  },
  {
   "cell_type": "code",
   "execution_count": 35,
   "metadata": {
    "collapsed": true
   },
   "outputs": [],
   "source": [
    "cot_mod = cot_mod.drop(['Provincia'], axis=1)"
   ]
  },
  {
   "cell_type": "markdown",
   "metadata": {},
   "source": [
    "### 3.1.8 Comuna\n",
    "Esta variable indica si el cliente facilito el correo en alguna cotizacion"
   ]
  },
  {
   "cell_type": "code",
   "execution_count": 36,
   "metadata": {},
   "outputs": [
    {
     "data": {
      "text/plain": [
       "array(['Concepción', 'Chillán', 'San Pedro de la Paz', 'Talcahuano',\n",
       "       'La Florida', 'Hualpén', 'Santiago', 'Constitución', 'Los Ángeles',\n",
       "       'Ñuñoa', 'Providencia', 'Penco', 'Tomé', 'Buin', 'Antofagasta',\n",
       "       'Ovalle', 'Puerto Montt', 'Punta Arenas', 'Chiguayante',\n",
       "       'El Bosque', 'Yungay', 'Florida', 'Calama', 'Lota', 'Coronel',\n",
       "       'Isla de Pascua', 'Viña del Mar', 'Machalí', 'Arauco',\n",
       "       'Las Condes', 'Vitacura', 'Pirque', 'Contulmo', 'Concón',\n",
       "       'Santa Juana', 'Puerto Varas', 'Cañete', 'Huechuraba', 'Valdivia',\n",
       "       'Coyhaique', 'Colbún', 'Osorno', 'San Felipe', 'Iquique',\n",
       "       'Rancagua', 'Temuco', 'Cochrane', 'Chillán Viejo', 'Maipú',\n",
       "       'Aysén', 'Villarrica', 'La Reina', 'Peñalolén', 'Estación Central',\n",
       "       'Colina', 'Quilicura', 'Curanilahue', 'Copiapó', 'Algarrobo',\n",
       "       'Talca', 'San Carlos', 'Mulchén', 'Coelemu', 'Angol', 'Laja',\n",
       "       'Nacimiento', 'Arica', 'La Serena', 'Hualqui', 'San Miguel',\n",
       "       'Pelluhue', 'Quillón', 'Valparaíso', 'Llanquihue', 'Los Álamos',\n",
       "       'Renca', 'Santa Cruz', 'Panguipulli', 'Cabrero', 'Cerrillos',\n",
       "       'Pudahuel', 'Natales', 'Tirúa', 'Cauquenes', 'La Cisterna',\n",
       "       'Yumbel', 'Ránquil', 'Padre Las Casas', 'Las Cabras', 'Coquimbo',\n",
       "       'Lebu', 'San José de Maipo', 'San Ramón', 'Curicó',\n",
       "       'Independencia', 'Lampa', 'Castro', 'Punitaqui', 'Conchalí',\n",
       "       'San Rosendo', 'Alto Hospicio', 'Illapel', 'Huasco', 'Alto Biobío',\n",
       "       'Collipulli', 'Tucapel'], dtype=object)"
      ]
     },
     "execution_count": 36,
     "metadata": {},
     "output_type": "execute_result"
    }
   ],
   "source": [
    "cot_all['Comuna'].unique()"
   ]
  },
  {
   "cell_type": "code",
   "execution_count": 37,
   "metadata": {
    "collapsed": true
   },
   "outputs": [],
   "source": [
    "cot_mod['comuna'] = cot_all['Comuna'].copy()\n",
    "\n",
    "cot_mod['comuna'] = cot_mod['comuna'].replace(\n",
    "    ['Ovalle', 'Constitución','Tomé', 'Chillán','Yungay',\n",
    "     'Puerto Montt', 'Santiago', 'El Bosque', 'La Florida','Las Condes',\n",
    "     'Ñuñoa', 'Providencia', 'Buin','Florida','Viña del Mar',\n",
    "     'Machalí', 'Vitacura', 'Arauco', 'Contulmo', 'Concón',\n",
    "     'Santa Juana', 'Puerto Varas', 'Cañete', 'Huechuraba', 'Valdivia',\n",
    "     'Coyhaique', 'Colbún', 'Osorno', 'San Felipe', 'Iquique',\n",
    "     'Rancagua', 'Lota', 'Temuco', 'Cochrane', 'Chillán Viejo', 'Maipú',\n",
    "     'Aysén', 'Villarrica', 'La Reina', 'Peñalolén', 'Estación Central',\n",
    "     'Colina', 'Quilicura', 'Curanilahue', 'Algarrobo', 'Talca',\n",
    "     'San Carlos', 'Punta Arenas', 'Mulchén', 'Coelemu', 'Angol',\n",
    "     'Laja', 'Nacimiento', 'Arica', 'La Serena', 'Hualqui',\n",
    "     'San Miguel', 'Calama', 'Pelluhue', 'Quillón', 'Valparaíso',\n",
    "     'Llanquihue', 'Los Álamos', 'Renca', 'Santa Cruz', 'Panguipulli',\n",
    "     'Cabrero', 'Cerrillos', 'Pudahuel', 'Copiapó', 'Natales', 'Tirúa',\n",
    "     'Cauquenes', 'La Cisterna', 'Yumbel', 'Ránquil', 'Padre Las Casas',\n",
    "     'Las Cabras', 'Coquimbo', 'Lebu', 'San José de Maipo', 'San Ramón',\n",
    "     'Curicó', 'Independencia', 'Lampa ', 'Castro', 'Punitaqui',\n",
    "     'Conchalí', 'San Rosendo', 'Alto Hospicio', 'Illapel', 'Huasco',\n",
    "     'Collipulli', 'Tucapel', 'Alto Biobío','Pirque','Lampa','Isla de Pascua','Antofagasta', 'Arica'],'Otro'\n",
    ")"
   ]
  },
  {
   "cell_type": "code",
   "execution_count": 38,
   "metadata": {},
   "outputs": [
    {
     "data": {
      "text/plain": [
       "0    Concepción\n",
       "1    Concepción\n",
       "2    Concepción\n",
       "3    Concepción\n",
       "4          Otro\n",
       "Name: comuna, dtype: category\n",
       "Categories (9, object): [Chiguayante, Concepción, Coronel, Hualpén, ..., Otro, Penco, San Pedro de la Paz, Talcahuano]"
      ]
     },
     "execution_count": 38,
     "metadata": {},
     "output_type": "execute_result"
    }
   ],
   "source": [
    "cot_mod['comuna'] = cot_mod['comuna'].astype('category')\n",
    "cot_mod['comuna'].head()"
   ]
  },
  {
   "cell_type": "code",
   "execution_count": 39,
   "metadata": {
    "collapsed": true
   },
   "outputs": [],
   "source": [
    "cot_mod = cot_mod.drop(['Comuna'], axis=1)"
   ]
  },
  {
   "cell_type": "markdown",
   "metadata": {},
   "source": [
    "### 3.1.9 Atributos Provistos\n",
    "Esta variable indica el numero de veces que el cliente ha hecho cotizaciones"
   ]
  },
  {
   "cell_type": "code",
   "execution_count": 40,
   "metadata": {
    "collapsed": true
   },
   "outputs": [],
   "source": [
    "cot_mod['is_nombre'] = ~cot_all['Nombre'].isnull()\n",
    "cot_mod['is_apellido1'] = ~cot_all['Apellido 1'].isnull()\n",
    "cot_mod['is_apellido2'] = ~cot_all['Apellido 2'].isnull()\n",
    "cot_mod['is_nombrecompleto'] = ~cot_all['Nombre Completo'].isnull()\n",
    "cot_mod['is_correo'] = ~cot_all['Correo Electronico'].isnull()\n",
    "cot_mod['is_direccion'] = ~cot_all['Direccion'].isnull()\n",
    "cot_mod['is_telefono'] = ~cot_all['Telefono'].isnull()\n",
    "cot_mod['is_actividad'] = ~cot_all['Actividad'].isnull()\n",
    "cot_mod['is_estado_civil'] = ~cot_all['Estado Civil'].isnull()\n",
    "cot_mod['is_fnac'] = ~cot_all['Fecha Nacimiento'].isnull()\n",
    "cot_mod['is_celular'] = ~cot_all['Celular'].isnull()\n",
    "\n",
    "\n",
    "cot_mod = cot_mod.drop(['Profesión','Telefono','Correo Electronico','Telefono','Nombre','Apellido 1','Apellido 2','Nombre Completo'], axis=1)"
   ]
  },
  {
   "cell_type": "markdown",
   "metadata": {},
   "source": [
    "### 3.1.9 Atributos Provistos\n",
    "Esta variable indica el numero de veces que el cliente ha hecho cotizaciones"
   ]
  },
  {
   "cell_type": "code",
   "execution_count": 41,
   "metadata": {
    "collapsed": true
   },
   "outputs": [],
   "source": [
    "cot_mod['is_profesion'] = ~cot_all['Profesión'].isnull()"
   ]
  },
  {
   "cell_type": "markdown",
   "metadata": {},
   "source": [
    "### 3.1.4 Cotizaciones por Proyecto"
   ]
  },
  {
   "cell_type": "code",
   "execution_count": 42,
   "metadata": {},
   "outputs": [
    {
     "data": {
      "text/html": [
       "<div>\n",
       "<style>\n",
       "    .dataframe thead tr:only-child th {\n",
       "        text-align: right;\n",
       "    }\n",
       "\n",
       "    .dataframe thead th {\n",
       "        text-align: left;\n",
       "    }\n",
       "\n",
       "    .dataframe tbody tr th {\n",
       "        vertical-align: top;\n",
       "    }\n",
       "</style>\n",
       "<table border=\"1\" class=\"dataframe\">\n",
       "  <thead>\n",
       "    <tr style=\"text-align: right;\">\n",
       "      <th></th>\n",
       "      <th>index</th>\n",
       "      <th>Altos del Valle</th>\n",
       "      <th>Edificio Urban 1470</th>\n",
       "      <th>San Andres Del Valle</th>\n",
       "      <th>Edificio Mil610</th>\n",
       "      <th>Edificio Junge</th>\n",
       "    </tr>\n",
       "  </thead>\n",
       "  <tbody>\n",
       "    <tr>\n",
       "      <th>0</th>\n",
       "      <td>000.000.000-0</td>\n",
       "      <td>0</td>\n",
       "      <td>1</td>\n",
       "      <td>1</td>\n",
       "      <td>0</td>\n",
       "      <td>0</td>\n",
       "    </tr>\n",
       "    <tr>\n",
       "      <th>1</th>\n",
       "      <td>1.462.558-5</td>\n",
       "      <td>0</td>\n",
       "      <td>0</td>\n",
       "      <td>0</td>\n",
       "      <td>1</td>\n",
       "      <td>0</td>\n",
       "    </tr>\n",
       "    <tr>\n",
       "      <th>2</th>\n",
       "      <td>10.000.513-1</td>\n",
       "      <td>0</td>\n",
       "      <td>0</td>\n",
       "      <td>0</td>\n",
       "      <td>0</td>\n",
       "      <td>2</td>\n",
       "    </tr>\n",
       "    <tr>\n",
       "      <th>3</th>\n",
       "      <td>10.000.522-0</td>\n",
       "      <td>0</td>\n",
       "      <td>0</td>\n",
       "      <td>0</td>\n",
       "      <td>0</td>\n",
       "      <td>2</td>\n",
       "    </tr>\n",
       "    <tr>\n",
       "      <th>4</th>\n",
       "      <td>10.005.853-7</td>\n",
       "      <td>0</td>\n",
       "      <td>0</td>\n",
       "      <td>0</td>\n",
       "      <td>0</td>\n",
       "      <td>2</td>\n",
       "    </tr>\n",
       "  </tbody>\n",
       "</table>\n",
       "</div>"
      ],
      "text/plain": [
       "           index  Altos del Valle  Edificio Urban 1470  San Andres Del Valle  \\\n",
       "0  000.000.000-0                0                    1                     1   \n",
       "1    1.462.558-5                0                    0                     0   \n",
       "2   10.000.513-1                0                    0                     0   \n",
       "3   10.000.522-0                0                    0                     0   \n",
       "4   10.005.853-7                0                    0                     0   \n",
       "\n",
       "   Edificio Mil610  Edificio Junge  \n",
       "0                0               0  \n",
       "1                1               0  \n",
       "2                0               2  \n",
       "3                0               2  \n",
       "4                0               2  "
      ]
     },
     "execution_count": 42,
     "metadata": {},
     "output_type": "execute_result"
    }
   ],
   "source": [
    "rut_dict = dict()\n",
    "\n",
    "    \n",
    "for index, row in cot_mod.iterrows():\n",
    "    rut = row['Format Rut']\n",
    "    pr = row['Proyecto']\n",
    "    \n",
    "    if rut not in rut_dict.keys():\n",
    "        rut_dict[rut] = dict()\n",
    "        rut_dict[rut]['Altos del Valle'] = 0\n",
    "        rut_dict[rut]['Edificio Urban 1470'] = 0\n",
    "        rut_dict[rut]['San Andres Del Valle'] = 0\n",
    "        rut_dict[rut]['Edificio Mil610'] = 0\n",
    "        rut_dict[rut]['Edificio Junge'] = 0\n",
    "    \n",
    "    rut_dict[rut][pr] +=1\n",
    "\n",
    "\n",
    "\n",
    "rut_proyectos = pd.DataFrame.from_dict(rut_dict,orient='index').reset_index()\n",
    "rut_proyectos.head()\n",
    "\n",
    "# cot_mod = pd.merge(cot_mod_cp, rut_proyectos,how='left', left_on='Format Rut', right_on='index')"
   ]
  },
  {
   "cell_type": "code",
   "execution_count": 43,
   "metadata": {},
   "outputs": [
    {
     "data": {
      "text/plain": [
       "Index(['ID', 'Fecha Cotizacion', 'Medio', 'Proyecto', 'Presencial',\n",
       "       'Jefe Comercial', 'Ejecutivo Comercial', 'Total Productos',\n",
       "       'Descuentos', 'Valor Final Venta', 'RUT', 'Celular', 'Direccion',\n",
       "       'Sexo', 'Estado Civil', 'Rango Edad', 'Tipo Cliente', 'Giro',\n",
       "       'Nacionalidad', 'N° Grupo Familiar', 'Actividad', 'Empleador',\n",
       "       'Negocio', 'Clean Rut', 'Valid Rut', 'Format Rut', 'edad',\n",
       "       'recibio_descuento', '#vivienda', '#bodega', '#estacionamiento',\n",
       "       '#estudio', '#lan', 'region', 'provincia', 'comuna', 'is_nombre',\n",
       "       'is_apellido1', 'is_apellido2', 'is_nombrecompleto', 'is_correo',\n",
       "       'is_direccion', 'is_telefono', 'is_actividad', 'is_estado_civil',\n",
       "       'is_fnac', 'is_celular', 'is_profesion'],\n",
       "      dtype='object')"
      ]
     },
     "execution_count": 43,
     "metadata": {},
     "output_type": "execute_result"
    }
   ],
   "source": [
    "cot_mod.columns"
   ]
  },
  {
   "cell_type": "markdown",
   "metadata": {},
   "source": [
    "### 3.1.9 Rango Edad\n",
    "Esta variable indica el numero de veces que el cliente ha hecho cotizaciones"
   ]
  },
  {
   "cell_type": "code",
   "execution_count": 44,
   "metadata": {
    "collapsed": true
   },
   "outputs": [],
   "source": [
    "### Ver edades en cotizantes y cotizantes que llegan a negocios\n",
    "rango_edad = cot_mod['Rango Edad'].tolist()\n",
    "rango_edad_min = [];rango_edad_max = []\n",
    "\n",
    "for e in rango_edad:\n",
    "    try:\n",
    "        edad = e.split('-')\n",
    "        rango_edad_min.append(int(edad[0]))\n",
    "        rango_edad_max.append(int(edad[1]))\n",
    "    except (ValueError, AttributeError):\n",
    "        rango_edad_min.append(0)\n",
    "        rango_edad_max.append(0)\n",
    "        \n",
    "cot_mod['Edad Min'] = rango_edad_min\n",
    "cot_mod['Edad Max'] = rango_edad_max"
   ]
  },
  {
   "cell_type": "markdown",
   "metadata": {},
   "source": [
    "### 3.1.11 Negocio\n",
    "Indica si el cliente siguio el proceso de cotizacion y lo transformo en un proceso de negocio"
   ]
  },
  {
   "cell_type": "code",
   "execution_count": 46,
   "metadata": {},
   "outputs": [
    {
     "data": {
      "text/plain": [
       "(2336, 50)"
      ]
     },
     "execution_count": 46,
     "metadata": {},
     "output_type": "execute_result"
    }
   ],
   "source": [
    "# ruts de los clientes en negocio\n",
    "neg_ids = neg_all['ID Cotizacion'].unique().tolist()\n",
    "\n",
    "# cot_neg = cot_all.copy()\n",
    "cot_mod['Negocio'] = cot_all['ID'].isin(neg_ids)\n",
    "cot_mod[cot_mod['Negocio'] == True].shape"
   ]
  },
  {
   "cell_type": "markdown",
   "metadata": {},
   "source": [
    "### 3.1.12 N° Grupo Familiar\n"
   ]
  },
  {
   "cell_type": "code",
   "execution_count": 48,
   "metadata": {
    "collapsed": true
   },
   "outputs": [],
   "source": [
    "cot_mod['N° Grupo Familiar']=cot_mod['N° Grupo Familiar'].fillna('Sin Información')"
   ]
  },
  {
   "cell_type": "code",
   "execution_count": 49,
   "metadata": {
    "collapsed": true
   },
   "outputs": [],
   "source": [
    "def is_nrofam(x):\n",
    "    if x == 'Sin Información':\n",
    "        return False\n",
    "    else:\n",
    "        return True\n",
    "\n",
    "cot_mod['is_nrofam'] = [ is_nrofam(x) for x in cot_mod['N° Grupo Familiar'] ]"
   ]
  },
  {
   "cell_type": "code",
   "execution_count": 50,
   "metadata": {
    "collapsed": true
   },
   "outputs": [],
   "source": [
    "cot_mod.to_excel('..\\\\..\\\\Datos\\\\cotizaciones_transformed.xlsx')"
   ]
  },
  {
   "cell_type": "markdown",
   "metadata": {},
   "source": [
    "### 3.1.12 N° Grupo Familiar\n"
   ]
  },
  {
   "cell_type": "markdown",
   "metadata": {},
   "source": [
    "### 3.2. Extraccion de Datos\n",
    "Esta variable indica el numero de veces que el cliente ha hecho cotizaciones"
   ]
  },
  {
   "cell_type": "code",
   "execution_count": 93,
   "metadata": {},
   "outputs": [
    {
     "name": "stdout",
     "output_type": "stream",
     "text": [
      "10.011.197-7\n",
      "10.016.093-5\n",
      "10.025.981-8\n",
      "10.033.390-2\n",
      "10.034.279-0\n",
      "10.038.900-2\n",
      "10.051.640-3\n",
      "10.068.204-4\n",
      "10.069.788-2\n",
      "10.137.843-8\n",
      "10.168.822-4\n",
      "10.184.906-6\n",
      "10.237.540-8\n",
      "10.299.543-0\n",
      "10.305.957-7\n",
      "10.312.153-1\n",
      "10.344.199-4\n",
      "10.352.115-7\n",
      "10.362.175-5\n",
      "10.398.483-1\n",
      "10.424.643-5\n",
      "10.444.048-7\n",
      "10.455.079-7\n",
      "10.462.028-0\n",
      "10.479.661-3\n",
      "10.481.733-5\n",
      "10.506.051-3\n",
      "10.516.915-9\n",
      "10.540.790-4\n",
      "10.552.598-2\n",
      "10.555.698-5\n",
      "10.556.056-7\n",
      "10.577.927-5\n",
      "10.588.792-2\n",
      "10.592.310-4\n",
      "10.615.011-7\n",
      "10.623.814-6\n",
      "10.627.157-7\n",
      "10.637.991-2\n",
      "10.662.350-3\n",
      "10.665.303-8\n",
      "10.686.102-1\n",
      "10.686.979-0\n",
      "10.731.863-1\n",
      "10.748.815-4\n",
      "10.780.375-0\n",
      "10.784.972-6\n",
      "10.791.004-2\n",
      "10.792.684-4\n",
      "10.801.522-5\n",
      "10.842.892-9\n",
      "10.858.552-8\n",
      "10.872.319-k\n",
      "10.877.439-8\n",
      "10.931.772-1\n",
      "10.932.782-4\n",
      "10.939.389-4\n",
      "10.964.274-6\n",
      "10.972.232-4\n",
      "10.973.168-4\n",
      "10.973.879-4\n",
      "10.994.400-9\n",
      "11.239.681-0\n",
      "11.276.929-3\n",
      "11.307.631-3\n",
      "11.352.033-7\n",
      "11.403.245-k\n",
      "11.412.541-5\n",
      "11.448.637-k\n",
      "11.457.624-7\n",
      "11.494.360-6\n",
      "11.569.893-1\n",
      "11.572.060-0\n",
      "11.582.754-5\n",
      "11.583.365-0\n",
      "11.679.025-4\n",
      "11.682.141-9\n",
      "11.699.226-4\n",
      "11.699.470-4\n",
      "11.721.458-3\n",
      "11.778.773-7\n",
      "11.789.906-3\n",
      "11.790.238-2\n",
      "11.828.357-0\n",
      "11.895.918-3\n",
      "11.896.505-1\n",
      "11.896.950-2\n",
      "11.898.429-3\n",
      "11.900.777-1\n",
      "11.903.043-9\n",
      "11.904.993-8\n",
      "11.962.764-8\n",
      "11.984.618-8\n",
      "11.984.792-3\n",
      "11.985.632-9\n",
      "11.986.911-0\n",
      "12.013.302-0\n",
      "12.035.115-k\n",
      "12.058.056-6\n",
      "12.072.362-6\n",
      "12.081.707-8\n",
      "12.112.258-8\n",
      "12.112.503-k\n",
      "12.114.019-5\n",
      "12.137.489-7\n",
      "12.180.728-9\n",
      "12.181.016-6\n",
      "12.187.442-3\n",
      "12.222.757-k\n",
      "12.302.618-7\n",
      "12.318.328-2\n",
      "12.321.616-4\n",
      "12.321.646-6\n",
      "12.332.355-6\n",
      "12.332.678-4\n",
      "12.379.946-1\n",
      "12.382.449-0\n",
      "12.409.987-0\n",
      "12.524.132-8\n",
      "12.524.814-4\n",
      "12.525.453-5\n",
      "12.526.002-0\n",
      "12.527.807-8\n",
      "12.531.245-4\n",
      "12.531.786-3\n",
      "12.544.971-9\n",
      "12.548.392-5\n",
      "12.553.027-3\n",
      "12.553.842-8\n",
      "12.556.307-4\n",
      "12.620.994-0\n",
      "12.656.520-8\n",
      "12.695.985-0\n",
      "12.697.496-5\n",
      "12.698.377-8\n",
      "12.699.942-9\n",
      "12.702.424-3\n",
      "12.733.181-2\n",
      "12.749.021-k\n",
      "12.796.213-8\n",
      "12.796.705-9\n",
      "12.834.305-9\n",
      "12.917.196-0\n",
      "12.917.688-1\n",
      "12.919.263-1\n",
      "12.920.089-8\n",
      "12.922.084-8\n",
      "12.924.245-0\n",
      "12.924.552-2\n",
      "12.969.124-7\n",
      "12.972.300-9\n",
      "12.973.373-k\n",
      "12.973.844-8\n",
      "12.974.457-k\n",
      "12.974.804-4\n",
      "12.976.082-6\n",
      "12.979.661-8\n",
      "13.077.929-8\n",
      "13.102.633-1\n",
      "13.103.501-2\n",
      "13.103.814-3\n",
      "13.105.650-8\n",
      "13.106.762-3\n",
      "13.111.466-4\n",
      "13.113.459-2\n",
      "13.126.434-8\n",
      "13.129.628-2\n",
      "13.132.593-2\n",
      "13.133.134-7\n",
      "13.133.722-1\n",
      "13.135.119-4\n",
      "13.135.640-4\n",
      "13.137.486-0\n",
      "13.214.678-0\n",
      "13.225.994-1\n",
      "13.234.034-k\n",
      "13.281.974-2\n",
      "13.305.758-7\n",
      "13.307.032-k\n",
      "13.307.074-5\n",
      "13.307.174-1\n",
      "13.307.323-k\n",
      "13.310.521-2\n",
      "13.310.745-2\n",
      "13.311.686-9\n",
      "13.313.168-K\n",
      "13.315.154-0\n",
      "13.336.368-8\n",
      "13.376.614-6\n",
      "13.377.467-k\n",
      "13.380.665-2\n",
      "13.387.289-2\n",
      "13.427.621-5\n",
      "13.456.233-1\n",
      "13.506.506-4\n",
      "13.507.920-0\n",
      "13.508.270-8\n",
      "13.508.645-2\n",
      "13.509.720-9\n",
      "13.510.967-3\n",
      "13.512.102-9\n",
      "13.512.952-6\n",
      "13.513.762-6\n",
      "13.548.562-4\n",
      "13.563.808-0\n",
      "13.577.947-4\n",
      "13.581.726-0\n",
      "13.603.747-1\n",
      "13.604.716-7\n",
      "13.606.031-7\n",
      "13.608.443-7\n",
      "13.611.348-8\n",
      "13.621.069-6\n",
      "13.622.904-4\n",
      "13.623.058-1\n",
      "13.625.218-6\n",
      "13.628.528-9\n",
      "13.628.670-6\n",
      "13.654.808-5\n",
      "13.723.296-0\n",
      "13.723.520-k\n",
      "13.723.629-k\n",
      "13.724.549-3\n",
      "13.725.283-k\n",
      "13.725.769-6\n",
      "13.727.038-2\n",
      "13.739.033-7\n",
      "13.795.707-8\n",
      "13.796.015-k\n",
      "13.797.298-0\n",
      "13.804.341-k\n",
      "13.842.077-9\n",
      "13.843.209-2\n",
      "13.859.184-0\n",
      "13.859.636-2\n",
      "13.861.196-5\n",
      "13.861.445-k\n",
      "13.883.068-3\n",
      "13.900.217-2\n",
      "13.918.613-3\n",
      "13.950.941-2\n",
      "13.951.502-1\n",
      "13.952.181-1\n",
      "13.952.329-6\n",
      "13.952.858-1\n",
      "13.955.463-9\n",
      "13.957.801-5\n",
      "13.958.743-k\n",
      "13.959.907-1\n",
      "13.967.702-1\n",
      "13.997.707-6\n",
      "14.023.045-6\n",
      "14.024.818-5\n",
      "14.030.916-8\n",
      "14.057.523-2\n",
      "14.058.795-8\n",
      "14.059.943-3\n",
      "14.062.203-6\n",
      "14.062.580-9\n",
      "14.062.777-1\n",
      "14.066.513-4\n",
      "14.067.673-k\n",
      "14.071.047-4\n",
      "14.071.924-2\n",
      "14.101.302-5\n",
      "14.117.435-5\n",
      "14.135.639-9\n",
      "14.143.580-9\n",
      "14.205.991-6\n",
      "14.206.298-4\n",
      "14.206.520-7\n",
      "14.207.254-8\n",
      "14.207.689-6\n",
      "14.207.998-4\n",
      "14.208.025-7\n",
      "14.208.062-1\n",
      "14.208.496-1\n",
      "14.208.713-8\n",
      "14.210.296-k\n",
      "14.210.830-5\n",
      "14.211.172-1\n",
      "14.211.466-6\n",
      "14.211.533-6\n",
      "14.211.673-1\n",
      "14.211.966-8\n",
      "14.212.456-4\n",
      "14.212.712-1\n",
      "14.212.745-8\n",
      "14.214.298-8\n",
      "14.214.389-5\n",
      "14.243.204-8\n",
      "14.264.847-4\n",
      "14.269.698-3\n",
      "14.271.539-2\n",
      "14.272.788-9\n",
      "14.272.918-0\n",
      "14.279.856-5\n",
      "14.279.953-7\n",
      "14.280.190-6\n",
      "14.288.790-8\n",
      "14.320.839-7\n",
      "14.352.523-6\n",
      "14.354.083-9\n",
      "14.354.476-1\n",
      "14.354.778-7\n",
      "14.355.595-k\n",
      "14.359.061-5\n",
      "14.368.183-1\n",
      "14.371.990-1\n",
      "14.372.772-6\n",
      "14.375.129-5\n",
      "14.390.209-9\n",
      "14.390.423-7\n",
      "14.393.099-8\n",
      "14.393.108-0\n",
      "14.393.388-1\n",
      "14.397.793-5\n",
      "14.403.286-1\n",
      "14.404.410-K\n",
      "14.410.642-3\n",
      "14.458.231-4\n",
      "14.469.682-4\n",
      "14.508.119-k\n",
      "14.508.254-4\n",
      "14.512.979-6\n",
      "14.514.057-9\n",
      "14.525.500-7\n",
      "14.531.134-9\n",
      "14.534.016-0\n",
      "14.558.325-k\n",
      "14.561.868-1\n",
      "14.568.388-2\n",
      "14.571.661-6\n",
      "14.572.921-1\n",
      "14.583.675-1\n",
      "14.591.854-5\n",
      "14.596.592-6\n",
      "14.597.669-3\n",
      "14.597.854-8\n",
      "14.612.273-6\n",
      "14.617.836-7\n",
      "14.645.336-8\n",
      "14.669.588-4\n",
      "14.727.803-9\n",
      "14.762.525-1\n",
      "15.023.266-k\n",
      "15.042.009-1\n",
      "15.079.594-k\n",
      "15.108.846-5\n",
      "15.155.028-2\n",
      "15.160.207-K\n",
      "15.162.296-8\n",
      "15.173.076-0\n",
      "15.173.211-9\n",
      "15.173.261-5\n",
      "15.173.483-9\n",
      "15.173.670-k\n",
      "15.173.732-3\n",
      "15.174.407-9\n",
      "15.176.370-7\n",
      "15.176.395-2\n",
      "15.176.487-8\n",
      "15.176.760-5\n",
      "15.178.126-8\n",
      "15.178.997-8\n",
      "15.179.141-7\n",
      "15.179.357-6\n",
      "15.179.522-6\n",
      "15.180.945-6\n",
      "15.182.766-7\n",
      "15.182.947-3\n",
      "15.183.144-3\n",
      "15.183.489-2\n",
      "15.183.493-0\n",
      "15.183.637-2\n",
      "15.183.996-7\n",
      "15.184.606-8\n",
      "15.184.809-5\n",
      "15.187.063-5\n",
      "15.188.332-k\n",
      "15.188.458-k\n",
      "15.190.384-3\n",
      "15.197.731-6\n",
      "15.210.665-3\n",
      "15.211.670-5\n",
      "15.213.283-2\n",
      "15.217.706-2\n",
      "15.220.468-k\n",
      "15.220.506-6\n",
      "15.221.198-8\n",
      "15.224.351-0\n",
      "15.323.002-1\n",
      "15.333.464-1\n",
      "15.363.149-2\n",
      "15.373.272-8\n",
      "15.373.838-6\n",
      "15.376.542-1\n",
      "15.387.931-1\n",
      "15.416.993-8\n",
      "15.419.752-4\n",
      "15.490.914-1\n",
      "15.491.841-8\n",
      "15.513.442-9\n",
      "15.516.786-6\n",
      "15.517.252-5\n",
      "15.520.055-3\n",
      "15.589.448-2\n",
      "15.589.526-8\n",
      "15.590.618-9\n",
      "15.591.420-3\n",
      "15.591.697-4\n",
      "15.591.984-1\n",
      "15.592.181-1\n",
      "15.592.423-3\n",
      "15.592.939-1\n",
      "15.593.498-0\n",
      "15.600.167-8\n",
      "15.608.715-7\n",
      "15.612.470-2\n",
      "15.612.711-6\n",
      "15.612.765-5\n",
      "15.612.857-0\n",
      "15.613.615-8\n",
      "15.613.758-8\n",
      "15.614.407-k\n",
      "15.614.806-7\n",
      "15.614.941-1\n",
      "15.616.840-8\n",
      "15.617.182-4\n",
      "15.617.354-1\n",
      "15.626.634-5\n",
      "15.647.628-5\n",
      "15.648.032-0\n",
      "15.648.098-3\n",
      "15.648.235-8\n",
      "15.648.597-7\n",
      "15.658.138-0\n",
      "15.659.038-k\n",
      "15.671.413-5\n",
      "15.671.617-0\n",
      "15.671.812-2\n",
      "15.671.882-3\n",
      "15.680.994-2\n",
      "15.681.144-0\n",
      "15.756.036-0\n",
      "15.756.715-2\n",
      "15.758.634-3\n",
      "15.771.876-2\n",
      "15.775.534-k\n",
      "15.807.893-7\n",
      "15.808.225-k\n",
      "15.809.308-1\n",
      "15.810.527-6\n",
      "15.826.358-0\n",
      "15.837.495-1\n",
      "15.853.170-4\n",
      "15.853.208-5\n",
      "15.853.521-1\n",
      "15.853.929-2\n",
      "15.854.180-7\n",
      "15.855.837-8\n",
      "15.879.916-2\n",
      "15.881.753-5\n",
      "15.911.639-5\n",
      "15.912.084-8\n",
      "15.912.154-2\n",
      "15.912.197-6\n",
      "15.922.665-4\n",
      "15.924.193-9\n",
      "15.928.733-5\n",
      "15.928.804-8\n",
      "15.928.943-5\n",
      "15.936.999-4\n",
      "15.938.800-k\n",
      "15.944.908-4\n",
      "15.945.887-3\n",
      "15.954.507-5\n",
      "15.962.838-8\n",
      "15.970.845-4\n",
      "16.008.806-0\n",
      "16.008.991-1\n",
      "16.010.453-8\n",
      "16.010.937-8\n",
      "16.011.175-5\n",
      "16.011.745-1\n",
      "16.011.853-9\n",
      "16.012.189-0\n",
      "16.012.230-7\n",
      "16.012.355-9\n",
      "16.019.304-2\n",
      "16.026.926-k\n",
      "16.034.627-2\n",
      "16.037.315-6\n",
      "16.037.960-k\n",
      "16.038.342-9\n",
      "16.038.498-0\n",
      "16.038.793-9\n",
      "16.039.249-5\n",
      "16.039.339-4\n",
      "16.057.837-8\n",
      "16.062.764-6\n",
      "16.094.575-3\n",
      "16.098.398-1\n",
      "16.119.920-6\n",
      "16.137.183-1\n",
      "16.138.082-2\n",
      "16.138.640-5\n",
      "16.140.094-7\n",
      "16.140.465-9\n",
      "16.152.006-3\n",
      "16.152.644-4\n",
      "16.152.691-6\n",
      "16.152.849-8\n",
      "16.154.321-7\n",
      "16.154.323-3\n",
      "16.154.338-1\n",
      "16.154.740-9\n",
      "16.155.208-9\n",
      "16.155.253-4\n",
      "16.155.414-6\n",
      "16.155.748-k\n",
      "16.155.805-2\n",
      "16.157.282-9\n",
      "16.163.461-1\n",
      "16.167.143-6\n",
      "16.184.125-0\n",
      "16.185.616-9\n",
      "16.200.529-4\n",
      "16.215.447-8\n",
      "16.216.134-2\n",
      "16.216.136-9\n",
      "16.220.752-0\n",
      "16.221.004-1\n",
      "16.221.150-1\n",
      "16.228.612-9\n",
      "16.239.692-7\n",
      "16.240.247-1\n",
      "16.240.252-8\n",
      "16.248.187-8\n",
      "16.256.142-1\n",
      "16.262.293-5\n",
      "16.264.906-k\n",
      "16.265.406-3\n",
      "16.283.142-9\n",
      "16.283.153-4\n",
      "16.283.571-8\n",
      "16.285.169-1\n",
      "16.285.544-1\n",
      "16.285.652-9\n",
      "16.286.151-4\n",
      "16.302.973-1\n",
      "16.319.322-1\n",
      "16.327.041-2\n",
      "16.334.565-K\n",
      "16.348.045-k\n",
      "16.350.374-3\n",
      "16.352.702-2\n",
      "16.396.929-7\n",
      "16.423.618-8\n",
      "16.483.182-5\n",
      "16.489.884-9\n",
      "16.490.376-1\n",
      "16.490.461-K\n",
      "16.495.990-2\n",
      "16.499.737-5\n",
      "16.512.905-9\n",
      "16.514.475-9\n",
      "16.515.119-4\n",
      "16.515.165-8\n",
      "16.530.361-k\n",
      "16.567.302-6\n",
      "16.583.782-7\n",
      "16.598.558-3\n",
      "16.598.795-0\n",
      "16.599.679-8\n",
      "16.600.056-4\n",
      "16.600.285-0\n",
      "16.600.689-9\n",
      "16.636.161-3\n",
      "16.652.310-9\n",
      "16.685.245-5\n",
      "16.688.181-1\n",
      "16.706.857-k\n",
      "16.708.640-3\n",
      "16.724.698-2\n",
      "16.734.155-1\n",
      "16.762.514-2\n",
      "16.763.770-1\n",
      "16.764.448-1\n",
      "16.764.497-K\n",
      "16.764.667-0\n",
      "16.764.758-8\n",
      "16.764.779-0\n",
      "16.764.914-9\n",
      "16.765.921-7\n",
      "16.766.381-8\n",
      "16.767.265-5\n",
      "16.767.319-8\n",
      "16.767.704-5\n",
      "16.768.008-9\n",
      "16.769.017-3\n",
      "16.769.157-9\n",
      "16.807.156-6\n",
      "16.814.025-8\n",
      "16.826.992-7\n",
      "16.839.211-7\n",
      "16.851.614-2\n",
      "16.860.655-9\n",
      "16.863.215-0\n",
      "16.863.233-9\n",
      "16.863.240-1\n",
      "16.863.684-9\n",
      "16.863.787-k\n",
      "16.863.897-3\n",
      "16.871.510-2\n",
      "16.875.195-8\n",
      "16.895.514-6\n",
      "16.939.906-9\n",
      "16.940.289-2\n",
      "16.941.641-9\n",
      "16.944.983-k\n",
      "16.972.418-0\n",
      "16.981.872-K\n",
      "16.983.297-8\n",
      "16.988.153-7\n",
      "16.988.539-7\n",
      "16.999.920-1\n",
      "17.014.027-3\n",
      "17.029.916-7\n",
      "17.041.114-5\n",
      "17.041.234-6\n",
      "17.042.054-3\n",
      "17.042.203-1\n",
      "17.042.426-3\n",
      "17.042.720-3\n",
      "17.042.741-6\n",
      "17.042.976-1\n",
      "17.043.560-5\n",
      "17.043.876-0\n",
      "17.044.646-1\n",
      "17.045.865-6\n",
      "17.046.061-8\n",
      "17.075.990-7\n",
      "17.083.946-3\n",
      "17.096.345-8\n",
      "17.126.579-7\n",
      "17.153.324-4\n",
      "17.170.278-K\n",
      "17.199.345-8\n",
      "17.199.639-2\n",
      "17.199.829-8\n",
      "17.206.351-9\n",
      "17.207.004-3\n",
      "17.207.007-8\n",
      "17.221.033-3\n",
      "17.221.268-9\n",
      "17.222.351-6\n",
      "17.223.739-8\n",
      "17.224.305-3\n",
      "17.226.228-7\n",
      "17.248.961-3\n",
      "17.343.112-0\n",
      "17.343.761-7\n",
      "17.344.691-8\n",
      "17.344.980-1\n",
      "17.345.100-8\n",
      "17.345.992-0\n",
      "17.346.030-9\n",
      "17.346.494-0\n",
      "17.346.785-0\n",
      "17.347.476-8\n",
      "17.347.834-8\n",
      "17.348.205-1\n",
      "17.393.535-8\n",
      "17.394.470-5\n",
      "17.453.549-3\n",
      "17.461.713-9\n",
      "17.466.691-1\n",
      "17.477.919-8\n",
      "17.510.324-4\n",
      "17.513.727-0\n",
      "17.518.302-7\n",
      "17.531.054-1\n",
      "17.540.546-1\n",
      "17.573.047-8\n"
     ]
    },
    {
     "name": "stdout",
     "output_type": "stream",
     "text": [
      "17.614.409-2\n",
      "17.615.106-4\n",
      "17.615.151-k\n",
      "17.615.964-2\n",
      "17.616.672-k\n",
      "17.616.718-1\n",
      "17.616.873-0\n",
      "17.617.568-0\n",
      "17.617.876-0\n",
      "17.688.758-3\n",
      "17.699.393-6\n",
      "17.843.930-8\n",
      "17.844.156-6\n",
      "17.896.973-0\n",
      "17.955.885-8\n",
      "17.969.751-3\n",
      "17.981.732-2\n",
      "17.981.856-6\n",
      "17.981.986-4\n",
      "18.067.323-7\n",
      "18.068.648-7\n",
      "18.106.463-3\n",
      "18.110.927-0\n",
      "18.111.004-k\n",
      "18.142.459-1\n",
      "18.143.038-9\n",
      "18.143.325-6\n",
      "18.144.306-5\n",
      "18.144.457-6\n",
      "18.158.539-0\n",
      "18.290.803-7\n",
      "18.342.664-8\n",
      "18.386.444-0\n",
      "18.419.959-9\n",
      "18.815.516-2\n",
      "18.962.075-6\n",
      "19.373.375-1\n",
      "19.454.989-k\n",
      "19.520.484-5\n",
      "21.279.977-7\n",
      "22.082.217-6\n",
      "22.120.134-5\n",
      "23.056.541-4\n",
      "24.023.866-7\n",
      "24.137.745-8\n",
      "24.431.769-3\n",
      "24.436.319-9\n",
      "24.448.087-K\n",
      "24.730.975-6\n",
      "24.832.760-k\n",
      "25.285.213-1\n",
      "25.296.872-5\n",
      "25.363.085-K\n",
      "25.406.101-8\n",
      "25.434.747-7\n",
      "25.526.438-9\n",
      "4.733.447-0\n",
      "4.984.981-8\n",
      "4.988.511-3\n",
      "5.008.689-5\n",
      "5.174.535-3\n",
      "5.301.735-5\n",
      "5.351.630-0\n",
      "5.371.822-1\n",
      "5.411.048-0\n",
      "5.488.405-2\n",
      "5.516.302-2\n",
      "5.520.792-5\n",
      "5.564.009-2\n",
      "5.611.760-1\n",
      "5.671.312-3\n",
      "5.679.524-3\n",
      "5.759.267-2\n",
      "5.802.314-0\n",
      "5.997.717-2\n",
      "6.049.569-6\n",
      "6.376.294-6\n",
      "6.411.534-0\n",
      "6.437.917-8\n",
      "6.438.587-9\n",
      "6.457.176-1\n",
      "6.481.466-4\n",
      "6.487.677-5\n",
      "6.515.933-3\n",
      "6.522.564-6\n",
      "6.583.598-3\n",
      "6.637.905-1\n",
      "6.767.403-0\n",
      "6.794.433-k\n",
      "6.826.267-4\n",
      "6.828.622-0\n",
      "6.942.556-9\n",
      "6.989.030-k\n",
      "6.992.106-k\n",
      "7.135.213-7\n",
      "7.331.885-8\n",
      "7.339.042-7\n",
      "7.454.672-2\n",
      "7.490.534-k\n",
      "7.508.020-4\n",
      "7.527.187-5\n",
      "7.553.349-7\n",
      "7.649.581-5\n",
      "7.717.630-6\n",
      "7.721.154-3\n",
      "7.776.422-4\n",
      "7.873.295-4\n",
      "7.960.306-6\n",
      "76.516.199-1\n",
      "8.029.060-8\n",
      "8.080.873-9\n",
      "8.104.482-1\n",
      "8.147.467-2\n",
      "8.153.113-7\n",
      "8.193.470-3\n",
      "8.213.765-3\n",
      "8.220.685-k\n",
      "8.230.535-1\n",
      "8.234.007-6\n",
      "8.299.030-5\n",
      "8.304.152-8\n",
      "8.489.254-8\n",
      "8.509.278-2\n",
      "8.695.462-1\n",
      "8.704.276-6\n",
      "8.743.950-K\n",
      "8.751.004-2\n",
      "8.951.727-3\n",
      "9.014.446-4\n",
      "9.014.879-6\n",
      "9.053.649-4\n",
      "9.097.496-3\n",
      "9.198.433-4\n",
      "9.262.028-k\n",
      "9.276.763-9\n",
      "9.280.438-0\n",
      "9.313.953-4\n",
      "9.362.550-1\n",
      "9.392.253-0\n",
      "9.440.755-9\n",
      "9.449.905-4\n",
      "9.452.086-k\n",
      "9.456.194-9\n",
      "9.457.607-5\n",
      "9.507.823-0\n",
      "9.516.689-k\n",
      "9.560.501-k\n",
      "9.562.059-0\n",
      "9.562.214-3\n",
      "9.594.006-4\n",
      "9.652.524-9\n",
      "9.656.026-5\n",
      "9.672.355-5\n",
      "9.747.337-4\n",
      "9.767.642-9\n",
      "9.775.334-2\n",
      "9.817.982-8\n",
      "9.838.698-k\n",
      "9.870.673-9\n",
      "9.887.258-2\n",
      "9.913.367-8\n",
      "9.913.669-3\n",
      "9.982.194-9\n",
      "9.994.832-9\n",
      "9.996.079-5\n",
      "850\n"
     ]
    }
   ],
   "source": [
    "#View data integration\n",
    "iterator = 0\n",
    "for group, frame in  cot_mod.groupby('Format Rut'):\n",
    "    \n",
    "#     print(frame['N° Grupo Familiar'].isnull())\n",
    "    #Check , debe ir a data exploration\n",
    "    arr = frame['Negocio'].unique()\n",
    "    l = len(arr)\n",
    "    if l > 1:\n",
    "        if True in arr: \n",
    "            iterator +=1\n",
    "            print(group)\n",
    "#         print(l)\n",
    "\n",
    "print(iterator)"
   ]
  },
  {
   "cell_type": "code",
   "execution_count": 91,
   "metadata": {},
   "outputs": [
    {
     "data": {
      "text/plain": [
       "True"
      ]
     },
     "execution_count": 91,
     "metadata": {},
     "output_type": "execute_result"
    }
   ],
   "source": [
    "True in [False, True]"
   ]
  },
  {
   "cell_type": "markdown",
   "metadata": {},
   "source": [
    "### 3.1.10.Tiempo entre Cotizaciones\n",
    "Esta variable indica el numero de veces que el cliente ha hecho cotizaciones"
   ]
  },
  {
   "cell_type": "code",
   "execution_count": 53,
   "metadata": {
    "collapsed": true
   },
   "outputs": [],
   "source": [
    "# Construir 'promedio_de_tiempo' entre cotizacones donde participa el mismo rut"
   ]
  },
  {
   "cell_type": "code",
   "execution_count": 76,
   "metadata": {},
   "outputs": [
    {
     "data": {
      "text/plain": [
       "Index(['ID', 'Fecha Cotizacion', 'Medio', 'Proyecto', 'Presencial',\n",
       "       'Jefe Comercial', 'Ejecutivo Comercial', 'Total Productos',\n",
       "       'Descuentos', 'Valor Final Venta', 'RUT', 'Celular', 'Direccion',\n",
       "       'Sexo', 'Estado Civil', 'Rango Edad', 'Tipo Cliente', 'Giro',\n",
       "       'Nacionalidad', 'N° Grupo Familiar', 'Actividad', 'Empleador',\n",
       "       'Negocio', 'Clean Rut', 'Valid Rut', 'Format Rut', 'edad',\n",
       "       'recibio_descuento', '#vivienda', '#bodega', '#estacionamiento',\n",
       "       '#estudio', '#lan', 'region', 'provincia', 'comuna', 'is_nombre',\n",
       "       'is_apellido1', 'is_apellido2', 'is_nombrecompleto', 'is_correo',\n",
       "       'is_direccion', 'is_telefono', 'is_actividad', 'is_estado_civil',\n",
       "       'is_fnac', 'is_celular', 'is_profesion', 'Edad Min', 'Edad Max',\n",
       "       'is_nrofam'],\n",
       "      dtype='object')"
      ]
     },
     "execution_count": 76,
     "metadata": {},
     "output_type": "execute_result"
    }
   ],
   "source": [
    "cot_mod.columns"
   ]
  },
  {
   "cell_type": "code",
   "execution_count": 77,
   "metadata": {},
   "outputs": [
    {
     "data": {
      "text/plain": [
       "6184"
      ]
     },
     "execution_count": 77,
     "metadata": {},
     "output_type": "execute_result"
    }
   ],
   "source": [
    "len(cot_mod['Clean Rut'].unique())"
   ]
  },
  {
   "cell_type": "markdown",
   "metadata": {},
   "source": [
    "# 4.Integrate Data"
   ]
  },
  {
   "cell_type": "code",
   "execution_count": 94,
   "metadata": {},
   "outputs": [
    {
     "name": "stdout",
     "output_type": "stream",
     "text": [
      "6184\n"
     ]
    }
   ],
   "source": [
    "# Construir '#cotizaciones' a partir del nro de filas donde participa el mismo rut\n",
    "cot_ruts = pd.DataFrame()\n",
    "\n",
    "nro_cot_depto, nro_cot_esta, nro_cot_estu, nro_cot_bod  = [], [], [], []\n",
    "\n",
    "mean_cot_depto, mean_cot_esta, mean_cot_estu, mean_cot_bod = [], [], [], []\n",
    "\n",
    "ruts, ruts_nro_cot, rut_reg, rut_prov , rut_com = [], [], [] , [], []\n",
    "\n",
    "is_nombre, is_apellido1, is_appelido2, is_nombrecompleto, is_direccion = [], [], [], [], [] \n",
    "is_telefono, is_celular, is_fnac, is_nrofam, is_profesion = [], [], [], [], []\n",
    "\n",
    "rut = []\n",
    "\n",
    "max_rango_edad = []\n",
    "\n",
    "nro_proyectos = []\n",
    "\n",
    "negocio = []\n",
    "\n",
    "tipo_cliente = []\n",
    "\n",
    "sexo = []\n",
    "\n",
    "\n",
    "iterator = 0\n",
    "for group, frame in  cot_mod.groupby('Format Rut'):\n",
    "    iterator += 1\n",
    "    is_nombre.append(frame['is_nombre'].tolist()[0])\n",
    "    is_apellido1.append(frame['is_apellido1'].tolist()[0])\n",
    "    is_appelido2.append(frame['is_apellido2'].tolist()[0])\n",
    "    is_nombrecompleto.append(frame['is_nombrecompleto'].tolist()[0])\n",
    "    is_direccion.append(frame['is_direccion'].tolist()[0])\n",
    "    is_telefono.append(frame['is_telefono'].tolist()[0])\n",
    "    is_celular.append(frame['is_celular'].tolist()[0])\n",
    "    is_fnac.append(frame['is_fnac'].tolist()[0])\n",
    "    is_profesion.append(frame['is_profesion'].tolist()[0])\n",
    "    is_nrofam.append(frame['is_nrofam'].tolist()[0])\n",
    "    \n",
    "    rut.append(group)\n",
    "    sexo.append(frame['Sexo'].tolist()[0])\n",
    "    \n",
    "    tipo_cliente.append(frame['Tipo Cliente'].tolist()[0])\n",
    "    \n",
    "    max_rango_edad.append(frame['Edad Max'].tolist()[0])\n",
    "\n",
    "    nro_proyectos.append(len(frame['Proyecto'].unique()))\n",
    "    \n",
    "    arr = frame['Negocio'].tolist()\n",
    "    if True in arr:   \n",
    "        negocio.append(True)\n",
    "    else:\n",
    "        negocio.append(False)\n",
    "    \n",
    "    ruts.append(group)\n",
    "    rut_reg.append(frame['region'].tolist()[0])\n",
    "    rut_prov.append(frame['provincia'].tolist()[0])\n",
    "    rut_com.append(frame['comuna'].tolist()[0])\n",
    "    \n",
    "    nro_cot_depto.append(frame['#vivienda'].sum())\n",
    "    nro_cot_bod.append(frame['#bodega'].sum())\n",
    "    nro_cot_esta.append(frame['#estacionamiento'].sum())\n",
    "    nro_cot_estu.append(frame['#estudio'].sum())\n",
    "    \n",
    "    mean_cot_depto.append(frame['#vivienda'].mean())\n",
    "    mean_cot_bod.append(frame['#bodega'].mean())\n",
    "    mean_cot_esta.append(frame['#estacionamiento'].mean())\n",
    "    mean_cot_estu.append(frame['#estudio'].mean())\n",
    "    ruts_nro_cot.append(frame['ID'].count())\n",
    "    \n",
    "print(iterator)"
   ]
  },
  {
   "cell_type": "code",
   "execution_count": 95,
   "metadata": {},
   "outputs": [
    {
     "name": "stdout",
     "output_type": "stream",
     "text": [
      "(6184, 27)\n"
     ]
    },
    {
     "data": {
      "text/html": [
       "<div>\n",
       "<style>\n",
       "    .dataframe thead tr:only-child th {\n",
       "        text-align: right;\n",
       "    }\n",
       "\n",
       "    .dataframe thead th {\n",
       "        text-align: left;\n",
       "    }\n",
       "\n",
       "    .dataframe tbody tr th {\n",
       "        vertical-align: top;\n",
       "    }\n",
       "</style>\n",
       "<table border=\"1\" class=\"dataframe\">\n",
       "  <thead>\n",
       "    <tr style=\"text-align: right;\">\n",
       "      <th></th>\n",
       "      <th>is_apellido1</th>\n",
       "      <th>is_appelido2</th>\n",
       "      <th>is_celular</th>\n",
       "      <th>is_direccion</th>\n",
       "      <th>is_fnac</th>\n",
       "      <th>is_nombre</th>\n",
       "      <th>is_nombrecompleto</th>\n",
       "      <th>is_nrofam</th>\n",
       "      <th>is_profesion</th>\n",
       "      <th>is_telefono</th>\n",
       "      <th>...</th>\n",
       "      <th>mean_cot_estu</th>\n",
       "      <th>negocio</th>\n",
       "      <th>nro_cot_bod</th>\n",
       "      <th>nro_cot_depto</th>\n",
       "      <th>nro_cot_esta</th>\n",
       "      <th>nro_cot_estu</th>\n",
       "      <th>nro_proyectos</th>\n",
       "      <th>rut</th>\n",
       "      <th>sexo</th>\n",
       "      <th>tipo_cliente</th>\n",
       "    </tr>\n",
       "  </thead>\n",
       "  <tbody>\n",
       "    <tr>\n",
       "      <th>0</th>\n",
       "      <td>True</td>\n",
       "      <td>True</td>\n",
       "      <td>True</td>\n",
       "      <td>False</td>\n",
       "      <td>True</td>\n",
       "      <td>True</td>\n",
       "      <td>True</td>\n",
       "      <td>False</td>\n",
       "      <td>True</td>\n",
       "      <td>True</td>\n",
       "      <td>...</td>\n",
       "      <td>0.0</td>\n",
       "      <td>False</td>\n",
       "      <td>1</td>\n",
       "      <td>2</td>\n",
       "      <td>1</td>\n",
       "      <td>0</td>\n",
       "      <td>2</td>\n",
       "      <td>000.000.000-0</td>\n",
       "      <td>Femenino</td>\n",
       "      <td>Natural</td>\n",
       "    </tr>\n",
       "    <tr>\n",
       "      <th>1</th>\n",
       "      <td>True</td>\n",
       "      <td>True</td>\n",
       "      <td>True</td>\n",
       "      <td>False</td>\n",
       "      <td>False</td>\n",
       "      <td>True</td>\n",
       "      <td>True</td>\n",
       "      <td>False</td>\n",
       "      <td>False</td>\n",
       "      <td>True</td>\n",
       "      <td>...</td>\n",
       "      <td>0.0</td>\n",
       "      <td>False</td>\n",
       "      <td>0</td>\n",
       "      <td>1</td>\n",
       "      <td>1</td>\n",
       "      <td>0</td>\n",
       "      <td>1</td>\n",
       "      <td>1.462.558-5</td>\n",
       "      <td>Masculino</td>\n",
       "      <td>Natural</td>\n",
       "    </tr>\n",
       "    <tr>\n",
       "      <th>2</th>\n",
       "      <td>True</td>\n",
       "      <td>True</td>\n",
       "      <td>True</td>\n",
       "      <td>False</td>\n",
       "      <td>False</td>\n",
       "      <td>True</td>\n",
       "      <td>True</td>\n",
       "      <td>False</td>\n",
       "      <td>False</td>\n",
       "      <td>False</td>\n",
       "      <td>...</td>\n",
       "      <td>1.0</td>\n",
       "      <td>False</td>\n",
       "      <td>2</td>\n",
       "      <td>2</td>\n",
       "      <td>2</td>\n",
       "      <td>2</td>\n",
       "      <td>1</td>\n",
       "      <td>10.000.513-1</td>\n",
       "      <td>Masculino</td>\n",
       "      <td>Natural</td>\n",
       "    </tr>\n",
       "    <tr>\n",
       "      <th>3</th>\n",
       "      <td>True</td>\n",
       "      <td>True</td>\n",
       "      <td>True</td>\n",
       "      <td>True</td>\n",
       "      <td>False</td>\n",
       "      <td>True</td>\n",
       "      <td>True</td>\n",
       "      <td>True</td>\n",
       "      <td>True</td>\n",
       "      <td>False</td>\n",
       "      <td>...</td>\n",
       "      <td>0.0</td>\n",
       "      <td>True</td>\n",
       "      <td>2</td>\n",
       "      <td>2</td>\n",
       "      <td>2</td>\n",
       "      <td>0</td>\n",
       "      <td>1</td>\n",
       "      <td>10.000.522-0</td>\n",
       "      <td>Masculino</td>\n",
       "      <td>Natural</td>\n",
       "    </tr>\n",
       "    <tr>\n",
       "      <th>4</th>\n",
       "      <td>True</td>\n",
       "      <td>True</td>\n",
       "      <td>True</td>\n",
       "      <td>False</td>\n",
       "      <td>False</td>\n",
       "      <td>True</td>\n",
       "      <td>True</td>\n",
       "      <td>False</td>\n",
       "      <td>False</td>\n",
       "      <td>False</td>\n",
       "      <td>...</td>\n",
       "      <td>0.0</td>\n",
       "      <td>False</td>\n",
       "      <td>2</td>\n",
       "      <td>2</td>\n",
       "      <td>2</td>\n",
       "      <td>0</td>\n",
       "      <td>1</td>\n",
       "      <td>10.005.853-7</td>\n",
       "      <td>NaN</td>\n",
       "      <td>Natural</td>\n",
       "    </tr>\n",
       "  </tbody>\n",
       "</table>\n",
       "<p>5 rows × 27 columns</p>\n",
       "</div>"
      ],
      "text/plain": [
       "   is_apellido1  is_appelido2  is_celular  is_direccion  is_fnac  is_nombre  \\\n",
       "0          True          True        True         False     True       True   \n",
       "1          True          True        True         False    False       True   \n",
       "2          True          True        True         False    False       True   \n",
       "3          True          True        True          True    False       True   \n",
       "4          True          True        True         False    False       True   \n",
       "\n",
       "   is_nombrecompleto  is_nrofam  is_profesion  is_telefono      ...       \\\n",
       "0               True      False          True         True      ...        \n",
       "1               True      False         False         True      ...        \n",
       "2               True      False         False        False      ...        \n",
       "3               True       True          True        False      ...        \n",
       "4               True      False         False        False      ...        \n",
       "\n",
       "  mean_cot_estu negocio nro_cot_bod  nro_cot_depto  nro_cot_esta  \\\n",
       "0           0.0   False           1              2             1   \n",
       "1           0.0   False           0              1             1   \n",
       "2           1.0   False           2              2             2   \n",
       "3           0.0    True           2              2             2   \n",
       "4           0.0   False           2              2             2   \n",
       "\n",
       "   nro_cot_estu  nro_proyectos            rut       sexo  tipo_cliente  \n",
       "0             0              2  000.000.000-0   Femenino       Natural  \n",
       "1             0              1    1.462.558-5  Masculino       Natural  \n",
       "2             2              1   10.000.513-1  Masculino       Natural  \n",
       "3             0              1   10.000.522-0  Masculino       Natural  \n",
       "4             0              1   10.005.853-7        NaN       Natural  \n",
       "\n",
       "[5 rows x 27 columns]"
      ]
     },
     "execution_count": 95,
     "metadata": {},
     "output_type": "execute_result"
    }
   ],
   "source": [
    "list_cols = [ruts,rut_reg,rut_prov,rut_com,nro_proyectos,nro_cot_bod, nro_cot_depto, nro_cot_esta, nro_cot_estu, mean_cot_bod,\n",
    "             mean_cot_depto,mean_cot_esta,mean_cot_estu, negocio,is_nombre,\n",
    "             is_apellido1,is_appelido2,is_nombrecompleto,is_direccion,is_telefono,\n",
    "             is_celular,is_fnac,max_rango_edad,tipo_cliente,sexo, is_nrofam, is_profesion,rut]\n",
    "list_labels = ['rut','loc_region','loc_provincia','loc_comuna','nro_proyectos','nro_cot_bod', 'nro_cot_depto', 'nro_cot_esta', 'nro_cot_estu', 'mean_cot_bod',\n",
    "             'mean_cot_depto','mean_cot_esta','mean_cot_estu','negocio',\n",
    "            'is_nombre','is_apellido1','is_appelido2','is_nombrecompleto','is_direccion','is_telefono',\n",
    "             'is_celular','is_fnac','max_rango_edad','tipo_cliente','sexo','is_nrofam','is_profesion','rut']\n",
    "\n",
    "zipped = list(zip(list_labels,list_cols))\n",
    "data = dict(zipped)\n",
    "personas = pd.DataFrame(data)\n",
    "print(personas.shape)\n",
    "personas.head()"
   ]
  },
  {
   "cell_type": "code",
   "execution_count": 96,
   "metadata": {},
   "outputs": [
    {
     "name": "stdout",
     "output_type": "stream",
     "text": [
      "6184\n"
     ]
    }
   ],
   "source": [
    "print(len(personas['rut'].unique()))"
   ]
  },
  {
   "cell_type": "code",
   "execution_count": 97,
   "metadata": {},
   "outputs": [
    {
     "data": {
      "text/plain": [
       "1101"
      ]
     },
     "execution_count": 97,
     "metadata": {},
     "output_type": "execute_result"
    }
   ],
   "source": [
    "len(personas[personas.negocio == True])"
   ]
  },
  {
   "cell_type": "code",
   "execution_count": 98,
   "metadata": {},
   "outputs": [
    {
     "data": {
      "text/plain": [
       "Index(['is_apellido1', 'is_appelido2', 'is_celular', 'is_direccion', 'is_fnac',\n",
       "       'is_nombre', 'is_nombrecompleto', 'is_nrofam', 'is_profesion',\n",
       "       'is_telefono', 'loc_comuna', 'loc_provincia', 'loc_region',\n",
       "       'max_rango_edad', 'mean_cot_bod', 'mean_cot_depto', 'mean_cot_esta',\n",
       "       'mean_cot_estu', 'negocio', 'nro_cot_bod', 'nro_cot_depto',\n",
       "       'nro_cot_esta', 'nro_cot_estu', 'nro_proyectos', 'rut', 'sexo',\n",
       "       'tipo_cliente'],\n",
       "      dtype='object')"
      ]
     },
     "execution_count": 98,
     "metadata": {},
     "output_type": "execute_result"
    }
   ],
   "source": [
    "personas.columns"
   ]
  },
  {
   "cell_type": "code",
   "execution_count": 99,
   "metadata": {
    "collapsed": true
   },
   "outputs": [],
   "source": [
    "personas = pd.merge(personas, rut_proyectos, how = 'inner',left_on='rut',right_on='index')\n",
    "personas = personas.drop(['index'],axis=1)"
   ]
  },
  {
   "cell_type": "code",
   "execution_count": 57,
   "metadata": {
    "collapsed": true
   },
   "outputs": [],
   "source": [
    "# personas.columns"
   ]
  },
  {
   "cell_type": "code",
   "execution_count": 58,
   "metadata": {
    "collapsed": true
   },
   "outputs": [],
   "source": [
    "# personas.info()"
   ]
  },
  {
   "cell_type": "code",
   "execution_count": 59,
   "metadata": {
    "collapsed": true
   },
   "outputs": [],
   "source": [
    "# ruts_scrapped.info()"
   ]
  },
  {
   "cell_type": "code",
   "execution_count": 100,
   "metadata": {
    "collapsed": true
   },
   "outputs": [],
   "source": [
    "personas = pd.merge(personas,ruts_scrapped,how='outer',left_on='rut',right_on='RUT')\n"
   ]
  },
  {
   "cell_type": "code",
   "execution_count": 101,
   "metadata": {
    "collapsed": true
   },
   "outputs": [],
   "source": [
    "personas = personas.drop(['Name','Adress','Comuna','RUT'],axis=1)"
   ]
  },
  {
   "cell_type": "code",
   "execution_count": 102,
   "metadata": {
    "collapsed": true
   },
   "outputs": [],
   "source": [
    "# personas.info()"
   ]
  },
  {
   "cell_type": "code",
   "execution_count": 103,
   "metadata": {
    "collapsed": true
   },
   "outputs": [],
   "source": [
    "sb.factorplot(x='sexo', kind='count', data=personas);"
   ]
  },
  {
   "cell_type": "code",
   "execution_count": 104,
   "metadata": {
    "collapsed": true
   },
   "outputs": [],
   "source": [
    "def clean_sex(x,y):\n",
    "#     print(x)\n",
    "    x = str(x)\n",
    "    x = x.replace(' ','')\n",
    "    if x == 'VAR':\n",
    "        return 'Masculino'\n",
    "    elif x == 'MUJ':\n",
    "        return 'Femenino'\n",
    "    else:\n",
    "        return y\n",
    "\n",
    "personas['sexo'] = [clean_sex(x,y) for x,y in zip(personas['Gender'].values,personas['sexo'].values)]"
   ]
  },
  {
   "cell_type": "code",
   "execution_count": 105,
   "metadata": {
    "collapsed": true
   },
   "outputs": [],
   "source": [
    "personas.sexo = personas.sexo.fillna('Sin Información')\n",
    "sb.factorplot(x='sexo', kind='count', data=personas);"
   ]
  },
  {
   "cell_type": "code",
   "execution_count": 106,
   "metadata": {
    "collapsed": true
   },
   "outputs": [],
   "source": [
    "personas = personas.drop(['Gender'],axis=1)"
   ]
  },
  {
   "cell_type": "code",
   "execution_count": 107,
   "metadata": {},
   "outputs": [
    {
     "name": "stdout",
     "output_type": "stream",
     "text": [
      "87\n"
     ]
    }
   ],
   "source": [
    "print(personas.tipo_cliente.isnull().sum())\n",
    "personas.tipo_cliente = personas.tipo_cliente.fillna('Natural')"
   ]
  },
  {
   "cell_type": "markdown",
   "metadata": {},
   "source": [
    "# 5.Format Data"
   ]
  },
  {
   "cell_type": "code",
   "execution_count": 108,
   "metadata": {
    "collapsed": true
   },
   "outputs": [],
   "source": [
    "personas['loc_comuna'] = personas['loc_comuna'].astype('category')\n",
    "personas['loc_provincia'] = personas['loc_provincia'].astype('category')\n",
    "personas['loc_region'] = personas['loc_region'].astype('category')\n",
    "personas['tipo_cliente'] = personas['tipo_cliente'].astype('category')\n",
    "personas['sexo'] = personas['sexo'].astype('category')\n",
    "personas = personas.dropna()"
   ]
  },
  {
   "cell_type": "code",
   "execution_count": 111,
   "metadata": {
    "collapsed": true
   },
   "outputs": [],
   "source": [
    "personas.to_csv('..\\\\..\\\\Datos\\\\working\\\\personas_cotizacion2.csv')\n",
    "personas.to_excel('..\\\\..\\\\Datos\\\\working\\\\personas_cotizacion2.xlsx')"
   ]
  },
  {
   "cell_type": "code",
   "execution_count": 70,
   "metadata": {
    "collapsed": true
   },
   "outputs": [],
   "source": [
    "# personas.info()\n",
    "# g = sb.factorplot(x='sexo', col='proyecto', kind='count', data=personas);"
   ]
  }
 ],
 "metadata": {
  "kernelspec": {
   "display_name": "Python 3",
   "language": "python",
   "name": "python3"
  },
  "language_info": {
   "codemirror_mode": {
    "name": "ipython",
    "version": 3
   },
   "file_extension": ".py",
   "mimetype": "text/x-python",
   "name": "python",
   "nbconvert_exporter": "python",
   "pygments_lexer": "ipython3",
   "version": "3.6.3"
  }
 },
 "nbformat": 4,
 "nbformat_minor": 2
}
