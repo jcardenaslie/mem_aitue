{
 "cells": [
  {
   "cell_type": "code",
   "execution_count": 1,
   "metadata": {
    "collapsed": true
   },
   "outputs": [],
   "source": [
    "import pandas as pd\n",
    "import seaborn as sb"
   ]
  },
  {
   "cell_type": "markdown",
   "metadata": {},
   "source": [
    "# 1 Select Data"
   ]
  },
  {
   "cell_type": "code",
   "execution_count": 2,
   "metadata": {
    "collapsed": true
   },
   "outputs": [],
   "source": [
    "cot_all = pd.read_excel(\"..\\\\..\\\\Datos\\\\cotizaciones_all.xlsx\")\n",
    "neg_all = pd.read_excel(\"..\\\\..\\\\Datos\\\\negocios_all.xlsx\")"
   ]
  },
  {
   "cell_type": "code",
   "execution_count": 3,
   "metadata": {
    "collapsed": true
   },
   "outputs": [],
   "source": [
    "# cot_all.columns"
   ]
  },
  {
   "cell_type": "code",
   "execution_count": 4,
   "metadata": {
    "collapsed": true
   },
   "outputs": [],
   "source": [
    "cot_all.drop(['Remoto','Etapa','Tipo de Medio','Razon Social','Cargo',\n",
    "              'Situacion Laboral','Empleador','Antiguedad Laboral'],\n",
    "            axis=1,inplace=True)"
   ]
  },
  {
   "cell_type": "code",
   "execution_count": 5,
   "metadata": {
    "collapsed": true
   },
   "outputs": [],
   "source": [
    "cot_mod = cot_all.copy()"
   ]
  },
  {
   "cell_type": "code",
   "execution_count": 6,
   "metadata": {},
   "outputs": [
    {
     "data": {
      "text/plain": [
       "(2336, 34)"
      ]
     },
     "execution_count": 6,
     "metadata": {},
     "output_type": "execute_result"
    }
   ],
   "source": [
    "# ruts de los clientes en negocio\n",
    "neg_ids = neg_all['ID Cotizacion'].unique().tolist()\n",
    "\n",
    "# cot_neg = cot_all.copy()\n",
    "cot_mod['Negocio'] = cot_all['ID'].isin(neg_ids)\n",
    "cot_mod[cot_mod['Negocio'] == True].shape"
   ]
  },
  {
   "cell_type": "markdown",
   "metadata": {},
   "source": [
    "# 2 Clean Data"
   ]
  },
  {
   "cell_type": "code",
   "execution_count": 7,
   "metadata": {
    "collapsed": true
   },
   "outputs": [],
   "source": [
    "# variables a impiar y chequear\n",
    "\n",
    "# Limpiar variable fecha de nacimiento de alguna manera\n",
    "# Limpiar variable Sexo usando rutificador\n",
    "# Limpar variables Direccion usando en lo posible el rutificador y otras fuentes\n",
    "# Llenar mv en decuentos con 0"
   ]
  },
  {
   "cell_type": "markdown",
   "metadata": {},
   "source": [
    "## 2.1 Rut\n",
    "Arreglar Ruts, luego validarlos para aplicar data crawling en rutificador.\n",
    "Si el rut esta mal escrito por ende no es valido, se prosigue a buscar el rut por el nombre y arreglar el rut.\n",
    "Todo esto con el find de obtener el genero, direccion, latiyud y longitud del cotizante"
   ]
  },
  {
   "cell_type": "markdown",
   "metadata": {},
   "source": [
    "### 2.1.1 Funciones\n",
    "Funciones para tratar los ruts"
   ]
  },
  {
   "cell_type": "code",
   "execution_count": 8,
   "metadata": {
    "collapsed": true
   },
   "outputs": [],
   "source": [
    "def format_rut(x):\n",
    "    rut = x.split('-')\n",
    "    l_s = list(rut[0])\n",
    "    r_l = l_s[::-1]\n",
    "    new = []\n",
    "    i = 0\n",
    "    new.append(rut[1])\n",
    "    new.append('-')\n",
    "    for c in r_l:\n",
    "        if i==3:\n",
    "            new.append('.')\n",
    "            i = 0\n",
    "        new.append(c)\n",
    "        i +=1\n",
    "    rut = ''.join(new[::-1])\n",
    "    return rut"
   ]
  },
  {
   "cell_type": "code",
   "execution_count": 9,
   "metadata": {
    "collapsed": true
   },
   "outputs": [],
   "source": [
    "import chile_rut\n",
    "import re\n",
    "\n",
    "def val_rut(x):\n",
    "    x = str(x)\n",
    "    if len(x) == 0:\n",
    "        return False\n",
    "    x = re.sub('[.|!@#$]', '', x)\n",
    "    \n",
    "    if len(x.split('-')) >= 2:\n",
    "        return chile_rut.validate_rut(x)\n",
    "    else:\n",
    "        x = x[:-1] + '-' + x[-1]\n",
    "        return chile_rut.validate_rut(x)\n",
    "\n",
    "def clean_rut(x):\n",
    "    x = str(x)\n",
    "    if len(x) == 0:\n",
    "        return False\n",
    "    x = re.sub('[.|!@#$]', '', x)\n",
    "    \n",
    "    if len(x.split('-')) >= 2:\n",
    "        return x\n",
    "    else:\n",
    "        x = x[:-1] + '-' + x[-1]\n",
    "        return x\n",
    "    \n",
    "cot_mod['Clean Rut'] = [clean_rut(x) for x in cot_mod['RUT'].values]\n",
    "cot_mod['Valid Rut'] = [val_rut(x) for x in cot_mod['Clean Rut'].values]\n"
   ]
  },
  {
   "cell_type": "markdown",
   "metadata": {},
   "source": [
    "### 2.1.1 Insights\n",
    "Revision de los ruts, mal formaciones, ruts malos que tienen negocios, etc"
   ]
  },
  {
   "cell_type": "code",
   "execution_count": 10,
   "metadata": {},
   "outputs": [
    {
     "name": "stdout",
     "output_type": "stream",
     "text": [
      "Ruts que hicieron negocios pero no son validos\n"
     ]
    },
    {
     "data": {
      "text/html": [
       "<div>\n",
       "<style>\n",
       "    .dataframe thead tr:only-child th {\n",
       "        text-align: right;\n",
       "    }\n",
       "\n",
       "    .dataframe thead th {\n",
       "        text-align: left;\n",
       "    }\n",
       "\n",
       "    .dataframe tbody tr th {\n",
       "        vertical-align: top;\n",
       "    }\n",
       "</style>\n",
       "<table border=\"1\" class=\"dataframe\">\n",
       "  <thead>\n",
       "    <tr style=\"text-align: right;\">\n",
       "      <th></th>\n",
       "      <th>Nombre</th>\n",
       "      <th>RUT</th>\n",
       "      <th>Negocio</th>\n",
       "      <th>Valid Rut</th>\n",
       "      <th>Clean Rut</th>\n",
       "    </tr>\n",
       "  </thead>\n",
       "  <tbody>\n",
       "    <tr>\n",
       "      <th>7390</th>\n",
       "      <td>max boris</td>\n",
       "      <td>14030274-6</td>\n",
       "      <td>True</td>\n",
       "      <td>False</td>\n",
       "      <td>14030274-6</td>\n",
       "    </tr>\n",
       "    <tr>\n",
       "      <th>7504</th>\n",
       "      <td>max boris</td>\n",
       "      <td>14030274-6</td>\n",
       "      <td>True</td>\n",
       "      <td>False</td>\n",
       "      <td>14030274-6</td>\n",
       "    </tr>\n",
       "    <tr>\n",
       "      <th>1704</th>\n",
       "      <td>Error</td>\n",
       "      <td>15516786-8</td>\n",
       "      <td>True</td>\n",
       "      <td>False</td>\n",
       "      <td>15516786-8</td>\n",
       "    </tr>\n",
       "  </tbody>\n",
       "</table>\n",
       "</div>"
      ],
      "text/plain": [
       "         Nombre         RUT  Negocio  Valid Rut   Clean Rut\n",
       "7390  max boris  14030274-6     True      False  14030274-6\n",
       "7504  max boris  14030274-6     True      False  14030274-6\n",
       "1704      Error  15516786-8     True      False  15516786-8"
      ]
     },
     "execution_count": 10,
     "metadata": {},
     "output_type": "execute_result"
    }
   ],
   "source": [
    "#Eliminar indice 1704 y arreglar rut max boris\n",
    "print('Ruts que hicieron negocios pero no son validos')\n",
    "cot_mod[(cot_mod['Valid Rut'] == False) & (cot_mod['Negocio'] == True)][['Nombre','RUT','Negocio','Valid Rut','Clean Rut']]"
   ]
  },
  {
   "cell_type": "code",
   "execution_count": 11,
   "metadata": {},
   "outputs": [
    {
     "name": "stdout",
     "output_type": "stream",
     "text": [
      "Ruts catalogados como invalidos, buscar por nombres\n",
      "(69, 36)\n"
     ]
    }
   ],
   "source": [
    "# ver que ruts invalidos pueden ser rescatados o arreglados buscando por sus nombres\n",
    "print(\"Ruts catalogados como invalidos, buscar por nombres\")\n",
    "ruts_iv = cot_mod[(cot_mod['Valid Rut'] == False)] \n",
    "print(ruts_iv.shape)\n",
    "\n",
    "ruts_invalidos = []\n",
    "for group, frame in  ruts_iv.groupby('Clean Rut'):\n",
    "    ruts_invalidos.append(str(group))\n",
    "\n",
    "s_ruts = pd.Series(ruts_invalidos)\n",
    "s_ruts.to_csv(\"..\\\\..\\\\Datos\\\\ruts_invalidos_scrap.csv\")\n",
    "\n",
    "# print(ruts_iv[['Nombre','Apellido 1','RUT','Clean Rut','Valid Rut']].head())"
   ]
  },
  {
   "cell_type": "code",
   "execution_count": 12,
   "metadata": {},
   "outputs": [
    {
     "name": "stdout",
     "output_type": "stream",
     "text": [
      "Ruts arreglados, estaban mal escritos y luego fueron validos.\n",
      "(1, 36)\n",
      "      Nombre Apellido 1 Apellido 2        RUT   Clean Rut  Valid Rut\n",
      "8  Valentina  Fernandez          .  19483862k  19483862-k       True\n"
     ]
    }
   ],
   "source": [
    "print(\"Ruts arreglados, estaban mal escritos y luego fueron validos.\")\n",
    "df = cot_mod[(cot_mod['RUT'] != cot_mod['Clean Rut']) & (cot_mod['Valid Rut'] ==True)]\n",
    "print(df.shape)\n",
    "print(df[['Nombre','Apellido 1','Apellido 2','RUT','Clean Rut','Valid Rut']].head(10))"
   ]
  },
  {
   "cell_type": "code",
   "execution_count": 13,
   "metadata": {},
   "outputs": [
    {
     "name": "stdout",
     "output_type": "stream",
     "text": [
      "Ruts arreglados, estaban mal escritos y luego fueron validos.\n",
      "(6, 36)\n",
      "              Nombre Apellido 1 Apellido 2           RUT   Clean Rut  \\\n",
      "821         Giovanni     Flores          .  16.546.158-2  16546158-2   \n",
      "841         Giovanni     Flores          .  16.546.158-2  16546158-2   \n",
      "3716           Mario     Concha     Concha     156778804  15677880-4   \n",
      "8943    Jose Edgardo    Caamaño   Chamorro       6180535    618053-5   \n",
      "9099   Dinora  Nilda      Bravo      Cerda       9559524    955952-4   \n",
      "9574  Anegelo Felipe      Godoy    Morales    |7321289-5   7321289-5   \n",
      "\n",
      "      Valid Rut  \n",
      "821       False  \n",
      "841       False  \n",
      "3716      False  \n",
      "8943      False  \n",
      "9099      False  \n",
      "9574      False  \n"
     ]
    }
   ],
   "source": [
    "print(\"Ruts arreglados, estaban mal escritos y luego fueron validos.\")\n",
    "df = cot_mod[(cot_mod['RUT'] != cot_mod['Clean Rut']) & (cot_mod['Valid Rut'] ==False)]\n",
    "print(df.shape)\n",
    "print(df[['Nombre','Apellido 1','Apellido 2','RUT','Clean Rut','Valid Rut']].head(10))"
   ]
  },
  {
   "cell_type": "code",
   "execution_count": 14,
   "metadata": {},
   "outputs": [
    {
     "name": "stdout",
     "output_type": "stream",
     "text": [
      "Ruts que estaban bien escritos.\n",
      "(16585, 36)\n"
     ]
    }
   ],
   "source": [
    "print(\"Ruts que estaban bien escritos.\")\n",
    "df = cot_mod[(cot_mod['RUT'] == cot_mod['Clean Rut'])]\n",
    "print(df.shape)"
   ]
  },
  {
   "cell_type": "code",
   "execution_count": 15,
   "metadata": {},
   "outputs": [
    {
     "name": "stdout",
     "output_type": "stream",
     "text": [
      "Ruts que estaban bien escritos y son validos.\n",
      "(16522, 36)\n"
     ]
    }
   ],
   "source": [
    "print(\"Ruts que estaban bien escritos y son validos.\")\n",
    "df = cot_mod[(cot_mod['RUT'] == cot_mod['Clean Rut']) &(cot_mod['Valid Rut'] ==True)]\n",
    "print(df.shape)\n",
    "\n",
    "ruts_validos = []\n",
    "for group, frame in  df.groupby('Clean Rut'):\n",
    "    ruts_validos.append(str(group))\n",
    "\n",
    "# print(ruts_invalidos)\n",
    "ruts_validos= [format_rut(x) for x in ruts_validos]\n",
    "cot_mod['Format Rut'] = [format_rut(x) for x in cot_mod['Clean Rut'].values]\n",
    "s_ruts = pd.Series(ruts_validos)\n",
    "s_ruts.to_csv(\"..\\\\..\\\\ruts_validos_scrap.csv\")"
   ]
  },
  {
   "cell_type": "code",
   "execution_count": 16,
   "metadata": {},
   "outputs": [
    {
     "name": "stdout",
     "output_type": "stream",
     "text": [
      "Ruts que estaban bien escritos pero no son validos, buscar ruts por nombres.\n",
      "(63, 37)\n"
     ]
    }
   ],
   "source": [
    "print(\"Ruts que estaban bien escritos pero no son validos, buscar ruts por nombres.\")\n",
    "df = cot_mod[(cot_mod['RUT'] == cot_mod['Clean Rut']) &(cot_mod['Valid Rut'] ==False)]\n",
    "print(df.shape)"
   ]
  },
  {
   "cell_type": "markdown",
   "metadata": {},
   "source": [
    "### 2.1.1 Ruts Scrapped"
   ]
  },
  {
   "cell_type": "code",
   "execution_count": 17,
   "metadata": {},
   "outputs": [
    {
     "name": "stdout",
     "output_type": "stream",
     "text": [
      "(6012, 5)\n",
      "                                  Name           RUT Gender  \\\n",
      "0   SCHNEIDER BARRERA RICARDO ERNESTO   10.023.348-7   VAR    \n",
      "1     MORALES ESPINOZA CLAUDIO ANDRES   10.020.262-k   VAR    \n",
      "\n",
      "                             Adress               Comuna  \n",
      "0                J  CISTERNAS 1612            LA SERENA   \n",
      "1   ALEJANDRO SEXTO 2787LZO ARENAS    CONCEPCION CENTRO   \n"
     ]
    }
   ],
   "source": [
    "#Ruts y sus datos obtenidos de forma valida\n",
    "ruts_scrapped = pd.read_csv('..\\\\..\\\\DataCrawling\\\\rut\\\\ruts_validos.csv')\n",
    "ruts_scrapped['RUT'] = [x.replace(' ','') for x in ruts_scrapped['RUT'].values]\n",
    "ruts_scrapped['RUT'] = [x.replace('K','k') for x in ruts_scrapped['RUT'].values]\n",
    "print(ruts_scrapped.shape)\n",
    "print(ruts_scrapped.head(2))"
   ]
  },
  {
   "cell_type": "markdown",
   "metadata": {},
   "source": [
    "### 2.1.1 Ruts Scrapped merge a DF principal"
   ]
  },
  {
   "cell_type": "code",
   "execution_count": 18,
   "metadata": {},
   "outputs": [
    {
     "data": {
      "text/plain": [
       "(1869, 14)"
      ]
     },
     "execution_count": 18,
     "metadata": {},
     "output_type": "execute_result"
    }
   ],
   "source": [
    "# merge\n",
    "cot_mod_cp = cot_mod.copy()\n",
    "cot_mod_cp['Format Rut'] = [x.replace('K','k') for x in cot_mod_cp['Format Rut'].values]\n",
    "cot_merge = pd.merge(cot_mod_cp, ruts_scrapped,how='left', left_on='Format Rut', right_on='RUT')\n",
    "# print(cot_merge.columns)\n",
    "columns = ['Format Rut','Valid Rut','Negocio','Nombre','Apellido 1','Name','Gender','Sexo',\n",
    "           'Adress','Direccion', 'Region','Provincia', 'Comuna_x', 'Comuna_y']\n",
    "cot_merge[columns][cot_merge['Sexo'].isnull()].shape"
   ]
  },
  {
   "cell_type": "code",
   "execution_count": 19,
   "metadata": {
    "collapsed": true
   },
   "outputs": [],
   "source": [
    "\n",
    "ruts_scrapped['RUT'] = [x.replace(' ','') for x in ruts_scrapped['RUT'].values]\n",
    "\n",
    "# df = pd.merge(cot_mod_cp,ruts_scrapped,how='outer',left_on='Format Rut',right_on='RUT')\n",
    "df = pd.merge(cot_mod_cp,ruts_scrapped,how='outer',left_on='Format Rut',right_on='RUT')\n",
    "\n",
    "\n",
    "df.to_excel('..\\\\..\\\\Datos\\\\tmp.xlsx')"
   ]
  },
  {
   "cell_type": "code",
   "execution_count": 20,
   "metadata": {
    "collapsed": true
   },
   "outputs": [],
   "source": [
    "# len(df[df['Negocio'] == True]['RUT'].unique())"
   ]
  },
  {
   "cell_type": "markdown",
   "metadata": {},
   "source": [
    "# 3 Construct Data"
   ]
  },
  {
   "cell_type": "markdown",
   "metadata": {},
   "source": [
    "## 3.1 Nuevos Atributos"
   ]
  },
  {
   "cell_type": "markdown",
   "metadata": {},
   "source": [
    "### 3.1.1 Edad\n",
    "Variable construida a partir de la fecha de nacimiento"
   ]
  },
  {
   "cell_type": "code",
   "execution_count": 21,
   "metadata": {
    "collapsed": true
   },
   "outputs": [],
   "source": [
    "# Construir variable 'Edad' a partir de fecha de Nacimiento\n",
    "import datetime\n",
    "now = datetime.datetime.now().year\n",
    "\n",
    "fechas_nacimiento = pd.to_datetime(cot_all['Fecha Nacimiento']).apply(lambda x: x.date()).tolist()\n",
    "\n",
    "def anio_nac(x):\n",
    "    try:\n",
    "        year = int(x.year)\n",
    "        dif = now - year\n",
    "        if dif >= 18:\n",
    "            return dif\n",
    "        else:\n",
    "            return 0\n",
    "    except (ValueError,AttributeError):\n",
    "        return 0\n",
    "        \n",
    "    return r\n",
    "\n",
    "edad = [anio_nac(x) for x in fechas_nacimiento]\n",
    "cot_mod['edad'] = edad\n",
    "\n"
   ]
  },
  {
   "cell_type": "code",
   "execution_count": 22,
   "metadata": {
    "collapsed": true
   },
   "outputs": [],
   "source": [
    "cot_mod = cot_mod.drop(['Fecha Nacimiento'], axis=1)"
   ]
  },
  {
   "cell_type": "markdown",
   "metadata": {},
   "source": [
    "### 3.1.2 Descuento\n",
    "Variable que indica si el cliente recibio descuento"
   ]
  },
  {
   "cell_type": "code",
   "execution_count": 23,
   "metadata": {
    "collapsed": true
   },
   "outputs": [],
   "source": [
    "# Construir 'descuento': binario : [True, False]\n",
    "recibio_descuento = cot_all['Descuentos'].tolist()\n",
    "\n",
    "def is_desc(x):\n",
    "    try:\n",
    "        desc = int(x)\n",
    "        if desc > 0:\n",
    "            return True\n",
    "        else:\n",
    "            return False\n",
    "    except ValueError:\n",
    "        return False\n",
    "\n",
    "descuento = [is_desc(x) for x in recibio_descuento]\n",
    "cot_mod['recibio_descuento'] = descuento\n",
    "# descuento"
   ]
  },
  {
   "cell_type": "markdown",
   "metadata": {},
   "source": [
    "### 3.1.3.Cantidad de Productos"
   ]
  },
  {
   "cell_type": "code",
   "execution_count": 24,
   "metadata": {
    "collapsed": true
   },
   "outputs": [],
   "source": [
    "# Construir 'productos': categorico : ['depto','casa','estacionamiento','bodega','Estudio']\n",
    "productos = cot_all['Productos'].tolist()\n",
    "depto = []; estacionamiento=[]; bodega = []; estudio = [];nan = 0\n",
    "def get_products(x,word,numeric=False):\n",
    "    w=0\n",
    "    try:\n",
    "        p =str(x)\n",
    "        arr_p = x.split(',')\n",
    "        for e in arr_p:\n",
    "            if word in e:\n",
    "                w+=1\n",
    "#                 print(word + \" :\",e)\n",
    "                break\n",
    "            elif numeric and ('B' not in e or 'Est' not in e):\n",
    "                try:\n",
    "                    int(e)\n",
    "#                     print(word + \" :\",e)\n",
    "                    w+=1\n",
    "                except ValueError:\n",
    "                    pass\n",
    "        return w\n",
    "    except (ValueError,AttributeError):\n",
    "        try:\n",
    "            int(x)\n",
    "            if numeric:\n",
    "                return 1\n",
    "            else:\n",
    "                return 0\n",
    "        except ValueError:\n",
    "            return 0\n",
    "\n",
    "cot_mod['#vivienda'] = [get_products(x,'T',numeric=True) for x in productos]\n",
    "cot_mod['#bodega'] = [get_products(x,'Bod') for x in productos]\n",
    "cot_mod['#estacionamiento'] = [get_products(x,'Est') for x in productos]\n",
    "cot_mod['#estudio'] = [get_products(x,'Estudio') for x in productos]\n",
    "cot_mod['#lan'] = [get_products(x,'lan') for x in productos]"
   ]
  },
  {
   "cell_type": "code",
   "execution_count": 25,
   "metadata": {},
   "outputs": [
    {
     "name": "stdout",
     "output_type": "stream",
     "text": [
      "              Productos  #vivienda  #bodega  #estacionamiento  #estudio  #lan\n",
      "0         TB-104,Est-65          1        0                 1         0     0\n",
      "1  TA-302,Est-41,Bod-02          1        1                 1         0     0\n",
      "2         TA-303,Est-01          1        0                 1         0     0\n",
      "3  TA-302,Est-41,Bod-06          1        1                 1         0     0\n",
      "4         TA-604,Est-01          1        0                 1         0     0\n",
      "        Productos  #vivienda  #bodega  #estacionamiento  #estudio  #lan\n",
      "2912  703,Est-003          1        0                 1         0     0\n",
      "2913          912          1        0                 0         0     0\n",
      "2914  Est-002,703          1        0                 1         0     0\n",
      "2915  912,Est-002          1        0                 1         0     0\n",
      "2916          912          1        0                 0         0     0\n"
     ]
    }
   ],
   "source": [
    "print(cot_mod[['Productos','#vivienda','#bodega','#estacionamiento','#estudio','#lan']].head())\n",
    "print(cot_mod[['Productos','#vivienda','#bodega','#estacionamiento','#estudio','#lan']].tail())"
   ]
  },
  {
   "cell_type": "code",
   "execution_count": 26,
   "metadata": {
    "collapsed": true
   },
   "outputs": [],
   "source": [
    "cot_mod = cot_mod.drop(['Productos'], axis=1)"
   ]
  },
  {
   "cell_type": "markdown",
   "metadata": {},
   "source": [
    "### 3.1.4 Latitud y Longitud"
   ]
  },
  {
   "cell_type": "code",
   "execution_count": 27,
   "metadata": {
    "collapsed": true
   },
   "outputs": [],
   "source": [
    "from geopy.geocoders import Nominatim\n",
    "\n",
    "def get_latlong(direccion):\n",
    "    geolocator = Nominatim()\n",
    "    direccion = \"TUCAPEL 937 , CONCEPCION CENTRO\"\n",
    "    location = geolocator.geocode(direccion)\n",
    "#     print(location.address)\n",
    "    # Flatiron Building, 175, 5th Avenue, Flatiron, New York, NYC, New York, ...\n",
    "    print((location.latitude, location.longitude))\n",
    "    # (40.7410861, -73.9896297241625)\n",
    "#     print(location.raw)\n",
    "\n",
    "# get_latlong('')\n",
    "\n",
    "# cot_mod['loc_lat'] = []"
   ]
  },
  {
   "cell_type": "markdown",
   "metadata": {},
   "source": [
    "### 3.1.6 Region"
   ]
  },
  {
   "cell_type": "code",
   "execution_count": 28,
   "metadata": {},
   "outputs": [
    {
     "data": {
      "text/plain": [
       "array(['VIII Región del Bío-Bío', 'XIII Región Metropolitana de Santiago',\n",
       "       'VII Región del Maule', 'II Región de Antofagasta',\n",
       "       'IV Región de Coquimbo', 'X Región de Los Lagos',\n",
       "       'XII Región de Magallanes y de La Antártica Chilena',\n",
       "       'V Región de Valparaíso',\n",
       "       'VI Región del Libertador General Bernardo O Higgins',\n",
       "       'XIV Región de Los Ríos',\n",
       "       'XI Región de Aysen del General Carlos Ibáñez del Campo',\n",
       "       'I Región de Tarapacá', 'IX Región de La Araucanía',\n",
       "       'III Región de Atacama', 'XV Region de Arica y Parinacota'],\n",
       "      dtype=object)"
      ]
     },
     "execution_count": 28,
     "metadata": {},
     "output_type": "execute_result"
    }
   ],
   "source": [
    "cot_mod['Region'].unique()"
   ]
  },
  {
   "cell_type": "code",
   "execution_count": 29,
   "metadata": {
    "collapsed": true
   },
   "outputs": [],
   "source": [
    "cot_mod['region'] = cot_all['Region'].copy()\n",
    "cot_mod['region'] = cot_mod['region'].replace(\n",
    "    {'VIII Región del Bío-Bío':'Bio-Bio',\n",
    "     'XIII Región Metropolitana de Santiago':'Metropolitana'}\n",
    ")\n",
    "cot_mod['region'] = cot_mod['region'].replace(\n",
    "    ['II Región de Antofagasta',\n",
    "       'IV Región de Coquimbo', 'VII Región del Maule',\n",
    "       'X Región de Los Lagos',\n",
    "       'V Región de Valparaíso',\n",
    "       'VI Región del Libertador General Bernardo O Higgins',\n",
    "       'XIV Región de Los Ríos',\n",
    "       'XI Región de Aysen del General Carlos Ibáñez del Campo',\n",
    "       'I Región de Tarapacá', 'IX Región de La Araucanía',\n",
    "       'XII Región de Magallanes y de La Antártica Chilena',\n",
    "       'XV Region de Arica y Parinacota', 'III Región de Atacama'],'Otro'\n",
    ")"
   ]
  },
  {
   "cell_type": "code",
   "execution_count": 30,
   "metadata": {},
   "outputs": [
    {
     "data": {
      "text/plain": [
       "0    Bio-Bio\n",
       "1    Bio-Bio\n",
       "2    Bio-Bio\n",
       "3    Bio-Bio\n",
       "4    Bio-Bio\n",
       "Name: region, dtype: category\n",
       "Categories (3, object): [Bio-Bio, Metropolitana, Otro]"
      ]
     },
     "execution_count": 30,
     "metadata": {},
     "output_type": "execute_result"
    }
   ],
   "source": [
    "cot_mod['region'] = cot_mod['region'].astype('category')\n",
    "cot_mod['region'].head()"
   ]
  },
  {
   "cell_type": "code",
   "execution_count": 31,
   "metadata": {
    "collapsed": true
   },
   "outputs": [],
   "source": [
    "cot_mod = cot_mod.drop(['Region'], axis=1)"
   ]
  },
  {
   "cell_type": "markdown",
   "metadata": {},
   "source": [
    "### 3.1.7 Provincia\n",
    "Esta variable indica si el cliente facilito el correo en alguna cotizacion"
   ]
  },
  {
   "cell_type": "code",
   "execution_count": 32,
   "metadata": {},
   "outputs": [
    {
     "data": {
      "text/plain": [
       "array(['Concepción', 'Ñuble', 'Santiago', 'Talca', 'Biobío', 'Maipo',\n",
       "       'Antofagasta', 'Limarí', 'Llanquihue', 'Magallanes', 'El Loa',\n",
       "       'Isla de Pascua', 'Valparaíso', 'Cachapoal', 'Arauco',\n",
       "       'Cordillera', 'Valdivia', 'Coyhaique', 'Linares', 'Osorno',\n",
       "       'San Felipe de Aconcagua', 'Iquique', 'Cautín', 'Capitán Prat',\n",
       "       'Aysén', 'Chacabuco', 'Copiapó', 'Melipilla', 'Malleco', 'Arica',\n",
       "       'Elqui', 'Cauquenes', 'Colchagua', 'Última Esperanza', 'Curicó',\n",
       "       'Chiloé', 'Choapa', 'Huasco'], dtype=object)"
      ]
     },
     "execution_count": 32,
     "metadata": {},
     "output_type": "execute_result"
    }
   ],
   "source": [
    "cot_all['Provincia'].unique()"
   ]
  },
  {
   "cell_type": "code",
   "execution_count": 33,
   "metadata": {
    "collapsed": true
   },
   "outputs": [],
   "source": [
    "cot_mod['provincia'] = cot_all['Provincia'].copy()\n",
    "cot_mod['provincia'] = cot_mod['provincia'].replace(\n",
    "    {'Concepción':'Concepcion',\n",
    "     'Santiago':'Santiago'}\n",
    ")\n",
    "cot_mod['provincia'] = cot_mod['provincia'].replace(\n",
    "    ['Antofagasta', 'Limarí', 'Talca', 'Biobío', 'Ñuble',\n",
    "       'Llanquihue','Maipo', 'Valparaíso', 'Cachapoal',\n",
    "       'Arauco', 'Valdivia', 'Coyhaique', 'Linares', 'Osorno',\n",
    "       'San Felipe de Aconcagua', 'Iquique', 'Cautín', 'Capitán Prat',\n",
    "       'Aysén', 'Chacabuco', 'Melipilla', 'Magallanes', 'Malleco',\n",
    "       'Arica ', 'Elqui', 'El Loa', 'Cauquenes', 'Colchagua', 'Valdivia ',\n",
    "       'Copiapó', 'Última Esperanza', 'Cordillera', 'Curicó', 'Chiloé',\n",
    "       'Choapa', 'Huasco','Arica','Isla de Pascua'],'Otro'\n",
    ")"
   ]
  },
  {
   "cell_type": "code",
   "execution_count": 34,
   "metadata": {},
   "outputs": [
    {
     "data": {
      "text/plain": [
       "0    Concepcion\n",
       "1    Concepcion\n",
       "2    Concepcion\n",
       "3    Concepcion\n",
       "4          Otro\n",
       "Name: provincia, dtype: category\n",
       "Categories (3, object): [Concepcion, Otro, Santiago]"
      ]
     },
     "execution_count": 34,
     "metadata": {},
     "output_type": "execute_result"
    }
   ],
   "source": [
    "cot_mod['provincia'] = cot_mod['provincia'].astype('category')\n",
    "cot_mod['provincia'].head()"
   ]
  },
  {
   "cell_type": "code",
   "execution_count": 35,
   "metadata": {
    "collapsed": true
   },
   "outputs": [],
   "source": [
    "cot_mod = cot_mod.drop(['Provincia'], axis=1)"
   ]
  },
  {
   "cell_type": "markdown",
   "metadata": {},
   "source": [
    "### 3.1.8 Comuna\n",
    "Esta variable indica si el cliente facilito el correo en alguna cotizacion"
   ]
  },
  {
   "cell_type": "code",
   "execution_count": 36,
   "metadata": {},
   "outputs": [
    {
     "data": {
      "text/plain": [
       "array(['Concepción', 'Chillán', 'San Pedro de la Paz', 'Talcahuano',\n",
       "       'La Florida', 'Hualpén', 'Santiago', 'Constitución', 'Los Ángeles',\n",
       "       'Ñuñoa', 'Providencia', 'Penco', 'Tomé', 'Buin', 'Antofagasta',\n",
       "       'Ovalle', 'Puerto Montt', 'Punta Arenas', 'Chiguayante',\n",
       "       'El Bosque', 'Yungay', 'Florida', 'Calama', 'Lota', 'Coronel',\n",
       "       'Isla de Pascua', 'Viña del Mar', 'Machalí', 'Arauco',\n",
       "       'Las Condes', 'Vitacura', 'Pirque', 'Contulmo', 'Concón',\n",
       "       'Santa Juana', 'Puerto Varas', 'Cañete', 'Huechuraba', 'Valdivia',\n",
       "       'Coyhaique', 'Colbún', 'Osorno', 'San Felipe', 'Iquique',\n",
       "       'Rancagua', 'Temuco', 'Cochrane', 'Chillán Viejo', 'Maipú',\n",
       "       'Aysén', 'Villarrica', 'La Reina', 'Peñalolén', 'Estación Central',\n",
       "       'Colina', 'Quilicura', 'Curanilahue', 'Copiapó', 'Algarrobo',\n",
       "       'Talca', 'San Carlos', 'Mulchén', 'Coelemu', 'Angol', 'Laja',\n",
       "       'Nacimiento', 'Arica', 'La Serena', 'Hualqui', 'San Miguel',\n",
       "       'Pelluhue', 'Quillón', 'Valparaíso', 'Llanquihue', 'Los Álamos',\n",
       "       'Renca', 'Santa Cruz', 'Panguipulli', 'Cabrero', 'Cerrillos',\n",
       "       'Pudahuel', 'Natales', 'Tirúa', 'Cauquenes', 'La Cisterna',\n",
       "       'Yumbel', 'Ránquil', 'Padre Las Casas', 'Las Cabras', 'Coquimbo',\n",
       "       'Lebu', 'San José de Maipo', 'San Ramón', 'Curicó',\n",
       "       'Independencia', 'Lampa', 'Castro', 'Punitaqui', 'Conchalí',\n",
       "       'San Rosendo', 'Alto Hospicio', 'Illapel', 'Huasco', 'Alto Biobío',\n",
       "       'Collipulli', 'Tucapel'], dtype=object)"
      ]
     },
     "execution_count": 36,
     "metadata": {},
     "output_type": "execute_result"
    }
   ],
   "source": [
    "cot_all['Comuna'].unique()"
   ]
  },
  {
   "cell_type": "code",
   "execution_count": 37,
   "metadata": {
    "collapsed": true
   },
   "outputs": [],
   "source": [
    "cot_mod['comuna'] = cot_all['Comuna'].copy()\n",
    "\n",
    "cot_mod['comuna'] = cot_mod['comuna'].replace(\n",
    "    ['Ovalle', 'Constitución','Tomé', 'Chillán','Yungay',\n",
    "     'Puerto Montt', 'Santiago', 'El Bosque', 'La Florida','Las Condes',\n",
    "     'Ñuñoa', 'Providencia', 'Buin','Florida','Viña del Mar',\n",
    "     'Machalí', 'Vitacura', 'Arauco', 'Contulmo', 'Concón',\n",
    "     'Santa Juana', 'Puerto Varas', 'Cañete', 'Huechuraba', 'Valdivia',\n",
    "     'Coyhaique', 'Colbún', 'Osorno', 'San Felipe', 'Iquique',\n",
    "     'Rancagua', 'Lota', 'Temuco', 'Cochrane', 'Chillán Viejo', 'Maipú',\n",
    "     'Aysén', 'Villarrica', 'La Reina', 'Peñalolén', 'Estación Central',\n",
    "     'Colina', 'Quilicura', 'Curanilahue', 'Algarrobo', 'Talca',\n",
    "     'San Carlos', 'Punta Arenas', 'Mulchén', 'Coelemu', 'Angol',\n",
    "     'Laja', 'Nacimiento', 'Arica', 'La Serena', 'Hualqui',\n",
    "     'San Miguel', 'Calama', 'Pelluhue', 'Quillón', 'Valparaíso',\n",
    "     'Llanquihue', 'Los Álamos', 'Renca', 'Santa Cruz', 'Panguipulli',\n",
    "     'Cabrero', 'Cerrillos', 'Pudahuel', 'Copiapó', 'Natales', 'Tirúa',\n",
    "     'Cauquenes', 'La Cisterna', 'Yumbel', 'Ránquil', 'Padre Las Casas',\n",
    "     'Las Cabras', 'Coquimbo', 'Lebu', 'San José de Maipo', 'San Ramón',\n",
    "     'Curicó', 'Independencia', 'Lampa ', 'Castro', 'Punitaqui',\n",
    "     'Conchalí', 'San Rosendo', 'Alto Hospicio', 'Illapel', 'Huasco',\n",
    "     'Collipulli', 'Tucapel', 'Alto Biobío','Pirque','Lampa','Isla de Pascua','Antofagasta', 'Arica'],'Otro'\n",
    ")"
   ]
  },
  {
   "cell_type": "code",
   "execution_count": 38,
   "metadata": {},
   "outputs": [
    {
     "data": {
      "text/plain": [
       "0    Concepción\n",
       "1    Concepción\n",
       "2    Concepción\n",
       "3    Concepción\n",
       "4          Otro\n",
       "Name: comuna, dtype: category\n",
       "Categories (9, object): [Chiguayante, Concepción, Coronel, Hualpén, ..., Otro, Penco, San Pedro de la Paz, Talcahuano]"
      ]
     },
     "execution_count": 38,
     "metadata": {},
     "output_type": "execute_result"
    }
   ],
   "source": [
    "cot_mod['comuna'] = cot_mod['comuna'].astype('category')\n",
    "cot_mod['comuna'].head()"
   ]
  },
  {
   "cell_type": "code",
   "execution_count": 39,
   "metadata": {
    "collapsed": true
   },
   "outputs": [],
   "source": [
    "cot_mod = cot_mod.drop(['Comuna'], axis=1)"
   ]
  },
  {
   "cell_type": "markdown",
   "metadata": {},
   "source": [
    "### 3.1.9 Atributos Provistos\n",
    "Esta variable indica el numero de veces que el cliente ha hecho cotizaciones"
   ]
  },
  {
   "cell_type": "code",
   "execution_count": 40,
   "metadata": {
    "collapsed": true
   },
   "outputs": [],
   "source": [
    "cot_mod['is_nombre'] = ~cot_all['Nombre'].isnull()\n",
    "cot_mod['is_apellido1'] = ~cot_all['Apellido 1'].isnull()\n",
    "cot_mod['is_apellido2'] = ~cot_all['Apellido 2'].isnull()\n",
    "cot_mod['is_nombrecompleto'] = ~cot_all['Nombre Completo'].isnull()\n",
    "cot_mod['is_correo'] = ~cot_all['Correo Electronico'].isnull()\n",
    "cot_mod['is_direccion'] = ~cot_all['Direccion'].isnull()\n",
    "cot_mod['is_telefono'] = ~cot_all['Telefono'].isnull()\n",
    "cot_mod['is_actividad'] = ~cot_all['Actividad'].isnull()\n",
    "cot_mod['is_estado_civil'] = ~cot_all['Estado Civil'].isnull()\n",
    "cot_mod['is_fnac'] = ~cot_all['Fecha Nacimiento'].isnull()\n",
    "cot_mod['is_celular'] = ~cot_all['Celular'].isnull()\n",
    "\n",
    "\n",
    "cot_mod = cot_mod.drop(['Profesión','Telefono','Correo Electronico','Telefono','Nombre','Apellido 1','Apellido 2','Nombre Completo'], axis=1)"
   ]
  },
  {
   "cell_type": "markdown",
   "metadata": {},
   "source": [
    "### 3.1.9 Atributos Provistos\n",
    "Esta variable indica el numero de veces que el cliente ha hecho cotizaciones"
   ]
  },
  {
   "cell_type": "code",
   "execution_count": null,
   "metadata": {
    "collapsed": true
   },
   "outputs": [],
   "source": [
    "cot_mod['is_profesion'] = ~cot_all['Profesión'].isnull()"
   ]
  },
  {
   "cell_type": "markdown",
   "metadata": {},
   "source": [
    "### 3.1.4 Cotizaciones por Proyecto"
   ]
  },
  {
   "cell_type": "code",
   "execution_count": 41,
   "metadata": {},
   "outputs": [
    {
     "data": {
      "text/html": [
       "<div>\n",
       "<style>\n",
       "    .dataframe thead tr:only-child th {\n",
       "        text-align: right;\n",
       "    }\n",
       "\n",
       "    .dataframe thead th {\n",
       "        text-align: left;\n",
       "    }\n",
       "\n",
       "    .dataframe tbody tr th {\n",
       "        vertical-align: top;\n",
       "    }\n",
       "</style>\n",
       "<table border=\"1\" class=\"dataframe\">\n",
       "  <thead>\n",
       "    <tr style=\"text-align: right;\">\n",
       "      <th></th>\n",
       "      <th>index</th>\n",
       "      <th>Altos del Valle</th>\n",
       "      <th>Edificio Urban 1470</th>\n",
       "      <th>San Andres Del Valle</th>\n",
       "      <th>Edificio Mil610</th>\n",
       "      <th>Edificio Junge</th>\n",
       "    </tr>\n",
       "  </thead>\n",
       "  <tbody>\n",
       "    <tr>\n",
       "      <th>0</th>\n",
       "      <td>000.000.000-0</td>\n",
       "      <td>0</td>\n",
       "      <td>1</td>\n",
       "      <td>1</td>\n",
       "      <td>0</td>\n",
       "      <td>0</td>\n",
       "    </tr>\n",
       "    <tr>\n",
       "      <th>1</th>\n",
       "      <td>1.462.558-5</td>\n",
       "      <td>0</td>\n",
       "      <td>0</td>\n",
       "      <td>0</td>\n",
       "      <td>1</td>\n",
       "      <td>0</td>\n",
       "    </tr>\n",
       "    <tr>\n",
       "      <th>2</th>\n",
       "      <td>10.000.513-1</td>\n",
       "      <td>0</td>\n",
       "      <td>0</td>\n",
       "      <td>0</td>\n",
       "      <td>0</td>\n",
       "      <td>2</td>\n",
       "    </tr>\n",
       "    <tr>\n",
       "      <th>3</th>\n",
       "      <td>10.000.522-0</td>\n",
       "      <td>0</td>\n",
       "      <td>0</td>\n",
       "      <td>0</td>\n",
       "      <td>0</td>\n",
       "      <td>2</td>\n",
       "    </tr>\n",
       "    <tr>\n",
       "      <th>4</th>\n",
       "      <td>10.005.853-7</td>\n",
       "      <td>0</td>\n",
       "      <td>0</td>\n",
       "      <td>0</td>\n",
       "      <td>0</td>\n",
       "      <td>2</td>\n",
       "    </tr>\n",
       "  </tbody>\n",
       "</table>\n",
       "</div>"
      ],
      "text/plain": [
       "           index  Altos del Valle  Edificio Urban 1470  San Andres Del Valle  \\\n",
       "0  000.000.000-0                0                    1                     1   \n",
       "1    1.462.558-5                0                    0                     0   \n",
       "2   10.000.513-1                0                    0                     0   \n",
       "3   10.000.522-0                0                    0                     0   \n",
       "4   10.005.853-7                0                    0                     0   \n",
       "\n",
       "   Edificio Mil610  Edificio Junge  \n",
       "0                0               0  \n",
       "1                1               0  \n",
       "2                0               2  \n",
       "3                0               2  \n",
       "4                0               2  "
      ]
     },
     "execution_count": 41,
     "metadata": {},
     "output_type": "execute_result"
    }
   ],
   "source": [
    "rut_dict = dict()\n",
    "\n",
    "    \n",
    "for index, row in cot_mod.iterrows():\n",
    "    rut = row['Format Rut']\n",
    "    pr = row['Proyecto']\n",
    "    \n",
    "    if rut not in rut_dict.keys():\n",
    "        rut_dict[rut] = dict()\n",
    "        rut_dict[rut]['Altos del Valle'] = 0\n",
    "        rut_dict[rut]['Edificio Urban 1470'] = 0\n",
    "        rut_dict[rut]['San Andres Del Valle'] = 0\n",
    "        rut_dict[rut]['Edificio Mil610'] = 0\n",
    "        rut_dict[rut]['Edificio Junge'] = 0\n",
    "    \n",
    "    rut_dict[rut][pr] +=1\n",
    "\n",
    "\n",
    "\n",
    "rut_proyectos = pd.DataFrame.from_dict(rut_dict,orient='index').reset_index()\n",
    "rut_proyectos.head()\n",
    "\n",
    "# cot_mod = pd.merge(cot_mod_cp, rut_proyectos,how='left', left_on='Format Rut', right_on='index')"
   ]
  },
  {
   "cell_type": "code",
   "execution_count": 42,
   "metadata": {},
   "outputs": [
    {
     "data": {
      "text/plain": [
       "Index(['ID', 'Fecha Cotizacion', 'Medio', 'Proyecto', 'Presencial',\n",
       "       'Jefe Comercial', 'Ejecutivo Comercial', 'Total Productos',\n",
       "       'Descuentos', 'Valor Final Venta', 'RUT', 'Celular', 'Direccion',\n",
       "       'Sexo', 'Estado Civil', 'Rango Edad', 'Tipo Cliente', 'Giro',\n",
       "       'Nacionalidad', 'N° Grupo Familiar', 'Actividad', 'Negocio',\n",
       "       'Clean Rut', 'Valid Rut', 'Format Rut', 'edad', 'recibio_descuento',\n",
       "       '#vivienda', '#bodega', '#estacionamiento', '#estudio', '#lan',\n",
       "       'region', 'provincia', 'comuna', 'is_nombre', 'is_apellido1',\n",
       "       'is_apellido2', 'is_nombrecompleto', 'is_correo', 'is_direccion',\n",
       "       'is_telefono', 'is_actividad', 'is_estado_civil', 'is_fnac',\n",
       "       'is_celular', 'is_profesion'],\n",
       "      dtype='object')"
      ]
     },
     "execution_count": 42,
     "metadata": {},
     "output_type": "execute_result"
    }
   ],
   "source": [
    "cot_mod.columns"
   ]
  },
  {
   "cell_type": "markdown",
   "metadata": {},
   "source": [
    "### 3.1.9 Rango Edad\n",
    "Esta variable indica el numero de veces que el cliente ha hecho cotizaciones"
   ]
  },
  {
   "cell_type": "code",
   "execution_count": 43,
   "metadata": {
    "collapsed": true
   },
   "outputs": [],
   "source": [
    "### Ver edades en cotizantes y cotizantes que llegan a negocios\n",
    "rango_edad = cot_mod['Rango Edad'].tolist()\n",
    "rango_edad_min = [];rango_edad_max = []\n",
    "\n",
    "for e in rango_edad:\n",
    "    try:\n",
    "        edad = e.split('-')\n",
    "        rango_edad_min.append(int(edad[0]))\n",
    "        rango_edad_max.append(int(edad[1]))\n",
    "    except (ValueError, AttributeError):\n",
    "        rango_edad_min.append(0)\n",
    "        rango_edad_max.append(0)\n",
    "        \n",
    "cot_mod['Edad Min'] = rango_edad_min\n",
    "cot_mod['Edad Max'] = rango_edad_max"
   ]
  },
  {
   "cell_type": "code",
   "execution_count": 44,
   "metadata": {
    "collapsed": true
   },
   "outputs": [],
   "source": [
    "#Sexo\n",
    "\n"
   ]
  },
  {
   "cell_type": "markdown",
   "metadata": {},
   "source": [
    "### 3.1.11 Negocio\n",
    "Indica si el cliente siguio el proceso de cotizacion y lo transformo en un proceso de negocio"
   ]
  },
  {
   "cell_type": "code",
   "execution_count": 45,
   "metadata": {},
   "outputs": [
    {
     "data": {
      "text/plain": [
       "(2336, 49)"
      ]
     },
     "execution_count": 45,
     "metadata": {},
     "output_type": "execute_result"
    }
   ],
   "source": [
    "# ruts de los clientes en negocio\n",
    "neg_ids = neg_all['ID Cotizacion'].unique().tolist()\n",
    "\n",
    "# cot_neg = cot_all.copy()\n",
    "cot_mod['Negocio'] = cot_all['ID'].isin(neg_ids)\n",
    "cot_mod[cot_mod['Negocio'] == True].shape"
   ]
  },
  {
   "cell_type": "code",
   "execution_count": 46,
   "metadata": {
    "collapsed": true
   },
   "outputs": [],
   "source": [
    "# negocio = []\n",
    "# for rut in cot_all['RUT'].tolist():\n",
    "#     if rut in neg_ruts:\n",
    "# #         print(rut)\n",
    "#         df = neg_all[neg_all['RUT']==rut]\n",
    "#         negocio.append(df['Proyecto'])\n",
    "\n",
    "# print(negocio)\n",
    "# print(neg_all.shape[0])\n",
    "# print(\"Nro Filas en cot que tienen ruts en neg :\",cot_mod.loc[cot_neg['Negocio']==True].shape[0])"
   ]
  },
  {
   "cell_type": "markdown",
   "metadata": {},
   "source": [
    "### 3.1.12 N° Grupo Familiar\n"
   ]
  },
  {
   "cell_type": "code",
   "execution_count": 47,
   "metadata": {
    "collapsed": true
   },
   "outputs": [],
   "source": [
    "cot_mod['N° Grupo Familiar']=cot_mod['N° Grupo Familiar'].fillna('Sin Información')"
   ]
  },
  {
   "cell_type": "code",
   "execution_count": 48,
   "metadata": {
    "collapsed": true
   },
   "outputs": [],
   "source": [
    "def is_nrofam(x):\n",
    "    if x == 'Sin Información':\n",
    "        return False\n",
    "    else:\n",
    "        return True\n",
    "\n",
    "cot_mod['is_nrofam'] = [ is_nrofam(x) for x in cot_mod['N° Grupo Familiar'] ]"
   ]
  },
  {
   "cell_type": "code",
   "execution_count": null,
   "metadata": {
    "collapsed": true
   },
   "outputs": [],
   "source": []
  },
  {
   "cell_type": "code",
   "execution_count": null,
   "metadata": {
    "collapsed": true
   },
   "outputs": [],
   "source": []
  },
  {
   "cell_type": "code",
   "execution_count": null,
   "metadata": {
    "collapsed": true
   },
   "outputs": [],
   "source": []
  },
  {
   "cell_type": "code",
   "execution_count": null,
   "metadata": {
    "collapsed": true
   },
   "outputs": [],
   "source": []
  },
  {
   "cell_type": "code",
   "execution_count": 49,
   "metadata": {
    "collapsed": true
   },
   "outputs": [],
   "source": [
    "cot_mod.to_excel('..\\\\..\\\\Datos\\\\cotizaciones_transformed.xlsx')"
   ]
  },
  {
   "cell_type": "markdown",
   "metadata": {},
   "source": [
    "### 3.1.12 N° Grupo Familiar\n"
   ]
  },
  {
   "cell_type": "markdown",
   "metadata": {},
   "source": [
    "### 3.2. Extraccion de Datos\n",
    "Esta variable indica el numero de veces que el cliente ha hecho cotizaciones"
   ]
  },
  {
   "cell_type": "code",
   "execution_count": 50,
   "metadata": {
    "collapsed": true
   },
   "outputs": [],
   "source": [
    "# Construir '#cotizaciones' a partir del nro de filas donde participa el mismo rut\n",
    "cot_ruts = pd.DataFrame()\n",
    "\n",
    "nro_cot_depto, nro_cot_esta, nro_cot_estu, nro_cot_bod  = [], [], [], []\n",
    "\n",
    "mean_cot_depto, mean_cot_esta, mean_cot_estu, mean_cot_bod = [], [], [], []\n",
    "\n",
    "ruts, ruts_nro_cot, rut_reg, rut_prov , rut_com = [], [], [] , [], []\n",
    "\n",
    "is_nombre, is_apellido1, is_appelido2, is_nombrecompleto, is_direccion = [], [], [], [], [] \n",
    "is_telefono, is_celular, is_fnac, is_nrofam, is_profesion = [], [], [], [], []\n",
    "\n",
    "rut = []\n",
    "\n",
    "max_rango_edad = []\n",
    "\n",
    "nro_proyectos = []\n",
    "\n",
    "negocio = []\n",
    "\n",
    "tipo_cliente = []\n",
    "\n",
    "sexo = []\n",
    "\n",
    "\n",
    "\n",
    "for group, frame in  cot_mod.groupby('Format Rut'):\n",
    "    is_nombre.append(frame['is_nombre'].tolist()[0])\n",
    "    is_apellido1.append(frame['is_apellido1'].tolist()[0])\n",
    "    is_appelido2.append(frame['is_apellido2'].tolist()[0])\n",
    "    is_nombrecompleto.append(frame['is_nombrecompleto'].tolist()[0])\n",
    "    is_direccion.append(frame['is_direccion'].tolist()[0])\n",
    "    is_telefono.append(frame['is_telefono'].tolist()[0])\n",
    "    is_celular.append(frame['is_celular'].tolist()[0])\n",
    "    is_fnac.append(frame['is_fnac'].tolist()[0])\n",
    "    is_profesion.append(frame['is_profesion'].tolist()[0])\n",
    "    is_nrofam.append(frame['is_nrofam'].tolist()[0])\n",
    "    \n",
    "    rut.append(group)\n",
    "    sexo.append(frame['Sexo'].tolist()[0])\n",
    "    \n",
    "    tipo_cliente.append(frame['Tipo Cliente'].tolist()[0])\n",
    "    \n",
    "    max_rango_edad.append(frame['Edad Max'].tolist()[0])\n",
    "\n",
    "    nro_proyectos.append(len(frame['Proyecto'].unique()))\n",
    "    negocio.append(frame['Negocio'].tolist()[0])\n",
    "    \n",
    "    ruts.append(group)\n",
    "    rut_reg.append(frame['region'].tolist()[0])\n",
    "    rut_prov.append(frame['provincia'].tolist()[0])\n",
    "    rut_com.append(frame['comuna'].tolist()[0])\n",
    "    \n",
    "    nro_cot_depto.append(frame['#vivienda'].sum())\n",
    "    nro_cot_bod.append(frame['#bodega'].sum())\n",
    "    nro_cot_esta.append(frame['#estacionamiento'].sum())\n",
    "    nro_cot_estu.append(frame['#estudio'].sum())\n",
    "    \n",
    "    mean_cot_depto.append(frame['#vivienda'].mean())\n",
    "    mean_cot_bod.append(frame['#bodega'].mean())\n",
    "    mean_cot_esta.append(frame['#estacionamiento'].mean())\n",
    "    mean_cot_estu.append(frame['#estudio'].mean())\n",
    "    ruts_nro_cot.append(frame['ID'].count())"
   ]
  },
  {
   "cell_type": "code",
   "execution_count": 51,
   "metadata": {
    "collapsed": true
   },
   "outputs": [],
   "source": [
    "\n",
    "for group, frame in  cot_mod.groupby('Format Rut'):\n",
    "    \n",
    "#     print(frame['N° Grupo Familiar'].isnull())\n",
    "    #Check , debe ir a data exploration\n",
    "    l = len(frame['N° Grupo Familiar'].unique())\n",
    "    if l > 1:\n",
    "        print(group)\n",
    "        print(l)\n",
    "   "
   ]
  },
  {
   "cell_type": "markdown",
   "metadata": {},
   "source": [
    "### 3.1.10.Tiempo entre Cotizaciones\n",
    "Esta variable indica el numero de veces que el cliente ha hecho cotizaciones"
   ]
  },
  {
   "cell_type": "code",
   "execution_count": 52,
   "metadata": {
    "collapsed": true
   },
   "outputs": [],
   "source": [
    "# Construir 'promedio_de_tiempo' entre cotizacones donde participa el mismo rut"
   ]
  },
  {
   "cell_type": "markdown",
   "metadata": {},
   "source": [
    "# 4.Integrate Data"
   ]
  },
  {
   "cell_type": "code",
   "execution_count": 53,
   "metadata": {},
   "outputs": [
    {
     "name": "stdout",
     "output_type": "stream",
     "text": [
      "(6184, 27)\n"
     ]
    },
    {
     "data": {
      "text/html": [
       "<div>\n",
       "<style>\n",
       "    .dataframe thead tr:only-child th {\n",
       "        text-align: right;\n",
       "    }\n",
       "\n",
       "    .dataframe thead th {\n",
       "        text-align: left;\n",
       "    }\n",
       "\n",
       "    .dataframe tbody tr th {\n",
       "        vertical-align: top;\n",
       "    }\n",
       "</style>\n",
       "<table border=\"1\" class=\"dataframe\">\n",
       "  <thead>\n",
       "    <tr style=\"text-align: right;\">\n",
       "      <th></th>\n",
       "      <th>is_apellido1</th>\n",
       "      <th>is_appelido2</th>\n",
       "      <th>is_celular</th>\n",
       "      <th>is_direccion</th>\n",
       "      <th>is_fnac</th>\n",
       "      <th>is_nombre</th>\n",
       "      <th>is_nombrecompleto</th>\n",
       "      <th>is_nrofam</th>\n",
       "      <th>is_profesion</th>\n",
       "      <th>is_telefono</th>\n",
       "      <th>...</th>\n",
       "      <th>mean_cot_estu</th>\n",
       "      <th>negocio</th>\n",
       "      <th>nro_cot_bod</th>\n",
       "      <th>nro_cot_depto</th>\n",
       "      <th>nro_cot_esta</th>\n",
       "      <th>nro_cot_estu</th>\n",
       "      <th>nro_proyectos</th>\n",
       "      <th>rut</th>\n",
       "      <th>sexo</th>\n",
       "      <th>tipo_cliente</th>\n",
       "    </tr>\n",
       "  </thead>\n",
       "  <tbody>\n",
       "    <tr>\n",
       "      <th>0</th>\n",
       "      <td>True</td>\n",
       "      <td>True</td>\n",
       "      <td>True</td>\n",
       "      <td>False</td>\n",
       "      <td>True</td>\n",
       "      <td>True</td>\n",
       "      <td>True</td>\n",
       "      <td>False</td>\n",
       "      <td>True</td>\n",
       "      <td>True</td>\n",
       "      <td>...</td>\n",
       "      <td>0.0</td>\n",
       "      <td>False</td>\n",
       "      <td>1</td>\n",
       "      <td>2</td>\n",
       "      <td>1</td>\n",
       "      <td>0</td>\n",
       "      <td>2</td>\n",
       "      <td>000.000.000-0</td>\n",
       "      <td>Femenino</td>\n",
       "      <td>Natural</td>\n",
       "    </tr>\n",
       "    <tr>\n",
       "      <th>1</th>\n",
       "      <td>True</td>\n",
       "      <td>True</td>\n",
       "      <td>True</td>\n",
       "      <td>False</td>\n",
       "      <td>False</td>\n",
       "      <td>True</td>\n",
       "      <td>True</td>\n",
       "      <td>False</td>\n",
       "      <td>False</td>\n",
       "      <td>True</td>\n",
       "      <td>...</td>\n",
       "      <td>0.0</td>\n",
       "      <td>False</td>\n",
       "      <td>0</td>\n",
       "      <td>1</td>\n",
       "      <td>1</td>\n",
       "      <td>0</td>\n",
       "      <td>1</td>\n",
       "      <td>1.462.558-5</td>\n",
       "      <td>Masculino</td>\n",
       "      <td>Natural</td>\n",
       "    </tr>\n",
       "    <tr>\n",
       "      <th>2</th>\n",
       "      <td>True</td>\n",
       "      <td>True</td>\n",
       "      <td>True</td>\n",
       "      <td>False</td>\n",
       "      <td>False</td>\n",
       "      <td>True</td>\n",
       "      <td>True</td>\n",
       "      <td>False</td>\n",
       "      <td>False</td>\n",
       "      <td>False</td>\n",
       "      <td>...</td>\n",
       "      <td>1.0</td>\n",
       "      <td>False</td>\n",
       "      <td>2</td>\n",
       "      <td>2</td>\n",
       "      <td>2</td>\n",
       "      <td>2</td>\n",
       "      <td>1</td>\n",
       "      <td>10.000.513-1</td>\n",
       "      <td>Masculino</td>\n",
       "      <td>Natural</td>\n",
       "    </tr>\n",
       "    <tr>\n",
       "      <th>3</th>\n",
       "      <td>True</td>\n",
       "      <td>True</td>\n",
       "      <td>True</td>\n",
       "      <td>True</td>\n",
       "      <td>False</td>\n",
       "      <td>True</td>\n",
       "      <td>True</td>\n",
       "      <td>True</td>\n",
       "      <td>True</td>\n",
       "      <td>False</td>\n",
       "      <td>...</td>\n",
       "      <td>0.0</td>\n",
       "      <td>True</td>\n",
       "      <td>2</td>\n",
       "      <td>2</td>\n",
       "      <td>2</td>\n",
       "      <td>0</td>\n",
       "      <td>1</td>\n",
       "      <td>10.000.522-0</td>\n",
       "      <td>Masculino</td>\n",
       "      <td>Natural</td>\n",
       "    </tr>\n",
       "    <tr>\n",
       "      <th>4</th>\n",
       "      <td>True</td>\n",
       "      <td>True</td>\n",
       "      <td>True</td>\n",
       "      <td>False</td>\n",
       "      <td>False</td>\n",
       "      <td>True</td>\n",
       "      <td>True</td>\n",
       "      <td>False</td>\n",
       "      <td>False</td>\n",
       "      <td>False</td>\n",
       "      <td>...</td>\n",
       "      <td>0.0</td>\n",
       "      <td>False</td>\n",
       "      <td>2</td>\n",
       "      <td>2</td>\n",
       "      <td>2</td>\n",
       "      <td>0</td>\n",
       "      <td>1</td>\n",
       "      <td>10.005.853-7</td>\n",
       "      <td>NaN</td>\n",
       "      <td>Natural</td>\n",
       "    </tr>\n",
       "  </tbody>\n",
       "</table>\n",
       "<p>5 rows × 27 columns</p>\n",
       "</div>"
      ],
      "text/plain": [
       "   is_apellido1  is_appelido2  is_celular  is_direccion  is_fnac  is_nombre  \\\n",
       "0          True          True        True         False     True       True   \n",
       "1          True          True        True         False    False       True   \n",
       "2          True          True        True         False    False       True   \n",
       "3          True          True        True          True    False       True   \n",
       "4          True          True        True         False    False       True   \n",
       "\n",
       "   is_nombrecompleto  is_nrofam  is_profesion  is_telefono      ...       \\\n",
       "0               True      False          True         True      ...        \n",
       "1               True      False         False         True      ...        \n",
       "2               True      False         False        False      ...        \n",
       "3               True       True          True        False      ...        \n",
       "4               True      False         False        False      ...        \n",
       "\n",
       "  mean_cot_estu negocio nro_cot_bod  nro_cot_depto  nro_cot_esta  \\\n",
       "0           0.0   False           1              2             1   \n",
       "1           0.0   False           0              1             1   \n",
       "2           1.0   False           2              2             2   \n",
       "3           0.0    True           2              2             2   \n",
       "4           0.0   False           2              2             2   \n",
       "\n",
       "   nro_cot_estu  nro_proyectos            rut       sexo  tipo_cliente  \n",
       "0             0              2  000.000.000-0   Femenino       Natural  \n",
       "1             0              1    1.462.558-5  Masculino       Natural  \n",
       "2             2              1   10.000.513-1  Masculino       Natural  \n",
       "3             0              1   10.000.522-0  Masculino       Natural  \n",
       "4             0              1   10.005.853-7        NaN       Natural  \n",
       "\n",
       "[5 rows x 27 columns]"
      ]
     },
     "execution_count": 53,
     "metadata": {},
     "output_type": "execute_result"
    }
   ],
   "source": [
    "list_cols = [ruts,rut_reg,rut_prov,rut_com,nro_proyectos,nro_cot_bod, nro_cot_depto, nro_cot_esta, nro_cot_estu, mean_cot_bod,\n",
    "             mean_cot_depto,mean_cot_esta,mean_cot_estu, negocio,is_nombre,\n",
    "             is_apellido1,is_appelido2,is_nombrecompleto,is_direccion,is_telefono,\n",
    "             is_celular,is_fnac,max_rango_edad,tipo_cliente,sexo, is_nrofam, is_profesion,rut]\n",
    "list_labels = ['rut','loc_region','loc_provincia','loc_comuna','nro_proyectos','nro_cot_bod', 'nro_cot_depto', 'nro_cot_esta', 'nro_cot_estu', 'mean_cot_bod',\n",
    "             'mean_cot_depto','mean_cot_esta','mean_cot_estu','negocio',\n",
    "            'is_nombre','is_apellido1','is_appelido2','is_nombrecompleto','is_direccion','is_telefono',\n",
    "             'is_celular','is_fnac','max_rango_edad','tipo_cliente','sexo','is_nrofam','is_profesion','rut']\n",
    "\n",
    "zipped = list(zip(list_labels,list_cols))\n",
    "data = dict(zipped)\n",
    "personas = pd.DataFrame(data)\n",
    "print(personas.shape)\n",
    "personas.head()"
   ]
  },
  {
   "cell_type": "code",
   "execution_count": 54,
   "metadata": {},
   "outputs": [
    {
     "data": {
      "text/plain": [
       "Index(['is_apellido1', 'is_appelido2', 'is_celular', 'is_direccion', 'is_fnac',\n",
       "       'is_nombre', 'is_nombrecompleto', 'is_nrofam', 'is_profesion',\n",
       "       'is_telefono', 'loc_comuna', 'loc_provincia', 'loc_region',\n",
       "       'max_rango_edad', 'mean_cot_bod', 'mean_cot_depto', 'mean_cot_esta',\n",
       "       'mean_cot_estu', 'negocio', 'nro_cot_bod', 'nro_cot_depto',\n",
       "       'nro_cot_esta', 'nro_cot_estu', 'nro_proyectos', 'rut', 'sexo',\n",
       "       'tipo_cliente'],\n",
       "      dtype='object')"
      ]
     },
     "execution_count": 54,
     "metadata": {},
     "output_type": "execute_result"
    }
   ],
   "source": [
    "personas.columns"
   ]
  },
  {
   "cell_type": "code",
   "execution_count": 55,
   "metadata": {
    "collapsed": true
   },
   "outputs": [],
   "source": [
    "personas = pd.merge(personas, rut_proyectos, how = 'inner',left_on='rut',right_on='index')\n",
    "personas = personas.drop(['index'],axis=1)"
   ]
  },
  {
   "cell_type": "code",
   "execution_count": 56,
   "metadata": {
    "collapsed": true
   },
   "outputs": [],
   "source": [
    "# personas.columns"
   ]
  },
  {
   "cell_type": "code",
   "execution_count": 57,
   "metadata": {
    "collapsed": true
   },
   "outputs": [],
   "source": [
    "# personas.info()"
   ]
  },
  {
   "cell_type": "code",
   "execution_count": 58,
   "metadata": {
    "collapsed": true
   },
   "outputs": [],
   "source": [
    "# ruts_scrapped.info()"
   ]
  },
  {
   "cell_type": "code",
   "execution_count": 59,
   "metadata": {
    "collapsed": true
   },
   "outputs": [],
   "source": [
    "personas = pd.merge(personas,ruts_scrapped,how='outer',left_on='rut',right_on='RUT')\n"
   ]
  },
  {
   "cell_type": "code",
   "execution_count": 60,
   "metadata": {
    "collapsed": true
   },
   "outputs": [],
   "source": [
    "personas = personas.drop(['Name','Adress','Comuna','RUT'],axis=1)"
   ]
  },
  {
   "cell_type": "code",
   "execution_count": 61,
   "metadata": {
    "collapsed": true
   },
   "outputs": [],
   "source": [
    "# personas.info()"
   ]
  },
  {
   "cell_type": "code",
   "execution_count": 62,
   "metadata": {
    "collapsed": true
   },
   "outputs": [],
   "source": [
    "sb.factorplot(x='sexo', kind='count', data=personas);"
   ]
  },
  {
   "cell_type": "code",
   "execution_count": 63,
   "metadata": {
    "collapsed": true
   },
   "outputs": [],
   "source": [
    "def clean_sex(x,y):\n",
    "#     print(x)\n",
    "    x = str(x)\n",
    "    x = x.replace(' ','')\n",
    "    if x == 'VAR':\n",
    "        return 'Masculino'\n",
    "    elif x == 'MUJ':\n",
    "        return 'Femenino'\n",
    "    else:\n",
    "        return y\n",
    "\n",
    "personas['sexo'] = [clean_sex(x,y) for x,y in zip(personas['Gender'].values,personas['sexo'].values)]"
   ]
  },
  {
   "cell_type": "code",
   "execution_count": 64,
   "metadata": {
    "collapsed": true
   },
   "outputs": [],
   "source": [
    "personas.sexo = personas.sexo.fillna('Sin Información')\n",
    "sb.factorplot(x='sexo', kind='count', data=personas);"
   ]
  },
  {
   "cell_type": "code",
   "execution_count": 65,
   "metadata": {
    "collapsed": true
   },
   "outputs": [],
   "source": [
    "personas = personas.drop(['Gender'],axis=1)"
   ]
  },
  {
   "cell_type": "code",
   "execution_count": 66,
   "metadata": {},
   "outputs": [
    {
     "name": "stdout",
     "output_type": "stream",
     "text": [
      "87\n"
     ]
    }
   ],
   "source": [
    "print(personas.tipo_cliente.isnull().sum())\n",
    "personas.tipo_cliente = personas.tipo_cliente.fillna('Natural')"
   ]
  },
  {
   "cell_type": "markdown",
   "metadata": {},
   "source": [
    "# 5.Format Data"
   ]
  },
  {
   "cell_type": "code",
   "execution_count": 67,
   "metadata": {
    "collapsed": true
   },
   "outputs": [],
   "source": [
    "personas['loc_comuna'] = personas['loc_comuna'].astype('category')\n",
    "personas['loc_provincia'] = personas['loc_provincia'].astype('category')\n",
    "personas['loc_region'] = personas['loc_region'].astype('category')\n",
    "personas['tipo_cliente'] = personas['tipo_cliente'].astype('category')\n",
    "personas['sexo'] = personas['sexo'].astype('category')\n",
    "personas = personas.dropna()"
   ]
  },
  {
   "cell_type": "code",
   "execution_count": 68,
   "metadata": {
    "collapsed": true
   },
   "outputs": [],
   "source": [
    "personas.to_csv('..\\\\..\\\\Datos\\\\personas_cotizacion2.csv')\n",
    "personas.to_excel('..\\\\..\\\\Datos\\\\personas_cotizacion2.xlsx')"
   ]
  },
  {
   "cell_type": "code",
   "execution_count": 69,
   "metadata": {
    "collapsed": true
   },
   "outputs": [],
   "source": [
    "# personas.info()\n",
    "# g = sb.factorplot(x='sexo', col='proyecto', kind='count', data=personas);"
   ]
  }
 ],
 "metadata": {
  "kernelspec": {
   "display_name": "Python 3",
   "language": "python",
   "name": "python3"
  },
  "language_info": {
   "codemirror_mode": {
    "name": "ipython",
    "version": 3
   },
   "file_extension": ".py",
   "mimetype": "text/x-python",
   "name": "python",
   "nbconvert_exporter": "python",
   "pygments_lexer": "ipython3",
   "version": "3.6.3"
  }
 },
 "nbformat": 4,
 "nbformat_minor": 2
}
