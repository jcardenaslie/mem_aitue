{
 "cells": [
  {
   "cell_type": "code",
   "execution_count": 1,
   "metadata": {
    "collapsed": true
   },
   "outputs": [],
   "source": [
    "import pandas as pd\n",
    "import seaborn as sb"
   ]
  },
  {
   "cell_type": "markdown",
   "metadata": {},
   "source": [
    "# 1 Select Data"
   ]
  },
  {
   "cell_type": "code",
   "execution_count": 2,
   "metadata": {
    "collapsed": true
   },
   "outputs": [],
   "source": [
    "cot_all = pd.read_excel(\"..\\\\..\\\\Datos\\\\working\\\\cotizaciones_all.xlsx\")\n",
    "neg_all = pd.read_excel(\"..\\\\..\\\\Datos\\\\working\\\\negocios_all.xlsx\")"
   ]
  },
  {
   "cell_type": "code",
   "execution_count": 3,
   "metadata": {
    "collapsed": true
   },
   "outputs": [],
   "source": [
    "# cot_all.columns"
   ]
  },
  {
   "cell_type": "code",
   "execution_count": 4,
   "metadata": {
    "collapsed": true
   },
   "outputs": [],
   "source": [
    "cot_all.drop(['Remoto','Etapa','Tipo de Medio','Razon Social','Cargo',\n",
    "              'Situacion Laboral','Antiguedad Laboral'],\n",
    "            axis=1,inplace=True)"
   ]
  },
  {
   "cell_type": "code",
   "execution_count": 5,
   "metadata": {
    "collapsed": true
   },
   "outputs": [],
   "source": [
    "cot_mod = cot_all.copy()"
   ]
  },
  {
   "cell_type": "code",
   "execution_count": 6,
   "metadata": {},
   "outputs": [
    {
     "data": {
      "text/plain": [
       "(2336, 35)"
      ]
     },
     "execution_count": 6,
     "metadata": {},
     "output_type": "execute_result"
    }
   ],
   "source": [
    "# ruts de los clientes en negocio\n",
    "neg_ids = neg_all['ID Cotizacion'].unique().tolist()\n",
    "\n",
    "# cot_neg = cot_all.copy()\n",
    "cot_mod['Negocio'] = cot_all['ID'].isin(neg_ids)\n",
    "cot_mod[cot_mod['Negocio'] == True].shape"
   ]
  },
  {
   "cell_type": "markdown",
   "metadata": {},
   "source": [
    "# 2 Clean Data"
   ]
  },
  {
   "cell_type": "code",
   "execution_count": 7,
   "metadata": {
    "collapsed": true
   },
   "outputs": [],
   "source": [
    "# variables a impiar y chequear\n",
    "\n",
    "# Limpiar variable fecha de nacimiento de alguna manera\n",
    "# Limpiar variable Sexo usando rutificador\n",
    "# Limpar variables Direccion usando en lo posible el rutificador y otras fuentes\n",
    "# Llenar mv en decuentos con 0"
   ]
  },
  {
   "cell_type": "markdown",
   "metadata": {},
   "source": [
    "## 2.1 Rut\n",
    "Arreglar Ruts, luego validarlos para aplicar data crawling en rutificador.\n",
    "Si el rut esta mal escrito por ende no es valido, se prosigue a buscar el rut por el nombre y arreglar el rut.\n",
    "Todo esto con el find de obtener el genero, direccion, latiyud y longitud del cotizante"
   ]
  },
  {
   "cell_type": "markdown",
   "metadata": {},
   "source": [
    "### 2.1.1 Funciones\n",
    "Funciones para tratar los ruts"
   ]
  },
  {
   "cell_type": "code",
   "execution_count": 8,
   "metadata": {
    "collapsed": true
   },
   "outputs": [],
   "source": [
    "def format_rut(x):\n",
    "    rut = x.split('-')\n",
    "    l_s = list(rut[0])\n",
    "    r_l = l_s[::-1]\n",
    "    new = []\n",
    "    i = 0\n",
    "    new.append(rut[1])\n",
    "    new.append('-')\n",
    "    for c in r_l:\n",
    "        if i==3:\n",
    "            new.append('.')\n",
    "            i = 0\n",
    "        new.append(c)\n",
    "        i +=1\n",
    "    rut = ''.join(new[::-1])\n",
    "    return rut"
   ]
  },
  {
   "cell_type": "code",
   "execution_count": 9,
   "metadata": {
    "collapsed": true
   },
   "outputs": [],
   "source": [
    "import chile_rut\n",
    "import re\n",
    "\n",
    "def val_rut(x):\n",
    "    x = str(x)\n",
    "    if len(x) == 0:\n",
    "        return False\n",
    "    x = re.sub('[.|!@#$]', '', x)\n",
    "    \n",
    "    if len(x.split('-')) >= 2:\n",
    "        return chile_rut.validate_rut(x)\n",
    "    else:\n",
    "        x = x[:-1] + '-' + x[-1]\n",
    "        return chile_rut.validate_rut(x)\n",
    "\n",
    "def clean_rut(x):\n",
    "    x = str(x)\n",
    "    if len(x) == 0:\n",
    "        return False\n",
    "    x = re.sub('[.|!@#$]', '', x)\n",
    "    \n",
    "    if len(x.split('-')) >= 2:\n",
    "        return x\n",
    "    else:\n",
    "        x = x[:-1] + '-' + x[-1]\n",
    "        return x\n",
    "    \n",
    "cot_mod['Clean Rut'] = [clean_rut(x) for x in cot_mod['RUT'].values]\n",
    "cot_mod['Valid Rut'] = [val_rut(x) for x in cot_mod['Clean Rut'].values]\n"
   ]
  },
  {
   "cell_type": "markdown",
   "metadata": {},
   "source": [
    "### 2.1.1 Insights\n",
    "Revision de los ruts, mal formaciones, ruts malos que tienen negocios, etc"
   ]
  },
  {
   "cell_type": "code",
   "execution_count": 10,
   "metadata": {},
   "outputs": [
    {
     "name": "stdout",
     "output_type": "stream",
     "text": [
      "Ruts que hicieron negocios pero no son validos\n"
     ]
    },
    {
     "data": {
      "text/html": [
       "<div>\n",
       "<style>\n",
       "    .dataframe thead tr:only-child th {\n",
       "        text-align: right;\n",
       "    }\n",
       "\n",
       "    .dataframe thead th {\n",
       "        text-align: left;\n",
       "    }\n",
       "\n",
       "    .dataframe tbody tr th {\n",
       "        vertical-align: top;\n",
       "    }\n",
       "</style>\n",
       "<table border=\"1\" class=\"dataframe\">\n",
       "  <thead>\n",
       "    <tr style=\"text-align: right;\">\n",
       "      <th></th>\n",
       "      <th>Nombre</th>\n",
       "      <th>RUT</th>\n",
       "      <th>Negocio</th>\n",
       "      <th>Valid Rut</th>\n",
       "      <th>Clean Rut</th>\n",
       "    </tr>\n",
       "  </thead>\n",
       "  <tbody>\n",
       "    <tr>\n",
       "      <th>7390</th>\n",
       "      <td>max boris</td>\n",
       "      <td>14030274-6</td>\n",
       "      <td>True</td>\n",
       "      <td>False</td>\n",
       "      <td>14030274-6</td>\n",
       "    </tr>\n",
       "    <tr>\n",
       "      <th>7504</th>\n",
       "      <td>max boris</td>\n",
       "      <td>14030274-6</td>\n",
       "      <td>True</td>\n",
       "      <td>False</td>\n",
       "      <td>14030274-6</td>\n",
       "    </tr>\n",
       "    <tr>\n",
       "      <th>1704</th>\n",
       "      <td>Error</td>\n",
       "      <td>15516786-8</td>\n",
       "      <td>True</td>\n",
       "      <td>False</td>\n",
       "      <td>15516786-8</td>\n",
       "    </tr>\n",
       "  </tbody>\n",
       "</table>\n",
       "</div>"
      ],
      "text/plain": [
       "         Nombre         RUT  Negocio  Valid Rut   Clean Rut\n",
       "7390  max boris  14030274-6     True      False  14030274-6\n",
       "7504  max boris  14030274-6     True      False  14030274-6\n",
       "1704      Error  15516786-8     True      False  15516786-8"
      ]
     },
     "execution_count": 10,
     "metadata": {},
     "output_type": "execute_result"
    }
   ],
   "source": [
    "#Eliminar indice 1704 y arreglar rut max boris\n",
    "print('Ruts que hicieron negocios pero no son validos')\n",
    "cot_mod[(cot_mod['Valid Rut'] == False) & (cot_mod['Negocio'] == True)][['Nombre','RUT','Negocio','Valid Rut','Clean Rut']]"
   ]
  },
  {
   "cell_type": "code",
   "execution_count": 11,
   "metadata": {},
   "outputs": [
    {
     "name": "stdout",
     "output_type": "stream",
     "text": [
      "Ruts catalogados como invalidos, buscar por nombres\n",
      "(69, 37)\n"
     ]
    }
   ],
   "source": [
    "# ver que ruts invalidos pueden ser rescatados o arreglados buscando por sus nombres\n",
    "print(\"Ruts catalogados como invalidos, buscar por nombres\")\n",
    "ruts_iv = cot_mod[(cot_mod['Valid Rut'] == False)] \n",
    "print(ruts_iv.shape)\n",
    "\n",
    "ruts_invalidos = []\n",
    "for group, frame in  ruts_iv.groupby('Clean Rut'):\n",
    "    ruts_invalidos.append(str(group))\n",
    "\n",
    "s_ruts = pd.Series(ruts_invalidos)\n",
    "s_ruts.to_csv(\"..\\\\..\\\\Datos\\\\ruts_invalidos_scrap.csv\")\n",
    "\n",
    "# print(ruts_iv[['Nombre','Apellido 1','RUT','Clean Rut','Valid Rut']].head())"
   ]
  },
  {
   "cell_type": "code",
   "execution_count": 12,
   "metadata": {},
   "outputs": [
    {
     "name": "stdout",
     "output_type": "stream",
     "text": [
      "Ruts arreglados, estaban mal escritos y luego fueron validos.\n",
      "(1, 37)\n",
      "      Nombre Apellido 1 Apellido 2        RUT   Clean Rut  Valid Rut\n",
      "8  Valentina  Fernandez          .  19483862k  19483862-k       True\n"
     ]
    }
   ],
   "source": [
    "print(\"Ruts arreglados, estaban mal escritos y luego fueron validos.\")\n",
    "df = cot_mod[(cot_mod['RUT'] != cot_mod['Clean Rut']) & (cot_mod['Valid Rut'] ==True)]\n",
    "print(df.shape)\n",
    "print(df[['Nombre','Apellido 1','Apellido 2','RUT','Clean Rut','Valid Rut']].head(10))"
   ]
  },
  {
   "cell_type": "code",
   "execution_count": 13,
   "metadata": {},
   "outputs": [
    {
     "name": "stdout",
     "output_type": "stream",
     "text": [
      "Ruts arreglados, estaban mal escritos y luego fueron validos.\n",
      "(6, 37)\n",
      "              Nombre Apellido 1 Apellido 2           RUT   Clean Rut  \\\n",
      "821         Giovanni     Flores          .  16.546.158-2  16546158-2   \n",
      "841         Giovanni     Flores          .  16.546.158-2  16546158-2   \n",
      "3716           Mario     Concha     Concha     156778804  15677880-4   \n",
      "8943    Jose Edgardo    Caamaño   Chamorro       6180535    618053-5   \n",
      "9099   Dinora  Nilda      Bravo      Cerda       9559524    955952-4   \n",
      "9574  Anegelo Felipe      Godoy    Morales    |7321289-5   7321289-5   \n",
      "\n",
      "      Valid Rut  \n",
      "821       False  \n",
      "841       False  \n",
      "3716      False  \n",
      "8943      False  \n",
      "9099      False  \n",
      "9574      False  \n"
     ]
    }
   ],
   "source": [
    "print(\"Ruts arreglados, estaban mal escritos y luego fueron validos.\")\n",
    "df = cot_mod[(cot_mod['RUT'] != cot_mod['Clean Rut']) & (cot_mod['Valid Rut'] ==False)]\n",
    "print(df.shape)\n",
    "print(df[['Nombre','Apellido 1','Apellido 2','RUT','Clean Rut','Valid Rut']].head(10))"
   ]
  },
  {
   "cell_type": "code",
   "execution_count": 14,
   "metadata": {},
   "outputs": [
    {
     "name": "stdout",
     "output_type": "stream",
     "text": [
      "Ruts que estaban bien escritos.\n",
      "(16585, 37)\n"
     ]
    }
   ],
   "source": [
    "print(\"Ruts que estaban bien escritos.\")\n",
    "df = cot_mod[(cot_mod['RUT'] == cot_mod['Clean Rut'])]\n",
    "print(df.shape)"
   ]
  },
  {
   "cell_type": "code",
   "execution_count": 15,
   "metadata": {},
   "outputs": [
    {
     "name": "stdout",
     "output_type": "stream",
     "text": [
      "Ruts que estaban bien escritos y son validos.\n",
      "(16522, 37)\n"
     ]
    }
   ],
   "source": [
    "print(\"Ruts que estaban bien escritos y son validos.\")\n",
    "df = cot_mod[(cot_mod['RUT'] == cot_mod['Clean Rut']) &(cot_mod['Valid Rut'] ==True)]\n",
    "print(df.shape)\n",
    "\n",
    "ruts_validos = []\n",
    "for group, frame in  df.groupby('Clean Rut'):\n",
    "    ruts_validos.append(str(group))\n",
    "\n",
    "# print(ruts_invalidos)\n",
    "ruts_validos= [format_rut(x) for x in ruts_validos]\n",
    "cot_mod['Format Rut'] = [format_rut(x) for x in cot_mod['Clean Rut'].values]\n",
    "s_ruts = pd.Series(ruts_validos)\n",
    "s_ruts.to_csv(\"..\\\\..\\\\ruts_validos_scrap.csv\")"
   ]
  },
  {
   "cell_type": "code",
   "execution_count": 16,
   "metadata": {},
   "outputs": [
    {
     "name": "stdout",
     "output_type": "stream",
     "text": [
      "Ruts que estaban bien escritos pero no son validos, buscar ruts por nombres.\n",
      "(63, 38)\n"
     ]
    }
   ],
   "source": [
    "print(\"Ruts que estaban bien escritos pero no son validos, buscar ruts por nombres.\")\n",
    "df = cot_mod[(cot_mod['RUT'] == cot_mod['Clean Rut']) &(cot_mod['Valid Rut'] ==False)]\n",
    "print(df.shape)"
   ]
  },
  {
   "cell_type": "markdown",
   "metadata": {},
   "source": [
    "### 2.1.1 Ruts Scrapped"
   ]
  },
  {
   "cell_type": "code",
   "execution_count": 17,
   "metadata": {},
   "outputs": [
    {
     "name": "stdout",
     "output_type": "stream",
     "text": [
      "(6012, 5)\n",
      "                                  Name           RUT Gender  \\\n",
      "0   SCHNEIDER BARRERA RICARDO ERNESTO   10.023.348-7   VAR    \n",
      "1     MORALES ESPINOZA CLAUDIO ANDRES   10.020.262-k   VAR    \n",
      "\n",
      "                             Adress               Comuna  \n",
      "0                J  CISTERNAS 1612            LA SERENA   \n",
      "1   ALEJANDRO SEXTO 2787LZO ARENAS    CONCEPCION CENTRO   \n"
     ]
    }
   ],
   "source": [
    "#Ruts y sus datos obtenidos de forma valida\n",
    "ruts_scrapped = pd.read_csv('..\\\\..\\\\DataCrawling\\\\rut\\\\ruts_validos.csv')\n",
    "ruts_scrapped['RUT'] = [x.replace(' ','') for x in ruts_scrapped['RUT'].values]\n",
    "ruts_scrapped['RUT'] = [x.replace('K','k') for x in ruts_scrapped['RUT'].values]\n",
    "print(ruts_scrapped.shape)\n",
    "print(ruts_scrapped.head(2))"
   ]
  },
  {
   "cell_type": "markdown",
   "metadata": {},
   "source": [
    "### 2.1.1 Ruts Scrapped merge a DF principal"
   ]
  },
  {
   "cell_type": "code",
   "execution_count": 18,
   "metadata": {},
   "outputs": [
    {
     "data": {
      "text/plain": [
       "(1869, 14)"
      ]
     },
     "execution_count": 18,
     "metadata": {},
     "output_type": "execute_result"
    }
   ],
   "source": [
    "# merge\n",
    "cot_mod_cp = cot_mod.copy()\n",
    "cot_mod_cp['Format Rut'] = [x.replace('K','k') for x in cot_mod_cp['Format Rut'].values]\n",
    "cot_merge = pd.merge(cot_mod_cp, ruts_scrapped,how='left', left_on='Format Rut', right_on='RUT')\n",
    "# print(cot_merge.columns)\n",
    "columns = ['Format Rut','Valid Rut','Negocio','Nombre','Apellido 1','Name','Gender','Sexo',\n",
    "           'Adress','Direccion', 'Region','Provincia', 'Comuna_x', 'Comuna_y']\n",
    "cot_merge[columns][cot_merge['Sexo'].isnull()].shape"
   ]
  },
  {
   "cell_type": "code",
   "execution_count": 19,
   "metadata": {},
   "outputs": [],
   "source": [
    "\n",
    "ruts_scrapped['RUT'] = [x.replace(' ','') for x in ruts_scrapped['RUT'].values]\n",
    "\n",
    "# df = pd.merge(cot_mod_cp,ruts_scrapped,how='outer',left_on='Format Rut',right_on='RUT')\n",
    "df = pd.merge(cot_mod_cp,ruts_scrapped,how='outer',left_on='Format Rut',right_on='RUT')\n",
    "\n",
    "ruts_scrapped.to_csv('..\\\\..\\\\Datos\\\\working\\\\ruts_scrapped_mod.csv')\n",
    "df.to_excel('..\\\\..\\\\Datos\\\\tmp.xlsx')"
   ]
  },
  {
   "cell_type": "code",
   "execution_count": 20,
   "metadata": {
    "collapsed": true
   },
   "outputs": [],
   "source": [
    "# len(df[df['Negocio'] == True]['RUT'].unique())"
   ]
  },
  {
   "cell_type": "markdown",
   "metadata": {},
   "source": [
    "## 2.2 Profesion"
   ]
  },
  {
   "cell_type": "code",
   "execution_count": 21,
   "metadata": {},
   "outputs": [
    {
     "data": {
      "text/plain": [
       "Index(['ID', 'Fecha Cotizacion', 'Medio', 'Proyecto', 'Productos',\n",
       "       'Presencial', 'Jefe Comercial', 'Ejecutivo Comercial',\n",
       "       'Total Productos', 'Descuentos', 'Valor Final Venta', 'RUT', 'Nombre',\n",
       "       'Apellido 1', 'Apellido 2', 'Nombre Completo', 'Telefono', 'Celular',\n",
       "       'Direccion', 'Region', 'Provincia', 'Comuna', 'Correo Electronico',\n",
       "       'Sexo', 'Estado Civil', 'Rango Edad', 'Fecha Nacimiento',\n",
       "       'Tipo Cliente', 'Giro', 'Nacionalidad', 'N° Grupo Familiar',\n",
       "       'Actividad', 'Empleador', 'Profesión', 'Negocio', 'Clean Rut',\n",
       "       'Valid Rut', 'Format Rut'],\n",
       "      dtype='object')"
      ]
     },
     "execution_count": 21,
     "metadata": {},
     "output_type": "execute_result"
    }
   ],
   "source": [
    "cot_mod.columns"
   ]
  },
  {
   "cell_type": "code",
   "execution_count": 22,
   "metadata": {},
   "outputs": [
    {
     "name": "stdout",
     "output_type": "stream",
     "text": [
      "9226\n",
      "0\n",
      "2251\n",
      "129\n"
     ]
    }
   ],
   "source": [
    "cot_mod['profesion_agg'] = cot_mod['Profesión']\n",
    "print('Null Profesiones ',cot_mod.profesion_agg.isnull().sum())\n",
    "\n",
    "cot_mod['profesion_agg'].fillna('sin informacion',inplace=True)\n",
    "print('Null Profesiones ',cot_mod.profesion_agg.isnull().sum())\n",
    "\n",
    "# cot_mod['profesion_area'] = cot_mod['Profesión']\n",
    "\n",
    "cot_prof = cot_mod[~cot_mod['Profesión'].isnull()]\n",
    "cot_prof =cot_prof[['Profesión','profesion_agg','RUT']]\n",
    "print(len(cot_prof.RUT.unique()))\n",
    "print(len(cot_prof.profesion_agg.unique()))"
   ]
  },
  {
   "cell_type": "code",
   "execution_count": 23,
   "metadata": {},
   "outputs": [],
   "source": [
    "# accented_string = u'Málaga'\n",
    "# # accented_string is of type 'unicode'\n",
    "import unidecode\n",
    "# unaccented_string = unidecode.unidecode(accented_string)\n",
    "# unaccented_string.lower()\n",
    "\n",
    "# cot_mod['profesion_agg'].fillna('sin informacion')\n",
    "# cot_mod['profesion_agg'] = [unidecode.unidecode(x).lower() for x in cot_mod['profesion_agg']]\n",
    "# # cot_mod.profesion_agg = cot_prof.profesion_agg"
   ]
  },
  {
   "cell_type": "code",
   "execution_count": 24,
   "metadata": {},
   "outputs": [
    {
     "data": {
      "text/html": [
       "<div>\n",
       "<style>\n",
       "    .dataframe thead tr:only-child th {\n",
       "        text-align: right;\n",
       "    }\n",
       "\n",
       "    .dataframe thead th {\n",
       "        text-align: left;\n",
       "    }\n",
       "\n",
       "    .dataframe tbody tr th {\n",
       "        vertical-align: top;\n",
       "    }\n",
       "</style>\n",
       "<table border=\"1\" class=\"dataframe\">\n",
       "  <thead>\n",
       "    <tr style=\"text-align: right;\">\n",
       "      <th></th>\n",
       "      <th>Profesión</th>\n",
       "      <th>profesion_agg</th>\n",
       "      <th>RUT</th>\n",
       "    </tr>\n",
       "  </thead>\n",
       "  <tbody>\n",
       "    <tr>\n",
       "      <th>3</th>\n",
       "      <td>Empresario</td>\n",
       "      <td>Empresario</td>\n",
       "      <td>7188659-k</td>\n",
       "    </tr>\n",
       "    <tr>\n",
       "      <th>4</th>\n",
       "      <td>Constructor Civil</td>\n",
       "      <td>Constructor Civil</td>\n",
       "      <td>13377606-0</td>\n",
       "    </tr>\n",
       "    <tr>\n",
       "      <th>9</th>\n",
       "      <td>Traductor e Interprete</td>\n",
       "      <td>Traductor e Interprete</td>\n",
       "      <td>12920930-5</td>\n",
       "    </tr>\n",
       "    <tr>\n",
       "      <th>10</th>\n",
       "      <td>Traductor e Interprete</td>\n",
       "      <td>Traductor e Interprete</td>\n",
       "      <td>12920930-5</td>\n",
       "    </tr>\n",
       "    <tr>\n",
       "      <th>11</th>\n",
       "      <td>Matrona</td>\n",
       "      <td>Matrona</td>\n",
       "      <td>10076241-2</td>\n",
       "    </tr>\n",
       "  </tbody>\n",
       "</table>\n",
       "</div>"
      ],
      "text/plain": [
       "                 Profesión           profesion_agg         RUT\n",
       "3               Empresario              Empresario   7188659-k\n",
       "4        Constructor Civil       Constructor Civil  13377606-0\n",
       "9   Traductor e Interprete  Traductor e Interprete  12920930-5\n",
       "10  Traductor e Interprete  Traductor e Interprete  12920930-5\n",
       "11                 Matrona                 Matrona  10076241-2"
      ]
     },
     "execution_count": 24,
     "metadata": {},
     "output_type": "execute_result"
    }
   ],
   "source": [
    "cot_prof.head()"
   ]
  },
  {
   "cell_type": "code",
   "execution_count": 25,
   "metadata": {
    "collapsed": true
   },
   "outputs": [],
   "source": [
    "# print(len(cot_prof.RUT.unique()))\n",
    "# print(len(cot_prof.agg_profesion.unique()))"
   ]
  },
  {
   "cell_type": "code",
   "execution_count": null,
   "metadata": {
    "collapsed": true
   },
   "outputs": [],
   "source": []
  },
  {
   "cell_type": "code",
   "execution_count": 26,
   "metadata": {
    "collapsed": true
   },
   "outputs": [],
   "source": [
    "# from gensim.models import Word2Vec\n",
    "# import numpy as np\n",
    "# from scipy.spatial.distance import cdist\n",
    "\n",
    "# sentences = [cot_prof.agg_profesion.tolist(), cot_prof.agg_profesion.tolist()]\n",
    "# model = Word2Vec(sentences=sentences, size=10, window=1, iter=2000, min_count=1)\n",
    "\n",
    "# _ = {word: idx for (idx, word) in enumerate(model.wv.index2word)}  # for comfort\n",
    "# # assert len(_) == 6\n",
    "\n",
    "# similarity = 1 - cdist(model.wv.syn0, model.wv.syn0, metric='cosine')\n",
    "# assert similarity.shape == (6, 6)\n",
    "\n",
    "# similarity[_[\"cat\"], _[\"dog\"]]  # similarity between 'cat' and 'dog'"
   ]
  },
  {
   "cell_type": "code",
   "execution_count": 27,
   "metadata": {
    "collapsed": true
   },
   "outputs": [],
   "source": [
    "# sim_pd = pd.DataFrame(data=similarity, index=cot_prof.agg_profesion.unique().tolist(),\n",
    "#                       columns=cot_prof.agg_profesion.unique().tolist())"
   ]
  },
  {
   "cell_type": "code",
   "execution_count": 28,
   "metadata": {
    "collapsed": true
   },
   "outputs": [],
   "source": [
    "# sim_pd"
   ]
  },
  {
   "cell_type": "code",
   "execution_count": 29,
   "metadata": {
    "collapsed": true
   },
   "outputs": [],
   "source": [
    "cot_mod.to_csv(\"..\\\\..\\\\Datos\\\\working\\\\cotizaciones_to_personas.csv\")\n",
    "cot_mod.to_excel(\"..\\\\..\\\\Datos\\\\working\\\\cotizaciones_to_personas.xlsx\")"
   ]
  }
 ],
 "metadata": {
  "kernelspec": {
   "display_name": "Python 3",
   "language": "python",
   "name": "python3"
  },
  "language_info": {
   "codemirror_mode": {
    "name": "ipython",
    "version": 3
   },
   "file_extension": ".py",
   "mimetype": "text/x-python",
   "name": "python",
   "nbconvert_exporter": "python",
   "pygments_lexer": "ipython3",
   "version": "3.6.3"
  }
 },
 "nbformat": 4,
 "nbformat_minor": 2
}
