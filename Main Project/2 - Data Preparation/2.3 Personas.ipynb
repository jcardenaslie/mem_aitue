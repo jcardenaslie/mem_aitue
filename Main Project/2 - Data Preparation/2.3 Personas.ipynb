{
 "cells": [
  {
   "cell_type": "code",
   "execution_count": 9,
   "metadata": {
    "collapsed": true
   },
   "outputs": [],
   "source": [
    "import glob\n",
    "import os\n",
    "import numpy as np\n",
    "import seaborn as sns\n",
    "sb.set()\n",
    "import matplotlib.pyplot as plt\n",
    "%matplotlib inline\n",
    "import pandas as pd"
   ]
  },
  {
   "cell_type": "code",
   "execution_count": 10,
   "metadata": {},
   "outputs": [],
   "source": [
    "personas = pd.read_csv('..\\\\..\\\\Datos\\\\experiments\\\\personas_cotizacion6.csv', encoding = \"ISO-8859-1\")"
   ]
  },
  {
   "cell_type": "code",
   "execution_count": 11,
   "metadata": {},
   "outputs": [
    {
     "data": {
      "text/html": [
       "<div>\n",
       "<style>\n",
       "    .dataframe thead tr:only-child th {\n",
       "        text-align: right;\n",
       "    }\n",
       "\n",
       "    .dataframe thead th {\n",
       "        text-align: left;\n",
       "    }\n",
       "\n",
       "    .dataframe tbody tr th {\n",
       "        vertical-align: top;\n",
       "    }\n",
       "</style>\n",
       "<table border=\"1\" class=\"dataframe\">\n",
       "  <thead>\n",
       "    <tr style=\"text-align: right;\">\n",
       "      <th></th>\n",
       "      <th>Unnamed: 0</th>\n",
       "      <th>is_apellido1</th>\n",
       "      <th>is_appelido2</th>\n",
       "      <th>is_celular</th>\n",
       "      <th>is_direccion</th>\n",
       "      <th>is_fnac</th>\n",
       "      <th>is_nombre</th>\n",
       "      <th>is_nombrecompleto</th>\n",
       "      <th>is_nrofam</th>\n",
       "      <th>is_profesion</th>\n",
       "      <th>...</th>\n",
       "      <th>nro_proyectos</th>\n",
       "      <th>profesion</th>\n",
       "      <th>rut</th>\n",
       "      <th>sexo</th>\n",
       "      <th>tipo_cliente</th>\n",
       "      <th>Altos del Valle</th>\n",
       "      <th>Edificio Urban 1470</th>\n",
       "      <th>San Andres Del Valle</th>\n",
       "      <th>Edificio Mil610</th>\n",
       "      <th>Edificio Junge</th>\n",
       "    </tr>\n",
       "  </thead>\n",
       "  <tbody>\n",
       "    <tr>\n",
       "      <th>0</th>\n",
       "      <td>0</td>\n",
       "      <td>True</td>\n",
       "      <td>False</td>\n",
       "      <td>True</td>\n",
       "      <td>False</td>\n",
       "      <td>True</td>\n",
       "      <td>True</td>\n",
       "      <td>True</td>\n",
       "      <td>False</td>\n",
       "      <td>True</td>\n",
       "      <td>...</td>\n",
       "      <td>2.0</td>\n",
       "      <td>Abogado</td>\n",
       "      <td>000.000.000-0</td>\n",
       "      <td>Femenino</td>\n",
       "      <td>Natural</td>\n",
       "      <td>0.0</td>\n",
       "      <td>1.0</td>\n",
       "      <td>1.0</td>\n",
       "      <td>0.0</td>\n",
       "      <td>0.0</td>\n",
       "    </tr>\n",
       "    <tr>\n",
       "      <th>1</th>\n",
       "      <td>1</td>\n",
       "      <td>True</td>\n",
       "      <td>False</td>\n",
       "      <td>True</td>\n",
       "      <td>False</td>\n",
       "      <td>False</td>\n",
       "      <td>True</td>\n",
       "      <td>True</td>\n",
       "      <td>False</td>\n",
       "      <td>False</td>\n",
       "      <td>...</td>\n",
       "      <td>1.0</td>\n",
       "      <td>sin informacion</td>\n",
       "      <td>1.462.558-5</td>\n",
       "      <td>Masculino</td>\n",
       "      <td>Natural</td>\n",
       "      <td>0.0</td>\n",
       "      <td>0.0</td>\n",
       "      <td>0.0</td>\n",
       "      <td>1.0</td>\n",
       "      <td>0.0</td>\n",
       "    </tr>\n",
       "    <tr>\n",
       "      <th>2</th>\n",
       "      <td>2</td>\n",
       "      <td>True</td>\n",
       "      <td>False</td>\n",
       "      <td>True</td>\n",
       "      <td>False</td>\n",
       "      <td>False</td>\n",
       "      <td>True</td>\n",
       "      <td>True</td>\n",
       "      <td>False</td>\n",
       "      <td>False</td>\n",
       "      <td>...</td>\n",
       "      <td>1.0</td>\n",
       "      <td>sin informacion</td>\n",
       "      <td>10.000.513-1</td>\n",
       "      <td>Masculino</td>\n",
       "      <td>Natural</td>\n",
       "      <td>0.0</td>\n",
       "      <td>0.0</td>\n",
       "      <td>0.0</td>\n",
       "      <td>0.0</td>\n",
       "      <td>2.0</td>\n",
       "    </tr>\n",
       "    <tr>\n",
       "      <th>3</th>\n",
       "      <td>3</td>\n",
       "      <td>True</td>\n",
       "      <td>True</td>\n",
       "      <td>True</td>\n",
       "      <td>True</td>\n",
       "      <td>False</td>\n",
       "      <td>True</td>\n",
       "      <td>True</td>\n",
       "      <td>True</td>\n",
       "      <td>True</td>\n",
       "      <td>...</td>\n",
       "      <td>1.0</td>\n",
       "      <td>Médico</td>\n",
       "      <td>10.000.522-0</td>\n",
       "      <td>Masculino</td>\n",
       "      <td>Natural</td>\n",
       "      <td>0.0</td>\n",
       "      <td>0.0</td>\n",
       "      <td>0.0</td>\n",
       "      <td>0.0</td>\n",
       "      <td>2.0</td>\n",
       "    </tr>\n",
       "    <tr>\n",
       "      <th>4</th>\n",
       "      <td>4</td>\n",
       "      <td>True</td>\n",
       "      <td>True</td>\n",
       "      <td>True</td>\n",
       "      <td>False</td>\n",
       "      <td>False</td>\n",
       "      <td>True</td>\n",
       "      <td>True</td>\n",
       "      <td>False</td>\n",
       "      <td>False</td>\n",
       "      <td>...</td>\n",
       "      <td>1.0</td>\n",
       "      <td>sin informacion</td>\n",
       "      <td>10.005.853-7</td>\n",
       "      <td>Femenino</td>\n",
       "      <td>Natural</td>\n",
       "      <td>0.0</td>\n",
       "      <td>0.0</td>\n",
       "      <td>0.0</td>\n",
       "      <td>0.0</td>\n",
       "      <td>2.0</td>\n",
       "    </tr>\n",
       "  </tbody>\n",
       "</table>\n",
       "<p>5 rows × 36 columns</p>\n",
       "</div>"
      ],
      "text/plain": [
       "   Unnamed: 0  is_apellido1  is_appelido2  is_celular  is_direccion  is_fnac  \\\n",
       "0           0          True         False        True         False     True   \n",
       "1           1          True         False        True         False    False   \n",
       "2           2          True         False        True         False    False   \n",
       "3           3          True          True        True          True    False   \n",
       "4           4          True          True        True         False    False   \n",
       "\n",
       "   is_nombre  is_nombrecompleto  is_nrofam  is_profesion       ...        \\\n",
       "0       True               True      False          True       ...         \n",
       "1       True               True      False         False       ...         \n",
       "2       True               True      False         False       ...         \n",
       "3       True               True       True          True       ...         \n",
       "4       True               True      False         False       ...         \n",
       "\n",
       "   nro_proyectos        profesion            rut       sexo tipo_cliente  \\\n",
       "0            2.0          Abogado  000.000.000-0   Femenino      Natural   \n",
       "1            1.0  sin informacion    1.462.558-5  Masculino      Natural   \n",
       "2            1.0  sin informacion   10.000.513-1  Masculino      Natural   \n",
       "3            1.0           Médico   10.000.522-0  Masculino      Natural   \n",
       "4            1.0  sin informacion   10.005.853-7   Femenino      Natural   \n",
       "\n",
       "   Altos del Valle  Edificio Urban 1470  San Andres Del Valle  \\\n",
       "0              0.0                  1.0                   1.0   \n",
       "1              0.0                  0.0                   0.0   \n",
       "2              0.0                  0.0                   0.0   \n",
       "3              0.0                  0.0                   0.0   \n",
       "4              0.0                  0.0                   0.0   \n",
       "\n",
       "   Edificio Mil610  Edificio Junge  \n",
       "0              0.0             0.0  \n",
       "1              1.0             0.0  \n",
       "2              0.0             2.0  \n",
       "3              0.0             2.0  \n",
       "4              0.0             2.0  \n",
       "\n",
       "[5 rows x 36 columns]"
      ]
     },
     "execution_count": 11,
     "metadata": {},
     "output_type": "execute_result"
    }
   ],
   "source": [
    "personas.head()"
   ]
  },
  {
   "cell_type": "code",
   "execution_count": 12,
   "metadata": {},
   "outputs": [
    {
     "data": {
      "text/plain": [
       "Index(['is_apellido1', 'is_appelido2', 'is_celular', 'is_direccion', 'is_fnac',\n",
       "       'is_nombre', 'is_nombrecompleto', 'is_nrofam', 'is_profesion',\n",
       "       'is_recontacto', 'is_telefono', 'loc_comuna', 'loc_provincia',\n",
       "       'loc_region', 'max_rango_edad', 'mean_cot_bod', 'mean_cot_depto',\n",
       "       'mean_cot_esta', 'mean_cot_estu', 'medio_inicial', 'negocio',\n",
       "       'nro_cot_bod', 'nro_cot_depto', 'nro_cot_esta', 'nro_cot_estu',\n",
       "       'nro_proyectos', 'profesion', 'rut', 'sexo', 'tipo_cliente',\n",
       "       'Altos del Valle', 'Edificio Urban 1470', 'San Andres Del Valle',\n",
       "       'Edificio Mil610', 'Edificio Junge'],\n",
       "      dtype='object')"
      ]
     },
     "execution_count": 12,
     "metadata": {},
     "output_type": "execute_result"
    }
   ],
   "source": [
    "personas.drop(['Unnamed: 0'],axis=1, inplace=True)\n",
    "personas.columns"
   ]
  },
  {
   "cell_type": "code",
   "execution_count": 20,
   "metadata": {},
   "outputs": [
    {
     "data": {
      "image/png": "[encoded data removed]",
      "text/plain": [
       "<matplotlib.figure.Figure at 0x25b91b2b160>"
      ]
     },
     "metadata": {},
     "output_type": "display_data"
    }
   ],
   "source": [
    "df = personas.copy()\n",
    "df.replace(['Sin Información'], np.nan, inplace=True)\n",
    "\n",
    "null_columns = df.columns[df.isnull().any()]\n",
    "nulos = df[null_columns].isnull().sum()\n",
    "\n",
    "#view all columns with its null count\n",
    "null_columns = df.columns\n",
    "null_df =  df.shape[0] - df.count()\n",
    "\n",
    "null_df = pd.DataFrame({'Total':null_df,'Etiquetas':null_columns})\n",
    "\n",
    "columnas = null_columns.copy()\n",
    "filas = [df.shape[0]] * len(null_columns)\n",
    "\n",
    "totales = pd.DataFrame({'Total':filas,'Etiquetas':columnas})\n",
    "\n",
    "f, ax = plt.subplots(figsize=(12, 8))\n",
    "\n",
    "sb.set_color_codes(\"pastel\")\n",
    "sb.barplot(data=totales.sort_values(by='Total',ascending=False), x='Total', y='Etiquetas',color=\"b\",label=\"Total Filas\")\n",
    "\n",
    "sb.set_color_codes(\"muted\")\n",
    "sb.barplot(data=null_df.sort_values(by='Total',ascending=False), x='Total', y='Etiquetas',color=\"b\",label=\"Total Nulos\")\n",
    "\n",
    "ax.legend(ncol=2, loc=\"lower right\", frameon=True)\n",
    "ax.set( ylabel=\"Atributos\", xlabel=\"Valores vs Total Filas\")\n",
    "# sb.despine(left=True, bottom=True)\n",
    "f.savefig(\"..\\\\results\\\\cot_all_attributes_clean.png\")"
   ]
  },
  {
   "cell_type": "code",
   "execution_count": 14,
   "metadata": {},
   "outputs": [
    {
     "data": {
      "text/plain": [
       "<matplotlib.axes._subplots.AxesSubplot at 0x25b91ac6048>"
      ]
     },
     "execution_count": 14,
     "metadata": {},
     "output_type": "execute_result"
    },
    {
     "data": {
      "image/png": "[encoded data removed]",
      "text/plain": [
       "<matplotlib.figure.Figure at 0x25b93bcab38>"
      ]
     },
     "metadata": {},
     "output_type": "display_data"
    }
   ],
   "source": [
    "# sns.countplot(x=\"sexo\",kind=\"bar\", data=personas);\n",
    "sns.countplot(x=\"sexo\", data=personas)"
   ]
  },
  {
   "cell_type": "code",
   "execution_count": 25,
   "metadata": {},
   "outputs": [
    {
     "name": "stdout",
     "output_type": "stream",
     "text": [
      "['10.281.990-K' '11.495.487-K' '11.678.193-K' '11.678.839-K'\n",
      " '11.899.423-K' '11.901.896-K' '11.902.644-K' '12.180.641-K'\n",
      " '12.302.222-K' '12.329.033-K' '12.554.553-K' '12.589.268-K'\n",
      " '12.796.159-K' '12.917.398-K' '13.103.909-4' '13.133.359-6'\n",
      " '13.137.819-K' '13.145.693-K' '13.311.341-K' '13.325.708-K'\n",
      " '13.390.655-K' '13.413.569-9' '13.605.449-K' '13.724.355-5'\n",
      " '13.724.922-7' '13.725.192-2' '13.725.533-2' '13.725.607-k'\n",
      " '13.818.692-K' '13.966.331-1' '14.060.164-4' '14.072.047-K'\n",
      " '14.202.716-K' '14.273.401-K' '14.297.276-K' '14.359.960-5'\n",
      " '14.404.410-K' '14.549.530-K' '14.616.529-K' '15.157.808-K'\n",
      " '15.591.825-K' '15.646.709-K' '15.677.880-4' '15.753.102-7'\n",
      " '15.781.110-K' '15.855.369-9' '15.916.611-8' '15.999.189-6'\n",
      " '16.011.097-K' '16.036.374-0' '16.038.123-K' '16.224.678-K'\n",
      " '16.282.533-K' '16.460.747-K' '16.598.269-K' '16.607.908-K'\n",
      " '16.762.139-9' '16.764.497-K' '17.043.854-K' '17.159.006-K'\n",
      " '17.196.032-0' '17.199.294-K' '17.206.244-1' '17.321.951-6'\n",
      " '17.345.290-K' '17.346.561-1' '17.417.041-K' '17.465.607-K'\n",
      " '17.540.221-9' '17.613.240-K' '17.616.431-K' '17.677.360-K'\n",
      " '17.809.923-K' '17.897.467-K' '18.451.379-K' '18.807.250-K'\n",
      " '18.813.338-K' '18.821.021-K' '18.911.351-K' '22.949.606-7'\n",
      " '24.063.016-8' '24.300.836-0' '24.401.136-5' '24.639.188-2'\n",
      " '24.832.760-k' '25.186.850-6' '25.549.884-3' '25.803.842-8'\n",
      " '25.870.131-3' '25.976.885-3' '4.379.650-4' '5.999.297-K' '6.670.677-K'\n",
      " '618.053-5' '7.321.289-5' '7.878.153-K' '76.000.742-0' '76.009.473-0'\n",
      " '76.087.224-5' '76.104.261-0' '76.106.119-4' '76.194.872-5'\n",
      " '76.224.144-7' '76.233.427-5' '76.235.401-2' '76.276.212-9'\n",
      " '76.280.942-7' '76.320.998-9' '76.412.413-8' '76.435.700-0'\n",
      " '76.516.199-1' '76.517.824-k' '76.611.179-3' '76.631.980-7'\n",
      " '77.042.340-6' '77.234.300-0' '78.383.710-2' '78.484.900-7'\n",
      " '78.640.540-8' '8.272.869-5' '8.372.739-K' '8.495.983-3' '8.739.036-9'\n",
      " '9.041.237-K' '9.464.657-K' '9.822.081-K' '9.822.596-K' '91.860.000-0'\n",
      " '955.952-4' '99.590.680-5']\n"
     ]
    }
   ],
   "source": [
    "pp = personas[personas.sexo == 'Sin Información']\n",
    "print(pp['rut'].values)"
   ]
  },
  {
   "cell_type": "code",
   "execution_count": 18,
   "metadata": {},
   "outputs": [
    {
     "data": {
      "text/plain": [
       "<matplotlib.axes._subplots.AxesSubplot at 0x25b93d7da58>"
      ]
     },
     "execution_count": 18,
     "metadata": {},
     "output_type": "execute_result"
    },
    {
     "data": {
      "image/png": "[encoded data removed]",
      "text/plain": [
       "<matplotlib.figure.Figure at 0x25b93d2f160>"
      ]
     },
     "metadata": {},
     "output_type": "display_data"
    }
   ],
   "source": [
    "sns.countplot(x=\"is_appelido2\", data=personas)"
   ]
  },
  {
   "cell_type": "code",
   "execution_count": 19,
   "metadata": {},
   "outputs": [
    {
     "data": {
      "text/plain": [
       "14"
      ]
     },
     "execution_count": 19,
     "metadata": {},
     "output_type": "execute_result"
    }
   ],
   "source": [
    "personas['Edificio Urban 1470'].nunique()"
   ]
  },
  {
   "cell_type": "code",
   "execution_count": 30,
   "metadata": {},
   "outputs": [
    {
     "name": "stdout",
     "output_type": "stream",
     "text": [
      "6184\n"
     ]
    },
    {
     "data": {
      "text/plain": [
       "<matplotlib.axes._subplots.AxesSubplot at 0x25b9400b0f0>"
      ]
     },
     "execution_count": 30,
     "metadata": {},
     "output_type": "execute_result"
    },
    {
     "data": {
      "image/png": "[encoded data removed]",
      "text/plain": [
       "<matplotlib.figure.Figure at 0x25b943d3710>"
      ]
     },
     "metadata": {},
     "output_type": "display_data"
    }
   ],
   "source": [
    "print(personas['Edificio Urban 1470'].replace('Sin Información', np.nan).isnull().count())\n",
    "sns.countplot(x=\"max_rango_edad\", data=personas)"
   ]
  },
  {
   "cell_type": "code",
   "execution_count": 36,
   "metadata": {},
   "outputs": [
    {
     "name": "stdout",
     "output_type": "stream",
     "text": [
      "44\n",
      "['10.117.065-3', '10.658.228-6', '12.207.150-0', '12.844.757-k', '13.103.909-4', '13.133.359-6', '13.413.569-9', '13.508.090-4', '13.941.422-8', '13.966.331-1', '14.030.274-6', '14.060.164-4', '14.353.185-1', '14.359.960-5', '15.516.786-8', '15.677.880-4', '15.753.102-7', '15.779.609-6', '15.780.469-K', '15.855.369-9', '15.916.611-8', '15.999.189-6', '16.036.374-0', '16.134.407-7', '16.546.158-2', '16.620.489-6', '16.762.139-9', '17.206.244-1', '17.321.951-6', '17.346.561-1', '17.540.221-9', '17.896.434-2', '19.457.385-6', '22.949.606-7', '4.379.650-4', '5.663.292-k', '6.545.903-0', '618.053-5', '7.321.289-5', '7.879.943-1', '8.272.869-5', '8.495.983-3', '8.739.036-9', '955.952-4']\n"
     ]
    }
   ],
   "source": [
    "import chile_rut\n",
    "import re\n",
    "\n",
    "def val_rut(x):\n",
    "    x = str(x)\n",
    "    if len(x) == 0:\n",
    "        return False\n",
    "    x = re.sub('[.|!@#$]', '', x)\n",
    "    \n",
    "    if len(x.split('-')) >= 2:\n",
    "        return chile_rut.validate_rut(x)\n",
    "    else:\n",
    "        x = x[:-1] + '-' + x[-1]\n",
    "        return chile_rut.validate_rut(x)\n",
    "\n",
    "def clean_rut(x):\n",
    "    x = str(x)\n",
    "    if len(x) == 0:\n",
    "        return False\n",
    "    x = re.sub('[.|!@#$]', '', x)\n",
    "    \n",
    "    if len(x.split('-')) >= 2:\n",
    "        return x\n",
    "    else:\n",
    "        x = x[:-1] + '-' + x[-1]\n",
    "        return x\n",
    "    \n",
    "# cot_mod['Clean Rut'] = [clean_rut(x) for x in cot_mod['RUT'].values]\n",
    "personas['Valid Rut'] = [val_rut(x) for x in personas['rut'].values]\n",
    "p_rut_invalid = personas[personas['Valid Rut'] == False]\n",
    "print(p_rut_invalid.shape[0])\n",
    "print(p_rut_invalid['rut'].tolist())"
   ]
  },
  {
   "cell_type": "code",
   "execution_count": null,
   "metadata": {
    "collapsed": true
   },
   "outputs": [],
   "source": []
  }
 ],
 "metadata": {
  "kernelspec": {
   "display_name": "Python 3",
   "language": "python",
   "name": "python3"
  },
  "language_info": {
   "codemirror_mode": {
    "name": "ipython",
    "version": 3
   },
   "file_extension": ".py",
   "mimetype": "text/x-python",
   "name": "python",
   "nbconvert_exporter": "python",
   "pygments_lexer": "ipython3",
   "version": "3.6.3"
  }
 },
 "nbformat": 4,
 "nbformat_minor": 2
}
