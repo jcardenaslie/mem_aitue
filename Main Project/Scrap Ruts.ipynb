{
 "cells": [
  {
   "cell_type": "code",
   "execution_count": 1,
   "metadata": {},
   "outputs": [],
   "source": [
    "import pandas as pd"
   ]
  },
  {
   "cell_type": "code",
   "execution_count": 2,
   "metadata": {},
   "outputs": [
    {
     "name": "stdout",
     "output_type": "stream",
     "text": [
      "not set\n"
     ]
    }
   ],
   "source": [
    "import os\n",
    "if os.environ.get(\"AITUEDATA\"):\n",
    "    print('set')\n",
    "    data_directory = os.environ['AITUEDATA']\n",
    "else:\n",
    "    print('not set')\n",
    "    #Eusebio\n",
    "#     data_directory = \"C:/Users/joaquin/Desktop/mem_aitue/Datos/\"\n",
    "    #Mini-Eusebio\n",
    "#     data_directory = \"C:/Users/jquin/Desktop/Memoria de Titulo/Aitue/Datos/\"\n",
    "    #PC-Mem\n",
    "    data_directory = \"C:/Users/Joaquin/Desktop/mem_aitue/Datos/\""
   ]
  },
  {
   "cell_type": "code",
   "execution_count": 3,
   "metadata": {},
   "outputs": [],
   "source": [
    "cot_all = pd.read_excel(data_directory+\"cotizaciones_all.xlsx\")"
   ]
  },
  {
   "cell_type": "code",
   "execution_count": null,
   "metadata": {},
   "outputs": [],
   "source": []
  }
 ],
 "metadata": {
  "kernelspec": {
   "display_name": "Python 3",
   "language": "python",
   "name": "python3"
  },
  "language_info": {
   "codemirror_mode": {
    "name": "ipython",
    "version": 3
   },
   "file_extension": ".py",
   "mimetype": "text/x-python",
   "name": "python",
   "nbconvert_exporter": "python",
   "pygments_lexer": "ipython3",
   "version": "3.6.4"
  }
 },
 "nbformat": 4,
 "nbformat_minor": 2
}
